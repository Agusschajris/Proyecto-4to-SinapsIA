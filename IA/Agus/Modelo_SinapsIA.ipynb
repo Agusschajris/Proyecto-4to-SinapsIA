{
 "cells": [
  {
   "cell_type": "markdown",
   "metadata": {
    "id": "TijoZg4BXl1y"
   },
   "source": [
    "**Modelo Sinapsia**"
   ]
  },
  {
   "cell_type": "code",
   "execution_count": 2,
   "metadata": {
    "id": "VApuyieewhEo"
   },
   "outputs": [
    {
     "data": {
      "text/plain": [
       "'\\nInstall:\\n- pandas\\n- numpy\\n- ssqueezepy\\n- mne\\n- scipy\\n- sklearn\\n- tensorflow\\n'"
      ]
     },
     "execution_count": 2,
     "metadata": {},
     "output_type": "execute_result"
    }
   ],
   "source": [
    "'''\n",
    "Install:\n",
    "- pandas\n",
    "- numpy\n",
    "- ssqueezepy\n",
    "- mne\n",
    "- scipy\n",
    "- sklearn\n",
    "- tensorflow\n",
    "'''"
   ]
  },
  {
   "cell_type": "code",
   "execution_count": 3,
   "metadata": {
    "id": "2-iyHX6BYNps"
   },
   "outputs": [],
   "source": [
    "import pandas as pd\n",
    "import glob\n",
    "import ssqueezepy #para convertir la señal en imagen\n",
    "from ssqueezepy import cwt\n",
    "from ssqueezepy.visuals import plot, imshow\n",
    "import os\n",
    "import mne #eeg analysis library\n",
    "import scipy.io\n",
    "#import torch.nn as nn\n",
    "#import torch\n",
    "import numpy as np\n",
    "import re\n",
    "from sklearn.model_selection import train_test_split\n",
    "import tensorflow as tf\n",
    "from tensorflow.keras import layers, models"
   ]
  },
  {
   "cell_type": "code",
   "execution_count": null,
   "metadata": {
    "colab": {
     "base_uri": "https://localhost:8080/"
    },
    "id": "vPq2ev1blT96",
    "outputId": "55070294-2174-4d2d-d786-62f26763998e"
   },
   "outputs": [
    {
     "name": "stdout",
     "output_type": "stream",
     "text": [
      "Drive already mounted at /content/drive; to attempt to forcibly remount, call drive.mount(\"/content/drive\", force_remount=True).\n"
     ]
    }
   ],
   "source": [
    "#from google.colab import drive\n",
    "#drive.mount('/content/drive')"
   ]
  },
  {
   "cell_type": "markdown",
   "metadata": {
    "id": "j4rpiWwTXqTL"
   },
   "source": [
    "**Ordenando el dataset (no correr)**"
   ]
  },
  {
   "cell_type": "markdown",
   "metadata": {
    "id": "pQ-tAtV7YZ3M"
   },
   "source": [
    "----------> Juntamos los archivos"
   ]
  },
  {
   "cell_type": "code",
   "execution_count": null,
   "metadata": {
    "id": "sixfpxnVhk6N"
   },
   "outputs": [],
   "source": [
    "#subo el archivo con las ids y diagnósticos (y)\n",
    "metadata = pd.read_csv('metadata_guineabissau.csv')\n",
    "metadata.head(5)"
   ]
  },
  {
   "cell_type": "code",
   "execution_count": null,
   "metadata": {
    "id": "qr0JmSUUjcGC"
   },
   "outputs": [],
   "source": [
    "metadata = metadata.drop('Remarks', axis=1)\n",
    "metadata = metadata.drop('recordedPeriod', axis=1)\n",
    "metadata = metadata.drop('startTime', axis=1)\n",
    "metadata = metadata.drop('Eyes.condition', axis=1)\n",
    "\n",
    "metadata.head(5)"
   ]
  },
  {
   "cell_type": "code",
   "execution_count": null,
   "metadata": {
    "id": "Bu1nAwkzYgX6"
   },
   "outputs": [],
   "source": [
    "path = r'/content/eeg_data'\n",
    "all_files = glob.glob(path + \"/*.csv\")\n",
    "\n",
    "all_files = sorted(all_files)\n",
    "\n",
    "\n",
    "def add_id_y (all_files, metadata):\n",
    "  index = 0\n",
    "\n",
    "  modified_dataframes_list = []\n",
    "  non_eeg_columns = []\n",
    "\n",
    "  for filename in all_files:\n",
    "    df = pd.read_csv(filename, index_col=None, header=0)\n",
    "    dataframe = df.iloc[:, 1:15].copy()\n",
    "    dataframe['subject_id'] = metadata['subject.id'][index]\n",
    "    dataframe['y'] = metadata['Group'][index]\n",
    "    index += 1\n",
    "    modified_dataframes_list.append(dataframe)\n",
    "\n",
    "  return modified_dataframes_list\n",
    "\n",
    "'''def join_csv (modified_dataframes_list):\n",
    "  dataframes_list = []\n",
    "\n",
    "  for filename in modified_dataframes_list:\n",
    "    dataframe = pd.read_csv(filename, index_col=None, header=0)\n",
    "    dataframes_list.append(dataframe)\n",
    "\n",
    "  all_dataframes = pd.concat(dataframes_list, axis=0, ignore_index=True)\n",
    "  all_dataframes.to_csv('eeg_data.csv', index=False)\n",
    "\n",
    "  return all_dataframes'''"
   ]
  },
  {
   "cell_type": "code",
   "execution_count": null,
   "metadata": {
    "id": "R7PSeTynovNi"
   },
   "outputs": [],
   "source": [
    "modified_dataframes = add_id_y(all_files, metadata)\n",
    "\n",
    "dataframes_list = []\n",
    "\n",
    "for dataframe in modified_dataframes:\n",
    "  dataframes_list.append(dataframe)\n",
    "\n",
    "all_dataframes = pd.concat(dataframes_list, axis=0, ignore_index=True)\n",
    "all_dataframes.to_csv('eeg_data.csv', index=False)"
   ]
  },
  {
   "cell_type": "code",
   "execution_count": null,
   "metadata": {
    "id": "jI5iQfDnber2"
   },
   "outputs": [],
   "source": [
    "all_dataframes"
   ]
  },
  {
   "cell_type": "markdown",
   "metadata": {
    "id": "QzpQG8cW3fvX"
   },
   "source": [
    "**---------------Procesando el dataset para el modelo (formato mne)---------------**"
   ]
  },
  {
   "cell_type": "markdown",
   "metadata": {
    "id": "FqiPCyZQtaQ_"
   },
   "source": [
    "**Colmna y**\n",
    "\n",
    "Epilepsia == 1\n",
    "\n",
    "Normal == 0"
   ]
  },
  {
   "cell_type": "code",
   "execution_count": 7,
   "metadata": {
    "tags": []
   },
   "outputs": [
    {
     "data": {
      "text/html": [
       "<div>\n",
       "<style scoped>\n",
       "    .dataframe tbody tr th:only-of-type {\n",
       "        vertical-align: middle;\n",
       "    }\n",
       "\n",
       "    .dataframe tbody tr th {\n",
       "        vertical-align: top;\n",
       "    }\n",
       "\n",
       "    .dataframe thead th {\n",
       "        text-align: right;\n",
       "    }\n",
       "</style>\n",
       "<table border=\"1\" class=\"dataframe\">\n",
       "  <thead>\n",
       "    <tr style=\"text-align: right;\">\n",
       "      <th></th>\n",
       "      <th>AF3</th>\n",
       "      <th>AF4</th>\n",
       "      <th>F3</th>\n",
       "      <th>F4</th>\n",
       "      <th>F7</th>\n",
       "      <th>F8</th>\n",
       "      <th>FC5</th>\n",
       "      <th>FC6</th>\n",
       "      <th>O1</th>\n",
       "      <th>O2</th>\n",
       "      <th>P7</th>\n",
       "      <th>P8</th>\n",
       "      <th>T7</th>\n",
       "      <th>T8</th>\n",
       "      <th>subject_id</th>\n",
       "      <th>y</th>\n",
       "    </tr>\n",
       "  </thead>\n",
       "  <tbody>\n",
       "    <tr>\n",
       "      <th>0</th>\n",
       "      <td>4426.153846</td>\n",
       "      <td>3994.871795</td>\n",
       "      <td>4408.205128</td>\n",
       "      <td>3847.692308</td>\n",
       "      <td>4690.256410</td>\n",
       "      <td>3895.897436</td>\n",
       "      <td>4702.051282</td>\n",
       "      <td>3914.871795</td>\n",
       "      <td>4049.743590</td>\n",
       "      <td>4297.948718</td>\n",
       "      <td>4186.153846</td>\n",
       "      <td>4132.820513</td>\n",
       "      <td>4106.666667</td>\n",
       "      <td>4076.410256</td>\n",
       "      <td>1</td>\n",
       "      <td>Epilepsy</td>\n",
       "    </tr>\n",
       "    <tr>\n",
       "      <th>1</th>\n",
       "      <td>4420.512821</td>\n",
       "      <td>3986.666667</td>\n",
       "      <td>4394.358974</td>\n",
       "      <td>3836.923077</td>\n",
       "      <td>4678.461538</td>\n",
       "      <td>3886.666667</td>\n",
       "      <td>4696.410256</td>\n",
       "      <td>3910.769231</td>\n",
       "      <td>4054.358974</td>\n",
       "      <td>4295.897436</td>\n",
       "      <td>4187.179487</td>\n",
       "      <td>4126.666667</td>\n",
       "      <td>4105.641026</td>\n",
       "      <td>4065.128205</td>\n",
       "      <td>1</td>\n",
       "      <td>Epilepsy</td>\n",
       "    </tr>\n",
       "    <tr>\n",
       "      <th>2</th>\n",
       "      <td>4413.846154</td>\n",
       "      <td>3986.153846</td>\n",
       "      <td>4386.666667</td>\n",
       "      <td>3831.794872</td>\n",
       "      <td>4654.871795</td>\n",
       "      <td>3881.025641</td>\n",
       "      <td>4690.769231</td>\n",
       "      <td>3908.205128</td>\n",
       "      <td>4066.666667</td>\n",
       "      <td>4301.025641</td>\n",
       "      <td>4188.205128</td>\n",
       "      <td>4123.076923</td>\n",
       "      <td>4103.076923</td>\n",
       "      <td>4063.589744</td>\n",
       "      <td>1</td>\n",
       "      <td>Epilepsy</td>\n",
       "    </tr>\n",
       "    <tr>\n",
       "      <th>3</th>\n",
       "      <td>4407.692308</td>\n",
       "      <td>3984.615385</td>\n",
       "      <td>4384.102564</td>\n",
       "      <td>3832.820513</td>\n",
       "      <td>4644.615385</td>\n",
       "      <td>3883.076923</td>\n",
       "      <td>4686.153846</td>\n",
       "      <td>3910.256410</td>\n",
       "      <td>4063.076923</td>\n",
       "      <td>4298.974359</td>\n",
       "      <td>4184.615385</td>\n",
       "      <td>4127.179487</td>\n",
       "      <td>4095.384615</td>\n",
       "      <td>4071.282051</td>\n",
       "      <td>1</td>\n",
       "      <td>Epilepsy</td>\n",
       "    </tr>\n",
       "    <tr>\n",
       "      <th>4</th>\n",
       "      <td>4407.179487</td>\n",
       "      <td>3978.974359</td>\n",
       "      <td>4382.564103</td>\n",
       "      <td>3832.307692</td>\n",
       "      <td>4647.692308</td>\n",
       "      <td>3878.974359</td>\n",
       "      <td>4685.641026</td>\n",
       "      <td>3903.076923</td>\n",
       "      <td>4057.948718</td>\n",
       "      <td>4295.384615</td>\n",
       "      <td>4182.564103</td>\n",
       "      <td>4128.205128</td>\n",
       "      <td>4090.769231</td>\n",
       "      <td>4064.102564</td>\n",
       "      <td>1</td>\n",
       "      <td>Epilepsy</td>\n",
       "    </tr>\n",
       "    <tr>\n",
       "      <th>...</th>\n",
       "      <td>...</td>\n",
       "      <td>...</td>\n",
       "      <td>...</td>\n",
       "      <td>...</td>\n",
       "      <td>...</td>\n",
       "      <td>...</td>\n",
       "      <td>...</td>\n",
       "      <td>...</td>\n",
       "      <td>...</td>\n",
       "      <td>...</td>\n",
       "      <td>...</td>\n",
       "      <td>...</td>\n",
       "      <td>...</td>\n",
       "      <td>...</td>\n",
       "      <td>...</td>\n",
       "      <td>...</td>\n",
       "    </tr>\n",
       "    <tr>\n",
       "      <th>3850363</th>\n",
       "      <td>4211.794872</td>\n",
       "      <td>3862.051282</td>\n",
       "      <td>4139.487179</td>\n",
       "      <td>3670.256410</td>\n",
       "      <td>4327.179487</td>\n",
       "      <td>3662.564103</td>\n",
       "      <td>4557.435897</td>\n",
       "      <td>3894.358974</td>\n",
       "      <td>4238.974359</td>\n",
       "      <td>4189.743590</td>\n",
       "      <td>4010.256410</td>\n",
       "      <td>4126.153846</td>\n",
       "      <td>3830.769231</td>\n",
       "      <td>3883.589744</td>\n",
       "      <td>97</td>\n",
       "      <td>Control</td>\n",
       "    </tr>\n",
       "    <tr>\n",
       "      <th>3850364</th>\n",
       "      <td>4209.743590</td>\n",
       "      <td>3861.538462</td>\n",
       "      <td>4138.974359</td>\n",
       "      <td>3667.179487</td>\n",
       "      <td>4323.589744</td>\n",
       "      <td>3662.051282</td>\n",
       "      <td>4556.410256</td>\n",
       "      <td>3893.846154</td>\n",
       "      <td>4232.820513</td>\n",
       "      <td>4188.205128</td>\n",
       "      <td>4005.641026</td>\n",
       "      <td>4125.128205</td>\n",
       "      <td>3829.230769</td>\n",
       "      <td>3878.974359</td>\n",
       "      <td>97</td>\n",
       "      <td>Control</td>\n",
       "    </tr>\n",
       "    <tr>\n",
       "      <th>3850365</th>\n",
       "      <td>4211.282051</td>\n",
       "      <td>3862.564103</td>\n",
       "      <td>4136.410256</td>\n",
       "      <td>3671.282051</td>\n",
       "      <td>4324.102564</td>\n",
       "      <td>3664.102564</td>\n",
       "      <td>4556.923077</td>\n",
       "      <td>3896.923077</td>\n",
       "      <td>4235.384615</td>\n",
       "      <td>4185.128205</td>\n",
       "      <td>4005.128205</td>\n",
       "      <td>4123.076923</td>\n",
       "      <td>3829.230769</td>\n",
       "      <td>3882.051282</td>\n",
       "      <td>97</td>\n",
       "      <td>Control</td>\n",
       "    </tr>\n",
       "    <tr>\n",
       "      <th>3850366</th>\n",
       "      <td>4217.435897</td>\n",
       "      <td>3866.666667</td>\n",
       "      <td>4140.000000</td>\n",
       "      <td>3676.923077</td>\n",
       "      <td>4326.153846</td>\n",
       "      <td>3668.205128</td>\n",
       "      <td>4558.974359</td>\n",
       "      <td>3901.025641</td>\n",
       "      <td>4234.871795</td>\n",
       "      <td>4184.615385</td>\n",
       "      <td>4010.256410</td>\n",
       "      <td>4122.564103</td>\n",
       "      <td>3829.230769</td>\n",
       "      <td>3890.769231</td>\n",
       "      <td>97</td>\n",
       "      <td>Control</td>\n",
       "    </tr>\n",
       "    <tr>\n",
       "      <th>3850367</th>\n",
       "      <td>4217.948718</td>\n",
       "      <td>3866.153846</td>\n",
       "      <td>4141.538462</td>\n",
       "      <td>3672.820513</td>\n",
       "      <td>4326.153846</td>\n",
       "      <td>3668.717949</td>\n",
       "      <td>4558.974359</td>\n",
       "      <td>3900.512821</td>\n",
       "      <td>4234.358974</td>\n",
       "      <td>4185.128205</td>\n",
       "      <td>4016.410256</td>\n",
       "      <td>4123.589744</td>\n",
       "      <td>3830.256410</td>\n",
       "      <td>3892.820513</td>\n",
       "      <td>97</td>\n",
       "      <td>Control</td>\n",
       "    </tr>\n",
       "  </tbody>\n",
       "</table>\n",
       "<p>3850368 rows × 16 columns</p>\n",
       "</div>"
      ],
      "text/plain": [
       "                 AF3          AF4           F3           F4           F7  \\\n",
       "0        4426.153846  3994.871795  4408.205128  3847.692308  4690.256410   \n",
       "1        4420.512821  3986.666667  4394.358974  3836.923077  4678.461538   \n",
       "2        4413.846154  3986.153846  4386.666667  3831.794872  4654.871795   \n",
       "3        4407.692308  3984.615385  4384.102564  3832.820513  4644.615385   \n",
       "4        4407.179487  3978.974359  4382.564103  3832.307692  4647.692308   \n",
       "...              ...          ...          ...          ...          ...   \n",
       "3850363  4211.794872  3862.051282  4139.487179  3670.256410  4327.179487   \n",
       "3850364  4209.743590  3861.538462  4138.974359  3667.179487  4323.589744   \n",
       "3850365  4211.282051  3862.564103  4136.410256  3671.282051  4324.102564   \n",
       "3850366  4217.435897  3866.666667  4140.000000  3676.923077  4326.153846   \n",
       "3850367  4217.948718  3866.153846  4141.538462  3672.820513  4326.153846   \n",
       "\n",
       "                  F8          FC5          FC6           O1           O2  \\\n",
       "0        3895.897436  4702.051282  3914.871795  4049.743590  4297.948718   \n",
       "1        3886.666667  4696.410256  3910.769231  4054.358974  4295.897436   \n",
       "2        3881.025641  4690.769231  3908.205128  4066.666667  4301.025641   \n",
       "3        3883.076923  4686.153846  3910.256410  4063.076923  4298.974359   \n",
       "4        3878.974359  4685.641026  3903.076923  4057.948718  4295.384615   \n",
       "...              ...          ...          ...          ...          ...   \n",
       "3850363  3662.564103  4557.435897  3894.358974  4238.974359  4189.743590   \n",
       "3850364  3662.051282  4556.410256  3893.846154  4232.820513  4188.205128   \n",
       "3850365  3664.102564  4556.923077  3896.923077  4235.384615  4185.128205   \n",
       "3850366  3668.205128  4558.974359  3901.025641  4234.871795  4184.615385   \n",
       "3850367  3668.717949  4558.974359  3900.512821  4234.358974  4185.128205   \n",
       "\n",
       "                  P7           P8           T7           T8  subject_id  \\\n",
       "0        4186.153846  4132.820513  4106.666667  4076.410256           1   \n",
       "1        4187.179487  4126.666667  4105.641026  4065.128205           1   \n",
       "2        4188.205128  4123.076923  4103.076923  4063.589744           1   \n",
       "3        4184.615385  4127.179487  4095.384615  4071.282051           1   \n",
       "4        4182.564103  4128.205128  4090.769231  4064.102564           1   \n",
       "...              ...          ...          ...          ...         ...   \n",
       "3850363  4010.256410  4126.153846  3830.769231  3883.589744          97   \n",
       "3850364  4005.641026  4125.128205  3829.230769  3878.974359          97   \n",
       "3850365  4005.128205  4123.076923  3829.230769  3882.051282          97   \n",
       "3850366  4010.256410  4122.564103  3829.230769  3890.769231          97   \n",
       "3850367  4016.410256  4123.589744  3830.256410  3892.820513          97   \n",
       "\n",
       "                y  \n",
       "0        Epilepsy  \n",
       "1        Epilepsy  \n",
       "2        Epilepsy  \n",
       "3        Epilepsy  \n",
       "4        Epilepsy  \n",
       "...           ...  \n",
       "3850363   Control  \n",
       "3850364   Control  \n",
       "3850365   Control  \n",
       "3850366   Control  \n",
       "3850367   Control  \n",
       "\n",
       "[3850368 rows x 16 columns]"
      ]
     },
     "execution_count": 7,
     "metadata": {},
     "output_type": "execute_result"
    }
   ],
   "source": [
    "eeg_data = pd.read_csv('C:\\\\Users\\\\47575909\\\\Desktop\\\\eeg_data.csv')\n",
    "eeg_data"
   ]
  },
  {
   "cell_type": "code",
   "execution_count": 8,
   "metadata": {
    "colab": {
     "base_uri": "https://localhost:8080/",
     "height": 444
    },
    "id": "2XiUWfmOki3i",
    "outputId": "d8490a9d-f719-45f0-b8a2-6a4f8c574ec5"
   },
   "outputs": [
    {
     "data": {
      "text/html": [
       "<div>\n",
       "<style scoped>\n",
       "    .dataframe tbody tr th:only-of-type {\n",
       "        vertical-align: middle;\n",
       "    }\n",
       "\n",
       "    .dataframe tbody tr th {\n",
       "        vertical-align: top;\n",
       "    }\n",
       "\n",
       "    .dataframe thead th {\n",
       "        text-align: right;\n",
       "    }\n",
       "</style>\n",
       "<table border=\"1\" class=\"dataframe\">\n",
       "  <thead>\n",
       "    <tr style=\"text-align: right;\">\n",
       "      <th></th>\n",
       "      <th>AF3</th>\n",
       "      <th>AF4</th>\n",
       "      <th>F3</th>\n",
       "      <th>F4</th>\n",
       "      <th>F7</th>\n",
       "      <th>F8</th>\n",
       "      <th>FC5</th>\n",
       "      <th>FC6</th>\n",
       "      <th>O1</th>\n",
       "      <th>O2</th>\n",
       "      <th>P7</th>\n",
       "      <th>P8</th>\n",
       "      <th>T7</th>\n",
       "      <th>T8</th>\n",
       "      <th>subject_id</th>\n",
       "      <th>y</th>\n",
       "    </tr>\n",
       "  </thead>\n",
       "  <tbody>\n",
       "    <tr>\n",
       "      <th>0</th>\n",
       "      <td>4426.153846</td>\n",
       "      <td>3994.871795</td>\n",
       "      <td>4408.205128</td>\n",
       "      <td>3847.692308</td>\n",
       "      <td>4690.256410</td>\n",
       "      <td>3895.897436</td>\n",
       "      <td>4702.051282</td>\n",
       "      <td>3914.871795</td>\n",
       "      <td>4049.743590</td>\n",
       "      <td>4297.948718</td>\n",
       "      <td>4186.153846</td>\n",
       "      <td>4132.820513</td>\n",
       "      <td>4106.666667</td>\n",
       "      <td>4076.410256</td>\n",
       "      <td>1</td>\n",
       "      <td>1</td>\n",
       "    </tr>\n",
       "    <tr>\n",
       "      <th>1</th>\n",
       "      <td>4420.512821</td>\n",
       "      <td>3986.666667</td>\n",
       "      <td>4394.358974</td>\n",
       "      <td>3836.923077</td>\n",
       "      <td>4678.461538</td>\n",
       "      <td>3886.666667</td>\n",
       "      <td>4696.410256</td>\n",
       "      <td>3910.769231</td>\n",
       "      <td>4054.358974</td>\n",
       "      <td>4295.897436</td>\n",
       "      <td>4187.179487</td>\n",
       "      <td>4126.666667</td>\n",
       "      <td>4105.641026</td>\n",
       "      <td>4065.128205</td>\n",
       "      <td>1</td>\n",
       "      <td>1</td>\n",
       "    </tr>\n",
       "    <tr>\n",
       "      <th>2</th>\n",
       "      <td>4413.846154</td>\n",
       "      <td>3986.153846</td>\n",
       "      <td>4386.666667</td>\n",
       "      <td>3831.794872</td>\n",
       "      <td>4654.871795</td>\n",
       "      <td>3881.025641</td>\n",
       "      <td>4690.769231</td>\n",
       "      <td>3908.205128</td>\n",
       "      <td>4066.666667</td>\n",
       "      <td>4301.025641</td>\n",
       "      <td>4188.205128</td>\n",
       "      <td>4123.076923</td>\n",
       "      <td>4103.076923</td>\n",
       "      <td>4063.589744</td>\n",
       "      <td>1</td>\n",
       "      <td>1</td>\n",
       "    </tr>\n",
       "    <tr>\n",
       "      <th>3</th>\n",
       "      <td>4407.692308</td>\n",
       "      <td>3984.615385</td>\n",
       "      <td>4384.102564</td>\n",
       "      <td>3832.820513</td>\n",
       "      <td>4644.615385</td>\n",
       "      <td>3883.076923</td>\n",
       "      <td>4686.153846</td>\n",
       "      <td>3910.256410</td>\n",
       "      <td>4063.076923</td>\n",
       "      <td>4298.974359</td>\n",
       "      <td>4184.615385</td>\n",
       "      <td>4127.179487</td>\n",
       "      <td>4095.384615</td>\n",
       "      <td>4071.282051</td>\n",
       "      <td>1</td>\n",
       "      <td>1</td>\n",
       "    </tr>\n",
       "    <tr>\n",
       "      <th>4</th>\n",
       "      <td>4407.179487</td>\n",
       "      <td>3978.974359</td>\n",
       "      <td>4382.564103</td>\n",
       "      <td>3832.307692</td>\n",
       "      <td>4647.692308</td>\n",
       "      <td>3878.974359</td>\n",
       "      <td>4685.641026</td>\n",
       "      <td>3903.076923</td>\n",
       "      <td>4057.948718</td>\n",
       "      <td>4295.384615</td>\n",
       "      <td>4182.564103</td>\n",
       "      <td>4128.205128</td>\n",
       "      <td>4090.769231</td>\n",
       "      <td>4064.102564</td>\n",
       "      <td>1</td>\n",
       "      <td>1</td>\n",
       "    </tr>\n",
       "    <tr>\n",
       "      <th>...</th>\n",
       "      <td>...</td>\n",
       "      <td>...</td>\n",
       "      <td>...</td>\n",
       "      <td>...</td>\n",
       "      <td>...</td>\n",
       "      <td>...</td>\n",
       "      <td>...</td>\n",
       "      <td>...</td>\n",
       "      <td>...</td>\n",
       "      <td>...</td>\n",
       "      <td>...</td>\n",
       "      <td>...</td>\n",
       "      <td>...</td>\n",
       "      <td>...</td>\n",
       "      <td>...</td>\n",
       "      <td>...</td>\n",
       "    </tr>\n",
       "    <tr>\n",
       "      <th>3850363</th>\n",
       "      <td>4211.794872</td>\n",
       "      <td>3862.051282</td>\n",
       "      <td>4139.487179</td>\n",
       "      <td>3670.256410</td>\n",
       "      <td>4327.179487</td>\n",
       "      <td>3662.564103</td>\n",
       "      <td>4557.435897</td>\n",
       "      <td>3894.358974</td>\n",
       "      <td>4238.974359</td>\n",
       "      <td>4189.743590</td>\n",
       "      <td>4010.256410</td>\n",
       "      <td>4126.153846</td>\n",
       "      <td>3830.769231</td>\n",
       "      <td>3883.589744</td>\n",
       "      <td>97</td>\n",
       "      <td>0</td>\n",
       "    </tr>\n",
       "    <tr>\n",
       "      <th>3850364</th>\n",
       "      <td>4209.743590</td>\n",
       "      <td>3861.538462</td>\n",
       "      <td>4138.974359</td>\n",
       "      <td>3667.179487</td>\n",
       "      <td>4323.589744</td>\n",
       "      <td>3662.051282</td>\n",
       "      <td>4556.410256</td>\n",
       "      <td>3893.846154</td>\n",
       "      <td>4232.820513</td>\n",
       "      <td>4188.205128</td>\n",
       "      <td>4005.641026</td>\n",
       "      <td>4125.128205</td>\n",
       "      <td>3829.230769</td>\n",
       "      <td>3878.974359</td>\n",
       "      <td>97</td>\n",
       "      <td>0</td>\n",
       "    </tr>\n",
       "    <tr>\n",
       "      <th>3850365</th>\n",
       "      <td>4211.282051</td>\n",
       "      <td>3862.564103</td>\n",
       "      <td>4136.410256</td>\n",
       "      <td>3671.282051</td>\n",
       "      <td>4324.102564</td>\n",
       "      <td>3664.102564</td>\n",
       "      <td>4556.923077</td>\n",
       "      <td>3896.923077</td>\n",
       "      <td>4235.384615</td>\n",
       "      <td>4185.128205</td>\n",
       "      <td>4005.128205</td>\n",
       "      <td>4123.076923</td>\n",
       "      <td>3829.230769</td>\n",
       "      <td>3882.051282</td>\n",
       "      <td>97</td>\n",
       "      <td>0</td>\n",
       "    </tr>\n",
       "    <tr>\n",
       "      <th>3850366</th>\n",
       "      <td>4217.435897</td>\n",
       "      <td>3866.666667</td>\n",
       "      <td>4140.000000</td>\n",
       "      <td>3676.923077</td>\n",
       "      <td>4326.153846</td>\n",
       "      <td>3668.205128</td>\n",
       "      <td>4558.974359</td>\n",
       "      <td>3901.025641</td>\n",
       "      <td>4234.871795</td>\n",
       "      <td>4184.615385</td>\n",
       "      <td>4010.256410</td>\n",
       "      <td>4122.564103</td>\n",
       "      <td>3829.230769</td>\n",
       "      <td>3890.769231</td>\n",
       "      <td>97</td>\n",
       "      <td>0</td>\n",
       "    </tr>\n",
       "    <tr>\n",
       "      <th>3850367</th>\n",
       "      <td>4217.948718</td>\n",
       "      <td>3866.153846</td>\n",
       "      <td>4141.538462</td>\n",
       "      <td>3672.820513</td>\n",
       "      <td>4326.153846</td>\n",
       "      <td>3668.717949</td>\n",
       "      <td>4558.974359</td>\n",
       "      <td>3900.512821</td>\n",
       "      <td>4234.358974</td>\n",
       "      <td>4185.128205</td>\n",
       "      <td>4016.410256</td>\n",
       "      <td>4123.589744</td>\n",
       "      <td>3830.256410</td>\n",
       "      <td>3892.820513</td>\n",
       "      <td>97</td>\n",
       "      <td>0</td>\n",
       "    </tr>\n",
       "  </tbody>\n",
       "</table>\n",
       "<p>3850368 rows × 16 columns</p>\n",
       "</div>"
      ],
      "text/plain": [
       "                 AF3          AF4           F3           F4           F7  \\\n",
       "0        4426.153846  3994.871795  4408.205128  3847.692308  4690.256410   \n",
       "1        4420.512821  3986.666667  4394.358974  3836.923077  4678.461538   \n",
       "2        4413.846154  3986.153846  4386.666667  3831.794872  4654.871795   \n",
       "3        4407.692308  3984.615385  4384.102564  3832.820513  4644.615385   \n",
       "4        4407.179487  3978.974359  4382.564103  3832.307692  4647.692308   \n",
       "...              ...          ...          ...          ...          ...   \n",
       "3850363  4211.794872  3862.051282  4139.487179  3670.256410  4327.179487   \n",
       "3850364  4209.743590  3861.538462  4138.974359  3667.179487  4323.589744   \n",
       "3850365  4211.282051  3862.564103  4136.410256  3671.282051  4324.102564   \n",
       "3850366  4217.435897  3866.666667  4140.000000  3676.923077  4326.153846   \n",
       "3850367  4217.948718  3866.153846  4141.538462  3672.820513  4326.153846   \n",
       "\n",
       "                  F8          FC5          FC6           O1           O2  \\\n",
       "0        3895.897436  4702.051282  3914.871795  4049.743590  4297.948718   \n",
       "1        3886.666667  4696.410256  3910.769231  4054.358974  4295.897436   \n",
       "2        3881.025641  4690.769231  3908.205128  4066.666667  4301.025641   \n",
       "3        3883.076923  4686.153846  3910.256410  4063.076923  4298.974359   \n",
       "4        3878.974359  4685.641026  3903.076923  4057.948718  4295.384615   \n",
       "...              ...          ...          ...          ...          ...   \n",
       "3850363  3662.564103  4557.435897  3894.358974  4238.974359  4189.743590   \n",
       "3850364  3662.051282  4556.410256  3893.846154  4232.820513  4188.205128   \n",
       "3850365  3664.102564  4556.923077  3896.923077  4235.384615  4185.128205   \n",
       "3850366  3668.205128  4558.974359  3901.025641  4234.871795  4184.615385   \n",
       "3850367  3668.717949  4558.974359  3900.512821  4234.358974  4185.128205   \n",
       "\n",
       "                  P7           P8           T7           T8  subject_id  y  \n",
       "0        4186.153846  4132.820513  4106.666667  4076.410256           1  1  \n",
       "1        4187.179487  4126.666667  4105.641026  4065.128205           1  1  \n",
       "2        4188.205128  4123.076923  4103.076923  4063.589744           1  1  \n",
       "3        4184.615385  4127.179487  4095.384615  4071.282051           1  1  \n",
       "4        4182.564103  4128.205128  4090.769231  4064.102564           1  1  \n",
       "...              ...          ...          ...          ...         ... ..  \n",
       "3850363  4010.256410  4126.153846  3830.769231  3883.589744          97  0  \n",
       "3850364  4005.641026  4125.128205  3829.230769  3878.974359          97  0  \n",
       "3850365  4005.128205  4123.076923  3829.230769  3882.051282          97  0  \n",
       "3850366  4010.256410  4122.564103  3829.230769  3890.769231          97  0  \n",
       "3850367  4016.410256  4123.589744  3830.256410  3892.820513          97  0  \n",
       "\n",
       "[3850368 rows x 16 columns]"
      ]
     },
     "execution_count": 8,
     "metadata": {},
     "output_type": "execute_result"
    }
   ],
   "source": [
    "#paso los vaores categóricos a numéricos\n",
    "mapping = {'Epilepsy': 1, 'Control': 0}\n",
    "eeg_data['y'] = eeg_data['y'].map(mapping)\n",
    "eeg_data"
   ]
  },
  {
   "cell_type": "code",
   "execution_count": 9,
   "metadata": {
    "id": "4ikv64RBzgCT"
   },
   "outputs": [],
   "source": [
    "#función para convertir los datos a formato mne\n",
    "def convertDF2MNE(sub):\n",
    "    info = mne.create_info(list(sub.columns), ch_types=['eeg'] * len(sub.columns), sfreq=128)\n",
    "    info.set_montage('standard_1020')\n",
    "    data=mne.io.RawArray(sub.T, info)\n",
    "    data.set_eeg_reference()\n",
    "    #data.filter(l_freq=0.1,h_freq=45)\n",
    "    epochs = mne.make_fixed_length_epochs(data, duration = 3, overlap = 2)\n",
    "    return epochs.get_data()"
   ]
  },
  {
   "cell_type": "code",
   "execution_count": 15,
   "metadata": {
    "colab": {
     "base_uri": "https://localhost:8080/"
    },
    "id": "MgmoUGiiEQ1E",
    "outputId": "63c50147-2e51-4df8-bf06-78c4e578a69d"
   },
   "outputs": [
    {
     "name": "stdout",
     "output_type": "stream",
     "text": [
      "[2, 3, 4, 5, 6, 7, 8, 9, 10, 11, 12, 13, 14, 15, 16, 17, 18, 19, 20, 21, 22, 23, 24, 25, 26, 27, 28, 29, 30, 31, 32, 33, 34, 35, 36, 37, 38, 39, 40, 41, 42, 43, 44, 45, 46, 47, 48, 49, 50, 51, 52, 53, 54, 55, 56, 57, 58, 59, 60, 61, 62, 63, 64, 65, 66, 67, 68, 69, 70, 71, 72, 73, 74, 75, 76, 77, 78, 79, 80, 81, 82, 83, 84, 85, 86, 87, 88, 89, 90, 91, 92, 93, 94, 95, 96, 97]\n"
     ]
    }
   ],
   "source": [
    "#hago una lista con cada id de cada subject\n",
    "groups = eeg_data.groupby('subject_id')\n",
    "grp_keys = list(groups.groups.keys())\n",
    "grp_keys.pop(0)\n",
    "print(grp_keys)"
   ]
  },
  {
   "cell_type": "code",
   "execution_count": 17,
   "metadata": {
    "colab": {
     "base_uri": "https://localhost:8080/"
    },
    "id": "MgmoUGiiEQ1E",
    "outputId": "63c50147-2e51-4df8-bf06-78c4e578a69d"
   },
   "outputs": [],
   "source": [
    "from tqdm import tqdm"
   ]
  },
  {
   "cell_type": "code",
   "execution_count": 8,
   "metadata": {
    "colab": {
     "base_uri": "https://localhost:8080/",
     "height": 407
    },
    "id": "kOw4buOsIrK-",
    "outputId": "a9db7628-4e94-47e4-be63-9965f65e5827"
   },
   "outputs": [
    {
     "name": "stderr",
     "output_type": "stream",
     "text": [
      "\r",
      "0it [00:00, ?it/s]"
     ]
    },
    {
     "name": "stdout",
     "output_type": "stream",
     "text": [
      "Creating RawArray with float64 data, n_channels=14, n_times=38528\n",
      "    Range : 0 ... 38527 =      0.000 ...   300.992 secs\n",
      "Ready.\n",
      "EEG channel type selected for re-referencing\n",
      "Applying average reference.\n",
      "Applying a custom EEG reference.\n",
      "Not setting metadata\n",
      "Not setting metadata\n",
      "299 matching events found\n",
      "No baseline correction applied\n",
      "0 projection items activated\n",
      "Loading data for 299 events and 384 original time points ...\n",
      "0 bad epochs dropped\n"
     ]
    },
    {
     "name": "stderr",
     "output_type": "stream",
     "text": [
      "\r",
      "1it [00:19, 19.02s/it]"
     ]
    },
    {
     "name": "stdout",
     "output_type": "stream",
     "text": [
      "Creating RawArray with float64 data, n_channels=14, n_times=39808\n",
      "    Range : 0 ... 39807 =      0.000 ...   310.992 secs\n",
      "Ready.\n",
      "EEG channel type selected for re-referencing\n",
      "Applying average reference.\n",
      "Applying a custom EEG reference.\n",
      "Not setting metadata\n",
      "Not setting metadata\n",
      "309 matching events found\n",
      "No baseline correction applied\n",
      "0 projection items activated\n",
      "Loading data for 309 events and 384 original time points ...\n",
      "0 bad epochs dropped\n"
     ]
    },
    {
     "name": "stderr",
     "output_type": "stream",
     "text": [
      "\r",
      "2it [00:36, 18.01s/it]"
     ]
    },
    {
     "name": "stdout",
     "output_type": "stream",
     "text": [
      "Creating RawArray with float64 data, n_channels=14, n_times=38272\n",
      "    Range : 0 ... 38271 =      0.000 ...   298.992 secs\n",
      "Ready.\n",
      "EEG channel type selected for re-referencing\n",
      "Applying average reference.\n",
      "Applying a custom EEG reference.\n",
      "Not setting metadata\n",
      "Not setting metadata\n",
      "297 matching events found\n",
      "No baseline correction applied\n",
      "0 projection items activated\n",
      "Loading data for 297 events and 384 original time points ...\n",
      "0 bad epochs dropped\n"
     ]
    },
    {
     "name": "stderr",
     "output_type": "stream",
     "text": [
      "\r",
      "3it [00:53, 17.48s/it]"
     ]
    },
    {
     "name": "stdout",
     "output_type": "stream",
     "text": [
      "Creating RawArray with float64 data, n_channels=14, n_times=38400\n",
      "    Range : 0 ... 38399 =      0.000 ...   299.992 secs\n",
      "Ready.\n",
      "EEG channel type selected for re-referencing\n",
      "Applying average reference.\n",
      "Applying a custom EEG reference.\n",
      "Not setting metadata\n",
      "Not setting metadata\n",
      "298 matching events found\n",
      "No baseline correction applied\n",
      "0 projection items activated\n",
      "Loading data for 298 events and 384 original time points ...\n",
      "0 bad epochs dropped\n"
     ]
    },
    {
     "name": "stderr",
     "output_type": "stream",
     "text": [
      "\r",
      "4it [01:09, 17.16s/it]"
     ]
    },
    {
     "name": "stdout",
     "output_type": "stream",
     "text": [
      "Creating RawArray with float64 data, n_channels=14, n_times=40832\n",
      "    Range : 0 ... 40831 =      0.000 ...   318.992 secs\n",
      "Ready.\n",
      "EEG channel type selected for re-referencing\n",
      "Applying average reference.\n",
      "Applying a custom EEG reference.\n",
      "Not setting metadata\n",
      "Not setting metadata\n",
      "317 matching events found\n",
      "No baseline correction applied\n",
      "0 projection items activated\n",
      "Loading data for 317 events and 384 original time points ...\n",
      "0 bad epochs dropped\n"
     ]
    },
    {
     "name": "stderr",
     "output_type": "stream",
     "text": [
      "\r",
      "5it [01:28, 17.65s/it]"
     ]
    },
    {
     "name": "stdout",
     "output_type": "stream",
     "text": [
      "Creating RawArray with float64 data, n_channels=14, n_times=40832\n",
      "    Range : 0 ... 40831 =      0.000 ...   318.992 secs\n",
      "Ready.\n",
      "EEG channel type selected for re-referencing\n",
      "Applying average reference.\n",
      "Applying a custom EEG reference.\n",
      "Not setting metadata\n",
      "Not setting metadata\n",
      "317 matching events found\n",
      "No baseline correction applied\n",
      "0 projection items activated\n",
      "Loading data for 317 events and 384 original time points ...\n",
      "0 bad epochs dropped\n"
     ]
    },
    {
     "name": "stderr",
     "output_type": "stream",
     "text": [
      "\r",
      "6it [01:46, 17.97s/it]"
     ]
    },
    {
     "name": "stdout",
     "output_type": "stream",
     "text": [
      "Creating RawArray with float64 data, n_channels=14, n_times=38400\n",
      "    Range : 0 ... 38399 =      0.000 ...   299.992 secs\n",
      "Ready.\n",
      "EEG channel type selected for re-referencing\n",
      "Applying average reference.\n",
      "Applying a custom EEG reference.\n",
      "Not setting metadata\n",
      "Not setting metadata\n",
      "298 matching events found\n",
      "No baseline correction applied\n",
      "0 projection items activated\n",
      "Loading data for 298 events and 384 original time points ...\n",
      "0 bad epochs dropped\n"
     ]
    },
    {
     "name": "stderr",
     "output_type": "stream",
     "text": [
      "\r",
      "7it [02:04, 17.88s/it]"
     ]
    },
    {
     "name": "stdout",
     "output_type": "stream",
     "text": [
      "Creating RawArray with float64 data, n_channels=14, n_times=38912\n",
      "    Range : 0 ... 38911 =      0.000 ...   303.992 secs\n",
      "Ready.\n",
      "EEG channel type selected for re-referencing\n",
      "Applying average reference.\n",
      "Applying a custom EEG reference.\n",
      "Not setting metadata\n",
      "Not setting metadata\n",
      "302 matching events found\n",
      "No baseline correction applied\n",
      "0 projection items activated\n",
      "Loading data for 302 events and 384 original time points ...\n",
      "0 bad epochs dropped\n"
     ]
    },
    {
     "name": "stderr",
     "output_type": "stream",
     "text": [
      "\r",
      "8it [02:22, 17.86s/it]"
     ]
    },
    {
     "name": "stdout",
     "output_type": "stream",
     "text": [
      "Creating RawArray with float64 data, n_channels=14, n_times=39040\n",
      "    Range : 0 ... 39039 =      0.000 ...   304.992 secs\n",
      "Ready.\n",
      "EEG channel type selected for re-referencing\n",
      "Applying average reference.\n",
      "Applying a custom EEG reference.\n",
      "Not setting metadata\n",
      "Not setting metadata\n",
      "303 matching events found\n",
      "No baseline correction applied\n",
      "0 projection items activated\n",
      "Loading data for 303 events and 384 original time points ...\n",
      "0 bad epochs dropped\n"
     ]
    },
    {
     "name": "stderr",
     "output_type": "stream",
     "text": [
      "\r",
      "9it [02:40, 17.86s/it]"
     ]
    },
    {
     "name": "stdout",
     "output_type": "stream",
     "text": [
      "Creating RawArray with float64 data, n_channels=14, n_times=38400\n",
      "    Range : 0 ... 38399 =      0.000 ...   299.992 secs\n",
      "Ready.\n",
      "EEG channel type selected for re-referencing\n",
      "Applying average reference.\n",
      "Applying a custom EEG reference.\n",
      "Not setting metadata\n",
      "Not setting metadata\n",
      "298 matching events found\n",
      "No baseline correction applied\n",
      "0 projection items activated\n",
      "Loading data for 298 events and 384 original time points ...\n",
      "0 bad epochs dropped\n"
     ]
    },
    {
     "name": "stderr",
     "output_type": "stream",
     "text": [
      "\r",
      "10it [02:57, 17.76s/it]"
     ]
    },
    {
     "name": "stdout",
     "output_type": "stream",
     "text": [
      "Creating RawArray with float64 data, n_channels=14, n_times=39296\n",
      "    Range : 0 ... 39295 =      0.000 ...   306.992 secs\n",
      "Ready.\n",
      "EEG channel type selected for re-referencing\n",
      "Applying average reference.\n",
      "Applying a custom EEG reference.\n",
      "Not setting metadata\n",
      "Not setting metadata\n",
      "305 matching events found\n",
      "No baseline correction applied\n",
      "0 projection items activated\n",
      "Loading data for 305 events and 384 original time points ...\n",
      "0 bad epochs dropped\n"
     ]
    },
    {
     "name": "stderr",
     "output_type": "stream",
     "text": [
      "\r",
      "11it [03:15, 17.82s/it]"
     ]
    },
    {
     "name": "stdout",
     "output_type": "stream",
     "text": [
      "Creating RawArray with float64 data, n_channels=14, n_times=39552\n",
      "    Range : 0 ... 39551 =      0.000 ...   308.992 secs\n",
      "Ready.\n",
      "EEG channel type selected for re-referencing\n",
      "Applying average reference.\n",
      "Applying a custom EEG reference.\n",
      "Not setting metadata\n",
      "Not setting metadata\n",
      "307 matching events found\n",
      "No baseline correction applied\n",
      "0 projection items activated\n",
      "Loading data for 307 events and 384 original time points ...\n",
      "0 bad epochs dropped\n"
     ]
    },
    {
     "name": "stderr",
     "output_type": "stream",
     "text": [
      "\r",
      "12it [03:34, 17.96s/it]"
     ]
    },
    {
     "name": "stdout",
     "output_type": "stream",
     "text": [
      "Creating RawArray with float64 data, n_channels=14, n_times=38784\n",
      "    Range : 0 ... 38783 =      0.000 ...   302.992 secs\n",
      "Ready.\n",
      "EEG channel type selected for re-referencing\n",
      "Applying average reference.\n",
      "Applying a custom EEG reference.\n",
      "Not setting metadata\n",
      "Not setting metadata\n",
      "301 matching events found\n",
      "No baseline correction applied\n",
      "0 projection items activated\n",
      "Loading data for 301 events and 384 original time points ...\n",
      "0 bad epochs dropped\n"
     ]
    },
    {
     "name": "stderr",
     "output_type": "stream",
     "text": [
      "\r",
      "13it [03:51, 17.94s/it]"
     ]
    },
    {
     "name": "stdout",
     "output_type": "stream",
     "text": [
      "Creating RawArray with float64 data, n_channels=14, n_times=38144\n",
      "    Range : 0 ... 38143 =      0.000 ...   297.992 secs\n",
      "Ready.\n",
      "EEG channel type selected for re-referencing\n",
      "Applying average reference.\n",
      "Applying a custom EEG reference.\n",
      "Not setting metadata\n",
      "Not setting metadata\n",
      "296 matching events found\n",
      "No baseline correction applied\n",
      "0 projection items activated\n",
      "Loading data for 296 events and 384 original time points ...\n",
      "0 bad epochs dropped\n"
     ]
    },
    {
     "name": "stderr",
     "output_type": "stream",
     "text": [
      "\r",
      "14it [04:09, 17.84s/it]"
     ]
    },
    {
     "name": "stdout",
     "output_type": "stream",
     "text": [
      "Creating RawArray with float64 data, n_channels=14, n_times=38912\n",
      "    Range : 0 ... 38911 =      0.000 ...   303.992 secs\n",
      "Ready.\n",
      "EEG channel type selected for re-referencing\n",
      "Applying average reference.\n",
      "Applying a custom EEG reference.\n",
      "Not setting metadata\n",
      "Not setting metadata\n",
      "302 matching events found\n",
      "No baseline correction applied\n",
      "0 projection items activated\n",
      "Loading data for 302 events and 384 original time points ...\n",
      "0 bad epochs dropped\n"
     ]
    },
    {
     "name": "stderr",
     "output_type": "stream",
     "text": [
      "\r",
      "15it [04:27, 17.86s/it]"
     ]
    },
    {
     "name": "stdout",
     "output_type": "stream",
     "text": [
      "Creating RawArray with float64 data, n_channels=14, n_times=38912\n",
      "    Range : 0 ... 38911 =      0.000 ...   303.992 secs\n",
      "Ready.\n",
      "EEG channel type selected for re-referencing\n",
      "Applying average reference.\n",
      "Applying a custom EEG reference.\n",
      "Not setting metadata\n",
      "Not setting metadata\n",
      "302 matching events found\n",
      "No baseline correction applied\n",
      "0 projection items activated\n",
      "Loading data for 302 events and 384 original time points ...\n",
      "0 bad epochs dropped\n"
     ]
    },
    {
     "name": "stderr",
     "output_type": "stream",
     "text": [
      "\r",
      "16it [04:45, 17.90s/it]"
     ]
    },
    {
     "name": "stdout",
     "output_type": "stream",
     "text": [
      "Creating RawArray with float64 data, n_channels=14, n_times=37120\n",
      "    Range : 0 ... 37119 =      0.000 ...   289.992 secs\n",
      "Ready.\n",
      "EEG channel type selected for re-referencing\n",
      "Applying average reference.\n",
      "Applying a custom EEG reference.\n",
      "Not setting metadata\n",
      "Not setting metadata\n",
      "288 matching events found\n",
      "No baseline correction applied\n",
      "0 projection items activated\n",
      "Loading data for 288 events and 384 original time points ...\n",
      "0 bad epochs dropped\n"
     ]
    },
    {
     "name": "stderr",
     "output_type": "stream",
     "text": [
      "\r",
      "17it [05:02, 17.64s/it]"
     ]
    },
    {
     "name": "stdout",
     "output_type": "stream",
     "text": [
      "Creating RawArray with float64 data, n_channels=14, n_times=54400\n",
      "    Range : 0 ... 54399 =      0.000 ...   424.992 secs\n",
      "Ready.\n",
      "EEG channel type selected for re-referencing\n",
      "Applying average reference.\n",
      "Applying a custom EEG reference.\n",
      "Not setting metadata\n",
      "Not setting metadata\n",
      "423 matching events found\n",
      "No baseline correction applied\n",
      "0 projection items activated\n",
      "Loading data for 423 events and 384 original time points ...\n",
      "0 bad epochs dropped\n"
     ]
    },
    {
     "name": "stderr",
     "output_type": "stream",
     "text": [
      "\r",
      "18it [05:27, 19.82s/it]"
     ]
    },
    {
     "name": "stdout",
     "output_type": "stream",
     "text": [
      "Creating RawArray with float64 data, n_channels=14, n_times=38784\n",
      "    Range : 0 ... 38783 =      0.000 ...   302.992 secs\n",
      "Ready.\n",
      "EEG channel type selected for re-referencing\n",
      "Applying average reference.\n",
      "Applying a custom EEG reference.\n",
      "Not setting metadata\n",
      "Not setting metadata\n",
      "301 matching events found\n",
      "No baseline correction applied\n",
      "0 projection items activated\n",
      "Loading data for 301 events and 384 original time points ...\n",
      "0 bad epochs dropped\n"
     ]
    },
    {
     "name": "stderr",
     "output_type": "stream",
     "text": [
      "\r",
      "19it [05:45, 19.23s/it]"
     ]
    },
    {
     "name": "stdout",
     "output_type": "stream",
     "text": [
      "Creating RawArray with float64 data, n_channels=14, n_times=38784\n",
      "    Range : 0 ... 38783 =      0.000 ...   302.992 secs\n",
      "Ready.\n",
      "EEG channel type selected for re-referencing\n",
      "Applying average reference.\n",
      "Applying a custom EEG reference.\n",
      "Not setting metadata\n",
      "Not setting metadata\n",
      "301 matching events found\n",
      "No baseline correction applied\n",
      "0 projection items activated\n",
      "Loading data for 301 events and 384 original time points ...\n",
      "0 bad epochs dropped\n"
     ]
    },
    {
     "name": "stderr",
     "output_type": "stream",
     "text": [
      "\r",
      "20it [06:03, 18.78s/it]"
     ]
    },
    {
     "name": "stdout",
     "output_type": "stream",
     "text": [
      "Creating RawArray with float64 data, n_channels=14, n_times=37888\n",
      "    Range : 0 ... 37887 =      0.000 ...   295.992 secs\n",
      "Ready.\n",
      "EEG channel type selected for re-referencing\n",
      "Applying average reference.\n",
      "Applying a custom EEG reference.\n",
      "Not setting metadata\n",
      "Not setting metadata\n",
      "294 matching events found\n",
      "No baseline correction applied\n",
      "0 projection items activated\n",
      "Loading data for 294 events and 384 original time points ...\n",
      "0 bad epochs dropped\n"
     ]
    },
    {
     "name": "stderr",
     "output_type": "stream",
     "text": [
      "\r",
      "21it [06:20, 18.38s/it]"
     ]
    },
    {
     "name": "stdout",
     "output_type": "stream",
     "text": [
      "Creating RawArray with float64 data, n_channels=14, n_times=40960\n",
      "    Range : 0 ... 40959 =      0.000 ...   319.992 secs\n",
      "Ready.\n",
      "EEG channel type selected for re-referencing\n",
      "Applying average reference.\n",
      "Applying a custom EEG reference.\n",
      "Not setting metadata\n",
      "Not setting metadata\n",
      "318 matching events found\n",
      "No baseline correction applied\n",
      "0 projection items activated\n",
      "Loading data for 318 events and 384 original time points ...\n",
      "0 bad epochs dropped\n"
     ]
    },
    {
     "name": "stderr",
     "output_type": "stream",
     "text": [
      "\r",
      "22it [06:39, 18.50s/it]"
     ]
    },
    {
     "name": "stdout",
     "output_type": "stream",
     "text": [
      "Creating RawArray with float64 data, n_channels=14, n_times=39552\n",
      "    Range : 0 ... 39551 =      0.000 ...   308.992 secs\n",
      "Ready.\n",
      "EEG channel type selected for re-referencing\n",
      "Applying average reference.\n",
      "Applying a custom EEG reference.\n",
      "Not setting metadata\n",
      "Not setting metadata\n",
      "307 matching events found\n",
      "No baseline correction applied\n",
      "0 projection items activated\n",
      "Loading data for 307 events and 384 original time points ...\n",
      "0 bad epochs dropped\n"
     ]
    },
    {
     "name": "stderr",
     "output_type": "stream",
     "text": [
      "\r",
      "23it [06:57, 18.39s/it]"
     ]
    },
    {
     "name": "stdout",
     "output_type": "stream",
     "text": [
      "Creating RawArray with float64 data, n_channels=14, n_times=38656\n",
      "    Range : 0 ... 38655 =      0.000 ...   301.992 secs\n",
      "Ready.\n",
      "EEG channel type selected for re-referencing\n",
      "Applying average reference.\n",
      "Applying a custom EEG reference.\n",
      "Not setting metadata\n",
      "Not setting metadata\n",
      "300 matching events found\n",
      "No baseline correction applied\n",
      "0 projection items activated\n",
      "Loading data for 300 events and 384 original time points ...\n",
      "0 bad epochs dropped\n"
     ]
    },
    {
     "name": "stderr",
     "output_type": "stream",
     "text": [
      "\r",
      "24it [07:15, 18.19s/it]"
     ]
    },
    {
     "name": "stdout",
     "output_type": "stream",
     "text": [
      "Creating RawArray with float64 data, n_channels=14, n_times=38784\n",
      "    Range : 0 ... 38783 =      0.000 ...   302.992 secs\n",
      "Ready.\n",
      "EEG channel type selected for re-referencing\n",
      "Applying average reference.\n",
      "Applying a custom EEG reference.\n",
      "Not setting metadata\n",
      "Not setting metadata\n",
      "301 matching events found\n",
      "No baseline correction applied\n",
      "0 projection items activated\n",
      "Loading data for 301 events and 384 original time points ...\n",
      "0 bad epochs dropped\n"
     ]
    },
    {
     "name": "stderr",
     "output_type": "stream",
     "text": [
      "\r",
      "25it [07:32, 18.06s/it]"
     ]
    },
    {
     "name": "stdout",
     "output_type": "stream",
     "text": [
      "Creating RawArray with float64 data, n_channels=14, n_times=38784\n",
      "    Range : 0 ... 38783 =      0.000 ...   302.992 secs\n",
      "Ready.\n",
      "EEG channel type selected for re-referencing\n",
      "Applying average reference.\n",
      "Applying a custom EEG reference.\n",
      "Not setting metadata\n",
      "Not setting metadata\n",
      "301 matching events found\n",
      "No baseline correction applied\n",
      "0 projection items activated\n",
      "Loading data for 301 events and 384 original time points ...\n",
      "0 bad epochs dropped\n"
     ]
    },
    {
     "name": "stderr",
     "output_type": "stream",
     "text": [
      "\r",
      "26it [07:50, 17.96s/it]"
     ]
    },
    {
     "name": "stdout",
     "output_type": "stream",
     "text": [
      "Creating RawArray with float64 data, n_channels=14, n_times=38912\n",
      "    Range : 0 ... 38911 =      0.000 ...   303.992 secs\n",
      "Ready.\n",
      "EEG channel type selected for re-referencing\n",
      "Applying average reference.\n",
      "Applying a custom EEG reference.\n",
      "Not setting metadata\n",
      "Not setting metadata\n",
      "302 matching events found\n",
      "No baseline correction applied\n",
      "0 projection items activated\n",
      "Loading data for 302 events and 384 original time points ...\n",
      "0 bad epochs dropped\n"
     ]
    },
    {
     "name": "stderr",
     "output_type": "stream",
     "text": [
      "\r",
      "27it [08:08, 17.96s/it]"
     ]
    },
    {
     "name": "stdout",
     "output_type": "stream",
     "text": [
      "Creating RawArray with float64 data, n_channels=14, n_times=38656\n",
      "    Range : 0 ... 38655 =      0.000 ...   301.992 secs\n",
      "Ready.\n",
      "EEG channel type selected for re-referencing\n",
      "Applying average reference.\n",
      "Applying a custom EEG reference.\n",
      "Not setting metadata\n",
      "Not setting metadata\n",
      "300 matching events found\n",
      "No baseline correction applied\n",
      "0 projection items activated\n",
      "Loading data for 300 events and 384 original time points ...\n",
      "0 bad epochs dropped\n"
     ]
    },
    {
     "name": "stderr",
     "output_type": "stream",
     "text": [
      "\r",
      "28it [08:26, 17.89s/it]"
     ]
    },
    {
     "name": "stdout",
     "output_type": "stream",
     "text": [
      "Creating RawArray with float64 data, n_channels=14, n_times=38144\n",
      "    Range : 0 ... 38143 =      0.000 ...   297.992 secs\n",
      "Ready.\n",
      "EEG channel type selected for re-referencing\n",
      "Applying average reference.\n",
      "Applying a custom EEG reference.\n",
      "Not setting metadata\n",
      "Not setting metadata\n",
      "296 matching events found\n",
      "No baseline correction applied\n",
      "0 projection items activated\n",
      "Loading data for 296 events and 384 original time points ...\n",
      "0 bad epochs dropped\n"
     ]
    },
    {
     "name": "stderr",
     "output_type": "stream",
     "text": [
      "\r",
      "29it [08:43, 17.78s/it]"
     ]
    },
    {
     "name": "stdout",
     "output_type": "stream",
     "text": [
      "Creating RawArray with float64 data, n_channels=14, n_times=39040\n",
      "    Range : 0 ... 39039 =      0.000 ...   304.992 secs\n",
      "Ready.\n",
      "EEG channel type selected for re-referencing\n",
      "Applying average reference.\n",
      "Applying a custom EEG reference.\n",
      "Not setting metadata\n",
      "Not setting metadata\n",
      "303 matching events found\n",
      "No baseline correction applied\n",
      "0 projection items activated\n",
      "Loading data for 303 events and 384 original time points ...\n",
      "0 bad epochs dropped\n"
     ]
    },
    {
     "name": "stderr",
     "output_type": "stream",
     "text": [
      "\r",
      "30it [09:01, 17.81s/it]"
     ]
    },
    {
     "name": "stdout",
     "output_type": "stream",
     "text": [
      "Creating RawArray with float64 data, n_channels=14, n_times=61184\n",
      "    Range : 0 ... 61183 =      0.000 ...   477.992 secs\n",
      "Ready.\n",
      "EEG channel type selected for re-referencing\n",
      "Applying average reference.\n",
      "Applying a custom EEG reference.\n",
      "Not setting metadata\n",
      "Not setting metadata\n",
      "476 matching events found\n",
      "No baseline correction applied\n",
      "0 projection items activated\n",
      "Loading data for 476 events and 384 original time points ...\n",
      "0 bad epochs dropped\n"
     ]
    },
    {
     "name": "stderr",
     "output_type": "stream",
     "text": [
      "\r",
      "31it [09:29, 20.87s/it]"
     ]
    },
    {
     "name": "stdout",
     "output_type": "stream",
     "text": [
      "Creating RawArray with float64 data, n_channels=14, n_times=39296\n",
      "    Range : 0 ... 39295 =      0.000 ...   306.992 secs\n",
      "Ready.\n",
      "EEG channel type selected for re-referencing\n",
      "Applying average reference.\n",
      "Applying a custom EEG reference.\n",
      "Not setting metadata\n",
      "Not setting metadata\n",
      "305 matching events found\n",
      "No baseline correction applied\n",
      "0 projection items activated\n",
      "Loading data for 305 events and 384 original time points ...\n",
      "0 bad epochs dropped\n"
     ]
    },
    {
     "name": "stderr",
     "output_type": "stream",
     "text": [
      "\r",
      "32it [09:48, 20.11s/it]"
     ]
    },
    {
     "name": "stdout",
     "output_type": "stream",
     "text": [
      "Creating RawArray with float64 data, n_channels=14, n_times=40448\n",
      "    Range : 0 ... 40447 =      0.000 ...   315.992 secs\n",
      "Ready.\n",
      "EEG channel type selected for re-referencing\n",
      "Applying average reference.\n",
      "Applying a custom EEG reference.\n",
      "Not setting metadata\n",
      "Not setting metadata\n",
      "314 matching events found\n",
      "No baseline correction applied\n",
      "0 projection items activated\n",
      "Loading data for 314 events and 384 original time points ...\n",
      "0 bad epochs dropped\n"
     ]
    },
    {
     "name": "stderr",
     "output_type": "stream",
     "text": [
      "\r",
      "33it [10:07, 19.79s/it]"
     ]
    },
    {
     "name": "stdout",
     "output_type": "stream",
     "text": [
      "Creating RawArray with float64 data, n_channels=14, n_times=38272\n",
      "    Range : 0 ... 38271 =      0.000 ...   298.992 secs\n",
      "Ready.\n",
      "EEG channel type selected for re-referencing\n",
      "Applying average reference.\n",
      "Applying a custom EEG reference.\n",
      "Not setting metadata\n",
      "Not setting metadata\n",
      "297 matching events found\n",
      "No baseline correction applied\n",
      "0 projection items activated\n",
      "Loading data for 297 events and 384 original time points ...\n",
      "0 bad epochs dropped\n"
     ]
    },
    {
     "name": "stderr",
     "output_type": "stream",
     "text": [
      "\r",
      "34it [10:24, 19.16s/it]"
     ]
    },
    {
     "name": "stdout",
     "output_type": "stream",
     "text": [
      "Creating RawArray with float64 data, n_channels=14, n_times=38784\n",
      "    Range : 0 ... 38783 =      0.000 ...   302.992 secs\n",
      "Ready.\n",
      "EEG channel type selected for re-referencing\n",
      "Applying average reference.\n",
      "Applying a custom EEG reference.\n",
      "Not setting metadata\n",
      "Not setting metadata\n",
      "301 matching events found\n",
      "No baseline correction applied\n",
      "0 projection items activated\n",
      "Loading data for 301 events and 384 original time points ...\n",
      "0 bad epochs dropped\n"
     ]
    },
    {
     "name": "stderr",
     "output_type": "stream",
     "text": [
      "\r",
      "35it [10:42, 18.81s/it]"
     ]
    },
    {
     "name": "stdout",
     "output_type": "stream",
     "text": [
      "Creating RawArray with float64 data, n_channels=14, n_times=41344\n",
      "    Range : 0 ... 41343 =      0.000 ...   322.992 secs\n",
      "Ready.\n",
      "EEG channel type selected for re-referencing\n",
      "Applying average reference.\n",
      "Applying a custom EEG reference.\n",
      "Not setting metadata\n",
      "Not setting metadata\n",
      "321 matching events found\n",
      "No baseline correction applied\n",
      "0 projection items activated\n",
      "Loading data for 321 events and 384 original time points ...\n",
      "0 bad epochs dropped\n"
     ]
    },
    {
     "name": "stderr",
     "output_type": "stream",
     "text": [
      "\r",
      "36it [11:01, 18.89s/it]"
     ]
    },
    {
     "name": "stdout",
     "output_type": "stream",
     "text": [
      "Creating RawArray with float64 data, n_channels=14, n_times=38656\n",
      "    Range : 0 ... 38655 =      0.000 ...   301.992 secs\n",
      "Ready.\n",
      "EEG channel type selected for re-referencing\n",
      "Applying average reference.\n",
      "Applying a custom EEG reference.\n",
      "Not setting metadata\n",
      "Not setting metadata\n",
      "300 matching events found\n",
      "No baseline correction applied\n",
      "0 projection items activated\n",
      "Loading data for 300 events and 384 original time points ...\n",
      "0 bad epochs dropped\n"
     ]
    },
    {
     "name": "stderr",
     "output_type": "stream",
     "text": [
      "\r",
      "37it [11:19, 18.64s/it]"
     ]
    },
    {
     "name": "stdout",
     "output_type": "stream",
     "text": [
      "Creating RawArray with float64 data, n_channels=14, n_times=38144\n",
      "    Range : 0 ... 38143 =      0.000 ...   297.992 secs\n",
      "Ready.\n",
      "EEG channel type selected for re-referencing\n",
      "Applying average reference.\n",
      "Applying a custom EEG reference.\n",
      "Not setting metadata\n",
      "Not setting metadata\n",
      "296 matching events found\n",
      "No baseline correction applied\n",
      "0 projection items activated\n",
      "Loading data for 296 events and 384 original time points ...\n",
      "0 bad epochs dropped\n"
     ]
    },
    {
     "name": "stderr",
     "output_type": "stream",
     "text": [
      "\r",
      "38it [11:37, 18.35s/it]"
     ]
    },
    {
     "name": "stdout",
     "output_type": "stream",
     "text": [
      "Creating RawArray with float64 data, n_channels=14, n_times=48896\n",
      "    Range : 0 ... 48895 =      0.000 ...   381.992 secs\n",
      "Ready.\n",
      "EEG channel type selected for re-referencing\n",
      "Applying average reference.\n",
      "Applying a custom EEG reference.\n",
      "Not setting metadata\n",
      "Not setting metadata\n",
      "380 matching events found\n",
      "No baseline correction applied\n",
      "0 projection items activated\n",
      "Loading data for 380 events and 384 original time points ...\n",
      "0 bad epochs dropped\n"
     ]
    },
    {
     "name": "stderr",
     "output_type": "stream",
     "text": [
      "\r",
      "39it [12:00, 19.58s/it]"
     ]
    },
    {
     "name": "stdout",
     "output_type": "stream",
     "text": [
      "Creating RawArray with float64 data, n_channels=14, n_times=38784\n",
      "    Range : 0 ... 38783 =      0.000 ...   302.992 secs\n",
      "Ready.\n",
      "EEG channel type selected for re-referencing\n",
      "Applying average reference.\n",
      "Applying a custom EEG reference.\n",
      "Not setting metadata\n",
      "Not setting metadata\n",
      "301 matching events found\n",
      "No baseline correction applied\n",
      "0 projection items activated\n",
      "Loading data for 301 events and 384 original time points ...\n",
      "0 bad epochs dropped\n"
     ]
    },
    {
     "name": "stderr",
     "output_type": "stream",
     "text": [
      "\r",
      "40it [12:17, 19.03s/it]"
     ]
    },
    {
     "name": "stdout",
     "output_type": "stream",
     "text": [
      "Creating RawArray with float64 data, n_channels=14, n_times=38400\n",
      "    Range : 0 ... 38399 =      0.000 ...   299.992 secs\n",
      "Ready.\n",
      "EEG channel type selected for re-referencing\n",
      "Applying average reference.\n",
      "Applying a custom EEG reference.\n",
      "Not setting metadata\n",
      "Not setting metadata\n",
      "298 matching events found\n",
      "No baseline correction applied\n",
      "0 projection items activated\n",
      "Loading data for 298 events and 384 original time points ...\n",
      "0 bad epochs dropped\n"
     ]
    },
    {
     "name": "stderr",
     "output_type": "stream",
     "text": [
      "\r",
      "41it [12:35, 18.62s/it]"
     ]
    },
    {
     "name": "stdout",
     "output_type": "stream",
     "text": [
      "Creating RawArray with float64 data, n_channels=14, n_times=38784\n",
      "    Range : 0 ... 38783 =      0.000 ...   302.992 secs\n",
      "Ready.\n",
      "EEG channel type selected for re-referencing\n",
      "Applying average reference.\n",
      "Applying a custom EEG reference.\n",
      "Not setting metadata\n",
      "Not setting metadata\n",
      "301 matching events found\n",
      "No baseline correction applied\n",
      "0 projection items activated\n",
      "Loading data for 301 events and 384 original time points ...\n",
      "0 bad epochs dropped\n"
     ]
    },
    {
     "name": "stderr",
     "output_type": "stream",
     "text": [
      "\r",
      "42it [12:53, 18.40s/it]"
     ]
    },
    {
     "name": "stdout",
     "output_type": "stream",
     "text": [
      "Creating RawArray with float64 data, n_channels=14, n_times=38272\n",
      "    Range : 0 ... 38271 =      0.000 ...   298.992 secs\n",
      "Ready.\n",
      "EEG channel type selected for re-referencing\n",
      "Applying average reference.\n",
      "Applying a custom EEG reference.\n",
      "Not setting metadata\n",
      "Not setting metadata\n",
      "297 matching events found\n",
      "No baseline correction applied\n",
      "0 projection items activated\n",
      "Loading data for 297 events and 384 original time points ...\n",
      "0 bad epochs dropped\n"
     ]
    },
    {
     "name": "stderr",
     "output_type": "stream",
     "text": [
      "\r",
      "43it [13:10, 18.17s/it]"
     ]
    },
    {
     "name": "stdout",
     "output_type": "stream",
     "text": [
      "Creating RawArray with float64 data, n_channels=14, n_times=38272\n",
      "    Range : 0 ... 38271 =      0.000 ...   298.992 secs\n",
      "Ready.\n",
      "EEG channel type selected for re-referencing\n",
      "Applying average reference.\n",
      "Applying a custom EEG reference.\n",
      "Not setting metadata\n",
      "Not setting metadata\n",
      "297 matching events found\n",
      "No baseline correction applied\n",
      "0 projection items activated\n",
      "Loading data for 297 events and 384 original time points ...\n",
      "0 bad epochs dropped\n"
     ]
    },
    {
     "name": "stderr",
     "output_type": "stream",
     "text": [
      "\r",
      "44it [13:28, 17.99s/it]"
     ]
    },
    {
     "name": "stdout",
     "output_type": "stream",
     "text": [
      "Creating RawArray with float64 data, n_channels=14, n_times=38656\n",
      "    Range : 0 ... 38655 =      0.000 ...   301.992 secs\n",
      "Ready.\n",
      "EEG channel type selected for re-referencing\n",
      "Applying average reference.\n",
      "Applying a custom EEG reference.\n",
      "Not setting metadata\n",
      "Not setting metadata\n",
      "300 matching events found\n",
      "No baseline correction applied\n",
      "0 projection items activated\n",
      "Loading data for 300 events and 384 original time points ...\n",
      "0 bad epochs dropped\n"
     ]
    },
    {
     "name": "stderr",
     "output_type": "stream",
     "text": [
      "\r",
      "45it [13:46, 17.93s/it]"
     ]
    },
    {
     "name": "stdout",
     "output_type": "stream",
     "text": [
      "Creating RawArray with float64 data, n_channels=14, n_times=39296\n",
      "    Range : 0 ... 39295 =      0.000 ...   306.992 secs\n",
      "Ready.\n",
      "EEG channel type selected for re-referencing\n",
      "Applying average reference.\n",
      "Applying a custom EEG reference.\n",
      "Not setting metadata\n",
      "Not setting metadata\n",
      "305 matching events found\n",
      "No baseline correction applied\n",
      "0 projection items activated\n",
      "Loading data for 305 events and 384 original time points ...\n",
      "0 bad epochs dropped\n"
     ]
    },
    {
     "name": "stderr",
     "output_type": "stream",
     "text": [
      "\r",
      "46it [14:04, 18.00s/it]"
     ]
    },
    {
     "name": "stdout",
     "output_type": "stream",
     "text": [
      "Creating RawArray with float64 data, n_channels=14, n_times=38784\n",
      "    Range : 0 ... 38783 =      0.000 ...   302.992 secs\n",
      "Ready.\n",
      "EEG channel type selected for re-referencing\n",
      "Applying average reference.\n",
      "Applying a custom EEG reference.\n",
      "Not setting metadata\n",
      "Not setting metadata\n",
      "301 matching events found\n",
      "No baseline correction applied\n",
      "0 projection items activated\n",
      "Loading data for 301 events and 384 original time points ...\n",
      "0 bad epochs dropped\n"
     ]
    },
    {
     "name": "stderr",
     "output_type": "stream",
     "text": [
      "\r",
      "47it [14:22, 17.96s/it]"
     ]
    },
    {
     "name": "stdout",
     "output_type": "stream",
     "text": [
      "Creating RawArray with float64 data, n_channels=14, n_times=39040\n",
      "    Range : 0 ... 39039 =      0.000 ...   304.992 secs\n",
      "Ready.\n",
      "EEG channel type selected for re-referencing\n",
      "Applying average reference.\n",
      "Applying a custom EEG reference.\n",
      "Not setting metadata\n",
      "Not setting metadata\n",
      "303 matching events found\n",
      "No baseline correction applied\n",
      "0 projection items activated\n",
      "Loading data for 303 events and 384 original time points ...\n",
      "0 bad epochs dropped\n"
     ]
    },
    {
     "name": "stderr",
     "output_type": "stream",
     "text": [
      "\r",
      "48it [14:40, 18.00s/it]"
     ]
    },
    {
     "name": "stdout",
     "output_type": "stream",
     "text": [
      "Creating RawArray with float64 data, n_channels=14, n_times=39808\n",
      "    Range : 0 ... 39807 =      0.000 ...   310.992 secs\n",
      "Ready.\n",
      "EEG channel type selected for re-referencing\n",
      "Applying average reference.\n",
      "Applying a custom EEG reference.\n",
      "Not setting metadata\n",
      "Not setting metadata\n",
      "309 matching events found\n",
      "No baseline correction applied\n",
      "0 projection items activated\n",
      "Loading data for 309 events and 384 original time points ...\n",
      "0 bad epochs dropped\n"
     ]
    },
    {
     "name": "stderr",
     "output_type": "stream",
     "text": [
      "\r",
      "49it [14:58, 18.13s/it]"
     ]
    },
    {
     "name": "stdout",
     "output_type": "stream",
     "text": [
      "Creating RawArray with float64 data, n_channels=14, n_times=38528\n",
      "    Range : 0 ... 38527 =      0.000 ...   300.992 secs\n",
      "Ready.\n",
      "EEG channel type selected for re-referencing\n",
      "Applying average reference.\n",
      "Applying a custom EEG reference.\n",
      "Not setting metadata\n",
      "Not setting metadata\n",
      "299 matching events found\n",
      "No baseline correction applied\n",
      "0 projection items activated\n",
      "Loading data for 299 events and 384 original time points ...\n",
      "0 bad epochs dropped\n"
     ]
    },
    {
     "name": "stderr",
     "output_type": "stream",
     "text": [
      "\r",
      "50it [15:16, 18.02s/it]"
     ]
    },
    {
     "name": "stdout",
     "output_type": "stream",
     "text": [
      "Creating RawArray with float64 data, n_channels=14, n_times=40064\n",
      "    Range : 0 ... 40063 =      0.000 ...   312.992 secs\n",
      "Ready.\n",
      "EEG channel type selected for re-referencing\n",
      "Applying average reference.\n",
      "Applying a custom EEG reference.\n",
      "Not setting metadata\n",
      "Not setting metadata\n",
      "311 matching events found\n",
      "No baseline correction applied\n",
      "0 projection items activated\n",
      "Loading data for 311 events and 384 original time points ...\n",
      "0 bad epochs dropped\n"
     ]
    },
    {
     "name": "stderr",
     "output_type": "stream",
     "text": [
      "\r",
      "51it [15:35, 18.22s/it]"
     ]
    },
    {
     "name": "stdout",
     "output_type": "stream",
     "text": [
      "Creating RawArray with float64 data, n_channels=14, n_times=38528\n",
      "    Range : 0 ... 38527 =      0.000 ...   300.992 secs\n",
      "Ready.\n",
      "EEG channel type selected for re-referencing\n",
      "Applying average reference.\n",
      "Applying a custom EEG reference.\n",
      "Not setting metadata\n",
      "Not setting metadata\n",
      "299 matching events found\n",
      "No baseline correction applied\n",
      "0 projection items activated\n",
      "Loading data for 299 events and 384 original time points ...\n",
      "0 bad epochs dropped\n"
     ]
    },
    {
     "name": "stderr",
     "output_type": "stream",
     "text": [
      "\r",
      "52it [15:53, 18.07s/it]"
     ]
    },
    {
     "name": "stdout",
     "output_type": "stream",
     "text": [
      "Creating RawArray with float64 data, n_channels=14, n_times=38272\n",
      "    Range : 0 ... 38271 =      0.000 ...   298.992 secs\n",
      "Ready.\n",
      "EEG channel type selected for re-referencing\n",
      "Applying average reference.\n",
      "Applying a custom EEG reference.\n",
      "Not setting metadata\n",
      "Not setting metadata\n",
      "297 matching events found\n",
      "No baseline correction applied\n",
      "0 projection items activated\n",
      "Loading data for 297 events and 384 original time points ...\n",
      "0 bad epochs dropped\n"
     ]
    },
    {
     "name": "stderr",
     "output_type": "stream",
     "text": [
      "\r",
      "53it [16:10, 17.96s/it]"
     ]
    },
    {
     "name": "stdout",
     "output_type": "stream",
     "text": [
      "Creating RawArray with float64 data, n_channels=14, n_times=38784\n",
      "    Range : 0 ... 38783 =      0.000 ...   302.992 secs\n",
      "Ready.\n",
      "EEG channel type selected for re-referencing\n",
      "Applying average reference.\n",
      "Applying a custom EEG reference.\n",
      "Not setting metadata\n",
      "Not setting metadata\n",
      "301 matching events found\n",
      "No baseline correction applied\n",
      "0 projection items activated\n",
      "Loading data for 301 events and 384 original time points ...\n",
      "0 bad epochs dropped\n"
     ]
    },
    {
     "name": "stderr",
     "output_type": "stream",
     "text": [
      "\r",
      "54it [16:28, 17.94s/it]"
     ]
    },
    {
     "name": "stdout",
     "output_type": "stream",
     "text": [
      "Creating RawArray with float64 data, n_channels=14, n_times=38144\n",
      "    Range : 0 ... 38143 =      0.000 ...   297.992 secs\n",
      "Ready.\n",
      "EEG channel type selected for re-referencing\n",
      "Applying average reference.\n",
      "Applying a custom EEG reference.\n",
      "Not setting metadata\n",
      "Not setting metadata\n",
      "296 matching events found\n",
      "No baseline correction applied\n",
      "0 projection items activated\n",
      "Loading data for 296 events and 384 original time points ...\n",
      "0 bad epochs dropped\n"
     ]
    },
    {
     "name": "stderr",
     "output_type": "stream",
     "text": [
      "\r",
      "55it [16:46, 17.82s/it]"
     ]
    },
    {
     "name": "stdout",
     "output_type": "stream",
     "text": [
      "Creating RawArray with float64 data, n_channels=14, n_times=38784\n",
      "    Range : 0 ... 38783 =      0.000 ...   302.992 secs\n",
      "Ready.\n",
      "EEG channel type selected for re-referencing\n",
      "Applying average reference.\n",
      "Applying a custom EEG reference.\n",
      "Not setting metadata\n",
      "Not setting metadata\n",
      "301 matching events found\n",
      "No baseline correction applied\n",
      "0 projection items activated\n",
      "Loading data for 301 events and 384 original time points ...\n",
      "0 bad epochs dropped\n"
     ]
    },
    {
     "name": "stderr",
     "output_type": "stream",
     "text": [
      "\r",
      "56it [17:04, 17.85s/it]"
     ]
    },
    {
     "name": "stdout",
     "output_type": "stream",
     "text": [
      "Creating RawArray with float64 data, n_channels=14, n_times=38656\n",
      "    Range : 0 ... 38655 =      0.000 ...   301.992 secs\n",
      "Ready.\n",
      "EEG channel type selected for re-referencing\n",
      "Applying average reference.\n",
      "Applying a custom EEG reference.\n",
      "Not setting metadata\n",
      "Not setting metadata\n",
      "300 matching events found\n",
      "No baseline correction applied\n",
      "0 projection items activated\n",
      "Loading data for 300 events and 384 original time points ...\n",
      "0 bad epochs dropped\n"
     ]
    },
    {
     "name": "stderr",
     "output_type": "stream",
     "text": [
      "\r",
      "57it [17:21, 17.85s/it]"
     ]
    },
    {
     "name": "stdout",
     "output_type": "stream",
     "text": [
      "Creating RawArray with float64 data, n_channels=14, n_times=54016\n",
      "    Range : 0 ... 54015 =      0.000 ...   421.992 secs\n",
      "Ready.\n",
      "EEG channel type selected for re-referencing\n",
      "Applying average reference.\n",
      "Applying a custom EEG reference.\n",
      "Not setting metadata\n",
      "Not setting metadata\n",
      "420 matching events found\n",
      "No baseline correction applied\n",
      "0 projection items activated\n",
      "Loading data for 420 events and 384 original time points ...\n",
      "0 bad epochs dropped\n"
     ]
    },
    {
     "name": "stderr",
     "output_type": "stream",
     "text": [
      "\r",
      "58it [17:46, 19.95s/it]"
     ]
    },
    {
     "name": "stdout",
     "output_type": "stream",
     "text": [
      "Creating RawArray with float64 data, n_channels=14, n_times=38912\n",
      "    Range : 0 ... 38911 =      0.000 ...   303.992 secs\n",
      "Ready.\n",
      "EEG channel type selected for re-referencing\n",
      "Applying average reference.\n",
      "Applying a custom EEG reference.\n",
      "Not setting metadata\n",
      "Not setting metadata\n",
      "302 matching events found\n",
      "No baseline correction applied\n",
      "0 projection items activated\n",
      "Loading data for 302 events and 384 original time points ...\n",
      "0 bad epochs dropped\n"
     ]
    },
    {
     "name": "stderr",
     "output_type": "stream",
     "text": [
      "\r",
      "59it [18:04, 19.33s/it]"
     ]
    },
    {
     "name": "stdout",
     "output_type": "stream",
     "text": [
      "Creating RawArray with float64 data, n_channels=14, n_times=38400\n",
      "    Range : 0 ... 38399 =      0.000 ...   299.992 secs\n",
      "Ready.\n",
      "EEG channel type selected for re-referencing\n",
      "Applying average reference.\n",
      "Applying a custom EEG reference.\n",
      "Not setting metadata\n",
      "Not setting metadata\n",
      "298 matching events found\n",
      "No baseline correction applied\n",
      "0 projection items activated\n",
      "Loading data for 298 events and 384 original time points ...\n",
      "0 bad epochs dropped\n"
     ]
    },
    {
     "name": "stderr",
     "output_type": "stream",
     "text": [
      "\r",
      "60it [18:22, 18.93s/it]"
     ]
    },
    {
     "name": "stdout",
     "output_type": "stream",
     "text": [
      "Creating RawArray with float64 data, n_channels=14, n_times=38784\n",
      "    Range : 0 ... 38783 =      0.000 ...   302.992 secs\n",
      "Ready.\n",
      "EEG channel type selected for re-referencing\n",
      "Applying average reference.\n",
      "Applying a custom EEG reference.\n",
      "Not setting metadata\n",
      "Not setting metadata\n",
      "301 matching events found\n",
      "No baseline correction applied\n",
      "0 projection items activated\n",
      "Loading data for 301 events and 384 original time points ...\n",
      "0 bad epochs dropped\n"
     ]
    },
    {
     "name": "stderr",
     "output_type": "stream",
     "text": [
      "\r",
      "61it [18:40, 18.64s/it]"
     ]
    },
    {
     "name": "stdout",
     "output_type": "stream",
     "text": [
      "Creating RawArray with float64 data, n_channels=14, n_times=39168\n",
      "    Range : 0 ... 39167 =      0.000 ...   305.992 secs\n",
      "Ready.\n",
      "EEG channel type selected for re-referencing\n",
      "Applying average reference.\n",
      "Applying a custom EEG reference.\n",
      "Not setting metadata\n",
      "Not setting metadata\n",
      "304 matching events found\n",
      "No baseline correction applied\n",
      "0 projection items activated\n",
      "Loading data for 304 events and 384 original time points ...\n",
      "0 bad epochs dropped\n"
     ]
    },
    {
     "name": "stderr",
     "output_type": "stream",
     "text": [
      "\r",
      "62it [18:58, 18.46s/it]"
     ]
    },
    {
     "name": "stdout",
     "output_type": "stream",
     "text": [
      "Creating RawArray with float64 data, n_channels=14, n_times=39168\n",
      "    Range : 0 ... 39167 =      0.000 ...   305.992 secs\n",
      "Ready.\n",
      "EEG channel type selected for re-referencing\n",
      "Applying average reference.\n",
      "Applying a custom EEG reference.\n",
      "Not setting metadata\n",
      "Not setting metadata\n",
      "304 matching events found\n",
      "No baseline correction applied\n",
      "0 projection items activated\n",
      "Loading data for 304 events and 384 original time points ...\n",
      "0 bad epochs dropped\n"
     ]
    },
    {
     "name": "stderr",
     "output_type": "stream",
     "text": [
      "\r",
      "63it [19:16, 18.37s/it]"
     ]
    },
    {
     "name": "stdout",
     "output_type": "stream",
     "text": [
      "Creating RawArray with float64 data, n_channels=14, n_times=42240\n",
      "    Range : 0 ... 42239 =      0.000 ...   329.992 secs\n",
      "Ready.\n",
      "EEG channel type selected for re-referencing\n",
      "Applying average reference.\n",
      "Applying a custom EEG reference.\n",
      "Not setting metadata\n",
      "Not setting metadata\n",
      "328 matching events found\n",
      "No baseline correction applied\n",
      "0 projection items activated\n",
      "Loading data for 328 events and 384 original time points ...\n",
      "0 bad epochs dropped\n"
     ]
    },
    {
     "name": "stderr",
     "output_type": "stream",
     "text": [
      "\r",
      "64it [19:36, 18.73s/it]"
     ]
    },
    {
     "name": "stdout",
     "output_type": "stream",
     "text": [
      "Creating RawArray with float64 data, n_channels=14, n_times=36608\n",
      "    Range : 0 ... 36607 =      0.000 ...   285.992 secs\n",
      "Ready.\n",
      "EEG channel type selected for re-referencing\n",
      "Applying average reference.\n",
      "Applying a custom EEG reference.\n",
      "Not setting metadata\n",
      "Not setting metadata\n",
      "284 matching events found\n",
      "No baseline correction applied\n",
      "0 projection items activated\n",
      "Loading data for 284 events and 384 original time points ...\n",
      "0 bad epochs dropped\n"
     ]
    },
    {
     "name": "stderr",
     "output_type": "stream",
     "text": [
      "\r",
      "65it [19:53, 18.22s/it]"
     ]
    },
    {
     "name": "stdout",
     "output_type": "stream",
     "text": [
      "Creating RawArray with float64 data, n_channels=14, n_times=40320\n",
      "    Range : 0 ... 40319 =      0.000 ...   314.992 secs\n",
      "Ready.\n",
      "EEG channel type selected for re-referencing\n",
      "Applying average reference.\n",
      "Applying a custom EEG reference.\n",
      "Not setting metadata\n",
      "Not setting metadata\n",
      "313 matching events found\n",
      "No baseline correction applied\n",
      "0 projection items activated\n",
      "Loading data for 313 events and 384 original time points ...\n",
      "0 bad epochs dropped\n"
     ]
    },
    {
     "name": "stderr",
     "output_type": "stream",
     "text": [
      "\r",
      "66it [20:11, 18.32s/it]"
     ]
    },
    {
     "name": "stdout",
     "output_type": "stream",
     "text": [
      "Creating RawArray with float64 data, n_channels=14, n_times=38656\n",
      "    Range : 0 ... 38655 =      0.000 ...   301.992 secs\n",
      "Ready.\n",
      "EEG channel type selected for re-referencing\n",
      "Applying average reference.\n",
      "Applying a custom EEG reference.\n",
      "Not setting metadata\n",
      "Not setting metadata\n",
      "300 matching events found\n",
      "No baseline correction applied\n",
      "0 projection items activated\n",
      "Loading data for 300 events and 384 original time points ...\n",
      "0 bad epochs dropped\n"
     ]
    },
    {
     "name": "stderr",
     "output_type": "stream",
     "text": [
      "\r",
      "67it [20:29, 18.16s/it]"
     ]
    },
    {
     "name": "stdout",
     "output_type": "stream",
     "text": [
      "Creating RawArray with float64 data, n_channels=14, n_times=49920\n",
      "    Range : 0 ... 49919 =      0.000 ...   389.992 secs\n",
      "Ready.\n",
      "EEG channel type selected for re-referencing\n",
      "Applying average reference.\n",
      "Applying a custom EEG reference.\n",
      "Not setting metadata\n",
      "Not setting metadata\n",
      "388 matching events found\n",
      "No baseline correction applied\n",
      "0 projection items activated\n",
      "Loading data for 388 events and 384 original time points ...\n",
      "0 bad epochs dropped\n"
     ]
    },
    {
     "name": "stderr",
     "output_type": "stream",
     "text": [
      "\r",
      "68it [20:53, 19.73s/it]"
     ]
    },
    {
     "name": "stdout",
     "output_type": "stream",
     "text": [
      "Creating RawArray with float64 data, n_channels=14, n_times=38656\n",
      "    Range : 0 ... 38655 =      0.000 ...   301.992 secs\n",
      "Ready.\n",
      "EEG channel type selected for re-referencing\n",
      "Applying average reference.\n",
      "Applying a custom EEG reference.\n",
      "Not setting metadata\n",
      "Not setting metadata\n",
      "300 matching events found\n",
      "No baseline correction applied\n",
      "0 projection items activated\n",
      "Loading data for 300 events and 384 original time points ...\n",
      "0 bad epochs dropped\n"
     ]
    },
    {
     "name": "stderr",
     "output_type": "stream",
     "text": [
      "\r",
      "69it [21:11, 19.17s/it]"
     ]
    },
    {
     "name": "stdout",
     "output_type": "stream",
     "text": [
      "Creating RawArray with float64 data, n_channels=14, n_times=38912\n",
      "    Range : 0 ... 38911 =      0.000 ...   303.992 secs\n",
      "Ready.\n",
      "EEG channel type selected for re-referencing\n",
      "Applying average reference.\n",
      "Applying a custom EEG reference.\n",
      "Not setting metadata\n",
      "Not setting metadata\n",
      "302 matching events found\n",
      "No baseline correction applied\n",
      "0 projection items activated\n",
      "Loading data for 302 events and 384 original time points ...\n",
      "0 bad epochs dropped\n"
     ]
    },
    {
     "name": "stderr",
     "output_type": "stream",
     "text": [
      "\r",
      "70it [21:28, 18.79s/it]"
     ]
    },
    {
     "name": "stdout",
     "output_type": "stream",
     "text": [
      "Creating RawArray with float64 data, n_channels=14, n_times=38272\n",
      "    Range : 0 ... 38271 =      0.000 ...   298.992 secs\n",
      "Ready.\n",
      "EEG channel type selected for re-referencing\n",
      "Applying average reference.\n",
      "Applying a custom EEG reference.\n",
      "Not setting metadata\n",
      "Not setting metadata\n",
      "297 matching events found\n",
      "No baseline correction applied\n",
      "0 projection items activated\n",
      "Loading data for 297 events and 384 original time points ...\n",
      "0 bad epochs dropped\n"
     ]
    },
    {
     "name": "stderr",
     "output_type": "stream",
     "text": [
      "\r",
      "71it [21:46, 18.44s/it]"
     ]
    },
    {
     "name": "stdout",
     "output_type": "stream",
     "text": [
      "Creating RawArray with float64 data, n_channels=14, n_times=38272\n",
      "    Range : 0 ... 38271 =      0.000 ...   298.992 secs\n",
      "Ready.\n",
      "EEG channel type selected for re-referencing\n",
      "Applying average reference.\n",
      "Applying a custom EEG reference.\n",
      "Not setting metadata\n",
      "Not setting metadata\n",
      "297 matching events found\n",
      "No baseline correction applied\n",
      "0 projection items activated\n",
      "Loading data for 297 events and 384 original time points ...\n",
      "0 bad epochs dropped\n"
     ]
    },
    {
     "name": "stderr",
     "output_type": "stream",
     "text": [
      "\r",
      "72it [22:04, 18.20s/it]"
     ]
    },
    {
     "name": "stdout",
     "output_type": "stream",
     "text": [
      "Creating RawArray with float64 data, n_channels=14, n_times=40832\n",
      "    Range : 0 ... 40831 =      0.000 ...   318.992 secs\n",
      "Ready.\n",
      "EEG channel type selected for re-referencing\n",
      "Applying average reference.\n",
      "Applying a custom EEG reference.\n",
      "Not setting metadata\n",
      "Not setting metadata\n",
      "317 matching events found\n",
      "No baseline correction applied\n",
      "0 projection items activated\n",
      "Loading data for 317 events and 384 original time points ...\n",
      "0 bad epochs dropped\n"
     ]
    },
    {
     "name": "stderr",
     "output_type": "stream",
     "text": [
      "\r",
      "73it [22:23, 18.38s/it]"
     ]
    },
    {
     "name": "stdout",
     "output_type": "stream",
     "text": [
      "Creating RawArray with float64 data, n_channels=14, n_times=39424\n",
      "    Range : 0 ... 39423 =      0.000 ...   307.992 secs\n",
      "Ready.\n",
      "EEG channel type selected for re-referencing\n",
      "Applying average reference.\n",
      "Applying a custom EEG reference.\n",
      "Not setting metadata\n",
      "Not setting metadata\n",
      "306 matching events found\n",
      "No baseline correction applied\n",
      "0 projection items activated\n",
      "Loading data for 306 events and 384 original time points ...\n",
      "0 bad epochs dropped\n"
     ]
    },
    {
     "name": "stderr",
     "output_type": "stream",
     "text": [
      "\r",
      "74it [22:41, 18.36s/it]"
     ]
    },
    {
     "name": "stdout",
     "output_type": "stream",
     "text": [
      "Creating RawArray with float64 data, n_channels=14, n_times=38272\n",
      "    Range : 0 ... 38271 =      0.000 ...   298.992 secs\n",
      "Ready.\n",
      "EEG channel type selected for re-referencing\n",
      "Applying average reference.\n",
      "Applying a custom EEG reference.\n",
      "Not setting metadata\n",
      "Not setting metadata\n",
      "297 matching events found\n",
      "No baseline correction applied\n",
      "0 projection items activated\n",
      "Loading data for 297 events and 384 original time points ...\n",
      "0 bad epochs dropped\n"
     ]
    },
    {
     "name": "stderr",
     "output_type": "stream",
     "text": [
      "\r",
      "75it [22:59, 18.17s/it]"
     ]
    },
    {
     "name": "stdout",
     "output_type": "stream",
     "text": [
      "Creating RawArray with float64 data, n_channels=14, n_times=38528\n",
      "    Range : 0 ... 38527 =      0.000 ...   300.992 secs\n",
      "Ready.\n",
      "EEG channel type selected for re-referencing\n",
      "Applying average reference.\n",
      "Applying a custom EEG reference.\n",
      "Not setting metadata\n",
      "Not setting metadata\n",
      "299 matching events found\n",
      "No baseline correction applied\n",
      "0 projection items activated\n",
      "Loading data for 299 events and 384 original time points ...\n",
      "0 bad epochs dropped\n"
     ]
    },
    {
     "name": "stderr",
     "output_type": "stream",
     "text": [
      "\r",
      "76it [23:16, 18.05s/it]"
     ]
    },
    {
     "name": "stdout",
     "output_type": "stream",
     "text": [
      "Creating RawArray with float64 data, n_channels=14, n_times=39040\n",
      "    Range : 0 ... 39039 =      0.000 ...   304.992 secs\n",
      "Ready.\n",
      "EEG channel type selected for re-referencing\n",
      "Applying average reference.\n",
      "Applying a custom EEG reference.\n",
      "Not setting metadata\n",
      "Not setting metadata\n",
      "303 matching events found\n",
      "No baseline correction applied\n",
      "0 projection items activated\n",
      "Loading data for 303 events and 384 original time points ...\n",
      "0 bad epochs dropped\n"
     ]
    },
    {
     "name": "stderr",
     "output_type": "stream",
     "text": [
      "\r",
      "77it [23:34, 18.04s/it]"
     ]
    },
    {
     "name": "stdout",
     "output_type": "stream",
     "text": [
      "Creating RawArray with float64 data, n_channels=14, n_times=42496\n",
      "    Range : 0 ... 42495 =      0.000 ...   331.992 secs\n",
      "Ready.\n",
      "EEG channel type selected for re-referencing\n",
      "Applying average reference.\n",
      "Applying a custom EEG reference.\n",
      "Not setting metadata\n",
      "Not setting metadata\n",
      "330 matching events found\n",
      "No baseline correction applied\n",
      "0 projection items activated\n",
      "Loading data for 330 events and 384 original time points ...\n",
      "0 bad epochs dropped\n"
     ]
    },
    {
     "name": "stderr",
     "output_type": "stream",
     "text": [
      "\r",
      "78it [23:54, 18.49s/it]"
     ]
    },
    {
     "name": "stdout",
     "output_type": "stream",
     "text": [
      "Creating RawArray with float64 data, n_channels=14, n_times=38912\n",
      "    Range : 0 ... 38911 =      0.000 ...   303.992 secs\n",
      "Ready.\n",
      "EEG channel type selected for re-referencing\n",
      "Applying average reference.\n",
      "Applying a custom EEG reference.\n",
      "Not setting metadata\n",
      "Not setting metadata\n",
      "302 matching events found\n",
      "No baseline correction applied\n",
      "0 projection items activated\n",
      "Loading data for 302 events and 384 original time points ...\n",
      "0 bad epochs dropped\n"
     ]
    },
    {
     "name": "stderr",
     "output_type": "stream",
     "text": [
      "\r",
      "79it [24:12, 18.34s/it]"
     ]
    },
    {
     "name": "stdout",
     "output_type": "stream",
     "text": [
      "Creating RawArray with float64 data, n_channels=14, n_times=39040\n",
      "    Range : 0 ... 39039 =      0.000 ...   304.992 secs\n",
      "Ready.\n",
      "EEG channel type selected for re-referencing\n",
      "Applying average reference.\n",
      "Applying a custom EEG reference.\n",
      "Not setting metadata\n",
      "Not setting metadata\n",
      "303 matching events found\n",
      "No baseline correction applied\n",
      "0 projection items activated\n",
      "Loading data for 303 events and 384 original time points ...\n",
      "0 bad epochs dropped\n"
     ]
    },
    {
     "name": "stderr",
     "output_type": "stream",
     "text": [
      "\r",
      "80it [24:30, 18.23s/it]"
     ]
    },
    {
     "name": "stdout",
     "output_type": "stream",
     "text": [
      "Creating RawArray with float64 data, n_channels=14, n_times=36992\n",
      "    Range : 0 ... 36991 =      0.000 ...   288.992 secs\n",
      "Ready.\n",
      "EEG channel type selected for re-referencing\n",
      "Applying average reference.\n",
      "Applying a custom EEG reference.\n",
      "Not setting metadata\n",
      "Not setting metadata\n",
      "287 matching events found\n",
      "No baseline correction applied\n",
      "0 projection items activated\n",
      "Loading data for 287 events and 384 original time points ...\n",
      "0 bad epochs dropped\n"
     ]
    },
    {
     "name": "stderr",
     "output_type": "stream",
     "text": [
      "\r",
      "81it [24:47, 17.97s/it]"
     ]
    },
    {
     "name": "stdout",
     "output_type": "stream",
     "text": [
      "Creating RawArray with float64 data, n_channels=14, n_times=37888\n",
      "    Range : 0 ... 37887 =      0.000 ...   295.992 secs\n",
      "Ready.\n",
      "EEG channel type selected for re-referencing\n",
      "Applying average reference.\n",
      "Applying a custom EEG reference.\n",
      "Not setting metadata\n",
      "Not setting metadata\n",
      "294 matching events found\n",
      "No baseline correction applied\n",
      "0 projection items activated\n",
      "Loading data for 294 events and 384 original time points ...\n",
      "0 bad epochs dropped\n"
     ]
    },
    {
     "name": "stderr",
     "output_type": "stream",
     "text": [
      "\r",
      "82it [25:05, 17.94s/it]"
     ]
    },
    {
     "name": "stdout",
     "output_type": "stream",
     "text": [
      "Creating RawArray with float64 data, n_channels=14, n_times=38272\n",
      "    Range : 0 ... 38271 =      0.000 ...   298.992 secs\n",
      "Ready.\n",
      "EEG channel type selected for re-referencing\n",
      "Applying average reference.\n",
      "Applying a custom EEG reference.\n",
      "Not setting metadata\n",
      "Not setting metadata\n",
      "297 matching events found\n",
      "No baseline correction applied\n",
      "0 projection items activated\n",
      "Loading data for 297 events and 384 original time points ...\n",
      "0 bad epochs dropped\n"
     ]
    },
    {
     "name": "stderr",
     "output_type": "stream",
     "text": [
      "\r",
      "83it [25:23, 17.91s/it]"
     ]
    },
    {
     "name": "stdout",
     "output_type": "stream",
     "text": [
      "Creating RawArray with float64 data, n_channels=14, n_times=38784\n",
      "    Range : 0 ... 38783 =      0.000 ...   302.992 secs\n",
      "Ready.\n",
      "EEG channel type selected for re-referencing\n",
      "Applying average reference.\n",
      "Applying a custom EEG reference.\n",
      "Not setting metadata\n",
      "Not setting metadata\n",
      "301 matching events found\n",
      "No baseline correction applied\n",
      "0 projection items activated\n",
      "Loading data for 301 events and 384 original time points ...\n",
      "0 bad epochs dropped\n"
     ]
    },
    {
     "name": "stderr",
     "output_type": "stream",
     "text": [
      "\r",
      "84it [25:41, 17.97s/it]"
     ]
    },
    {
     "name": "stdout",
     "output_type": "stream",
     "text": [
      "Creating RawArray with float64 data, n_channels=14, n_times=38912\n",
      "    Range : 0 ... 38911 =      0.000 ...   303.992 secs\n",
      "Ready.\n",
      "EEG channel type selected for re-referencing\n",
      "Applying average reference.\n",
      "Applying a custom EEG reference.\n",
      "Not setting metadata\n",
      "Not setting metadata\n",
      "302 matching events found\n",
      "No baseline correction applied\n",
      "0 projection items activated\n",
      "Loading data for 302 events and 384 original time points ...\n",
      "0 bad epochs dropped\n"
     ]
    },
    {
     "name": "stderr",
     "output_type": "stream",
     "text": [
      "\r",
      "85it [25:59, 17.92s/it]"
     ]
    },
    {
     "name": "stdout",
     "output_type": "stream",
     "text": [
      "Creating RawArray with float64 data, n_channels=14, n_times=39040\n",
      "    Range : 0 ... 39039 =      0.000 ...   304.992 secs\n",
      "Ready.\n",
      "EEG channel type selected for re-referencing\n",
      "Applying average reference.\n",
      "Applying a custom EEG reference.\n",
      "Not setting metadata\n",
      "Not setting metadata\n",
      "303 matching events found\n",
      "No baseline correction applied\n",
      "0 projection items activated\n",
      "Loading data for 303 events and 384 original time points ...\n",
      "0 bad epochs dropped\n"
     ]
    },
    {
     "name": "stderr",
     "output_type": "stream",
     "text": [
      "\r",
      "86it [26:17, 17.93s/it]"
     ]
    },
    {
     "name": "stdout",
     "output_type": "stream",
     "text": [
      "Creating RawArray with float64 data, n_channels=14, n_times=39040\n",
      "    Range : 0 ... 39039 =      0.000 ...   304.992 secs\n",
      "Ready.\n",
      "EEG channel type selected for re-referencing\n",
      "Applying average reference.\n",
      "Applying a custom EEG reference.\n",
      "Not setting metadata\n",
      "Not setting metadata\n",
      "303 matching events found\n",
      "No baseline correction applied\n",
      "0 projection items activated\n",
      "Loading data for 303 events and 384 original time points ...\n",
      "0 bad epochs dropped\n"
     ]
    },
    {
     "name": "stderr",
     "output_type": "stream",
     "text": [
      "\r",
      "87it [26:35, 17.93s/it]"
     ]
    },
    {
     "name": "stdout",
     "output_type": "stream",
     "text": [
      "Creating RawArray with float64 data, n_channels=14, n_times=37760\n",
      "    Range : 0 ... 37759 =      0.000 ...   294.992 secs\n",
      "Ready.\n",
      "EEG channel type selected for re-referencing\n",
      "Applying average reference.\n",
      "Applying a custom EEG reference.\n",
      "Not setting metadata\n",
      "Not setting metadata\n",
      "293 matching events found\n",
      "No baseline correction applied\n",
      "0 projection items activated\n",
      "Loading data for 293 events and 384 original time points ...\n",
      "0 bad epochs dropped\n"
     ]
    },
    {
     "name": "stderr",
     "output_type": "stream",
     "text": [
      "\r",
      "88it [26:52, 17.77s/it]"
     ]
    },
    {
     "name": "stdout",
     "output_type": "stream",
     "text": [
      "Creating RawArray with float64 data, n_channels=14, n_times=42368\n",
      "    Range : 0 ... 42367 =      0.000 ...   330.992 secs\n",
      "Ready.\n",
      "EEG channel type selected for re-referencing\n",
      "Applying average reference.\n",
      "Applying a custom EEG reference.\n",
      "Not setting metadata\n",
      "Not setting metadata\n",
      "329 matching events found\n",
      "No baseline correction applied\n",
      "0 projection items activated\n",
      "Loading data for 329 events and 384 original time points ...\n",
      "0 bad epochs dropped\n"
     ]
    },
    {
     "name": "stderr",
     "output_type": "stream",
     "text": [
      "\r",
      "89it [27:12, 18.28s/it]"
     ]
    },
    {
     "name": "stdout",
     "output_type": "stream",
     "text": [
      "Creating RawArray with float64 data, n_channels=14, n_times=38528\n",
      "    Range : 0 ... 38527 =      0.000 ...   300.992 secs\n",
      "Ready.\n",
      "EEG channel type selected for re-referencing\n",
      "Applying average reference.\n",
      "Applying a custom EEG reference.\n",
      "Not setting metadata\n",
      "Not setting metadata\n",
      "299 matching events found\n",
      "No baseline correction applied\n",
      "0 projection items activated\n",
      "Loading data for 299 events and 384 original time points ...\n",
      "0 bad epochs dropped\n"
     ]
    },
    {
     "name": "stderr",
     "output_type": "stream",
     "text": [
      "\r",
      "90it [27:29, 18.09s/it]"
     ]
    },
    {
     "name": "stdout",
     "output_type": "stream",
     "text": [
      "Creating RawArray with float64 data, n_channels=14, n_times=38912\n",
      "    Range : 0 ... 38911 =      0.000 ...   303.992 secs\n",
      "Ready.\n",
      "EEG channel type selected for re-referencing\n",
      "Applying average reference.\n",
      "Applying a custom EEG reference.\n",
      "Not setting metadata\n",
      "Not setting metadata\n",
      "302 matching events found\n",
      "No baseline correction applied\n",
      "0 projection items activated\n",
      "Loading data for 302 events and 384 original time points ...\n",
      "0 bad epochs dropped\n"
     ]
    },
    {
     "name": "stderr",
     "output_type": "stream",
     "text": [
      "\r",
      "91it [27:47, 18.08s/it]"
     ]
    },
    {
     "name": "stdout",
     "output_type": "stream",
     "text": [
      "Creating RawArray with float64 data, n_channels=14, n_times=38400\n",
      "    Range : 0 ... 38399 =      0.000 ...   299.992 secs\n",
      "Ready.\n",
      "EEG channel type selected for re-referencing\n",
      "Applying average reference.\n",
      "Applying a custom EEG reference.\n",
      "Not setting metadata\n",
      "Not setting metadata\n",
      "298 matching events found\n",
      "No baseline correction applied\n",
      "0 projection items activated\n",
      "Loading data for 298 events and 384 original time points ...\n",
      "0 bad epochs dropped\n"
     ]
    },
    {
     "name": "stderr",
     "output_type": "stream",
     "text": [
      "\r",
      "92it [28:05, 18.09s/it]"
     ]
    },
    {
     "name": "stdout",
     "output_type": "stream",
     "text": [
      "Creating RawArray with float64 data, n_channels=14, n_times=39296\n",
      "    Range : 0 ... 39295 =      0.000 ...   306.992 secs\n",
      "Ready.\n",
      "EEG channel type selected for re-referencing\n",
      "Applying average reference.\n",
      "Applying a custom EEG reference.\n",
      "Not setting metadata\n",
      "Not setting metadata\n",
      "305 matching events found\n",
      "No baseline correction applied\n",
      "0 projection items activated\n",
      "Loading data for 305 events and 384 original time points ...\n",
      "0 bad epochs dropped\n"
     ]
    },
    {
     "name": "stderr",
     "output_type": "stream",
     "text": [
      "\r",
      "93it [28:24, 18.17s/it]"
     ]
    },
    {
     "name": "stdout",
     "output_type": "stream",
     "text": [
      "Creating RawArray with float64 data, n_channels=14, n_times=38400\n",
      "    Range : 0 ... 38399 =      0.000 ...   299.992 secs\n",
      "Ready.\n",
      "EEG channel type selected for re-referencing\n",
      "Applying average reference.\n",
      "Applying a custom EEG reference.\n",
      "Not setting metadata\n",
      "Not setting metadata\n",
      "298 matching events found\n",
      "No baseline correction applied\n",
      "0 projection items activated\n",
      "Loading data for 298 events and 384 original time points ...\n",
      "0 bad epochs dropped\n"
     ]
    },
    {
     "name": "stderr",
     "output_type": "stream",
     "text": [
      "\r",
      "94it [28:41, 18.00s/it]"
     ]
    },
    {
     "name": "stdout",
     "output_type": "stream",
     "text": [
      "Creating RawArray with float64 data, n_channels=14, n_times=38528\n",
      "    Range : 0 ... 38527 =      0.000 ...   300.992 secs\n",
      "Ready.\n",
      "EEG channel type selected for re-referencing\n",
      "Applying average reference.\n",
      "Applying a custom EEG reference.\n",
      "Not setting metadata\n",
      "Not setting metadata\n",
      "299 matching events found\n",
      "No baseline correction applied\n",
      "0 projection items activated\n",
      "Loading data for 299 events and 384 original time points ...\n",
      "0 bad epochs dropped\n"
     ]
    },
    {
     "name": "stderr",
     "output_type": "stream",
     "text": [
      "\r",
      "95it [28:59, 17.91s/it]"
     ]
    },
    {
     "name": "stdout",
     "output_type": "stream",
     "text": [
      "Creating RawArray with float64 data, n_channels=14, n_times=37632\n",
      "    Range : 0 ... 37631 =      0.000 ...   293.992 secs\n",
      "Ready.\n",
      "EEG channel type selected for re-referencing\n",
      "Applying average reference.\n",
      "Applying a custom EEG reference.\n",
      "Not setting metadata\n",
      "Not setting metadata\n",
      "292 matching events found\n",
      "No baseline correction applied\n",
      "0 projection items activated\n",
      "Loading data for 292 events and 384 original time points ...\n",
      "0 bad epochs dropped\n"
     ]
    },
    {
     "name": "stderr",
     "output_type": "stream",
     "text": [
      "\r",
      "96it [29:16, 17.72s/it]"
     ]
    },
    {
     "name": "stdout",
     "output_type": "stream",
     "text": [
      "Creating RawArray with float64 data, n_channels=14, n_times=38400\n",
      "    Range : 0 ... 38399 =      0.000 ...   299.992 secs\n",
      "Ready.\n",
      "EEG channel type selected for re-referencing\n",
      "Applying average reference.\n",
      "Applying a custom EEG reference.\n",
      "Not setting metadata\n",
      "Not setting metadata\n",
      "298 matching events found\n",
      "No baseline correction applied\n",
      "0 projection items activated\n",
      "Loading data for 298 events and 384 original time points ...\n",
      "0 bad epochs dropped\n"
     ]
    },
    {
     "name": "stderr",
     "output_type": "stream",
     "text": [
      "97it [29:34, 18.29s/it]\n"
     ]
    }
   ],
   "source": [
    "grpnos, labels, paths = [],[],[]\n",
    "for i, grpno in tqdm(enumerate(grp_keys)):\n",
    "    grp = groups.get_group(grpno).drop(['subject_id'],axis=1)\n",
    "    label = int(grp['y'].unique())\n",
    "    subject_id = grpno\n",
    "    grp = grp.drop('y',axis=1)\n",
    "    data = convertDF2MNE(grp)#(trials, channels, length)\n",
    "    for c, x in enumerate(data):#loop trials\n",
    "        Wx, scales = cwt(x, 'morlet')\n",
    "        Wx=np.abs(Wx)\n",
    "        path=os.path.join('./scaleogram',f'subvideo_{grpno}/',)\n",
    "        os.makedirs(path,exist_ok=True)\n",
    "        path=path+f'trial_{c}.npy'\n",
    "        np.save(path, Wx)\n",
    "\n",
    "        grpnos.append(i)\n",
    "        labels.append(label)\n",
    "        paths.append(path)"
   ]
  },
  {
   "cell_type": "markdown",
   "metadata": {},
   "source": [
    "#### Modelo (CNN) "
   ]
  },
  {
   "cell_type": "code",
   "execution_count": 17,
   "metadata": {},
   "outputs": [
    {
     "ename": "NameError",
     "evalue": "name 'labels' is not defined",
     "output_type": "error",
     "traceback": [
      "\u001b[1;31m---------------------------------------------------------------------------\u001b[0m",
      "\u001b[1;31mNameError\u001b[0m                                 Traceback (most recent call last)",
      "\u001b[1;32m<ipython-input-17-23e4e9a5c2c9>\u001b[0m in \u001b[0;36m<module>\u001b[1;34m\u001b[0m\n\u001b[0;32m     13\u001b[0m         \u001b[0mdata\u001b[0m \u001b[1;33m=\u001b[0m \u001b[0mnp\u001b[0m\u001b[1;33m.\u001b[0m\u001b[0mload\u001b[0m\u001b[1;33m(\u001b[0m\u001b[0mfile_path\u001b[0m\u001b[1;33m)\u001b[0m\u001b[1;33m\u001b[0m\u001b[0m\n\u001b[0;32m     14\u001b[0m         \u001b[0mX\u001b[0m\u001b[1;33m.\u001b[0m\u001b[0mappend\u001b[0m\u001b[1;33m(\u001b[0m\u001b[0mdata\u001b[0m\u001b[1;33m)\u001b[0m  \u001b[1;31m# agrego datos cwt a X\u001b[0m\u001b[1;33m\u001b[0m\u001b[0m\n\u001b[1;32m---> 15\u001b[1;33m         \u001b[0my\u001b[0m\u001b[1;33m.\u001b[0m\u001b[0mappend\u001b[0m\u001b[1;33m(\u001b[0m\u001b[0mlabels\u001b[0m\u001b[1;33m[\u001b[0m\u001b[0mi\u001b[0m\u001b[1;33m]\u001b[0m\u001b[1;33m)\u001b[0m  \u001b[1;31m# agrego las labels a y\u001b[0m\u001b[1;33m\u001b[0m\u001b[0m\n\u001b[0m\u001b[0;32m     16\u001b[0m \u001b[1;33m\u001b[0m\u001b[0m\n\u001b[0;32m     17\u001b[0m \u001b[1;31m#acá tengo la info de x e y separada\u001b[0m\u001b[1;33m\u001b[0m\u001b[1;33m\u001b[0m\u001b[0m\n",
      "\u001b[1;31mNameError\u001b[0m: name 'labels' is not defined"
     ]
    }
   ],
   "source": [
    "#SEPARO EN X E Y\n",
    "\n",
    "directory_path = r'C:\\Users\\47575909\\Desktop\\scaleogram' #Ruta de los archivos (carpeta scaleogram)\n",
    "\n",
    "X = []\n",
    "y = []\n",
    "\n",
    "subfolders = [f.name for f in os.scandir(r'C:\\Users\\47575909\\Desktop\\scaleogram') if f.is_dir()]\n",
    "\n",
    "for i, subject_id in enumerate(grp_keys):\n",
    "    for c in range(len(subfolders)):\n",
    "        file_path = f'{directory_path}/subvideo_{subject_id}/trial_{c + 97}.npy'\n",
    "        data = np.load(file_path)\n",
    "        X.append(data)  # agrego datos cwt a X\n",
    "        y.append(labels[i])  # agrego las labels a y\n",
    "\n",
    "#acá tengo la info de x e y separada\n",
    "X = np.array(X)\n",
    "y = np.array(y)\n",
    "\n",
    "print('Ya se separó todo!')\n",
    "print('Salió todo bien, tranquina :))')\n",
    "\n",
    "\n",
    "\n",
    "#NOOOOOOOOOOOOOOOOOOOOOOO TENGO QUE USAR EL DATAREADER DEL INDIO DE YOUTUBE"
   ]
  },
  {
   "cell_type": "code",
   "execution_count": 5,
   "metadata": {},
   "outputs": [
    {
     "ename": "AttributeError",
     "evalue": "'list' object has no attribute 'min'",
     "output_type": "error",
     "traceback": [
      "\u001b[1;31m---------------------------------------------------------------------------\u001b[0m",
      "\u001b[1;31mAttributeError\u001b[0m                            Traceback (most recent call last)",
      "\u001b[1;32m<ipython-input-5-a18f4c0ebadc>\u001b[0m in \u001b[0;36m<module>\u001b[1;34m\u001b[0m\n\u001b[0;32m      1\u001b[0m \u001b[1;31m#NORMALIZO X en rango [0, 1]\u001b[0m\u001b[1;33m\u001b[0m\u001b[1;33m\u001b[0m\u001b[0m\n\u001b[1;32m----> 2\u001b[1;33m \u001b[0mX\u001b[0m \u001b[1;33m=\u001b[0m \u001b[1;33m(\u001b[0m\u001b[0mX\u001b[0m \u001b[1;33m-\u001b[0m \u001b[0mX\u001b[0m\u001b[1;33m.\u001b[0m\u001b[0mmin\u001b[0m\u001b[1;33m(\u001b[0m\u001b[1;33m)\u001b[0m\u001b[1;33m)\u001b[0m \u001b[1;33m/\u001b[0m \u001b[1;33m(\u001b[0m\u001b[0mX\u001b[0m\u001b[1;33m.\u001b[0m\u001b[0mmax\u001b[0m\u001b[1;33m(\u001b[0m\u001b[1;33m)\u001b[0m \u001b[1;33m-\u001b[0m \u001b[0mX\u001b[0m\u001b[1;33m.\u001b[0m\u001b[0mmin\u001b[0m\u001b[1;33m(\u001b[0m\u001b[1;33m)\u001b[0m\u001b[1;33m)\u001b[0m\u001b[1;33m\u001b[0m\u001b[0m\n\u001b[0m",
      "\u001b[1;31mAttributeError\u001b[0m: 'list' object has no attribute 'min'"
     ]
    }
   ],
   "source": [
    "#NORMALIZO X en rango [0, 1]\n",
    "X = (X - X.min()) / (X.max() - X.min())"
   ]
  },
  {
   "cell_type": "code",
   "execution_count": null,
   "metadata": {},
   "outputs": [],
   "source": [
    "#DIVIDO EN TRAIN, TEST Y EVALUATION\n",
    "#Divido los datos de train de los de test y evaluation (70/30)\n",
    "X_train, X_testVal, y_train, y_testVal = train_test_split(X, y, test_size=0.3, random_state=42)\n",
    "\n",
    "#Divido los datos de test de los de evaluation (50/50 del 30% anterior)\n",
    "X_val, X_test, y_val, y_test = train_test_split(X_testVal, y_testVal, test_size=0.5, random_state=42)"
   ]
  },
  {
   "cell_type": "markdown",
   "metadata": {},
   "source": [
    "cwt.shape = (14, 230, 384)\n",
    "\n",
    "- Alto: 230 (número de filas en tus imágenes CWT).\n",
    "- Ancho: 384 (número de columnas en tus imágenes CWT).\n",
    "- Canales: 14 (número de canales EEG)."
   ]
  },
  {
   "cell_type": "code",
   "execution_count": null,
   "metadata": {},
   "outputs": [],
   "source": [
    "#si es que me toma mal la imput shape seguramente es por la longitud de la grabación de cada eeg, \n",
    "# por lo que dice la info del dataset no todos los eeg tienen la exacta misma duración"
   ]
  },
  {
   "cell_type": "code",
   "execution_count": null,
   "metadata": {},
   "outputs": [],
   "source": [
    "#CREO LA CNN\n",
    "model = tf.keras.models.Sequential([\n",
    "    tf.keras.layers.Conv2D(32, (3,3), activation='relu', input_shape=(230, 384, 14)),\n",
    "    tf.keras.layers.MaxPooling2D(2, 2),\n",
    "\n",
    "    tf.keras.layers.Conv2D(64, (3,3), activation='relu'),\n",
    "    tf.keras.layers.MaxPooling2D(2,2),\n",
    "\n",
    "    tf.keras.layers.Dropout(0.5),\n",
    "    tf.keras.layers.Flatten(),\n",
    "    tf.keras.layers.Dense(100, activation='relu'),\n",
    "    tf.keras.layers.Dense(1, activation='sigmoid')\n",
    "])"
   ]
  },
  {
   "cell_type": "code",
   "execution_count": null,
   "metadata": {},
   "outputs": [],
   "source": [
    "#COMPILO\n",
    "model.compile(optimizer='adam',\n",
    "              loss='binary_crossentropy',\n",
    "              metrics=['accuracy'])"
   ]
  },
  {
   "cell_type": "code",
   "execution_count": null,
   "metadata": {},
   "outputs": [],
   "source": [
    "#ENTRENO\n",
    "model.fit(X_train, y_train, epochs=10, validation_data=(X_val, y_val))\n",
    "\n",
    "#EVALÚO\n",
    "test_loss, test_acc = model.evaluate(X_test, y_test)\n",
    "\n",
    "#capaz que debería probar con cross validation después"
   ]
  },
  {
   "cell_type": "code",
   "execution_count": null,
   "metadata": {},
   "outputs": [],
   "source": [
    "#VEO LA PERFORMANCE\n",
    "print(\"Accuracy : \", test_acc)\n",
    "print(\"Loss : \", test_loss)"
   ]
  },
  {
   "cell_type": "markdown",
   "metadata": {
    "id": "efa1G9v7pASV"
   },
   "source": [
    "**Tengo que hacer y notas**\n",
    "##### **--> pasar todo a una pc**\n",
    "##### **--> separar en datos de train, test y validation**\n",
    "\n",
    "`78` = train\n",
    "\n",
    "`10` = validation\n",
    "\n",
    "`9` = test\n",
    "\n",
    "##### **--> ver el formato y como feedearselo a una red neuronal**\n",
    "\n",
    "Opciones de modelos a investigar:\n",
    "\n",
    "*   `Convolutional neural network (CNN)`\n",
    "*   `Recurrent neural network (RNN)`\n",
    "\n"
   ]
  },
  {
   "cell_type": "markdown",
   "metadata": {
    "id": "TZExNLtusPKr"
   },
   "source": [
    "**ChatGPT dice:**\n",
    "\n",
    "Para la detección de epilepsia utilizando datos EEG, una de las arquitecturas de modelo que ha demostrado ser efectiva es una red neuronal convolucional (CNN) adaptada a la tarea de clasificación binaria. Dado que tienes representaciones de tus datos en formato de escala de tiempo-frecuencia (por ejemplo, mediante la transformada continua Wavelet - CWT), puedes aprovechar la capacidad de las CNN para capturar patrones espaciales y temporales en tus datos.\n",
    "\n",
    "Aquí hay un enfoque general que puedes seguir:\n",
    "\n",
    "1. **Preprocesamiento de datos**: Asegúrate de que tus datos estén preprocesados adecuadamente, incluyendo la extracción de las representaciones de escala de tiempo-frecuencia (escalogramas) que has mencionado.\n",
    "\n",
    "2. **División de datos**: Divide tus datos en conjuntos de entrenamiento, validación y prueba, como se mencionó anteriormente.\n",
    "\n",
    "3. **Diseño de la CNN**:\n",
    "   - Diseña una arquitectura de CNN para la clasificación binaria (epilepsia o no epilepsia).\n",
    "   - La entrada de la CNN será la representación de escala de tiempo-frecuencia de tus datos EEG.\n",
    "   - La arquitectura puede constar de varias capas convolucionales seguidas de capas de agrupación (pooling) para capturar patrones espaciales y temporales en los escalogramas.\n",
    "   - Agrega capas totalmente conectadas (densas) para realizar la clasificación final.\n",
    "\n",
    "4. **Entrenamiento del modelo**:\n",
    "   - Utiliza el conjunto de entrenamiento para entrenar la CNN.\n",
    "   - Define una función de pérdida apropiada, como la entropía cruzada binaria (binary cross-entropy).\n",
    "   - Ajusta los hiperparámetros, como la tasa de aprendizaje y la cantidad de épocas, y utiliza el conjunto de validación para la selección de modelos y el ajuste de hiperparámetros.\n",
    "\n",
    "5. **Evaluación del modelo**:\n",
    "   - Evalúa el rendimiento del modelo en el conjunto de prueba utilizando métricas como precisión, sensibilidad, especificidad y el área bajo la curva ROC (AUC-ROC).\n",
    "   - Realiza un análisis adicional de las métricas de evaluación, como la matriz de confusión, para entender mejor el rendimiento del modelo en la detección de epilepsia.\n",
    "\n",
    "6. **Ajuste y optimización**:\n",
    "   - Si el rendimiento del modelo no es satisfactorio, considera realizar ajustes en la arquitectura de la CNN, la cantidad de capas, el tamaño del filtro, etc., y vuelve a entrenar y evaluar.\n",
    "\n",
    "7. **Validación cruzada**:\n",
    "   - Para obtener una evaluación más robusta, considera la posibilidad de realizar validación cruzada en lugar de una única división de los datos.\n",
    "\n",
    "Recuerda que la calidad de tus datos, la cantidad de muestras y la representatividad de las clases (epilepsia y no epilepsia) son factores críticos para el éxito del modelo. Además, es importante consultar la literatura científica y posiblemente colaborar con expertos en neurociencia para asegurarte de que estás considerando adecuadamente los aspectos clínicos y científicos de la detección de epilepsia."
   ]
  }
 ],
 "metadata": {
  "colab": {
   "collapsed_sections": [
    "j4rpiWwTXqTL"
   ],
   "provenance": []
  },
  "kernelspec": {
   "display_name": "Python 3",
   "language": "python",
   "name": "python3"
  },
  "language_info": {
   "codemirror_mode": {
    "name": "ipython",
    "version": 3
   },
   "file_extension": ".py",
   "mimetype": "text/x-python",
   "name": "python",
   "nbconvert_exporter": "python",
   "pygments_lexer": "ipython3",
   "version": "3.6.5"
  },
  "vscode": {
   "interpreter": {
    "hash": "f4e9cda46bb2d9d7fe6ecdff0f8336a934348bf06cb492f2f42f60739b3403b4"
   }
  }
 },
 "nbformat": 4,
 "nbformat_minor": 4
}
