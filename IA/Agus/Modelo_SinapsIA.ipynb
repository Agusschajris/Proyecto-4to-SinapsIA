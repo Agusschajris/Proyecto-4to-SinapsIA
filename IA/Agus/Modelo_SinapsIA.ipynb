{
 "cells": [
  {
   "cell_type": "markdown",
   "metadata": {
    "id": "TijoZg4BXl1y"
   },
   "source": [
    "**Modelo Sinapsia**"
   ]
  },
  {
   "cell_type": "code",
   "execution_count": 1,
   "metadata": {
    "id": "VApuyieewhEo"
   },
   "outputs": [
    {
     "data": {
      "text/plain": [
       "'\\nInstall:\\n- pandas\\n- numpy\\n- ssqueezepy\\n- mne\\n- scipy\\n- sklearn\\n- tensorflow\\n'"
      ]
     },
     "execution_count": 1,
     "metadata": {},
     "output_type": "execute_result"
    }
   ],
   "source": [
    "'''\n",
    "Install:\n",
    "- pandas\n",
    "- numpy\n",
    "- ssqueezepy\n",
    "- mne\n",
    "- scipy\n",
    "- sklearn\n",
    "- tensorflow\n",
    "'''"
   ]
  },
  {
   "cell_type": "code",
   "execution_count": 1,
   "metadata": {
    "id": "2-iyHX6BYNps"
   },
   "outputs": [],
   "source": [
    "import pandas as pd\n",
    "import glob\n",
    "import ssqueezepy #para convertir la señal en imagen\n",
    "from ssqueezepy import cwt\n",
    "from ssqueezepy.visuals import plot, imshow\n",
    "import os\n",
    "import mne #eeg analysis library\n",
    "import scipy.io\n",
    "#import torch.nn as nn\n",
    "#import torch\n",
    "import numpy as np\n",
    "import re\n",
    "from sklearn.model_selection import train_test_split\n",
    "import tensorflow as tf\n",
    "from tensorflow.keras import layers, models"
   ]
  },
  {
   "cell_type": "code",
   "execution_count": null,
   "metadata": {
    "colab": {
     "base_uri": "https://localhost:8080/"
    },
    "id": "vPq2ev1blT96",
    "outputId": "55070294-2174-4d2d-d786-62f26763998e"
   },
   "outputs": [
    {
     "name": "stdout",
     "output_type": "stream",
     "text": [
      "Drive already mounted at /content/drive; to attempt to forcibly remount, call drive.mount(\"/content/drive\", force_remount=True).\n"
     ]
    }
   ],
   "source": [
    "#from google.colab import drive\n",
    "#drive.mount('/content/drive')"
   ]
  },
  {
   "cell_type": "markdown",
   "metadata": {
    "id": "j4rpiWwTXqTL"
   },
   "source": [
    "**Ordenando el dataset (no correr)**"
   ]
  },
  {
   "cell_type": "markdown",
   "metadata": {
    "id": "pQ-tAtV7YZ3M"
   },
   "source": [
    "----------> Juntamos los archivos"
   ]
  },
  {
   "cell_type": "code",
   "execution_count": null,
   "metadata": {
    "id": "sixfpxnVhk6N"
   },
   "outputs": [],
   "source": [
    "#subo el archivo con las ids y diagnósticos (y)\n",
    "metadata = pd.read_csv('metadata_guineabissau.csv')\n",
    "metadata.head(5)"
   ]
  },
  {
   "cell_type": "code",
   "execution_count": null,
   "metadata": {
    "id": "qr0JmSUUjcGC"
   },
   "outputs": [],
   "source": [
    "metadata = metadata.drop('Remarks', axis=1)\n",
    "metadata = metadata.drop('recordedPeriod', axis=1)\n",
    "metadata = metadata.drop('startTime', axis=1)\n",
    "metadata = metadata.drop('Eyes.condition', axis=1)\n",
    "\n",
    "metadata.head(5)"
   ]
  },
  {
   "cell_type": "code",
   "execution_count": 1,
   "metadata": {
    "id": "Bu1nAwkzYgX6"
   },
   "outputs": [
    {
     "ename": "NameError",
     "evalue": "name 'glob' is not defined",
     "output_type": "error",
     "traceback": [
      "\u001b[1;31m---------------------------------------------------------------------------\u001b[0m",
      "\u001b[1;31mNameError\u001b[0m                                 Traceback (most recent call last)",
      "\u001b[1;32m<ipython-input-1-6aee98d086e8>\u001b[0m in \u001b[0;36m<module>\u001b[1;34m\u001b[0m\n\u001b[0;32m      1\u001b[0m \u001b[0mpath\u001b[0m \u001b[1;33m=\u001b[0m \u001b[1;34mr'/content/eeg_data'\u001b[0m\u001b[1;33m\u001b[0m\u001b[0m\n\u001b[1;32m----> 2\u001b[1;33m \u001b[0mall_files\u001b[0m \u001b[1;33m=\u001b[0m \u001b[0mglob\u001b[0m\u001b[1;33m.\u001b[0m\u001b[0mglob\u001b[0m\u001b[1;33m(\u001b[0m\u001b[0mpath\u001b[0m \u001b[1;33m+\u001b[0m \u001b[1;34m\"/*.csv\"\u001b[0m\u001b[1;33m)\u001b[0m\u001b[1;33m\u001b[0m\u001b[0m\n\u001b[0m\u001b[0;32m      3\u001b[0m \u001b[1;33m\u001b[0m\u001b[0m\n\u001b[0;32m      4\u001b[0m \u001b[0mall_files\u001b[0m \u001b[1;33m=\u001b[0m \u001b[0msorted\u001b[0m\u001b[1;33m(\u001b[0m\u001b[0mall_files\u001b[0m\u001b[1;33m)\u001b[0m\u001b[1;33m\u001b[0m\u001b[0m\n\u001b[0;32m      5\u001b[0m \u001b[1;33m\u001b[0m\u001b[0m\n",
      "\u001b[1;31mNameError\u001b[0m: name 'glob' is not defined"
     ]
    }
   ],
   "source": [
    "path = r'/content/eeg_data'\n",
    "all_files = glob.glob(path + \"/*.csv\")\n",
    "\n",
    "all_files = sorted(all_files)\n",
    "\n",
    "\n",
    "def add_id_y (all_files, metadata):\n",
    "  index = 0\n",
    "\n",
    "  modified_dataframes_list = []\n",
    "  non_eeg_columns = []\n",
    "\n",
    "  for filename in all_files:\n",
    "    df = pd.read_csv(filename, index_col=None, header=0)\n",
    "    dataframe = df.iloc[:, 1:15].copy()\n",
    "    dataframe['subject_id'] = metadata['subject.id'][index]\n",
    "    dataframe['y'] = metadata['Group'][index]\n",
    "    index += 1\n",
    "    modified_dataframes_list.append(dataframe)\n",
    "\n",
    "  return modified_dataframes_list\n",
    "\n",
    "'''def join_csv (modified_dataframes_list):\n",
    "  dataframes_list = []\n",
    "\n",
    "  for filename in modified_dataframes_list:\n",
    "    dataframe = pd.read_csv(filename, index_col=None, header=0)\n",
    "    dataframes_list.append(dataframe)\n",
    "\n",
    "  all_dataframes = pd.concat(dataframes_list, axis=0, ignore_index=True)\n",
    "  all_dataframes.to_csv('eeg_data.csv', index=False)\n",
    "\n",
    "  return all_dataframes'''"
   ]
  },
  {
   "cell_type": "code",
   "execution_count": null,
   "metadata": {
    "id": "R7PSeTynovNi"
   },
   "outputs": [],
   "source": [
    "modified_dataframes = add_id_y(all_files, metadata)\n",
    "\n",
    "dataframes_list = []\n",
    "\n",
    "for dataframe in modified_dataframes:\n",
    "  dataframes_list.append(dataframe)\n",
    "\n",
    "all_dataframes = pd.concat(dataframes_list, axis=0, ignore_index=True)\n",
    "all_dataframes.to_csv('eeg_data.csv', index=False)"
   ]
  },
  {
   "cell_type": "code",
   "execution_count": null,
   "metadata": {
    "id": "jI5iQfDnber2"
   },
   "outputs": [],
   "source": [
    "all_dataframes"
   ]
  },
  {
   "cell_type": "markdown",
   "metadata": {
    "id": "QzpQG8cW3fvX"
   },
   "source": [
    "**---------------Procesando el dataset para el modelo (formato mne)---------------**"
   ]
  },
  {
   "cell_type": "markdown",
   "metadata": {
    "id": "FqiPCyZQtaQ_"
   },
   "source": [
    "**Colmna y**\n",
    "\n",
    "Epilepsia == 1\n",
    "\n",
    "Normal == 0"
   ]
  },
  {
   "cell_type": "code",
   "execution_count": 4,
   "metadata": {
    "tags": []
   },
   "outputs": [
    {
     "data": {
      "text/html": [
       "<div>\n",
       "<style scoped>\n",
       "    .dataframe tbody tr th:only-of-type {\n",
       "        vertical-align: middle;\n",
       "    }\n",
       "\n",
       "    .dataframe tbody tr th {\n",
       "        vertical-align: top;\n",
       "    }\n",
       "\n",
       "    .dataframe thead th {\n",
       "        text-align: right;\n",
       "    }\n",
       "</style>\n",
       "<table border=\"1\" class=\"dataframe\">\n",
       "  <thead>\n",
       "    <tr style=\"text-align: right;\">\n",
       "      <th></th>\n",
       "      <th>AF3</th>\n",
       "      <th>AF4</th>\n",
       "      <th>F3</th>\n",
       "      <th>F4</th>\n",
       "      <th>F7</th>\n",
       "      <th>F8</th>\n",
       "      <th>FC5</th>\n",
       "      <th>FC6</th>\n",
       "      <th>O1</th>\n",
       "      <th>O2</th>\n",
       "      <th>P7</th>\n",
       "      <th>P8</th>\n",
       "      <th>T7</th>\n",
       "      <th>T8</th>\n",
       "      <th>subject_id</th>\n",
       "      <th>y</th>\n",
       "    </tr>\n",
       "  </thead>\n",
       "  <tbody>\n",
       "    <tr>\n",
       "      <th>0</th>\n",
       "      <td>4426.153846</td>\n",
       "      <td>3994.871795</td>\n",
       "      <td>4408.205128</td>\n",
       "      <td>3847.692308</td>\n",
       "      <td>4690.256410</td>\n",
       "      <td>3895.897436</td>\n",
       "      <td>4702.051282</td>\n",
       "      <td>3914.871795</td>\n",
       "      <td>4049.743590</td>\n",
       "      <td>4297.948718</td>\n",
       "      <td>4186.153846</td>\n",
       "      <td>4132.820513</td>\n",
       "      <td>4106.666667</td>\n",
       "      <td>4076.410256</td>\n",
       "      <td>1</td>\n",
       "      <td>Epilepsy</td>\n",
       "    </tr>\n",
       "    <tr>\n",
       "      <th>1</th>\n",
       "      <td>4420.512821</td>\n",
       "      <td>3986.666667</td>\n",
       "      <td>4394.358974</td>\n",
       "      <td>3836.923077</td>\n",
       "      <td>4678.461538</td>\n",
       "      <td>3886.666667</td>\n",
       "      <td>4696.410256</td>\n",
       "      <td>3910.769231</td>\n",
       "      <td>4054.358974</td>\n",
       "      <td>4295.897436</td>\n",
       "      <td>4187.179487</td>\n",
       "      <td>4126.666667</td>\n",
       "      <td>4105.641026</td>\n",
       "      <td>4065.128205</td>\n",
       "      <td>1</td>\n",
       "      <td>Epilepsy</td>\n",
       "    </tr>\n",
       "    <tr>\n",
       "      <th>2</th>\n",
       "      <td>4413.846154</td>\n",
       "      <td>3986.153846</td>\n",
       "      <td>4386.666667</td>\n",
       "      <td>3831.794872</td>\n",
       "      <td>4654.871795</td>\n",
       "      <td>3881.025641</td>\n",
       "      <td>4690.769231</td>\n",
       "      <td>3908.205128</td>\n",
       "      <td>4066.666667</td>\n",
       "      <td>4301.025641</td>\n",
       "      <td>4188.205128</td>\n",
       "      <td>4123.076923</td>\n",
       "      <td>4103.076923</td>\n",
       "      <td>4063.589744</td>\n",
       "      <td>1</td>\n",
       "      <td>Epilepsy</td>\n",
       "    </tr>\n",
       "    <tr>\n",
       "      <th>3</th>\n",
       "      <td>4407.692308</td>\n",
       "      <td>3984.615385</td>\n",
       "      <td>4384.102564</td>\n",
       "      <td>3832.820513</td>\n",
       "      <td>4644.615385</td>\n",
       "      <td>3883.076923</td>\n",
       "      <td>4686.153846</td>\n",
       "      <td>3910.256410</td>\n",
       "      <td>4063.076923</td>\n",
       "      <td>4298.974359</td>\n",
       "      <td>4184.615385</td>\n",
       "      <td>4127.179487</td>\n",
       "      <td>4095.384615</td>\n",
       "      <td>4071.282051</td>\n",
       "      <td>1</td>\n",
       "      <td>Epilepsy</td>\n",
       "    </tr>\n",
       "    <tr>\n",
       "      <th>4</th>\n",
       "      <td>4407.179487</td>\n",
       "      <td>3978.974359</td>\n",
       "      <td>4382.564103</td>\n",
       "      <td>3832.307692</td>\n",
       "      <td>4647.692308</td>\n",
       "      <td>3878.974359</td>\n",
       "      <td>4685.641026</td>\n",
       "      <td>3903.076923</td>\n",
       "      <td>4057.948718</td>\n",
       "      <td>4295.384615</td>\n",
       "      <td>4182.564103</td>\n",
       "      <td>4128.205128</td>\n",
       "      <td>4090.769231</td>\n",
       "      <td>4064.102564</td>\n",
       "      <td>1</td>\n",
       "      <td>Epilepsy</td>\n",
       "    </tr>\n",
       "    <tr>\n",
       "      <th>...</th>\n",
       "      <td>...</td>\n",
       "      <td>...</td>\n",
       "      <td>...</td>\n",
       "      <td>...</td>\n",
       "      <td>...</td>\n",
       "      <td>...</td>\n",
       "      <td>...</td>\n",
       "      <td>...</td>\n",
       "      <td>...</td>\n",
       "      <td>...</td>\n",
       "      <td>...</td>\n",
       "      <td>...</td>\n",
       "      <td>...</td>\n",
       "      <td>...</td>\n",
       "      <td>...</td>\n",
       "      <td>...</td>\n",
       "    </tr>\n",
       "    <tr>\n",
       "      <th>3850363</th>\n",
       "      <td>4211.794872</td>\n",
       "      <td>3862.051282</td>\n",
       "      <td>4139.487179</td>\n",
       "      <td>3670.256410</td>\n",
       "      <td>4327.179487</td>\n",
       "      <td>3662.564103</td>\n",
       "      <td>4557.435897</td>\n",
       "      <td>3894.358974</td>\n",
       "      <td>4238.974359</td>\n",
       "      <td>4189.743590</td>\n",
       "      <td>4010.256410</td>\n",
       "      <td>4126.153846</td>\n",
       "      <td>3830.769231</td>\n",
       "      <td>3883.589744</td>\n",
       "      <td>97</td>\n",
       "      <td>Control</td>\n",
       "    </tr>\n",
       "    <tr>\n",
       "      <th>3850364</th>\n",
       "      <td>4209.743590</td>\n",
       "      <td>3861.538462</td>\n",
       "      <td>4138.974359</td>\n",
       "      <td>3667.179487</td>\n",
       "      <td>4323.589744</td>\n",
       "      <td>3662.051282</td>\n",
       "      <td>4556.410256</td>\n",
       "      <td>3893.846154</td>\n",
       "      <td>4232.820513</td>\n",
       "      <td>4188.205128</td>\n",
       "      <td>4005.641026</td>\n",
       "      <td>4125.128205</td>\n",
       "      <td>3829.230769</td>\n",
       "      <td>3878.974359</td>\n",
       "      <td>97</td>\n",
       "      <td>Control</td>\n",
       "    </tr>\n",
       "    <tr>\n",
       "      <th>3850365</th>\n",
       "      <td>4211.282051</td>\n",
       "      <td>3862.564103</td>\n",
       "      <td>4136.410256</td>\n",
       "      <td>3671.282051</td>\n",
       "      <td>4324.102564</td>\n",
       "      <td>3664.102564</td>\n",
       "      <td>4556.923077</td>\n",
       "      <td>3896.923077</td>\n",
       "      <td>4235.384615</td>\n",
       "      <td>4185.128205</td>\n",
       "      <td>4005.128205</td>\n",
       "      <td>4123.076923</td>\n",
       "      <td>3829.230769</td>\n",
       "      <td>3882.051282</td>\n",
       "      <td>97</td>\n",
       "      <td>Control</td>\n",
       "    </tr>\n",
       "    <tr>\n",
       "      <th>3850366</th>\n",
       "      <td>4217.435897</td>\n",
       "      <td>3866.666667</td>\n",
       "      <td>4140.000000</td>\n",
       "      <td>3676.923077</td>\n",
       "      <td>4326.153846</td>\n",
       "      <td>3668.205128</td>\n",
       "      <td>4558.974359</td>\n",
       "      <td>3901.025641</td>\n",
       "      <td>4234.871795</td>\n",
       "      <td>4184.615385</td>\n",
       "      <td>4010.256410</td>\n",
       "      <td>4122.564103</td>\n",
       "      <td>3829.230769</td>\n",
       "      <td>3890.769231</td>\n",
       "      <td>97</td>\n",
       "      <td>Control</td>\n",
       "    </tr>\n",
       "    <tr>\n",
       "      <th>3850367</th>\n",
       "      <td>4217.948718</td>\n",
       "      <td>3866.153846</td>\n",
       "      <td>4141.538462</td>\n",
       "      <td>3672.820513</td>\n",
       "      <td>4326.153846</td>\n",
       "      <td>3668.717949</td>\n",
       "      <td>4558.974359</td>\n",
       "      <td>3900.512821</td>\n",
       "      <td>4234.358974</td>\n",
       "      <td>4185.128205</td>\n",
       "      <td>4016.410256</td>\n",
       "      <td>4123.589744</td>\n",
       "      <td>3830.256410</td>\n",
       "      <td>3892.820513</td>\n",
       "      <td>97</td>\n",
       "      <td>Control</td>\n",
       "    </tr>\n",
       "  </tbody>\n",
       "</table>\n",
       "<p>3850368 rows × 16 columns</p>\n",
       "</div>"
      ],
      "text/plain": [
       "                 AF3          AF4           F3           F4           F7  \\\n",
       "0        4426.153846  3994.871795  4408.205128  3847.692308  4690.256410   \n",
       "1        4420.512821  3986.666667  4394.358974  3836.923077  4678.461538   \n",
       "2        4413.846154  3986.153846  4386.666667  3831.794872  4654.871795   \n",
       "3        4407.692308  3984.615385  4384.102564  3832.820513  4644.615385   \n",
       "4        4407.179487  3978.974359  4382.564103  3832.307692  4647.692308   \n",
       "...              ...          ...          ...          ...          ...   \n",
       "3850363  4211.794872  3862.051282  4139.487179  3670.256410  4327.179487   \n",
       "3850364  4209.743590  3861.538462  4138.974359  3667.179487  4323.589744   \n",
       "3850365  4211.282051  3862.564103  4136.410256  3671.282051  4324.102564   \n",
       "3850366  4217.435897  3866.666667  4140.000000  3676.923077  4326.153846   \n",
       "3850367  4217.948718  3866.153846  4141.538462  3672.820513  4326.153846   \n",
       "\n",
       "                  F8          FC5          FC6           O1           O2  \\\n",
       "0        3895.897436  4702.051282  3914.871795  4049.743590  4297.948718   \n",
       "1        3886.666667  4696.410256  3910.769231  4054.358974  4295.897436   \n",
       "2        3881.025641  4690.769231  3908.205128  4066.666667  4301.025641   \n",
       "3        3883.076923  4686.153846  3910.256410  4063.076923  4298.974359   \n",
       "4        3878.974359  4685.641026  3903.076923  4057.948718  4295.384615   \n",
       "...              ...          ...          ...          ...          ...   \n",
       "3850363  3662.564103  4557.435897  3894.358974  4238.974359  4189.743590   \n",
       "3850364  3662.051282  4556.410256  3893.846154  4232.820513  4188.205128   \n",
       "3850365  3664.102564  4556.923077  3896.923077  4235.384615  4185.128205   \n",
       "3850366  3668.205128  4558.974359  3901.025641  4234.871795  4184.615385   \n",
       "3850367  3668.717949  4558.974359  3900.512821  4234.358974  4185.128205   \n",
       "\n",
       "                  P7           P8           T7           T8  subject_id  \\\n",
       "0        4186.153846  4132.820513  4106.666667  4076.410256           1   \n",
       "1        4187.179487  4126.666667  4105.641026  4065.128205           1   \n",
       "2        4188.205128  4123.076923  4103.076923  4063.589744           1   \n",
       "3        4184.615385  4127.179487  4095.384615  4071.282051           1   \n",
       "4        4182.564103  4128.205128  4090.769231  4064.102564           1   \n",
       "...              ...          ...          ...          ...         ...   \n",
       "3850363  4010.256410  4126.153846  3830.769231  3883.589744          97   \n",
       "3850364  4005.641026  4125.128205  3829.230769  3878.974359          97   \n",
       "3850365  4005.128205  4123.076923  3829.230769  3882.051282          97   \n",
       "3850366  4010.256410  4122.564103  3829.230769  3890.769231          97   \n",
       "3850367  4016.410256  4123.589744  3830.256410  3892.820513          97   \n",
       "\n",
       "                y  \n",
       "0        Epilepsy  \n",
       "1        Epilepsy  \n",
       "2        Epilepsy  \n",
       "3        Epilepsy  \n",
       "4        Epilepsy  \n",
       "...           ...  \n",
       "3850363   Control  \n",
       "3850364   Control  \n",
       "3850365   Control  \n",
       "3850366   Control  \n",
       "3850367   Control  \n",
       "\n",
       "[3850368 rows x 16 columns]"
      ]
     },
     "execution_count": 4,
     "metadata": {},
     "output_type": "execute_result"
    }
   ],
   "source": [
    "eeg_data = pd.read_csv('C:\\\\Users\\\\47575909\\\\Desktop\\\\eeg_data.csv')\n",
    "eeg_data"
   ]
  },
  {
   "cell_type": "code",
   "execution_count": 5,
   "metadata": {},
   "outputs": [
    {
     "data": {
      "text/html": [
       "<div>\n",
       "<style scoped>\n",
       "    .dataframe tbody tr th:only-of-type {\n",
       "        vertical-align: middle;\n",
       "    }\n",
       "\n",
       "    .dataframe tbody tr th {\n",
       "        vertical-align: top;\n",
       "    }\n",
       "\n",
       "    .dataframe thead th {\n",
       "        text-align: right;\n",
       "    }\n",
       "</style>\n",
       "<table border=\"1\" class=\"dataframe\">\n",
       "  <thead>\n",
       "    <tr style=\"text-align: right;\">\n",
       "      <th></th>\n",
       "      <th>AF3</th>\n",
       "      <th>AF4</th>\n",
       "      <th>F3</th>\n",
       "      <th>F4</th>\n",
       "      <th>F7</th>\n",
       "      <th>F8</th>\n",
       "      <th>FC5</th>\n",
       "      <th>FC6</th>\n",
       "      <th>O1</th>\n",
       "      <th>O2</th>\n",
       "      <th>P7</th>\n",
       "      <th>P8</th>\n",
       "      <th>T7</th>\n",
       "      <th>T8</th>\n",
       "      <th>subject_id</th>\n",
       "      <th>y</th>\n",
       "    </tr>\n",
       "  </thead>\n",
       "  <tbody>\n",
       "    <tr>\n",
       "      <th>0</th>\n",
       "      <td>4426.154</td>\n",
       "      <td>3994.872</td>\n",
       "      <td>4408.205</td>\n",
       "      <td>3847.692</td>\n",
       "      <td>4690.256</td>\n",
       "      <td>3895.897</td>\n",
       "      <td>4702.051</td>\n",
       "      <td>3914.872</td>\n",
       "      <td>4049.744</td>\n",
       "      <td>4297.949</td>\n",
       "      <td>4186.154</td>\n",
       "      <td>4132.821</td>\n",
       "      <td>4106.667</td>\n",
       "      <td>4076.410</td>\n",
       "      <td>1</td>\n",
       "      <td>Epilepsy</td>\n",
       "    </tr>\n",
       "    <tr>\n",
       "      <th>1</th>\n",
       "      <td>4420.513</td>\n",
       "      <td>3986.667</td>\n",
       "      <td>4394.359</td>\n",
       "      <td>3836.923</td>\n",
       "      <td>4678.462</td>\n",
       "      <td>3886.667</td>\n",
       "      <td>4696.410</td>\n",
       "      <td>3910.769</td>\n",
       "      <td>4054.359</td>\n",
       "      <td>4295.897</td>\n",
       "      <td>4187.179</td>\n",
       "      <td>4126.667</td>\n",
       "      <td>4105.641</td>\n",
       "      <td>4065.128</td>\n",
       "      <td>1</td>\n",
       "      <td>Epilepsy</td>\n",
       "    </tr>\n",
       "    <tr>\n",
       "      <th>2</th>\n",
       "      <td>4413.846</td>\n",
       "      <td>3986.154</td>\n",
       "      <td>4386.667</td>\n",
       "      <td>3831.795</td>\n",
       "      <td>4654.872</td>\n",
       "      <td>3881.026</td>\n",
       "      <td>4690.769</td>\n",
       "      <td>3908.205</td>\n",
       "      <td>4066.667</td>\n",
       "      <td>4301.026</td>\n",
       "      <td>4188.205</td>\n",
       "      <td>4123.077</td>\n",
       "      <td>4103.077</td>\n",
       "      <td>4063.590</td>\n",
       "      <td>1</td>\n",
       "      <td>Epilepsy</td>\n",
       "    </tr>\n",
       "    <tr>\n",
       "      <th>3</th>\n",
       "      <td>4407.692</td>\n",
       "      <td>3984.615</td>\n",
       "      <td>4384.103</td>\n",
       "      <td>3832.821</td>\n",
       "      <td>4644.615</td>\n",
       "      <td>3883.077</td>\n",
       "      <td>4686.154</td>\n",
       "      <td>3910.256</td>\n",
       "      <td>4063.077</td>\n",
       "      <td>4298.974</td>\n",
       "      <td>4184.615</td>\n",
       "      <td>4127.179</td>\n",
       "      <td>4095.385</td>\n",
       "      <td>4071.282</td>\n",
       "      <td>1</td>\n",
       "      <td>Epilepsy</td>\n",
       "    </tr>\n",
       "    <tr>\n",
       "      <th>4</th>\n",
       "      <td>4407.179</td>\n",
       "      <td>3978.974</td>\n",
       "      <td>4382.564</td>\n",
       "      <td>3832.308</td>\n",
       "      <td>4647.692</td>\n",
       "      <td>3878.974</td>\n",
       "      <td>4685.641</td>\n",
       "      <td>3903.077</td>\n",
       "      <td>4057.949</td>\n",
       "      <td>4295.385</td>\n",
       "      <td>4182.564</td>\n",
       "      <td>4128.205</td>\n",
       "      <td>4090.769</td>\n",
       "      <td>4064.103</td>\n",
       "      <td>1</td>\n",
       "      <td>Epilepsy</td>\n",
       "    </tr>\n",
       "    <tr>\n",
       "      <th>...</th>\n",
       "      <td>...</td>\n",
       "      <td>...</td>\n",
       "      <td>...</td>\n",
       "      <td>...</td>\n",
       "      <td>...</td>\n",
       "      <td>...</td>\n",
       "      <td>...</td>\n",
       "      <td>...</td>\n",
       "      <td>...</td>\n",
       "      <td>...</td>\n",
       "      <td>...</td>\n",
       "      <td>...</td>\n",
       "      <td>...</td>\n",
       "      <td>...</td>\n",
       "      <td>...</td>\n",
       "      <td>...</td>\n",
       "    </tr>\n",
       "    <tr>\n",
       "      <th>3850363</th>\n",
       "      <td>4211.795</td>\n",
       "      <td>3862.051</td>\n",
       "      <td>4139.487</td>\n",
       "      <td>3670.256</td>\n",
       "      <td>4327.179</td>\n",
       "      <td>3662.564</td>\n",
       "      <td>4557.436</td>\n",
       "      <td>3894.359</td>\n",
       "      <td>4238.974</td>\n",
       "      <td>4189.744</td>\n",
       "      <td>4010.256</td>\n",
       "      <td>4126.154</td>\n",
       "      <td>3830.769</td>\n",
       "      <td>3883.590</td>\n",
       "      <td>97</td>\n",
       "      <td>Control</td>\n",
       "    </tr>\n",
       "    <tr>\n",
       "      <th>3850364</th>\n",
       "      <td>4209.744</td>\n",
       "      <td>3861.538</td>\n",
       "      <td>4138.974</td>\n",
       "      <td>3667.179</td>\n",
       "      <td>4323.590</td>\n",
       "      <td>3662.051</td>\n",
       "      <td>4556.410</td>\n",
       "      <td>3893.846</td>\n",
       "      <td>4232.821</td>\n",
       "      <td>4188.205</td>\n",
       "      <td>4005.641</td>\n",
       "      <td>4125.128</td>\n",
       "      <td>3829.231</td>\n",
       "      <td>3878.974</td>\n",
       "      <td>97</td>\n",
       "      <td>Control</td>\n",
       "    </tr>\n",
       "    <tr>\n",
       "      <th>3850365</th>\n",
       "      <td>4211.282</td>\n",
       "      <td>3862.564</td>\n",
       "      <td>4136.410</td>\n",
       "      <td>3671.282</td>\n",
       "      <td>4324.103</td>\n",
       "      <td>3664.103</td>\n",
       "      <td>4556.923</td>\n",
       "      <td>3896.923</td>\n",
       "      <td>4235.385</td>\n",
       "      <td>4185.128</td>\n",
       "      <td>4005.128</td>\n",
       "      <td>4123.077</td>\n",
       "      <td>3829.231</td>\n",
       "      <td>3882.051</td>\n",
       "      <td>97</td>\n",
       "      <td>Control</td>\n",
       "    </tr>\n",
       "    <tr>\n",
       "      <th>3850366</th>\n",
       "      <td>4217.436</td>\n",
       "      <td>3866.667</td>\n",
       "      <td>4140.000</td>\n",
       "      <td>3676.923</td>\n",
       "      <td>4326.154</td>\n",
       "      <td>3668.205</td>\n",
       "      <td>4558.974</td>\n",
       "      <td>3901.026</td>\n",
       "      <td>4234.872</td>\n",
       "      <td>4184.615</td>\n",
       "      <td>4010.256</td>\n",
       "      <td>4122.564</td>\n",
       "      <td>3829.231</td>\n",
       "      <td>3890.769</td>\n",
       "      <td>97</td>\n",
       "      <td>Control</td>\n",
       "    </tr>\n",
       "    <tr>\n",
       "      <th>3850367</th>\n",
       "      <td>4217.949</td>\n",
       "      <td>3866.154</td>\n",
       "      <td>4141.538</td>\n",
       "      <td>3672.821</td>\n",
       "      <td>4326.154</td>\n",
       "      <td>3668.718</td>\n",
       "      <td>4558.974</td>\n",
       "      <td>3900.513</td>\n",
       "      <td>4234.359</td>\n",
       "      <td>4185.128</td>\n",
       "      <td>4016.410</td>\n",
       "      <td>4123.590</td>\n",
       "      <td>3830.256</td>\n",
       "      <td>3892.821</td>\n",
       "      <td>97</td>\n",
       "      <td>Control</td>\n",
       "    </tr>\n",
       "  </tbody>\n",
       "</table>\n",
       "<p>3850368 rows × 16 columns</p>\n",
       "</div>"
      ],
      "text/plain": [
       "              AF3       AF4        F3        F4        F7        F8       FC5  \\\n",
       "0        4426.154  3994.872  4408.205  3847.692  4690.256  3895.897  4702.051   \n",
       "1        4420.513  3986.667  4394.359  3836.923  4678.462  3886.667  4696.410   \n",
       "2        4413.846  3986.154  4386.667  3831.795  4654.872  3881.026  4690.769   \n",
       "3        4407.692  3984.615  4384.103  3832.821  4644.615  3883.077  4686.154   \n",
       "4        4407.179  3978.974  4382.564  3832.308  4647.692  3878.974  4685.641   \n",
       "...           ...       ...       ...       ...       ...       ...       ...   \n",
       "3850363  4211.795  3862.051  4139.487  3670.256  4327.179  3662.564  4557.436   \n",
       "3850364  4209.744  3861.538  4138.974  3667.179  4323.590  3662.051  4556.410   \n",
       "3850365  4211.282  3862.564  4136.410  3671.282  4324.103  3664.103  4556.923   \n",
       "3850366  4217.436  3866.667  4140.000  3676.923  4326.154  3668.205  4558.974   \n",
       "3850367  4217.949  3866.154  4141.538  3672.821  4326.154  3668.718  4558.974   \n",
       "\n",
       "              FC6        O1        O2        P7        P8        T7        T8  \\\n",
       "0        3914.872  4049.744  4297.949  4186.154  4132.821  4106.667  4076.410   \n",
       "1        3910.769  4054.359  4295.897  4187.179  4126.667  4105.641  4065.128   \n",
       "2        3908.205  4066.667  4301.026  4188.205  4123.077  4103.077  4063.590   \n",
       "3        3910.256  4063.077  4298.974  4184.615  4127.179  4095.385  4071.282   \n",
       "4        3903.077  4057.949  4295.385  4182.564  4128.205  4090.769  4064.103   \n",
       "...           ...       ...       ...       ...       ...       ...       ...   \n",
       "3850363  3894.359  4238.974  4189.744  4010.256  4126.154  3830.769  3883.590   \n",
       "3850364  3893.846  4232.821  4188.205  4005.641  4125.128  3829.231  3878.974   \n",
       "3850365  3896.923  4235.385  4185.128  4005.128  4123.077  3829.231  3882.051   \n",
       "3850366  3901.026  4234.872  4184.615  4010.256  4122.564  3829.231  3890.769   \n",
       "3850367  3900.513  4234.359  4185.128  4016.410  4123.590  3830.256  3892.821   \n",
       "\n",
       "         subject_id         y  \n",
       "0                 1  Epilepsy  \n",
       "1                 1  Epilepsy  \n",
       "2                 1  Epilepsy  \n",
       "3                 1  Epilepsy  \n",
       "4                 1  Epilepsy  \n",
       "...             ...       ...  \n",
       "3850363          97   Control  \n",
       "3850364          97   Control  \n",
       "3850365          97   Control  \n",
       "3850366          97   Control  \n",
       "3850367          97   Control  \n",
       "\n",
       "[3850368 rows x 16 columns]"
      ]
     },
     "execution_count": 5,
     "metadata": {},
     "output_type": "execute_result"
    }
   ],
   "source": [
    "eeg_data = eeg_data.round(3)\n",
    "eeg_data"
   ]
  },
  {
   "cell_type": "code",
   "execution_count": 6,
   "metadata": {
    "colab": {
     "base_uri": "https://localhost:8080/",
     "height": 444
    },
    "id": "2XiUWfmOki3i",
    "outputId": "d8490a9d-f719-45f0-b8a2-6a4f8c574ec5"
   },
   "outputs": [
    {
     "data": {
      "text/html": [
       "<div>\n",
       "<style scoped>\n",
       "    .dataframe tbody tr th:only-of-type {\n",
       "        vertical-align: middle;\n",
       "    }\n",
       "\n",
       "    .dataframe tbody tr th {\n",
       "        vertical-align: top;\n",
       "    }\n",
       "\n",
       "    .dataframe thead th {\n",
       "        text-align: right;\n",
       "    }\n",
       "</style>\n",
       "<table border=\"1\" class=\"dataframe\">\n",
       "  <thead>\n",
       "    <tr style=\"text-align: right;\">\n",
       "      <th></th>\n",
       "      <th>AF3</th>\n",
       "      <th>AF4</th>\n",
       "      <th>F3</th>\n",
       "      <th>F4</th>\n",
       "      <th>F7</th>\n",
       "      <th>F8</th>\n",
       "      <th>FC5</th>\n",
       "      <th>FC6</th>\n",
       "      <th>O1</th>\n",
       "      <th>O2</th>\n",
       "      <th>P7</th>\n",
       "      <th>P8</th>\n",
       "      <th>T7</th>\n",
       "      <th>T8</th>\n",
       "      <th>subject_id</th>\n",
       "      <th>y</th>\n",
       "    </tr>\n",
       "  </thead>\n",
       "  <tbody>\n",
       "    <tr>\n",
       "      <th>0</th>\n",
       "      <td>4426.154</td>\n",
       "      <td>3994.872</td>\n",
       "      <td>4408.205</td>\n",
       "      <td>3847.692</td>\n",
       "      <td>4690.256</td>\n",
       "      <td>3895.897</td>\n",
       "      <td>4702.051</td>\n",
       "      <td>3914.872</td>\n",
       "      <td>4049.744</td>\n",
       "      <td>4297.949</td>\n",
       "      <td>4186.154</td>\n",
       "      <td>4132.821</td>\n",
       "      <td>4106.667</td>\n",
       "      <td>4076.410</td>\n",
       "      <td>1</td>\n",
       "      <td>1</td>\n",
       "    </tr>\n",
       "    <tr>\n",
       "      <th>1</th>\n",
       "      <td>4420.513</td>\n",
       "      <td>3986.667</td>\n",
       "      <td>4394.359</td>\n",
       "      <td>3836.923</td>\n",
       "      <td>4678.462</td>\n",
       "      <td>3886.667</td>\n",
       "      <td>4696.410</td>\n",
       "      <td>3910.769</td>\n",
       "      <td>4054.359</td>\n",
       "      <td>4295.897</td>\n",
       "      <td>4187.179</td>\n",
       "      <td>4126.667</td>\n",
       "      <td>4105.641</td>\n",
       "      <td>4065.128</td>\n",
       "      <td>1</td>\n",
       "      <td>1</td>\n",
       "    </tr>\n",
       "    <tr>\n",
       "      <th>2</th>\n",
       "      <td>4413.846</td>\n",
       "      <td>3986.154</td>\n",
       "      <td>4386.667</td>\n",
       "      <td>3831.795</td>\n",
       "      <td>4654.872</td>\n",
       "      <td>3881.026</td>\n",
       "      <td>4690.769</td>\n",
       "      <td>3908.205</td>\n",
       "      <td>4066.667</td>\n",
       "      <td>4301.026</td>\n",
       "      <td>4188.205</td>\n",
       "      <td>4123.077</td>\n",
       "      <td>4103.077</td>\n",
       "      <td>4063.590</td>\n",
       "      <td>1</td>\n",
       "      <td>1</td>\n",
       "    </tr>\n",
       "    <tr>\n",
       "      <th>3</th>\n",
       "      <td>4407.692</td>\n",
       "      <td>3984.615</td>\n",
       "      <td>4384.103</td>\n",
       "      <td>3832.821</td>\n",
       "      <td>4644.615</td>\n",
       "      <td>3883.077</td>\n",
       "      <td>4686.154</td>\n",
       "      <td>3910.256</td>\n",
       "      <td>4063.077</td>\n",
       "      <td>4298.974</td>\n",
       "      <td>4184.615</td>\n",
       "      <td>4127.179</td>\n",
       "      <td>4095.385</td>\n",
       "      <td>4071.282</td>\n",
       "      <td>1</td>\n",
       "      <td>1</td>\n",
       "    </tr>\n",
       "    <tr>\n",
       "      <th>4</th>\n",
       "      <td>4407.179</td>\n",
       "      <td>3978.974</td>\n",
       "      <td>4382.564</td>\n",
       "      <td>3832.308</td>\n",
       "      <td>4647.692</td>\n",
       "      <td>3878.974</td>\n",
       "      <td>4685.641</td>\n",
       "      <td>3903.077</td>\n",
       "      <td>4057.949</td>\n",
       "      <td>4295.385</td>\n",
       "      <td>4182.564</td>\n",
       "      <td>4128.205</td>\n",
       "      <td>4090.769</td>\n",
       "      <td>4064.103</td>\n",
       "      <td>1</td>\n",
       "      <td>1</td>\n",
       "    </tr>\n",
       "    <tr>\n",
       "      <th>...</th>\n",
       "      <td>...</td>\n",
       "      <td>...</td>\n",
       "      <td>...</td>\n",
       "      <td>...</td>\n",
       "      <td>...</td>\n",
       "      <td>...</td>\n",
       "      <td>...</td>\n",
       "      <td>...</td>\n",
       "      <td>...</td>\n",
       "      <td>...</td>\n",
       "      <td>...</td>\n",
       "      <td>...</td>\n",
       "      <td>...</td>\n",
       "      <td>...</td>\n",
       "      <td>...</td>\n",
       "      <td>...</td>\n",
       "    </tr>\n",
       "    <tr>\n",
       "      <th>3850363</th>\n",
       "      <td>4211.795</td>\n",
       "      <td>3862.051</td>\n",
       "      <td>4139.487</td>\n",
       "      <td>3670.256</td>\n",
       "      <td>4327.179</td>\n",
       "      <td>3662.564</td>\n",
       "      <td>4557.436</td>\n",
       "      <td>3894.359</td>\n",
       "      <td>4238.974</td>\n",
       "      <td>4189.744</td>\n",
       "      <td>4010.256</td>\n",
       "      <td>4126.154</td>\n",
       "      <td>3830.769</td>\n",
       "      <td>3883.590</td>\n",
       "      <td>97</td>\n",
       "      <td>0</td>\n",
       "    </tr>\n",
       "    <tr>\n",
       "      <th>3850364</th>\n",
       "      <td>4209.744</td>\n",
       "      <td>3861.538</td>\n",
       "      <td>4138.974</td>\n",
       "      <td>3667.179</td>\n",
       "      <td>4323.590</td>\n",
       "      <td>3662.051</td>\n",
       "      <td>4556.410</td>\n",
       "      <td>3893.846</td>\n",
       "      <td>4232.821</td>\n",
       "      <td>4188.205</td>\n",
       "      <td>4005.641</td>\n",
       "      <td>4125.128</td>\n",
       "      <td>3829.231</td>\n",
       "      <td>3878.974</td>\n",
       "      <td>97</td>\n",
       "      <td>0</td>\n",
       "    </tr>\n",
       "    <tr>\n",
       "      <th>3850365</th>\n",
       "      <td>4211.282</td>\n",
       "      <td>3862.564</td>\n",
       "      <td>4136.410</td>\n",
       "      <td>3671.282</td>\n",
       "      <td>4324.103</td>\n",
       "      <td>3664.103</td>\n",
       "      <td>4556.923</td>\n",
       "      <td>3896.923</td>\n",
       "      <td>4235.385</td>\n",
       "      <td>4185.128</td>\n",
       "      <td>4005.128</td>\n",
       "      <td>4123.077</td>\n",
       "      <td>3829.231</td>\n",
       "      <td>3882.051</td>\n",
       "      <td>97</td>\n",
       "      <td>0</td>\n",
       "    </tr>\n",
       "    <tr>\n",
       "      <th>3850366</th>\n",
       "      <td>4217.436</td>\n",
       "      <td>3866.667</td>\n",
       "      <td>4140.000</td>\n",
       "      <td>3676.923</td>\n",
       "      <td>4326.154</td>\n",
       "      <td>3668.205</td>\n",
       "      <td>4558.974</td>\n",
       "      <td>3901.026</td>\n",
       "      <td>4234.872</td>\n",
       "      <td>4184.615</td>\n",
       "      <td>4010.256</td>\n",
       "      <td>4122.564</td>\n",
       "      <td>3829.231</td>\n",
       "      <td>3890.769</td>\n",
       "      <td>97</td>\n",
       "      <td>0</td>\n",
       "    </tr>\n",
       "    <tr>\n",
       "      <th>3850367</th>\n",
       "      <td>4217.949</td>\n",
       "      <td>3866.154</td>\n",
       "      <td>4141.538</td>\n",
       "      <td>3672.821</td>\n",
       "      <td>4326.154</td>\n",
       "      <td>3668.718</td>\n",
       "      <td>4558.974</td>\n",
       "      <td>3900.513</td>\n",
       "      <td>4234.359</td>\n",
       "      <td>4185.128</td>\n",
       "      <td>4016.410</td>\n",
       "      <td>4123.590</td>\n",
       "      <td>3830.256</td>\n",
       "      <td>3892.821</td>\n",
       "      <td>97</td>\n",
       "      <td>0</td>\n",
       "    </tr>\n",
       "  </tbody>\n",
       "</table>\n",
       "<p>3850368 rows × 16 columns</p>\n",
       "</div>"
      ],
      "text/plain": [
       "              AF3       AF4        F3        F4        F7        F8       FC5  \\\n",
       "0        4426.154  3994.872  4408.205  3847.692  4690.256  3895.897  4702.051   \n",
       "1        4420.513  3986.667  4394.359  3836.923  4678.462  3886.667  4696.410   \n",
       "2        4413.846  3986.154  4386.667  3831.795  4654.872  3881.026  4690.769   \n",
       "3        4407.692  3984.615  4384.103  3832.821  4644.615  3883.077  4686.154   \n",
       "4        4407.179  3978.974  4382.564  3832.308  4647.692  3878.974  4685.641   \n",
       "...           ...       ...       ...       ...       ...       ...       ...   \n",
       "3850363  4211.795  3862.051  4139.487  3670.256  4327.179  3662.564  4557.436   \n",
       "3850364  4209.744  3861.538  4138.974  3667.179  4323.590  3662.051  4556.410   \n",
       "3850365  4211.282  3862.564  4136.410  3671.282  4324.103  3664.103  4556.923   \n",
       "3850366  4217.436  3866.667  4140.000  3676.923  4326.154  3668.205  4558.974   \n",
       "3850367  4217.949  3866.154  4141.538  3672.821  4326.154  3668.718  4558.974   \n",
       "\n",
       "              FC6        O1        O2        P7        P8        T7        T8  \\\n",
       "0        3914.872  4049.744  4297.949  4186.154  4132.821  4106.667  4076.410   \n",
       "1        3910.769  4054.359  4295.897  4187.179  4126.667  4105.641  4065.128   \n",
       "2        3908.205  4066.667  4301.026  4188.205  4123.077  4103.077  4063.590   \n",
       "3        3910.256  4063.077  4298.974  4184.615  4127.179  4095.385  4071.282   \n",
       "4        3903.077  4057.949  4295.385  4182.564  4128.205  4090.769  4064.103   \n",
       "...           ...       ...       ...       ...       ...       ...       ...   \n",
       "3850363  3894.359  4238.974  4189.744  4010.256  4126.154  3830.769  3883.590   \n",
       "3850364  3893.846  4232.821  4188.205  4005.641  4125.128  3829.231  3878.974   \n",
       "3850365  3896.923  4235.385  4185.128  4005.128  4123.077  3829.231  3882.051   \n",
       "3850366  3901.026  4234.872  4184.615  4010.256  4122.564  3829.231  3890.769   \n",
       "3850367  3900.513  4234.359  4185.128  4016.410  4123.590  3830.256  3892.821   \n",
       "\n",
       "         subject_id  y  \n",
       "0                 1  1  \n",
       "1                 1  1  \n",
       "2                 1  1  \n",
       "3                 1  1  \n",
       "4                 1  1  \n",
       "...             ... ..  \n",
       "3850363          97  0  \n",
       "3850364          97  0  \n",
       "3850365          97  0  \n",
       "3850366          97  0  \n",
       "3850367          97  0  \n",
       "\n",
       "[3850368 rows x 16 columns]"
      ]
     },
     "execution_count": 6,
     "metadata": {},
     "output_type": "execute_result"
    }
   ],
   "source": [
    "#paso los valores categóricos a numéricos\n",
    "mapping = {'Epilepsy': 1, 'Control': 0}\n",
    "eeg_data['y'] = eeg_data['y'].map(mapping)\n",
    "eeg_data"
   ]
  },
  {
   "cell_type": "code",
   "execution_count": 7,
   "metadata": {
    "id": "4ikv64RBzgCT"
   },
   "outputs": [],
   "source": [
    "#función para convertir los datos a formato mne\n",
    "def convertDF2MNE(sub):\n",
    "    info = mne.create_info(list(sub.columns), ch_types=['eeg'] * len(sub.columns), sfreq=128)\n",
    "    info.set_montage('standard_1020')\n",
    "    data=mne.io.RawArray(sub.T, info)\n",
    "    data.set_eeg_reference()\n",
    "    #data.filter(l_freq=0.1,h_freq=45)\n",
    "    epochs = mne.make_fixed_length_epochs(data, duration = 3, overlap = 2)\n",
    "    return epochs.get_data()"
   ]
  },
  {
   "cell_type": "code",
   "execution_count": 8,
   "metadata": {
    "colab": {
     "base_uri": "https://localhost:8080/"
    },
    "id": "MgmoUGiiEQ1E",
    "outputId": "63c50147-2e51-4df8-bf06-78c4e578a69d"
   },
   "outputs": [
    {
     "name": "stdout",
     "output_type": "stream",
     "text": [
      "[1, 2, 3, 4, 5, 6, 7, 8, 9, 10, 11, 12, 13, 14, 15, 16, 17, 18, 19, 20, 21, 22, 23, 24, 25, 26, 27, 28, 29, 30, 31, 32, 33, 34, 35, 36, 37, 38, 39, 40, 41, 42, 43, 44, 45, 46, 47, 48, 49, 50, 51, 52, 53, 54, 55, 56, 57, 58, 59, 60, 61, 62, 63, 64, 65, 66, 67, 68, 69, 70, 71, 72, 73, 74, 75, 76, 77, 78, 79, 80, 81, 82, 83, 84, 85, 86, 87, 88, 89, 90, 91, 92, 93, 94, 95, 96, 97]\n"
     ]
    }
   ],
   "source": [
    "#agrupo las líneas que tienen el mismo id, o sea que son del mismo eeg\n",
    "groups = eeg_data.groupby('subject_id')\n",
    "\n",
    "#hago una lista con cada id de cada subject (hay 97 eeg)\n",
    "grp_keys = list(groups.groups.keys())\n",
    "print(grp_keys)"
   ]
  },
  {
   "cell_type": "code",
   "execution_count": 9,
   "metadata": {
    "colab": {
     "base_uri": "https://localhost:8080/"
    },
    "id": "MgmoUGiiEQ1E",
    "outputId": "63c50147-2e51-4df8-bf06-78c4e578a69d"
   },
   "outputs": [],
   "source": [
    "from tqdm import tqdm"
   ]
  },
  {
   "cell_type": "code",
   "execution_count": 10,
   "metadata": {
    "colab": {
     "base_uri": "https://localhost:8080/",
     "height": 407
    },
    "id": "kOw4buOsIrK-",
    "outputId": "a9db7628-4e94-47e4-be63-9965f65e5827"
   },
   "outputs": [
    {
     "name": "stderr",
     "output_type": "stream",
     "text": [
      "0it [00:00, ?it/s]"
     ]
    },
    {
     "name": "stdout",
     "output_type": "stream",
     "text": [
      "Creating RawArray with float64 data, n_channels=14, n_times=38528\n",
      "    Range : 0 ... 38527 =      0.000 ...   300.992 secs\n",
      "Ready.\n",
      "EEG channel type selected for re-referencing\n",
      "Applying average reference.\n",
      "Applying a custom ('EEG',) reference.\n"
     ]
    },
    {
     "name": "stderr",
     "output_type": "stream",
     "text": [
      "C:\\Users\\47575909\\AppData\\Local\\Temp\\ipykernel_6176\\2171158857.py:6: DeprecationWarning: Conversion of an array with ndim > 0 to a scalar is deprecated, and will error in future. Ensure you extract a single element from your array before performing this operation. (Deprecated NumPy 1.25.)\n",
      "  label = int(grp['y'].unique())\n"
     ]
    },
    {
     "name": "stdout",
     "output_type": "stream",
     "text": [
      "Not setting metadata\n",
      "299 matching events found\n",
      "No baseline correction applied\n",
      "0 projection items activated\n",
      "Using data from preloaded Raw for 299 events and 384 original time points ...\n",
      "0 bad epochs dropped\n"
     ]
    },
    {
     "name": "stderr",
     "output_type": "stream",
     "text": [
      "1it [00:17, 17.36s/it]"
     ]
    },
    {
     "name": "stdout",
     "output_type": "stream",
     "text": [
      "Creating RawArray with float64 data, n_channels=14, n_times=39808\n",
      "    Range : 0 ... 39807 =      0.000 ...   310.992 secs\n",
      "Ready.\n",
      "EEG channel type selected for re-referencing\n",
      "Applying average reference.\n",
      "Applying a custom ('EEG',) reference.\n",
      "Not setting metadata\n",
      "309 matching events found\n",
      "No baseline correction applied\n",
      "0 projection items activated\n",
      "Using data from preloaded Raw for 309 events and 384 original time points ...\n",
      "0 bad epochs dropped\n"
     ]
    },
    {
     "name": "stderr",
     "output_type": "stream",
     "text": [
      "C:\\Users\\47575909\\AppData\\Local\\Temp\\ipykernel_6176\\2171158857.py:6: DeprecationWarning: Conversion of an array with ndim > 0 to a scalar is deprecated, and will error in future. Ensure you extract a single element from your array before performing this operation. (Deprecated NumPy 1.25.)\n",
      "  label = int(grp['y'].unique())\n",
      "2it [00:33, 16.70s/it]"
     ]
    },
    {
     "name": "stdout",
     "output_type": "stream",
     "text": [
      "Creating RawArray with float64 data, n_channels=14, n_times=38272\n",
      "    Range : 0 ... 38271 =      0.000 ...   298.992 secs\n",
      "Ready.\n",
      "EEG channel type selected for re-referencing\n",
      "Applying average reference.\n",
      "Applying a custom ('EEG',) reference.\n",
      "Not setting metadata\n",
      "297 matching events found\n",
      "No baseline correction applied\n",
      "0 projection items activated\n",
      "Using data from preloaded Raw for 297 events and 384 original time points ...\n",
      "0 bad epochs dropped\n"
     ]
    },
    {
     "name": "stderr",
     "output_type": "stream",
     "text": [
      "C:\\Users\\47575909\\AppData\\Local\\Temp\\ipykernel_6176\\2171158857.py:6: DeprecationWarning: Conversion of an array with ndim > 0 to a scalar is deprecated, and will error in future. Ensure you extract a single element from your array before performing this operation. (Deprecated NumPy 1.25.)\n",
      "  label = int(grp['y'].unique())\n",
      "3it [00:49, 16.22s/it]"
     ]
    },
    {
     "name": "stdout",
     "output_type": "stream",
     "text": [
      "Creating RawArray with float64 data, n_channels=14, n_times=38400\n",
      "    Range : 0 ... 38399 =      0.000 ...   299.992 secs\n",
      "Ready.\n",
      "EEG channel type selected for re-referencing\n",
      "Applying average reference.\n",
      "Applying a custom ('EEG',) reference.\n",
      "Not setting metadata\n",
      "298 matching events found\n",
      "No baseline correction applied\n",
      "0 projection items activated\n",
      "Using data from preloaded Raw for 298 events and 384 original time points ...\n",
      "0 bad epochs dropped\n"
     ]
    },
    {
     "name": "stderr",
     "output_type": "stream",
     "text": [
      "C:\\Users\\47575909\\AppData\\Local\\Temp\\ipykernel_6176\\2171158857.py:6: DeprecationWarning: Conversion of an array with ndim > 0 to a scalar is deprecated, and will error in future. Ensure you extract a single element from your array before performing this operation. (Deprecated NumPy 1.25.)\n",
      "  label = int(grp['y'].unique())\n",
      "4it [01:05, 16.08s/it]"
     ]
    },
    {
     "name": "stdout",
     "output_type": "stream",
     "text": [
      "Creating RawArray with float64 data, n_channels=14, n_times=40832\n",
      "    Range : 0 ... 40831 =      0.000 ...   318.992 secs\n",
      "Ready.\n",
      "EEG channel type selected for re-referencing\n",
      "Applying average reference.\n",
      "Applying a custom ('EEG',) reference.\n",
      "Not setting metadata\n",
      "317 matching events found\n",
      "No baseline correction applied\n",
      "0 projection items activated\n",
      "Using data from preloaded Raw for 317 events and 384 original time points ...\n",
      "0 bad epochs dropped\n"
     ]
    },
    {
     "name": "stderr",
     "output_type": "stream",
     "text": [
      "C:\\Users\\47575909\\AppData\\Local\\Temp\\ipykernel_6176\\2171158857.py:6: DeprecationWarning: Conversion of an array with ndim > 0 to a scalar is deprecated, and will error in future. Ensure you extract a single element from your array before performing this operation. (Deprecated NumPy 1.25.)\n",
      "  label = int(grp['y'].unique())\n",
      "5it [01:22, 16.54s/it]"
     ]
    },
    {
     "name": "stdout",
     "output_type": "stream",
     "text": [
      "Creating RawArray with float64 data, n_channels=14, n_times=40832\n",
      "    Range : 0 ... 40831 =      0.000 ...   318.992 secs\n",
      "Ready.\n",
      "EEG channel type selected for re-referencing\n",
      "Applying average reference.\n",
      "Applying a custom ('EEG',) reference.\n",
      "Not setting metadata\n",
      "317 matching events found\n",
      "No baseline correction applied\n",
      "0 projection items activated\n",
      "Using data from preloaded Raw for 317 events and 384 original time points ...\n",
      "0 bad epochs dropped\n"
     ]
    },
    {
     "name": "stderr",
     "output_type": "stream",
     "text": [
      "C:\\Users\\47575909\\AppData\\Local\\Temp\\ipykernel_6176\\2171158857.py:6: DeprecationWarning: Conversion of an array with ndim > 0 to a scalar is deprecated, and will error in future. Ensure you extract a single element from your array before performing this operation. (Deprecated NumPy 1.25.)\n",
      "  label = int(grp['y'].unique())\n",
      "6it [01:39, 16.61s/it]"
     ]
    },
    {
     "name": "stdout",
     "output_type": "stream",
     "text": [
      "Creating RawArray with float64 data, n_channels=14, n_times=38400\n",
      "    Range : 0 ... 38399 =      0.000 ...   299.992 secs\n",
      "Ready.\n",
      "EEG channel type selected for re-referencing\n",
      "Applying average reference.\n",
      "Applying a custom ('EEG',) reference.\n",
      "Not setting metadata\n",
      "298 matching events found\n",
      "No baseline correction applied\n",
      "0 projection items activated\n",
      "Using data from preloaded Raw for 298 events and 384 original time points ...\n",
      "0 bad epochs dropped\n"
     ]
    },
    {
     "name": "stderr",
     "output_type": "stream",
     "text": [
      "C:\\Users\\47575909\\AppData\\Local\\Temp\\ipykernel_6176\\2171158857.py:6: DeprecationWarning: Conversion of an array with ndim > 0 to a scalar is deprecated, and will error in future. Ensure you extract a single element from your array before performing this operation. (Deprecated NumPy 1.25.)\n",
      "  label = int(grp['y'].unique())\n",
      "7it [01:55, 16.57s/it]"
     ]
    },
    {
     "name": "stdout",
     "output_type": "stream",
     "text": [
      "Creating RawArray with float64 data, n_channels=14, n_times=38912\n",
      "    Range : 0 ... 38911 =      0.000 ...   303.992 secs\n",
      "Ready.\n",
      "EEG channel type selected for re-referencing\n",
      "Applying average reference.\n",
      "Applying a custom ('EEG',) reference.\n",
      "Not setting metadata\n",
      "302 matching events found\n",
      "No baseline correction applied\n",
      "0 projection items activated\n",
      "Using data from preloaded Raw for 302 events and 384 original time points ...\n",
      "0 bad epochs dropped\n"
     ]
    },
    {
     "name": "stderr",
     "output_type": "stream",
     "text": [
      "C:\\Users\\47575909\\AppData\\Local\\Temp\\ipykernel_6176\\2171158857.py:6: DeprecationWarning: Conversion of an array with ndim > 0 to a scalar is deprecated, and will error in future. Ensure you extract a single element from your array before performing this operation. (Deprecated NumPy 1.25.)\n",
      "  label = int(grp['y'].unique())\n",
      "8it [02:11, 16.40s/it]"
     ]
    },
    {
     "name": "stdout",
     "output_type": "stream",
     "text": [
      "Creating RawArray with float64 data, n_channels=14, n_times=39040\n",
      "    Range : 0 ... 39039 =      0.000 ...   304.992 secs\n",
      "Ready.\n",
      "EEG channel type selected for re-referencing\n",
      "Applying average reference.\n",
      "Applying a custom ('EEG',) reference.\n",
      "Not setting metadata\n",
      "303 matching events found\n",
      "No baseline correction applied\n",
      "0 projection items activated\n",
      "Using data from preloaded Raw for 303 events and 384 original time points ...\n",
      "0 bad epochs dropped\n"
     ]
    },
    {
     "name": "stderr",
     "output_type": "stream",
     "text": [
      "C:\\Users\\47575909\\AppData\\Local\\Temp\\ipykernel_6176\\2171158857.py:6: DeprecationWarning: Conversion of an array with ndim > 0 to a scalar is deprecated, and will error in future. Ensure you extract a single element from your array before performing this operation. (Deprecated NumPy 1.25.)\n",
      "  label = int(grp['y'].unique())\n",
      "9it [02:27, 16.29s/it]"
     ]
    },
    {
     "name": "stdout",
     "output_type": "stream",
     "text": [
      "Creating RawArray with float64 data, n_channels=14, n_times=38400\n",
      "    Range : 0 ... 38399 =      0.000 ...   299.992 secs\n",
      "Ready.\n",
      "EEG channel type selected for re-referencing\n",
      "Applying average reference.\n",
      "Applying a custom ('EEG',) reference.\n",
      "Not setting metadata\n",
      "298 matching events found\n",
      "No baseline correction applied\n",
      "0 projection items activated\n",
      "Using data from preloaded Raw for 298 events and 384 original time points ...\n",
      "0 bad epochs dropped\n"
     ]
    },
    {
     "name": "stderr",
     "output_type": "stream",
     "text": [
      "C:\\Users\\47575909\\AppData\\Local\\Temp\\ipykernel_6176\\2171158857.py:6: DeprecationWarning: Conversion of an array with ndim > 0 to a scalar is deprecated, and will error in future. Ensure you extract a single element from your array before performing this operation. (Deprecated NumPy 1.25.)\n",
      "  label = int(grp['y'].unique())\n",
      "10it [02:43, 16.13s/it]"
     ]
    },
    {
     "name": "stdout",
     "output_type": "stream",
     "text": [
      "Creating RawArray with float64 data, n_channels=14, n_times=39296\n",
      "    Range : 0 ... 39295 =      0.000 ...   306.992 secs\n",
      "Ready.\n",
      "EEG channel type selected for re-referencing\n",
      "Applying average reference.\n",
      "Applying a custom ('EEG',) reference.\n",
      "Not setting metadata\n",
      "305 matching events found\n",
      "No baseline correction applied\n",
      "0 projection items activated\n",
      "Using data from preloaded Raw for 305 events and 384 original time points ...\n",
      "0 bad epochs dropped\n"
     ]
    },
    {
     "name": "stderr",
     "output_type": "stream",
     "text": [
      "C:\\Users\\47575909\\AppData\\Local\\Temp\\ipykernel_6176\\2171158857.py:6: DeprecationWarning: Conversion of an array with ndim > 0 to a scalar is deprecated, and will error in future. Ensure you extract a single element from your array before performing this operation. (Deprecated NumPy 1.25.)\n",
      "  label = int(grp['y'].unique())\n",
      "11it [02:59, 16.12s/it]"
     ]
    },
    {
     "name": "stdout",
     "output_type": "stream",
     "text": [
      "Creating RawArray with float64 data, n_channels=14, n_times=39552\n",
      "    Range : 0 ... 39551 =      0.000 ...   308.992 secs\n",
      "Ready.\n",
      "EEG channel type selected for re-referencing\n",
      "Applying average reference.\n",
      "Applying a custom ('EEG',) reference.\n",
      "Not setting metadata\n",
      "307 matching events found\n",
      "No baseline correction applied\n",
      "0 projection items activated\n",
      "Using data from preloaded Raw for 307 events and 384 original time points ...\n",
      "0 bad epochs dropped\n"
     ]
    },
    {
     "name": "stderr",
     "output_type": "stream",
     "text": [
      "C:\\Users\\47575909\\AppData\\Local\\Temp\\ipykernel_6176\\2171158857.py:6: DeprecationWarning: Conversion of an array with ndim > 0 to a scalar is deprecated, and will error in future. Ensure you extract a single element from your array before performing this operation. (Deprecated NumPy 1.25.)\n",
      "  label = int(grp['y'].unique())\n",
      "12it [03:15, 16.11s/it]"
     ]
    },
    {
     "name": "stdout",
     "output_type": "stream",
     "text": [
      "Creating RawArray with float64 data, n_channels=14, n_times=38784\n",
      "    Range : 0 ... 38783 =      0.000 ...   302.992 secs\n",
      "Ready.\n",
      "EEG channel type selected for re-referencing\n",
      "Applying average reference.\n",
      "Applying a custom ('EEG',) reference.\n",
      "Not setting metadata\n",
      "301 matching events found\n",
      "No baseline correction applied\n",
      "0 projection items activated\n",
      "Using data from preloaded Raw for 301 events and 384 original time points ...\n",
      "0 bad epochs dropped\n"
     ]
    },
    {
     "name": "stderr",
     "output_type": "stream",
     "text": [
      "C:\\Users\\47575909\\AppData\\Local\\Temp\\ipykernel_6176\\2171158857.py:6: DeprecationWarning: Conversion of an array with ndim > 0 to a scalar is deprecated, and will error in future. Ensure you extract a single element from your array before performing this operation. (Deprecated NumPy 1.25.)\n",
      "  label = int(grp['y'].unique())\n",
      "13it [03:31, 16.09s/it]"
     ]
    },
    {
     "name": "stdout",
     "output_type": "stream",
     "text": [
      "Creating RawArray with float64 data, n_channels=14, n_times=38144\n",
      "    Range : 0 ... 38143 =      0.000 ...   297.992 secs\n",
      "Ready.\n",
      "EEG channel type selected for re-referencing\n",
      "Applying average reference.\n",
      "Applying a custom ('EEG',) reference.\n",
      "Not setting metadata\n",
      "296 matching events found\n",
      "No baseline correction applied\n",
      "0 projection items activated\n",
      "Using data from preloaded Raw for 296 events and 384 original time points ...\n",
      "0 bad epochs dropped\n"
     ]
    },
    {
     "name": "stderr",
     "output_type": "stream",
     "text": [
      "C:\\Users\\47575909\\AppData\\Local\\Temp\\ipykernel_6176\\2171158857.py:6: DeprecationWarning: Conversion of an array with ndim > 0 to a scalar is deprecated, and will error in future. Ensure you extract a single element from your array before performing this operation. (Deprecated NumPy 1.25.)\n",
      "  label = int(grp['y'].unique())\n",
      "14it [03:47, 15.97s/it]"
     ]
    },
    {
     "name": "stdout",
     "output_type": "stream",
     "text": [
      "Creating RawArray with float64 data, n_channels=14, n_times=38912\n",
      "    Range : 0 ... 38911 =      0.000 ...   303.992 secs\n",
      "Ready.\n",
      "EEG channel type selected for re-referencing\n",
      "Applying average reference.\n",
      "Applying a custom ('EEG',) reference.\n",
      "Not setting metadata\n",
      "302 matching events found\n",
      "No baseline correction applied\n",
      "0 projection items activated\n",
      "Using data from preloaded Raw for 302 events and 384 original time points ...\n",
      "0 bad epochs dropped\n"
     ]
    },
    {
     "name": "stderr",
     "output_type": "stream",
     "text": [
      "C:\\Users\\47575909\\AppData\\Local\\Temp\\ipykernel_6176\\2171158857.py:6: DeprecationWarning: Conversion of an array with ndim > 0 to a scalar is deprecated, and will error in future. Ensure you extract a single element from your array before performing this operation. (Deprecated NumPy 1.25.)\n",
      "  label = int(grp['y'].unique())\n",
      "15it [04:03, 16.02s/it]"
     ]
    },
    {
     "name": "stdout",
     "output_type": "stream",
     "text": [
      "Creating RawArray with float64 data, n_channels=14, n_times=38912\n",
      "    Range : 0 ... 38911 =      0.000 ...   303.992 secs\n",
      "Ready.\n",
      "EEG channel type selected for re-referencing\n",
      "Applying average reference.\n",
      "Applying a custom ('EEG',) reference.\n",
      "Not setting metadata\n",
      "302 matching events found\n",
      "No baseline correction applied\n",
      "0 projection items activated\n",
      "Using data from preloaded Raw for 302 events and 384 original time points ...\n",
      "0 bad epochs dropped\n"
     ]
    },
    {
     "name": "stderr",
     "output_type": "stream",
     "text": [
      "C:\\Users\\47575909\\AppData\\Local\\Temp\\ipykernel_6176\\2171158857.py:6: DeprecationWarning: Conversion of an array with ndim > 0 to a scalar is deprecated, and will error in future. Ensure you extract a single element from your array before performing this operation. (Deprecated NumPy 1.25.)\n",
      "  label = int(grp['y'].unique())\n",
      "16it [04:20, 16.15s/it]"
     ]
    },
    {
     "name": "stdout",
     "output_type": "stream",
     "text": [
      "Creating RawArray with float64 data, n_channels=14, n_times=37120\n",
      "    Range : 0 ... 37119 =      0.000 ...   289.992 secs\n",
      "Ready.\n",
      "EEG channel type selected for re-referencing\n",
      "Applying average reference.\n",
      "Applying a custom ('EEG',) reference.\n",
      "Not setting metadata\n",
      "288 matching events found\n",
      "No baseline correction applied\n",
      "0 projection items activated\n",
      "Using data from preloaded Raw for 288 events and 384 original time points ...\n",
      "0 bad epochs dropped\n"
     ]
    },
    {
     "name": "stderr",
     "output_type": "stream",
     "text": [
      "C:\\Users\\47575909\\AppData\\Local\\Temp\\ipykernel_6176\\2171158857.py:6: DeprecationWarning: Conversion of an array with ndim > 0 to a scalar is deprecated, and will error in future. Ensure you extract a single element from your array before performing this operation. (Deprecated NumPy 1.25.)\n",
      "  label = int(grp['y'].unique())\n",
      "17it [04:35, 16.05s/it]"
     ]
    },
    {
     "name": "stdout",
     "output_type": "stream",
     "text": [
      "Creating RawArray with float64 data, n_channels=14, n_times=54400\n",
      "    Range : 0 ... 54399 =      0.000 ...   424.992 secs\n",
      "Ready.\n",
      "EEG channel type selected for re-referencing\n",
      "Applying average reference.\n",
      "Applying a custom ('EEG',) reference.\n",
      "Not setting metadata\n",
      "423 matching events found\n",
      "No baseline correction applied\n",
      "0 projection items activated\n",
      "Using data from preloaded Raw for 423 events and 384 original time points ...\n",
      "0 bad epochs dropped\n"
     ]
    },
    {
     "name": "stderr",
     "output_type": "stream",
     "text": [
      "C:\\Users\\47575909\\AppData\\Local\\Temp\\ipykernel_6176\\2171158857.py:6: DeprecationWarning: Conversion of an array with ndim > 0 to a scalar is deprecated, and will error in future. Ensure you extract a single element from your array before performing this operation. (Deprecated NumPy 1.25.)\n",
      "  label = int(grp['y'].unique())\n",
      "18it [04:58, 17.96s/it]"
     ]
    },
    {
     "name": "stdout",
     "output_type": "stream",
     "text": [
      "Creating RawArray with float64 data, n_channels=14, n_times=38784\n",
      "    Range : 0 ... 38783 =      0.000 ...   302.992 secs\n",
      "Ready.\n",
      "EEG channel type selected for re-referencing\n",
      "Applying average reference.\n",
      "Applying a custom ('EEG',) reference.\n",
      "Not setting metadata\n",
      "301 matching events found\n",
      "No baseline correction applied\n",
      "0 projection items activated\n",
      "Using data from preloaded Raw for 301 events and 384 original time points ...\n",
      "0 bad epochs dropped\n"
     ]
    },
    {
     "name": "stderr",
     "output_type": "stream",
     "text": [
      "C:\\Users\\47575909\\AppData\\Local\\Temp\\ipykernel_6176\\2171158857.py:6: DeprecationWarning: Conversion of an array with ndim > 0 to a scalar is deprecated, and will error in future. Ensure you extract a single element from your array before performing this operation. (Deprecated NumPy 1.25.)\n",
      "  label = int(grp['y'].unique())\n",
      "19it [05:14, 17.42s/it]"
     ]
    },
    {
     "name": "stdout",
     "output_type": "stream",
     "text": [
      "Creating RawArray with float64 data, n_channels=14, n_times=38784\n",
      "    Range : 0 ... 38783 =      0.000 ...   302.992 secs\n",
      "Ready.\n",
      "EEG channel type selected for re-referencing\n",
      "Applying average reference.\n",
      "Applying a custom ('EEG',) reference.\n",
      "Not setting metadata\n",
      "301 matching events found\n",
      "No baseline correction applied\n",
      "0 projection items activated\n",
      "Using data from preloaded Raw for 301 events and 384 original time points ...\n",
      "0 bad epochs dropped\n"
     ]
    },
    {
     "name": "stderr",
     "output_type": "stream",
     "text": [
      "C:\\Users\\47575909\\AppData\\Local\\Temp\\ipykernel_6176\\2171158857.py:6: DeprecationWarning: Conversion of an array with ndim > 0 to a scalar is deprecated, and will error in future. Ensure you extract a single element from your array before performing this operation. (Deprecated NumPy 1.25.)\n",
      "  label = int(grp['y'].unique())\n",
      "20it [05:30, 17.10s/it]"
     ]
    },
    {
     "name": "stdout",
     "output_type": "stream",
     "text": [
      "Creating RawArray with float64 data, n_channels=14, n_times=37888\n",
      "    Range : 0 ... 37887 =      0.000 ...   295.992 secs\n",
      "Ready.\n",
      "EEG channel type selected for re-referencing\n",
      "Applying average reference.\n",
      "Applying a custom ('EEG',) reference.\n",
      "Not setting metadata\n",
      "294 matching events found\n",
      "No baseline correction applied\n",
      "0 projection items activated\n",
      "Using data from preloaded Raw for 294 events and 384 original time points ...\n",
      "0 bad epochs dropped\n"
     ]
    },
    {
     "name": "stderr",
     "output_type": "stream",
     "text": [
      "C:\\Users\\47575909\\AppData\\Local\\Temp\\ipykernel_6176\\2171158857.py:6: DeprecationWarning: Conversion of an array with ndim > 0 to a scalar is deprecated, and will error in future. Ensure you extract a single element from your array before performing this operation. (Deprecated NumPy 1.25.)\n",
      "  label = int(grp['y'].unique())\n",
      "21it [05:47, 16.98s/it]"
     ]
    },
    {
     "name": "stdout",
     "output_type": "stream",
     "text": [
      "Creating RawArray with float64 data, n_channels=14, n_times=40960\n",
      "    Range : 0 ... 40959 =      0.000 ...   319.992 secs\n",
      "Ready.\n",
      "EEG channel type selected for re-referencing\n",
      "Applying average reference.\n",
      "Applying a custom ('EEG',) reference.\n",
      "Not setting metadata\n",
      "318 matching events found\n",
      "No baseline correction applied\n",
      "0 projection items activated\n",
      "Using data from preloaded Raw for 318 events and 384 original time points ...\n",
      "0 bad epochs dropped\n"
     ]
    },
    {
     "name": "stderr",
     "output_type": "stream",
     "text": [
      "C:\\Users\\47575909\\AppData\\Local\\Temp\\ipykernel_6176\\2171158857.py:6: DeprecationWarning: Conversion of an array with ndim > 0 to a scalar is deprecated, and will error in future. Ensure you extract a single element from your array before performing this operation. (Deprecated NumPy 1.25.)\n",
      "  label = int(grp['y'].unique())\n",
      "22it [06:05, 17.29s/it]"
     ]
    },
    {
     "name": "stdout",
     "output_type": "stream",
     "text": [
      "Creating RawArray with float64 data, n_channels=14, n_times=39552\n",
      "    Range : 0 ... 39551 =      0.000 ...   308.992 secs\n",
      "Ready.\n",
      "EEG channel type selected for re-referencing\n",
      "Applying average reference.\n",
      "Applying a custom ('EEG',) reference.\n",
      "Not setting metadata\n",
      "307 matching events found\n",
      "No baseline correction applied\n",
      "0 projection items activated\n",
      "Using data from preloaded Raw for 307 events and 384 original time points ...\n",
      "0 bad epochs dropped\n"
     ]
    },
    {
     "name": "stderr",
     "output_type": "stream",
     "text": [
      "C:\\Users\\47575909\\AppData\\Local\\Temp\\ipykernel_6176\\2171158857.py:6: DeprecationWarning: Conversion of an array with ndim > 0 to a scalar is deprecated, and will error in future. Ensure you extract a single element from your array before performing this operation. (Deprecated NumPy 1.25.)\n",
      "  label = int(grp['y'].unique())\n",
      "23it [06:22, 17.29s/it]"
     ]
    },
    {
     "name": "stdout",
     "output_type": "stream",
     "text": [
      "Creating RawArray with float64 data, n_channels=14, n_times=38656\n",
      "    Range : 0 ... 38655 =      0.000 ...   301.992 secs\n",
      "Ready.\n",
      "EEG channel type selected for re-referencing\n",
      "Applying average reference.\n",
      "Applying a custom ('EEG',) reference.\n",
      "Not setting metadata\n",
      "300 matching events found\n",
      "No baseline correction applied\n",
      "0 projection items activated\n",
      "Using data from preloaded Raw for 300 events and 384 original time points ...\n",
      "0 bad epochs dropped\n"
     ]
    },
    {
     "name": "stderr",
     "output_type": "stream",
     "text": [
      "C:\\Users\\47575909\\AppData\\Local\\Temp\\ipykernel_6176\\2171158857.py:6: DeprecationWarning: Conversion of an array with ndim > 0 to a scalar is deprecated, and will error in future. Ensure you extract a single element from your array before performing this operation. (Deprecated NumPy 1.25.)\n",
      "  label = int(grp['y'].unique())\n",
      "24it [06:39, 17.15s/it]"
     ]
    },
    {
     "name": "stdout",
     "output_type": "stream",
     "text": [
      "Creating RawArray with float64 data, n_channels=14, n_times=38784\n",
      "    Range : 0 ... 38783 =      0.000 ...   302.992 secs\n",
      "Ready.\n",
      "EEG channel type selected for re-referencing\n",
      "Applying average reference.\n",
      "Applying a custom ('EEG',) reference.\n",
      "Not setting metadata\n",
      "301 matching events found\n",
      "No baseline correction applied\n",
      "0 projection items activated\n",
      "Using data from preloaded Raw for 301 events and 384 original time points ...\n",
      "0 bad epochs dropped\n"
     ]
    },
    {
     "name": "stderr",
     "output_type": "stream",
     "text": [
      "C:\\Users\\47575909\\AppData\\Local\\Temp\\ipykernel_6176\\2171158857.py:6: DeprecationWarning: Conversion of an array with ndim > 0 to a scalar is deprecated, and will error in future. Ensure you extract a single element from your array before performing this operation. (Deprecated NumPy 1.25.)\n",
      "  label = int(grp['y'].unique())\n",
      "25it [06:56, 17.03s/it]"
     ]
    },
    {
     "name": "stdout",
     "output_type": "stream",
     "text": [
      "Creating RawArray with float64 data, n_channels=14, n_times=38784\n",
      "    Range : 0 ... 38783 =      0.000 ...   302.992 secs\n",
      "Ready.\n",
      "EEG channel type selected for re-referencing\n",
      "Applying average reference.\n",
      "Applying a custom ('EEG',) reference.\n",
      "Not setting metadata\n",
      "301 matching events found\n",
      "No baseline correction applied\n",
      "0 projection items activated\n",
      "Using data from preloaded Raw for 301 events and 384 original time points ...\n",
      "0 bad epochs dropped\n"
     ]
    },
    {
     "name": "stderr",
     "output_type": "stream",
     "text": [
      "C:\\Users\\47575909\\AppData\\Local\\Temp\\ipykernel_6176\\2171158857.py:6: DeprecationWarning: Conversion of an array with ndim > 0 to a scalar is deprecated, and will error in future. Ensure you extract a single element from your array before performing this operation. (Deprecated NumPy 1.25.)\n",
      "  label = int(grp['y'].unique())\n",
      "26it [07:13, 17.06s/it]"
     ]
    },
    {
     "name": "stdout",
     "output_type": "stream",
     "text": [
      "Creating RawArray with float64 data, n_channels=14, n_times=38912\n",
      "    Range : 0 ... 38911 =      0.000 ...   303.992 secs\n",
      "Ready.\n",
      "EEG channel type selected for re-referencing\n",
      "Applying average reference.\n",
      "Applying a custom ('EEG',) reference.\n",
      "Not setting metadata\n",
      "302 matching events found\n",
      "No baseline correction applied\n",
      "0 projection items activated\n",
      "Using data from preloaded Raw for 302 events and 384 original time points ...\n",
      "0 bad epochs dropped\n"
     ]
    },
    {
     "name": "stderr",
     "output_type": "stream",
     "text": [
      "C:\\Users\\47575909\\AppData\\Local\\Temp\\ipykernel_6176\\2171158857.py:6: DeprecationWarning: Conversion of an array with ndim > 0 to a scalar is deprecated, and will error in future. Ensure you extract a single element from your array before performing this operation. (Deprecated NumPy 1.25.)\n",
      "  label = int(grp['y'].unique())\n",
      "27it [07:30, 16.93s/it]"
     ]
    },
    {
     "name": "stdout",
     "output_type": "stream",
     "text": [
      "Creating RawArray with float64 data, n_channels=14, n_times=38656\n",
      "    Range : 0 ... 38655 =      0.000 ...   301.992 secs\n",
      "Ready.\n",
      "EEG channel type selected for re-referencing\n",
      "Applying average reference.\n",
      "Applying a custom ('EEG',) reference.\n",
      "Not setting metadata\n",
      "300 matching events found\n",
      "No baseline correction applied\n",
      "0 projection items activated\n",
      "Using data from preloaded Raw for 300 events and 384 original time points ...\n",
      "0 bad epochs dropped\n"
     ]
    },
    {
     "name": "stderr",
     "output_type": "stream",
     "text": [
      "C:\\Users\\47575909\\AppData\\Local\\Temp\\ipykernel_6176\\2171158857.py:6: DeprecationWarning: Conversion of an array with ndim > 0 to a scalar is deprecated, and will error in future. Ensure you extract a single element from your array before performing this operation. (Deprecated NumPy 1.25.)\n",
      "  label = int(grp['y'].unique())\n",
      "28it [07:46, 16.90s/it]"
     ]
    },
    {
     "name": "stdout",
     "output_type": "stream",
     "text": [
      "Creating RawArray with float64 data, n_channels=14, n_times=38144\n",
      "    Range : 0 ... 38143 =      0.000 ...   297.992 secs\n",
      "Ready.\n",
      "EEG channel type selected for re-referencing\n",
      "Applying average reference.\n",
      "Applying a custom ('EEG',) reference.\n",
      "Not setting metadata\n",
      "296 matching events found\n",
      "No baseline correction applied\n",
      "0 projection items activated\n",
      "Using data from preloaded Raw for 296 events and 384 original time points ...\n",
      "0 bad epochs dropped\n"
     ]
    },
    {
     "name": "stderr",
     "output_type": "stream",
     "text": [
      "C:\\Users\\47575909\\AppData\\Local\\Temp\\ipykernel_6176\\2171158857.py:6: DeprecationWarning: Conversion of an array with ndim > 0 to a scalar is deprecated, and will error in future. Ensure you extract a single element from your array before performing this operation. (Deprecated NumPy 1.25.)\n",
      "  label = int(grp['y'].unique())\n",
      "29it [08:03, 16.86s/it]"
     ]
    },
    {
     "name": "stdout",
     "output_type": "stream",
     "text": [
      "Creating RawArray with float64 data, n_channels=14, n_times=39040\n",
      "    Range : 0 ... 39039 =      0.000 ...   304.992 secs\n",
      "Ready.\n",
      "EEG channel type selected for re-referencing\n",
      "Applying average reference.\n",
      "Applying a custom ('EEG',) reference.\n",
      "Not setting metadata\n",
      "303 matching events found\n",
      "No baseline correction applied\n",
      "0 projection items activated\n",
      "Using data from preloaded Raw for 303 events and 384 original time points ...\n",
      "0 bad epochs dropped\n"
     ]
    },
    {
     "name": "stderr",
     "output_type": "stream",
     "text": [
      "C:\\Users\\47575909\\AppData\\Local\\Temp\\ipykernel_6176\\2171158857.py:6: DeprecationWarning: Conversion of an array with ndim > 0 to a scalar is deprecated, and will error in future. Ensure you extract a single element from your array before performing this operation. (Deprecated NumPy 1.25.)\n",
      "  label = int(grp['y'].unique())\n",
      "30it [08:20, 16.70s/it]"
     ]
    },
    {
     "name": "stdout",
     "output_type": "stream",
     "text": [
      "Creating RawArray with float64 data, n_channels=14, n_times=61184\n",
      "    Range : 0 ... 61183 =      0.000 ...   477.992 secs\n",
      "Ready.\n",
      "EEG channel type selected for re-referencing\n",
      "Applying average reference.\n",
      "Applying a custom ('EEG',) reference.\n",
      "Not setting metadata\n",
      "476 matching events found\n",
      "No baseline correction applied\n",
      "0 projection items activated\n",
      "Using data from preloaded Raw for 476 events and 384 original time points ...\n",
      "0 bad epochs dropped\n"
     ]
    },
    {
     "name": "stderr",
     "output_type": "stream",
     "text": [
      "C:\\Users\\47575909\\AppData\\Local\\Temp\\ipykernel_6176\\2171158857.py:6: DeprecationWarning: Conversion of an array with ndim > 0 to a scalar is deprecated, and will error in future. Ensure you extract a single element from your array before performing this operation. (Deprecated NumPy 1.25.)\n",
      "  label = int(grp['y'].unique())\n",
      "31it [08:45, 19.21s/it]"
     ]
    },
    {
     "name": "stdout",
     "output_type": "stream",
     "text": [
      "Creating RawArray with float64 data, n_channels=14, n_times=39296\n",
      "    Range : 0 ... 39295 =      0.000 ...   306.992 secs\n",
      "Ready.\n",
      "EEG channel type selected for re-referencing\n",
      "Applying average reference.\n",
      "Applying a custom ('EEG',) reference.\n",
      "Not setting metadata\n",
      "305 matching events found\n",
      "No baseline correction applied\n",
      "0 projection items activated\n",
      "Using data from preloaded Raw for 305 events and 384 original time points ...\n",
      "0 bad epochs dropped\n"
     ]
    },
    {
     "name": "stderr",
     "output_type": "stream",
     "text": [
      "C:\\Users\\47575909\\AppData\\Local\\Temp\\ipykernel_6176\\2171158857.py:6: DeprecationWarning: Conversion of an array with ndim > 0 to a scalar is deprecated, and will error in future. Ensure you extract a single element from your array before performing this operation. (Deprecated NumPy 1.25.)\n",
      "  label = int(grp['y'].unique())\n",
      "32it [09:01, 18.37s/it]"
     ]
    },
    {
     "name": "stdout",
     "output_type": "stream",
     "text": [
      "Creating RawArray with float64 data, n_channels=14, n_times=40448\n",
      "    Range : 0 ... 40447 =      0.000 ...   315.992 secs\n",
      "Ready.\n",
      "EEG channel type selected for re-referencing\n",
      "Applying average reference.\n",
      "Applying a custom ('EEG',) reference.\n",
      "Not setting metadata\n",
      "314 matching events found\n",
      "No baseline correction applied\n",
      "0 projection items activated\n",
      "Using data from preloaded Raw for 314 events and 384 original time points ...\n",
      "0 bad epochs dropped\n"
     ]
    },
    {
     "name": "stderr",
     "output_type": "stream",
     "text": [
      "C:\\Users\\47575909\\AppData\\Local\\Temp\\ipykernel_6176\\2171158857.py:6: DeprecationWarning: Conversion of an array with ndim > 0 to a scalar is deprecated, and will error in future. Ensure you extract a single element from your array before performing this operation. (Deprecated NumPy 1.25.)\n",
      "  label = int(grp['y'].unique())\n",
      "33it [09:18, 17.93s/it]"
     ]
    },
    {
     "name": "stdout",
     "output_type": "stream",
     "text": [
      "Creating RawArray with float64 data, n_channels=14, n_times=38272\n",
      "    Range : 0 ... 38271 =      0.000 ...   298.992 secs\n",
      "Ready.\n",
      "EEG channel type selected for re-referencing\n",
      "Applying average reference.\n",
      "Applying a custom ('EEG',) reference.\n",
      "Not setting metadata\n",
      "297 matching events found\n",
      "No baseline correction applied\n",
      "0 projection items activated\n",
      "Using data from preloaded Raw for 297 events and 384 original time points ...\n",
      "0 bad epochs dropped\n"
     ]
    },
    {
     "name": "stderr",
     "output_type": "stream",
     "text": [
      "C:\\Users\\47575909\\AppData\\Local\\Temp\\ipykernel_6176\\2171158857.py:6: DeprecationWarning: Conversion of an array with ndim > 0 to a scalar is deprecated, and will error in future. Ensure you extract a single element from your array before performing this operation. (Deprecated NumPy 1.25.)\n",
      "  label = int(grp['y'].unique())\n",
      "34it [09:34, 17.37s/it]"
     ]
    },
    {
     "name": "stdout",
     "output_type": "stream",
     "text": [
      "Creating RawArray with float64 data, n_channels=14, n_times=38784\n",
      "    Range : 0 ... 38783 =      0.000 ...   302.992 secs\n",
      "Ready.\n",
      "EEG channel type selected for re-referencing\n",
      "Applying average reference.\n",
      "Applying a custom ('EEG',) reference.\n",
      "Not setting metadata\n",
      "301 matching events found\n",
      "No baseline correction applied\n",
      "0 projection items activated\n",
      "Using data from preloaded Raw for 301 events and 384 original time points ...\n",
      "0 bad epochs dropped\n"
     ]
    },
    {
     "name": "stderr",
     "output_type": "stream",
     "text": [
      "C:\\Users\\47575909\\AppData\\Local\\Temp\\ipykernel_6176\\2171158857.py:6: DeprecationWarning: Conversion of an array with ndim > 0 to a scalar is deprecated, and will error in future. Ensure you extract a single element from your array before performing this operation. (Deprecated NumPy 1.25.)\n",
      "  label = int(grp['y'].unique())\n",
      "35it [09:50, 17.02s/it]"
     ]
    },
    {
     "name": "stdout",
     "output_type": "stream",
     "text": [
      "Creating RawArray with float64 data, n_channels=14, n_times=41344\n",
      "    Range : 0 ... 41343 =      0.000 ...   322.992 secs\n",
      "Ready.\n",
      "EEG channel type selected for re-referencing\n",
      "Applying average reference.\n",
      "Applying a custom ('EEG',) reference.\n",
      "Not setting metadata\n",
      "321 matching events found\n",
      "No baseline correction applied\n",
      "0 projection items activated\n",
      "Using data from preloaded Raw for 321 events and 384 original time points ...\n",
      "0 bad epochs dropped\n"
     ]
    },
    {
     "name": "stderr",
     "output_type": "stream",
     "text": [
      "C:\\Users\\47575909\\AppData\\Local\\Temp\\ipykernel_6176\\2171158857.py:6: DeprecationWarning: Conversion of an array with ndim > 0 to a scalar is deprecated, and will error in future. Ensure you extract a single element from your array before performing this operation. (Deprecated NumPy 1.25.)\n",
      "  label = int(grp['y'].unique())\n",
      "36it [10:07, 17.04s/it]"
     ]
    },
    {
     "name": "stdout",
     "output_type": "stream",
     "text": [
      "Creating RawArray with float64 data, n_channels=14, n_times=38656\n",
      "    Range : 0 ... 38655 =      0.000 ...   301.992 secs\n",
      "Ready.\n",
      "EEG channel type selected for re-referencing\n",
      "Applying average reference.\n",
      "Applying a custom ('EEG',) reference.\n",
      "Not setting metadata\n",
      "300 matching events found\n",
      "No baseline correction applied\n",
      "0 projection items activated\n",
      "Using data from preloaded Raw for 300 events and 384 original time points ...\n",
      "0 bad epochs dropped\n"
     ]
    },
    {
     "name": "stderr",
     "output_type": "stream",
     "text": [
      "C:\\Users\\47575909\\AppData\\Local\\Temp\\ipykernel_6176\\2171158857.py:6: DeprecationWarning: Conversion of an array with ndim > 0 to a scalar is deprecated, and will error in future. Ensure you extract a single element from your array before performing this operation. (Deprecated NumPy 1.25.)\n",
      "  label = int(grp['y'].unique())\n",
      "37it [10:24, 16.79s/it]"
     ]
    },
    {
     "name": "stdout",
     "output_type": "stream",
     "text": [
      "Creating RawArray with float64 data, n_channels=14, n_times=38144\n",
      "    Range : 0 ... 38143 =      0.000 ...   297.992 secs\n",
      "Ready.\n",
      "EEG channel type selected for re-referencing\n",
      "Applying average reference.\n",
      "Applying a custom ('EEG',) reference.\n",
      "Not setting metadata\n",
      "296 matching events found\n",
      "No baseline correction applied\n",
      "0 projection items activated\n",
      "Using data from preloaded Raw for 296 events and 384 original time points ...\n",
      "0 bad epochs dropped\n"
     ]
    },
    {
     "name": "stderr",
     "output_type": "stream",
     "text": [
      "C:\\Users\\47575909\\AppData\\Local\\Temp\\ipykernel_6176\\2171158857.py:6: DeprecationWarning: Conversion of an array with ndim > 0 to a scalar is deprecated, and will error in future. Ensure you extract a single element from your array before performing this operation. (Deprecated NumPy 1.25.)\n",
      "  label = int(grp['y'].unique())\n",
      "38it [10:39, 16.48s/it]"
     ]
    },
    {
     "name": "stdout",
     "output_type": "stream",
     "text": [
      "Creating RawArray with float64 data, n_channels=14, n_times=48896\n",
      "    Range : 0 ... 48895 =      0.000 ...   381.992 secs\n",
      "Ready.\n",
      "EEG channel type selected for re-referencing\n",
      "Applying average reference.\n",
      "Applying a custom ('EEG',) reference.\n",
      "Not setting metadata\n",
      "380 matching events found\n",
      "No baseline correction applied\n",
      "0 projection items activated\n",
      "Using data from preloaded Raw for 380 events and 384 original time points ...\n",
      "0 bad epochs dropped\n"
     ]
    },
    {
     "name": "stderr",
     "output_type": "stream",
     "text": [
      "C:\\Users\\47575909\\AppData\\Local\\Temp\\ipykernel_6176\\2171158857.py:6: DeprecationWarning: Conversion of an array with ndim > 0 to a scalar is deprecated, and will error in future. Ensure you extract a single element from your array before performing this operation. (Deprecated NumPy 1.25.)\n",
      "  label = int(grp['y'].unique())\n",
      "39it [11:00, 17.64s/it]"
     ]
    },
    {
     "name": "stdout",
     "output_type": "stream",
     "text": [
      "Creating RawArray with float64 data, n_channels=14, n_times=38784\n",
      "    Range : 0 ... 38783 =      0.000 ...   302.992 secs\n",
      "Ready.\n",
      "EEG channel type selected for re-referencing\n",
      "Applying average reference.\n",
      "Applying a custom ('EEG',) reference.\n",
      "Not setting metadata\n",
      "301 matching events found\n",
      "No baseline correction applied\n",
      "0 projection items activated\n",
      "Using data from preloaded Raw for 301 events and 384 original time points ...\n",
      "0 bad epochs dropped\n"
     ]
    },
    {
     "name": "stderr",
     "output_type": "stream",
     "text": [
      "C:\\Users\\47575909\\AppData\\Local\\Temp\\ipykernel_6176\\2171158857.py:6: DeprecationWarning: Conversion of an array with ndim > 0 to a scalar is deprecated, and will error in future. Ensure you extract a single element from your array before performing this operation. (Deprecated NumPy 1.25.)\n",
      "  label = int(grp['y'].unique())\n",
      "40it [11:17, 17.41s/it]"
     ]
    },
    {
     "name": "stdout",
     "output_type": "stream",
     "text": [
      "Creating RawArray with float64 data, n_channels=14, n_times=38400\n",
      "    Range : 0 ... 38399 =      0.000 ...   299.992 secs\n",
      "Ready.\n",
      "EEG channel type selected for re-referencing\n",
      "Applying average reference.\n",
      "Applying a custom ('EEG',) reference.\n",
      "Not setting metadata\n",
      "298 matching events found\n",
      "No baseline correction applied\n",
      "0 projection items activated\n",
      "Using data from preloaded Raw for 298 events and 384 original time points ...\n",
      "0 bad epochs dropped\n"
     ]
    },
    {
     "name": "stderr",
     "output_type": "stream",
     "text": [
      "C:\\Users\\47575909\\AppData\\Local\\Temp\\ipykernel_6176\\2171158857.py:6: DeprecationWarning: Conversion of an array with ndim > 0 to a scalar is deprecated, and will error in future. Ensure you extract a single element from your array before performing this operation. (Deprecated NumPy 1.25.)\n",
      "  label = int(grp['y'].unique())\n",
      "41it [11:33, 17.09s/it]"
     ]
    },
    {
     "name": "stdout",
     "output_type": "stream",
     "text": [
      "Creating RawArray with float64 data, n_channels=14, n_times=38784\n",
      "    Range : 0 ... 38783 =      0.000 ...   302.992 secs\n",
      "Ready.\n",
      "EEG channel type selected for re-referencing\n",
      "Applying average reference.\n",
      "Applying a custom ('EEG',) reference.\n",
      "Not setting metadata\n",
      "301 matching events found\n",
      "No baseline correction applied\n",
      "0 projection items activated\n",
      "Using data from preloaded Raw for 301 events and 384 original time points ...\n",
      "0 bad epochs dropped\n"
     ]
    },
    {
     "name": "stderr",
     "output_type": "stream",
     "text": [
      "C:\\Users\\47575909\\AppData\\Local\\Temp\\ipykernel_6176\\2171158857.py:6: DeprecationWarning: Conversion of an array with ndim > 0 to a scalar is deprecated, and will error in future. Ensure you extract a single element from your array before performing this operation. (Deprecated NumPy 1.25.)\n",
      "  label = int(grp['y'].unique())\n",
      "42it [11:49, 16.84s/it]"
     ]
    },
    {
     "name": "stdout",
     "output_type": "stream",
     "text": [
      "Creating RawArray with float64 data, n_channels=14, n_times=38272\n",
      "    Range : 0 ... 38271 =      0.000 ...   298.992 secs\n",
      "Ready.\n",
      "EEG channel type selected for re-referencing\n",
      "Applying average reference.\n",
      "Applying a custom ('EEG',) reference.\n",
      "Not setting metadata\n",
      "297 matching events found\n",
      "No baseline correction applied\n",
      "0 projection items activated\n",
      "Using data from preloaded Raw for 297 events and 384 original time points ...\n",
      "0 bad epochs dropped\n"
     ]
    },
    {
     "name": "stderr",
     "output_type": "stream",
     "text": [
      "C:\\Users\\47575909\\AppData\\Local\\Temp\\ipykernel_6176\\2171158857.py:6: DeprecationWarning: Conversion of an array with ndim > 0 to a scalar is deprecated, and will error in future. Ensure you extract a single element from your array before performing this operation. (Deprecated NumPy 1.25.)\n",
      "  label = int(grp['y'].unique())\n",
      "43it [12:05, 16.58s/it]"
     ]
    },
    {
     "name": "stdout",
     "output_type": "stream",
     "text": [
      "Creating RawArray with float64 data, n_channels=14, n_times=38272\n",
      "    Range : 0 ... 38271 =      0.000 ...   298.992 secs\n",
      "Ready.\n",
      "EEG channel type selected for re-referencing\n",
      "Applying average reference.\n",
      "Applying a custom ('EEG',) reference.\n",
      "Not setting metadata\n",
      "297 matching events found\n",
      "No baseline correction applied\n",
      "0 projection items activated\n",
      "Using data from preloaded Raw for 297 events and 384 original time points ...\n",
      "0 bad epochs dropped\n"
     ]
    },
    {
     "name": "stderr",
     "output_type": "stream",
     "text": [
      "C:\\Users\\47575909\\AppData\\Local\\Temp\\ipykernel_6176\\2171158857.py:6: DeprecationWarning: Conversion of an array with ndim > 0 to a scalar is deprecated, and will error in future. Ensure you extract a single element from your array before performing this operation. (Deprecated NumPy 1.25.)\n",
      "  label = int(grp['y'].unique())\n",
      "44it [12:21, 16.36s/it]"
     ]
    },
    {
     "name": "stdout",
     "output_type": "stream",
     "text": [
      "Creating RawArray with float64 data, n_channels=14, n_times=38656\n",
      "    Range : 0 ... 38655 =      0.000 ...   301.992 secs\n",
      "Ready.\n",
      "EEG channel type selected for re-referencing\n",
      "Applying average reference.\n",
      "Applying a custom ('EEG',) reference.\n",
      "Not setting metadata\n",
      "300 matching events found\n",
      "No baseline correction applied\n",
      "0 projection items activated\n",
      "Using data from preloaded Raw for 300 events and 384 original time points ...\n",
      "0 bad epochs dropped\n"
     ]
    },
    {
     "name": "stderr",
     "output_type": "stream",
     "text": [
      "C:\\Users\\47575909\\AppData\\Local\\Temp\\ipykernel_6176\\2171158857.py:6: DeprecationWarning: Conversion of an array with ndim > 0 to a scalar is deprecated, and will error in future. Ensure you extract a single element from your array before performing this operation. (Deprecated NumPy 1.25.)\n",
      "  label = int(grp['y'].unique())\n",
      "45it [12:37, 16.34s/it]"
     ]
    },
    {
     "name": "stdout",
     "output_type": "stream",
     "text": [
      "Creating RawArray with float64 data, n_channels=14, n_times=39296\n",
      "    Range : 0 ... 39295 =      0.000 ...   306.992 secs\n",
      "Ready.\n",
      "EEG channel type selected for re-referencing\n",
      "Applying average reference.\n",
      "Applying a custom ('EEG',) reference.\n",
      "Not setting metadata\n",
      "305 matching events found\n",
      "No baseline correction applied\n",
      "0 projection items activated\n",
      "Using data from preloaded Raw for 305 events and 384 original time points ...\n",
      "0 bad epochs dropped\n"
     ]
    },
    {
     "name": "stderr",
     "output_type": "stream",
     "text": [
      "C:\\Users\\47575909\\AppData\\Local\\Temp\\ipykernel_6176\\2171158857.py:6: DeprecationWarning: Conversion of an array with ndim > 0 to a scalar is deprecated, and will error in future. Ensure you extract a single element from your array before performing this operation. (Deprecated NumPy 1.25.)\n",
      "  label = int(grp['y'].unique())\n",
      "46it [12:54, 16.38s/it]"
     ]
    },
    {
     "name": "stdout",
     "output_type": "stream",
     "text": [
      "Creating RawArray with float64 data, n_channels=14, n_times=38784\n",
      "    Range : 0 ... 38783 =      0.000 ...   302.992 secs\n",
      "Ready.\n",
      "EEG channel type selected for re-referencing\n",
      "Applying average reference.\n",
      "Applying a custom ('EEG',) reference.\n",
      "Not setting metadata\n",
      "301 matching events found\n",
      "No baseline correction applied\n",
      "0 projection items activated\n",
      "Using data from preloaded Raw for 301 events and 384 original time points ...\n",
      "0 bad epochs dropped\n"
     ]
    },
    {
     "name": "stderr",
     "output_type": "stream",
     "text": [
      "C:\\Users\\47575909\\AppData\\Local\\Temp\\ipykernel_6176\\2171158857.py:6: DeprecationWarning: Conversion of an array with ndim > 0 to a scalar is deprecated, and will error in future. Ensure you extract a single element from your array before performing this operation. (Deprecated NumPy 1.25.)\n",
      "  label = int(grp['y'].unique())\n",
      "47it [13:10, 16.36s/it]"
     ]
    },
    {
     "name": "stdout",
     "output_type": "stream",
     "text": [
      "Creating RawArray with float64 data, n_channels=14, n_times=39040\n",
      "    Range : 0 ... 39039 =      0.000 ...   304.992 secs\n",
      "Ready.\n",
      "EEG channel type selected for re-referencing\n",
      "Applying average reference.\n",
      "Applying a custom ('EEG',) reference.\n",
      "Not setting metadata\n",
      "303 matching events found\n",
      "No baseline correction applied\n",
      "0 projection items activated\n",
      "Using data from preloaded Raw for 303 events and 384 original time points ...\n",
      "0 bad epochs dropped\n"
     ]
    },
    {
     "name": "stderr",
     "output_type": "stream",
     "text": [
      "C:\\Users\\47575909\\AppData\\Local\\Temp\\ipykernel_6176\\2171158857.py:6: DeprecationWarning: Conversion of an array with ndim > 0 to a scalar is deprecated, and will error in future. Ensure you extract a single element from your array before performing this operation. (Deprecated NumPy 1.25.)\n",
      "  label = int(grp['y'].unique())\n",
      "48it [13:26, 16.35s/it]"
     ]
    },
    {
     "name": "stdout",
     "output_type": "stream",
     "text": [
      "Creating RawArray with float64 data, n_channels=14, n_times=39808\n",
      "    Range : 0 ... 39807 =      0.000 ...   310.992 secs\n",
      "Ready.\n",
      "EEG channel type selected for re-referencing\n",
      "Applying average reference.\n",
      "Applying a custom ('EEG',) reference.\n",
      "Not setting metadata\n",
      "309 matching events found\n",
      "No baseline correction applied\n",
      "0 projection items activated\n",
      "Using data from preloaded Raw for 309 events and 384 original time points ...\n",
      "0 bad epochs dropped\n"
     ]
    },
    {
     "name": "stderr",
     "output_type": "stream",
     "text": [
      "C:\\Users\\47575909\\AppData\\Local\\Temp\\ipykernel_6176\\2171158857.py:6: DeprecationWarning: Conversion of an array with ndim > 0 to a scalar is deprecated, and will error in future. Ensure you extract a single element from your array before performing this operation. (Deprecated NumPy 1.25.)\n",
      "  label = int(grp['y'].unique())\n",
      "49it [13:43, 16.40s/it]"
     ]
    },
    {
     "name": "stdout",
     "output_type": "stream",
     "text": [
      "Creating RawArray with float64 data, n_channels=14, n_times=38528\n",
      "    Range : 0 ... 38527 =      0.000 ...   300.992 secs\n",
      "Ready.\n",
      "EEG channel type selected for re-referencing\n",
      "Applying average reference.\n",
      "Applying a custom ('EEG',) reference.\n",
      "Not setting metadata\n",
      "299 matching events found\n",
      "No baseline correction applied\n",
      "0 projection items activated\n",
      "Using data from preloaded Raw for 299 events and 384 original time points ...\n",
      "0 bad epochs dropped\n"
     ]
    },
    {
     "name": "stderr",
     "output_type": "stream",
     "text": [
      "C:\\Users\\47575909\\AppData\\Local\\Temp\\ipykernel_6176\\2171158857.py:6: DeprecationWarning: Conversion of an array with ndim > 0 to a scalar is deprecated, and will error in future. Ensure you extract a single element from your array before performing this operation. (Deprecated NumPy 1.25.)\n",
      "  label = int(grp['y'].unique())\n",
      "50it [13:59, 16.27s/it]"
     ]
    },
    {
     "name": "stdout",
     "output_type": "stream",
     "text": [
      "Creating RawArray with float64 data, n_channels=14, n_times=40064\n",
      "    Range : 0 ... 40063 =      0.000 ...   312.992 secs\n",
      "Ready.\n",
      "EEG channel type selected for re-referencing\n",
      "Applying average reference.\n",
      "Applying a custom ('EEG',) reference.\n",
      "Not setting metadata\n",
      "311 matching events found\n",
      "No baseline correction applied\n",
      "0 projection items activated\n",
      "Using data from preloaded Raw for 311 events and 384 original time points ...\n",
      "0 bad epochs dropped\n"
     ]
    },
    {
     "name": "stderr",
     "output_type": "stream",
     "text": [
      "C:\\Users\\47575909\\AppData\\Local\\Temp\\ipykernel_6176\\2171158857.py:6: DeprecationWarning: Conversion of an array with ndim > 0 to a scalar is deprecated, and will error in future. Ensure you extract a single element from your array before performing this operation. (Deprecated NumPy 1.25.)\n",
      "  label = int(grp['y'].unique())\n",
      "51it [14:16, 16.42s/it]"
     ]
    },
    {
     "name": "stdout",
     "output_type": "stream",
     "text": [
      "Creating RawArray with float64 data, n_channels=14, n_times=38528\n",
      "    Range : 0 ... 38527 =      0.000 ...   300.992 secs\n",
      "Ready.\n",
      "EEG channel type selected for re-referencing\n",
      "Applying average reference.\n",
      "Applying a custom ('EEG',) reference.\n",
      "Not setting metadata\n",
      "299 matching events found\n",
      "No baseline correction applied\n",
      "0 projection items activated\n",
      "Using data from preloaded Raw for 299 events and 384 original time points ...\n",
      "0 bad epochs dropped\n"
     ]
    },
    {
     "name": "stderr",
     "output_type": "stream",
     "text": [
      "C:\\Users\\47575909\\AppData\\Local\\Temp\\ipykernel_6176\\2171158857.py:6: DeprecationWarning: Conversion of an array with ndim > 0 to a scalar is deprecated, and will error in future. Ensure you extract a single element from your array before performing this operation. (Deprecated NumPy 1.25.)\n",
      "  label = int(grp['y'].unique())\n",
      "52it [14:32, 16.32s/it]"
     ]
    },
    {
     "name": "stdout",
     "output_type": "stream",
     "text": [
      "Creating RawArray with float64 data, n_channels=14, n_times=38272\n",
      "    Range : 0 ... 38271 =      0.000 ...   298.992 secs\n",
      "Ready.\n",
      "EEG channel type selected for re-referencing\n",
      "Applying average reference.\n",
      "Applying a custom ('EEG',) reference.\n",
      "Not setting metadata\n",
      "297 matching events found\n",
      "No baseline correction applied\n",
      "0 projection items activated\n",
      "Using data from preloaded Raw for 297 events and 384 original time points ...\n",
      "0 bad epochs dropped\n"
     ]
    },
    {
     "name": "stderr",
     "output_type": "stream",
     "text": [
      "C:\\Users\\47575909\\AppData\\Local\\Temp\\ipykernel_6176\\2171158857.py:6: DeprecationWarning: Conversion of an array with ndim > 0 to a scalar is deprecated, and will error in future. Ensure you extract a single element from your array before performing this operation. (Deprecated NumPy 1.25.)\n",
      "  label = int(grp['y'].unique())\n",
      "53it [14:48, 16.22s/it]"
     ]
    },
    {
     "name": "stdout",
     "output_type": "stream",
     "text": [
      "Creating RawArray with float64 data, n_channels=14, n_times=38784\n",
      "    Range : 0 ... 38783 =      0.000 ...   302.992 secs\n",
      "Ready.\n",
      "EEG channel type selected for re-referencing\n",
      "Applying average reference.\n",
      "Applying a custom ('EEG',) reference.\n",
      "Not setting metadata\n",
      "301 matching events found\n",
      "No baseline correction applied\n",
      "0 projection items activated\n",
      "Using data from preloaded Raw for 301 events and 384 original time points ...\n",
      "0 bad epochs dropped\n"
     ]
    },
    {
     "name": "stderr",
     "output_type": "stream",
     "text": [
      "C:\\Users\\47575909\\AppData\\Local\\Temp\\ipykernel_6176\\2171158857.py:6: DeprecationWarning: Conversion of an array with ndim > 0 to a scalar is deprecated, and will error in future. Ensure you extract a single element from your array before performing this operation. (Deprecated NumPy 1.25.)\n",
      "  label = int(grp['y'].unique())\n",
      "54it [15:04, 16.28s/it]"
     ]
    },
    {
     "name": "stdout",
     "output_type": "stream",
     "text": [
      "Creating RawArray with float64 data, n_channels=14, n_times=38144\n",
      "    Range : 0 ... 38143 =      0.000 ...   297.992 secs\n",
      "Ready.\n",
      "EEG channel type selected for re-referencing\n",
      "Applying average reference.\n",
      "Applying a custom ('EEG',) reference.\n",
      "Not setting metadata\n",
      "296 matching events found\n",
      "No baseline correction applied\n",
      "0 projection items activated\n",
      "Using data from preloaded Raw for 296 events and 384 original time points ...\n",
      "0 bad epochs dropped\n"
     ]
    },
    {
     "name": "stderr",
     "output_type": "stream",
     "text": [
      "C:\\Users\\47575909\\AppData\\Local\\Temp\\ipykernel_6176\\2171158857.py:6: DeprecationWarning: Conversion of an array with ndim > 0 to a scalar is deprecated, and will error in future. Ensure you extract a single element from your array before performing this operation. (Deprecated NumPy 1.25.)\n",
      "  label = int(grp['y'].unique())\n",
      "55it [15:20, 16.16s/it]"
     ]
    },
    {
     "name": "stdout",
     "output_type": "stream",
     "text": [
      "Creating RawArray with float64 data, n_channels=14, n_times=38784\n",
      "    Range : 0 ... 38783 =      0.000 ...   302.992 secs\n",
      "Ready.\n",
      "EEG channel type selected for re-referencing\n",
      "Applying average reference.\n",
      "Applying a custom ('EEG',) reference.\n",
      "Not setting metadata\n",
      "301 matching events found\n",
      "No baseline correction applied\n",
      "0 projection items activated\n",
      "Using data from preloaded Raw for 301 events and 384 original time points ...\n",
      "0 bad epochs dropped\n"
     ]
    },
    {
     "name": "stderr",
     "output_type": "stream",
     "text": [
      "C:\\Users\\47575909\\AppData\\Local\\Temp\\ipykernel_6176\\2171158857.py:6: DeprecationWarning: Conversion of an array with ndim > 0 to a scalar is deprecated, and will error in future. Ensure you extract a single element from your array before performing this operation. (Deprecated NumPy 1.25.)\n",
      "  label = int(grp['y'].unique())\n",
      "56it [15:36, 16.13s/it]"
     ]
    },
    {
     "name": "stdout",
     "output_type": "stream",
     "text": [
      "Creating RawArray with float64 data, n_channels=14, n_times=38656\n",
      "    Range : 0 ... 38655 =      0.000 ...   301.992 secs\n",
      "Ready.\n",
      "EEG channel type selected for re-referencing\n",
      "Applying average reference.\n",
      "Applying a custom ('EEG',) reference.\n",
      "Not setting metadata\n",
      "300 matching events found\n",
      "No baseline correction applied\n",
      "0 projection items activated\n",
      "Using data from preloaded Raw for 300 events and 384 original time points ...\n",
      "0 bad epochs dropped\n"
     ]
    },
    {
     "name": "stderr",
     "output_type": "stream",
     "text": [
      "C:\\Users\\47575909\\AppData\\Local\\Temp\\ipykernel_6176\\2171158857.py:6: DeprecationWarning: Conversion of an array with ndim > 0 to a scalar is deprecated, and will error in future. Ensure you extract a single element from your array before performing this operation. (Deprecated NumPy 1.25.)\n",
      "  label = int(grp['y'].unique())\n",
      "57it [15:52, 16.19s/it]"
     ]
    },
    {
     "name": "stdout",
     "output_type": "stream",
     "text": [
      "Creating RawArray with float64 data, n_channels=14, n_times=54016\n",
      "    Range : 0 ... 54015 =      0.000 ...   421.992 secs\n",
      "Ready.\n",
      "EEG channel type selected for re-referencing\n",
      "Applying average reference.\n",
      "Applying a custom ('EEG',) reference.\n",
      "Not setting metadata\n",
      "420 matching events found\n",
      "No baseline correction applied\n",
      "0 projection items activated\n",
      "Using data from preloaded Raw for 420 events and 384 original time points ...\n",
      "0 bad epochs dropped\n"
     ]
    },
    {
     "name": "stderr",
     "output_type": "stream",
     "text": [
      "C:\\Users\\47575909\\AppData\\Local\\Temp\\ipykernel_6176\\2171158857.py:6: DeprecationWarning: Conversion of an array with ndim > 0 to a scalar is deprecated, and will error in future. Ensure you extract a single element from your array before performing this operation. (Deprecated NumPy 1.25.)\n",
      "  label = int(grp['y'].unique())\n",
      "58it [16:15, 18.12s/it]"
     ]
    },
    {
     "name": "stdout",
     "output_type": "stream",
     "text": [
      "Creating RawArray with float64 data, n_channels=14, n_times=38912\n",
      "    Range : 0 ... 38911 =      0.000 ...   303.992 secs\n",
      "Ready.\n",
      "EEG channel type selected for re-referencing\n",
      "Applying average reference.\n",
      "Applying a custom ('EEG',) reference.\n",
      "Not setting metadata\n",
      "302 matching events found\n",
      "No baseline correction applied\n",
      "0 projection items activated\n",
      "Using data from preloaded Raw for 302 events and 384 original time points ...\n",
      "0 bad epochs dropped\n"
     ]
    },
    {
     "name": "stderr",
     "output_type": "stream",
     "text": [
      "C:\\Users\\47575909\\AppData\\Local\\Temp\\ipykernel_6176\\2171158857.py:6: DeprecationWarning: Conversion of an array with ndim > 0 to a scalar is deprecated, and will error in future. Ensure you extract a single element from your array before performing this operation. (Deprecated NumPy 1.25.)\n",
      "  label = int(grp['y'].unique())\n",
      "59it [16:31, 17.52s/it]"
     ]
    },
    {
     "name": "stdout",
     "output_type": "stream",
     "text": [
      "Creating RawArray with float64 data, n_channels=14, n_times=38400\n",
      "    Range : 0 ... 38399 =      0.000 ...   299.992 secs\n",
      "Ready.\n",
      "EEG channel type selected for re-referencing\n",
      "Applying average reference.\n",
      "Applying a custom ('EEG',) reference.\n",
      "Not setting metadata\n",
      "298 matching events found\n",
      "No baseline correction applied\n",
      "0 projection items activated\n",
      "Using data from preloaded Raw for 298 events and 384 original time points ...\n",
      "0 bad epochs dropped\n"
     ]
    },
    {
     "name": "stderr",
     "output_type": "stream",
     "text": [
      "C:\\Users\\47575909\\AppData\\Local\\Temp\\ipykernel_6176\\2171158857.py:6: DeprecationWarning: Conversion of an array with ndim > 0 to a scalar is deprecated, and will error in future. Ensure you extract a single element from your array before performing this operation. (Deprecated NumPy 1.25.)\n",
      "  label = int(grp['y'].unique())\n",
      "60it [16:47, 17.07s/it]"
     ]
    },
    {
     "name": "stdout",
     "output_type": "stream",
     "text": [
      "Creating RawArray with float64 data, n_channels=14, n_times=38784\n",
      "    Range : 0 ... 38783 =      0.000 ...   302.992 secs\n",
      "Ready.\n",
      "EEG channel type selected for re-referencing\n",
      "Applying average reference.\n",
      "Applying a custom ('EEG',) reference.\n",
      "Not setting metadata\n",
      "301 matching events found\n",
      "No baseline correction applied\n",
      "0 projection items activated\n",
      "Using data from preloaded Raw for 301 events and 384 original time points ...\n",
      "0 bad epochs dropped\n"
     ]
    },
    {
     "name": "stderr",
     "output_type": "stream",
     "text": [
      "C:\\Users\\47575909\\AppData\\Local\\Temp\\ipykernel_6176\\2171158857.py:6: DeprecationWarning: Conversion of an array with ndim > 0 to a scalar is deprecated, and will error in future. Ensure you extract a single element from your array before performing this operation. (Deprecated NumPy 1.25.)\n",
      "  label = int(grp['y'].unique())\n",
      "61it [17:03, 16.81s/it]"
     ]
    },
    {
     "name": "stdout",
     "output_type": "stream",
     "text": [
      "Creating RawArray with float64 data, n_channels=14, n_times=39168\n",
      "    Range : 0 ... 39167 =      0.000 ...   305.992 secs\n",
      "Ready.\n",
      "EEG channel type selected for re-referencing\n",
      "Applying average reference.\n",
      "Applying a custom ('EEG',) reference.\n",
      "Not setting metadata\n",
      "304 matching events found\n",
      "No baseline correction applied\n",
      "0 projection items activated\n",
      "Using data from preloaded Raw for 304 events and 384 original time points ...\n",
      "0 bad epochs dropped\n"
     ]
    },
    {
     "name": "stderr",
     "output_type": "stream",
     "text": [
      "C:\\Users\\47575909\\AppData\\Local\\Temp\\ipykernel_6176\\2171158857.py:6: DeprecationWarning: Conversion of an array with ndim > 0 to a scalar is deprecated, and will error in future. Ensure you extract a single element from your array before performing this operation. (Deprecated NumPy 1.25.)\n",
      "  label = int(grp['y'].unique())\n",
      "62it [17:19, 16.62s/it]"
     ]
    },
    {
     "name": "stdout",
     "output_type": "stream",
     "text": [
      "Creating RawArray with float64 data, n_channels=14, n_times=39168\n",
      "    Range : 0 ... 39167 =      0.000 ...   305.992 secs\n",
      "Ready.\n",
      "EEG channel type selected for re-referencing\n",
      "Applying average reference.\n",
      "Applying a custom ('EEG',) reference.\n",
      "Not setting metadata\n",
      "304 matching events found\n",
      "No baseline correction applied\n",
      "0 projection items activated\n",
      "Using data from preloaded Raw for 304 events and 384 original time points ...\n",
      "0 bad epochs dropped\n"
     ]
    },
    {
     "name": "stderr",
     "output_type": "stream",
     "text": [
      "C:\\Users\\47575909\\AppData\\Local\\Temp\\ipykernel_6176\\2171158857.py:6: DeprecationWarning: Conversion of an array with ndim > 0 to a scalar is deprecated, and will error in future. Ensure you extract a single element from your array before performing this operation. (Deprecated NumPy 1.25.)\n",
      "  label = int(grp['y'].unique())\n",
      "63it [17:36, 16.53s/it]"
     ]
    },
    {
     "name": "stdout",
     "output_type": "stream",
     "text": [
      "Creating RawArray with float64 data, n_channels=14, n_times=42240\n",
      "    Range : 0 ... 42239 =      0.000 ...   329.992 secs\n",
      "Ready.\n",
      "EEG channel type selected for re-referencing\n",
      "Applying average reference.\n",
      "Applying a custom ('EEG',) reference.\n",
      "Not setting metadata\n",
      "328 matching events found\n",
      "No baseline correction applied\n",
      "0 projection items activated\n",
      "Using data from preloaded Raw for 328 events and 384 original time points ...\n",
      "0 bad epochs dropped\n"
     ]
    },
    {
     "name": "stderr",
     "output_type": "stream",
     "text": [
      "C:\\Users\\47575909\\AppData\\Local\\Temp\\ipykernel_6176\\2171158857.py:6: DeprecationWarning: Conversion of an array with ndim > 0 to a scalar is deprecated, and will error in future. Ensure you extract a single element from your array before performing this operation. (Deprecated NumPy 1.25.)\n",
      "  label = int(grp['y'].unique())\n",
      "64it [17:53, 16.80s/it]"
     ]
    },
    {
     "name": "stdout",
     "output_type": "stream",
     "text": [
      "Creating RawArray with float64 data, n_channels=14, n_times=36608\n",
      "    Range : 0 ... 36607 =      0.000 ...   285.992 secs\n",
      "Ready.\n",
      "EEG channel type selected for re-referencing\n",
      "Applying average reference.\n",
      "Applying a custom ('EEG',) reference.\n",
      "Not setting metadata\n",
      "284 matching events found\n",
      "No baseline correction applied\n",
      "0 projection items activated\n",
      "Using data from preloaded Raw for 284 events and 384 original time points ...\n",
      "0 bad epochs dropped\n"
     ]
    },
    {
     "name": "stderr",
     "output_type": "stream",
     "text": [
      "C:\\Users\\47575909\\AppData\\Local\\Temp\\ipykernel_6176\\2171158857.py:6: DeprecationWarning: Conversion of an array with ndim > 0 to a scalar is deprecated, and will error in future. Ensure you extract a single element from your array before performing this operation. (Deprecated NumPy 1.25.)\n",
      "  label = int(grp['y'].unique())\n",
      "65it [18:08, 16.29s/it]"
     ]
    },
    {
     "name": "stdout",
     "output_type": "stream",
     "text": [
      "Creating RawArray with float64 data, n_channels=14, n_times=40320\n",
      "    Range : 0 ... 40319 =      0.000 ...   314.992 secs\n",
      "Ready.\n",
      "EEG channel type selected for re-referencing\n",
      "Applying average reference.\n",
      "Applying a custom ('EEG',) reference.\n",
      "Not setting metadata\n",
      "313 matching events found\n",
      "No baseline correction applied\n",
      "0 projection items activated\n",
      "Using data from preloaded Raw for 313 events and 384 original time points ...\n",
      "0 bad epochs dropped\n"
     ]
    },
    {
     "name": "stderr",
     "output_type": "stream",
     "text": [
      "C:\\Users\\47575909\\AppData\\Local\\Temp\\ipykernel_6176\\2171158857.py:6: DeprecationWarning: Conversion of an array with ndim > 0 to a scalar is deprecated, and will error in future. Ensure you extract a single element from your array before performing this operation. (Deprecated NumPy 1.25.)\n",
      "  label = int(grp['y'].unique())\n",
      "66it [18:25, 16.40s/it]"
     ]
    },
    {
     "name": "stdout",
     "output_type": "stream",
     "text": [
      "Creating RawArray with float64 data, n_channels=14, n_times=38656\n",
      "    Range : 0 ... 38655 =      0.000 ...   301.992 secs\n",
      "Ready.\n",
      "EEG channel type selected for re-referencing\n",
      "Applying average reference.\n",
      "Applying a custom ('EEG',) reference.\n",
      "Not setting metadata\n",
      "300 matching events found\n",
      "No baseline correction applied\n",
      "0 projection items activated\n",
      "Using data from preloaded Raw for 300 events and 384 original time points ...\n",
      "0 bad epochs dropped\n"
     ]
    },
    {
     "name": "stderr",
     "output_type": "stream",
     "text": [
      "C:\\Users\\47575909\\AppData\\Local\\Temp\\ipykernel_6176\\2171158857.py:6: DeprecationWarning: Conversion of an array with ndim > 0 to a scalar is deprecated, and will error in future. Ensure you extract a single element from your array before performing this operation. (Deprecated NumPy 1.25.)\n",
      "  label = int(grp['y'].unique())\n",
      "67it [18:41, 16.37s/it]"
     ]
    },
    {
     "name": "stdout",
     "output_type": "stream",
     "text": [
      "Creating RawArray with float64 data, n_channels=14, n_times=49920\n",
      "    Range : 0 ... 49919 =      0.000 ...   389.992 secs\n",
      "Ready.\n",
      "EEG channel type selected for re-referencing\n",
      "Applying average reference.\n",
      "Applying a custom ('EEG',) reference.\n",
      "Not setting metadata\n",
      "388 matching events found\n",
      "No baseline correction applied\n",
      "0 projection items activated\n",
      "Using data from preloaded Raw for 388 events and 384 original time points ...\n",
      "0 bad epochs dropped\n"
     ]
    },
    {
     "name": "stderr",
     "output_type": "stream",
     "text": [
      "C:\\Users\\47575909\\AppData\\Local\\Temp\\ipykernel_6176\\2171158857.py:6: DeprecationWarning: Conversion of an array with ndim > 0 to a scalar is deprecated, and will error in future. Ensure you extract a single element from your array before performing this operation. (Deprecated NumPy 1.25.)\n",
      "  label = int(grp['y'].unique())\n",
      "68it [19:02, 17.65s/it]"
     ]
    },
    {
     "name": "stdout",
     "output_type": "stream",
     "text": [
      "Creating RawArray with float64 data, n_channels=14, n_times=38656\n",
      "    Range : 0 ... 38655 =      0.000 ...   301.992 secs\n",
      "Ready.\n",
      "EEG channel type selected for re-referencing\n",
      "Applying average reference.\n",
      "Applying a custom ('EEG',) reference.\n",
      "Not setting metadata\n",
      "300 matching events found\n",
      "No baseline correction applied\n",
      "0 projection items activated\n",
      "Using data from preloaded Raw for 300 events and 384 original time points ...\n",
      "0 bad epochs dropped\n"
     ]
    },
    {
     "name": "stderr",
     "output_type": "stream",
     "text": [
      "C:\\Users\\47575909\\AppData\\Local\\Temp\\ipykernel_6176\\2171158857.py:6: DeprecationWarning: Conversion of an array with ndim > 0 to a scalar is deprecated, and will error in future. Ensure you extract a single element from your array before performing this operation. (Deprecated NumPy 1.25.)\n",
      "  label = int(grp['y'].unique())\n",
      "69it [19:18, 17.22s/it]"
     ]
    },
    {
     "name": "stdout",
     "output_type": "stream",
     "text": [
      "Creating RawArray with float64 data, n_channels=14, n_times=38912\n",
      "    Range : 0 ... 38911 =      0.000 ...   303.992 secs\n",
      "Ready.\n",
      "EEG channel type selected for re-referencing\n",
      "Applying average reference.\n",
      "Applying a custom ('EEG',) reference.\n",
      "Not setting metadata\n",
      "302 matching events found\n",
      "No baseline correction applied\n",
      "0 projection items activated\n",
      "Using data from preloaded Raw for 302 events and 384 original time points ...\n",
      "0 bad epochs dropped\n"
     ]
    },
    {
     "name": "stderr",
     "output_type": "stream",
     "text": [
      "C:\\Users\\47575909\\AppData\\Local\\Temp\\ipykernel_6176\\2171158857.py:6: DeprecationWarning: Conversion of an array with ndim > 0 to a scalar is deprecated, and will error in future. Ensure you extract a single element from your array before performing this operation. (Deprecated NumPy 1.25.)\n",
      "  label = int(grp['y'].unique())\n",
      "70it [19:34, 16.93s/it]"
     ]
    },
    {
     "name": "stdout",
     "output_type": "stream",
     "text": [
      "Creating RawArray with float64 data, n_channels=14, n_times=38272\n",
      "    Range : 0 ... 38271 =      0.000 ...   298.992 secs\n",
      "Ready.\n",
      "EEG channel type selected for re-referencing\n",
      "Applying average reference.\n",
      "Applying a custom ('EEG',) reference.\n",
      "Not setting metadata\n",
      "297 matching events found\n",
      "No baseline correction applied\n",
      "0 projection items activated\n",
      "Using data from preloaded Raw for 297 events and 384 original time points ...\n",
      "0 bad epochs dropped\n"
     ]
    },
    {
     "name": "stderr",
     "output_type": "stream",
     "text": [
      "C:\\Users\\47575909\\AppData\\Local\\Temp\\ipykernel_6176\\2171158857.py:6: DeprecationWarning: Conversion of an array with ndim > 0 to a scalar is deprecated, and will error in future. Ensure you extract a single element from your array before performing this operation. (Deprecated NumPy 1.25.)\n",
      "  label = int(grp['y'].unique())\n",
      "71it [19:50, 16.61s/it]"
     ]
    },
    {
     "name": "stdout",
     "output_type": "stream",
     "text": [
      "Creating RawArray with float64 data, n_channels=14, n_times=38272\n",
      "    Range : 0 ... 38271 =      0.000 ...   298.992 secs\n",
      "Ready.\n",
      "EEG channel type selected for re-referencing\n",
      "Applying average reference.\n",
      "Applying a custom ('EEG',) reference.\n",
      "Not setting metadata\n",
      "297 matching events found\n",
      "No baseline correction applied\n",
      "0 projection items activated\n",
      "Using data from preloaded Raw for 297 events and 384 original time points ...\n",
      "0 bad epochs dropped\n"
     ]
    },
    {
     "name": "stderr",
     "output_type": "stream",
     "text": [
      "C:\\Users\\47575909\\AppData\\Local\\Temp\\ipykernel_6176\\2171158857.py:6: DeprecationWarning: Conversion of an array with ndim > 0 to a scalar is deprecated, and will error in future. Ensure you extract a single element from your array before performing this operation. (Deprecated NumPy 1.25.)\n",
      "  label = int(grp['y'].unique())\n",
      "72it [20:06, 16.40s/it]"
     ]
    },
    {
     "name": "stdout",
     "output_type": "stream",
     "text": [
      "Creating RawArray with float64 data, n_channels=14, n_times=40832\n",
      "    Range : 0 ... 40831 =      0.000 ...   318.992 secs\n",
      "Ready.\n",
      "EEG channel type selected for re-referencing\n",
      "Applying average reference.\n",
      "Applying a custom ('EEG',) reference.\n",
      "Not setting metadata\n",
      "317 matching events found\n",
      "No baseline correction applied\n",
      "0 projection items activated\n",
      "Using data from preloaded Raw for 317 events and 384 original time points ...\n",
      "0 bad epochs dropped\n"
     ]
    },
    {
     "name": "stderr",
     "output_type": "stream",
     "text": [
      "C:\\Users\\47575909\\AppData\\Local\\Temp\\ipykernel_6176\\2171158857.py:6: DeprecationWarning: Conversion of an array with ndim > 0 to a scalar is deprecated, and will error in future. Ensure you extract a single element from your array before performing this operation. (Deprecated NumPy 1.25.)\n",
      "  label = int(grp['y'].unique())\n",
      "73it [20:23, 16.56s/it]"
     ]
    },
    {
     "name": "stdout",
     "output_type": "stream",
     "text": [
      "Creating RawArray with float64 data, n_channels=14, n_times=39424\n",
      "    Range : 0 ... 39423 =      0.000 ...   307.992 secs\n",
      "Ready.\n",
      "EEG channel type selected for re-referencing\n",
      "Applying average reference.\n",
      "Applying a custom ('EEG',) reference.\n",
      "Not setting metadata\n",
      "306 matching events found\n",
      "No baseline correction applied\n",
      "0 projection items activated\n",
      "Using data from preloaded Raw for 306 events and 384 original time points ...\n",
      "0 bad epochs dropped\n"
     ]
    },
    {
     "name": "stderr",
     "output_type": "stream",
     "text": [
      "C:\\Users\\47575909\\AppData\\Local\\Temp\\ipykernel_6176\\2171158857.py:6: DeprecationWarning: Conversion of an array with ndim > 0 to a scalar is deprecated, and will error in future. Ensure you extract a single element from your array before performing this operation. (Deprecated NumPy 1.25.)\n",
      "  label = int(grp['y'].unique())\n",
      "74it [20:40, 16.52s/it]"
     ]
    },
    {
     "name": "stdout",
     "output_type": "stream",
     "text": [
      "Creating RawArray with float64 data, n_channels=14, n_times=38272\n",
      "    Range : 0 ... 38271 =      0.000 ...   298.992 secs\n",
      "Ready.\n",
      "EEG channel type selected for re-referencing\n",
      "Applying average reference.\n",
      "Applying a custom ('EEG',) reference.\n",
      "Not setting metadata\n",
      "297 matching events found\n",
      "No baseline correction applied\n",
      "0 projection items activated\n",
      "Using data from preloaded Raw for 297 events and 384 original time points ...\n",
      "0 bad epochs dropped\n"
     ]
    },
    {
     "name": "stderr",
     "output_type": "stream",
     "text": [
      "C:\\Users\\47575909\\AppData\\Local\\Temp\\ipykernel_6176\\2171158857.py:6: DeprecationWarning: Conversion of an array with ndim > 0 to a scalar is deprecated, and will error in future. Ensure you extract a single element from your array before performing this operation. (Deprecated NumPy 1.25.)\n",
      "  label = int(grp['y'].unique())\n",
      "75it [20:55, 16.35s/it]"
     ]
    },
    {
     "name": "stdout",
     "output_type": "stream",
     "text": [
      "Creating RawArray with float64 data, n_channels=14, n_times=38528\n",
      "    Range : 0 ... 38527 =      0.000 ...   300.992 secs\n",
      "Ready.\n",
      "EEG channel type selected for re-referencing\n",
      "Applying average reference.\n",
      "Applying a custom ('EEG',) reference.\n",
      "Not setting metadata\n",
      "299 matching events found\n",
      "No baseline correction applied\n",
      "0 projection items activated\n",
      "Using data from preloaded Raw for 299 events and 384 original time points ...\n",
      "0 bad epochs dropped\n"
     ]
    },
    {
     "name": "stderr",
     "output_type": "stream",
     "text": [
      "C:\\Users\\47575909\\AppData\\Local\\Temp\\ipykernel_6176\\2171158857.py:6: DeprecationWarning: Conversion of an array with ndim > 0 to a scalar is deprecated, and will error in future. Ensure you extract a single element from your array before performing this operation. (Deprecated NumPy 1.25.)\n",
      "  label = int(grp['y'].unique())\n",
      "76it [21:11, 16.25s/it]"
     ]
    },
    {
     "name": "stdout",
     "output_type": "stream",
     "text": [
      "Creating RawArray with float64 data, n_channels=14, n_times=39040\n",
      "    Range : 0 ... 39039 =      0.000 ...   304.992 secs\n",
      "Ready.\n",
      "EEG channel type selected for re-referencing\n",
      "Applying average reference.\n",
      "Applying a custom ('EEG',) reference.\n",
      "Not setting metadata\n",
      "303 matching events found\n",
      "No baseline correction applied\n",
      "0 projection items activated\n",
      "Using data from preloaded Raw for 303 events and 384 original time points ...\n",
      "0 bad epochs dropped\n"
     ]
    },
    {
     "name": "stderr",
     "output_type": "stream",
     "text": [
      "C:\\Users\\47575909\\AppData\\Local\\Temp\\ipykernel_6176\\2171158857.py:6: DeprecationWarning: Conversion of an array with ndim > 0 to a scalar is deprecated, and will error in future. Ensure you extract a single element from your array before performing this operation. (Deprecated NumPy 1.25.)\n",
      "  label = int(grp['y'].unique())\n",
      "77it [21:28, 16.26s/it]"
     ]
    },
    {
     "name": "stdout",
     "output_type": "stream",
     "text": [
      "Creating RawArray with float64 data, n_channels=14, n_times=42496\n",
      "    Range : 0 ... 42495 =      0.000 ...   331.992 secs\n",
      "Ready.\n",
      "EEG channel type selected for re-referencing\n",
      "Applying average reference.\n",
      "Applying a custom ('EEG',) reference.\n",
      "Not setting metadata\n",
      "330 matching events found\n",
      "No baseline correction applied\n",
      "0 projection items activated\n",
      "Using data from preloaded Raw for 330 events and 384 original time points ...\n",
      "0 bad epochs dropped\n"
     ]
    },
    {
     "name": "stderr",
     "output_type": "stream",
     "text": [
      "C:\\Users\\47575909\\AppData\\Local\\Temp\\ipykernel_6176\\2171158857.py:6: DeprecationWarning: Conversion of an array with ndim > 0 to a scalar is deprecated, and will error in future. Ensure you extract a single element from your array before performing this operation. (Deprecated NumPy 1.25.)\n",
      "  label = int(grp['y'].unique())\n",
      "78it [21:45, 16.64s/it]"
     ]
    },
    {
     "name": "stdout",
     "output_type": "stream",
     "text": [
      "Creating RawArray with float64 data, n_channels=14, n_times=38912\n",
      "    Range : 0 ... 38911 =      0.000 ...   303.992 secs\n",
      "Ready.\n",
      "EEG channel type selected for re-referencing\n",
      "Applying average reference.\n",
      "Applying a custom ('EEG',) reference.\n",
      "Not setting metadata\n",
      "302 matching events found\n",
      "No baseline correction applied\n",
      "0 projection items activated\n",
      "Using data from preloaded Raw for 302 events and 384 original time points ...\n",
      "0 bad epochs dropped\n"
     ]
    },
    {
     "name": "stderr",
     "output_type": "stream",
     "text": [
      "C:\\Users\\47575909\\AppData\\Local\\Temp\\ipykernel_6176\\2171158857.py:6: DeprecationWarning: Conversion of an array with ndim > 0 to a scalar is deprecated, and will error in future. Ensure you extract a single element from your array before performing this operation. (Deprecated NumPy 1.25.)\n",
      "  label = int(grp['y'].unique())\n",
      "79it [22:02, 16.53s/it]"
     ]
    },
    {
     "name": "stdout",
     "output_type": "stream",
     "text": [
      "Creating RawArray with float64 data, n_channels=14, n_times=39040\n",
      "    Range : 0 ... 39039 =      0.000 ...   304.992 secs\n",
      "Ready.\n",
      "EEG channel type selected for re-referencing\n",
      "Applying average reference.\n",
      "Applying a custom ('EEG',) reference.\n",
      "Not setting metadata\n",
      "303 matching events found\n",
      "No baseline correction applied\n",
      "0 projection items activated\n",
      "Using data from preloaded Raw for 303 events and 384 original time points ...\n",
      "0 bad epochs dropped\n"
     ]
    },
    {
     "name": "stderr",
     "output_type": "stream",
     "text": [
      "C:\\Users\\47575909\\AppData\\Local\\Temp\\ipykernel_6176\\2171158857.py:6: DeprecationWarning: Conversion of an array with ndim > 0 to a scalar is deprecated, and will error in future. Ensure you extract a single element from your array before performing this operation. (Deprecated NumPy 1.25.)\n",
      "  label = int(grp['y'].unique())\n",
      "80it [22:18, 16.46s/it]"
     ]
    },
    {
     "name": "stdout",
     "output_type": "stream",
     "text": [
      "Creating RawArray with float64 data, n_channels=14, n_times=36992\n",
      "    Range : 0 ... 36991 =      0.000 ...   288.992 secs\n",
      "Ready.\n",
      "EEG channel type selected for re-referencing\n",
      "Applying average reference.\n",
      "Applying a custom ('EEG',) reference.\n",
      "Not setting metadata\n",
      "287 matching events found\n",
      "No baseline correction applied\n",
      "0 projection items activated\n",
      "Using data from preloaded Raw for 287 events and 384 original time points ...\n",
      "0 bad epochs dropped\n"
     ]
    },
    {
     "name": "stderr",
     "output_type": "stream",
     "text": [
      "C:\\Users\\47575909\\AppData\\Local\\Temp\\ipykernel_6176\\2171158857.py:6: DeprecationWarning: Conversion of an array with ndim > 0 to a scalar is deprecated, and will error in future. Ensure you extract a single element from your array before performing this operation. (Deprecated NumPy 1.25.)\n",
      "  label = int(grp['y'].unique())\n",
      "81it [22:33, 16.14s/it]"
     ]
    },
    {
     "name": "stdout",
     "output_type": "stream",
     "text": [
      "Creating RawArray with float64 data, n_channels=14, n_times=37888\n",
      "    Range : 0 ... 37887 =      0.000 ...   295.992 secs\n",
      "Ready.\n",
      "EEG channel type selected for re-referencing\n",
      "Applying average reference.\n",
      "Applying a custom ('EEG',) reference.\n",
      "Not setting metadata\n",
      "294 matching events found\n",
      "No baseline correction applied\n",
      "0 projection items activated\n",
      "Using data from preloaded Raw for 294 events and 384 original time points ...\n",
      "0 bad epochs dropped\n"
     ]
    },
    {
     "name": "stderr",
     "output_type": "stream",
     "text": [
      "C:\\Users\\47575909\\AppData\\Local\\Temp\\ipykernel_6176\\2171158857.py:6: DeprecationWarning: Conversion of an array with ndim > 0 to a scalar is deprecated, and will error in future. Ensure you extract a single element from your array before performing this operation. (Deprecated NumPy 1.25.)\n",
      "  label = int(grp['y'].unique())\n",
      "82it [22:49, 16.07s/it]"
     ]
    },
    {
     "name": "stdout",
     "output_type": "stream",
     "text": [
      "Creating RawArray with float64 data, n_channels=14, n_times=38272\n",
      "    Range : 0 ... 38271 =      0.000 ...   298.992 secs\n",
      "Ready.\n",
      "EEG channel type selected for re-referencing\n",
      "Applying average reference.\n",
      "Applying a custom ('EEG',) reference.\n",
      "Not setting metadata\n",
      "297 matching events found\n",
      "No baseline correction applied\n",
      "0 projection items activated\n",
      "Using data from preloaded Raw for 297 events and 384 original time points ...\n",
      "0 bad epochs dropped\n"
     ]
    },
    {
     "name": "stderr",
     "output_type": "stream",
     "text": [
      "C:\\Users\\47575909\\AppData\\Local\\Temp\\ipykernel_6176\\2171158857.py:6: DeprecationWarning: Conversion of an array with ndim > 0 to a scalar is deprecated, and will error in future. Ensure you extract a single element from your array before performing this operation. (Deprecated NumPy 1.25.)\n",
      "  label = int(grp['y'].unique())\n",
      "83it [23:05, 16.10s/it]"
     ]
    },
    {
     "name": "stdout",
     "output_type": "stream",
     "text": [
      "Creating RawArray with float64 data, n_channels=14, n_times=38784\n",
      "    Range : 0 ... 38783 =      0.000 ...   302.992 secs\n",
      "Ready.\n",
      "EEG channel type selected for re-referencing\n",
      "Applying average reference.\n",
      "Applying a custom ('EEG',) reference.\n",
      "Not setting metadata\n",
      "301 matching events found\n",
      "No baseline correction applied\n",
      "0 projection items activated\n",
      "Using data from preloaded Raw for 301 events and 384 original time points ...\n",
      "0 bad epochs dropped\n"
     ]
    },
    {
     "name": "stderr",
     "output_type": "stream",
     "text": [
      "C:\\Users\\47575909\\AppData\\Local\\Temp\\ipykernel_6176\\2171158857.py:6: DeprecationWarning: Conversion of an array with ndim > 0 to a scalar is deprecated, and will error in future. Ensure you extract a single element from your array before performing this operation. (Deprecated NumPy 1.25.)\n",
      "  label = int(grp['y'].unique())\n",
      "84it [23:21, 16.12s/it]"
     ]
    },
    {
     "name": "stdout",
     "output_type": "stream",
     "text": [
      "Creating RawArray with float64 data, n_channels=14, n_times=38912\n",
      "    Range : 0 ... 38911 =      0.000 ...   303.992 secs\n",
      "Ready.\n",
      "EEG channel type selected for re-referencing\n",
      "Applying average reference.\n",
      "Applying a custom ('EEG',) reference.\n",
      "Not setting metadata\n",
      "302 matching events found\n",
      "No baseline correction applied\n",
      "0 projection items activated\n",
      "Using data from preloaded Raw for 302 events and 384 original time points ...\n",
      "0 bad epochs dropped\n"
     ]
    },
    {
     "name": "stderr",
     "output_type": "stream",
     "text": [
      "C:\\Users\\47575909\\AppData\\Local\\Temp\\ipykernel_6176\\2171158857.py:6: DeprecationWarning: Conversion of an array with ndim > 0 to a scalar is deprecated, and will error in future. Ensure you extract a single element from your array before performing this operation. (Deprecated NumPy 1.25.)\n",
      "  label = int(grp['y'].unique())\n",
      "85it [23:38, 16.14s/it]"
     ]
    },
    {
     "name": "stdout",
     "output_type": "stream",
     "text": [
      "Creating RawArray with float64 data, n_channels=14, n_times=39040\n",
      "    Range : 0 ... 39039 =      0.000 ...   304.992 secs\n",
      "Ready.\n",
      "EEG channel type selected for re-referencing\n",
      "Applying average reference.\n",
      "Applying a custom ('EEG',) reference.\n",
      "Not setting metadata\n",
      "303 matching events found\n",
      "No baseline correction applied\n",
      "0 projection items activated\n",
      "Using data from preloaded Raw for 303 events and 384 original time points ...\n",
      "0 bad epochs dropped\n"
     ]
    },
    {
     "name": "stderr",
     "output_type": "stream",
     "text": [
      "C:\\Users\\47575909\\AppData\\Local\\Temp\\ipykernel_6176\\2171158857.py:6: DeprecationWarning: Conversion of an array with ndim > 0 to a scalar is deprecated, and will error in future. Ensure you extract a single element from your array before performing this operation. (Deprecated NumPy 1.25.)\n",
      "  label = int(grp['y'].unique())\n",
      "86it [23:54, 16.22s/it]"
     ]
    },
    {
     "name": "stdout",
     "output_type": "stream",
     "text": [
      "Creating RawArray with float64 data, n_channels=14, n_times=39040\n",
      "    Range : 0 ... 39039 =      0.000 ...   304.992 secs\n",
      "Ready.\n",
      "EEG channel type selected for re-referencing\n",
      "Applying average reference.\n",
      "Applying a custom ('EEG',) reference.\n",
      "Not setting metadata\n",
      "303 matching events found\n",
      "No baseline correction applied\n",
      "0 projection items activated\n",
      "Using data from preloaded Raw for 303 events and 384 original time points ...\n",
      "0 bad epochs dropped\n"
     ]
    },
    {
     "name": "stderr",
     "output_type": "stream",
     "text": [
      "C:\\Users\\47575909\\AppData\\Local\\Temp\\ipykernel_6176\\2171158857.py:6: DeprecationWarning: Conversion of an array with ndim > 0 to a scalar is deprecated, and will error in future. Ensure you extract a single element from your array before performing this operation. (Deprecated NumPy 1.25.)\n",
      "  label = int(grp['y'].unique())\n",
      "87it [24:11, 16.31s/it]"
     ]
    },
    {
     "name": "stdout",
     "output_type": "stream",
     "text": [
      "Creating RawArray with float64 data, n_channels=14, n_times=37760\n",
      "    Range : 0 ... 37759 =      0.000 ...   294.992 secs\n",
      "Ready.\n",
      "EEG channel type selected for re-referencing\n",
      "Applying average reference.\n",
      "Applying a custom ('EEG',) reference.\n",
      "Not setting metadata\n",
      "293 matching events found\n",
      "No baseline correction applied\n",
      "0 projection items activated\n",
      "Using data from preloaded Raw for 293 events and 384 original time points ...\n",
      "0 bad epochs dropped\n"
     ]
    },
    {
     "name": "stderr",
     "output_type": "stream",
     "text": [
      "C:\\Users\\47575909\\AppData\\Local\\Temp\\ipykernel_6176\\2171158857.py:6: DeprecationWarning: Conversion of an array with ndim > 0 to a scalar is deprecated, and will error in future. Ensure you extract a single element from your array before performing this operation. (Deprecated NumPy 1.25.)\n",
      "  label = int(grp['y'].unique())\n",
      "88it [24:27, 16.21s/it]"
     ]
    },
    {
     "name": "stdout",
     "output_type": "stream",
     "text": [
      "Creating RawArray with float64 data, n_channels=14, n_times=42368\n",
      "    Range : 0 ... 42367 =      0.000 ...   330.992 secs\n",
      "Ready.\n",
      "EEG channel type selected for re-referencing\n",
      "Applying average reference.\n",
      "Applying a custom ('EEG',) reference.\n",
      "Not setting metadata\n",
      "329 matching events found\n",
      "No baseline correction applied\n",
      "0 projection items activated\n",
      "Using data from preloaded Raw for 329 events and 384 original time points ...\n",
      "0 bad epochs dropped\n"
     ]
    },
    {
     "name": "stderr",
     "output_type": "stream",
     "text": [
      "C:\\Users\\47575909\\AppData\\Local\\Temp\\ipykernel_6176\\2171158857.py:6: DeprecationWarning: Conversion of an array with ndim > 0 to a scalar is deprecated, and will error in future. Ensure you extract a single element from your array before performing this operation. (Deprecated NumPy 1.25.)\n",
      "  label = int(grp['y'].unique())\n",
      "89it [24:44, 16.65s/it]"
     ]
    },
    {
     "name": "stdout",
     "output_type": "stream",
     "text": [
      "Creating RawArray with float64 data, n_channels=14, n_times=38528\n",
      "    Range : 0 ... 38527 =      0.000 ...   300.992 secs\n",
      "Ready.\n",
      "EEG channel type selected for re-referencing\n",
      "Applying average reference.\n",
      "Applying a custom ('EEG',) reference.\n",
      "Not setting metadata\n",
      "299 matching events found\n",
      "No baseline correction applied\n",
      "0 projection items activated\n",
      "Using data from preloaded Raw for 299 events and 384 original time points ...\n",
      "0 bad epochs dropped\n"
     ]
    },
    {
     "name": "stderr",
     "output_type": "stream",
     "text": [
      "C:\\Users\\47575909\\AppData\\Local\\Temp\\ipykernel_6176\\2171158857.py:6: DeprecationWarning: Conversion of an array with ndim > 0 to a scalar is deprecated, and will error in future. Ensure you extract a single element from your array before performing this operation. (Deprecated NumPy 1.25.)\n",
      "  label = int(grp['y'].unique())\n",
      "90it [25:00, 16.52s/it]"
     ]
    },
    {
     "name": "stdout",
     "output_type": "stream",
     "text": [
      "Creating RawArray with float64 data, n_channels=14, n_times=38912\n",
      "    Range : 0 ... 38911 =      0.000 ...   303.992 secs\n",
      "Ready.\n",
      "EEG channel type selected for re-referencing\n",
      "Applying average reference.\n",
      "Applying a custom ('EEG',) reference.\n",
      "Not setting metadata\n",
      "302 matching events found\n",
      "No baseline correction applied\n",
      "0 projection items activated\n",
      "Using data from preloaded Raw for 302 events and 384 original time points ...\n",
      "0 bad epochs dropped\n"
     ]
    },
    {
     "name": "stderr",
     "output_type": "stream",
     "text": [
      "C:\\Users\\47575909\\AppData\\Local\\Temp\\ipykernel_6176\\2171158857.py:6: DeprecationWarning: Conversion of an array with ndim > 0 to a scalar is deprecated, and will error in future. Ensure you extract a single element from your array before performing this operation. (Deprecated NumPy 1.25.)\n",
      "  label = int(grp['y'].unique())\n",
      "91it [25:17, 16.39s/it]"
     ]
    },
    {
     "name": "stdout",
     "output_type": "stream",
     "text": [
      "Creating RawArray with float64 data, n_channels=14, n_times=38400\n",
      "    Range : 0 ... 38399 =      0.000 ...   299.992 secs\n",
      "Ready.\n",
      "EEG channel type selected for re-referencing\n",
      "Applying average reference.\n",
      "Applying a custom ('EEG',) reference.\n",
      "Not setting metadata\n",
      "298 matching events found\n",
      "No baseline correction applied\n",
      "0 projection items activated\n",
      "Using data from preloaded Raw for 298 events and 384 original time points ...\n",
      "0 bad epochs dropped\n"
     ]
    },
    {
     "name": "stderr",
     "output_type": "stream",
     "text": [
      "C:\\Users\\47575909\\AppData\\Local\\Temp\\ipykernel_6176\\2171158857.py:6: DeprecationWarning: Conversion of an array with ndim > 0 to a scalar is deprecated, and will error in future. Ensure you extract a single element from your array before performing this operation. (Deprecated NumPy 1.25.)\n",
      "  label = int(grp['y'].unique())\n",
      "92it [25:33, 16.33s/it]"
     ]
    },
    {
     "name": "stdout",
     "output_type": "stream",
     "text": [
      "Creating RawArray with float64 data, n_channels=14, n_times=39296\n",
      "    Range : 0 ... 39295 =      0.000 ...   306.992 secs\n",
      "Ready.\n",
      "EEG channel type selected for re-referencing\n",
      "Applying average reference.\n",
      "Applying a custom ('EEG',) reference.\n",
      "Not setting metadata\n",
      "305 matching events found\n",
      "No baseline correction applied\n",
      "0 projection items activated\n",
      "Using data from preloaded Raw for 305 events and 384 original time points ...\n",
      "0 bad epochs dropped\n"
     ]
    },
    {
     "name": "stderr",
     "output_type": "stream",
     "text": [
      "C:\\Users\\47575909\\AppData\\Local\\Temp\\ipykernel_6176\\2171158857.py:6: DeprecationWarning: Conversion of an array with ndim > 0 to a scalar is deprecated, and will error in future. Ensure you extract a single element from your array before performing this operation. (Deprecated NumPy 1.25.)\n",
      "  label = int(grp['y'].unique())\n",
      "93it [25:49, 16.36s/it]"
     ]
    },
    {
     "name": "stdout",
     "output_type": "stream",
     "text": [
      "Creating RawArray with float64 data, n_channels=14, n_times=38400\n",
      "    Range : 0 ... 38399 =      0.000 ...   299.992 secs\n",
      "Ready.\n",
      "EEG channel type selected for re-referencing\n",
      "Applying average reference.\n",
      "Applying a custom ('EEG',) reference.\n",
      "Not setting metadata\n",
      "298 matching events found\n",
      "No baseline correction applied\n",
      "0 projection items activated\n",
      "Using data from preloaded Raw for 298 events and 384 original time points ...\n",
      "0 bad epochs dropped\n"
     ]
    },
    {
     "name": "stderr",
     "output_type": "stream",
     "text": [
      "C:\\Users\\47575909\\AppData\\Local\\Temp\\ipykernel_6176\\2171158857.py:6: DeprecationWarning: Conversion of an array with ndim > 0 to a scalar is deprecated, and will error in future. Ensure you extract a single element from your array before performing this operation. (Deprecated NumPy 1.25.)\n",
      "  label = int(grp['y'].unique())\n",
      "94it [26:05, 16.26s/it]"
     ]
    },
    {
     "name": "stdout",
     "output_type": "stream",
     "text": [
      "Creating RawArray with float64 data, n_channels=14, n_times=38528\n",
      "    Range : 0 ... 38527 =      0.000 ...   300.992 secs\n",
      "Ready.\n",
      "EEG channel type selected for re-referencing\n",
      "Applying average reference.\n",
      "Applying a custom ('EEG',) reference.\n",
      "Not setting metadata\n",
      "299 matching events found\n",
      "No baseline correction applied\n",
      "0 projection items activated\n",
      "Using data from preloaded Raw for 299 events and 384 original time points ...\n",
      "0 bad epochs dropped\n"
     ]
    },
    {
     "name": "stderr",
     "output_type": "stream",
     "text": [
      "C:\\Users\\47575909\\AppData\\Local\\Temp\\ipykernel_6176\\2171158857.py:6: DeprecationWarning: Conversion of an array with ndim > 0 to a scalar is deprecated, and will error in future. Ensure you extract a single element from your array before performing this operation. (Deprecated NumPy 1.25.)\n",
      "  label = int(grp['y'].unique())\n",
      "95it [26:21, 16.18s/it]"
     ]
    },
    {
     "name": "stdout",
     "output_type": "stream",
     "text": [
      "Creating RawArray with float64 data, n_channels=14, n_times=37632\n",
      "    Range : 0 ... 37631 =      0.000 ...   293.992 secs\n",
      "Ready.\n",
      "EEG channel type selected for re-referencing\n",
      "Applying average reference.\n",
      "Applying a custom ('EEG',) reference.\n",
      "Not setting metadata\n",
      "292 matching events found\n",
      "No baseline correction applied\n",
      "0 projection items activated\n",
      "Using data from preloaded Raw for 292 events and 384 original time points ...\n",
      "0 bad epochs dropped\n"
     ]
    },
    {
     "name": "stderr",
     "output_type": "stream",
     "text": [
      "C:\\Users\\47575909\\AppData\\Local\\Temp\\ipykernel_6176\\2171158857.py:6: DeprecationWarning: Conversion of an array with ndim > 0 to a scalar is deprecated, and will error in future. Ensure you extract a single element from your array before performing this operation. (Deprecated NumPy 1.25.)\n",
      "  label = int(grp['y'].unique())\n",
      "96it [26:37, 16.01s/it]"
     ]
    },
    {
     "name": "stdout",
     "output_type": "stream",
     "text": [
      "Creating RawArray with float64 data, n_channels=14, n_times=38400\n",
      "    Range : 0 ... 38399 =      0.000 ...   299.992 secs\n",
      "Ready.\n",
      "EEG channel type selected for re-referencing\n",
      "Applying average reference.\n",
      "Applying a custom ('EEG',) reference.\n",
      "Not setting metadata\n",
      "298 matching events found\n",
      "No baseline correction applied\n",
      "0 projection items activated\n",
      "Using data from preloaded Raw for 298 events and 384 original time points ...\n",
      "0 bad epochs dropped\n"
     ]
    },
    {
     "name": "stderr",
     "output_type": "stream",
     "text": [
      "C:\\Users\\47575909\\AppData\\Local\\Temp\\ipykernel_6176\\2171158857.py:6: DeprecationWarning: Conversion of an array with ndim > 0 to a scalar is deprecated, and will error in future. Ensure you extract a single element from your array before performing this operation. (Deprecated NumPy 1.25.)\n",
      "  label = int(grp['y'].unique())\n",
      "97it [26:53, 16.63s/it]\n"
     ]
    }
   ],
   "source": [
    "#listas para almacenar los datos\n",
    "data_list = []\n",
    "\n",
    "for i, grpno in tqdm(enumerate(grp_keys)):\n",
    "    grp = groups.get_group(grpno).drop(['subject_id'], axis=1)\n",
    "    label = int(grp['y'].unique())\n",
    "    subject_id = grpno\n",
    "    grp = grp.drop('y', axis=1)\n",
    "\n",
    "    #convierto mi info a formato mne\n",
    "    data = convertDF2MNE(grp)  #(trials, channels, length)\n",
    "\n",
    "    for c, x in enumerate(data):  #loop trials\n",
    "        Wx, scales = cwt(x, 'morlet')\n",
    "        Wx = np.abs(Wx)\n",
    "        path = os.path.join('C:\\\\Users\\\\47575909\\\\Desktop\\\\scaleogram', f'subvideo_{grpno}/')\n",
    "        os.makedirs(path, exist_ok=True)\n",
    "        path = os.path.join(path, f'trial_{c}.npy')  # Corrección en la construcción de la ruta\n",
    "        np.save(path, Wx)\n",
    "\n",
    "        data_entry = {\n",
    "            'grpno': i,\n",
    "            'label': label,\n",
    "            'path': path\n",
    "        }\n",
    "\n",
    "        #guardo la info del grupo (en realidad sería el \"id\" del eeg), la label y la path del archivo literal del eeg que ya se procesó\n",
    "        data_list.append(data_entry)\n",
    "\n",
    "#creo un dataset de TensorFlow\n",
    "dataset = tf.data.Dataset.from_generator(\n",
    "    generator=lambda: (data_entry for data_entry in data_list),\n",
    "    output_signature={\n",
    "        'grpno': tf.TensorSpec(shape=(), dtype=tf.int32),\n",
    "        'label': tf.TensorSpec(shape=(), dtype=tf.int32),\n",
    "        'path': tf.TensorSpec(shape=(), dtype=tf.string)\n",
    "    }\n",
    ")"
   ]
  },
  {
   "cell_type": "code",
   "execution_count": 11,
   "metadata": {},
   "outputs": [],
   "source": [
    "#función para serializar un ejemplo en un TFRecord\n",
    "def serialize(grpno, label, path):\n",
    "    feature = {\n",
    "        'grpno': tf.train.Feature(int64_list=tf.train.Int64List(value=[grpno])),\n",
    "        'label': tf.train.Feature(int64_list=tf.train.Int64List(value=[label])),\n",
    "        'path': tf.train.Feature(bytes_list=tf.train.BytesList(value=[path.encode('utf-8')])),\n",
    "    }\n",
    "    \n",
    "    example_proto = tf.train.Example(features=tf.train.Features(feature=feature))\n",
    "    \n",
    "    return example_proto.SerializeToString()"
   ]
  },
  {
   "cell_type": "code",
   "execution_count": 12,
   "metadata": {},
   "outputs": [],
   "source": [
    "TFdataset = './tfrecord_data/'\n",
    "os.makedirs(TFdataset)\n",
    "\n",
    "#función para guardar los datos de cada grupo\n",
    "def save_group_to_tfrecord(grpno, dataset):\n",
    "    group_file_dataset = os.path.join(TFdataset, f'{grpno}_data.tfrecord')\n",
    "    \n",
    "    with tf.io.TFRecordWriter(group_file_dataset) as writer:\n",
    "        for data_entry in dataset:\n",
    "            grpno = data_entry['grpno'].numpy()\n",
    "            label = data_entry['label'].numpy()\n",
    "            path = data_entry['path'].numpy().decode('utf-8')\n",
    "            serialized = serialize(grpno, label, path)\n",
    "            writer.write(serialized)\n",
    "    \n",
    "    print(f'Datos del grupo {grpno} se guardó en {group_file_dataset}')"
   ]
  },
  {
   "cell_type": "code",
   "execution_count": 13,
   "metadata": {},
   "outputs": [
    {
     "name": "stdout",
     "output_type": "stream",
     "text": [
      "Datos del grupo 1 se guardó en ./tfrecord_data/1_data.tfrecord\n",
      "Datos del grupo 2 se guardó en ./tfrecord_data/2_data.tfrecord\n",
      "Datos del grupo 3 se guardó en ./tfrecord_data/3_data.tfrecord\n",
      "Datos del grupo 4 se guardó en ./tfrecord_data/4_data.tfrecord\n",
      "Datos del grupo 5 se guardó en ./tfrecord_data/5_data.tfrecord\n",
      "Datos del grupo 6 se guardó en ./tfrecord_data/6_data.tfrecord\n",
      "Datos del grupo 7 se guardó en ./tfrecord_data/7_data.tfrecord\n",
      "Datos del grupo 8 se guardó en ./tfrecord_data/8_data.tfrecord\n",
      "Datos del grupo 9 se guardó en ./tfrecord_data/9_data.tfrecord\n",
      "Datos del grupo 10 se guardó en ./tfrecord_data/10_data.tfrecord\n",
      "Datos del grupo 11 se guardó en ./tfrecord_data/11_data.tfrecord\n",
      "Datos del grupo 12 se guardó en ./tfrecord_data/12_data.tfrecord\n",
      "Datos del grupo 13 se guardó en ./tfrecord_data/13_data.tfrecord\n",
      "Datos del grupo 14 se guardó en ./tfrecord_data/14_data.tfrecord\n",
      "Datos del grupo 15 se guardó en ./tfrecord_data/15_data.tfrecord\n",
      "Datos del grupo 16 se guardó en ./tfrecord_data/16_data.tfrecord\n",
      "Datos del grupo 17 se guardó en ./tfrecord_data/17_data.tfrecord\n",
      "Datos del grupo 18 se guardó en ./tfrecord_data/18_data.tfrecord\n",
      "Datos del grupo 19 se guardó en ./tfrecord_data/19_data.tfrecord\n",
      "Datos del grupo 20 se guardó en ./tfrecord_data/20_data.tfrecord\n",
      "Datos del grupo 21 se guardó en ./tfrecord_data/21_data.tfrecord\n",
      "Datos del grupo 22 se guardó en ./tfrecord_data/22_data.tfrecord\n",
      "Datos del grupo 23 se guardó en ./tfrecord_data/23_data.tfrecord\n",
      "Datos del grupo 24 se guardó en ./tfrecord_data/24_data.tfrecord\n",
      "Datos del grupo 25 se guardó en ./tfrecord_data/25_data.tfrecord\n",
      "Datos del grupo 26 se guardó en ./tfrecord_data/26_data.tfrecord\n",
      "Datos del grupo 27 se guardó en ./tfrecord_data/27_data.tfrecord\n",
      "Datos del grupo 28 se guardó en ./tfrecord_data/28_data.tfrecord\n",
      "Datos del grupo 29 se guardó en ./tfrecord_data/29_data.tfrecord\n",
      "Datos del grupo 30 se guardó en ./tfrecord_data/30_data.tfrecord\n",
      "Datos del grupo 31 se guardó en ./tfrecord_data/31_data.tfrecord\n",
      "Datos del grupo 32 se guardó en ./tfrecord_data/32_data.tfrecord\n",
      "Datos del grupo 33 se guardó en ./tfrecord_data/33_data.tfrecord\n",
      "Datos del grupo 34 se guardó en ./tfrecord_data/34_data.tfrecord\n",
      "Datos del grupo 35 se guardó en ./tfrecord_data/35_data.tfrecord\n",
      "Datos del grupo 36 se guardó en ./tfrecord_data/36_data.tfrecord\n",
      "Datos del grupo 37 se guardó en ./tfrecord_data/37_data.tfrecord\n",
      "Datos del grupo 38 se guardó en ./tfrecord_data/38_data.tfrecord\n",
      "Datos del grupo 39 se guardó en ./tfrecord_data/39_data.tfrecord\n",
      "Datos del grupo 40 se guardó en ./tfrecord_data/40_data.tfrecord\n",
      "Datos del grupo 41 se guardó en ./tfrecord_data/41_data.tfrecord\n",
      "Datos del grupo 42 se guardó en ./tfrecord_data/42_data.tfrecord\n",
      "Datos del grupo 43 se guardó en ./tfrecord_data/43_data.tfrecord\n",
      "Datos del grupo 44 se guardó en ./tfrecord_data/44_data.tfrecord\n",
      "Datos del grupo 45 se guardó en ./tfrecord_data/45_data.tfrecord\n",
      "Datos del grupo 46 se guardó en ./tfrecord_data/46_data.tfrecord\n",
      "Datos del grupo 47 se guardó en ./tfrecord_data/47_data.tfrecord\n",
      "Datos del grupo 48 se guardó en ./tfrecord_data/48_data.tfrecord\n",
      "Datos del grupo 49 se guardó en ./tfrecord_data/49_data.tfrecord\n",
      "Datos del grupo 50 se guardó en ./tfrecord_data/50_data.tfrecord\n",
      "Datos del grupo 51 se guardó en ./tfrecord_data/51_data.tfrecord\n",
      "Datos del grupo 52 se guardó en ./tfrecord_data/52_data.tfrecord\n",
      "Datos del grupo 53 se guardó en ./tfrecord_data/53_data.tfrecord\n",
      "Datos del grupo 54 se guardó en ./tfrecord_data/54_data.tfrecord\n",
      "Datos del grupo 55 se guardó en ./tfrecord_data/55_data.tfrecord\n",
      "Datos del grupo 56 se guardó en ./tfrecord_data/56_data.tfrecord\n",
      "Datos del grupo 57 se guardó en ./tfrecord_data/57_data.tfrecord\n",
      "Datos del grupo 58 se guardó en ./tfrecord_data/58_data.tfrecord\n",
      "Datos del grupo 59 se guardó en ./tfrecord_data/59_data.tfrecord\n",
      "Datos del grupo 60 se guardó en ./tfrecord_data/60_data.tfrecord\n",
      "Datos del grupo 61 se guardó en ./tfrecord_data/61_data.tfrecord\n",
      "Datos del grupo 62 se guardó en ./tfrecord_data/62_data.tfrecord\n",
      "Datos del grupo 63 se guardó en ./tfrecord_data/63_data.tfrecord\n",
      "Datos del grupo 64 se guardó en ./tfrecord_data/64_data.tfrecord\n",
      "Datos del grupo 65 se guardó en ./tfrecord_data/65_data.tfrecord\n",
      "Datos del grupo 66 se guardó en ./tfrecord_data/66_data.tfrecord\n",
      "Datos del grupo 67 se guardó en ./tfrecord_data/67_data.tfrecord\n",
      "Datos del grupo 68 se guardó en ./tfrecord_data/68_data.tfrecord\n",
      "Datos del grupo 69 se guardó en ./tfrecord_data/69_data.tfrecord\n",
      "Datos del grupo 70 se guardó en ./tfrecord_data/70_data.tfrecord\n",
      "Datos del grupo 71 se guardó en ./tfrecord_data/71_data.tfrecord\n",
      "Datos del grupo 72 se guardó en ./tfrecord_data/72_data.tfrecord\n",
      "Datos del grupo 73 se guardó en ./tfrecord_data/73_data.tfrecord\n",
      "Datos del grupo 74 se guardó en ./tfrecord_data/74_data.tfrecord\n",
      "Datos del grupo 75 se guardó en ./tfrecord_data/75_data.tfrecord\n",
      "Datos del grupo 76 se guardó en ./tfrecord_data/76_data.tfrecord\n",
      "Datos del grupo 77 se guardó en ./tfrecord_data/77_data.tfrecord\n",
      "Datos del grupo 78 se guardó en ./tfrecord_data/78_data.tfrecord\n",
      "Datos del grupo 79 se guardó en ./tfrecord_data/79_data.tfrecord\n",
      "Datos del grupo 80 se guardó en ./tfrecord_data/80_data.tfrecord\n",
      "Datos del grupo 81 se guardó en ./tfrecord_data/81_data.tfrecord\n",
      "Datos del grupo 82 se guardó en ./tfrecord_data/82_data.tfrecord\n",
      "Datos del grupo 83 se guardó en ./tfrecord_data/83_data.tfrecord\n",
      "Datos del grupo 84 se guardó en ./tfrecord_data/84_data.tfrecord\n",
      "Datos del grupo 85 se guardó en ./tfrecord_data/85_data.tfrecord\n",
      "Datos del grupo 86 se guardó en ./tfrecord_data/86_data.tfrecord\n",
      "Datos del grupo 87 se guardó en ./tfrecord_data/87_data.tfrecord\n",
      "Datos del grupo 88 se guardó en ./tfrecord_data/88_data.tfrecord\n",
      "Datos del grupo 89 se guardó en ./tfrecord_data/89_data.tfrecord\n",
      "Datos del grupo 90 se guardó en ./tfrecord_data/90_data.tfrecord\n",
      "Datos del grupo 91 se guardó en ./tfrecord_data/91_data.tfrecord\n",
      "Datos del grupo 92 se guardó en ./tfrecord_data/92_data.tfrecord\n",
      "Datos del grupo 93 se guardó en ./tfrecord_data/93_data.tfrecord\n",
      "Datos del grupo 94 se guardó en ./tfrecord_data/94_data.tfrecord\n",
      "Datos del grupo 95 se guardó en ./tfrecord_data/95_data.tfrecord\n",
      "Datos del grupo 96 se guardó en ./tfrecord_data/96_data.tfrecord\n",
      "Datos del grupo 97 se guardó en ./tfrecord_data/97_data.tfrecord\n"
     ]
    }
   ],
   "source": [
    "for grpno in grp_keys:\n",
    "    group_dataset = dataset.filter(lambda x: x['grpno'] == grpno)\n",
    "    save_group_to_tfrecord(grpno, group_dataset)"
   ]
  },
  {
   "cell_type": "code",
   "execution_count": 4,
   "metadata": {},
   "outputs": [],
   "source": [
    "#ACA SUBO LOS ARCHIVOS DE TFRECORD ||||||||||||||||||||||||||||||||||||||||||||\n",
    "TFrecord_directory = 'C:\\\\Users\\\\47575909\\\\Desktop\\\\tfrecord_data' \n",
    "\n",
    "#lista de archivos TFRecord en la carpeta\n",
    "filenames = [os.path.join(TFrecord_directory, f) for f in os.listdir(TFrecord_directory) if f.endswith('.tfrecord')]\n",
    "\n",
    "#Hago un dataset de TensorFlow a partir de los archivos TFRecord\n",
    "dataset = tf.data.TFRecordDataset(filenames)\n",
    "\n",
    "#función para parsear los datos de TFRecord\n",
    "def parse_tfrecord_fn(example):\n",
    "    feature_description = {\n",
    "        'grpno': tf.io.FixedLenFeature([], tf.int64),\n",
    "        'label': tf.io.FixedLenFeature([], tf.int64),\n",
    "        'path': tf.io.FixedLenFeature([], tf.string),\n",
    "    }\n",
    "    example = tf.io.parse_single_example(example, feature_description)\n",
    "    return example\n",
    "\n",
    "parsed_dataset = dataset.map(parse_tfrecord_fn)\n",
    "\n",
    "#batching para argar los datos en lotes\n",
    "batch_size = 5  #puedo cambiar el tamaño (en la PC del colegio el máximo es 16, pero capáz que le tengo que poner menos)\n",
    "batched_dataset = parsed_dataset.batch(batch_size)"
   ]
  },
  {
   "cell_type": "code",
   "execution_count": 2,
   "metadata": {},
   "outputs": [
    {
     "ename": "FileNotFoundError",
     "evalue": "[WinError 3] El sistema no puede encontrar la ruta especificada: 'C:\\\\Users\\\\47575909\\\\Desktop\\\\tfrecord_data_prueba'",
     "output_type": "error",
     "traceback": [
      "\u001b[1;31m---------------------------------------------------------------------------\u001b[0m",
      "\u001b[1;31mFileNotFoundError\u001b[0m                         Traceback (most recent call last)",
      "Cell \u001b[1;32mIn[2], line 7\u001b[0m\n\u001b[0;32m      4\u001b[0m TFrecord_directory \u001b[38;5;241m=\u001b[39m \u001b[38;5;124m'\u001b[39m\u001b[38;5;124mC:\u001b[39m\u001b[38;5;130;01m\\\\\u001b[39;00m\u001b[38;5;124mUsers\u001b[39m\u001b[38;5;130;01m\\\\\u001b[39;00m\u001b[38;5;124m47575909\u001b[39m\u001b[38;5;130;01m\\\\\u001b[39;00m\u001b[38;5;124mDesktop\u001b[39m\u001b[38;5;130;01m\\\\\u001b[39;00m\u001b[38;5;124mtfrecord_data_prueba\u001b[39m\u001b[38;5;124m'\u001b[39m \n\u001b[0;32m      6\u001b[0m \u001b[38;5;66;03m#lista de archivos TFRecord en la carpeta\u001b[39;00m\n\u001b[1;32m----> 7\u001b[0m filenames \u001b[38;5;241m=\u001b[39m [os\u001b[38;5;241m.\u001b[39mpath\u001b[38;5;241m.\u001b[39mjoin(TFrecord_directory, f) \u001b[38;5;28;01mfor\u001b[39;00m f \u001b[38;5;129;01min\u001b[39;00m \u001b[43mos\u001b[49m\u001b[38;5;241;43m.\u001b[39;49m\u001b[43mlistdir\u001b[49m\u001b[43m(\u001b[49m\u001b[43mTFrecord_directory\u001b[49m\u001b[43m)\u001b[49m \u001b[38;5;28;01mif\u001b[39;00m f\u001b[38;5;241m.\u001b[39mendswith(\u001b[38;5;124m'\u001b[39m\u001b[38;5;124m.tfrecord\u001b[39m\u001b[38;5;124m'\u001b[39m)]\n\u001b[0;32m      9\u001b[0m \u001b[38;5;66;03m#Hago un dataset de TensorFlow a partir de los archivos TFRecord\u001b[39;00m\n\u001b[0;32m     10\u001b[0m dataset \u001b[38;5;241m=\u001b[39m tf\u001b[38;5;241m.\u001b[39mdata\u001b[38;5;241m.\u001b[39mTFRecordDataset(filenames)\n",
      "\u001b[1;31mFileNotFoundError\u001b[0m: [WinError 3] El sistema no puede encontrar la ruta especificada: 'C:\\\\Users\\\\47575909\\\\Desktop\\\\tfrecord_data_prueba'"
     ]
    }
   ],
   "source": [
    "#ACAAAAAAAAAAAAAAAAAAAAAAAAAAAAAAAAAAAAAAAAAAAAAAAAAAAAAAAAAAAAAAAAAAAAAAAAAAA\n",
    "#PRUEBO CON MENOS DATOS\n",
    "#ACA SUBO LOS ARCHIVOS DE TFRECORD\n",
    "TFrecord_directory = 'C:\\\\Users\\\\47575909\\\\Desktop\\\\tfrecord_data_prueba' \n",
    "\n",
    "#lista de archivos TFRecord en la carpeta\n",
    "filenames = [os.path.join(TFrecord_directory, f) for f in os.listdir(TFrecord_directory) if f.endswith('.tfrecord')]\n",
    "\n",
    "#Hago un dataset de TensorFlow a partir de los archivos TFRecord\n",
    "dataset = tf.data.TFRecordDataset(filenames)\n",
    "\n",
    "#función para parsear los datos de TFRecord\n",
    "def parse_tfrecord_fn(example):\n",
    "    feature_description = {\n",
    "        'grpno': tf.io.FixedLenFeature([], tf.int64),\n",
    "        'label': tf.io.FixedLenFeature([], tf.int64),\n",
    "        'path': tf.io.FixedLenFeature([], tf.string),\n",
    "    }\n",
    "    example = tf.io.parse_single_example(example, feature_description)\n",
    "    return example\n",
    "\n",
    "parsed_dataset = dataset.map(parse_tfrecord_fn)\n",
    "\n",
    "#batching para argar los datos en lotes\n",
    "batch_size = 5  #puedo cambiar el tamaño (en la PC del colegio el máximo es 16, pero capáz que le tengo que poner menos)\n",
    "batched_dataset = parsed_dataset.batch(batch_size)"
   ]
  },
  {
   "cell_type": "markdown",
   "metadata": {},
   "source": [
    "#### Modelo (CNN) "
   ]
  },
  {
   "cell_type": "code",
   "execution_count": 6,
   "metadata": {},
   "outputs": [
    {
     "name": "stderr",
     "output_type": "stream",
     "text": [
      "2526it [03:35, 11.74it/s]\n"
     ]
    },
    {
     "ename": "MemoryError",
     "evalue": "Unable to allocate 4.72 MiB for an array with shape (1236480,) and data type float32",
     "output_type": "error",
     "traceback": [
      "\u001b[1;31m---------------------------------------------------------------------------\u001b[0m",
      "\u001b[1;31mMemoryError\u001b[0m                               Traceback (most recent call last)",
      "Cell \u001b[1;32mIn[6], line 13\u001b[0m\n\u001b[0;32m     11\u001b[0m batch_X \u001b[38;5;241m=\u001b[39m []\n\u001b[0;32m     12\u001b[0m \u001b[38;5;28;01mfor\u001b[39;00m path \u001b[38;5;129;01min\u001b[39;00m paths:\n\u001b[1;32m---> 13\u001b[0m     spectrogram \u001b[38;5;241m=\u001b[39m \u001b[43mnp\u001b[49m\u001b[38;5;241;43m.\u001b[39;49m\u001b[43mload\u001b[49m\u001b[43m(\u001b[49m\u001b[43mpath\u001b[49m\u001b[38;5;241;43m.\u001b[39;49m\u001b[43mdecode\u001b[49m\u001b[43m(\u001b[49m\u001b[38;5;124;43m'\u001b[39;49m\u001b[38;5;124;43mutf-8\u001b[39;49m\u001b[38;5;124;43m'\u001b[39;49m\u001b[43m)\u001b[49m\u001b[43m)\u001b[49m\n\u001b[0;32m     14\u001b[0m     batch_X\u001b[38;5;241m.\u001b[39mappend(spectrogram)\n\u001b[0;32m     16\u001b[0m \u001b[38;5;66;03m#agrego los scaleograms y labels a las listas X y y\u001b[39;00m\n",
      "File \u001b[1;32m~\\AppData\\Local\\Programs\\Python\\Python311\\Lib\\site-packages\\numpy\\lib\\npyio.py:456\u001b[0m, in \u001b[0;36mload\u001b[1;34m(file, mmap_mode, allow_pickle, fix_imports, encoding, max_header_size)\u001b[0m\n\u001b[0;32m    453\u001b[0m         return format.open_memmap(file, mode=mmap_mode,\n\u001b[0;32m    454\u001b[0m                                   max_header_size=max_header_size)\n\u001b[0;32m    455\u001b[0m     else:\n\u001b[1;32m--> 456\u001b[0m         return format.read_array(fid, allow_pickle=allow_pickle,\n\u001b[0;32m    457\u001b[0m                                  pickle_kwargs=pickle_kwargs,\n\u001b[0;32m    458\u001b[0m                                  max_header_size=max_header_size)\n\u001b[0;32m    459\u001b[0m else:\n\u001b[0;32m    460\u001b[0m     # Try a pickle\n\u001b[0;32m    461\u001b[0m     if not allow_pickle:\n",
      "File \u001b[1;32m~\\AppData\\Local\\Programs\\Python\\Python311\\Lib\\site-packages\\numpy\\lib\\format.py:809\u001b[0m, in \u001b[0;36mread_array\u001b[1;34m(fp, allow_pickle, pickle_kwargs, max_header_size)\u001b[0m\n\u001b[0;32m    806\u001b[0m \u001b[38;5;28;01melse\u001b[39;00m:\n\u001b[0;32m    807\u001b[0m     \u001b[38;5;28;01mif\u001b[39;00m isfileobj(fp):\n\u001b[0;32m    808\u001b[0m         \u001b[38;5;66;03m# We can use the fast fromfile() function.\u001b[39;00m\n\u001b[1;32m--> 809\u001b[0m         array \u001b[38;5;241m=\u001b[39m \u001b[43mnumpy\u001b[49m\u001b[38;5;241;43m.\u001b[39;49m\u001b[43mfromfile\u001b[49m\u001b[43m(\u001b[49m\u001b[43mfp\u001b[49m\u001b[43m,\u001b[49m\u001b[43m \u001b[49m\u001b[43mdtype\u001b[49m\u001b[38;5;241;43m=\u001b[39;49m\u001b[43mdtype\u001b[49m\u001b[43m,\u001b[49m\u001b[43m \u001b[49m\u001b[43mcount\u001b[49m\u001b[38;5;241;43m=\u001b[39;49m\u001b[43mcount\u001b[49m\u001b[43m)\u001b[49m\n\u001b[0;32m    810\u001b[0m     \u001b[38;5;28;01melse\u001b[39;00m:\n\u001b[0;32m    811\u001b[0m         \u001b[38;5;66;03m# This is not a real file. We have to read it the\u001b[39;00m\n\u001b[0;32m    812\u001b[0m         \u001b[38;5;66;03m# memory-intensive way.\u001b[39;00m\n\u001b[1;32m   (...)\u001b[0m\n\u001b[0;32m    820\u001b[0m         \u001b[38;5;66;03m# not correctly instantiate zero-width string dtypes; see\u001b[39;00m\n\u001b[0;32m    821\u001b[0m         \u001b[38;5;66;03m# https://github.com/numpy/numpy/pull/6430\u001b[39;00m\n\u001b[0;32m    822\u001b[0m         array \u001b[38;5;241m=\u001b[39m numpy\u001b[38;5;241m.\u001b[39mndarray(count, dtype\u001b[38;5;241m=\u001b[39mdtype)\n",
      "\u001b[1;31mMemoryError\u001b[0m: Unable to allocate 4.72 MiB for an array with shape (1236480,) and data type float32"
     ]
    }
   ],
   "source": [
    "#SEPARO EN X E Y\n",
    "X = []\n",
    "y = []\n",
    "\n",
    "#itero los lotes\n",
    "for batch_data in tqdm(batched_dataset):\n",
    "    paths = batch_data['path'].numpy()\n",
    "    labels = batch_data['label'].numpy()\n",
    "    \n",
    "    #cargo los scaleograms desde los archivos .npy\n",
    "    batch_X = []\n",
    "    for path in paths:\n",
    "        spectrogram = np.load(path.decode('utf-8'))\n",
    "        batch_X.append(spectrogram)\n",
    "    \n",
    "    #agrego los scaleograms y labels a las listas X y y\n",
    "    X.extend(batch_X)\n",
    "    y.extend(labels)\n",
    "\n",
    "#convierto X e y a formato .npy\n",
    "X = np.array(X)\n",
    "y = np.array(y)\n",
    "\n",
    "print('Ya se separó todo!')\n",
    "print('Salió todo bien, tranquina :))')"
   ]
  },
  {
   "cell_type": "code",
   "execution_count": 6,
   "metadata": {},
   "outputs": [
    {
     "data": {
      "text/plain": [
       "(606, 14, 230, 384)"
      ]
     },
     "execution_count": 6,
     "metadata": {},
     "output_type": "execute_result"
    }
   ],
   "source": [
    "X.shape"
   ]
  },
  {
   "cell_type": "code",
   "execution_count": 11,
   "metadata": {},
   "outputs": [],
   "source": [
    "# Aplanar tus datos\n",
    "X = X.reshape(606, -1)"
   ]
  },
  {
   "cell_type": "code",
   "execution_count": 4,
   "metadata": {},
   "outputs": [],
   "source": [
    "#NORMALIZO X en rango [-1, 1] para que el cero quede en el centro\n",
    "min_val = np.min(X)\n",
    "max_val = np.max(X)\n",
    "\n",
    "X = -1 + 2 * (X - min_val) / (max_val - min_val)\n",
    "\n",
    "#X = (X - X.min()) / (X.max() - X.min()) [0, 1]"
   ]
  },
  {
   "cell_type": "code",
   "execution_count": 13,
   "metadata": {},
   "outputs": [
    {
     "data": {
      "text/plain": [
       "(606, 1236480)"
      ]
     },
     "execution_count": 13,
     "metadata": {},
     "output_type": "execute_result"
    }
   ],
   "source": [
    "X.shape"
   ]
  },
  {
   "cell_type": "code",
   "execution_count": 5,
   "metadata": {},
   "outputs": [],
   "source": [
    "#LOS GUARDO EN MI COMPUTADORA\n",
    "#np.save('X.npy', X) está guardada normalizada en rango [0, 1], habría que cambiar eso\n",
    "np.save('X.npy', X) #esto es para probar\n",
    "np.save('y.npy', y)"
   ]
  },
  {
   "cell_type": "code",
   "execution_count": 2,
   "metadata": {},
   "outputs": [],
   "source": [
    "# Cargar los arreglos X e y desde los archivos .npy (PARA CUANDO EL CÓDIGO ANTERIOR YA ESTÁ CORRIDO Y NO QUIERO VOLVERLO A CORRER :d)\n",
    "#X = np.load('C:\\\\Users\\\\47575909\\\\Desktop\\\\X_1.npy')\n",
    "X = np.load('C:\\\\Users\\\\47575909\\\\Desktop\\\\X_PCA.npy')\n",
    "y = np.load('C:\\\\Users\\\\47575909\\\\Desktop\\\\y_PCA.npy')"
   ]
  },
  {
   "cell_type": "code",
   "execution_count": 3,
   "metadata": {},
   "outputs": [],
   "source": [
    "shape = X.shape"
   ]
  },
  {
   "cell_type": "code",
   "execution_count": 4,
   "metadata": {},
   "outputs": [
    {
     "data": {
      "text/plain": [
       "(29588, 1000)"
      ]
     },
     "execution_count": 4,
     "metadata": {},
     "output_type": "execute_result"
    }
   ],
   "source": [
    "shape"
   ]
  },
  {
   "cell_type": "code",
   "execution_count": 5,
   "metadata": {},
   "outputs": [],
   "source": [
    "#DIVIDO EN TRAIN, TEST Y EVALUATION\n",
    "#Divido los datos de train de los de test y evaluation (70/30)\n",
    "X_train, X_testVal, y_train, y_testVal = train_test_split(X, y, test_size=0.3, random_state=42)\n",
    "\n",
    "#Divido los datos de test de los de evaluation (50/50 del 30% anterior)\n",
    "X_val, X_test, y_val, y_test = train_test_split(X_testVal, y_testVal, test_size=0.5, random_state=42)"
   ]
  },
  {
   "cell_type": "markdown",
   "metadata": {},
   "source": [
    "cwt.shape = (14, 230, 384)\n",
    "\n",
    "- Alto: 230 (número de filas en tus imágenes CWT).\n",
    "- Ancho: 384 (número de columnas en tus imágenes CWT).\n",
    "- Canales: 14 (número de canales EEG)."
   ]
  },
  {
   "cell_type": "code",
   "execution_count": 6,
   "metadata": {},
   "outputs": [],
   "source": [
    "#si es que me toma mal la imput shape seguramente es por la longitud de la grabación de cada eeg, \n",
    "# por lo que dice la info del dataset no todos los eeg tienen la exacta misma duración"
   ]
  },
  {
   "cell_type": "code",
   "execution_count": 7,
   "metadata": {},
   "outputs": [],
   "source": [
    "X_train = X_train.reshape(X_train.shape[0], X_train.shape[1], 1)\n",
    "X_val = X_val.reshape(X_val.shape[0], X_val.shape[1], 1)"
   ]
  },
  {
   "cell_type": "code",
   "execution_count": 8,
   "metadata": {},
   "outputs": [
    {
     "data": {
      "text/plain": [
       "(20711, 1000, 1)"
      ]
     },
     "execution_count": 8,
     "metadata": {},
     "output_type": "execute_result"
    }
   ],
   "source": [
    "X_train.shape"
   ]
  },
  {
   "cell_type": "code",
   "execution_count": 9,
   "metadata": {},
   "outputs": [
    {
     "data": {
      "text/plain": [
       "'model = tf.keras.models.Sequential([\\n    \\n    tf.keras.layers.Conv2D(128, (3,3), activation=\\'relu\\', input_shape = (14, 230, 384)), \\n    tf.keras.layers.MaxPooling2D(2, 2),\\n\\n    tf.keras.layers.Conv2D(64, (3,3), activation=\\'relu\\'),\\n    tf.keras.layers.MaxPooling2D(2,2),\\n\\n    tf.keras.layers.Dropout(0.5),\\n    tf.keras.layers.Flatten(),\\n\\n    tf.keras.layers.Dense(32, activation=\\'relu\\'),\\n\\n    tf.keras.layers.Dense(1, activation=\\'sigmoid\\') #función sigmoide porque yo quiero que me devuelva un 1 de \"si epilepsia\" o un 0 de \"no epilepsia\"\\n])'"
      ]
     },
     "execution_count": 9,
     "metadata": {},
     "output_type": "execute_result"
    }
   ],
   "source": [
    "#CREO LA CNN\n",
    "# Definir una capa de entrada compatible con los datos después de PCA\n",
    "#input_layer = tf.keras.layers.Input(shape=(1000,))\n",
    "\n",
    "from tensorflow.keras.layers import Conv1D, MaxPooling1D, Flatten, Dense, Dropout\n",
    "\n",
    "# Resto de tu modelo\n",
    "model = tf.keras.models.Sequential([\n",
    "    Conv1D(filters=128, kernel_size=3, activation='relu', input_shape=(1000, 1)), #le agrego un canal imaginario para que me deje la input shape\n",
    "    MaxPooling1D(pool_size=2),\n",
    "    \n",
    "    Conv1D(filters=64, kernel_size=3, activation='relu'),\n",
    "    MaxPooling1D(pool_size=2),\n",
    "    \n",
    "    Conv1D(filters=64, kernel_size=3, activation='relu'),\n",
    "    MaxPooling1D(pool_size=2),\n",
    "\n",
    "    Flatten(),\n",
    "    \n",
    "    Dense(32, activation='relu'),\n",
    "    Dropout(0.5),\n",
    "    \n",
    "    Dense(1, activation='sigmoid')\n",
    "])\n",
    "\n",
    "'''model = tf.keras.models.Sequential([\n",
    "    \n",
    "    tf.keras.layers.Conv2D(128, (3,3), activation='relu', input_shape = (14, 230, 384)), \n",
    "    tf.keras.layers.MaxPooling2D(2, 2),\n",
    "\n",
    "    tf.keras.layers.Conv2D(64, (3,3), activation='relu'),\n",
    "    tf.keras.layers.MaxPooling2D(2,2),\n",
    "\n",
    "    tf.keras.layers.Dropout(0.5),\n",
    "    tf.keras.layers.Flatten(),\n",
    "\n",
    "    tf.keras.layers.Dense(32, activation='relu'),\n",
    "\n",
    "    tf.keras.layers.Dense(1, activation='sigmoid') #función sigmoide porque yo quiero que me devuelva un 1 de \"si epilepsia\" o un 0 de \"no epilepsia\"\n",
    "])'''\n",
    "\n",
    "#(LA IMPUT SHAPE LA SAQUÉ CON LO DE Wx, AGARRÉ UN EJEMPLO DE UNA PRESONA Y ME FIJÉ EL TAMAÑO PORQUE YO LE VOY A DAR INFO DE PACIENTES DE ESE FORMATO A LA CNN)"
   ]
  },
  {
   "cell_type": "code",
   "execution_count": 10,
   "metadata": {},
   "outputs": [],
   "source": [
    "#COMPILO\n",
    "model.compile(optimizer='adam',\n",
    "              loss='binary_crossentropy',\n",
    "              metrics=['accuracy'])"
   ]
  },
  {
   "cell_type": "code",
   "execution_count": 11,
   "metadata": {},
   "outputs": [
    {
     "name": "stdout",
     "output_type": "stream",
     "text": [
      "Epoch 1/10\n",
      "648/648 [==============================] - 39s 59ms/step - loss: 0.6929 - accuracy: 0.5224 - val_loss: 0.6900 - val_accuracy: 0.5410\n",
      "Epoch 2/10\n",
      "648/648 [==============================] - 40s 61ms/step - loss: 0.6911 - accuracy: 0.5281 - val_loss: 0.6905 - val_accuracy: 0.5225\n",
      "Epoch 3/10\n",
      "648/648 [==============================] - 40s 62ms/step - loss: 0.6910 - accuracy: 0.5315 - val_loss: 0.6874 - val_accuracy: 0.5539\n",
      "Epoch 4/10\n",
      "648/648 [==============================] - 40s 61ms/step - loss: 0.6902 - accuracy: 0.5345 - val_loss: 0.6881 - val_accuracy: 0.5543\n",
      "Epoch 5/10\n",
      "648/648 [==============================] - 39s 60ms/step - loss: 0.6895 - accuracy: 0.5381 - val_loss: 0.6882 - val_accuracy: 0.5424\n",
      "Epoch 6/10\n",
      "648/648 [==============================] - 40s 62ms/step - loss: 0.6899 - accuracy: 0.5397 - val_loss: 0.6877 - val_accuracy: 0.5417\n",
      "Epoch 7/10\n",
      "648/648 [==============================] - 39s 60ms/step - loss: 0.6891 - accuracy: 0.5400 - val_loss: 0.6864 - val_accuracy: 0.5534\n",
      "Epoch 8/10\n",
      "648/648 [==============================] - 39s 60ms/step - loss: 0.6895 - accuracy: 0.5419 - val_loss: 0.6872 - val_accuracy: 0.5534\n",
      "Epoch 9/10\n",
      "648/648 [==============================] - 39s 60ms/step - loss: 0.6902 - accuracy: 0.5384 - val_loss: 0.6875 - val_accuracy: 0.5570\n",
      "Epoch 10/10\n",
      "648/648 [==============================] - 40s 62ms/step - loss: 0.6894 - accuracy: 0.5397 - val_loss: 0.6871 - val_accuracy: 0.5539\n",
      "139/139 [==============================] - 2s 13ms/step - loss: 0.6871 - accuracy: 0.5539\n"
     ]
    }
   ],
   "source": [
    "#ENTRENO\n",
    "model.fit(X_train, y_train, epochs=10, validation_data=(X_val, y_val))\n",
    "\n",
    "#EVALÚO\n",
    "test_loss, test_acc = model.evaluate(X_val, y_val)\n",
    "\n",
    "#capaz que debería probar con cross validation después\n",
    "\n",
    "#ME DA PARA EL ORTO, PERO INTENTAR CON TECNICAS DE AUMENTO DE DATOS Y AGREANDAR EL DATASET D:"
   ]
  },
  {
   "cell_type": "code",
   "execution_count": 12,
   "metadata": {},
   "outputs": [
    {
     "name": "stdout",
     "output_type": "stream",
     "text": [
      "Accuracy :  0.5538530945777893\n",
      "Loss :  0.687100887298584\n"
     ]
    }
   ],
   "source": [
    "#VEO LA PERFORMANCE\n",
    "print(\"Accuracy : \", test_acc)\n",
    "print(\"Loss : \", test_loss)"
   ]
  },
  {
   "cell_type": "code",
   "execution_count": 13,
   "metadata": {},
   "outputs": [],
   "source": [
    "max_shift = 50  # Máximo desplazamiento en muestras\n",
    "X_augmented = []\n",
    "y_augmented = []\n",
    "\n",
    "for sample, label in zip(X_train, y_train):\n",
    "    shift = np.random.randint(-max_shift, max_shift)\n",
    "    \n",
    "    augmented_sample = np.roll(sample, shift)\n",
    "    X_augmented.append(augmented_sample)\n",
    "    \n",
    "    augmented_label = np.roll(label, -shift)  # Alinea las etiquetas con el desplazamiento\n",
    "    y_augmented.append(augmented_label)\n",
    "\n",
    "X_augmented = np.array(X_augmented)\n",
    "y_augmented = np.array(y_augmented)"
   ]
  },
  {
   "cell_type": "code",
   "execution_count": 14,
   "metadata": {},
   "outputs": [
    {
     "name": "stdout",
     "output_type": "stream",
     "text": [
      "Epoch 1/10\n",
      "648/648 [==============================] - 39s 61ms/step - loss: 0.6943 - accuracy: 0.5161 - val_loss: 0.6921 - val_accuracy: 0.5212\n",
      "Epoch 2/10\n",
      "648/648 [==============================] - 39s 60ms/step - loss: 0.6925 - accuracy: 0.5185 - val_loss: 0.6901 - val_accuracy: 0.5408\n",
      "Epoch 3/10\n",
      "648/648 [==============================] - 38s 59ms/step - loss: 0.6924 - accuracy: 0.5192 - val_loss: 0.6918 - val_accuracy: 0.5237\n",
      "Epoch 4/10\n",
      "648/648 [==============================] - 38s 59ms/step - loss: 0.6926 - accuracy: 0.5218 - val_loss: 0.6914 - val_accuracy: 0.5300\n",
      "Epoch 5/10\n",
      "648/648 [==============================] - 38s 59ms/step - loss: 0.6920 - accuracy: 0.5258 - val_loss: 0.6895 - val_accuracy: 0.5480\n",
      "Epoch 6/10\n",
      "648/648 [==============================] - 38s 59ms/step - loss: 0.6919 - accuracy: 0.5249 - val_loss: 0.6894 - val_accuracy: 0.5475\n",
      "Epoch 7/10\n",
      "648/648 [==============================] - 38s 59ms/step - loss: 0.6918 - accuracy: 0.5277 - val_loss: 0.6906 - val_accuracy: 0.5439\n",
      "Epoch 8/10\n",
      "648/648 [==============================] - 38s 59ms/step - loss: 0.6913 - accuracy: 0.5290 - val_loss: 0.6896 - val_accuracy: 0.5435\n",
      "Epoch 9/10\n",
      "648/648 [==============================] - 38s 59ms/step - loss: 0.6901 - accuracy: 0.5341 - val_loss: 0.6919 - val_accuracy: 0.5277\n",
      "Epoch 10/10\n",
      "648/648 [==============================] - 38s 59ms/step - loss: 0.6902 - accuracy: 0.5318 - val_loss: 0.6905 - val_accuracy: 0.5277\n",
      "139/139 [==============================] - 2s 13ms/step - loss: 0.6905 - accuracy: 0.5277\n"
     ]
    }
   ],
   "source": [
    "#datos generadossssssssssss\n",
    "model.fit(X_augmented, y_augmented, epochs=10, validation_data=(X_val, y_val))\n",
    "\n",
    "test_loss, test_acc = model.evaluate(X_val, y_val)"
   ]
  },
  {
   "cell_type": "code",
   "execution_count": 15,
   "metadata": {},
   "outputs": [
    {
     "name": "stdout",
     "output_type": "stream",
     "text": [
      "Accuracy :  0.5277152061462402\n",
      "Loss :  0.6904980540275574\n"
     ]
    }
   ],
   "source": [
    "print(\"Accuracy : \", test_acc)\n",
    "print(\"Loss : \", test_loss)"
   ]
  },
  {
   "cell_type": "markdown",
   "metadata": {},
   "source": [
    "# ACÁ EXPORTAMOS EL MODELO"
   ]
  },
  {
   "cell_type": "code",
   "execution_count": null,
   "metadata": {},
   "outputs": [],
   "source": [
    "#guardamos el modelo\n",
    "model.save('modelo_SinapsIA.h5')"
   ]
  },
  {
   "cell_type": "markdown",
   "metadata": {},
   "source": [
    "Álvaro, hola, yo te diría que empecemos con el modelo casi sin entrenar para que ya sepamos como pasarlo a la web. Vos lo que vas a hacer es pedirme los archivos para entrenarlo poquito (que literalmente van a ser solo 2 eeg porque sino va a ser muy pesado, yo estoy trabajando en reducir el tamaño del dataset). Entonces, vos te tendrías que descargar este notebook y correrlo en tu compu y entrenarlo así con estos pocos datos que no te van a pesar (se supone), y ahí lo conectas con lo de Jano. Para cuando los datos ya estén bien, supongo que tendremos que hacer lo mismo pero desde la pc porque aunque le reduzca el tamaño va a ser imposible que entre en la netbook. Solamente hay que ejecutar el código que vos hagas con el mismo modelo pero entrenado con más datos.\n",
    "\n",
    "ADEMÁS, TE HICE UN NOTEBOOK CON TODO PASADO, PERO IUAL MIRA ESTE."
   ]
  },
  {
   "cell_type": "code",
   "execution_count": null,
   "metadata": {},
   "outputs": [],
   "source": [
    "#investigar PCA para tensores (TAMBIÉN INVESTGAR MÁS PARA TENSORES)\n",
    "#https://youtu.be/FgakZw6K1QQ?si=GrRc8tCp2eEfNKaX\n",
    "\n",
    "#TAMBIÉN CHONA ME RECOMIENDA UNA LIBRERÍA PaCMACP para mi caso que uso tensores de tensorflow"
   ]
  },
  {
   "cell_type": "markdown",
   "metadata": {
    "id": "efa1G9v7pASV"
   },
   "source": [
    "**Tengo que hacer y notas**\n",
    "##### **--> pasar todo a una pc**\n",
    "##### **--> separar en datos de train, test y validation**\n",
    "\n",
    "`78` = train\n",
    "\n",
    "`10` = validation\n",
    "\n",
    "`9` = test\n",
    "\n",
    "##### **--> ver el formato y como feedearselo a una red neuronal**\n",
    "\n",
    "Opciones de modelos a investigar:\n",
    "\n",
    "*   `Convolutional neural network (CNN)`\n",
    "*   `Recurrent neural network (RNN)`\n",
    "\n"
   ]
  }
 ],
 "metadata": {
  "colab": {
   "collapsed_sections": [
    "j4rpiWwTXqTL"
   ],
   "provenance": []
  },
  "kernelspec": {
   "display_name": "Python 3 (ipykernel)",
   "language": "python",
   "name": "python3"
  },
  "language_info": {
   "codemirror_mode": {
    "name": "ipython",
    "version": 3
   },
   "file_extension": ".py",
   "mimetype": "text/x-python",
   "name": "python",
   "nbconvert_exporter": "python",
   "pygments_lexer": "ipython3",
   "version": "3.11.5"
  },
  "vscode": {
   "interpreter": {
    "hash": "f4e9cda46bb2d9d7fe6ecdff0f8336a934348bf06cb492f2f42f60739b3403b4"
   }
  }
 },
 "nbformat": 4,
 "nbformat_minor": 4
}
