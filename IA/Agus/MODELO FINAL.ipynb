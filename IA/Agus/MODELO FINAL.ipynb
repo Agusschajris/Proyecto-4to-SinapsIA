{
 "cells": [
  {
   "cell_type": "markdown",
   "metadata": {},
   "source": [
    "# Modelo definitivo"
   ]
  },
  {
   "cell_type": "markdown",
   "metadata": {},
   "source": [
    "CHONA ME DIJO QUE USARA LOS DATOS SIN PCA Y QUE HAGA UN POOLING GRANDE AL PRINCIPIO DE LA CNN PARA ACHICAR LOS DATOS DE UNA CUANDO ENTRAN. \n",
    "ADEMÁS, TENGO QUE HACER CONV2D EN VES DE 1D Y TENGO QUE AGREGARLE LOS NUEVOS DATOS. ADEMÁS TENGO QUE USAR EL PRETRAINED MODEL RESNET QUE USO \n",
    "EL INDIO EN EL VIDEO PARA TENER YO YA HECHO EL COSO Y CON LOS WEIGHTS Y QUE NO ME TRADE TANTO EL ENTRENAMIENTO. YO LE CAMBIARÍA LO DEL POOL AL \n",
    "PRINCIPIO Y LO ADAPTARÍA AL FINAL DE LA RED PARA QUE SE AJUSTE A MIS DATOS.\n",
    "- TENGO QUE CORRER EL CODIGO PARA EL DATASET DE NUEVO PERO SIN EL PCA \n",
    "- VOLVER A ARREGLAR LA CNN PARA QUE ADMITA LA VIEJA INPUT SHAPE\n",
    "- USAR UN MODELO RESNET PREENTRENADO CON DATOS COHERENTES (PREFERENTEMENTE EL QUE USÓ EL INDIO)\n",
    "- INCORPORAR LO QUE ME DIJO CHONA DE CONV2D Y UN POOLING PARA QUE SE ADAPTE A RESNET (AdaptiveAvgPool2d - https://stackoverflow.com/questions/61955991/change-input-shape-dimensions-for-resnet-model-pytorch)\n",
    "\n",
    "CODIGOS DEL INDIO:\n",
    "https://github.com/talhaanwarch/youtube-tutorials/blob/main/eeg-conv2d.ipynb\n",
    "https://github.com/talhaanwarch/youtube-tutorials/blob/main/eeg_epilepsy.ipynb"
   ]
  },
  {
   "cell_type": "code",
   "execution_count": 4,
   "metadata": {},
   "outputs": [],
   "source": [
    "from sklearn.model_selection import train_test_split\n",
    "from tensorflow import keras\n",
    "from tensorflow.keras.layers import Dense, Flatten, Conv2D, GlobalAveragePooling2D, MaxPooling2D, Dropout, Input\n",
    "from tensorflow.keras.applications import ResNet50\n",
    "from tensorflow.keras.models import Model\n",
    "#import tensorflowjs\n",
    "import pandas as pd\n",
    "import numpy as np\n",
    "import os\n",
    "import gc"
   ]
  },
  {
   "cell_type": "code",
   "execution_count": 2,
   "metadata": {},
   "outputs": [
    {
     "name": "stderr",
     "output_type": "stream",
     "text": [
      "\u001b[34m\u001b[1mwandb\u001b[0m: W&B API key is configured. Use \u001b[1m`wandb login --relogin`\u001b[0m to force relogin\n",
      "\u001b[34m\u001b[1mwandb\u001b[0m: \u001b[33mWARNING\u001b[0m If you're specifying your api key in code, ensure this code is not shared publicly.\n",
      "\u001b[34m\u001b[1mwandb\u001b[0m: \u001b[33mWARNING\u001b[0m Consider setting the WANDB_API_KEY environment variable, or running `wandb login` from the command line.\n",
      "\u001b[34m\u001b[1mwandb\u001b[0m: Appending key for api.wandb.ai to your netrc file: C:\\Users\\47575909/.netrc\n"
     ]
    },
    {
     "data": {
      "text/plain": [
       "True"
      ]
     },
     "execution_count": 2,
     "metadata": {},
     "output_type": "execute_result"
    }
   ],
   "source": [
    "'''import wandb\n",
    "import random\n",
    "wandb.login(key=\"3750a6378bb91e331366851db2db2f8b674797f6\")'''"
   ]
  },
  {
   "cell_type": "code",
   "execution_count": 22,
   "metadata": {},
   "outputs": [
    {
     "data": {
      "application/vnd.jupyter.widget-view+json": {
       "model_id": "9a39cad6f15d46a3bda2d1676b38ea19",
       "version_major": 2,
       "version_minor": 0
      },
      "text/plain": [
       "VBox(children=(Label(value='Waiting for wandb.init()...\\r'), FloatProgress(value=0.011111111111111112, max=1.0…"
      ]
     },
     "metadata": {},
     "output_type": "display_data"
    },
    {
     "name": "stdout",
     "output_type": "stream",
     "text": [
      "Problem at: C:\\Users\\47575909\\AppData\\Local\\Programs\\Python\\Python311\\Lib\\site-packages\\wandb\\sdk\\wandb_init.py 848 getcaller\n"
     ]
    },
    {
     "ename": "KeyboardInterrupt",
     "evalue": "",
     "output_type": "error",
     "traceback": [
      "\u001b[1;31m---------------------------------------------------------------------------\u001b[0m",
      "\u001b[1;31mKeyboardInterrupt\u001b[0m                         Traceback (most recent call last)",
      "Cell \u001b[1;32mIn[22], line 2\u001b[0m\n\u001b[0;32m      1\u001b[0m \u001b[38;5;66;03m# Inicializa una ejecución de WandB\u001b[39;00m\n\u001b[1;32m----> 2\u001b[0m \u001b[43mwandb\u001b[49m\u001b[38;5;241;43m.\u001b[39;49m\u001b[43minit\u001b[49m\u001b[43m(\u001b[49m\u001b[43mproject\u001b[49m\u001b[38;5;241;43m=\u001b[39;49m\u001b[38;5;124;43m\"\u001b[39;49m\u001b[38;5;124;43mSinapsIA\u001b[39;49m\u001b[38;5;124;43m\"\u001b[39;49m\u001b[43m,\u001b[49m\u001b[43m \u001b[49m\u001b[43mentity\u001b[49m\u001b[38;5;241;43m=\u001b[39;49m\u001b[38;5;124;43m\"\u001b[39;49m\u001b[38;5;124;43mschajrisgaratiagustina\u001b[39;49m\u001b[38;5;124;43m\"\u001b[39;49m\u001b[43m)\u001b[49m\n\u001b[0;32m      4\u001b[0m \u001b[38;5;66;03m# Configura hiperparámetros\u001b[39;00m\n\u001b[0;32m      5\u001b[0m config \u001b[38;5;241m=\u001b[39m wandb\u001b[38;5;241m.\u001b[39mconfig\n",
      "File \u001b[1;32m~\\AppData\\Local\\Programs\\Python\\Python311\\Lib\\site-packages\\wandb\\sdk\\wandb_init.py:1189\u001b[0m, in \u001b[0;36minit\u001b[1;34m(job_type, dir, config, project, entity, reinit, tags, group, name, notes, magic, config_exclude_keys, config_include_keys, anonymous, mode, allow_val_change, resume, force, tensorboard, sync_tensorboard, monitor_gym, save_code, id, settings)\u001b[0m\n\u001b[0;32m   1187\u001b[0m     \u001b[38;5;28;01massert\u001b[39;00m logger\n\u001b[0;32m   1188\u001b[0m     logger\u001b[38;5;241m.\u001b[39mwarning(\u001b[38;5;124m\"\u001b[39m\u001b[38;5;124minterrupted\u001b[39m\u001b[38;5;124m\"\u001b[39m, exc_info\u001b[38;5;241m=\u001b[39me)\n\u001b[1;32m-> 1189\u001b[0m     \u001b[38;5;28;01mraise\u001b[39;00m e\n\u001b[0;32m   1190\u001b[0m \u001b[38;5;28;01mexcept\u001b[39;00m \u001b[38;5;167;01mException\u001b[39;00m \u001b[38;5;28;01mas\u001b[39;00m e:\n\u001b[0;32m   1191\u001b[0m     error_seen \u001b[38;5;241m=\u001b[39m e\n",
      "File \u001b[1;32m~\\AppData\\Local\\Programs\\Python\\Python311\\Lib\\site-packages\\wandb\\sdk\\wandb_init.py:1166\u001b[0m, in \u001b[0;36minit\u001b[1;34m(job_type, dir, config, project, entity, reinit, tags, group, name, notes, magic, config_exclude_keys, config_include_keys, anonymous, mode, allow_val_change, resume, force, tensorboard, sync_tensorboard, monitor_gym, save_code, id, settings)\u001b[0m\n\u001b[0;32m   1164\u001b[0m except_exit \u001b[38;5;241m=\u001b[39m wi\u001b[38;5;241m.\u001b[39msettings\u001b[38;5;241m.\u001b[39m_except_exit\n\u001b[0;32m   1165\u001b[0m \u001b[38;5;28;01mtry\u001b[39;00m:\n\u001b[1;32m-> 1166\u001b[0m     run \u001b[38;5;241m=\u001b[39m \u001b[43mwi\u001b[49m\u001b[38;5;241;43m.\u001b[39;49m\u001b[43minit\u001b[49m\u001b[43m(\u001b[49m\u001b[43m)\u001b[49m\n\u001b[0;32m   1167\u001b[0m     except_exit \u001b[38;5;241m=\u001b[39m wi\u001b[38;5;241m.\u001b[39msettings\u001b[38;5;241m.\u001b[39m_except_exit\n\u001b[0;32m   1168\u001b[0m \u001b[38;5;28;01mexcept\u001b[39;00m (\u001b[38;5;167;01mKeyboardInterrupt\u001b[39;00m, \u001b[38;5;167;01mException\u001b[39;00m) \u001b[38;5;28;01mas\u001b[39;00m e:\n",
      "File \u001b[1;32m~\\AppData\\Local\\Programs\\Python\\Python311\\Lib\\site-packages\\wandb\\sdk\\wandb_init.py:752\u001b[0m, in \u001b[0;36m_WandbInit.init\u001b[1;34m(self)\u001b[0m\n\u001b[0;32m    749\u001b[0m logger\u001b[38;5;241m.\u001b[39minfo(\u001b[38;5;124mf\u001b[39m\u001b[38;5;124m\"\u001b[39m\u001b[38;5;124mcommunicating run to backend with \u001b[39m\u001b[38;5;132;01m{\u001b[39;00mtimeout\u001b[38;5;132;01m}\u001b[39;00m\u001b[38;5;124m second timeout\u001b[39m\u001b[38;5;124m\"\u001b[39m)\n\u001b[0;32m    751\u001b[0m run_init_handle \u001b[38;5;241m=\u001b[39m backend\u001b[38;5;241m.\u001b[39minterface\u001b[38;5;241m.\u001b[39mdeliver_run(run)\n\u001b[1;32m--> 752\u001b[0m result \u001b[38;5;241m=\u001b[39m \u001b[43mrun_init_handle\u001b[49m\u001b[38;5;241;43m.\u001b[39;49m\u001b[43mwait\u001b[49m\u001b[43m(\u001b[49m\n\u001b[0;32m    753\u001b[0m \u001b[43m    \u001b[49m\u001b[43mtimeout\u001b[49m\u001b[38;5;241;43m=\u001b[39;49m\u001b[43mtimeout\u001b[49m\u001b[43m,\u001b[49m\n\u001b[0;32m    754\u001b[0m \u001b[43m    \u001b[49m\u001b[43mon_progress\u001b[49m\u001b[38;5;241;43m=\u001b[39;49m\u001b[38;5;28;43mself\u001b[39;49m\u001b[38;5;241;43m.\u001b[39;49m\u001b[43m_on_progress_init\u001b[49m\u001b[43m,\u001b[49m\n\u001b[0;32m    755\u001b[0m \u001b[43m    \u001b[49m\u001b[43mcancel\u001b[49m\u001b[38;5;241;43m=\u001b[39;49m\u001b[38;5;28;43;01mTrue\u001b[39;49;00m\u001b[43m,\u001b[49m\n\u001b[0;32m    756\u001b[0m \u001b[43m\u001b[49m\u001b[43m)\u001b[49m\n\u001b[0;32m    757\u001b[0m \u001b[38;5;28;01mif\u001b[39;00m result:\n\u001b[0;32m    758\u001b[0m     run_result \u001b[38;5;241m=\u001b[39m result\u001b[38;5;241m.\u001b[39mrun_result\n",
      "File \u001b[1;32m~\\AppData\\Local\\Programs\\Python\\Python311\\Lib\\site-packages\\wandb\\sdk\\lib\\mailbox.py:283\u001b[0m, in \u001b[0;36mMailboxHandle.wait\u001b[1;34m(self, timeout, on_probe, on_progress, release, cancel)\u001b[0m\n\u001b[0;32m    280\u001b[0m     \u001b[38;5;28;01mif\u001b[39;00m \u001b[38;5;28mself\u001b[39m\u001b[38;5;241m.\u001b[39m_interface\u001b[38;5;241m.\u001b[39m_transport_keepalive_failed():\n\u001b[0;32m    281\u001b[0m         \u001b[38;5;28;01mraise\u001b[39;00m MailboxError(\u001b[38;5;124m\"\u001b[39m\u001b[38;5;124mtransport failed\u001b[39m\u001b[38;5;124m\"\u001b[39m)\n\u001b[1;32m--> 283\u001b[0m found, abandoned \u001b[38;5;241m=\u001b[39m \u001b[38;5;28;43mself\u001b[39;49m\u001b[38;5;241;43m.\u001b[39;49m\u001b[43m_slot\u001b[49m\u001b[38;5;241;43m.\u001b[39;49m\u001b[43m_get_and_clear\u001b[49m\u001b[43m(\u001b[49m\u001b[43mtimeout\u001b[49m\u001b[38;5;241;43m=\u001b[39;49m\u001b[43mwait_timeout\u001b[49m\u001b[43m)\u001b[49m\n\u001b[0;32m    284\u001b[0m \u001b[38;5;28;01mif\u001b[39;00m found:\n\u001b[0;32m    285\u001b[0m     \u001b[38;5;66;03m# Always update progress to 100% when done\u001b[39;00m\n\u001b[0;32m    286\u001b[0m     \u001b[38;5;28;01mif\u001b[39;00m on_progress \u001b[38;5;129;01mand\u001b[39;00m progress_handle \u001b[38;5;129;01mand\u001b[39;00m progress_sent:\n",
      "File \u001b[1;32m~\\AppData\\Local\\Programs\\Python\\Python311\\Lib\\site-packages\\wandb\\sdk\\lib\\mailbox.py:130\u001b[0m, in \u001b[0;36m_MailboxSlot._get_and_clear\u001b[1;34m(self, timeout)\u001b[0m\n\u001b[0;32m    128\u001b[0m \u001b[38;5;28;01mdef\u001b[39;00m \u001b[38;5;21m_get_and_clear\u001b[39m(\u001b[38;5;28mself\u001b[39m, timeout: \u001b[38;5;28mfloat\u001b[39m) \u001b[38;5;241m-\u001b[39m\u001b[38;5;241m>\u001b[39m Tuple[Optional[pb\u001b[38;5;241m.\u001b[39mResult], \u001b[38;5;28mbool\u001b[39m]:\n\u001b[0;32m    129\u001b[0m     found \u001b[38;5;241m=\u001b[39m \u001b[38;5;28;01mNone\u001b[39;00m\n\u001b[1;32m--> 130\u001b[0m     \u001b[38;5;28;01mif\u001b[39;00m \u001b[38;5;28;43mself\u001b[39;49m\u001b[38;5;241;43m.\u001b[39;49m\u001b[43m_wait\u001b[49m\u001b[43m(\u001b[49m\u001b[43mtimeout\u001b[49m\u001b[38;5;241;43m=\u001b[39;49m\u001b[43mtimeout\u001b[49m\u001b[43m)\u001b[49m:\n\u001b[0;32m    131\u001b[0m         \u001b[38;5;28;01mwith\u001b[39;00m \u001b[38;5;28mself\u001b[39m\u001b[38;5;241m.\u001b[39m_lock:\n\u001b[0;32m    132\u001b[0m             found \u001b[38;5;241m=\u001b[39m \u001b[38;5;28mself\u001b[39m\u001b[38;5;241m.\u001b[39m_result\n",
      "File \u001b[1;32m~\\AppData\\Local\\Programs\\Python\\Python311\\Lib\\site-packages\\wandb\\sdk\\lib\\mailbox.py:126\u001b[0m, in \u001b[0;36m_MailboxSlot._wait\u001b[1;34m(self, timeout)\u001b[0m\n\u001b[0;32m    125\u001b[0m \u001b[38;5;28;01mdef\u001b[39;00m \u001b[38;5;21m_wait\u001b[39m(\u001b[38;5;28mself\u001b[39m, timeout: \u001b[38;5;28mfloat\u001b[39m) \u001b[38;5;241m-\u001b[39m\u001b[38;5;241m>\u001b[39m \u001b[38;5;28mbool\u001b[39m:\n\u001b[1;32m--> 126\u001b[0m     \u001b[38;5;28;01mreturn\u001b[39;00m \u001b[38;5;28;43mself\u001b[39;49m\u001b[38;5;241;43m.\u001b[39;49m\u001b[43m_event\u001b[49m\u001b[38;5;241;43m.\u001b[39;49m\u001b[43mwait\u001b[49m\u001b[43m(\u001b[49m\u001b[43mtimeout\u001b[49m\u001b[38;5;241;43m=\u001b[39;49m\u001b[43mtimeout\u001b[49m\u001b[43m)\u001b[49m\n",
      "File \u001b[1;32m~\\AppData\\Local\\Programs\\Python\\Python311\\Lib\\threading.py:622\u001b[0m, in \u001b[0;36mEvent.wait\u001b[1;34m(self, timeout)\u001b[0m\n\u001b[0;32m    620\u001b[0m signaled \u001b[38;5;241m=\u001b[39m \u001b[38;5;28mself\u001b[39m\u001b[38;5;241m.\u001b[39m_flag\n\u001b[0;32m    621\u001b[0m \u001b[38;5;28;01mif\u001b[39;00m \u001b[38;5;129;01mnot\u001b[39;00m signaled:\n\u001b[1;32m--> 622\u001b[0m     signaled \u001b[38;5;241m=\u001b[39m \u001b[38;5;28;43mself\u001b[39;49m\u001b[38;5;241;43m.\u001b[39;49m\u001b[43m_cond\u001b[49m\u001b[38;5;241;43m.\u001b[39;49m\u001b[43mwait\u001b[49m\u001b[43m(\u001b[49m\u001b[43mtimeout\u001b[49m\u001b[43m)\u001b[49m\n\u001b[0;32m    623\u001b[0m \u001b[38;5;28;01mreturn\u001b[39;00m signaled\n",
      "File \u001b[1;32m~\\AppData\\Local\\Programs\\Python\\Python311\\Lib\\threading.py:324\u001b[0m, in \u001b[0;36mCondition.wait\u001b[1;34m(self, timeout)\u001b[0m\n\u001b[0;32m    322\u001b[0m \u001b[38;5;28;01melse\u001b[39;00m:\n\u001b[0;32m    323\u001b[0m     \u001b[38;5;28;01mif\u001b[39;00m timeout \u001b[38;5;241m>\u001b[39m \u001b[38;5;241m0\u001b[39m:\n\u001b[1;32m--> 324\u001b[0m         gotit \u001b[38;5;241m=\u001b[39m \u001b[43mwaiter\u001b[49m\u001b[38;5;241;43m.\u001b[39;49m\u001b[43macquire\u001b[49m\u001b[43m(\u001b[49m\u001b[38;5;28;43;01mTrue\u001b[39;49;00m\u001b[43m,\u001b[49m\u001b[43m \u001b[49m\u001b[43mtimeout\u001b[49m\u001b[43m)\u001b[49m\n\u001b[0;32m    325\u001b[0m     \u001b[38;5;28;01melse\u001b[39;00m:\n\u001b[0;32m    326\u001b[0m         gotit \u001b[38;5;241m=\u001b[39m waiter\u001b[38;5;241m.\u001b[39macquire(\u001b[38;5;28;01mFalse\u001b[39;00m)\n",
      "\u001b[1;31mKeyboardInterrupt\u001b[0m: "
     ]
    }
   ],
   "source": [
    "'''# Inicializa una ejecución de WandB\n",
    "wandb.init(project=\"SinapsIA\", entity=\"schajrisgaratiagustina\")\n",
    "\n",
    "# Configura hiperparámetros\n",
    "config = wandb.config\n",
    "config.learning_rate = 0.001\n",
    "config.batch_size = 64'''"
   ]
  },
  {
   "cell_type": "code",
   "execution_count": 2,
   "metadata": {},
   "outputs": [],
   "source": [
    "#X = np.load('C:\\\\Users\\\\47575909\\\\Desktop\\\\X_12.npy')\n",
    "#y = np.load('C:\\\\Users\\\\47575909\\\\Desktop\\\\y_12.npy')\n"
   ]
  },
  {
   "cell_type": "code",
   "execution_count": 3,
   "metadata": {},
   "outputs": [
    {
     "data": {
      "text/plain": [
       "((1790, 224, 224, 3), (1790,))"
      ]
     },
     "execution_count": 3,
     "metadata": {},
     "output_type": "execute_result"
    }
   ],
   "source": [
    "#X.shape, y.shape"
   ]
  },
  {
   "cell_type": "code",
   "execution_count": 4,
   "metadata": {},
   "outputs": [],
   "source": [
    "# X = X.reshape(1790, 244, 244, 3)"
   ]
  },
  {
   "cell_type": "code",
   "execution_count": 5,
   "metadata": {},
   "outputs": [],
   "source": [
    "# X = X[:,:224,:224,:]"
   ]
  },
  {
   "cell_type": "code",
   "execution_count": 6,
   "metadata": {},
   "outputs": [
    {
     "data": {
      "text/plain": [
       "(1790, 224, 224, 3)"
      ]
     },
     "execution_count": 6,
     "metadata": {},
     "output_type": "execute_result"
    }
   ],
   "source": [
    "#X.shape"
   ]
  },
  {
   "cell_type": "code",
   "execution_count": 10,
   "metadata": {},
   "outputs": [],
   "source": [
    "input_tensor = Input(shape=(224, 224, 3))\n",
    "\n",
    "#Cargo el modelo ResNet50 preentrenado\n",
    "base_model = ResNet50(include_top=False, weights='imagenet', input_tensor=input_tensor)\n",
    "\n",
    "#Congelo las capas del modelo base para que no se actualicen en el entrenamiento\n",
    "for layer in base_model.layers:\n",
    "    layer.trainable = False\n",
    "\n",
    "#Agrego GlobalAveragePooling2D para adaptar la salida del modelo base\n",
    "#x = GlobalAveragePooling2D()(base_model.output)\n",
    "\n",
    "#Agrego capas adicionales para la clasificación de mis datos\n",
    "x = GlobalAveragePooling2D()(base_model.output)\n",
    "x = Dense(500, activation='relu')(x)  # Puedes usar Dense en lugar de Conv2D aquí\n",
    "x = Dense(200, activation='relu')(x)  # Capas Dense en lugar de MaxPooling2D\n",
    "x = Dense(64, activation='relu')(x)\n",
    "x = Dropout(0.5)(x)\n",
    "x = Dense(32, activation='relu')(x)\n",
    "output = Dense(1, activation='sigmoid')(x)\n",
    "\n",
    "'''#x = base_model.output\n",
    "#x = GlobalAveragePooling2D()(x)\n",
    "x = Conv2D(filters=16, kernel_size=3, activation='relu')(base_model.output)\n",
    "x = MaxPooling2D(pool_size=2)(x)\n",
    "x = Conv2D(filters=16, kernel_size=3, activation='relu')(x)\n",
    "x = MaxPooling2D(pool_size=2)(x)\n",
    "x = Flatten()(x)\n",
    "x = Dense(8, activation='relu')(x)\n",
    "x = Dropout(0.5)(x)\n",
    "x = Dense(4, activation='relu')(x)\n",
    "\n",
    "output = Dense(1, activation='softmax')(x)'''\n",
    "\n",
    "#Junto todo y creo el modelo\n",
    "model = Model(inputs=input_tensor, outputs=output)"
   ]
  },
  {
   "cell_type": "code",
   "execution_count": 11,
   "metadata": {},
   "outputs": [],
   "source": [
    "#COMPILO\n",
    "model.compile(optimizer='adam',\n",
    "              loss='binary_crossentropy',\n",
    "              metrics=['accuracy'])"
   ]
  },
  {
   "cell_type": "code",
   "execution_count": null,
   "metadata": {},
   "outputs": [],
   "source": [
    "'''def data_generator():\n",
    "    for i in range(10):\n",
    "        X = np.load(f'C:\\\\Users\\\\47575909\\\\Desktop\\\\Dataset\\\\X_{i+1}.npy')\n",
    "        y = np.load(f'C:\\\\Users\\\\47575909\\\\Desktop\\\\Dataset\\\\y_{i+1}.npy')\n",
    "        yield X, y\n",
    "\n",
    "# https://stackoverflow.com/a/39271995'''"
   ]
  },
  {
   "cell_type": "code",
   "execution_count": 12,
   "metadata": {},
   "outputs": [
    {
     "name": "stdout",
     "output_type": "stream",
     "text": [
      "Epoch 1/10\n",
      "67/67 [==============================] - 94s 1s/step - loss: 0.7068 - accuracy: 0.5939 - val_loss: 0.5599 - val_accuracy: 0.7112\n",
      "Epoch 2/10\n",
      "67/67 [==============================] - 92s 1s/step - loss: 0.5636 - accuracy: 0.7108 - val_loss: 0.4319 - val_accuracy: 0.8053\n",
      "Epoch 3/10\n",
      "67/67 [==============================] - 93s 1s/step - loss: 0.4386 - accuracy: 0.7953 - val_loss: 0.3639 - val_accuracy: 0.8425\n",
      "Epoch 4/10\n",
      "67/67 [==============================] - 92s 1s/step - loss: 0.3929 - accuracy: 0.8254 - val_loss: 0.3357 - val_accuracy: 0.8512\n",
      "Epoch 5/10\n",
      "67/67 [==============================] - 92s 1s/step - loss: 0.3436 - accuracy: 0.8535 - val_loss: 0.5232 - val_accuracy: 0.7681\n",
      "Epoch 6/10\n",
      "67/67 [==============================] - 92s 1s/step - loss: 0.3375 - accuracy: 0.8559 - val_loss: 0.3681 - val_accuracy: 0.8490\n",
      "Epoch 7/10\n",
      "67/67 [==============================] - 92s 1s/step - loss: 0.2921 - accuracy: 0.8808 - val_loss: 0.3095 - val_accuracy: 0.8600\n",
      "Epoch 8/10\n",
      "67/67 [==============================] - 92s 1s/step - loss: 0.2366 - accuracy: 0.9023 - val_loss: 0.2601 - val_accuracy: 0.8796\n",
      "Epoch 9/10\n",
      "67/67 [==============================] - 92s 1s/step - loss: 0.2480 - accuracy: 0.8967 - val_loss: 0.2676 - val_accuracy: 0.8950\n",
      "Epoch 10/10\n",
      "67/67 [==============================] - 92s 1s/step - loss: 0.2091 - accuracy: 0.9136 - val_loss: 0.3861 - val_accuracy: 0.8643\n",
      "15/15 [==============================] - 16s 1s/step - loss: 0.3861 - accuracy: 0.8643\n",
      "Accuracy :  0.8643326163291931\n",
      "Loss :  0.3860926628112793\n",
      "Epoch 1/10\n",
      "69/69 [==============================] - 97s 1s/step - loss: 0.7378 - accuracy: 0.5656 - val_loss: 0.6674 - val_accuracy: 0.6081\n",
      "Epoch 2/10\n",
      "69/69 [==============================] - 94s 1s/step - loss: 0.6420 - accuracy: 0.6399 - val_loss: 0.5443 - val_accuracy: 0.6981\n",
      "Epoch 3/10\n",
      "69/69 [==============================] - 94s 1s/step - loss: 0.4787 - accuracy: 0.7679 - val_loss: 0.3547 - val_accuracy: 0.8308\n",
      "Epoch 4/10\n",
      "69/69 [==============================] - 94s 1s/step - loss: 0.3365 - accuracy: 0.8537 - val_loss: 0.3054 - val_accuracy: 0.8844\n",
      "Epoch 5/10\n",
      "69/69 [==============================] - 94s 1s/step - loss: 0.2865 - accuracy: 0.8798 - val_loss: 0.3222 - val_accuracy: 0.8501\n",
      "Epoch 6/10\n",
      "69/69 [==============================] - 94s 1s/step - loss: 0.2609 - accuracy: 0.8950 - val_loss: 0.3412 - val_accuracy: 0.8672\n",
      "Epoch 7/10\n",
      "69/69 [==============================] - 94s 1s/step - loss: 0.2173 - accuracy: 0.9110 - val_loss: 0.1976 - val_accuracy: 0.9208\n",
      "Epoch 8/10\n",
      "69/69 [==============================] - 94s 1s/step - loss: 0.2047 - accuracy: 0.9211 - val_loss: 0.1931 - val_accuracy: 0.9079\n",
      "Epoch 9/10\n",
      "69/69 [==============================] - 95s 1s/step - loss: 0.1735 - accuracy: 0.9317 - val_loss: 0.1811 - val_accuracy: 0.9122\n",
      "Epoch 10/10\n",
      "69/69 [==============================] - 94s 1s/step - loss: 0.1662 - accuracy: 0.9349 - val_loss: 0.1626 - val_accuracy: 0.9336\n",
      "15/15 [==============================] - 17s 1s/step - loss: 0.1626 - accuracy: 0.9336\n",
      "Accuracy :  0.9336188435554504\n",
      "Loss :  0.16257917881011963\n"
     ]
    }
   ],
   "source": [
    "for i in range(2):\n",
    "    X = np.load(f'C:\\\\Users\\\\47575909\\\\Desktop\\\\Dataset\\\\X_{i+1}.npy')\n",
    "    y = np.load(f'C:\\\\Users\\\\47575909\\\\Desktop\\\\Dataset\\\\y_{i+1}.npy')\n",
    "\n",
    "    #DIVIDO EN TRAIN, TEST Y EVALUATION\n",
    "    #Divido los datos de train de los de test y evaluation (70/30)\n",
    "    X_train, X_testVal, y_train, y_testVal = train_test_split(X, y, test_size=0.3, random_state=42)\n",
    "\n",
    "    #Divido los datos de test de los de evaluation (50/50 del 30% anterior)\n",
    "    X_val, X_test, y_val, y_test = train_test_split(X_testVal, y_testVal, test_size=0.5, random_state=42)\n",
    "\n",
    "    model.fit(X_train, y_train, epochs=10, validation_data=(X_val, y_val))\n",
    "\n",
    "    #EVALÚO\n",
    "    eval_loss, eval_acc = model.evaluate(X_val, y_val)\n",
    "    \n",
    "    del X\n",
    "    del y\n",
    "    del X_val\n",
    "    del X_test\n",
    "    del y_val\n",
    "    del y_test\n",
    "    del X_train\n",
    "    del X_testVal\n",
    "    del y_train\n",
    "    del y_testVal\n",
    "\n",
    "    gc.collect()\n",
    "\n",
    "    print(\"Accuracy : \", eval_acc)\n",
    "    print(\"Loss : \", eval_loss)"
   ]
  },
  {
   "cell_type": "code",
   "execution_count": 4,
   "metadata": {},
   "outputs": [
    {
     "name": "stdout",
     "output_type": "stream",
     "text": [
      "Epoch 1/10\n",
      "67/67 [==============================] - 92s 1s/step - loss: 0.7293 - accuracy: 0.5981 - val_loss: 0.5933 - val_accuracy: 0.5930\n",
      "Epoch 2/10\n",
      "67/67 [==============================] - 90s 1s/step - loss: 0.5897 - accuracy: 0.5981 - val_loss: 0.5433 - val_accuracy: 0.5930\n",
      "Epoch 3/10\n",
      "67/67 [==============================] - 90s 1s/step - loss: 0.5377 - accuracy: 0.5981 - val_loss: 0.5412 - val_accuracy: 0.5930\n",
      "Epoch 4/10\n",
      "67/67 [==============================] - 90s 1s/step - loss: 0.4352 - accuracy: 0.5981 - val_loss: 0.3728 - val_accuracy: 0.5930\n",
      "Epoch 5/10\n",
      "67/67 [==============================] - 91s 1s/step - loss: 0.3762 - accuracy: 0.5981 - val_loss: 0.3271 - val_accuracy: 0.5930\n",
      "Epoch 6/10\n",
      "67/67 [==============================] - 91s 1s/step - loss: 0.3453 - accuracy: 0.5981 - val_loss: 0.2976 - val_accuracy: 0.5930\n",
      "Epoch 7/10\n",
      "67/67 [==============================] - 91s 1s/step - loss: 0.2641 - accuracy: 0.5981 - val_loss: 0.2667 - val_accuracy: 0.5930\n",
      "Epoch 8/10\n",
      "67/67 [==============================] - 92s 1s/step - loss: 0.2694 - accuracy: 0.5981 - val_loss: 0.2555 - val_accuracy: 0.5930\n",
      "Epoch 9/10\n",
      "67/67 [==============================] - 91s 1s/step - loss: 0.2276 - accuracy: 0.5981 - val_loss: 0.2571 - val_accuracy: 0.5930\n",
      "Epoch 10/10\n",
      "67/67 [==============================] - 91s 1s/step - loss: 0.2014 - accuracy: 0.5981 - val_loss: 0.2285 - val_accuracy: 0.5930\n",
      "15/15 [==============================] - 16s 1s/step - loss: 0.2285 - accuracy: 0.5930\n",
      "Accuracy :  0.5929977893829346\n",
      "Loss :  0.2284737229347229\n"
     ]
    }
   ],
   "source": [
    "X = np.load(f'C:\\\\Users\\\\47575909\\\\Desktop\\\\Dataset\\\\X_1.npy')\n",
    "y = np.load(f'C:\\\\Users\\\\47575909\\\\Desktop\\\\Dataset\\\\y_1.npy')\n",
    "\n",
    "#DIVIDO EN TRAIN, TEST Y EVALUATION\n",
    "#Divido los datos de train de los de test y evaluation (70/30)\n",
    "X_train, X_testVal, y_train, y_testVal = train_test_split(X, y, test_size=0.3, random_state=42)\n",
    "\n",
    "#Divido los datos de test de los de evaluation (50/50 del 30% anterior)\n",
    "X_val, X_test, y_val, y_test = train_test_split(X_testVal, y_testVal, test_size=0.5, random_state=42)\n",
    "\n",
    "model.fit(X_train, y_train, epochs=10, validation_data=(X_val, y_val))\n",
    "\n",
    "#EVALÚO\n",
    "eval_loss, eval_acc = model.evaluate(X_val, y_val)\n",
    "    \n",
    "del X\n",
    "del y\n",
    "del X_val\n",
    "del X_test\n",
    "del y_val\n",
    "del y_test\n",
    "del X_train\n",
    "del X_testVal\n",
    "del y_train\n",
    "del y_testVal\n",
    "\n",
    "gc.collect()\n",
    "\n",
    "print(\"Accuracy : \", eval_acc)\n",
    "print(\"Loss : \", eval_loss)"
   ]
  },
  {
   "cell_type": "code",
   "execution_count": null,
   "metadata": {},
   "outputs": [
    {
     "name": "stdout",
     "output_type": "stream",
     "text": [
      "Epoch 1/10\n",
      "69/69 [==============================] - 95s 1s/step - loss: 0.7541 - accuracy: 0.5739 - val_loss: 0.6813 - val_accuracy: 0.5610\n",
      "Epoch 2/10\n",
      "69/69 [==============================] - 94s 1s/step - loss: 0.6744 - accuracy: 0.5739 - val_loss: 0.6593 - val_accuracy: 0.5610\n",
      "Epoch 3/10\n",
      "69/69 [==============================] - 94s 1s/step - loss: 0.6401 - accuracy: 0.5739 - val_loss: 0.6028 - val_accuracy: 0.5610\n",
      "Epoch 4/10\n",
      "69/69 [==============================] - 94s 1s/step - loss: 0.5012 - accuracy: 0.5739 - val_loss: 0.3825 - val_accuracy: 0.5610\n",
      "Epoch 5/10\n",
      "69/69 [==============================] - 94s 1s/step - loss: 0.4186 - accuracy: 0.5739 - val_loss: 0.3541 - val_accuracy: 0.5610\n",
      "Epoch 6/10\n",
      "69/69 [==============================] - 94s 1s/step - loss: 0.3299 - accuracy: 0.5739 - val_loss: 0.3243 - val_accuracy: 0.5610\n",
      "Epoch 7/10\n",
      "69/69 [==============================] - 94s 1s/step - loss: 0.2814 - accuracy: 0.5739 - val_loss: 0.2928 - val_accuracy: 0.5610\n",
      "Epoch 8/10\n",
      "69/69 [==============================] - 94s 1s/step - loss: 0.2646 - accuracy: 0.5739 - val_loss: 0.2614 - val_accuracy: 0.5610\n",
      "Epoch 9/10\n",
      "69/69 [==============================] - 94s 1s/step - loss: 0.2278 - accuracy: 0.5739 - val_loss: 0.2254 - val_accuracy: 0.5610\n",
      "Epoch 10/10\n",
      "50/69 [====================>.........] - ETA: 21s - loss: 0.2160 - accuracy: 0.5731"
     ]
    }
   ],
   "source": [
    "X = np.load(f'C:\\\\Users\\\\47575909\\\\Desktop\\\\Dataset\\\\X_2.npy')\n",
    "y = np.load(f'C:\\\\Users\\\\47575909\\\\Desktop\\\\Dataset\\\\y_2.npy')\n",
    "\n",
    "#DIVIDO EN TRAIN, TEST Y EVALUATION\n",
    "#Divido los datos de train de los de test y evaluation (70/30)\n",
    "X_train, X_testVal, y_train, y_testVal = train_test_split(X, y, test_size=0.3, random_state=42)\n",
    "\n",
    "#Divido los datos de test de los de evaluation (50/50 del 30% anterior)\n",
    "X_val, X_test, y_val, y_test = train_test_split(X_testVal, y_testVal, test_size=0.5, random_state=42)\n",
    "\n",
    "model.fit(X_train, y_train, epochs=10, validation_data=(X_val, y_val))\n",
    "\n",
    "#EVALÚO\n",
    "eval_loss, eval_acc = model.evaluate(X_val, y_val)\n",
    "    \n",
    "del X\n",
    "del y\n",
    "del X_val\n",
    "del X_test\n",
    "del y_val\n",
    "del y_test\n",
    "del X_train\n",
    "del X_testVal\n",
    "del y_train\n",
    "del y_testVal\n",
    "\n",
    "gc.collect()\n",
    "\n",
    "print(\"Accuracy : \", eval_acc)\n",
    "print(\"Loss : \", eval_loss)"
   ]
  },
  {
   "cell_type": "code",
   "execution_count": null,
   "metadata": {},
   "outputs": [],
   "source": [
    "X = np.load(f'C:\\\\Users\\\\47575909\\\\Desktop\\\\Dataset\\\\X_3.npy')\n",
    "y = np.load(f'C:\\\\Users\\\\47575909\\\\Desktop\\\\Dataset\\\\y_3.npy')\n",
    "\n",
    "#DIVIDO EN TRAIN, TEST Y EVALUATION\n",
    "#Divido los datos de train de los de test y evaluation (70/30)\n",
    "X_train, X_testVal, y_train, y_testVal = train_test_split(X, y, test_size=0.3, random_state=42)\n",
    "\n",
    "#Divido los datos de test de los de evaluation (50/50 del 30% anterior)\n",
    "X_val, X_test, y_val, y_test = train_test_split(X_testVal, y_testVal, test_size=0.5, random_state=42)\n",
    "\n",
    "model.fit(X_train, y_train, epochs=10, validation_data=(X_val, y_val))\n",
    "\n",
    "#EVALÚO\n",
    "eval_loss, eval_acc = model.evaluate(X_val, y_val)\n",
    "    \n",
    "del X\n",
    "del y\n",
    "del X_val\n",
    "del X_test\n",
    "del y_val\n",
    "del y_test\n",
    "del X_train\n",
    "del X_testVal\n",
    "del y_train\n",
    "del y_testVal\n",
    "\n",
    "gc.collect()\n",
    "\n",
    "print(\"Accuracy : \", eval_acc)\n",
    "print(\"Loss : \", eval_loss)"
   ]
  },
  {
   "cell_type": "code",
   "execution_count": null,
   "metadata": {},
   "outputs": [],
   "source": [
    "X = np.load(f'C:\\\\Users\\\\47575909\\\\Desktop\\\\Dataset\\\\4.npy')\n",
    "y = np.load(f'C:\\\\Users\\\\47575909\\\\Desktop\\\\Dataset\\\\y_4.npy')\n",
    "\n",
    "#DIVIDO EN TRAIN, TEST Y EVALUATION\n",
    "#Divido los datos de train de los de test y evaluation (70/30)\n",
    "X_train, X_testVal, y_train, y_testVal = train_test_split(X, y, test_size=0.3, random_state=42)\n",
    "\n",
    "#Divido los datos de test de los de evaluation (50/50 del 30% anterior)\n",
    "X_val, X_test, y_val, y_test = train_test_split(X_testVal, y_testVal, test_size=0.5, random_state=42)\n",
    "\n",
    "model.fit(X_train, y_train, epochs=10, validation_data=(X_val, y_val))\n",
    "\n",
    "#EVALÚO\n",
    "eval_loss, eval_acc = model.evaluate(X_val, y_val)\n",
    "    \n",
    "del X\n",
    "del y\n",
    "del X_val\n",
    "del X_test\n",
    "del y_val\n",
    "del y_test\n",
    "del X_train\n",
    "del X_testVal\n",
    "del y_train\n",
    "del y_testVal\n",
    "\n",
    "gc.collect()\n",
    "\n",
    "print(\"Accuracy : \", eval_acc)\n",
    "print(\"Loss : \", eval_loss)"
   ]
  },
  {
   "cell_type": "code",
   "execution_count": 20,
   "metadata": {},
   "outputs": [
    {
     "name": "stdout",
     "output_type": "stream",
     "text": [
      "Epoch 1/10\n",
      "67/67 [==============================] - 92s 1s/step - loss: 0.5757 - accuracy: 0.7854 - val_loss: 0.4351 - val_accuracy: 0.8256\n",
      "Epoch 2/10\n",
      "67/67 [==============================] - 92s 1s/step - loss: 0.4536 - accuracy: 0.8233 - val_loss: 0.4261 - val_accuracy: 0.8389\n",
      "Epoch 3/10\n",
      "67/67 [==============================] - 95s 1s/step - loss: 0.4192 - accuracy: 0.8360 - val_loss: 0.3793 - val_accuracy: 0.8543\n",
      "Epoch 4/10\n",
      "67/67 [==============================] - 95s 1s/step - loss: 0.3709 - accuracy: 0.8554 - val_loss: 0.3328 - val_accuracy: 0.8675\n",
      "Epoch 5/10\n",
      "67/67 [==============================] - 94s 1s/step - loss: 0.3368 - accuracy: 0.8644 - val_loss: 0.3439 - val_accuracy: 0.8631\n",
      "Epoch 6/10\n",
      "67/67 [==============================] - 94s 1s/step - loss: 0.2939 - accuracy: 0.8705 - val_loss: 0.2581 - val_accuracy: 0.8698\n",
      "Epoch 7/10\n",
      "67/67 [==============================] - 93s 1s/step - loss: 0.2949 - accuracy: 0.8785 - val_loss: 0.2751 - val_accuracy: 0.9095\n",
      "Epoch 8/10\n",
      "67/67 [==============================] - 92s 1s/step - loss: 0.2237 - accuracy: 0.8989 - val_loss: 0.2137 - val_accuracy: 0.9205\n",
      "Epoch 9/10\n",
      "67/67 [==============================] - 91s 1s/step - loss: 0.1839 - accuracy: 0.9244 - val_loss: 0.2165 - val_accuracy: 0.9073\n",
      "Epoch 10/10\n",
      "67/67 [==============================] - 94s 1s/step - loss: 0.1705 - accuracy: 0.9338 - val_loss: 0.1974 - val_accuracy: 0.9294\n",
      "15/15 [==============================] - 16s 1s/step - loss: 0.1974 - accuracy: 0.9294\n",
      "Accuracy :  0.9293597936630249\n",
      "Loss :  0.1973545402288437\n"
     ]
    }
   ],
   "source": [
    "X = np.load(f'C:\\\\Users\\\\47575909\\\\Desktop\\\\Dataset\\\\X_5.npy')\n",
    "y = np.load(f'C:\\\\Users\\\\47575909\\\\Desktop\\\\Dataset\\\\y_5.npy')\n",
    "\n",
    "#DIVIDO EN TRAIN, TEST Y EVALUATION\n",
    "#Divido los datos de train de los de test y evaluation (70/30)\n",
    "X_train, X_testVal, y_train, y_testVal = train_test_split(X, y, test_size=0.3, random_state=42)\n",
    "\n",
    "#Divido los datos de test de los de evaluation (50/50 del 30% anterior)\n",
    "X_val, X_test, y_val, y_test = train_test_split(X_testVal, y_testVal, test_size=0.5, random_state=42)\n",
    "\n",
    "model.fit(X_train, y_train, epochs=10, validation_data=(X_val, y_val))\n",
    "\n",
    "#EVALÚO\n",
    "eval_loss, eval_acc = model.evaluate(X_val, y_val)\n",
    "    \n",
    "del X\n",
    "del y\n",
    "del X_val\n",
    "del X_test\n",
    "del y_val\n",
    "del y_test\n",
    "del X_train\n",
    "del X_testVal\n",
    "del y_train\n",
    "del y_testVal\n",
    "\n",
    "gc.collect()\n",
    "\n",
    "print(\"Accuracy : \", eval_acc)\n",
    "print(\"Loss : \", eval_loss)"
   ]
  },
  {
   "cell_type": "code",
   "execution_count": 21,
   "metadata": {},
   "outputs": [
    {
     "name": "stdout",
     "output_type": "stream",
     "text": [
      "Epoch 1/10\n",
      "69/69 [==============================] - 96s 1s/step - loss: 0.6441 - accuracy: 0.6706 - val_loss: 0.5397 - val_accuracy: 0.7152\n",
      "Epoch 2/10\n",
      "69/69 [==============================] - 95s 1s/step - loss: 0.4934 - accuracy: 0.7550 - val_loss: 0.4325 - val_accuracy: 0.8201\n",
      "Epoch 3/10\n",
      "69/69 [==============================] - 97s 1s/step - loss: 0.3618 - accuracy: 0.8472 - val_loss: 0.3611 - val_accuracy: 0.8415\n",
      "Epoch 4/10\n",
      "69/69 [==============================] - 98s 1s/step - loss: 0.3056 - accuracy: 0.8633 - val_loss: 0.3109 - val_accuracy: 0.8758\n",
      "Epoch 5/10\n",
      "69/69 [==============================] - 96s 1s/step - loss: 0.2520 - accuracy: 0.8995 - val_loss: 0.2387 - val_accuracy: 0.9143\n",
      "Epoch 6/10\n",
      "69/69 [==============================] - 95s 1s/step - loss: 0.2182 - accuracy: 0.9128 - val_loss: 0.2726 - val_accuracy: 0.8737\n",
      "Epoch 7/10\n",
      "69/69 [==============================] - 95s 1s/step - loss: 0.1804 - accuracy: 0.9289 - val_loss: 0.2494 - val_accuracy: 0.9122\n",
      "Epoch 8/10\n",
      "69/69 [==============================] - 95s 1s/step - loss: 0.1515 - accuracy: 0.9399 - val_loss: 0.2275 - val_accuracy: 0.9122\n",
      "Epoch 9/10\n",
      "69/69 [==============================] - 95s 1s/step - loss: 0.1699 - accuracy: 0.9339 - val_loss: 0.2108 - val_accuracy: 0.9079\n",
      "Epoch 10/10\n",
      "69/69 [==============================] - 95s 1s/step - loss: 0.1552 - accuracy: 0.9381 - val_loss: 0.2075 - val_accuracy: 0.9165\n",
      "15/15 [==============================] - 17s 1s/step - loss: 0.2075 - accuracy: 0.9165\n",
      "Accuracy :  0.9164882302284241\n",
      "Loss :  0.20748603343963623\n"
     ]
    }
   ],
   "source": [
    "X = np.load(f'C:\\\\Users\\\\47575909\\\\Desktop\\\\Dataset\\\\X_6.npy')\n",
    "y = np.load(f'C:\\\\Users\\\\47575909\\\\Desktop\\\\Dataset\\\\y_6.npy')\n",
    "\n",
    "#DIVIDO EN TRAIN, TEST Y EVALUATION\n",
    "#Divido los datos de train de los de test y evaluation (70/30)\n",
    "X_train, X_testVal, y_train, y_testVal = train_test_split(X, y, test_size=0.3, random_state=42)\n",
    "\n",
    "#Divido los datos de test de los de evaluation (50/50 del 30% anterior)\n",
    "X_val, X_test, y_val, y_test = train_test_split(X_testVal, y_testVal, test_size=0.5, random_state=42)\n",
    "\n",
    "model.fit(X_train, y_train, epochs=10, validation_data=(X_val, y_val))\n",
    "\n",
    "#EVALÚO\n",
    "eval_loss, eval_acc = model.evaluate(X_val, y_val)\n",
    "    \n",
    "del X\n",
    "del y\n",
    "del X_val\n",
    "del X_test\n",
    "del y_val\n",
    "del y_test\n",
    "del X_train\n",
    "del X_testVal\n",
    "del y_train\n",
    "del y_testVal\n",
    "\n",
    "gc.collect()\n",
    "\n",
    "print(\"Accuracy : \", eval_acc)\n",
    "print(\"Loss : \", eval_loss)"
   ]
  },
  {
   "cell_type": "code",
   "execution_count": 22,
   "metadata": {},
   "outputs": [
    {
     "name": "stdout",
     "output_type": "stream",
     "text": [
      "Epoch 1/10\n",
      "69/69 [==============================] - 95s 1s/step - loss: 0.7363 - accuracy: 0.5797 - val_loss: 0.6536 - val_accuracy: 0.6368\n",
      "Epoch 2/10\n",
      "69/69 [==============================] - 95s 1s/step - loss: 0.6134 - accuracy: 0.6506 - val_loss: 0.5977 - val_accuracy: 0.6923\n",
      "Epoch 3/10\n",
      "69/69 [==============================] - 96s 1s/step - loss: 0.5747 - accuracy: 0.6909 - val_loss: 0.5541 - val_accuracy: 0.7158\n",
      "Epoch 4/10\n",
      "69/69 [==============================] - 96s 1s/step - loss: 0.5352 - accuracy: 0.7262 - val_loss: 0.5425 - val_accuracy: 0.7350\n",
      "Epoch 5/10\n",
      "69/69 [==============================] - 96s 1s/step - loss: 0.4950 - accuracy: 0.7550 - val_loss: 0.5246 - val_accuracy: 0.7329\n",
      "Epoch 6/10\n",
      "69/69 [==============================] - 95s 1s/step - loss: 0.4618 - accuracy: 0.7830 - val_loss: 0.4995 - val_accuracy: 0.7585\n",
      "Epoch 7/10\n",
      "69/69 [==============================] - 95s 1s/step - loss: 0.4260 - accuracy: 0.7908 - val_loss: 0.4671 - val_accuracy: 0.7671\n",
      "Epoch 8/10\n",
      "69/69 [==============================] - 96s 1s/step - loss: 0.4076 - accuracy: 0.8054 - val_loss: 0.4789 - val_accuracy: 0.7671\n",
      "Epoch 9/10\n",
      "69/69 [==============================] - 96s 1s/step - loss: 0.3705 - accuracy: 0.8365 - val_loss: 0.4683 - val_accuracy: 0.7607\n",
      "Epoch 10/10\n",
      "69/69 [==============================] - 95s 1s/step - loss: 0.3440 - accuracy: 0.8484 - val_loss: 0.4291 - val_accuracy: 0.8034\n",
      "15/15 [==============================] - 17s 1s/step - loss: 0.4291 - accuracy: 0.8034\n",
      "Accuracy :  0.8034188151359558\n",
      "Loss :  0.4291241765022278\n"
     ]
    }
   ],
   "source": [
    "X = np.load(f'C:\\\\Users\\\\47575909\\\\Desktop\\\\Dataset\\\\X_7.npy')\n",
    "y = np.load(f'C:\\\\Users\\\\47575909\\\\Desktop\\\\Dataset\\\\y_7.npy')\n",
    "\n",
    "#DIVIDO EN TRAIN, TEST Y EVALUATION\n",
    "#Divido los datos de train de los de test y evaluation (70/30)\n",
    "X_train, X_testVal, y_train, y_testVal = train_test_split(X, y, test_size=0.3, random_state=42)\n",
    "\n",
    "#Divido los datos de test de los de evaluation (50/50 del 30% anterior)\n",
    "X_val, X_test, y_val, y_test = train_test_split(X_testVal, y_testVal, test_size=0.5, random_state=42)\n",
    "\n",
    "model.fit(X_train, y_train, epochs=10, validation_data=(X_val, y_val))\n",
    "\n",
    "#EVALÚO\n",
    "eval_loss, eval_acc = model.evaluate(X_val, y_val)\n",
    "    \n",
    "del X\n",
    "del y\n",
    "del X_val\n",
    "del X_test\n",
    "del y_val\n",
    "del y_test\n",
    "del X_train\n",
    "del X_testVal\n",
    "del y_train\n",
    "del y_testVal\n",
    "\n",
    "gc.collect()\n",
    "\n",
    "print(\"Accuracy : \", eval_acc)\n",
    "print(\"Loss : \", eval_loss)"
   ]
  },
  {
   "cell_type": "code",
   "execution_count": 23,
   "metadata": {},
   "outputs": [
    {
     "name": "stdout",
     "output_type": "stream",
     "text": [
      "Epoch 1/10\n",
      "54/54 [==============================] - 73s 1s/step - loss: 0.4225 - accuracy: 0.8527 - val_loss: 0.3893 - val_accuracy: 0.8583\n",
      "Epoch 2/10\n",
      "54/54 [==============================] - 76s 1s/step - loss: 0.2759 - accuracy: 0.8802 - val_loss: 0.2955 - val_accuracy: 0.8583\n",
      "Epoch 3/10\n",
      "54/54 [==============================] - 73s 1s/step - loss: 0.2335 - accuracy: 0.9012 - val_loss: 0.2585 - val_accuracy: 0.8910\n",
      "Epoch 4/10\n",
      "54/54 [==============================] - 73s 1s/step - loss: 0.2085 - accuracy: 0.9153 - val_loss: 0.2280 - val_accuracy: 0.9019\n",
      "Epoch 5/10\n",
      "54/54 [==============================] - 73s 1s/step - loss: 0.1871 - accuracy: 0.9269 - val_loss: 0.2260 - val_accuracy: 0.8992\n",
      "Epoch 6/10\n",
      "54/54 [==============================] - 73s 1s/step - loss: 0.1396 - accuracy: 0.9445 - val_loss: 0.2083 - val_accuracy: 0.9210\n",
      "Epoch 7/10\n",
      "54/54 [==============================] - 73s 1s/step - loss: 0.1158 - accuracy: 0.9562 - val_loss: 0.1998 - val_accuracy: 0.9183\n",
      "Epoch 8/10\n",
      "54/54 [==============================] - 73s 1s/step - loss: 0.1185 - accuracy: 0.9544 - val_loss: 0.1795 - val_accuracy: 0.9210\n",
      "Epoch 9/10\n",
      "54/54 [==============================] - 73s 1s/step - loss: 0.0958 - accuracy: 0.9579 - val_loss: 0.1887 - val_accuracy: 0.9183\n",
      "Epoch 10/10\n",
      "54/54 [==============================] - 73s 1s/step - loss: 0.1013 - accuracy: 0.9538 - val_loss: 0.2080 - val_accuracy: 0.9155\n",
      "12/12 [==============================] - 13s 1s/step - loss: 0.2080 - accuracy: 0.9155\n",
      "Accuracy :  0.9155313372612\n",
      "Loss :  0.20801518857479095\n"
     ]
    }
   ],
   "source": [
    "X = np.load(f'C:\\\\Users\\\\47575909\\\\Desktop\\\\Dataset\\\\X_8.npy')\n",
    "y = np.load(f'C:\\\\Users\\\\47575909\\\\Desktop\\\\Dataset\\\\y_8.npy')\n",
    "\n",
    "#DIVIDO EN TRAIN, TEST Y EVALUATION\n",
    "#Divido los datos de train de los de test y evaluation (70/30)\n",
    "X_train, X_testVal, y_train, y_testVal = train_test_split(X, y, test_size=0.3, random_state=42)\n",
    "\n",
    "#Divido los datos de test de los de evaluation (50/50 del 30% anterior)\n",
    "X_val, X_test, y_val, y_test = train_test_split(X_testVal, y_testVal, test_size=0.5, random_state=42)\n",
    "\n",
    "model.fit(X_train, y_train, epochs=10, validation_data=(X_val, y_val))\n",
    "\n",
    "#EVALÚO\n",
    "eval_loss, eval_acc = model.evaluate(X_val, y_val)\n",
    "    \n",
    "del X\n",
    "del y\n",
    "del X_val\n",
    "del X_test\n",
    "del y_val\n",
    "del y_test\n",
    "del X_train\n",
    "del X_testVal\n",
    "del y_train\n",
    "del y_testVal\n",
    "\n",
    "gc.collect()\n",
    "\n",
    "print(\"Accuracy : \", eval_acc)\n",
    "print(\"Loss : \", eval_loss)"
   ]
  },
  {
   "cell_type": "code",
   "execution_count": 24,
   "metadata": {},
   "outputs": [
    {
     "name": "stdout",
     "output_type": "stream",
     "text": [
      "Epoch 1/10\n",
      "33/33 [==============================] - 45s 1s/step - loss: 0.0444 - accuracy: 0.9847 - val_loss: 2.1004e-04 - val_accuracy: 1.0000\n",
      "Epoch 2/10\n",
      "33/33 [==============================] - 44s 1s/step - loss: 3.6120e-04 - accuracy: 1.0000 - val_loss: 8.4590e-06 - val_accuracy: 1.0000\n",
      "Epoch 3/10\n",
      "33/33 [==============================] - 44s 1s/step - loss: 3.1966e-05 - accuracy: 1.0000 - val_loss: 3.0846e-06 - val_accuracy: 1.0000\n",
      "Epoch 4/10\n",
      "33/33 [==============================] - 44s 1s/step - loss: 1.1802e-05 - accuracy: 1.0000 - val_loss: 2.3010e-06 - val_accuracy: 1.0000\n",
      "Epoch 5/10\n",
      "33/33 [==============================] - 44s 1s/step - loss: 1.1715e-05 - accuracy: 1.0000 - val_loss: 2.2025e-06 - val_accuracy: 1.0000\n",
      "Epoch 6/10\n",
      "33/33 [==============================] - 44s 1s/step - loss: 1.1707e-05 - accuracy: 1.0000 - val_loss: 2.0364e-06 - val_accuracy: 1.0000\n",
      "Epoch 7/10\n",
      "33/33 [==============================] - 44s 1s/step - loss: 1.4096e-05 - accuracy: 1.0000 - val_loss: 1.8000e-06 - val_accuracy: 1.0000\n",
      "Epoch 8/10\n",
      "33/33 [==============================] - 44s 1s/step - loss: 1.1196e-05 - accuracy: 1.0000 - val_loss: 1.6381e-06 - val_accuracy: 1.0000\n",
      "Epoch 9/10\n",
      "33/33 [==============================] - 44s 1s/step - loss: 9.1643e-06 - accuracy: 1.0000 - val_loss: 1.5861e-06 - val_accuracy: 1.0000\n",
      "Epoch 10/10\n",
      "33/33 [==============================] - 45s 1s/step - loss: 3.6716e-06 - accuracy: 1.0000 - val_loss: 1.5151e-06 - val_accuracy: 1.0000\n",
      "8/8 [==============================] - 8s 956ms/step - loss: 1.5151e-06 - accuracy: 1.0000\n",
      "Accuracy :  1.0\n",
      "Loss :  1.515110511718376e-06\n"
     ]
    }
   ],
   "source": [
    "X = np.load(f'C:\\\\Users\\\\47575909\\\\Desktop\\\\Dataset\\\\X_9.npy')\n",
    "y = np.load(f'C:\\\\Users\\\\47575909\\\\Desktop\\\\Dataset\\\\y_9.npy')\n",
    "\n",
    "#DIVIDO EN TRAIN, TEST Y EVALUATION\n",
    "#Divido los datos de train de los de test y evaluation (70/30)\n",
    "X_train, X_testVal, y_train, y_testVal = train_test_split(X, y, test_size=0.3, random_state=42)\n",
    "\n",
    "#Divido los datos de test de los de evaluation (50/50 del 30% anterior)\n",
    "X_val, X_test, y_val, y_test = train_test_split(X_testVal, y_testVal, test_size=0.5, random_state=42)\n",
    "\n",
    "model.fit(X_train, y_train, epochs=10, validation_data=(X_val, y_val))\n",
    "\n",
    "#EVALÚO\n",
    "eval_loss, eval_acc = model.evaluate(X_val, y_val)\n",
    "    \n",
    "del X\n",
    "del y\n",
    "del X_val\n",
    "del X_test\n",
    "del y_val\n",
    "del y_test\n",
    "del X_train\n",
    "del X_testVal\n",
    "del y_train\n",
    "del y_testVal\n",
    "\n",
    "gc.collect()\n",
    "\n",
    "print(\"Accuracy : \", eval_acc)\n",
    "print(\"Loss : \", eval_loss)"
   ]
  },
  {
   "cell_type": "code",
   "execution_count": 25,
   "metadata": {},
   "outputs": [
    {
     "name": "stdout",
     "output_type": "stream",
     "text": [
      "Epoch 1/10\n",
      "73/73 [==============================] - 101s 1s/step - loss: 1.8479e-05 - accuracy: 1.0000 - val_loss: 6.7133e-06 - val_accuracy: 1.0000\n",
      "Epoch 2/10\n",
      "73/73 [==============================] - 100s 1s/step - loss: 1.0340e-05 - accuracy: 1.0000 - val_loss: 5.0228e-06 - val_accuracy: 1.0000\n",
      "Epoch 3/10\n",
      "73/73 [==============================] - 100s 1s/step - loss: 7.1389e-06 - accuracy: 1.0000 - val_loss: 4.5908e-06 - val_accuracy: 1.0000\n",
      "Epoch 4/10\n",
      "73/73 [==============================] - 100s 1s/step - loss: 5.8212e-05 - accuracy: 1.0000 - val_loss: 1.1343e-06 - val_accuracy: 1.0000\n",
      "Epoch 5/10\n",
      "73/73 [==============================] - 100s 1s/step - loss: 5.0606e-06 - accuracy: 1.0000 - val_loss: 7.9667e-07 - val_accuracy: 1.0000\n",
      "Epoch 6/10\n",
      "73/73 [==============================] - 101s 1s/step - loss: 8.8287e-06 - accuracy: 1.0000 - val_loss: 7.4836e-07 - val_accuracy: 1.0000\n",
      "Epoch 7/10\n",
      "73/73 [==============================] - 100s 1s/step - loss: 1.2100e-05 - accuracy: 1.0000 - val_loss: 6.3615e-07 - val_accuracy: 1.0000\n",
      "Epoch 8/10\n",
      "73/73 [==============================] - 99s 1s/step - loss: 5.6914e-06 - accuracy: 1.0000 - val_loss: 5.7551e-07 - val_accuracy: 1.0000\n",
      "Epoch 9/10\n",
      "73/73 [==============================] - 99s 1s/step - loss: 3.4729e-06 - accuracy: 1.0000 - val_loss: 5.5492e-07 - val_accuracy: 1.0000\n",
      "Epoch 10/10\n",
      "73/73 [==============================] - 100s 1s/step - loss: 5.2530e-06 - accuracy: 1.0000 - val_loss: 5.3342e-07 - val_accuracy: 1.0000\n",
      "16/16 [==============================] - 18s 1s/step - loss: 5.3342e-07 - accuracy: 1.0000\n",
      "Accuracy :  1.0\n",
      "Loss :  5.334242132448708e-07\n"
     ]
    }
   ],
   "source": [
    "X = np.load(f'C:\\\\Users\\\\47575909\\\\Desktop\\\\Dataset\\\\X_10.npy')\n",
    "y = np.load(f'C:\\\\Users\\\\47575909\\\\Desktop\\\\Dataset\\\\y_10.npy')\n",
    "\n",
    "#DIVIDO EN TRAIN, TEST Y EVALUATION\n",
    "#Divido los datos de train de los de test y evaluation (70/30)\n",
    "X_train, X_testVal, y_train, y_testVal = train_test_split(X, y, test_size=0.3, random_state=42)\n",
    "\n",
    "#Divido los datos de test de los de evaluation (50/50 del 30% anterior)\n",
    "X_val, X_test, y_val, y_test = train_test_split(X_testVal, y_testVal, test_size=0.5, random_state=42)\n",
    "\n",
    "model.fit(X_train, y_train, epochs=10, validation_data=(X_val, y_val))\n",
    "\n",
    "#EVALÚO\n",
    "eval_loss, eval_acc = model.evaluate(X_val, y_val)\n",
    "    \n",
    "del X\n",
    "del y\n",
    "del X_val\n",
    "del X_test\n",
    "del y_val\n",
    "del y_test\n",
    "del X_train\n",
    "del X_testVal\n",
    "del y_train\n",
    "del y_testVal\n",
    "\n",
    "gc.collect()\n",
    "\n",
    "print(\"Accuracy : \", eval_acc)\n",
    "print(\"Loss : \", eval_loss)"
   ]
  },
  {
   "cell_type": "code",
   "execution_count": 7,
   "metadata": {},
   "outputs": [],
   "source": [
    "'''X = np.load('C:\\\\Users\\\\47575909\\\\Desktop\\\\Dataset\\\\X_1.npy')\n",
    "y = np.load('C:\\\\Users\\\\47575909\\\\Desktop\\\\Dataset\\\\y_1.npy')'''"
   ]
  },
  {
   "cell_type": "code",
   "execution_count": null,
   "metadata": {},
   "outputs": [],
   "source": [
    "'''#DIVIDO EN TRAIN, TEST Y EVALUATION\n",
    "    #Divido los datos de train de los de test y evaluation (70/30)\n",
    "    X_train, X_testVal, y_train, y_testVal = train_test_split(X, y, test_size=0.3, random_state=42)\n",
    "\n",
    "    #Divido los datos de test de los de evaluation (50/50 del 30% anterior)\n",
    "    X_val, X_test, y_val, y_test = train_test_split(X_testVal, y_testVal, test_size=0.5, random_state=42)'''"
   ]
  },
  {
   "cell_type": "code",
   "execution_count": 8,
   "metadata": {},
   "outputs": [
    {
     "name": "stdout",
     "output_type": "stream",
     "text": [
      "Epoch 1/10\n",
      " 9/96 [=>............................] - ETA: 1:39 - loss: 0.9005 - accuracy: 0.6111"
     ]
    },
    {
     "ename": "KeyboardInterrupt",
     "evalue": "",
     "output_type": "error",
     "traceback": [
      "\u001b[1;31m---------------------------------------------------------------------------\u001b[0m",
      "\u001b[1;31mKeyboardInterrupt\u001b[0m                         Traceback (most recent call last)",
      "Cell \u001b[1;32mIn[8], line 1\u001b[0m\n\u001b[1;32m----> 1\u001b[0m \u001b[43mmodel\u001b[49m\u001b[38;5;241;43m.\u001b[39;49m\u001b[43mfit\u001b[49m\u001b[43m(\u001b[49m\u001b[43mX\u001b[49m\u001b[43m,\u001b[49m\u001b[43m \u001b[49m\u001b[43my\u001b[49m\u001b[43m,\u001b[49m\u001b[43m \u001b[49m\u001b[43mepochs\u001b[49m\u001b[38;5;241;43m=\u001b[39;49m\u001b[38;5;241;43m10\u001b[39;49m\u001b[43m)\u001b[49m\n",
      "File \u001b[1;32m~\\AppData\\Local\\Programs\\Python\\Python311\\Lib\\site-packages\\keras\\src\\utils\\traceback_utils.py:65\u001b[0m, in \u001b[0;36mfilter_traceback.<locals>.error_handler\u001b[1;34m(*args, **kwargs)\u001b[0m\n\u001b[0;32m     63\u001b[0m filtered_tb \u001b[38;5;241m=\u001b[39m \u001b[38;5;28;01mNone\u001b[39;00m\n\u001b[0;32m     64\u001b[0m \u001b[38;5;28;01mtry\u001b[39;00m:\n\u001b[1;32m---> 65\u001b[0m     \u001b[38;5;28;01mreturn\u001b[39;00m \u001b[43mfn\u001b[49m\u001b[43m(\u001b[49m\u001b[38;5;241;43m*\u001b[39;49m\u001b[43margs\u001b[49m\u001b[43m,\u001b[49m\u001b[43m \u001b[49m\u001b[38;5;241;43m*\u001b[39;49m\u001b[38;5;241;43m*\u001b[39;49m\u001b[43mkwargs\u001b[49m\u001b[43m)\u001b[49m\n\u001b[0;32m     66\u001b[0m \u001b[38;5;28;01mexcept\u001b[39;00m \u001b[38;5;167;01mException\u001b[39;00m \u001b[38;5;28;01mas\u001b[39;00m e:\n\u001b[0;32m     67\u001b[0m     filtered_tb \u001b[38;5;241m=\u001b[39m _process_traceback_frames(e\u001b[38;5;241m.\u001b[39m__traceback__)\n",
      "File \u001b[1;32m~\\AppData\\Local\\Programs\\Python\\Python311\\Lib\\site-packages\\keras\\src\\engine\\training.py:1783\u001b[0m, in \u001b[0;36mModel.fit\u001b[1;34m(self, x, y, batch_size, epochs, verbose, callbacks, validation_split, validation_data, shuffle, class_weight, sample_weight, initial_epoch, steps_per_epoch, validation_steps, validation_batch_size, validation_freq, max_queue_size, workers, use_multiprocessing)\u001b[0m\n\u001b[0;32m   1775\u001b[0m \u001b[38;5;28;01mwith\u001b[39;00m tf\u001b[38;5;241m.\u001b[39mprofiler\u001b[38;5;241m.\u001b[39mexperimental\u001b[38;5;241m.\u001b[39mTrace(\n\u001b[0;32m   1776\u001b[0m     \u001b[38;5;124m\"\u001b[39m\u001b[38;5;124mtrain\u001b[39m\u001b[38;5;124m\"\u001b[39m,\n\u001b[0;32m   1777\u001b[0m     epoch_num\u001b[38;5;241m=\u001b[39mepoch,\n\u001b[1;32m   (...)\u001b[0m\n\u001b[0;32m   1780\u001b[0m     _r\u001b[38;5;241m=\u001b[39m\u001b[38;5;241m1\u001b[39m,\n\u001b[0;32m   1781\u001b[0m ):\n\u001b[0;32m   1782\u001b[0m     callbacks\u001b[38;5;241m.\u001b[39mon_train_batch_begin(step)\n\u001b[1;32m-> 1783\u001b[0m     tmp_logs \u001b[38;5;241m=\u001b[39m \u001b[38;5;28;43mself\u001b[39;49m\u001b[38;5;241;43m.\u001b[39;49m\u001b[43mtrain_function\u001b[49m\u001b[43m(\u001b[49m\u001b[43miterator\u001b[49m\u001b[43m)\u001b[49m\n\u001b[0;32m   1784\u001b[0m     \u001b[38;5;28;01mif\u001b[39;00m data_handler\u001b[38;5;241m.\u001b[39mshould_sync:\n\u001b[0;32m   1785\u001b[0m         context\u001b[38;5;241m.\u001b[39masync_wait()\n",
      "File \u001b[1;32m~\\AppData\\Local\\Programs\\Python\\Python311\\Lib\\site-packages\\tensorflow\\python\\util\\traceback_utils.py:150\u001b[0m, in \u001b[0;36mfilter_traceback.<locals>.error_handler\u001b[1;34m(*args, **kwargs)\u001b[0m\n\u001b[0;32m    148\u001b[0m filtered_tb \u001b[38;5;241m=\u001b[39m \u001b[38;5;28;01mNone\u001b[39;00m\n\u001b[0;32m    149\u001b[0m \u001b[38;5;28;01mtry\u001b[39;00m:\n\u001b[1;32m--> 150\u001b[0m   \u001b[38;5;28;01mreturn\u001b[39;00m \u001b[43mfn\u001b[49m\u001b[43m(\u001b[49m\u001b[38;5;241;43m*\u001b[39;49m\u001b[43margs\u001b[49m\u001b[43m,\u001b[49m\u001b[43m \u001b[49m\u001b[38;5;241;43m*\u001b[39;49m\u001b[38;5;241;43m*\u001b[39;49m\u001b[43mkwargs\u001b[49m\u001b[43m)\u001b[49m\n\u001b[0;32m    151\u001b[0m \u001b[38;5;28;01mexcept\u001b[39;00m \u001b[38;5;167;01mException\u001b[39;00m \u001b[38;5;28;01mas\u001b[39;00m e:\n\u001b[0;32m    152\u001b[0m   filtered_tb \u001b[38;5;241m=\u001b[39m _process_traceback_frames(e\u001b[38;5;241m.\u001b[39m__traceback__)\n",
      "File \u001b[1;32m~\\AppData\\Local\\Programs\\Python\\Python311\\Lib\\site-packages\\tensorflow\\python\\eager\\polymorphic_function\\polymorphic_function.py:831\u001b[0m, in \u001b[0;36mFunction.__call__\u001b[1;34m(self, *args, **kwds)\u001b[0m\n\u001b[0;32m    828\u001b[0m compiler \u001b[38;5;241m=\u001b[39m \u001b[38;5;124m\"\u001b[39m\u001b[38;5;124mxla\u001b[39m\u001b[38;5;124m\"\u001b[39m \u001b[38;5;28;01mif\u001b[39;00m \u001b[38;5;28mself\u001b[39m\u001b[38;5;241m.\u001b[39m_jit_compile \u001b[38;5;28;01melse\u001b[39;00m \u001b[38;5;124m\"\u001b[39m\u001b[38;5;124mnonXla\u001b[39m\u001b[38;5;124m\"\u001b[39m\n\u001b[0;32m    830\u001b[0m \u001b[38;5;28;01mwith\u001b[39;00m OptionalXlaContext(\u001b[38;5;28mself\u001b[39m\u001b[38;5;241m.\u001b[39m_jit_compile):\n\u001b[1;32m--> 831\u001b[0m   result \u001b[38;5;241m=\u001b[39m \u001b[38;5;28;43mself\u001b[39;49m\u001b[38;5;241;43m.\u001b[39;49m\u001b[43m_call\u001b[49m\u001b[43m(\u001b[49m\u001b[38;5;241;43m*\u001b[39;49m\u001b[43margs\u001b[49m\u001b[43m,\u001b[49m\u001b[43m \u001b[49m\u001b[38;5;241;43m*\u001b[39;49m\u001b[38;5;241;43m*\u001b[39;49m\u001b[43mkwds\u001b[49m\u001b[43m)\u001b[49m\n\u001b[0;32m    833\u001b[0m new_tracing_count \u001b[38;5;241m=\u001b[39m \u001b[38;5;28mself\u001b[39m\u001b[38;5;241m.\u001b[39mexperimental_get_tracing_count()\n\u001b[0;32m    834\u001b[0m without_tracing \u001b[38;5;241m=\u001b[39m (tracing_count \u001b[38;5;241m==\u001b[39m new_tracing_count)\n",
      "File \u001b[1;32m~\\AppData\\Local\\Programs\\Python\\Python311\\Lib\\site-packages\\tensorflow\\python\\eager\\polymorphic_function\\polymorphic_function.py:867\u001b[0m, in \u001b[0;36mFunction._call\u001b[1;34m(self, *args, **kwds)\u001b[0m\n\u001b[0;32m    864\u001b[0m   \u001b[38;5;28mself\u001b[39m\u001b[38;5;241m.\u001b[39m_lock\u001b[38;5;241m.\u001b[39mrelease()\n\u001b[0;32m    865\u001b[0m   \u001b[38;5;66;03m# In this case we have created variables on the first call, so we run the\u001b[39;00m\n\u001b[0;32m    866\u001b[0m   \u001b[38;5;66;03m# defunned version which is guaranteed to never create variables.\u001b[39;00m\n\u001b[1;32m--> 867\u001b[0m   \u001b[38;5;28;01mreturn\u001b[39;00m \u001b[43mtracing_compilation\u001b[49m\u001b[38;5;241;43m.\u001b[39;49m\u001b[43mcall_function\u001b[49m\u001b[43m(\u001b[49m\n\u001b[0;32m    868\u001b[0m \u001b[43m      \u001b[49m\u001b[43margs\u001b[49m\u001b[43m,\u001b[49m\u001b[43m \u001b[49m\u001b[43mkwds\u001b[49m\u001b[43m,\u001b[49m\u001b[43m \u001b[49m\u001b[38;5;28;43mself\u001b[39;49m\u001b[38;5;241;43m.\u001b[39;49m\u001b[43m_no_variable_creation_config\u001b[49m\n\u001b[0;32m    869\u001b[0m \u001b[43m  \u001b[49m\u001b[43m)\u001b[49m\n\u001b[0;32m    870\u001b[0m \u001b[38;5;28;01melif\u001b[39;00m \u001b[38;5;28mself\u001b[39m\u001b[38;5;241m.\u001b[39m_variable_creation_config \u001b[38;5;129;01mis\u001b[39;00m \u001b[38;5;129;01mnot\u001b[39;00m \u001b[38;5;28;01mNone\u001b[39;00m:\n\u001b[0;32m    871\u001b[0m   \u001b[38;5;66;03m# Release the lock early so that multiple threads can perform the call\u001b[39;00m\n\u001b[0;32m    872\u001b[0m   \u001b[38;5;66;03m# in parallel.\u001b[39;00m\n\u001b[0;32m    873\u001b[0m   \u001b[38;5;28mself\u001b[39m\u001b[38;5;241m.\u001b[39m_lock\u001b[38;5;241m.\u001b[39mrelease()\n",
      "File \u001b[1;32m~\\AppData\\Local\\Programs\\Python\\Python311\\Lib\\site-packages\\tensorflow\\python\\eager\\polymorphic_function\\tracing_compilation.py:139\u001b[0m, in \u001b[0;36mcall_function\u001b[1;34m(args, kwargs, tracing_options)\u001b[0m\n\u001b[0;32m    137\u001b[0m bound_args \u001b[38;5;241m=\u001b[39m function\u001b[38;5;241m.\u001b[39mfunction_type\u001b[38;5;241m.\u001b[39mbind(\u001b[38;5;241m*\u001b[39margs, \u001b[38;5;241m*\u001b[39m\u001b[38;5;241m*\u001b[39mkwargs)\n\u001b[0;32m    138\u001b[0m flat_inputs \u001b[38;5;241m=\u001b[39m function\u001b[38;5;241m.\u001b[39mfunction_type\u001b[38;5;241m.\u001b[39munpack_inputs(bound_args)\n\u001b[1;32m--> 139\u001b[0m \u001b[38;5;28;01mreturn\u001b[39;00m \u001b[43mfunction\u001b[49m\u001b[38;5;241;43m.\u001b[39;49m\u001b[43m_call_flat\u001b[49m\u001b[43m(\u001b[49m\u001b[43m  \u001b[49m\u001b[38;5;66;43;03m# pylint: disable=protected-access\u001b[39;49;00m\n\u001b[0;32m    140\u001b[0m \u001b[43m    \u001b[49m\u001b[43mflat_inputs\u001b[49m\u001b[43m,\u001b[49m\u001b[43m \u001b[49m\u001b[43mcaptured_inputs\u001b[49m\u001b[38;5;241;43m=\u001b[39;49m\u001b[43mfunction\u001b[49m\u001b[38;5;241;43m.\u001b[39;49m\u001b[43mcaptured_inputs\u001b[49m\n\u001b[0;32m    141\u001b[0m \u001b[43m\u001b[49m\u001b[43m)\u001b[49m\n",
      "File \u001b[1;32m~\\AppData\\Local\\Programs\\Python\\Python311\\Lib\\site-packages\\tensorflow\\python\\eager\\polymorphic_function\\concrete_function.py:1264\u001b[0m, in \u001b[0;36mConcreteFunction._call_flat\u001b[1;34m(self, tensor_inputs, captured_inputs)\u001b[0m\n\u001b[0;32m   1260\u001b[0m possible_gradient_type \u001b[38;5;241m=\u001b[39m gradients_util\u001b[38;5;241m.\u001b[39mPossibleTapeGradientTypes(args)\n\u001b[0;32m   1261\u001b[0m \u001b[38;5;28;01mif\u001b[39;00m (possible_gradient_type \u001b[38;5;241m==\u001b[39m gradients_util\u001b[38;5;241m.\u001b[39mPOSSIBLE_GRADIENT_TYPES_NONE\n\u001b[0;32m   1262\u001b[0m     \u001b[38;5;129;01mand\u001b[39;00m executing_eagerly):\n\u001b[0;32m   1263\u001b[0m   \u001b[38;5;66;03m# No tape is watching; skip to running the function.\u001b[39;00m\n\u001b[1;32m-> 1264\u001b[0m   \u001b[38;5;28;01mreturn\u001b[39;00m \u001b[38;5;28;43mself\u001b[39;49m\u001b[38;5;241;43m.\u001b[39;49m\u001b[43m_inference_function\u001b[49m\u001b[38;5;241;43m.\u001b[39;49m\u001b[43mflat_call\u001b[49m\u001b[43m(\u001b[49m\u001b[43margs\u001b[49m\u001b[43m)\u001b[49m\n\u001b[0;32m   1265\u001b[0m forward_backward \u001b[38;5;241m=\u001b[39m \u001b[38;5;28mself\u001b[39m\u001b[38;5;241m.\u001b[39m_select_forward_and_backward_functions(\n\u001b[0;32m   1266\u001b[0m     args,\n\u001b[0;32m   1267\u001b[0m     possible_gradient_type,\n\u001b[0;32m   1268\u001b[0m     executing_eagerly)\n\u001b[0;32m   1269\u001b[0m forward_function, args_with_tangents \u001b[38;5;241m=\u001b[39m forward_backward\u001b[38;5;241m.\u001b[39mforward()\n",
      "File \u001b[1;32m~\\AppData\\Local\\Programs\\Python\\Python311\\Lib\\site-packages\\tensorflow\\python\\eager\\polymorphic_function\\atomic_function.py:217\u001b[0m, in \u001b[0;36mAtomicFunction.flat_call\u001b[1;34m(self, args)\u001b[0m\n\u001b[0;32m    215\u001b[0m \u001b[38;5;28;01mdef\u001b[39;00m \u001b[38;5;21mflat_call\u001b[39m(\u001b[38;5;28mself\u001b[39m, args: Sequence[core\u001b[38;5;241m.\u001b[39mTensor]) \u001b[38;5;241m-\u001b[39m\u001b[38;5;241m>\u001b[39m Any:\n\u001b[0;32m    216\u001b[0m \u001b[38;5;250m  \u001b[39m\u001b[38;5;124;03m\"\"\"Calls with tensor inputs and returns the structured output.\"\"\"\u001b[39;00m\n\u001b[1;32m--> 217\u001b[0m   flat_outputs \u001b[38;5;241m=\u001b[39m \u001b[38;5;28;43mself\u001b[39;49m\u001b[43m(\u001b[49m\u001b[38;5;241;43m*\u001b[39;49m\u001b[43margs\u001b[49m\u001b[43m)\u001b[49m\n\u001b[0;32m    218\u001b[0m   \u001b[38;5;28;01mreturn\u001b[39;00m \u001b[38;5;28mself\u001b[39m\u001b[38;5;241m.\u001b[39mfunction_type\u001b[38;5;241m.\u001b[39mpack_output(flat_outputs)\n",
      "File \u001b[1;32m~\\AppData\\Local\\Programs\\Python\\Python311\\Lib\\site-packages\\tensorflow\\python\\eager\\polymorphic_function\\atomic_function.py:252\u001b[0m, in \u001b[0;36mAtomicFunction.__call__\u001b[1;34m(self, *args)\u001b[0m\n\u001b[0;32m    250\u001b[0m \u001b[38;5;28;01mwith\u001b[39;00m record\u001b[38;5;241m.\u001b[39mstop_recording():\n\u001b[0;32m    251\u001b[0m   \u001b[38;5;28;01mif\u001b[39;00m \u001b[38;5;28mself\u001b[39m\u001b[38;5;241m.\u001b[39m_bound_context\u001b[38;5;241m.\u001b[39mexecuting_eagerly():\n\u001b[1;32m--> 252\u001b[0m     outputs \u001b[38;5;241m=\u001b[39m \u001b[38;5;28;43mself\u001b[39;49m\u001b[38;5;241;43m.\u001b[39;49m\u001b[43m_bound_context\u001b[49m\u001b[38;5;241;43m.\u001b[39;49m\u001b[43mcall_function\u001b[49m\u001b[43m(\u001b[49m\n\u001b[0;32m    253\u001b[0m \u001b[43m        \u001b[49m\u001b[38;5;28;43mself\u001b[39;49m\u001b[38;5;241;43m.\u001b[39;49m\u001b[43mname\u001b[49m\u001b[43m,\u001b[49m\n\u001b[0;32m    254\u001b[0m \u001b[43m        \u001b[49m\u001b[38;5;28;43mlist\u001b[39;49m\u001b[43m(\u001b[49m\u001b[43margs\u001b[49m\u001b[43m)\u001b[49m\u001b[43m,\u001b[49m\n\u001b[0;32m    255\u001b[0m \u001b[43m        \u001b[49m\u001b[38;5;28;43mlen\u001b[39;49m\u001b[43m(\u001b[49m\u001b[38;5;28;43mself\u001b[39;49m\u001b[38;5;241;43m.\u001b[39;49m\u001b[43mfunction_type\u001b[49m\u001b[38;5;241;43m.\u001b[39;49m\u001b[43mflat_outputs\u001b[49m\u001b[43m)\u001b[49m\u001b[43m,\u001b[49m\n\u001b[0;32m    256\u001b[0m \u001b[43m    \u001b[49m\u001b[43m)\u001b[49m\n\u001b[0;32m    257\u001b[0m   \u001b[38;5;28;01melse\u001b[39;00m:\n\u001b[0;32m    258\u001b[0m     outputs \u001b[38;5;241m=\u001b[39m make_call_op_in_graph(\n\u001b[0;32m    259\u001b[0m         \u001b[38;5;28mself\u001b[39m,\n\u001b[0;32m    260\u001b[0m         \u001b[38;5;28mlist\u001b[39m(args),\n\u001b[0;32m    261\u001b[0m         \u001b[38;5;28mself\u001b[39m\u001b[38;5;241m.\u001b[39m_bound_context\u001b[38;5;241m.\u001b[39mfunction_call_options\u001b[38;5;241m.\u001b[39mas_attrs(),\n\u001b[0;32m    262\u001b[0m     )\n",
      "File \u001b[1;32m~\\AppData\\Local\\Programs\\Python\\Python311\\Lib\\site-packages\\tensorflow\\python\\eager\\context.py:1479\u001b[0m, in \u001b[0;36mContext.call_function\u001b[1;34m(self, name, tensor_inputs, num_outputs)\u001b[0m\n\u001b[0;32m   1477\u001b[0m cancellation_context \u001b[38;5;241m=\u001b[39m cancellation\u001b[38;5;241m.\u001b[39mcontext()\n\u001b[0;32m   1478\u001b[0m \u001b[38;5;28;01mif\u001b[39;00m cancellation_context \u001b[38;5;129;01mis\u001b[39;00m \u001b[38;5;28;01mNone\u001b[39;00m:\n\u001b[1;32m-> 1479\u001b[0m   outputs \u001b[38;5;241m=\u001b[39m \u001b[43mexecute\u001b[49m\u001b[38;5;241;43m.\u001b[39;49m\u001b[43mexecute\u001b[49m\u001b[43m(\u001b[49m\n\u001b[0;32m   1480\u001b[0m \u001b[43m      \u001b[49m\u001b[43mname\u001b[49m\u001b[38;5;241;43m.\u001b[39;49m\u001b[43mdecode\u001b[49m\u001b[43m(\u001b[49m\u001b[38;5;124;43m\"\u001b[39;49m\u001b[38;5;124;43mutf-8\u001b[39;49m\u001b[38;5;124;43m\"\u001b[39;49m\u001b[43m)\u001b[49m\u001b[43m,\u001b[49m\n\u001b[0;32m   1481\u001b[0m \u001b[43m      \u001b[49m\u001b[43mnum_outputs\u001b[49m\u001b[38;5;241;43m=\u001b[39;49m\u001b[43mnum_outputs\u001b[49m\u001b[43m,\u001b[49m\n\u001b[0;32m   1482\u001b[0m \u001b[43m      \u001b[49m\u001b[43minputs\u001b[49m\u001b[38;5;241;43m=\u001b[39;49m\u001b[43mtensor_inputs\u001b[49m\u001b[43m,\u001b[49m\n\u001b[0;32m   1483\u001b[0m \u001b[43m      \u001b[49m\u001b[43mattrs\u001b[49m\u001b[38;5;241;43m=\u001b[39;49m\u001b[43mattrs\u001b[49m\u001b[43m,\u001b[49m\n\u001b[0;32m   1484\u001b[0m \u001b[43m      \u001b[49m\u001b[43mctx\u001b[49m\u001b[38;5;241;43m=\u001b[39;49m\u001b[38;5;28;43mself\u001b[39;49m\u001b[43m,\u001b[49m\n\u001b[0;32m   1485\u001b[0m \u001b[43m  \u001b[49m\u001b[43m)\u001b[49m\n\u001b[0;32m   1486\u001b[0m \u001b[38;5;28;01melse\u001b[39;00m:\n\u001b[0;32m   1487\u001b[0m   outputs \u001b[38;5;241m=\u001b[39m execute\u001b[38;5;241m.\u001b[39mexecute_with_cancellation(\n\u001b[0;32m   1488\u001b[0m       name\u001b[38;5;241m.\u001b[39mdecode(\u001b[38;5;124m\"\u001b[39m\u001b[38;5;124mutf-8\u001b[39m\u001b[38;5;124m\"\u001b[39m),\n\u001b[0;32m   1489\u001b[0m       num_outputs\u001b[38;5;241m=\u001b[39mnum_outputs,\n\u001b[1;32m   (...)\u001b[0m\n\u001b[0;32m   1493\u001b[0m       cancellation_manager\u001b[38;5;241m=\u001b[39mcancellation_context,\n\u001b[0;32m   1494\u001b[0m   )\n",
      "File \u001b[1;32m~\\AppData\\Local\\Programs\\Python\\Python311\\Lib\\site-packages\\tensorflow\\python\\eager\\execute.py:60\u001b[0m, in \u001b[0;36mquick_execute\u001b[1;34m(op_name, num_outputs, inputs, attrs, ctx, name)\u001b[0m\n\u001b[0;32m     53\u001b[0m   \u001b[38;5;66;03m# Convert any objects of type core_types.Tensor to Tensor.\u001b[39;00m\n\u001b[0;32m     54\u001b[0m   inputs \u001b[38;5;241m=\u001b[39m [\n\u001b[0;32m     55\u001b[0m       tensor_conversion_registry\u001b[38;5;241m.\u001b[39mconvert(t)\n\u001b[0;32m     56\u001b[0m       \u001b[38;5;28;01mif\u001b[39;00m \u001b[38;5;28misinstance\u001b[39m(t, core_types\u001b[38;5;241m.\u001b[39mTensor)\n\u001b[0;32m     57\u001b[0m       \u001b[38;5;28;01melse\u001b[39;00m t\n\u001b[0;32m     58\u001b[0m       \u001b[38;5;28;01mfor\u001b[39;00m t \u001b[38;5;129;01min\u001b[39;00m inputs\n\u001b[0;32m     59\u001b[0m   ]\n\u001b[1;32m---> 60\u001b[0m   tensors \u001b[38;5;241m=\u001b[39m \u001b[43mpywrap_tfe\u001b[49m\u001b[38;5;241;43m.\u001b[39;49m\u001b[43mTFE_Py_Execute\u001b[49m\u001b[43m(\u001b[49m\u001b[43mctx\u001b[49m\u001b[38;5;241;43m.\u001b[39;49m\u001b[43m_handle\u001b[49m\u001b[43m,\u001b[49m\u001b[43m \u001b[49m\u001b[43mdevice_name\u001b[49m\u001b[43m,\u001b[49m\u001b[43m \u001b[49m\u001b[43mop_name\u001b[49m\u001b[43m,\u001b[49m\n\u001b[0;32m     61\u001b[0m \u001b[43m                                      \u001b[49m\u001b[43minputs\u001b[49m\u001b[43m,\u001b[49m\u001b[43m \u001b[49m\u001b[43mattrs\u001b[49m\u001b[43m,\u001b[49m\u001b[43m \u001b[49m\u001b[43mnum_outputs\u001b[49m\u001b[43m)\u001b[49m\n\u001b[0;32m     62\u001b[0m \u001b[38;5;28;01mexcept\u001b[39;00m core\u001b[38;5;241m.\u001b[39m_NotOkStatusException \u001b[38;5;28;01mas\u001b[39;00m e:\n\u001b[0;32m     63\u001b[0m   \u001b[38;5;28;01mif\u001b[39;00m name \u001b[38;5;129;01mis\u001b[39;00m \u001b[38;5;129;01mnot\u001b[39;00m \u001b[38;5;28;01mNone\u001b[39;00m:\n",
      "\u001b[1;31mKeyboardInterrupt\u001b[0m: "
     ]
    }
   ],
   "source": [
    "'''model.fit(X_train, y_train, epochs=10, validation_data=(X_val, y_val), callbacks=[wandb.keras.WandbCallback())\n",
    "\n",
    "#EVALÚO\n",
    "eval_loss, eval_acc = model.evaluate(X_val, y_val)\n",
    "\n",
    "wandb.log({\"eval_loss\": test_loss, \"eval_acc\": test_acc})'''"
   ]
  },
  {
   "cell_type": "code",
   "execution_count": null,
   "metadata": {},
   "outputs": [],
   "source": [
    "'''print(\"Accuracy : \", eval_acc)\n",
    "print(\"Loss : \", eval_loss'''"
   ]
  },
  {
   "cell_type": "code",
   "execution_count": 6,
   "metadata": {},
   "outputs": [
    {
     "ename": "SyntaxError",
     "evalue": "closing parenthesis ')' does not match opening parenthesis '[' (1637144083.py, line 13)",
     "output_type": "error",
     "traceback": [
      "\u001b[1;36m  Cell \u001b[1;32mIn[6], line 13\u001b[1;36m\u001b[0m\n\u001b[1;33m    model.fit(X_train, y_train, epochs=10, validation_data=(X_val, y_val), callbacks=[wandb.keras.WandbCallback())\u001b[0m\n\u001b[1;37m                                                                                                                 ^\u001b[0m\n\u001b[1;31mSyntaxError\u001b[0m\u001b[1;31m:\u001b[0m closing parenthesis ')' does not match opening parenthesis '['\n"
     ]
    }
   ],
   "source": [
    "'''def model_train(archivo_x, archivo_y):\n",
    "    X = np.load(archivo_x)\n",
    "    y = np.load(archivo_y)\n",
    "\n",
    "    #DIVIDO EN TRAIN, TEST Y EVALUATION\n",
    "    #Divido los datos de train de los de test y evaluation (70/30)\n",
    "    X_train, X_testVal, y_train, y_testVal = train_test_split(X, y, test_size=0.3, random_state=42)\n",
    "\n",
    "    #Divido los datos de test de los de evaluation (50/50 del 30% anterior)\n",
    "    X_val, X_test, y_val, y_test = train_test_split(X_testVal, y_testVal, test_size=0.5, random_state=42)\n",
    "\n",
    "    \n",
    "    model.fit(X_train, y_train, epochs=10, validation_data=(X_val, y_val), callbacks=[wandb.keras.WandbCallback())\n",
    "\n",
    "    #EVALÚO\n",
    "    eval_loss, eval_acc = model.evaluate(X_val, y_val)\n",
    "\n",
    "    wandb.log({\"eval_loss\": test_loss, \"eval_acc\": test_acc})\n",
    "\n",
    "    #VEO LA PERFORMANCE\n",
    "    print(\"Accuracy : \", eval_acc)\n",
    "    print(\"Loss : \", eval_loss)'''"
   ]
  },
  {
   "cell_type": "code",
   "execution_count": 25,
   "metadata": {},
   "outputs": [
    {
     "ename": "ValueError",
     "evalue": "Found input variables with inconsistent numbers of samples: [8181, 2727]",
     "output_type": "error",
     "traceback": [
      "\u001b[1;31m---------------------------------------------------------------------------\u001b[0m",
      "\u001b[1;31mValueError\u001b[0m                                Traceback (most recent call last)",
      "Cell \u001b[1;32mIn[25], line 8\u001b[0m\n\u001b[0;32m      5\u001b[0m archivo_x \u001b[38;5;241m=\u001b[39m os\u001b[38;5;241m.\u001b[39mpath\u001b[38;5;241m.\u001b[39mjoin(directorio, \u001b[38;5;124mf\u001b[39m\u001b[38;5;124m'\u001b[39m\u001b[38;5;124mX_\u001b[39m\u001b[38;5;132;01m{\u001b[39;00mi\u001b[38;5;132;01m}\u001b[39;00m\u001b[38;5;124m.npy\u001b[39m\u001b[38;5;124m'\u001b[39m)\n\u001b[0;32m      6\u001b[0m archivo_y \u001b[38;5;241m=\u001b[39m os\u001b[38;5;241m.\u001b[39mpath\u001b[38;5;241m.\u001b[39mjoin(directorio, \u001b[38;5;124mf\u001b[39m\u001b[38;5;124m'\u001b[39m\u001b[38;5;124my_\u001b[39m\u001b[38;5;132;01m{\u001b[39;00mi\u001b[38;5;132;01m}\u001b[39;00m\u001b[38;5;124m.npy\u001b[39m\u001b[38;5;124m'\u001b[39m)\n\u001b[1;32m----> 8\u001b[0m \u001b[43mmodel_train\u001b[49m\u001b[43m(\u001b[49m\u001b[43marchivo_x\u001b[49m\u001b[43m,\u001b[49m\u001b[43m \u001b[49m\u001b[43marchivo_y\u001b[49m\u001b[43m)\u001b[49m\n",
      "Cell \u001b[1;32mIn[21], line 7\u001b[0m, in \u001b[0;36mmodel_train\u001b[1;34m(archivo_x, archivo_y)\u001b[0m\n\u001b[0;32m      3\u001b[0m y \u001b[38;5;241m=\u001b[39m np\u001b[38;5;241m.\u001b[39mload(archivo_y)\n\u001b[0;32m      5\u001b[0m \u001b[38;5;66;03m#DIVIDO EN TRAIN, TEST Y EVALUATION\u001b[39;00m\n\u001b[0;32m      6\u001b[0m \u001b[38;5;66;03m#Divido los datos de train de los de test y evaluation (70/30)\u001b[39;00m\n\u001b[1;32m----> 7\u001b[0m X_train, X_testVal, y_train, y_testVal \u001b[38;5;241m=\u001b[39m \u001b[43mtrain_test_split\u001b[49m\u001b[43m(\u001b[49m\u001b[43mX\u001b[49m\u001b[43m,\u001b[49m\u001b[43m \u001b[49m\u001b[43my\u001b[49m\u001b[43m,\u001b[49m\u001b[43m \u001b[49m\u001b[43mtest_size\u001b[49m\u001b[38;5;241;43m=\u001b[39;49m\u001b[38;5;241;43m0.3\u001b[39;49m\u001b[43m,\u001b[49m\u001b[43m \u001b[49m\u001b[43mrandom_state\u001b[49m\u001b[38;5;241;43m=\u001b[39;49m\u001b[38;5;241;43m42\u001b[39;49m\u001b[43m)\u001b[49m\n\u001b[0;32m      9\u001b[0m \u001b[38;5;66;03m#Divido los datos de test de los de evaluation (50/50 del 30% anterior)\u001b[39;00m\n\u001b[0;32m     10\u001b[0m X_val, X_test, y_val, y_test \u001b[38;5;241m=\u001b[39m train_test_split(X_testVal, y_testVal, test_size\u001b[38;5;241m=\u001b[39m\u001b[38;5;241m0.5\u001b[39m, random_state\u001b[38;5;241m=\u001b[39m\u001b[38;5;241m42\u001b[39m)\n",
      "File \u001b[1;32m~\\AppData\\Local\\Programs\\Python\\Python311\\Lib\\site-packages\\sklearn\\utils\\_param_validation.py:214\u001b[0m, in \u001b[0;36mvalidate_params.<locals>.decorator.<locals>.wrapper\u001b[1;34m(*args, **kwargs)\u001b[0m\n\u001b[0;32m    208\u001b[0m \u001b[38;5;28;01mtry\u001b[39;00m:\n\u001b[0;32m    209\u001b[0m     \u001b[38;5;28;01mwith\u001b[39;00m config_context(\n\u001b[0;32m    210\u001b[0m         skip_parameter_validation\u001b[38;5;241m=\u001b[39m(\n\u001b[0;32m    211\u001b[0m             prefer_skip_nested_validation \u001b[38;5;129;01mor\u001b[39;00m global_skip_validation\n\u001b[0;32m    212\u001b[0m         )\n\u001b[0;32m    213\u001b[0m     ):\n\u001b[1;32m--> 214\u001b[0m         \u001b[38;5;28;01mreturn\u001b[39;00m \u001b[43mfunc\u001b[49m\u001b[43m(\u001b[49m\u001b[38;5;241;43m*\u001b[39;49m\u001b[43margs\u001b[49m\u001b[43m,\u001b[49m\u001b[43m \u001b[49m\u001b[38;5;241;43m*\u001b[39;49m\u001b[38;5;241;43m*\u001b[39;49m\u001b[43mkwargs\u001b[49m\u001b[43m)\u001b[49m\n\u001b[0;32m    215\u001b[0m \u001b[38;5;28;01mexcept\u001b[39;00m InvalidParameterError \u001b[38;5;28;01mas\u001b[39;00m e:\n\u001b[0;32m    216\u001b[0m     \u001b[38;5;66;03m# When the function is just a wrapper around an estimator, we allow\u001b[39;00m\n\u001b[0;32m    217\u001b[0m     \u001b[38;5;66;03m# the function to delegate validation to the estimator, but we replace\u001b[39;00m\n\u001b[0;32m    218\u001b[0m     \u001b[38;5;66;03m# the name of the estimator by the name of the function in the error\u001b[39;00m\n\u001b[0;32m    219\u001b[0m     \u001b[38;5;66;03m# message to avoid confusion.\u001b[39;00m\n\u001b[0;32m    220\u001b[0m     msg \u001b[38;5;241m=\u001b[39m re\u001b[38;5;241m.\u001b[39msub(\n\u001b[0;32m    221\u001b[0m         \u001b[38;5;124mr\u001b[39m\u001b[38;5;124m\"\u001b[39m\u001b[38;5;124mparameter of \u001b[39m\u001b[38;5;124m\\\u001b[39m\u001b[38;5;124mw+ must be\u001b[39m\u001b[38;5;124m\"\u001b[39m,\n\u001b[0;32m    222\u001b[0m         \u001b[38;5;124mf\u001b[39m\u001b[38;5;124m\"\u001b[39m\u001b[38;5;124mparameter of \u001b[39m\u001b[38;5;132;01m{\u001b[39;00mfunc\u001b[38;5;241m.\u001b[39m\u001b[38;5;18m__qualname__\u001b[39m\u001b[38;5;132;01m}\u001b[39;00m\u001b[38;5;124m must be\u001b[39m\u001b[38;5;124m\"\u001b[39m,\n\u001b[0;32m    223\u001b[0m         \u001b[38;5;28mstr\u001b[39m(e),\n\u001b[0;32m    224\u001b[0m     )\n",
      "File \u001b[1;32m~\\AppData\\Local\\Programs\\Python\\Python311\\Lib\\site-packages\\sklearn\\model_selection\\_split.py:2646\u001b[0m, in \u001b[0;36mtrain_test_split\u001b[1;34m(test_size, train_size, random_state, shuffle, stratify, *arrays)\u001b[0m\n\u001b[0;32m   2643\u001b[0m \u001b[38;5;28;01mif\u001b[39;00m n_arrays \u001b[38;5;241m==\u001b[39m \u001b[38;5;241m0\u001b[39m:\n\u001b[0;32m   2644\u001b[0m     \u001b[38;5;28;01mraise\u001b[39;00m \u001b[38;5;167;01mValueError\u001b[39;00m(\u001b[38;5;124m\"\u001b[39m\u001b[38;5;124mAt least one array required as input\u001b[39m\u001b[38;5;124m\"\u001b[39m)\n\u001b[1;32m-> 2646\u001b[0m arrays \u001b[38;5;241m=\u001b[39m \u001b[43mindexable\u001b[49m\u001b[43m(\u001b[49m\u001b[38;5;241;43m*\u001b[39;49m\u001b[43marrays\u001b[49m\u001b[43m)\u001b[49m\n\u001b[0;32m   2648\u001b[0m n_samples \u001b[38;5;241m=\u001b[39m _num_samples(arrays[\u001b[38;5;241m0\u001b[39m])\n\u001b[0;32m   2649\u001b[0m n_train, n_test \u001b[38;5;241m=\u001b[39m _validate_shuffle_split(\n\u001b[0;32m   2650\u001b[0m     n_samples, test_size, train_size, default_test_size\u001b[38;5;241m=\u001b[39m\u001b[38;5;241m0.25\u001b[39m\n\u001b[0;32m   2651\u001b[0m )\n",
      "File \u001b[1;32m~\\AppData\\Local\\Programs\\Python\\Python311\\Lib\\site-packages\\sklearn\\utils\\validation.py:453\u001b[0m, in \u001b[0;36mindexable\u001b[1;34m(*iterables)\u001b[0m\n\u001b[0;32m    434\u001b[0m \u001b[38;5;250m\u001b[39m\u001b[38;5;124;03m\"\"\"Make arrays indexable for cross-validation.\u001b[39;00m\n\u001b[0;32m    435\u001b[0m \n\u001b[0;32m    436\u001b[0m \u001b[38;5;124;03mChecks consistent length, passes through None, and ensures that everything\u001b[39;00m\n\u001b[1;32m   (...)\u001b[0m\n\u001b[0;32m    449\u001b[0m \u001b[38;5;124;03m    sparse matrix, or dataframe) or `None`.\u001b[39;00m\n\u001b[0;32m    450\u001b[0m \u001b[38;5;124;03m\"\"\"\u001b[39;00m\n\u001b[0;32m    452\u001b[0m result \u001b[38;5;241m=\u001b[39m [_make_indexable(X) \u001b[38;5;28;01mfor\u001b[39;00m X \u001b[38;5;129;01min\u001b[39;00m iterables]\n\u001b[1;32m--> 453\u001b[0m \u001b[43mcheck_consistent_length\u001b[49m\u001b[43m(\u001b[49m\u001b[38;5;241;43m*\u001b[39;49m\u001b[43mresult\u001b[49m\u001b[43m)\u001b[49m\n\u001b[0;32m    454\u001b[0m \u001b[38;5;28;01mreturn\u001b[39;00m result\n",
      "File \u001b[1;32m~\\AppData\\Local\\Programs\\Python\\Python311\\Lib\\site-packages\\sklearn\\utils\\validation.py:407\u001b[0m, in \u001b[0;36mcheck_consistent_length\u001b[1;34m(*arrays)\u001b[0m\n\u001b[0;32m    405\u001b[0m uniques \u001b[38;5;241m=\u001b[39m np\u001b[38;5;241m.\u001b[39munique(lengths)\n\u001b[0;32m    406\u001b[0m \u001b[38;5;28;01mif\u001b[39;00m \u001b[38;5;28mlen\u001b[39m(uniques) \u001b[38;5;241m>\u001b[39m \u001b[38;5;241m1\u001b[39m:\n\u001b[1;32m--> 407\u001b[0m     \u001b[38;5;28;01mraise\u001b[39;00m \u001b[38;5;167;01mValueError\u001b[39;00m(\n\u001b[0;32m    408\u001b[0m         \u001b[38;5;124m\"\u001b[39m\u001b[38;5;124mFound input variables with inconsistent numbers of samples: \u001b[39m\u001b[38;5;132;01m%r\u001b[39;00m\u001b[38;5;124m\"\u001b[39m\n\u001b[0;32m    409\u001b[0m         \u001b[38;5;241m%\u001b[39m [\u001b[38;5;28mint\u001b[39m(l) \u001b[38;5;28;01mfor\u001b[39;00m l \u001b[38;5;129;01min\u001b[39;00m lengths]\n\u001b[0;32m    410\u001b[0m     )\n",
      "\u001b[1;31mValueError\u001b[0m: Found input variables with inconsistent numbers of samples: [8181, 2727]"
     ]
    }
   ],
   "source": [
    "'''directorio = 'C:\\\\Users\\\\47575909\\\\Desktop\\\\Dataset'\n",
    "num_archivos = 10\n",
    "\n",
    "for i in range(1, num_archivos + 1):\n",
    "    archivo_x = os.path.join(directorio, f'X_{i}.npy')\n",
    "    archivo_y = os.path.join(directorio, f'y_{i}.npy')\n",
    "\n",
    "    model_train(archivo_x, archivo_y)'''"
   ]
  },
  {
   "cell_type": "code",
   "execution_count": null,
   "metadata": {},
   "outputs": [],
   "source": [
    "'''X = np.load('C:\\\\Users\\\\47575909\\\\Desktop\\\\X.npy')\n",
    "y = np.load('C:\\\\Users\\\\47575909\\\\Desktop\\\\y.npy')'''"
   ]
  },
  {
   "cell_type": "code",
   "execution_count": null,
   "metadata": {},
   "outputs": [],
   "source": [
    "'''#DIVIDO EN TRAIN, TEST Y EVALUATION\n",
    "#Divido los datos de train de los de test y evaluation (70/30)\n",
    "X_train, X_testVal, y_train, y_testVal = train_test_split(X, y, test_size=0.3, random_state=42)\n",
    "\n",
    "#Divido los datos de test de los de evaluation (50/50 del 30% anterior)\n",
    "X_val, X_test, y_val, y_test = train_test_split(X_testVal, y_testVal, test_size=0.5, random_state=42)'''"
   ]
  },
  {
   "cell_type": "code",
   "execution_count": null,
   "metadata": {},
   "outputs": [],
   "source": [
    "'''#ENTRENO\n",
    "model.fit(X_train, y_train, epochs=10, validation_data=(X_val, y_val))\n",
    "\n",
    "#EVALÚO\n",
    "test_loss, test_acc = model.evaluate(X_val, y_val)'''"
   ]
  },
  {
   "cell_type": "code",
   "execution_count": null,
   "metadata": {},
   "outputs": [],
   "source": [
    "'''#VEO LA PERFORMANCE\n",
    "print(\"Accuracy : \", test_acc)\n",
    "print(\"Loss : \", test_loss)'''"
   ]
  },
  {
   "cell_type": "code",
   "execution_count": 27,
   "metadata": {},
   "outputs": [
    {
     "name": "stdout",
     "output_type": "stream",
     "text": [
      "10/10 [==============================] - 10s 1s/step\n",
      "6.024863e-08\n"
     ]
    }
   ],
   "source": [
    "prueba_normal = np.load('C:\\\\Users\\\\47575909\\\\Desktop\\\\X_predict_epilepsy.npy')\n",
    "\n",
    "#HAGO UNA PREDICCIÓN\n",
    "prediction = model.predict(prueba_normal)\n",
    "\n",
    "probability = np.mean(prediction)\n",
    "#epilepsy_prob = prediction[:, 1]\n",
    "#print(\"Probabilidad de tener epilepsia:\", epilepsy_prob)\n",
    "\n",
    "print(probability)"
   ]
  },
  {
   "cell_type": "markdown",
   "metadata": {},
   "source": [
    "##### Decirle a chona que el indio usa ResNet-26D y que keras no lo tiene ese. Que hago?...\n",
    "- Uso otro modelo de ResNet\n",
    "- Uso las liberías pytorch y timm que si tienen el ResNet-26D"
   ]
  },
  {
   "cell_type": "markdown",
   "metadata": {},
   "source": [
    "# Exportamos el modelo\n",
    "(Con tensorflow.js)"
   ]
  },
  {
   "cell_type": "code",
   "execution_count": 26,
   "metadata": {},
   "outputs": [
    {
     "name": "stderr",
     "output_type": "stream",
     "text": [
      "C:\\Users\\47575909\\AppData\\Local\\Programs\\Python\\Python311\\Lib\\site-packages\\keras\\src\\engine\\training.py:3079: UserWarning: You are saving your model as an HDF5 file via `model.save()`. This file format is considered legacy. We recommend using instead the native Keras format, e.g. `model.save('my_model.keras')`.\n",
      "  saving_api.save_model(\n"
     ]
    }
   ],
   "source": [
    "#guardamos el modelo\n",
    "model.save('modelo_SinapsIA.h5')"
   ]
  },
  {
   "cell_type": "code",
   "execution_count": null,
   "metadata": {},
   "outputs": [],
   "source": [
    "'''#Exportamos el modelooo\n",
    "tensorflowjs_converter --input_format=tf_saved_model --output_format=tfjs_graph_model --signature_name=serving_default --saved_model_tags=serve /ruta/al/modelo/saved_model /ruta/de/destino/\n",
    "#che, no entiendo lo de las rutas'''"
   ]
  },
  {
   "cell_type": "code",
   "execution_count": null,
   "metadata": {
    "vscode": {
     "languageId": "javascript"
    }
   },
   "outputs": [],
   "source": [
    "//HABRÍA QUE HACER ESTO PARA QUE ME DEVUELVA EN LA WEB SOLO LA PROBABILIDAD QUE YO QUIERO (la probabilidad de tener epilepsia)\n",
    "\n",
    "// Obtener datos de entrada (pueden ser simulados en este ejemplo)\n",
    "const datosEntrada = obtenerDatosDeEntrada();\n",
    "\n",
    "// Cargar el modelo\n",
    "const modelo = await cargarModelo();\n",
    "\n",
    "// Realizar predicciones\n",
    "const predicciones = modelo.predict(tf.tensor(datosEntrada));\n",
    "\n",
    "// Mostrar la probabilidad de tener epilepsia\n",
    "const probabilidadEpilepsia = predicciones.mean();\n",
    "console.log('Probabilidad de tener epilepsia:', probabilidadEpilepsia);"
   ]
  }
 ],
 "metadata": {
  "kernelspec": {
   "display_name": "Python 3 (ipykernel)",
   "language": "python",
   "name": "python3"
  },
  "language_info": {
   "codemirror_mode": {
    "name": "ipython",
    "version": 3
   },
   "file_extension": ".py",
   "mimetype": "text/x-python",
   "name": "python",
   "nbconvert_exporter": "python",
   "pygments_lexer": "ipython3",
   "version": "3.11.5"
  }
 },
 "nbformat": 4,
 "nbformat_minor": 4
}
