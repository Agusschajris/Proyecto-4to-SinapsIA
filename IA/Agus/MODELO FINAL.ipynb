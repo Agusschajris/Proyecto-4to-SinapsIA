{
 "cells": [
  {
   "cell_type": "markdown",
   "metadata": {},
   "source": [
    "# Modelo definitivo"
   ]
  },
  {
   "cell_type": "markdown",
   "metadata": {},
   "source": [
    "CHONA ME DIJO QUE USARA LOS DATOS SIN PCA Y QUE HAGA UN POOLING GRANDE AL PRINCIPIO DE LA CNN PARA ACHICAR LOS DATOS DE UNA CUANDO ENTRAN. \n",
    "ADEMÁS, TENGO QUE HACER CONV2D EN VES DE 1D Y TENGO QUE AGREGARLE LOS NUEVOS DATOS. ADEMÁS TENGO QUE USAR EL PRETRAINED MODEL RESNET QUE USO \n",
    "EL INDIO EN EL VIDEO PARA TENER YO YA HECHO EL COSO Y CON LOS WEIGHTS Y QUE NO ME TRADE TANTO EL ENTRENAMIENTO. YO LE CAMBIARÍA LO DEL POOL AL \n",
    "PRINCIPIO Y LO ADAPTARÍA AL FINAL DE LA RED PARA QUE SE AJUSTE A MIS DATOS.\n",
    "- TENGO QUE CORRER EL CODIGO PARA EL DATASET DE NUEVO PERO SIN EL PCA \n",
    "- VOLVER A ARREGLAR LA CNN PARA QUE ADMITA LA VIEJA INPUT SHAPE\n",
    "- USAR UN MODELO RESNET PREENTRENADO CON DATOS COHERENTES (PREFERENTEMENTE EL QUE USÓ EL INDIO)\n",
    "- INCORPORAR LO QUE ME DIJO CHONA DE CONV2D Y UN POOLING PARA QUE SE ADAPTE A RESNET (AdaptiveAvgPool2d - https://stackoverflow.com/questions/61955991/change-input-shape-dimensions-for-resnet-model-pytorch)\n",
    "\n",
    "CODIGOS DEL INDIO:\n",
    "https://github.com/talhaanwarch/youtube-tutorials/blob/main/eeg-conv2d.ipynb\n",
    "https://github.com/talhaanwarch/youtube-tutorials/blob/main/eeg_epilepsy.ipynb"
   ]
  },
  {
   "cell_type": "code",
   "execution_count": null,
   "metadata": {},
   "outputs": [],
   "source": [
    "from sklearn.model_selection import train_test_split\n",
    "from tensorflow import keras\n",
    "from tensorflow.keras.layers import Dense, Flatten, Conv2D\n",
    "from tensorflow.keras.applications import ResNet50\n",
    "from tensorflow.keras.models import Model\n",
    "import tensorflowjs\n",
    "import pandas as pd\n",
    "import numpy as np"
   ]
  },
  {
   "cell_type": "code",
   "execution_count": null,
   "metadata": {},
   "outputs": [],
   "source": [
    "X = np.load('C:\\\\Users\\\\47575909\\\\Desktop\\\\X.npy')\n",
    "y = np.load('C:\\\\Users\\\\47575909\\\\Desktop\\\\y.npy')"
   ]
  },
  {
   "cell_type": "code",
   "execution_count": null,
   "metadata": {},
   "outputs": [],
   "source": [
    "#DIVIDO EN TRAIN, TEST Y EVALUATION\n",
    "#Divido los datos de train de los de test y evaluation (70/30)\n",
    "X_train, X_testVal, y_train, y_testVal = train_test_split(X, y, test_size=0.3, random_state=42)\n",
    "\n",
    "#Divido los datos de test de los de evaluation (50/50 del 30% anterior)\n",
    "X_val, X_test, y_val, y_test = train_test_split(X_testVal, y_testVal, test_size=0.5, random_state=42)"
   ]
  },
  {
   "cell_type": "code",
   "execution_count": null,
   "metadata": {},
   "outputs": [],
   "source": [
    "#Forma de mis datos\n",
    "input_tensor = Input(shape=(14, 230, 384))\n",
    "\n",
    "#Cargo el modelo ResNet50 preentrenado\n",
    "base_model = ResNet50(include_top=False, weights='imagenet', input_tensor=input_tensor)\n",
    "\n",
    "#Congelo las capas del modelo base para que no se actualicen en el entrenamiento\n",
    "for layer in base_model.layers:\n",
    "    layer.trainable = False\n",
    "\n",
    "#Agrego GlobalAveragePooling2D para adaptar la salida del modelo base\n",
    "x = GlobalAveragePooling2D()(base_model.output)\n",
    "\n",
    "#Agrego capas adicionales para la clasificación de mis datos\n",
    "x = Conv2D(filters=32, kernel_size=3, activation='relu')\n",
    "x = MaxPooling2D(pool_size=2)\n",
    "x = Conv2D(filters=32, kernel_size=3, activation='relu')\n",
    "x = MaxPooling2D(pool_size=2)\n",
    "x = Flatten()'''(base_model.output)'''\n",
    "x = Dense(16, activation='relu')(x)\n",
    "x = Dropout(0.5)(x)\n",
    "x = Dense(8, activation='relu')(x)\n",
    "output = Dense(2, activation='softmax')(x)\n",
    "\n",
    "#Junto todo y creo el modelo\n",
    "model = Model(inputs=input_tensor, outputs=output)\n",
    "\n",
    "\n",
    "\n",
    "Conv2D(filters=32, kernel_size=3, activation='relu'),\n",
    "MaxPooling2D(pool_size=2),"
   ]
  },
  {
   "cell_type": "code",
   "execution_count": null,
   "metadata": {},
   "outputs": [],
   "source": [
    "#COMPILO\n",
    "model.compile(optimizer='adam',\n",
    "              loss='binary_crossentropy',\n",
    "              metrics=['accuracy'])"
   ]
  },
  {
   "cell_type": "code",
   "execution_count": null,
   "metadata": {},
   "outputs": [],
   "source": [
    "#ENTRENO\n",
    "model.fit(X_train, y_train, epochs=10, validation_data=(X_val, y_val))\n",
    "\n",
    "#EVALÚO\n",
    "test_loss, test_acc = model.evaluate(X_val, y_val)"
   ]
  },
  {
   "cell_type": "code",
   "execution_count": null,
   "metadata": {},
   "outputs": [],
   "source": [
    "#VEO LA PERFORMANCE\n",
    "print(\"Accuracy : \", test_acc)\n",
    "print(\"Loss : \", test_loss)"
   ]
  },
  {
   "cell_type": "code",
   "execution_count": null,
   "metadata": {},
   "outputs": [],
   "source": [
    "#HAGO UNA PREDICCIÓN\n",
    "prediction = model.predict(datos_test)\n",
    "epilepsy_prob = predicciones[:, 1]\n",
    "print(\"Probabilidad de tener epilepsia:\", epilepsy_prob)"
   ]
  },
  {
   "cell_type": "markdown",
   "metadata": {},
   "source": [
    "##### Decirle a chona que el indio usa ResNet-26D y que keras no lo tiene ese. Que hago?...\n",
    "- Uso otro modelo de ResNet\n",
    "- Uso las liberías pytorch y timm que si tienen el ResNet-26D"
   ]
  },
  {
   "cell_type": "markdown",
   "metadata": {},
   "source": [
    "# Exportamos el modelo\n",
    "(Con tensorflow.js)"
   ]
  },
  {
   "cell_type": "code",
   "execution_count": null,
   "metadata": {},
   "outputs": [],
   "source": [
    "#Exportamos el modelooo\n",
    "tensorflowjs_converter --input_format=tf_saved_model --output_format=tfjs_graph_model --signature_name=serving_default --saved_model_tags=serve /ruta/al/modelo/saved_model /ruta/de/destino/\n",
    "#che, no entiendo lo de las rutas"
   ]
  },
  {
   "cell_type": "code",
   "execution_count": null,
   "metadata": {
    "vscode": {
     "languageId": "javascript"
    }
   },
   "outputs": [],
   "source": [
    "//HABRÍA QUE HACER ESTO PARA QUE ME DEVUELVA EN LA WEB SOLO LA PROBABILIDAD QUE YO QUIERO (la probabilidad de tener epilepsia)\n",
    "\n",
    "/*// Obtener datos de entrada (pueden ser simulados en este ejemplo)\n",
    "const datosEntrada = obtenerDatosDeEntrada();\n",
    "\n",
    "// Cargar el modelo\n",
    "const modelo = await cargarModelo();\n",
    "\n",
    "// Realizar predicciones\n",
    "const predicciones = modelo.predict(tf.tensor(datosEntrada));\n",
    "\n",
    "// Mostrar la probabilidad de tener epilepsia\n",
    "const probabilidadEpilepsia = predicciones.dataSync()[1];\n",
    "console.log('Probabilidad de tener epilepsia:', probabilidadEpilepsia);*/"
   ]
  }
 ],
 "metadata": {
  "language_info": {
   "name": "python"
  },
  "orig_nbformat": 4
 },
 "nbformat": 4,
 "nbformat_minor": 2
}
