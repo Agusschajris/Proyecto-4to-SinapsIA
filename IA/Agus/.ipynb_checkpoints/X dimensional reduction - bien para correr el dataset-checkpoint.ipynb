{
 "cells": [
  {
   "cell_type": "code",
   "execution_count": 1,
   "id": "daa5b9cd",
   "metadata": {},
   "outputs": [],
   "source": [
    "import pandas as pd\n",
    "import glob\n",
    "import ssqueezepy #para convertir la señal en imagen\n",
    "from ssqueezepy import cwt\n",
    "from ssqueezepy.visuals import plot, imshow\n",
    "import os\n",
    "import mne #eeg analysis library\n",
    "import scipy.io\n",
    "#import torch.nn as nn\n",
    "#import torch\n",
    "import numpy as np\n",
    "import re\n",
    "from sklearn.model_selection import train_test_split\n",
    "import tensorflow as tf\n",
    "from tensorflow.keras import layers, models"
   ]
  },
  {
   "cell_type": "code",
   "execution_count": 2,
   "id": "934decab",
   "metadata": {},
   "outputs": [],
   "source": [
    "import numpy as np\n",
    "from sklearn.preprocessing import StandardScaler\n",
    "from sklearn.decomposition import PCA\n",
    "from tqdm import tqdm"
   ]
  },
  {
   "cell_type": "code",
   "execution_count": 5,
   "id": "73b2431d-a06c-4017-9f3e-678e2187a043",
   "metadata": {},
   "outputs": [],
   "source": [
    "#X = np.load('C:\\\\Users\\\\47575909\\\\Desktop\\\\X_PCA.npy')\n",
    "#y = np.load('C:\\\\Users\\\\47575909\\\\Desktop\\\\y_PCA.npy')"
   ]
  },
  {
   "cell_type": "code",
   "execution_count": 3,
   "id": "ff810e27-4f43-46a5-bda0-439faa4f45f9",
   "metadata": {},
   "outputs": [
    {
     "ename": "NameError",
     "evalue": "name 'X' is not defined",
     "output_type": "error",
     "traceback": [
      "\u001b[1;31m---------------------------------------------------------------------------\u001b[0m",
      "\u001b[1;31mNameError\u001b[0m                                 Traceback (most recent call last)",
      "Cell \u001b[1;32mIn[3], line 1\u001b[0m\n\u001b[1;32m----> 1\u001b[0m \u001b[43mX\u001b[49m\u001b[38;5;241m.\u001b[39mshape\n",
      "\u001b[1;31mNameError\u001b[0m: name 'X' is not defined"
     ]
    }
   ],
   "source": [
    "#X.shape"
   ]
  },
  {
   "cell_type": "code",
   "execution_count": 11,
   "id": "355c3abb",
   "metadata": {},
   "outputs": [],
   "source": [
    "#ACAAAAAAAAAAAAAAAAAAAAAAAAAAAAAAAAAAAAAAAAAAAAAAAAAAAAAAAAAAAAAAAAAAAAAAAAAAA\n",
    "#PRUEBO CON MENOS DATOS\n",
    "#ACA SUBO LOS ARCHIVOS DE TFRECORD\n",
    "TFrecord_directory = 'C:\\\\Users\\\\47575909\\\\Desktop\\\\tfrecord_data_inter1' \n",
    "\n",
    "#lista de archivos TFRecord en la carpeta\n",
    "filenames = [os.path.join(TFrecord_directory, f) for f in os.listdir(TFrecord_directory) if f.endswith('.tfrecord')]\n",
    "\n",
    "#Hago un dataset de TensorFlow a partir de los archivos TFRecord\n",
    "dataset = tf.data.TFRecordDataset(filenames)\n",
    "\n",
    "#función para parsear los datos de TFRecord\n",
    "def parse_tfrecord_fn(example):\n",
    "    feature_description = {\n",
    "        'grpno': tf.io.FixedLenFeature([], tf.int64),\n",
    "        'label': tf.io.FixedLenFeature([], tf.int64),\n",
    "        'path': tf.io.FixedLenFeature([], tf.string),\n",
    "    }\n",
    "    example = tf.io.parse_single_example(example, feature_description)\n",
    "    return example\n",
    "\n",
    "parsed_dataset = dataset.map(parse_tfrecord_fn)\n",
    "\n",
    "#batching para argar los datos en lotes\n",
    "batch_size = 1  #puedo cambiar el tamaño (en la PC del colegio el máximo es 16, pero capáz que le tengo que poner menos)\n",
    "batched_dataset = parsed_dataset.batch(batch_size)"
   ]
  },
  {
   "cell_type": "code",
   "execution_count": 30,
   "id": "4bbfff93-a685-40d9-9d38-fdc04dbafcd3",
   "metadata": {},
   "outputs": [],
   "source": [
    "#batched_dataset"
   ]
  },
  {
   "cell_type": "code",
   "execution_count": 4,
   "id": "ecda7582",
   "metadata": {},
   "outputs": [
    {
     "data": {
      "text/plain": [
       "\"#SEPARO EN X E Y\\nX = []\\ny = []\\n\\n#itero los lotes\\nfor batch_data in batched_dataset:\\n    paths = batch_data['path'].numpy()\\n    labels = batch_data['label'].numpy()\\n    \\n    #cargo los scaleograms desde los archivos .npy\\n    batch_X = []\\n    for path in paths:\\n        spectrogram = np.load(path.decode('utf-8'))\\n        batch_X.append(spectrogram)\\n    \\n#//////NUEVO\\n\\n    #primero tengo que convertirlo en un archivo numpy porque sino no quiere\\n    batch_X = np.array(batch_X)\\n    \\n    X_shape = batch_X.shape\\n    shape_0 = X_shape[0]\\n\\n    # Aplanar\\n    batch_X = batch_X.reshape(shape_0, -1)\\n    \\n    #NORMALIZO X en rango [-1, 1] para que el cero quede en el centro\\n    min_val = np.min(batch_X)\\n    max_val = np.max(batch_X)\\n\\n    X = -1 + 2 * (batch_X - min_val) / (max_val - min_val)\\n    \\n    variance_to_keep = 0.95  #me quedo con el 95% de la varianza, esto es flexible (mientras más porcentaje, mayor va  quedar la dimensionalidad de mi X)\\n\\n    pca = PCA()\\n    batch_X = pca.fit_transform(batch_X)  #aplico pca para los datos escalados\\n\\n    #Encuentro el número mínimo de componentes principales para alcanzar la varianza deseada\\n    cumulative_variance_ratio = np.cumsum(pca.explained_variance_ratio_)\\n    #('n_components_to_keep' contendrá el número mínimo de componentes principales necesarios para explicar al menos el 95% de la varianza en los datos.)\\n    n_components_to_keep = np.argmax(cumulative_variance_ratio >= variance_to_keep) + 1 #chona me dijo que me deberían quedar por ejemplo 1000 atributos\\n\\n    #Selecciono la cant de componentes principales que me salió\\n    batch_X = batch_X[:, :n_components_to_keep]\\n    \\n#//////NUEVO\\n    \\n    #agrego los scaleograms y labels a las listas X y y\\n    X.concatenate(batch_X)\\n    y.extend(labels)\\n\\n\\n#convierto X e y a formato .npy\\nX = np.concatenate(X, axis=0)\\ny = np.array(y)\\n\\nprint('Ya se separó todo!')\\nprint('Salió todo bien, tranquina :))')\""
      ]
     },
     "execution_count": 4,
     "metadata": {},
     "output_type": "execute_result"
    }
   ],
   "source": [
    "'''#SEPARO EN X E Y\n",
    "X = []\n",
    "y = []\n",
    "\n",
    "#itero los lotes\n",
    "for batch_data in batched_dataset:\n",
    "    paths = batch_data['path'].numpy()\n",
    "    labels = batch_data['label'].numpy()\n",
    "    \n",
    "    #cargo los scaleograms desde los archivos .npy\n",
    "    batch_X = []\n",
    "    for path in paths:\n",
    "        spectrogram = np.load(path.decode('utf-8'))\n",
    "        batch_X.append(spectrogram)\n",
    "    \n",
    "#//////NUEVO\n",
    "\n",
    "    #primero tengo que convertirlo en un archivo numpy porque sino no quiere\n",
    "    batch_X = np.array(batch_X)\n",
    "    \n",
    "    X_shape = batch_X.shape\n",
    "    shape_0 = X_shape[0]\n",
    "\n",
    "    # Aplanar\n",
    "    batch_X = batch_X.reshape(shape_0, -1)\n",
    "    \n",
    "    #NORMALIZO X en rango [-1, 1] para que el cero quede en el centro\n",
    "    min_val = np.min(batch_X)\n",
    "    max_val = np.max(batch_X)\n",
    "\n",
    "    X = -1 + 2 * (batch_X - min_val) / (max_val - min_val)\n",
    "    \n",
    "    variance_to_keep = 0.95  #me quedo con el 95% de la varianza, esto es flexible (mientras más porcentaje, mayor va  quedar la dimensionalidad de mi X)\n",
    "\n",
    "    pca = PCA()\n",
    "    batch_X = pca.fit_transform(batch_X)  #aplico pca para los datos escalados\n",
    "\n",
    "    #Encuentro el número mínimo de componentes principales para alcanzar la varianza deseada\n",
    "    cumulative_variance_ratio = np.cumsum(pca.explained_variance_ratio_)\n",
    "    #('n_components_to_keep' contendrá el número mínimo de componentes principales necesarios para explicar al menos el 95% de la varianza en los datos.)\n",
    "    n_components_to_keep = np.argmax(cumulative_variance_ratio >= variance_to_keep) + 1 #chona me dijo que me deberían quedar por ejemplo 1000 atributos\n",
    "\n",
    "    #Selecciono la cant de componentes principales que me salió\n",
    "    batch_X = batch_X[:, :n_components_to_keep]\n",
    "    \n",
    "#//////NUEVO\n",
    "    \n",
    "    #agrego los scaleograms y labels a las listas X y y\n",
    "    X.concatenate(batch_X)\n",
    "    y.extend(labels)\n",
    "\n",
    "\n",
    "#convierto X e y a formato .npy\n",
    "X = np.concatenate(X, axis=0)\n",
    "y = np.array(y)\n",
    "\n",
    "print('Ya se separó todo!')\n",
    "print('Salió todo bien, tranquina :))')'''"
   ]
  },
  {
   "cell_type": "code",
   "execution_count": 6,
   "id": "9c7a6b96-d166-4df5-9b4f-3eba82ef5096",
   "metadata": {},
   "outputs": [],
   "source": [
    "#bd_iter = iter(batched_dataset)\n",
    "#batch_data = next(bd_iter)"
   ]
  },
  {
   "cell_type": "code",
   "execution_count": 7,
   "id": "0a31957f-9a85-487f-ab24-4321a63e6c6c",
   "metadata": {},
   "outputs": [
    {
     "data": {
      "text/plain": [
       "{'grpno': <tf.Tensor: shape=(2,), dtype=int64, numpy=array([10, 10], dtype=int64)>,\n",
       " 'label': <tf.Tensor: shape=(2,), dtype=int64, numpy=array([0, 0], dtype=int64)>,\n",
       " 'path': <tf.Tensor: shape=(2,), dtype=string, numpy=\n",
       " array([b'C:\\\\Users\\\\47575909\\\\Desktop\\\\scaleogram\\\\subvideo_11/trial_0.npy',\n",
       "        b'C:\\\\Users\\\\47575909\\\\Desktop\\\\scaleogram\\\\subvideo_11/trial_1.npy'],\n",
       "       dtype=object)>}"
      ]
     },
     "execution_count": 7,
     "metadata": {},
     "output_type": "execute_result"
    }
   ],
   "source": [
    "#batch_data"
   ]
  },
  {
   "cell_type": "code",
   "execution_count": 12,
   "id": "b3c5644a-fa51-4c43-9a18-230489f0f220",
   "metadata": {},
   "outputs": [
    {
     "data": {
      "text/plain": [
       "array([[[[-0.99985725, -0.99985456, -0.9998539 , ..., -0.9989402 ,\n",
       "          -0.9989198 , -0.9989116 ],\n",
       "         [-0.9997775 , -0.9997736 , -0.99977314, ..., -0.9983727 ,\n",
       "          -0.99833775, -0.998324  ],\n",
       "         [-0.99966854, -0.99966335, -0.99966353, ..., -0.99761903,\n",
       "          -0.9975616 , -0.99753934],\n",
       "         ...,\n",
       "         [-0.994659  , -0.9946357 , -0.99461246, ..., -0.9908578 ,\n",
       "          -0.9908636 , -0.9908695 ],\n",
       "         [-0.96086556, -0.9608654 , -0.96086526, ..., -0.9608342 ,\n",
       "          -0.96083426, -0.9608343 ],\n",
       "         [-0.87473947, -0.87473947, -0.87473947, ..., -0.8747394 ,\n",
       "          -0.87473947, -0.87473947]],\n",
       "\n",
       "        [[-0.99991345, -0.9999164 , -0.9999175 , ..., -0.999667  ,\n",
       "          -0.9996697 , -0.9996768 ],\n",
       "         [-0.99988097, -0.99988747, -0.99989027, ..., -0.9994956 ,\n",
       "          -0.99949825, -0.9995087 ],\n",
       "         [-0.99984705, -0.99986124, -0.99986786, ..., -0.99927205,\n",
       "          -0.999273  , -0.9992872 ],\n",
       "         ...,\n",
       "         [-0.995192  , -0.9951628 , -0.9951334 , ..., -0.9862882 ,\n",
       "          -0.98628277, -0.9862775 ],\n",
       "         [-0.9325731 , -0.93257296, -0.9325729 , ..., -0.9325186 ,\n",
       "          -0.93251854, -0.9325185 ],\n",
       "         [-0.7841476 , -0.7841476 , -0.7841476 , ..., -0.7841476 ,\n",
       "          -0.7841476 , -0.7841476 ]],\n",
       "\n",
       "        [[-0.9981148 , -0.9981921 , -0.9982952 , ..., -0.9985538 ,\n",
       "          -0.9985757 , -0.99861574],\n",
       "         [-0.997058  , -0.99717844, -0.9973445 , ..., -0.997825  ,\n",
       "          -0.99785256, -0.99791217],\n",
       "         [-0.9956033 , -0.9957819 , -0.99603784, ..., -0.9968847 ,\n",
       "          -0.99691325, -0.9969963 ],\n",
       "         ...,\n",
       "         [-0.9688564 , -0.9686573 , -0.9684581 , ..., -0.9194791 ,\n",
       "          -0.9194671 , -0.9194558 ],\n",
       "         [-0.6221365 , -0.6221357 , -0.62213504, ..., -0.6218115 ,\n",
       "          -0.6218113 , -0.6218112 ],\n",
       "         [ 0.20963323,  0.20963335,  0.20963311, ...,  0.20963347,\n",
       "           0.20963311,  0.20963335]],\n",
       "\n",
       "        ...,\n",
       "\n",
       "        [[-0.9999227 , -0.9999305 , -0.9999386 , ..., -0.9997751 ,\n",
       "          -0.9997769 , -0.9997822 ],\n",
       "         [-0.9998865 , -0.9998996 , -0.9999136 , ..., -0.99966174,\n",
       "          -0.99966335, -0.9996712 ],\n",
       "         [-0.99984   , -0.99986106, -0.9998842 , ..., -0.9995147 ,\n",
       "          -0.9995148 , -0.9995257 ],\n",
       "         ...,\n",
       "         [-0.9952013 , -0.9951774 , -0.9951533 , ..., -0.9868378 ,\n",
       "          -0.98683167, -0.98682564],\n",
       "         [-0.93268204, -0.932682  , -0.9326819 , ..., -0.9326323 ,\n",
       "          -0.9326323 , -0.93263227],\n",
       "         [-0.7845017 , -0.7845017 , -0.7845016 , ..., -0.7845017 ,\n",
       "          -0.7845017 , -0.7845017 ]],\n",
       "\n",
       "        [[-0.9998467 , -0.9998429 , -0.99984103, ..., -0.99891686,\n",
       "          -0.9988951 , -0.998886  ],\n",
       "         [-0.9997589 , -0.99975353, -0.99975157, ..., -0.99833816,\n",
       "          -0.9983011 , -0.9982859 ],\n",
       "         [-0.9996379 , -0.9996308 , -0.9996295 , ..., -0.9975705 ,\n",
       "          -0.9975098 , -0.9974854 ],\n",
       "         ...,\n",
       "         [-0.9963832 , -0.9963675 , -0.9963518 , ..., -0.9936978 ,\n",
       "          -0.9937014 , -0.993705  ],\n",
       "         [-0.97127897, -0.9712789 , -0.9712788 , ..., -0.9712583 ,\n",
       "          -0.97125834, -0.9712584 ],\n",
       "         [-0.90807116, -0.90807116, -0.90807116, ..., -0.90807116,\n",
       "          -0.90807116, -0.90807116]],\n",
       "\n",
       "        [[-0.999851  , -0.99986213, -0.99987423, ..., -0.9998928 ,\n",
       "          -0.9998876 , -0.9998826 ],\n",
       "         [-0.9997824 , -0.9998009 , -0.9998214 , ..., -0.9998521 ,\n",
       "          -0.99984396, -0.99983627],\n",
       "         [-0.99969625, -0.99972564, -0.999759  , ..., -0.9998081 ,\n",
       "          -0.9997961 , -0.99978524],\n",
       "         ...,\n",
       "         [-0.9918049 , -0.9918184 , -0.9918318 , ..., -0.98727614,\n",
       "          -0.9872577 , -0.98723936],\n",
       "         [-0.91157824, -0.9115783 , -0.91157836, ..., -0.91155434,\n",
       "          -0.9115542 , -0.9115541 ],\n",
       "         [-0.71698797, -0.71698797, -0.71698797, ..., -0.71698797,\n",
       "          -0.71698797, -0.71698797]]],\n",
       "\n",
       "\n",
       "       [[[-0.99993956, -0.9999412 , -0.99994355, ..., -0.99984324,\n",
       "          -0.9998418 , -0.9998425 ],\n",
       "         [-0.9999063 , -0.9999088 , -0.99991244, ..., -0.9997589 ,\n",
       "          -0.99975616, -0.999757  ],\n",
       "         [-0.9998614 , -0.99986494, -0.99987024, ..., -0.99964625,\n",
       "          -0.9996412 , -0.999642  ],\n",
       "         ...,\n",
       "         [-0.99199057, -0.99197626, -0.9919621 , ..., -0.9925114 ,\n",
       "          -0.9925281 , -0.9925449 ],\n",
       "         [-0.9670726 , -0.9670725 , -0.9670723 , ..., -0.9670781 ,\n",
       "          -0.96707827, -0.96707845],\n",
       "         [-0.8946749 , -0.89467484, -0.8946749 , ..., -0.89467484,\n",
       "          -0.8946749 , -0.89467484]],\n",
       "\n",
       "        [[-0.99977463, -0.99978095, -0.99978894, ..., -0.9999247 ,\n",
       "          -0.99992746, -0.99993116],\n",
       "         [-0.99965316, -0.99966246, -0.9996744 , ..., -0.99988884,\n",
       "          -0.9998931 , -0.999899  ],\n",
       "         [-0.9994925 , -0.9995053 , -0.999522  , ..., -0.9998436 ,\n",
       "          -0.99984974, -0.9998587 ],\n",
       "         ...,\n",
       "         [-0.9861915 , -0.9861809 , -0.98617035, ..., -0.9913764 ,\n",
       "          -0.9914112 , -0.9914461 ],\n",
       "         [-0.9424094 , -0.9424093 , -0.94240916, ..., -0.9424544 ,\n",
       "          -0.94245464, -0.9424549 ],\n",
       "         [-0.8158171 , -0.8158171 , -0.8158171 , ..., -0.8158171 ,\n",
       "          -0.8158171 , -0.8158171 ]],\n",
       "\n",
       "        [[-0.9989686 , -0.99899983, -0.99904084, ..., -0.99972516,\n",
       "          -0.99973345, -0.99974316],\n",
       "         [-0.99841857, -0.9984655 , -0.99852806, ..., -0.99960846,\n",
       "          -0.99962175, -0.99963766],\n",
       "         [-0.99769086, -0.9977567 , -0.99784595, ..., -0.9994725 ,\n",
       "          -0.99949265, -0.99951744],\n",
       "         ...,\n",
       "         [-0.9206775 , -0.9206113 , -0.92054594, ..., -0.94901365,\n",
       "          -0.94921184, -0.9494105 ],\n",
       "         [-0.67409706, -0.67409635, -0.6740955 , ..., -0.67434955,\n",
       "          -0.6743509 , -0.6743523 ],\n",
       "         [ 0.04226804,  0.0422678 ,  0.04226792, ...,  0.0422678 ,\n",
       "           0.04226792,  0.04226792]],\n",
       "\n",
       "        ...,\n",
       "\n",
       "        [[-0.9998825 , -0.9998828 , -0.9998834 , ..., -0.99983   ,\n",
       "          -0.9998281 , -0.9998278 ],\n",
       "         [-0.9998221 , -0.9998224 , -0.99982274, ..., -0.9997421 ,\n",
       "          -0.99973875, -0.99973816],\n",
       "         [-0.99974567, -0.9997456 , -0.9997449 , ..., -0.99962807,\n",
       "          -0.9996226 , -0.99962145],\n",
       "         ...,\n",
       "         [-0.9871492 , -0.98713344, -0.9871179 , ..., -0.9902396 ,\n",
       "          -0.9902698 , -0.9903    ],\n",
       "         [-0.94553834, -0.94553816, -0.945538  , ..., -0.9455669 ,\n",
       "          -0.9455672 , -0.94556737],\n",
       "         [-0.82581025, -0.82581025, -0.82581025, ..., -0.82581025,\n",
       "          -0.82581025, -0.82581025]],\n",
       "\n",
       "        [[-0.99999213, -0.99999815, -0.9999931 , ..., -0.99998385,\n",
       "          -0.99998206, -0.99998003],\n",
       "         [-0.99998647, -0.999994  , -0.99998784, ..., -0.9999726 ,\n",
       "          -0.9999701 , -0.9999674 ],\n",
       "         [-0.99996984, -0.99997574, -0.9999709 , ..., -0.99995613,\n",
       "          -0.999953  , -0.9999495 ],\n",
       "         ...,\n",
       "         [-0.99464417, -0.9946334 , -0.9946226 , ..., -0.9946081 ,\n",
       "          -0.9946188 , -0.9946295 ],\n",
       "         [-0.977116  , -0.97711587, -0.97711575, ..., -0.97711563,\n",
       "          -0.97711575, -0.9771158 ],\n",
       "         [-0.92679375, -0.92679375, -0.92679375, ..., -0.92679375,\n",
       "          -0.92679375, -0.92679375]],\n",
       "\n",
       "        [[-0.99966836, -0.99967045, -0.99967474, ..., -0.9999816 ,\n",
       "          -0.99998075, -0.99998015],\n",
       "         [-0.99949634, -0.9994995 , -0.9995062 , ..., -0.999974  ,\n",
       "          -0.99997246, -0.9999714 ],\n",
       "         [-0.9992742 , -0.99927866, -0.99928844, ..., -0.99996525,\n",
       "          -0.99996257, -0.99996066],\n",
       "         ...,\n",
       "         [-0.9874821 , -0.98746777, -0.98745364, ..., -0.9908046 ,\n",
       "          -0.9908344 , -0.9908643 ],\n",
       "         [-0.9466267 , -0.94662654, -0.9466264 , ..., -0.9466568 ,\n",
       "          -0.94665706, -0.9466573 ],\n",
       "         [-0.8292924 , -0.8292924 , -0.8292924 , ..., -0.8292925 ,\n",
       "          -0.8292925 , -0.8292924 ]]]], dtype=float32)"
      ]
     },
     "execution_count": 12,
     "metadata": {},
     "output_type": "execute_result"
    }
   ],
   "source": [
    "'''\n",
    "paths = batch_data['path'].numpy()\n",
    "labels = batch_data['label'].numpy()\n",
    "    \n",
    "# Cargar los scaleograms desde los archivos .npy\n",
    "batch_X = []\n",
    "for path in paths:\n",
    "    spectrogram = np.load(path.decode('utf-8'))\n",
    "    batch_X.append(spectrogram)\n",
    "    \n",
    "batch_X = np.array(batch_X)\n",
    "        \n",
    "# batch_X = batch_X.reshape((batch_X.shape[0], -1))  # Aplanar los datos\n",
    "    \n",
    "# NORMALIZA X en rango [-1, 1] para que el cero quede en el centro\n",
    "min_val = np.min(batch_X)\n",
    "max_val = np.max(batch_X)\n",
    "    \n",
    "batch_X = -1 + 2 * (batch_X - min_val) / (max_val - min_val)\n",
    "\n",
    "batch_X'''"
   ]
  },
  {
   "cell_type": "code",
   "execution_count": 13,
   "id": "09073f6c-66ca-4c7e-88da-79ddaad85b39",
   "metadata": {},
   "outputs": [
    {
     "data": {
      "text/plain": [
       "(14, 230, 384)"
      ]
     },
     "execution_count": 13,
     "metadata": {},
     "output_type": "execute_result"
    }
   ],
   "source": [
    "#batch_X[0].shape"
   ]
  },
  {
   "cell_type": "code",
   "execution_count": 10,
   "id": "38a21cb9-a2f7-499e-8675-c9c117019d03",
   "metadata": {},
   "outputs": [
    {
     "data": {
      "text/plain": [
       "((2, 1236480), (2,))"
      ]
     },
     "execution_count": 10,
     "metadata": {},
     "output_type": "execute_result"
    }
   ],
   "source": [
    "#batch_X.shape, labels.shape"
   ]
  },
  {
   "cell_type": "code",
   "execution_count": 36,
   "id": "1951e425-3a2e-4db1-a8c5-79aab9bb531a",
   "metadata": {},
   "outputs": [
    {
     "data": {
      "text/plain": [
       "array([[[-0.99985725, -0.99985456, -0.9998539 , ..., -0.99991643,\n",
       "         -0.99991775, -0.9999196 ],\n",
       "        [-0.99992204, -0.999925  , -0.9999283 , ..., -0.9999353 ,\n",
       "         -0.99993604, -0.9999361 ],\n",
       "        [-0.9999355 , -0.9999346 , -0.9999341 , ..., -0.99990755,\n",
       "         -0.9999017 , -0.9998941 ],\n",
       "        ...,\n",
       "        [-0.9664635 , -0.96722597, -0.9679918 , ..., -0.99134135,\n",
       "         -0.99110097, -0.9908375 ],\n",
       "        [-0.9905519 , -0.9902452 , -0.98991853, ..., -0.98797005,\n",
       "         -0.988031  , -0.98809224],\n",
       "        [-0.9881534 , -0.98821443, -0.9882751 , ..., -0.9532691 ,\n",
       "         -0.9527509 , -0.9522377 ]],\n",
       "\n",
       "       [[-0.9517298 , -0.9512274 , -0.95073086, ..., -0.9882792 ,\n",
       "         -0.98808426, -0.98788995],\n",
       "        [-0.98769647, -0.98750395, -0.9873127 , ..., -0.9355713 ,\n",
       "         -0.935637  , -0.93570983],\n",
       "        [-0.93578964, -0.9358762 , -0.93596923, ..., -0.9767152 ,\n",
       "         -0.9765628 , -0.97640944],\n",
       "        ...,\n",
       "        [-0.9934355 , -0.9931943 , -0.9930401 , ..., -0.99930894,\n",
       "         -0.99916166, -0.9990153 ],\n",
       "        [-0.99888384, -0.9987729 , -0.9986812 , ..., -0.9947579 ,\n",
       "         -0.9950346 , -0.9953644 ],\n",
       "        [-0.9957412 , -0.9961577 , -0.9966061 , ..., -0.99257207,\n",
       "         -0.9914929 , -0.99048024]],\n",
       "\n",
       "       [[-0.9895745 , -0.9888145 , -0.98823476, ..., -0.9993674 ,\n",
       "         -0.9990912 , -0.9986538 ],\n",
       "        [-0.99812603, -0.9975303 , -0.99687654, ..., -0.9940068 ,\n",
       "         -0.9945086 , -0.9950303 ],\n",
       "        [-0.9955584 , -0.99608165, -0.9965906 , ..., -0.9987686 ,\n",
       "         -0.99897695, -0.99916184],\n",
       "        ...,\n",
       "        [-0.97464657, -0.9744754 , -0.97430634, ..., -0.95719117,\n",
       "         -0.95709145, -0.95699257],\n",
       "        [-0.95689464, -0.9567977 , -0.95670176, ..., -0.9713106 ,\n",
       "         -0.9713223 , -0.9713356 ],\n",
       "        [-0.9713505 , -0.97136694, -0.9713849 , ..., -0.9577977 ,\n",
       "         -0.95779127, -0.9577875 ]]], dtype=float32)"
      ]
     },
     "execution_count": 36,
     "metadata": {},
     "output_type": "execute_result"
    }
   ],
   "source": [
    "#np.resize(batch_X[0], (3, 224, 224))"
   ]
  },
  {
   "cell_type": "code",
   "execution_count": 32,
   "id": "52bed504-bc82-4027-880f-6b25822093c5",
   "metadata": {},
   "outputs": [
    {
     "data": {
      "text/plain": [
       "(14, 88320)"
      ]
     },
     "execution_count": 32,
     "metadata": {},
     "output_type": "execute_result"
    }
   ],
   "source": [
    "#data_1d =  np.array([features_2d.flatten() for features_2d in batch_X[0]])\n",
    "#data_1d.shape"
   ]
  },
  {
   "cell_type": "code",
   "execution_count": 12,
   "id": "b80ecba6-dfdf-414b-91be-cf5657d36b7b",
   "metadata": {},
   "outputs": [],
   "source": [
    "# Define el número máximo de componentes principales que deseas mantener para todos los lotes\n",
    "#max_components = 1000  # Puedes ajustar este valor según tus necesidades\n",
    "\n",
    "X_list = []  # Lista temporal para X\n",
    "y_list = []  # Lista temporal para y\n"
   ]
  },
  {
   "cell_type": "code",
   "execution_count": 13,
   "id": "941f3995-b4f5-43a3-99b7-d6713b0386c3",
   "metadata": {},
   "outputs": [
    {
     "name": "stderr",
     "output_type": "stream",
     "text": [
      "1790it [12:28,  2.39it/s]                                                                        | 0/7 [00:00<?, ?it/s]\n",
      " 43%|████████████████████████████████████                                                | 3/7 [00:00<00:00, 10.31it/s]"
     ]
    },
    {
     "name": "stdout",
     "output_type": "stream",
     "text": [
      "[0.93671417 0.04091085 0.00962499] 0.9872500032837861\n",
      "[0.99122848 0.0057208  0.00137141] 0.9983206899065359\n",
      "[9.96179418e-01 2.58500218e-03 5.94876216e-04] 0.9993592965222077\n"
     ]
    },
    {
     "name": "stderr",
     "output_type": "stream",
     "text": [
      " 71%|████████████████████████████████████████████████████████████                        | 5/7 [00:00<00:00, 10.11it/s]"
     ]
    },
    {
     "name": "stdout",
     "output_type": "stream",
     "text": [
      "[0.9893677  0.00682304 0.00168921] 0.9978799527641999\n",
      "[0.98870566 0.00756672 0.00179064] 0.9980630194561867\n",
      "[0.98542762 0.01003678 0.00210652] 0.9975709267162112\n"
     ]
    },
    {
     "name": "stderr",
     "output_type": "stream",
     "text": [
      "9it [00:00, 10.63it/s]                                                                                                 "
     ]
    },
    {
     "name": "stdout",
     "output_type": "stream",
     "text": [
      "[0.98222987 0.01198144 0.00276819] 0.9969795013970223\n",
      "[0.97786413 0.01475846 0.00393482] 0.996557409367231\n",
      "[0.9699199  0.02022913 0.00536425] 0.9955132765916043\n"
     ]
    },
    {
     "name": "stderr",
     "output_type": "stream",
     "text": [
      "11it [00:01, 10.67it/s]"
     ]
    },
    {
     "name": "stdout",
     "output_type": "stream",
     "text": [
      "[0.97980058 0.01442961 0.00308634] 0.9973165311177812\n",
      "[0.98296675 0.01240188 0.00260539] 0.9979740240774385\n",
      "[0.9722478  0.01940107 0.00419531] 0.9958441740473808\n"
     ]
    },
    {
     "name": "stderr",
     "output_type": "stream",
     "text": [
      "15it [00:01, 10.76it/s]"
     ]
    },
    {
     "name": "stdout",
     "output_type": "stream",
     "text": [
      "[0.96575291 0.02365551 0.00628206] 0.9956904825740116\n",
      "[0.96729733 0.02275217 0.00589065] 0.9959401526464016\n",
      "[0.96039278 0.02794041 0.00734231] 0.9956754987371822\n"
     ]
    },
    {
     "name": "stderr",
     "output_type": "stream",
     "text": [
      "17it [00:01, 11.01it/s]"
     ]
    },
    {
     "name": "stdout",
     "output_type": "stream",
     "text": [
      "[0.95593997 0.03036123 0.00783824] 0.9941394390614277\n",
      "[0.97244703 0.01921536 0.00469967] 0.996362058950837\n",
      "[0.97765445 0.01540171 0.00380784] 0.9968640075404067\n"
     ]
    },
    {
     "name": "stderr",
     "output_type": "stream",
     "text": [
      "21it [00:01, 11.42it/s]"
     ]
    },
    {
     "name": "stdout",
     "output_type": "stream",
     "text": [
      "[0.97716562 0.01568699 0.00395106] 0.9968036806025399\n",
      "[0.97932573 0.014062   0.00382216] 0.9972098953671362\n",
      "[0.98221875 0.01187171 0.00309867] 0.9971891323281274\n"
     ]
    },
    {
     "name": "stderr",
     "output_type": "stream",
     "text": [
      "23it [00:02, 11.09it/s]"
     ]
    },
    {
     "name": "stdout",
     "output_type": "stream",
     "text": [
      "[0.98545899 0.00987646 0.00264981] 0.9979852556898202\n",
      "[0.98482555 0.01050227 0.00242952] 0.9977573429643003\n",
      "[0.98410298 0.01136522 0.00249161] 0.9979598067442176\n"
     ]
    },
    {
     "name": "stderr",
     "output_type": "stream",
     "text": [
      "27it [00:02, 10.57it/s]"
     ]
    },
    {
     "name": "stdout",
     "output_type": "stream",
     "text": [
      "[0.97690884 0.01605509 0.00361619] 0.9965801161009533\n",
      "[0.96811137 0.02274673 0.0054718 ] 0.9963298993900036\n",
      "[0.97037739 0.02058165 0.0051776 ] 0.996136643032712\n"
     ]
    },
    {
     "name": "stderr",
     "output_type": "stream",
     "text": [
      "29it [00:02, 10.87it/s]"
     ]
    },
    {
     "name": "stdout",
     "output_type": "stream",
     "text": [
      "[0.96053219 0.02698327 0.00758245] 0.995097918410099\n",
      "[0.95921132 0.02834006 0.00764463] 0.995196008620769\n",
      "[0.96226066 0.02665526 0.00709895] 0.996014866410949\n"
     ]
    },
    {
     "name": "stderr",
     "output_type": "stream",
     "text": [
      "33it [00:03, 10.81it/s]"
     ]
    },
    {
     "name": "stdout",
     "output_type": "stream",
     "text": [
      "[0.96473978 0.02395586 0.00685676] 0.9955523979097558\n",
      "[0.96389147 0.02494807 0.00663487] 0.9954744119009739\n",
      "[0.96182802 0.02636567 0.00699973] 0.995193424181961\n"
     ]
    },
    {
     "name": "stderr",
     "output_type": "stream",
     "text": [
      "35it [00:03, 10.93it/s]"
     ]
    },
    {
     "name": "stdout",
     "output_type": "stream",
     "text": [
      "[0.96299575 0.0259054  0.00680173] 0.9957028824505676\n",
      "[0.95264995 0.03214198 0.00829818] 0.993090106030625\n",
      "[0.97146739 0.01999475 0.00544124] 0.9969033816857176\n"
     ]
    },
    {
     "name": "stderr",
     "output_type": "stream",
     "text": [
      "39it [00:03, 11.32it/s]"
     ]
    },
    {
     "name": "stdout",
     "output_type": "stream",
     "text": [
      "[0.97315101 0.01854145 0.00490688] 0.9965993393983255\n",
      "[0.96607836 0.02347675 0.00628378] 0.9958388938145055\n",
      "[0.97023555 0.02055137 0.00515274] 0.9959396604659482\n"
     ]
    },
    {
     "name": "stderr",
     "output_type": "stream",
     "text": [
      "41it [00:03, 11.41it/s]"
     ]
    },
    {
     "name": "stdout",
     "output_type": "stream",
     "text": [
      "[0.97200479 0.01955839 0.00483158] 0.9963947676322941\n",
      "[0.96978089 0.02087772 0.00509978] 0.9957583886524433\n",
      "[0.97445254 0.01794386 0.00440213] 0.9967985303750218\n"
     ]
    },
    {
     "name": "stderr",
     "output_type": "stream",
     "text": [
      "45it [00:04, 11.85it/s]"
     ]
    },
    {
     "name": "stdout",
     "output_type": "stream",
     "text": [
      "[0.97658707 0.01619976 0.0038309 ] 0.9966177313492611\n",
      "[0.97455924 0.01750231 0.00436248] 0.9964240320570336\n",
      "[0.97670924 0.01594593 0.00394094] 0.9965961098887631\n"
     ]
    },
    {
     "name": "stderr",
     "output_type": "stream",
     "text": [
      "47it [00:04, 11.78it/s]"
     ]
    },
    {
     "name": "stdout",
     "output_type": "stream",
     "text": [
      "[0.98420818 0.01106944 0.00248883] 0.9977664552071936\n",
      "[0.98873268 0.00748815 0.00183494] 0.9980557674250714\n",
      "[0.98843133 0.0079176  0.00185188] 0.9982007961678925\n"
     ]
    },
    {
     "name": "stderr",
     "output_type": "stream",
     "text": [
      "51it [00:04, 11.80it/s]"
     ]
    },
    {
     "name": "stdout",
     "output_type": "stream",
     "text": [
      "[0.98563009 0.00982299 0.00225231] 0.9977053932895896\n",
      "[0.97244731 0.01924439 0.00458379] 0.9962754896691652\n",
      "[0.97656306 0.01644268 0.00385873] 0.9968644651274343\n"
     ]
    },
    {
     "name": "stderr",
     "output_type": "stream",
     "text": [
      "53it [00:04, 11.75it/s]"
     ]
    },
    {
     "name": "stdout",
     "output_type": "stream",
     "text": [
      "[0.97818227 0.01511818 0.0036872 ] 0.9969876392990105\n",
      "[0.97258846 0.01894677 0.00472807] 0.9962632995862701\n",
      "[0.97858466 0.01488464 0.0036337 ] 0.9971029973961273\n"
     ]
    },
    {
     "name": "stderr",
     "output_type": "stream",
     "text": [
      "57it [00:05, 12.02it/s]"
     ]
    },
    {
     "name": "stdout",
     "output_type": "stream",
     "text": [
      "[0.98193856 0.01270342 0.00298666] 0.9976286375834839\n",
      "[0.97702912 0.01562427 0.0038015 ] 0.9964548843229466\n",
      "[0.9729892  0.01898652 0.0045254 ] 0.9965011137919065\n"
     ]
    },
    {
     "name": "stderr",
     "output_type": "stream",
     "text": [
      "59it [00:05, 11.90it/s]"
     ]
    },
    {
     "name": "stdout",
     "output_type": "stream",
     "text": [
      "[0.96734168 0.02279743 0.00567288] 0.9958119934968985\n",
      "[0.95008204 0.03481519 0.00895357] 0.9938508063637372\n",
      "[0.96586319 0.0236295  0.00617401] 0.9956666968807814\n"
     ]
    },
    {
     "name": "stderr",
     "output_type": "stream",
     "text": [
      "63it [00:05, 12.10it/s]"
     ]
    },
    {
     "name": "stdout",
     "output_type": "stream",
     "text": [
      "[0.9750663  0.01669562 0.00478267] 0.9965445887437357\n",
      "[0.9743988  0.0176356  0.00449015] 0.996524554359136\n",
      "[0.97206121 0.01940475 0.00498772] 0.9964536778992353\n"
     ]
    },
    {
     "name": "stderr",
     "output_type": "stream",
     "text": [
      "65it [00:05, 11.63it/s]"
     ]
    },
    {
     "name": "stdout",
     "output_type": "stream",
     "text": [
      "[0.96841969 0.02129149 0.00600871] 0.9957198940016314\n",
      "[0.97261059 0.01912811 0.00512476] 0.9968634587697657\n",
      "[0.97070363 0.0203119  0.00525247] 0.996267989328701\n"
     ]
    },
    {
     "name": "stderr",
     "output_type": "stream",
     "text": [
      "69it [00:06, 11.86it/s]"
     ]
    },
    {
     "name": "stdout",
     "output_type": "stream",
     "text": [
      "[0.97710798 0.01572344 0.00416405] 0.9969954743314442\n",
      "[0.97824692 0.01479632 0.0040244 ] 0.9970676432728987\n",
      "[0.97734504 0.01547105 0.00419748] 0.9970135714183735\n"
     ]
    },
    {
     "name": "stderr",
     "output_type": "stream",
     "text": [
      "71it [00:06, 11.79it/s]"
     ]
    },
    {
     "name": "stdout",
     "output_type": "stream",
     "text": [
      "[0.97871603 0.0144364  0.00391733] 0.997069768013082\n",
      "[0.98136661 0.01280978 0.00338092] 0.9975573181479265\n",
      "[0.97621483 0.01626364 0.00402972] 0.9965081938676589\n"
     ]
    },
    {
     "name": "stderr",
     "output_type": "stream",
     "text": [
      "75it [00:06, 11.90it/s]"
     ]
    },
    {
     "name": "stdout",
     "output_type": "stream",
     "text": [
      "[0.9791284  0.01447393 0.00351838] 0.997120709467441\n",
      "[0.97493921 0.01766061 0.00406584] 0.9966656659492124\n",
      "[0.98202461 0.01248027 0.00302975] 0.997534630942025\n"
     ]
    },
    {
     "name": "stderr",
     "output_type": "stream",
     "text": [
      "77it [00:06, 11.82it/s]"
     ]
    },
    {
     "name": "stdout",
     "output_type": "stream",
     "text": [
      "[0.98007384 0.01384416 0.00332645] 0.9972444363577422\n",
      "[0.97185818 0.01954234 0.00486078] 0.9962613005162327\n",
      "[0.96170476 0.0268265  0.00674774] 0.9952789963681051\n"
     ]
    },
    {
     "name": "stderr",
     "output_type": "stream",
     "text": [
      "81it [00:07, 11.73it/s]"
     ]
    },
    {
     "name": "stdout",
     "output_type": "stream",
     "text": [
      "[0.96831734 0.0225234  0.00537248] 0.9962132239995681\n",
      "[0.97124595 0.02034211 0.00490172] 0.9964897865611989\n",
      "[0.96845161 0.02203392 0.0056024 ] 0.9960879287903197\n"
     ]
    },
    {
     "name": "stderr",
     "output_type": "stream",
     "text": [
      "83it [00:07, 12.03it/s]"
     ]
    },
    {
     "name": "stdout",
     "output_type": "stream",
     "text": [
      "[0.96866134 0.02172966 0.00573939] 0.9961303806643471\n",
      "[0.97467402 0.01769773 0.00434922] 0.99672096909688\n",
      "[0.9771248  0.01556545 0.00406235] 0.9967526014723661\n"
     ]
    },
    {
     "name": "stderr",
     "output_type": "stream",
     "text": [
      "87it [00:07, 11.83it/s]"
     ]
    },
    {
     "name": "stdout",
     "output_type": "stream",
     "text": [
      "[0.97316305 0.01846364 0.00475029] 0.9963769845969435\n",
      "[0.96707454 0.02300635 0.00595048] 0.9960313735311893\n",
      "[0.96422569 0.02530241 0.00661613] 0.9961442236003498\n"
     ]
    },
    {
     "name": "stderr",
     "output_type": "stream",
     "text": [
      "89it [00:07, 11.77it/s]"
     ]
    },
    {
     "name": "stdout",
     "output_type": "stream",
     "text": [
      "[0.96677313 0.02255569 0.00618645] 0.9955152700282004\n",
      "[0.97213135 0.01928649 0.00509248] 0.9965103230461579\n",
      "[0.96879936 0.02133094 0.00553987] 0.9956701727908747\n"
     ]
    },
    {
     "name": "stderr",
     "output_type": "stream",
     "text": [
      "93it [00:08, 11.93it/s]"
     ]
    },
    {
     "name": "stdout",
     "output_type": "stream",
     "text": [
      "[0.97655713 0.01617932 0.00419906] 0.9969355050638182\n",
      "[0.97833163 0.01522726 0.00377441] 0.9973333085314215\n",
      "[0.97460922 0.01770548 0.00446979] 0.9967844819122819\n"
     ]
    },
    {
     "name": "stderr",
     "output_type": "stream",
     "text": [
      "95it [00:08, 11.84it/s]"
     ]
    },
    {
     "name": "stdout",
     "output_type": "stream",
     "text": [
      "[0.97729729 0.01585468 0.0040873 ] 0.9972392714168385\n",
      "[0.97671958 0.01620912 0.00404433] 0.9969730272548285\n",
      "[0.97307775 0.0187024  0.00483574] 0.996615885262548\n"
     ]
    },
    {
     "name": "stderr",
     "output_type": "stream",
     "text": [
      "99it [00:08, 11.73it/s]"
     ]
    },
    {
     "name": "stdout",
     "output_type": "stream",
     "text": [
      "[0.9784138  0.01510539 0.00372412] 0.9972433114615348\n",
      "[0.98295006 0.01161566 0.00288788] 0.9974536060337503\n",
      "[0.98307109 0.01156253 0.00287724] 0.9975108583509141\n"
     ]
    },
    {
     "name": "stderr",
     "output_type": "stream",
     "text": [
      "101it [00:08, 12.03it/s]"
     ]
    },
    {
     "name": "stdout",
     "output_type": "stream",
     "text": [
      "[0.98269537 0.01177904 0.00302562] 0.9975000330380366\n",
      "[0.97849108 0.01490914 0.00378089] 0.9971811079488678\n",
      "[0.97287035 0.01892925 0.00477735] 0.9965769417314341\n"
     ]
    },
    {
     "name": "stderr",
     "output_type": "stream",
     "text": [
      "105it [00:09, 11.83it/s]"
     ]
    },
    {
     "name": "stdout",
     "output_type": "stream",
     "text": [
      "[0.97451327 0.01747667 0.0046279 ] 0.9966178293109093\n",
      "[0.97812523 0.01524267 0.00386202] 0.9972299165484568\n",
      "[0.98040377 0.01366889 0.00344349] 0.997516155790318\n"
     ]
    },
    {
     "name": "stderr",
     "output_type": "stream",
     "text": [
      "107it [00:09, 12.11it/s]"
     ]
    },
    {
     "name": "stdout",
     "output_type": "stream",
     "text": [
      "[0.98146005 0.01274952 0.0032154 ] 0.9974249716876202\n",
      "[0.98292343 0.01195598 0.00293837] 0.9978177864185038\n",
      "[0.98188692 0.01250258 0.00309235] 0.9974818483673399\n"
     ]
    },
    {
     "name": "stderr",
     "output_type": "stream",
     "text": [
      "111it [00:09, 11.86it/s]"
     ]
    },
    {
     "name": "stdout",
     "output_type": "stream",
     "text": [
      "[0.98269592 0.01242999 0.0028526 ] 0.9979785173956215\n",
      "[0.97994059 0.01389702 0.00341902] 0.9972566221956459\n",
      "[0.98277523 0.01206893 0.00293471] 0.9977788659018922\n"
     ]
    },
    {
     "name": "stderr",
     "output_type": "stream",
     "text": [
      "113it [00:09, 12.13it/s]"
     ]
    },
    {
     "name": "stdout",
     "output_type": "stream",
     "text": [
      "[0.9779924  0.01540084 0.00382606] 0.9972192980810175\n",
      "[0.97327191 0.01833635 0.00473524] 0.9963434987998956\n",
      "[0.97938104 0.01323888 0.00334333] 0.9959632587337259\n"
     ]
    },
    {
     "name": "stderr",
     "output_type": "stream",
     "text": [
      "117it [00:10, 11.87it/s]"
     ]
    },
    {
     "name": "stdout",
     "output_type": "stream",
     "text": [
      "[0.9914816  0.00588991 0.0013013 ] 0.9986728106023085\n",
      "[0.99000838 0.00661731 0.00164131] 0.9982669957211069\n",
      "[0.98372101 0.01120512 0.00252456] 0.9974506834186039\n"
     ]
    },
    {
     "name": "stderr",
     "output_type": "stream",
     "text": [
      "119it [00:10, 12.14it/s]"
     ]
    },
    {
     "name": "stdout",
     "output_type": "stream",
     "text": [
      "[0.98556487 0.00991046 0.00241635] 0.9978916795173843\n",
      "[0.98524964 0.01013287 0.00247336] 0.9978558649650096\n",
      "[0.98434652 0.01089154 0.00274092] 0.9979789704316392\n"
     ]
    },
    {
     "name": "stderr",
     "output_type": "stream",
     "text": [
      "123it [00:10, 11.88it/s]"
     ]
    },
    {
     "name": "stdout",
     "output_type": "stream",
     "text": [
      "[0.98401861 0.01092541 0.00281963] 0.997763646560294\n",
      "[0.9826673  0.01166639 0.00329055] 0.9976242289638871\n",
      "[0.97538551 0.01650798 0.00460075] 0.9964942394995282\n"
     ]
    },
    {
     "name": "stderr",
     "output_type": "stream",
     "text": [
      "125it [00:10, 11.81it/s]"
     ]
    },
    {
     "name": "stdout",
     "output_type": "stream",
     "text": [
      "[0.98632372 0.00911002 0.00250844] 0.997942178556325\n",
      "[0.98943134 0.00720927 0.00194275] 0.9985833598580289\n",
      "[0.98075728 0.01283913 0.00314385] 0.9967402551737731\n"
     ]
    },
    {
     "name": "stderr",
     "output_type": "stream",
     "text": [
      "129it [00:11, 11.95it/s]"
     ]
    },
    {
     "name": "stdout",
     "output_type": "stream",
     "text": [
      "[0.97864827 0.01442229 0.00363119] 0.9967017505210559\n",
      "[0.98229721 0.01213255 0.00325923] 0.9976889824487074\n",
      "[0.9854141  0.00998592 0.00255736] 0.9979573804467116\n"
     ]
    },
    {
     "name": "stderr",
     "output_type": "stream",
     "text": [
      "131it [00:11, 11.86it/s]"
     ]
    },
    {
     "name": "stdout",
     "output_type": "stream",
     "text": [
      "[0.987027   0.00858005 0.00185635] 0.9974633989550026\n",
      "[9.92598038e-01 5.27329518e-03 9.32489838e-04] 0.998803823213657\n",
      "[9.92499882e-01 5.32622177e-03 9.03201155e-04] 0.9987293049844994\n"
     ]
    },
    {
     "name": "stderr",
     "output_type": "stream",
     "text": [
      "135it [00:11, 11.98it/s]"
     ]
    },
    {
     "name": "stdout",
     "output_type": "stream",
     "text": [
      "[9.94542869e-01 3.56333592e-03 8.66277268e-04] 0.9989724819468109\n",
      "[9.95503473e-01 3.06760480e-03 6.29914857e-04] 0.9992009927130124\n",
      "[0.9907493  0.00595421 0.00147225] 0.9981757654591974\n"
     ]
    },
    {
     "name": "stderr",
     "output_type": "stream",
     "text": [
      "137it [00:11, 11.87it/s]"
     ]
    },
    {
     "name": "stdout",
     "output_type": "stream",
     "text": [
      "[0.99229717 0.00514488 0.00120272] 0.9986447723785783\n",
      "[0.99031798 0.00627024 0.00164751] 0.9982357318183864\n",
      "[0.98685198 0.00888513 0.0021866 ] 0.9979237103846085\n"
     ]
    },
    {
     "name": "stderr",
     "output_type": "stream",
     "text": [
      "141it [00:12, 11.98it/s]"
     ]
    },
    {
     "name": "stdout",
     "output_type": "stream",
     "text": [
      "[0.97115209 0.02016205 0.00495526] 0.9962694023953171\n",
      "[0.97543841 0.01751239 0.00391855] 0.9968693450444707\n",
      "[0.97732755 0.01598124 0.00363757] 0.9969463602886767\n"
     ]
    },
    {
     "name": "stderr",
     "output_type": "stream",
     "text": [
      "143it [00:12, 11.88it/s]"
     ]
    },
    {
     "name": "stdout",
     "output_type": "stream",
     "text": [
      "[0.97500377 0.01746456 0.00387734] 0.9963456685609828\n",
      "[0.97611113 0.01656006 0.00402109] 0.9966922801968545\n",
      "[0.97332566 0.01882474 0.00438382] 0.9965342226248546\n"
     ]
    },
    {
     "name": "stderr",
     "output_type": "stream",
     "text": [
      "147it [00:12, 11.58it/s]"
     ]
    },
    {
     "name": "stdout",
     "output_type": "stream",
     "text": [
      "[0.96986972 0.02164226 0.00504299] 0.9965549729143529\n",
      "[0.95999045 0.0284059  0.00688777] 0.9952841228249246\n",
      "[0.95901791 0.02959754 0.00696857] 0.9955840169722132\n"
     ]
    },
    {
     "name": "stderr",
     "output_type": "stream",
     "text": [
      "149it [00:12, 11.53it/s]"
     ]
    },
    {
     "name": "stdout",
     "output_type": "stream",
     "text": [
      "[0.9558307  0.03096401 0.00783369] 0.9946283955262701\n",
      "[0.95763445 0.02963152 0.00762029] 0.9948862610367367\n",
      "[0.95707264 0.02959011 0.00748075] 0.9941435040908179\n"
     ]
    },
    {
     "name": "stderr",
     "output_type": "stream",
     "text": [
      "153it [00:13, 11.79it/s]"
     ]
    },
    {
     "name": "stdout",
     "output_type": "stream",
     "text": [
      "[0.95989477 0.02771731 0.00675109] 0.9943631721968343\n",
      "[0.9793026  0.01451616 0.00345768] 0.9972764486571155\n",
      "[0.97779469 0.01555692 0.00371845] 0.99707006008241\n"
     ]
    },
    {
     "name": "stderr",
     "output_type": "stream",
     "text": [
      "155it [00:13, 11.59it/s]"
     ]
    },
    {
     "name": "stdout",
     "output_type": "stream",
     "text": [
      "[0.97878306 0.01473381 0.00355655] 0.9970734231450494\n",
      "[0.98578944 0.01000679 0.00226626] 0.9980624873812083\n",
      "[0.98635581 0.00943562 0.00214295] 0.9979343832678816\n"
     ]
    },
    {
     "name": "stderr",
     "output_type": "stream",
     "text": [
      "159it [00:13, 11.25it/s]"
     ]
    },
    {
     "name": "stdout",
     "output_type": "stream",
     "text": [
      "[0.98268481 0.01199259 0.00272344] 0.997400847532619\n",
      "[0.98826821 0.00781561 0.00177934] 0.9978631630769657\n",
      "[0.9921604  0.00525759 0.00117621] 0.9985941965547097\n"
     ]
    },
    {
     "name": "stderr",
     "output_type": "stream",
     "text": [
      "161it [00:13, 10.96it/s]"
     ]
    },
    {
     "name": "stdout",
     "output_type": "stream",
     "text": [
      "[0.99050777 0.00638053 0.00148229] 0.9983705871595753\n",
      "[0.98559895 0.00981481 0.00247259] 0.9978863492937352\n",
      "[0.97485493 0.01751355 0.00436939] 0.9967378689493042\n"
     ]
    },
    {
     "name": "stderr",
     "output_type": "stream",
     "text": [
      "165it [00:14, 11.30it/s]"
     ]
    },
    {
     "name": "stdout",
     "output_type": "stream",
     "text": [
      "[0.97388959 0.0182199  0.00453277] 0.9966422489052361\n",
      "[0.97682546 0.01616865 0.00396736] 0.9969614777072433\n",
      "[0.97308367 0.0188219  0.00434165] 0.9962472115842325\n"
     ]
    },
    {
     "name": "stderr",
     "output_type": "stream",
     "text": [
      "167it [00:14, 11.52it/s]"
     ]
    },
    {
     "name": "stdout",
     "output_type": "stream",
     "text": [
      "[0.96593538 0.02371281 0.00558596] 0.9952341515506613\n",
      "[0.98708067 0.00868229 0.00200019] 0.9977631471487545\n",
      "[0.98917092 0.00732434 0.00193803] 0.9984332784998934\n"
     ]
    },
    {
     "name": "stderr",
     "output_type": "stream",
     "text": [
      "171it [00:14, 11.51it/s]"
     ]
    },
    {
     "name": "stdout",
     "output_type": "stream",
     "text": [
      "[0.98721991 0.00857683 0.00200356] 0.997800298008584\n",
      "[0.97977641 0.01412705 0.00336508] 0.997268543388222\n",
      "[0.97109017 0.02005479 0.0050273 ] 0.9961722617610452\n"
     ]
    },
    {
     "name": "stderr",
     "output_type": "stream",
     "text": [
      "173it [00:14, 11.23it/s]"
     ]
    },
    {
     "name": "stdout",
     "output_type": "stream",
     "text": [
      "[0.97109049 0.02009614 0.00506532] 0.9962519427979912\n",
      "[0.9730116  0.01889179 0.00479971] 0.9967030928636363\n",
      "[0.96661176 0.02319704 0.00584768] 0.9956564716934008\n"
     ]
    },
    {
     "name": "stderr",
     "output_type": "stream",
     "text": [
      "177it [00:15, 10.82it/s]"
     ]
    },
    {
     "name": "stdout",
     "output_type": "stream",
     "text": [
      "[0.966667   0.02387951 0.00549747] 0.9960439769971899\n",
      "[0.97060852 0.02129236 0.00478304] 0.9966839233598321\n",
      "[0.97963773 0.01373912 0.00336329] 0.9967401406073992\n"
     ]
    },
    {
     "name": "stderr",
     "output_type": "stream",
     "text": [
      "179it [00:15, 11.12it/s]"
     ]
    },
    {
     "name": "stdout",
     "output_type": "stream",
     "text": [
      "[0.98226589 0.0121632  0.00289378] 0.9973228686708662\n",
      "[0.98377099 0.01094543 0.00266197] 0.9973783853579913\n",
      "[0.98276586 0.01190738 0.0029179 ] 0.9975911396483068\n"
     ]
    },
    {
     "name": "stderr",
     "output_type": "stream",
     "text": [
      "183it [00:15, 11.36it/s]"
     ]
    },
    {
     "name": "stdout",
     "output_type": "stream",
     "text": [
      "[0.98156208 0.0125415  0.00322555] 0.9973291212941674\n",
      "[0.98004848 0.01363445 0.00354257] 0.9972255084227756\n",
      "[0.97978014 0.01397024 0.0036087 ] 0.9973590900393161\n"
     ]
    },
    {
     "name": "stderr",
     "output_type": "stream",
     "text": [
      "185it [00:16, 11.41it/s]"
     ]
    },
    {
     "name": "stdout",
     "output_type": "stream",
     "text": [
      "[0.97680608 0.01623062 0.00391214] 0.9969488405247496\n",
      "[0.97110691 0.01998896 0.005139  ] 0.9962348687177905\n",
      "[0.96910509 0.02154627 0.00530262] 0.995953978501788\n"
     ]
    },
    {
     "name": "stderr",
     "output_type": "stream",
     "text": [
      "189it [00:16, 11.57it/s]"
     ]
    },
    {
     "name": "stdout",
     "output_type": "stream",
     "text": [
      "[0.96861202 0.0219938  0.00514992] 0.995755741504303\n",
      "[0.97489245 0.01804798 0.00406465] 0.9970050802686858\n",
      "[0.97366672 0.01858096 0.00421372] 0.9964614019215381\n"
     ]
    },
    {
     "name": "stderr",
     "output_type": "stream",
     "text": [
      "191it [00:16, 11.02it/s]"
     ]
    },
    {
     "name": "stdout",
     "output_type": "stream",
     "text": [
      "[0.97868973 0.01527208 0.00344938] 0.9974111967647067\n",
      "[0.97935152 0.01460416 0.00330196] 0.9972576312504583\n",
      "[0.97814575 0.01520995 0.0035926 ] 0.9969483023062834\n"
     ]
    },
    {
     "name": "stderr",
     "output_type": "stream",
     "text": [
      "195it [00:16, 11.29it/s]"
     ]
    },
    {
     "name": "stdout",
     "output_type": "stream",
     "text": [
      "[0.97067485 0.02079382 0.00488862] 0.996357287361537\n",
      "[0.97743088 0.01584434 0.0039067 ] 0.9971819150679806\n",
      "[0.98045315 0.01368523 0.00335811] 0.9974964956617343\n"
     ]
    },
    {
     "name": "stderr",
     "output_type": "stream",
     "text": [
      "197it [00:17, 11.17it/s]"
     ]
    },
    {
     "name": "stdout",
     "output_type": "stream",
     "text": [
      "[0.97863493 0.01522893 0.00356968] 0.9974335309052703\n",
      "[0.97749462 0.01610519 0.0037649 ] 0.9973647113132792\n",
      "[0.9769842  0.01644438 0.00375615] 0.9971847285746368\n"
     ]
    },
    {
     "name": "stderr",
     "output_type": "stream",
     "text": [
      "201it [00:17, 11.26it/s]"
     ]
    },
    {
     "name": "stdout",
     "output_type": "stream",
     "text": [
      "[0.97433441 0.01794849 0.00427797] 0.9965608713350919\n",
      "[0.97822396 0.01541704 0.00352469] 0.9971656899606363\n",
      "[0.97402381 0.01869627 0.00425791] 0.9969779997147957\n"
     ]
    },
    {
     "name": "stderr",
     "output_type": "stream",
     "text": [
      "203it [00:17, 11.46it/s]"
     ]
    },
    {
     "name": "stdout",
     "output_type": "stream",
     "text": [
      "[0.97010774 0.02160492 0.00488015] 0.996592809483251\n",
      "[0.96701604 0.02352401 0.00555455] 0.996094599048946\n",
      "[0.96686    0.02379956 0.00533808] 0.9959976446814178\n"
     ]
    },
    {
     "name": "stderr",
     "output_type": "stream",
     "text": [
      "207it [00:17, 11.50it/s]"
     ]
    },
    {
     "name": "stdout",
     "output_type": "stream",
     "text": [
      "[0.96666035 0.02389754 0.00533173] 0.9958896222477506\n",
      "[0.96849156 0.0224854  0.00506828] 0.9960452383110509\n",
      "[0.9665175  0.02403933 0.00538739] 0.9959442213785034\n"
     ]
    },
    {
     "name": "stderr",
     "output_type": "stream",
     "text": [
      "209it [00:18, 11.31it/s]"
     ]
    },
    {
     "name": "stdout",
     "output_type": "stream",
     "text": [
      "[0.96989493 0.02147985 0.00491305] 0.9962878278600903\n",
      "[0.97317845 0.01912027 0.00428469] 0.9965834201841981\n",
      "[0.97296258 0.01910233 0.00446718] 0.9965320916031917\n"
     ]
    },
    {
     "name": "stderr",
     "output_type": "stream",
     "text": [
      "213it [00:18, 11.41it/s]"
     ]
    },
    {
     "name": "stdout",
     "output_type": "stream",
     "text": [
      "[0.97162555 0.02008781 0.00446207] 0.9961754293489773\n",
      "[0.9774539  0.01646037 0.0034071 ] 0.9973213767067054\n",
      "[0.97347534 0.01890405 0.00408806] 0.9964674539285728\n"
     ]
    },
    {
     "name": "stderr",
     "output_type": "stream",
     "text": [
      "215it [00:18, 11.25it/s]"
     ]
    },
    {
     "name": "stdout",
     "output_type": "stream",
     "text": [
      "[0.96788755 0.02191445 0.00533903] 0.9951410294491456\n",
      "[0.97354967 0.01842565 0.00445949] 0.996434813426238\n",
      "[0.97383866 0.01822631 0.00437318] 0.9964381511435155\n"
     ]
    },
    {
     "name": "stderr",
     "output_type": "stream",
     "text": [
      "219it [00:19, 11.63it/s]"
     ]
    },
    {
     "name": "stdout",
     "output_type": "stream",
     "text": [
      "[0.97309756 0.01896751 0.00420833] 0.9962733985648824\n",
      "[0.97275604 0.01991082 0.00398917] 0.9966560257531205\n",
      "[0.97202059 0.01995484 0.00428993] 0.9962653586857975\n"
     ]
    },
    {
     "name": "stderr",
     "output_type": "stream",
     "text": [
      "221it [00:19, 11.36it/s]"
     ]
    },
    {
     "name": "stdout",
     "output_type": "stream",
     "text": [
      "[0.97884801 0.01561848 0.00315877] 0.9976252596187936\n",
      "[0.97842135 0.01563895 0.00333741] 0.9973977125387649\n",
      "[0.97440131 0.01833121 0.00397009] 0.9967026119504331\n"
     ]
    },
    {
     "name": "stderr",
     "output_type": "stream",
     "text": [
      "225it [00:19, 11.88it/s]"
     ]
    },
    {
     "name": "stdout",
     "output_type": "stream",
     "text": [
      "[0.97166656 0.02026162 0.00440497] 0.9963331460821201\n",
      "[0.97593181 0.01735519 0.0037974 ] 0.997084401239069\n",
      "[0.97655728 0.01687642 0.00367648] 0.9971101783781163\n"
     ]
    },
    {
     "name": "stderr",
     "output_type": "stream",
     "text": [
      "227it [00:19, 11.92it/s]"
     ]
    },
    {
     "name": "stdout",
     "output_type": "stream",
     "text": [
      "[0.97590074 0.01714754 0.00374519] 0.9967934758382602\n",
      "[0.97858041 0.01505923 0.00339949] 0.997039128982224\n",
      "[0.97611111 0.01692178 0.00369302] 0.9967259049806029\n"
     ]
    },
    {
     "name": "stderr",
     "output_type": "stream",
     "text": [
      "231it [00:20, 11.81it/s]"
     ]
    },
    {
     "name": "stdout",
     "output_type": "stream",
     "text": [
      "[0.97256469 0.01945901 0.00426492] 0.9962886222335287\n",
      "[0.97594064 0.01727316 0.00376669] 0.9969804872756461\n",
      "[0.97485421 0.01822578 0.00383211] 0.9969121042256573\n"
     ]
    },
    {
     "name": "stderr",
     "output_type": "stream",
     "text": [
      "233it [00:20, 11.63it/s]"
     ]
    },
    {
     "name": "stdout",
     "output_type": "stream",
     "text": [
      "[0.97548768 0.0178615  0.00366881] 0.9970179926293153\n",
      "[0.97479982 0.01819023 0.00381636] 0.9968064152136861\n",
      "[0.98162071 0.01318836 0.00283863] 0.9976477042354165\n"
     ]
    },
    {
     "name": "stderr",
     "output_type": "stream",
     "text": [
      "237it [00:20, 11.78it/s]"
     ]
    },
    {
     "name": "stdout",
     "output_type": "stream",
     "text": [
      "[0.98328965 0.01200214 0.00257066] 0.9978624517368312\n",
      "[0.97598186 0.01696313 0.00369681] 0.9966417932062389\n",
      "[0.97484848 0.01782147 0.00392071] 0.9965906641088399\n"
     ]
    },
    {
     "name": "stderr",
     "output_type": "stream",
     "text": [
      "239it [00:20, 11.81it/s]"
     ]
    },
    {
     "name": "stdout",
     "output_type": "stream",
     "text": [
      "[0.97894447 0.01518383 0.00327528] 0.9974035717808536\n",
      "[0.97709961 0.01635448 0.00365623] 0.9971103247747475\n",
      "[0.97522864 0.01789247 0.00371167] 0.9968327712327413\n"
     ]
    },
    {
     "name": "stderr",
     "output_type": "stream",
     "text": [
      "243it [00:21, 11.06it/s]"
     ]
    },
    {
     "name": "stdout",
     "output_type": "stream",
     "text": [
      "[0.97391053 0.01890727 0.00389838] 0.996716184466353\n",
      "[0.97229108 0.01959614 0.00418106] 0.9960682864937551\n",
      "[0.97235347 0.01934752 0.00428338] 0.9959843672651711\n"
     ]
    },
    {
     "name": "stderr",
     "output_type": "stream",
     "text": [
      "245it [00:21, 11.24it/s]"
     ]
    },
    {
     "name": "stdout",
     "output_type": "stream",
     "text": [
      "[0.97103678 0.02084841 0.0042827 ] 0.9961678887006776\n",
      "[0.97630963 0.01721537 0.00342915] 0.996954142742189\n",
      "[0.97710997 0.01587053 0.00351384] 0.9964943485815703\n"
     ]
    },
    {
     "name": "stderr",
     "output_type": "stream",
     "text": [
      "249it [00:21, 11.17it/s]"
     ]
    },
    {
     "name": "stdout",
     "output_type": "stream",
     "text": [
      "[0.97837543 0.01495222 0.00325661] 0.9965842541107075\n",
      "[0.97952297 0.01466295 0.00301679] 0.9972026976217618\n",
      "[0.97717867 0.0158979  0.00370773] 0.996784301099465\n"
     ]
    },
    {
     "name": "stderr",
     "output_type": "stream",
     "text": [
      "251it [00:21, 11.43it/s]"
     ]
    },
    {
     "name": "stdout",
     "output_type": "stream",
     "text": [
      "[0.97629804 0.01677396 0.0037716 ] 0.9968435894130021\n",
      "[0.97664416 0.01663787 0.00361511] 0.9968971347962201\n",
      "[0.97675698 0.01619413 0.00377656] 0.9967276803310146\n"
     ]
    },
    {
     "name": "stderr",
     "output_type": "stream",
     "text": [
      "255it [00:22, 11.62it/s]"
     ]
    },
    {
     "name": "stdout",
     "output_type": "stream",
     "text": [
      "[0.97877444 0.0151483  0.00337839] 0.9973011279165638\n",
      "[0.97941858 0.01446396 0.003284  ] 0.9971665513994247\n",
      "[0.98522221 0.01001269 0.00238146] 0.9976163518457232\n"
     ]
    },
    {
     "name": "stderr",
     "output_type": "stream",
     "text": [
      "257it [00:22, 11.48it/s]"
     ]
    },
    {
     "name": "stdout",
     "output_type": "stream",
     "text": [
      "[0.98671641 0.009062   0.00220452] 0.9979829288495137\n",
      "[0.98261637 0.01174269 0.00276603] 0.9971250883481467\n",
      "[0.97784232 0.01584909 0.00349802] 0.9971894325519213\n"
     ]
    },
    {
     "name": "stderr",
     "output_type": "stream",
     "text": [
      "261it [00:22, 11.20it/s]"
     ]
    },
    {
     "name": "stdout",
     "output_type": "stream",
     "text": [
      "[0.97317638 0.01851944 0.00427149] 0.9959673116513881\n",
      "[0.97649978 0.01667175 0.00372971] 0.9969012382135324\n",
      "[0.97720197 0.01630435 0.00354793] 0.9970542423683257\n"
     ]
    },
    {
     "name": "stderr",
     "output_type": "stream",
     "text": [
      "263it [00:22, 11.07it/s]"
     ]
    },
    {
     "name": "stdout",
     "output_type": "stream",
     "text": [
      "[0.97399417 0.01826475 0.00418622] 0.9964451413629075\n",
      "[0.9737945  0.01845752 0.00429301] 0.9965450288139103\n",
      "[0.9730947  0.01884978 0.00444873] 0.9963932149749395\n"
     ]
    },
    {
     "name": "stderr",
     "output_type": "stream",
     "text": [
      "267it [00:23, 11.17it/s]"
     ]
    },
    {
     "name": "stdout",
     "output_type": "stream",
     "text": [
      "[0.96962819 0.02109162 0.00512161] 0.9958414272527216\n",
      "[0.97097339 0.01996622 0.00489268] 0.9958322867461086\n",
      "[0.98028676 0.01383723 0.00325978] 0.9973837634719199\n"
     ]
    },
    {
     "name": "stderr",
     "output_type": "stream",
     "text": [
      "269it [00:23, 11.46it/s]"
     ]
    },
    {
     "name": "stdout",
     "output_type": "stream",
     "text": [
      "[0.98000875 0.01387573 0.00321391] 0.9970983839333902\n",
      "[0.98185898 0.01254228 0.00306065] 0.9974619025168927\n",
      "[0.97998374 0.01377417 0.00326225] 0.9970201625749551\n"
     ]
    },
    {
     "name": "stderr",
     "output_type": "stream",
     "text": [
      "273it [00:23, 11.66it/s]"
     ]
    },
    {
     "name": "stdout",
     "output_type": "stream",
     "text": [
      "[0.98036856 0.01373874 0.00321415] 0.9973214452663133\n",
      "[0.97897265 0.01482074 0.00349549] 0.9972888850439857\n",
      "[0.97300404 0.01913786 0.0044224 ] 0.9965643101060547\n"
     ]
    },
    {
     "name": "stderr",
     "output_type": "stream",
     "text": [
      "275it [00:23, 11.58it/s]"
     ]
    },
    {
     "name": "stdout",
     "output_type": "stream",
     "text": [
      "[0.97362663 0.01889563 0.00412752] 0.9966497818218217\n",
      "[0.97406905 0.01914082 0.00400937] 0.9972192403263171\n",
      "[0.97413054 0.01819784 0.00414906] 0.996477450554635\n"
     ]
    },
    {
     "name": "stderr",
     "output_type": "stream",
     "text": [
      "279it [00:24, 11.46it/s]"
     ]
    },
    {
     "name": "stdout",
     "output_type": "stream",
     "text": [
      "[0.97900083 0.0151074  0.003392  ] 0.9975002264632162\n",
      "[0.97478507 0.01795859 0.00398289] 0.9967265448602599\n",
      "[0.97311566 0.01875582 0.00430223] 0.9961737076935724\n"
     ]
    },
    {
     "name": "stderr",
     "output_type": "stream",
     "text": [
      "281it [00:24, 11.29it/s]"
     ]
    },
    {
     "name": "stdout",
     "output_type": "stream",
     "text": [
      "[0.97711017 0.01594442 0.00360627] 0.9966608572058443\n",
      "[0.97608285 0.01655463 0.00383759] 0.99647506253814\n",
      "[0.97284265 0.01905394 0.00441172] 0.9963083141452429\n"
     ]
    },
    {
     "name": "stderr",
     "output_type": "stream",
     "text": [
      "285it [00:24, 11.42it/s]"
     ]
    },
    {
     "name": "stdout",
     "output_type": "stream",
     "text": [
      "[0.96870204 0.02168206 0.00529825] 0.9956823531158342\n",
      "[0.96964942 0.02134572 0.00511344] 0.9961085866207501\n",
      "[0.97178619 0.01992411 0.00467617] 0.9963864710496143\n"
     ]
    },
    {
     "name": "stderr",
     "output_type": "stream",
     "text": [
      "287it [00:24, 11.58it/s]"
     ]
    },
    {
     "name": "stdout",
     "output_type": "stream",
     "text": [
      "[0.9739806  0.01822618 0.00438778] 0.9965945547544244\n",
      "[0.96962841 0.02156101 0.00502927] 0.996218682139143\n",
      "[0.96443634 0.02418525 0.00592762] 0.9945492094924261\n"
     ]
    },
    {
     "name": "stderr",
     "output_type": "stream",
     "text": [
      "291it [00:25, 11.70it/s]"
     ]
    },
    {
     "name": "stdout",
     "output_type": "stream",
     "text": [
      "[0.97403229 0.01834458 0.00418948] 0.9965663549049587\n",
      "[0.97371785 0.01883995 0.00411123] 0.996669032312517\n",
      "[0.96511381 0.02458795 0.00561173] 0.9953134881979183\n"
     ]
    },
    {
     "name": "stderr",
     "output_type": "stream",
     "text": [
      "293it [00:25, 11.68it/s]"
     ]
    },
    {
     "name": "stdout",
     "output_type": "stream",
     "text": [
      "[0.97197458 0.01987312 0.00455019] 0.9963978974617229\n",
      "[0.97260194 0.0194817  0.00446481] 0.9965484494159131\n",
      "[0.97314578 0.01882338 0.00467449] 0.9966436412702033\n"
     ]
    },
    {
     "name": "stderr",
     "output_type": "stream",
     "text": [
      "297it [00:25, 11.73it/s]"
     ]
    },
    {
     "name": "stdout",
     "output_type": "stream",
     "text": [
      "[0.97437683 0.01835959 0.004299  ] 0.9970354165198152\n",
      "[0.97586476 0.01660462 0.00399548] 0.9964648570329062\n",
      "[0.98240009 0.01203993 0.00288786] 0.9973278799586243\n"
     ]
    },
    {
     "name": "stderr",
     "output_type": "stream",
     "text": [
      "299it [00:25, 11.67it/s]"
     ]
    },
    {
     "name": "stdout",
     "output_type": "stream",
     "text": [
      "[0.98561679 0.00992309 0.00236444] 0.9979043234567802\n",
      "[0.99203773 0.00507661 0.00123994] 0.9983542853531062\n",
      "[0.98082237 0.01254978 0.00288504] 0.9962571932505879\n"
     ]
    },
    {
     "name": "stderr",
     "output_type": "stream",
     "text": [
      "303it [00:26, 11.80it/s]"
     ]
    },
    {
     "name": "stdout",
     "output_type": "stream",
     "text": [
      "[0.98058125 0.01308382 0.00292062] 0.9965856896333493\n",
      "[0.98532949 0.01031076 0.00208318] 0.9977234264325424\n",
      "[0.98789504 0.00816906 0.0018537 ] 0.9979177955359975\n"
     ]
    },
    {
     "name": "stderr",
     "output_type": "stream",
     "text": [
      "305it [00:26, 11.73it/s]"
     ]
    },
    {
     "name": "stdout",
     "output_type": "stream",
     "text": [
      "[0.98996743 0.00665379 0.00154161] 0.9981628306136257\n",
      "[0.98990698 0.00688235 0.001449  ] 0.9982383295304286\n",
      "[0.98100347 0.01271189 0.00301156] 0.9967269270034187\n"
     ]
    },
    {
     "name": "stderr",
     "output_type": "stream",
     "text": [
      "309it [00:26, 11.50it/s]"
     ]
    },
    {
     "name": "stdout",
     "output_type": "stream",
     "text": [
      "[0.98558647 0.00991373 0.00229593] 0.9977961318857166\n",
      "[0.98963652 0.00724656 0.00153823] 0.9984213187873279\n",
      "[0.98986342 0.00675466 0.00158995] 0.9982080325166756\n"
     ]
    },
    {
     "name": "stderr",
     "output_type": "stream",
     "text": [
      "311it [00:27, 11.67it/s]"
     ]
    },
    {
     "name": "stdout",
     "output_type": "stream",
     "text": [
      "[0.98803798 0.00784496 0.00197155] 0.9978544828978932\n",
      "[0.9871529  0.0083811  0.00213948] 0.9976734774714744\n",
      "[0.98466932 0.00993604 0.00238329] 0.9969886431401724\n"
     ]
    },
    {
     "name": "stderr",
     "output_type": "stream",
     "text": [
      "315it [00:27, 11.56it/s]"
     ]
    },
    {
     "name": "stdout",
     "output_type": "stream",
     "text": [
      "[0.9922777  0.00520214 0.0011207 ] 0.9986005481629765\n",
      "[0.98967204 0.0069554  0.00144221] 0.998069639551957\n",
      "[0.98333755 0.01166316 0.00238946] 0.9973901672031978\n"
     ]
    },
    {
     "name": "stderr",
     "output_type": "stream",
     "text": [
      "317it [00:27, 11.63it/s]"
     ]
    },
    {
     "name": "stdout",
     "output_type": "stream",
     "text": [
      "[0.98089115 0.01298647 0.00291987] 0.9967974889588764\n",
      "[0.98545031 0.00999051 0.00230352] 0.9977443380173482\n",
      "[0.98773126 0.00855315 0.00189141] 0.9981758239665384\n"
     ]
    },
    {
     "name": "stderr",
     "output_type": "stream",
     "text": [
      "321it [00:27, 11.58it/s]"
     ]
    },
    {
     "name": "stdout",
     "output_type": "stream",
     "text": [
      "[0.98752805 0.00842297 0.00201217] 0.9979631955810255\n",
      "[0.98661735 0.00898605 0.0021387 ] 0.9977421074610175\n",
      "[0.98880461 0.00764516 0.0015829 ] 0.9980326677742458\n"
     ]
    },
    {
     "name": "stderr",
     "output_type": "stream",
     "text": [
      "323it [00:28, 11.72it/s]"
     ]
    },
    {
     "name": "stdout",
     "output_type": "stream",
     "text": [
      "[0.9901238  0.00670718 0.0013187 ] 0.9981496747743968\n",
      "[0.99053746 0.00663645 0.00122345] 0.9983973508470807\n",
      "[0.98664688 0.00899035 0.00192619] 0.9975634180888366\n"
     ]
    },
    {
     "name": "stderr",
     "output_type": "stream",
     "text": [
      "327it [00:28, 11.46it/s]"
     ]
    },
    {
     "name": "stdout",
     "output_type": "stream",
     "text": [
      "[0.98582837 0.0095031  0.00215578] 0.9974872555935941\n",
      "[0.98554352 0.00977926 0.00224284] 0.9975656230056537\n",
      "[0.98486811 0.0099244  0.00248912] 0.9972816331816854\n"
     ]
    },
    {
     "name": "stderr",
     "output_type": "stream",
     "text": [
      "329it [00:28, 11.84it/s]"
     ]
    },
    {
     "name": "stdout",
     "output_type": "stream",
     "text": [
      "[0.98576929 0.0095601  0.0022886 ] 0.9976179850302547\n",
      "[0.98634487 0.00904961 0.00222678] 0.9976212542781036\n",
      "[0.98484072 0.00995349 0.0025801 ] 0.9973743065459104\n"
     ]
    },
    {
     "name": "stderr",
     "output_type": "stream",
     "text": [
      "333it [00:28, 11.40it/s]"
     ]
    },
    {
     "name": "stdout",
     "output_type": "stream",
     "text": [
      "[0.9870119  0.00866784 0.00218819] 0.9978679340300263\n",
      "[0.98698122 0.00870013 0.00217899] 0.9978603379453483\n",
      "[0.98659828 0.00915021 0.00217791] 0.9979263915724615\n"
     ]
    },
    {
     "name": "stderr",
     "output_type": "stream",
     "text": [
      "335it [00:29, 11.39it/s]"
     ]
    },
    {
     "name": "stdout",
     "output_type": "stream",
     "text": [
      "[0.98628551 0.00913169 0.00226893] 0.9976861330151929\n",
      "[0.98538509 0.01013613 0.00220876] 0.9977299746538217\n",
      "[0.98107941 0.01314455 0.0029588 ] 0.9971827651903827\n"
     ]
    },
    {
     "name": "stderr",
     "output_type": "stream",
     "text": [
      "339it [00:29, 11.60it/s]"
     ]
    },
    {
     "name": "stdout",
     "output_type": "stream",
     "text": [
      "[0.98131214 0.01269934 0.00303315] 0.9970446338326896\n",
      "[0.98317563 0.01139483 0.00270371] 0.9972741756029264\n",
      "[0.9862611  0.00927518 0.00229565] 0.9978319283737036\n"
     ]
    },
    {
     "name": "stderr",
     "output_type": "stream",
     "text": [
      "341it [00:29, 11.69it/s]"
     ]
    },
    {
     "name": "stdout",
     "output_type": "stream",
     "text": [
      "[0.98898966 0.007418   0.00189088] 0.9982985464596567\n",
      "[0.98597451 0.00929008 0.00233252] 0.9975971127447983\n",
      "[0.9851659  0.01004401 0.002395  ] 0.9976049062957824\n"
     ]
    },
    {
     "name": "stderr",
     "output_type": "stream",
     "text": [
      "345it [00:29, 11.57it/s]"
     ]
    },
    {
     "name": "stdout",
     "output_type": "stream",
     "text": [
      "[0.98650981 0.00936303 0.00215555] 0.9980283922727496\n",
      "[0.98561133 0.00980553 0.00225136] 0.9976682232697881\n",
      "[0.98263657 0.01174241 0.00270998] 0.99708895603422\n"
     ]
    },
    {
     "name": "stderr",
     "output_type": "stream",
     "text": [
      "347it [00:30, 11.78it/s]"
     ]
    },
    {
     "name": "stdout",
     "output_type": "stream",
     "text": [
      "[0.98454877 0.01058866 0.00231549] 0.997452921115849\n",
      "[0.98442558 0.01062859 0.00228965] 0.9973438290856378\n",
      "[0.98216578 0.01213789 0.00269111] 0.9969947890900839\n"
     ]
    },
    {
     "name": "stderr",
     "output_type": "stream",
     "text": [
      "351it [00:30, 11.52it/s]"
     ]
    },
    {
     "name": "stdout",
     "output_type": "stream",
     "text": [
      "[0.98170763 0.01268793 0.00282428] 0.9972198442468325\n",
      "[0.9831259  0.0115767  0.00268511] 0.9973877098949361\n",
      "[0.98036164 0.01337762 0.00334027] 0.9970795340434802\n"
     ]
    },
    {
     "name": "stderr",
     "output_type": "stream",
     "text": [
      "353it [00:30, 11.63it/s]"
     ]
    },
    {
     "name": "stdout",
     "output_type": "stream",
     "text": [
      "[0.97910101 0.0141337  0.00336879] 0.9966035022044443\n",
      "[0.98248665 0.01189586 0.00283797] 0.9972204782972055\n",
      "[0.98536403 0.00994085 0.00235264] 0.9976575193027\n"
     ]
    },
    {
     "name": "stderr",
     "output_type": "stream",
     "text": [
      "357it [00:30, 11.51it/s]"
     ]
    },
    {
     "name": "stdout",
     "output_type": "stream",
     "text": [
      "[0.98234855 0.01195678 0.00282431] 0.997129630716934\n",
      "[0.98258431 0.01174271 0.00295326] 0.9972802682122577\n",
      "[0.9835069  0.01092392 0.00286389] 0.9972947099407036\n"
     ]
    },
    {
     "name": "stderr",
     "output_type": "stream",
     "text": [
      "359it [00:31, 11.64it/s]"
     ]
    },
    {
     "name": "stdout",
     "output_type": "stream",
     "text": [
      "[0.9911724  0.0059231  0.00131684] 0.9984123405454435\n",
      "[0.99193172 0.00546384 0.0012183 ] 0.9986138494861276\n",
      "[0.97075926 0.01885373 0.00459795] 0.9942109379617116\n"
     ]
    },
    {
     "name": "stderr",
     "output_type": "stream",
     "text": [
      "363it [00:31, 11.36it/s]"
     ]
    },
    {
     "name": "stdout",
     "output_type": "stream",
     "text": [
      "[0.98340269 0.01135125 0.00268341] 0.9974373445685897\n",
      "[0.98424926 0.01091839 0.00260076] 0.9977684134382767\n",
      "[0.98166421 0.01280354 0.00296936] 0.997437109352082\n"
     ]
    },
    {
     "name": "stderr",
     "output_type": "stream",
     "text": [
      "365it [00:31, 11.13it/s]"
     ]
    },
    {
     "name": "stdout",
     "output_type": "stream",
     "text": [
      "[0.9805819  0.01333411 0.00322929] 0.9971453032827939\n",
      "[0.97267435 0.01910623 0.00453298] 0.9963135533220381\n",
      "[0.96841542 0.02241286 0.00504265] 0.9958709211050332\n"
     ]
    },
    {
     "name": "stderr",
     "output_type": "stream",
     "text": [
      "369it [00:32, 11.54it/s]"
     ]
    },
    {
     "name": "stdout",
     "output_type": "stream",
     "text": [
      "[0.97260133 0.01882883 0.00428889] 0.9957190521591823\n",
      "[0.98118776 0.01322444 0.00293868] 0.9973508773014952\n",
      "[0.98160629 0.01284622 0.0029563 ] 0.9974088149581485\n"
     ]
    },
    {
     "name": "stderr",
     "output_type": "stream",
     "text": [
      "371it [00:32, 11.41it/s]"
     ]
    },
    {
     "name": "stdout",
     "output_type": "stream",
     "text": [
      "[0.98466886 0.01059016 0.00244649] 0.9977055135044197\n",
      "[0.98496201 0.01008563 0.00258114] 0.9976287824559229\n",
      "[0.98115784 0.01262477 0.00309295] 0.9968755601043332\n"
     ]
    },
    {
     "name": "stderr",
     "output_type": "stream",
     "text": [
      "375it [00:32, 11.65it/s]"
     ]
    },
    {
     "name": "stdout",
     "output_type": "stream",
     "text": [
      "[0.97458157 0.01749942 0.00418111] 0.9962620996013428\n",
      "[0.97857462 0.01526383 0.00324799] 0.9970864421838778\n",
      "[0.98423306 0.01085435 0.00248492] 0.9975723295242583\n"
     ]
    },
    {
     "name": "stderr",
     "output_type": "stream",
     "text": [
      "377it [00:32, 11.73it/s]"
     ]
    },
    {
     "name": "stdout",
     "output_type": "stream",
     "text": [
      "[0.98326685 0.01151056 0.00255291] 0.9973303204877311\n",
      "[0.98240975 0.01187927 0.00276195] 0.9970509688926786\n",
      "[0.9822456  0.01215245 0.00272717] 0.9971252262760549\n"
     ]
    },
    {
     "name": "stderr",
     "output_type": "stream",
     "text": [
      "381it [00:33, 11.55it/s]"
     ]
    },
    {
     "name": "stdout",
     "output_type": "stream",
     "text": [
      "[0.98544086 0.00984591 0.00222729] 0.9975140535232582\n",
      "[0.98881858 0.00761174 0.00169812] 0.9981284409995379\n",
      "[0.98832645 0.00787651 0.0017582 ] 0.9979611588464539\n"
     ]
    },
    {
     "name": "stderr",
     "output_type": "stream",
     "text": [
      "383it [00:33, 11.93it/s]"
     ]
    },
    {
     "name": "stdout",
     "output_type": "stream",
     "text": [
      "[0.98412785 0.01110008 0.0025893 ] 0.9978172256901695\n",
      "[0.97333947 0.01857179 0.0045108 ] 0.9964220604718171\n",
      "[0.97200628 0.01953705 0.00466267] 0.996206000624981\n"
     ]
    },
    {
     "name": "stderr",
     "output_type": "stream",
     "text": [
      "387it [00:33, 11.80it/s]"
     ]
    },
    {
     "name": "stdout",
     "output_type": "stream",
     "text": [
      "[0.98441249 0.0105518  0.00256587] 0.9975301630275943\n",
      "[0.98860938 0.00760926 0.00184749] 0.9980661197880115\n",
      "[0.9890484  0.00711205 0.00188296] 0.9980434059015674\n"
     ]
    },
    {
     "name": "stderr",
     "output_type": "stream",
     "text": [
      "389it [00:33, 11.71it/s]"
     ]
    },
    {
     "name": "stdout",
     "output_type": "stream",
     "text": [
      "[0.98633171 0.00905243 0.0022282 ] 0.997612345440628\n",
      "[0.98580298 0.00946071 0.00233306] 0.9975967454285001\n",
      "[0.98617317 0.00929823 0.00224504] 0.9977164447770797\n"
     ]
    },
    {
     "name": "stderr",
     "output_type": "stream",
     "text": [
      "393it [00:34, 11.61it/s]"
     ]
    },
    {
     "name": "stdout",
     "output_type": "stream",
     "text": [
      "[0.98194013 0.01220733 0.00286849] 0.9970159582403462\n",
      "[0.98468749 0.01041042 0.00245032] 0.9975482255819056\n",
      "[0.98469053 0.01026217 0.00243581] 0.9973885097202457\n"
     ]
    },
    {
     "name": "stderr",
     "output_type": "stream",
     "text": [
      "395it [00:34, 11.58it/s]"
     ]
    },
    {
     "name": "stdout",
     "output_type": "stream",
     "text": [
      "[0.98771905 0.00832814 0.00204006] 0.9980872569930805\n",
      "[0.98434689 0.01079804 0.00248401] 0.9976289366653226\n",
      "[0.98414716 0.01094573 0.00245166] 0.9975445454282662\n"
     ]
    },
    {
     "name": "stderr",
     "output_type": "stream",
     "text": [
      "399it [00:34, 11.67it/s]"
     ]
    },
    {
     "name": "stdout",
     "output_type": "stream",
     "text": [
      "[0.98294051 0.01176199 0.00267745] 0.9973799522890343\n",
      "[0.98537526 0.01008062 0.00231379] 0.9977696695672262\n",
      "[0.98194872 0.01256975 0.00284701] 0.9973654770121625\n"
     ]
    },
    {
     "name": "stderr",
     "output_type": "stream",
     "text": [
      "401it [00:34, 11.55it/s]"
     ]
    },
    {
     "name": "stdout",
     "output_type": "stream",
     "text": [
      "[0.97984988 0.01371459 0.00323282] 0.9967972887256905\n",
      "[0.98930137 0.00737846 0.00164223] 0.9983220619710084\n",
      "[0.98754304 0.00853848 0.00195173] 0.99803325732419\n"
     ]
    },
    {
     "name": "stderr",
     "output_type": "stream",
     "text": [
      "405it [00:35, 11.57it/s]"
     ]
    },
    {
     "name": "stdout",
     "output_type": "stream",
     "text": [
      "[0.98140033 0.01271065 0.00279935] 0.9969103316324816\n",
      "[0.97336525 0.01825233 0.00479555] 0.9964131340707343\n",
      "[0.9792381  0.01420988 0.00354128] 0.9969892635893703\n"
     ]
    },
    {
     "name": "stderr",
     "output_type": "stream",
     "text": [
      "407it [00:35, 11.59it/s]"
     ]
    },
    {
     "name": "stdout",
     "output_type": "stream",
     "text": [
      "[0.97947873 0.01385153 0.00363068] 0.9969609353127739\n",
      "[0.97633293 0.01611874 0.0041117 ] 0.9965633737664762\n",
      "[0.96854653 0.02167825 0.00559122] 0.9958160040731239\n"
     ]
    },
    {
     "name": "stderr",
     "output_type": "stream",
     "text": [
      "411it [00:35, 11.84it/s]"
     ]
    },
    {
     "name": "stdout",
     "output_type": "stream",
     "text": [
      "[0.97848463 0.01478878 0.00363751] 0.9969109155656464\n",
      "[0.97973983 0.01382837 0.00321614] 0.9967843348693692\n",
      "[0.98178075 0.01224856 0.00297077] 0.9970000891489353\n"
     ]
    },
    {
     "name": "stderr",
     "output_type": "stream",
     "text": [
      "413it [00:35, 11.78it/s]"
     ]
    },
    {
     "name": "stdout",
     "output_type": "stream",
     "text": [
      "[0.98916974 0.00742407 0.00179362] 0.9983874312763575\n",
      "[0.9758418  0.01576429 0.00382158] 0.9954276729254204\n",
      "[9.93120397e-01 4.71631791e-03 9.37096447e-04] 0.9987738109015886\n"
     ]
    },
    {
     "name": "stderr",
     "output_type": "stream",
     "text": [
      "417it [00:36, 11.69it/s]"
     ]
    },
    {
     "name": "stdout",
     "output_type": "stream",
     "text": [
      "[9.94244114e-01 3.91716225e-03 8.18576725e-04] 0.9989798530031457\n",
      "[0.9911662  0.00626092 0.00111637] 0.9985434945131967\n",
      "[0.98813347 0.00834358 0.00150625] 0.9979832977962247\n"
     ]
    },
    {
     "name": "stderr",
     "output_type": "stream",
     "text": [
      "419it [00:36, 11.47it/s]"
     ]
    },
    {
     "name": "stdout",
     "output_type": "stream",
     "text": [
      "[0.98856553 0.00802419 0.00153359] 0.9981233179233818\n",
      "[0.98600768 0.00949626 0.00213108] 0.9976350165900686\n",
      "[0.98314558 0.01171172 0.00267381] 0.9975311098213382\n"
     ]
    },
    {
     "name": "stderr",
     "output_type": "stream",
     "text": [
      "423it [00:36, 11.44it/s]"
     ]
    },
    {
     "name": "stdout",
     "output_type": "stream",
     "text": [
      "[0.98694099 0.00903417 0.00182597] 0.9978011310470892\n",
      "[9.92295002e-01 5.65924475e-03 8.99384351e-04] 0.9988536311147266\n",
      "[0.99051156 0.00673297 0.00120197] 0.9984465090176301\n"
     ]
    },
    {
     "name": "stderr",
     "output_type": "stream",
     "text": [
      "425it [00:36, 11.61it/s]"
     ]
    },
    {
     "name": "stdout",
     "output_type": "stream",
     "text": [
      "[0.98120533 0.01273106 0.00297455] 0.9969109389766437\n",
      "[0.95801322 0.02961775 0.00725095] 0.9948819196421331\n",
      "[0.95666476 0.03055099 0.00767357] 0.9948893145132315\n"
     ]
    },
    {
     "name": "stderr",
     "output_type": "stream",
     "text": [
      "429it [00:37, 11.61it/s]"
     ]
    },
    {
     "name": "stdout",
     "output_type": "stream",
     "text": [
      "[0.9618315  0.02605716 0.00699546] 0.9948841239144308\n",
      "[0.97026425 0.02036937 0.00546118] 0.9960948069561356\n",
      "[0.96778243 0.02227789 0.00571985] 0.9957801680457888\n"
     ]
    },
    {
     "name": "stderr",
     "output_type": "stream",
     "text": [
      "431it [00:37, 11.94it/s]"
     ]
    },
    {
     "name": "stdout",
     "output_type": "stream",
     "text": [
      "[0.96711477 0.02185296 0.00523107] 0.9941987963999174\n",
      "[0.98531693 0.01035071 0.00217706] 0.9978446900315229\n",
      "[0.98523548 0.01000195 0.00214651] 0.9973839403441932\n"
     ]
    },
    {
     "name": "stderr",
     "output_type": "stream",
     "text": [
      "435it [00:37, 11.60it/s]"
     ]
    },
    {
     "name": "stdout",
     "output_type": "stream",
     "text": [
      "[0.98634269 0.00907855 0.00214734] 0.9975685859182445\n",
      "[0.98524213 0.00964284 0.00249783] 0.9973827963896189\n",
      "[0.9895847  0.00683744 0.00165208] 0.9980742265049337\n"
     ]
    },
    {
     "name": "stderr",
     "output_type": "stream",
     "text": [
      "437it [00:37, 11.46it/s]"
     ]
    },
    {
     "name": "stdout",
     "output_type": "stream",
     "text": [
      "[0.99184021 0.0055361  0.00118524] 0.9985615534056986\n",
      "[0.98079662 0.01271012 0.00288892] 0.9963956570848197\n",
      "[0.98251275 0.01197439 0.00283224] 0.9973193773053638\n"
     ]
    },
    {
     "name": "stderr",
     "output_type": "stream",
     "text": [
      "441it [00:38, 11.57it/s]"
     ]
    },
    {
     "name": "stdout",
     "output_type": "stream",
     "text": [
      "[0.98295991 0.01179916 0.00271621] 0.9974752831136288\n",
      "[0.97293258 0.01881913 0.0044357 ] 0.9961874086916741\n",
      "[0.96403691 0.02507091 0.00577729] 0.9948851084298507\n"
     ]
    },
    {
     "name": "stderr",
     "output_type": "stream",
     "text": [
      "443it [00:38, 11.91it/s]"
     ]
    },
    {
     "name": "stdout",
     "output_type": "stream",
     "text": [
      "[0.97448006 0.01827247 0.00405333] 0.9968058597503414\n",
      "[0.97598623 0.01685119 0.00394079] 0.9967782035505636\n",
      "[0.97102555 0.02020836 0.00489593] 0.9961298389027777\n"
     ]
    },
    {
     "name": "stderr",
     "output_type": "stream",
     "text": [
      "447it [00:38, 11.60it/s]"
     ]
    },
    {
     "name": "stdout",
     "output_type": "stream",
     "text": [
      "[0.97053876 0.02039182 0.00493119] 0.995861774501921\n",
      "[0.97474374 0.01759208 0.00418569] 0.9965215083679937\n",
      "[0.9814557  0.0127025  0.00307808] 0.9972362837276053\n"
     ]
    },
    {
     "name": "stderr",
     "output_type": "stream",
     "text": [
      "449it [00:38, 11.58it/s]"
     ]
    },
    {
     "name": "stdout",
     "output_type": "stream",
     "text": [
      "[0.98288006 0.01190458 0.00280351] 0.997588153093474\n",
      "[0.97481909 0.01701434 0.00412719] 0.9959606193458681\n",
      "[0.96836051 0.02235141 0.00543773] 0.9961496555373827\n"
     ]
    },
    {
     "name": "stderr",
     "output_type": "stream",
     "text": [
      "453it [00:39, 11.61it/s]"
     ]
    },
    {
     "name": "stdout",
     "output_type": "stream",
     "text": [
      "[0.96752867 0.02235578 0.00560242] 0.9954868744617904\n",
      "[0.9748415  0.01769087 0.00422203] 0.9967543942027481\n",
      "[0.97599071 0.01660002 0.00392922] 0.9965199482741002\n"
     ]
    },
    {
     "name": "stderr",
     "output_type": "stream",
     "text": [
      "455it [00:39, 11.82it/s]"
     ]
    },
    {
     "name": "stdout",
     "output_type": "stream",
     "text": [
      "[0.97868607 0.01508751 0.00346141] 0.997234986574674\n",
      "[0.97318987 0.01871974 0.00436348] 0.9962730940695154\n",
      "[0.9718278  0.02000863 0.00472323] 0.9965596558301935\n"
     ]
    },
    {
     "name": "stderr",
     "output_type": "stream",
     "text": [
      "459it [00:39, 11.58it/s]"
     ]
    },
    {
     "name": "stdout",
     "output_type": "stream",
     "text": [
      "[0.97066138 0.02039916 0.00496221] 0.9960227436442023\n",
      "[0.97504433 0.01732923 0.00424512] 0.9966186797272895\n",
      "[0.973554   0.0185119  0.00435408] 0.9964199776159671\n"
     ]
    },
    {
     "name": "stderr",
     "output_type": "stream",
     "text": [
      "461it [00:39, 11.67it/s]"
     ]
    },
    {
     "name": "stdout",
     "output_type": "stream",
     "text": [
      "[0.97631933 0.01640674 0.00388136] 0.9966074228959553\n",
      "[0.97851803 0.01488149 0.00337124] 0.9967707611072898\n",
      "[0.97962191 0.0139967  0.00311679] 0.9967354012288887\n"
     ]
    },
    {
     "name": "stderr",
     "output_type": "stream",
     "text": [
      "465it [00:40, 11.72it/s]"
     ]
    },
    {
     "name": "stdout",
     "output_type": "stream",
     "text": [
      "[0.98571977 0.01010694 0.00215891] 0.9979856197441982\n",
      "[0.9752661  0.01669521 0.00378829] 0.995749594052218\n",
      "[0.98263621 0.01191681 0.00279072] 0.9973437452929903\n"
     ]
    },
    {
     "name": "stderr",
     "output_type": "stream",
     "text": [
      "467it [00:40, 11.53it/s]"
     ]
    },
    {
     "name": "stdout",
     "output_type": "stream",
     "text": [
      "[0.98476288 0.01016689 0.00243909] 0.9973688642704025\n",
      "[0.99038456 0.00649397 0.00144175] 0.9983202729132481\n",
      "[0.98995928 0.00695245 0.00142067] 0.9983324038934795\n"
     ]
    },
    {
     "name": "stderr",
     "output_type": "stream",
     "text": [
      "471it [00:40, 11.84it/s]"
     ]
    },
    {
     "name": "stdout",
     "output_type": "stream",
     "text": [
      "[0.98755614 0.00840762 0.00192016] 0.9978839137032406\n",
      "[0.97838434 0.01502441 0.00363907] 0.997047823281265\n",
      "[0.96881886 0.02184831 0.00532435] 0.9959915275675484\n"
     ]
    },
    {
     "name": "stderr",
     "output_type": "stream",
     "text": [
      "473it [00:40, 11.79it/s]"
     ]
    },
    {
     "name": "stdout",
     "output_type": "stream",
     "text": [
      "[0.96565555 0.02375983 0.00598827] 0.995403649989607\n",
      "[0.97331659 0.01863684 0.00440869] 0.996362112929025\n",
      "[0.97794866 0.01530207 0.00367386] 0.9969245956588854\n"
     ]
    },
    {
     "name": "stderr",
     "output_type": "stream",
     "text": [
      "477it [00:41, 11.67it/s]"
     ]
    },
    {
     "name": "stdout",
     "output_type": "stream",
     "text": [
      "[0.97789252 0.01532056 0.00350878] 0.9967218572111904\n",
      "[0.97821571 0.01467245 0.00361064] 0.9964987961908794\n",
      "[0.98957752 0.00664314 0.00165184] 0.9978724929740382\n"
     ]
    },
    {
     "name": "stderr",
     "output_type": "stream",
     "text": [
      "479it [00:41, 11.66it/s]"
     ]
    },
    {
     "name": "stdout",
     "output_type": "stream",
     "text": [
      "[9.95105940e-01 3.24144912e-03 7.37033129e-04] 0.9990844227377754\n",
      "[0.99132608 0.00596928 0.0011575 ] 0.9984528577260827\n",
      "[9.91908239e-01 5.97082067e-03 9.46623312e-04] 0.9988256832919202\n"
     ]
    },
    {
     "name": "stderr",
     "output_type": "stream",
     "text": [
      "483it [00:41, 11.77it/s]"
     ]
    },
    {
     "name": "stdout",
     "output_type": "stream",
     "text": [
      "[0.98958477 0.00687692 0.00158842] 0.998050111799116\n",
      "[0.98906656 0.00824951 0.00144195] 0.9987580268409347\n",
      "[0.98956503 0.00737248 0.00139539] 0.9983328892745408\n"
     ]
    },
    {
     "name": "stderr",
     "output_type": "stream",
     "text": [
      "485it [00:41, 11.70it/s]"
     ]
    },
    {
     "name": "stdout",
     "output_type": "stream",
     "text": [
      "[0.98842283 0.00795236 0.00151703] 0.9978922250904729\n",
      "[0.99028219 0.00670182 0.001232  ] 0.9982160144616025\n",
      "[0.9917317  0.00564737 0.00112655] 0.9985056204806463\n"
     ]
    },
    {
     "name": "stderr",
     "output_type": "stream",
     "text": [
      "489it [00:42, 11.69it/s]"
     ]
    },
    {
     "name": "stdout",
     "output_type": "stream",
     "text": [
      "[9.92285530e-01 5.46496927e-03 9.24013517e-04] 0.9986745128945612\n",
      "[0.98246886 0.0117437  0.00249268] 0.9967052412574176\n",
      "[0.98419044 0.01101781 0.0021844 ] 0.9973926479002312\n"
     ]
    },
    {
     "name": "stderr",
     "output_type": "stream",
     "text": [
      "491it [00:42, 11.79it/s]"
     ]
    },
    {
     "name": "stdout",
     "output_type": "stream",
     "text": [
      "[0.98508377 0.01045346 0.00214257] 0.9976797988394098\n",
      "[0.9875937  0.00886934 0.00155589] 0.9980189305468741\n",
      "[9.92605931e-01 5.50624652e-03 7.81074879e-04] 0.998893252488521\n"
     ]
    },
    {
     "name": "stderr",
     "output_type": "stream",
     "text": [
      "495it [00:42, 11.31it/s]"
     ]
    },
    {
     "name": "stdout",
     "output_type": "stream",
     "text": [
      "[0.98663462 0.00916643 0.00184039] 0.9976414332258641\n",
      "[0.98813956 0.00809383 0.00161546] 0.9978488463350604\n",
      "[0.98626226 0.00917306 0.00201209] 0.9974474146264665\n"
     ]
    },
    {
     "name": "stderr",
     "output_type": "stream",
     "text": [
      "497it [00:43, 11.25it/s]"
     ]
    },
    {
     "name": "stdout",
     "output_type": "stream",
     "text": [
      "[0.99239344 0.00510926 0.00114317] 0.9986458702281992\n",
      "[0.99079967 0.00608756 0.00140811] 0.9982953375222898\n",
      "[0.98640579 0.00894326 0.00219484] 0.9975438839345597\n"
     ]
    },
    {
     "name": "stderr",
     "output_type": "stream",
     "text": [
      "501it [00:43, 11.56it/s]"
     ]
    },
    {
     "name": "stdout",
     "output_type": "stream",
     "text": [
      "[0.97946966 0.0141631  0.00331721] 0.9969499701829273\n",
      "[0.97772045 0.01509362 0.00384888] 0.9966629570590289\n",
      "[0.97652192 0.01570637 0.00388274] 0.9961110205381978\n"
     ]
    },
    {
     "name": "stderr",
     "output_type": "stream",
     "text": [
      "503it [00:43, 11.58it/s]"
     ]
    },
    {
     "name": "stdout",
     "output_type": "stream",
     "text": [
      "[0.98276431 0.01187413 0.00287758] 0.9975160099900978\n",
      "[0.99005983 0.00662912 0.00159105] 0.9982800054317966\n",
      "[0.99218515 0.00527813 0.00123932] 0.9987025889353736\n"
     ]
    },
    {
     "name": "stderr",
     "output_type": "stream",
     "text": [
      "507it [00:43, 11.60it/s]"
     ]
    },
    {
     "name": "stdout",
     "output_type": "stream",
     "text": [
      "[0.98830639 0.00761791 0.00188604] 0.9978103400693532\n",
      "[0.98776866 0.00813419 0.00202457] 0.9979274188306934\n",
      "[0.98664151 0.00875623 0.00219907] 0.9975968146244583\n"
     ]
    },
    {
     "name": "stderr",
     "output_type": "stream",
     "text": [
      "509it [00:44, 11.61it/s]"
     ]
    },
    {
     "name": "stdout",
     "output_type": "stream",
     "text": [
      "[0.98280923 0.01153561 0.0029784 ] 0.9973232418843226\n",
      "[0.98375387 0.01071087 0.00256966] 0.997034392362418\n",
      "[0.98818782 0.00802656 0.00181738] 0.9980317523771602\n"
     ]
    },
    {
     "name": "stderr",
     "output_type": "stream",
     "text": [
      "513it [00:44, 11.62it/s]"
     ]
    },
    {
     "name": "stdout",
     "output_type": "stream",
     "text": [
      "[0.99131007 0.00587116 0.00136282] 0.9985440614160235\n",
      "[0.98898915 0.007438   0.00181299] 0.9982401384821988\n",
      "[0.97419906 0.01689668 0.00424594] 0.9953416882556977\n"
     ]
    },
    {
     "name": "stderr",
     "output_type": "stream",
     "text": [
      "515it [00:44, 11.38it/s]"
     ]
    },
    {
     "name": "stdout",
     "output_type": "stream",
     "text": [
      "[0.97778757 0.01498623 0.00387467] 0.9966484767108819\n",
      "[0.97764923 0.01515719 0.00407152] 0.9968779451755353\n",
      "[0.97545409 0.01684276 0.00422967] 0.996526524549259\n"
     ]
    },
    {
     "name": "stderr",
     "output_type": "stream",
     "text": [
      "519it [00:44, 11.56it/s]"
     ]
    },
    {
     "name": "stdout",
     "output_type": "stream",
     "text": [
      "[0.97181307 0.01947976 0.00491104] 0.9962038618500958\n",
      "[0.97389321 0.01798471 0.0045401 ] 0.9964180221062504\n",
      "[0.98866602 0.00766975 0.00185747] 0.9981932431722179\n"
     ]
    },
    {
     "name": "stderr",
     "output_type": "stream",
     "text": [
      "521it [00:45, 11.47it/s]"
     ]
    },
    {
     "name": "stdout",
     "output_type": "stream",
     "text": [
      "[0.98911285 0.00741358 0.00171563] 0.9982420555686544\n",
      "[0.98407799 0.0105024  0.00257216] 0.9971525493419944\n",
      "[0.99041244 0.00636719 0.00149582] 0.9982754485796094\n"
     ]
    },
    {
     "name": "stderr",
     "output_type": "stream",
     "text": [
      "525it [00:45, 11.39it/s]"
     ]
    },
    {
     "name": "stdout",
     "output_type": "stream",
     "text": [
      "[0.9912718  0.00580234 0.00143207] 0.9985062072728557\n",
      "[0.98570732 0.00949624 0.0021063 ] 0.9973098610003605\n",
      "[0.98131626 0.01263845 0.00318104] 0.997135745325617\n"
     ]
    },
    {
     "name": "stderr",
     "output_type": "stream",
     "text": [
      "527it [00:45, 11.54it/s]"
     ]
    },
    {
     "name": "stdout",
     "output_type": "stream",
     "text": [
      "[0.97218693 0.01932483 0.00480364] 0.9963154036896535\n",
      "[0.96594585 0.0238135  0.00605997] 0.995819322783328\n",
      "[0.96605818 0.02347241 0.00614688] 0.9956774740853855\n"
     ]
    },
    {
     "name": "stderr",
     "output_type": "stream",
     "text": [
      "531it [00:45, 11.50it/s]"
     ]
    },
    {
     "name": "stdout",
     "output_type": "stream",
     "text": [
      "[0.98237733 0.01195066 0.00294287] 0.9972708560498015\n",
      "[0.99113782 0.00586259 0.00137063] 0.998371042237249\n",
      "[0.99234091 0.00520664 0.00117201] 0.9987195583002654\n"
     ]
    },
    {
     "name": "stderr",
     "output_type": "stream",
     "text": [
      "533it [00:46, 11.54it/s]"
     ]
    },
    {
     "name": "stdout",
     "output_type": "stream",
     "text": [
      "[0.98947966 0.00697466 0.00157578] 0.9980300973440073\n",
      "[0.98240056 0.01170167 0.00269929] 0.9968015159831642\n",
      "[0.98404644 0.01096127 0.0026328 ] 0.9976405077735071\n"
     ]
    },
    {
     "name": "stderr",
     "output_type": "stream",
     "text": [
      "537it [00:46, 11.38it/s]"
     ]
    },
    {
     "name": "stdout",
     "output_type": "stream",
     "text": [
      "[0.98521614 0.00995899 0.00257534] 0.997750472262131\n",
      "[0.98489057 0.00999923 0.00272724] 0.9976170426812268\n",
      "[0.9805134  0.01298167 0.00310113] 0.9965962076985653\n"
     ]
    },
    {
     "name": "stderr",
     "output_type": "stream",
     "text": [
      "539it [00:46, 11.62it/s]"
     ]
    },
    {
     "name": "stdout",
     "output_type": "stream",
     "text": [
      "[0.98822432 0.00807576 0.00185423] 0.9981543097541563\n",
      "[0.98890907 0.00760049 0.00184233] 0.9983518832776598\n",
      "[0.98148244 0.01229826 0.00310148] 0.9968821804909804\n"
     ]
    },
    {
     "name": "stderr",
     "output_type": "stream",
     "text": [
      "543it [00:47, 11.69it/s]"
     ]
    },
    {
     "name": "stdout",
     "output_type": "stream",
     "text": [
      "[0.98696776 0.00873936 0.00213393] 0.9978410474366125\n",
      "[0.98412667 0.01046448 0.00266451] 0.9972556697271073\n",
      "[0.97826963 0.01457213 0.00357329] 0.9964150486600812\n"
     ]
    },
    {
     "name": "stderr",
     "output_type": "stream",
     "text": [
      "545it [00:47, 11.68it/s]"
     ]
    },
    {
     "name": "stdout",
     "output_type": "stream",
     "text": [
      "[0.98441472 0.01059888 0.00261013] 0.9976237353830553\n",
      "[0.98249265 0.01221549 0.00282755] 0.9975356892518108\n",
      "[0.97709002 0.01541884 0.00381484] 0.9963237044518142\n"
     ]
    },
    {
     "name": "stderr",
     "output_type": "stream",
     "text": [
      "549it [00:47, 11.62it/s]"
     ]
    },
    {
     "name": "stdout",
     "output_type": "stream",
     "text": [
      "[0.98685771 0.00905339 0.00210326] 0.9980143579601405\n",
      "[0.98886872 0.00755143 0.00173292] 0.9981530670265205\n",
      "[0.98652717 0.00895301 0.00223882] 0.9977190094807278\n"
     ]
    },
    {
     "name": "stderr",
     "output_type": "stream",
     "text": [
      "551it [00:47, 11.62it/s]"
     ]
    },
    {
     "name": "stdout",
     "output_type": "stream",
     "text": [
      "[0.98928758 0.00692009 0.00182404] 0.9980317105305638\n",
      "[0.98816735 0.00780844 0.00195591] 0.9979316934721716\n",
      "[0.98608913 0.0093572  0.0023087 ] 0.9977550312428224\n"
     ]
    },
    {
     "name": "stderr",
     "output_type": "stream",
     "text": [
      "555it [00:48, 11.84it/s]"
     ]
    },
    {
     "name": "stdout",
     "output_type": "stream",
     "text": [
      "[0.97485084 0.01718305 0.00431404] 0.9963479279573061\n",
      "[0.97215618 0.01881795 0.00449301] 0.9954671430393565\n",
      "[0.9844047  0.01111004 0.00210753] 0.9976222590282375\n"
     ]
    },
    {
     "name": "stderr",
     "output_type": "stream",
     "text": [
      "557it [00:48, 11.50it/s]"
     ]
    },
    {
     "name": "stdout",
     "output_type": "stream",
     "text": [
      "[0.98835127 0.00820547 0.00166237] 0.998219108047919\n",
      "[0.98135805 0.0128352  0.00258929] 0.9967825447552937\n",
      "[0.98622703 0.00940609 0.00219442] 0.997827545564696\n"
     ]
    },
    {
     "name": "stderr",
     "output_type": "stream",
     "text": [
      "561it [00:48, 11.57it/s]"
     ]
    },
    {
     "name": "stdout",
     "output_type": "stream",
     "text": [
      "[0.98485368 0.010329   0.00225697] 0.9974396418436595\n",
      "[0.99085287 0.00615803 0.00147677] 0.9984876657986255\n",
      "[0.9900812  0.00684792 0.00150635] 0.9984354740544695\n"
     ]
    },
    {
     "name": "stderr",
     "output_type": "stream",
     "text": [
      "563it [00:48, 11.50it/s]"
     ]
    },
    {
     "name": "stdout",
     "output_type": "stream",
     "text": [
      "[0.98767121 0.00866598 0.00180905] 0.9981462485180029\n",
      "[0.9803131  0.01313811 0.00310926] 0.9965604681434109\n",
      "[0.98776456 0.00807232 0.00198383] 0.9978207119722985\n"
     ]
    },
    {
     "name": "stderr",
     "output_type": "stream",
     "text": [
      "567it [00:49, 11.52it/s]"
     ]
    },
    {
     "name": "stdout",
     "output_type": "stream",
     "text": [
      "[0.98931039 0.00724263 0.00172612] 0.9982791338952287\n",
      "[0.98877223 0.00773132 0.00166192] 0.9981654736777569\n",
      "[0.98708536 0.00878191 0.00198698] 0.9978542461696015\n"
     ]
    },
    {
     "name": "stderr",
     "output_type": "stream",
     "text": [
      "569it [00:49, 11.49it/s]"
     ]
    },
    {
     "name": "stdout",
     "output_type": "stream",
     "text": [
      "[0.98709155 0.00857569 0.00206402] 0.9977312583261359\n",
      "[9.95392840e-01 3.18063625e-03 7.35256312e-04] 0.9993087330084782\n",
      "[0.99144557 0.00570351 0.00135991] 0.9985089947002589\n"
     ]
    },
    {
     "name": "stderr",
     "output_type": "stream",
     "text": [
      "573it [00:49, 11.55it/s]"
     ]
    },
    {
     "name": "stdout",
     "output_type": "stream",
     "text": [
      "[0.98396902 0.01085636 0.00249734] 0.9973227247964405\n",
      "[0.98603053 0.00947866 0.00234901] 0.9978581958181043\n",
      "[0.98180264 0.0120375  0.00298623] 0.9968263696186048\n"
     ]
    },
    {
     "name": "stderr",
     "output_type": "stream",
     "text": [
      "575it [00:49, 11.58it/s]"
     ]
    },
    {
     "name": "stdout",
     "output_type": "stream",
     "text": [
      "[0.98588424 0.00982543 0.00230623] 0.9980158917225451\n",
      "[0.97629591 0.01582912 0.00382941] 0.9959544450625665\n",
      "[0.98605993 0.00993617 0.00203317] 0.9980292729869144\n"
     ]
    },
    {
     "name": "stderr",
     "output_type": "stream",
     "text": [
      "579it [00:50, 11.46it/s]"
     ]
    },
    {
     "name": "stdout",
     "output_type": "stream",
     "text": [
      "[0.99271948 0.0051148  0.00105959] 0.9988938820570679\n",
      "[0.99300544 0.00475912 0.00111619] 0.9988807431618185\n",
      "[0.98524254 0.00985437 0.00223651] 0.9973334219207317\n"
     ]
    },
    {
     "name": "stderr",
     "output_type": "stream",
     "text": [
      "581it [00:50, 11.43it/s]"
     ]
    },
    {
     "name": "stdout",
     "output_type": "stream",
     "text": [
      "[0.97213019 0.01910388 0.00485298] 0.9960870491359479\n",
      "[0.97037023 0.01978201 0.00472845] 0.9948806942455939\n",
      "[0.9894609  0.00712305 0.00164084] 0.9982247911876698\n"
     ]
    },
    {
     "name": "stderr",
     "output_type": "stream",
     "text": [
      "585it [00:50, 11.49it/s]"
     ]
    },
    {
     "name": "stdout",
     "output_type": "stream",
     "text": [
      "[0.98945382 0.0069776  0.00168124] 0.9981126534819503\n",
      "[0.99252718 0.00496392 0.00120377] 0.9986948722481583\n",
      "[0.99078761 0.00612091 0.00150195] 0.9984104671044564\n"
     ]
    },
    {
     "name": "stderr",
     "output_type": "stream",
     "text": [
      "587it [00:50, 11.34it/s]"
     ]
    },
    {
     "name": "stdout",
     "output_type": "stream",
     "text": [
      "[0.99048562 0.00634182 0.0015007 ] 0.9983281434185282\n",
      "[0.98901675 0.0078468  0.00167799] 0.9985415357712597\n",
      "[0.98456656 0.01038976 0.00245525] 0.9974115688813535\n"
     ]
    },
    {
     "name": "stderr",
     "output_type": "stream",
     "text": [
      "591it [00:51, 11.38it/s]"
     ]
    },
    {
     "name": "stdout",
     "output_type": "stream",
     "text": [
      "[0.97818668 0.01487013 0.00360143] 0.9966582425960343\n",
      "[0.97273309 0.01891552 0.00477645] 0.9964250588447366\n",
      "[0.96610661 0.02339388 0.00606579] 0.9955662763156026\n"
     ]
    },
    {
     "name": "stderr",
     "output_type": "stream",
     "text": [
      "593it [00:51, 11.45it/s]"
     ]
    },
    {
     "name": "stdout",
     "output_type": "stream",
     "text": [
      "[0.96938171 0.02112134 0.00551818] 0.9960212254142403\n",
      "[0.9701994  0.02041795 0.00527007] 0.9958874209053571\n",
      "[0.96871111 0.02176794 0.00556547] 0.996044525558184\n"
     ]
    },
    {
     "name": "stderr",
     "output_type": "stream",
     "text": [
      "597it [00:51, 11.13it/s]"
     ]
    },
    {
     "name": "stdout",
     "output_type": "stream",
     "text": [
      "[0.96758794 0.02232339 0.0058912 ] 0.9958025305066185\n",
      "[0.96386045 0.02506594 0.00663019] 0.9955565886855984\n",
      "[0.96809982 0.02252887 0.00568396] 0.9963126509353151\n"
     ]
    },
    {
     "name": "stderr",
     "output_type": "stream",
     "text": [
      "599it [00:51, 10.75it/s]"
     ]
    },
    {
     "name": "stdout",
     "output_type": "stream",
     "text": [
      "[0.97746227 0.01586921 0.00382163] 0.9971531114665676\n",
      "[0.97752239 0.01562454 0.00381287] 0.9969597956047765\n",
      "[0.97235949 0.01817087 0.00445618] 0.9949865335509831\n"
     ]
    },
    {
     "name": "stderr",
     "output_type": "stream",
     "text": [
      "601it [00:52, 10.84it/s]"
     ]
    },
    {
     "name": "stdout",
     "output_type": "stream",
     "text": [
      "[0.98838756 0.0078179  0.0016354 ] 0.9978408512620192\n",
      "[0.9921978  0.00540078 0.00104609] 0.9986446683041306\n"
     ]
    },
    {
     "name": "stderr",
     "output_type": "stream",
     "text": [
      "603it [00:52, 10.20it/s]"
     ]
    },
    {
     "name": "stdout",
     "output_type": "stream",
     "text": [
      "[0.97204926 0.0181161  0.00416505] 0.9943304049039684\n",
      "[0.97352381 0.01772716 0.00383673] 0.9950876992953426\n"
     ]
    },
    {
     "name": "stderr",
     "output_type": "stream",
     "text": [
      "606it [00:52,  8.59it/s]"
     ]
    },
    {
     "name": "stdout",
     "output_type": "stream",
     "text": [
      "[0.98802098 0.00838206 0.00164302] 0.9980460574595134\n",
      "[0.98525845 0.01015051 0.00205884] 0.9974678080584665\n"
     ]
    },
    {
     "name": "stderr",
     "output_type": "stream",
     "text": [
      "608it [00:52,  9.29it/s]"
     ]
    },
    {
     "name": "stdout",
     "output_type": "stream",
     "text": [
      "[0.99084453 0.00622781 0.00130758] 0.9983799292070528\n",
      "[0.98986865 0.00669323 0.00152374] 0.9980856151621165\n",
      "[0.98864653 0.00740433 0.00171424] 0.9977650976141393\n"
     ]
    },
    {
     "name": "stderr",
     "output_type": "stream",
     "text": [
      "612it [00:53, 10.46it/s]"
     ]
    },
    {
     "name": "stdout",
     "output_type": "stream",
     "text": [
      "[0.99037716 0.0064412  0.00137717] 0.9981955259399777\n",
      "[0.98151518 0.0129279  0.00257007] 0.997013151412855\n",
      "[0.98310656 0.01246304 0.00225401] 0.9978236072718873\n"
     ]
    },
    {
     "name": "stderr",
     "output_type": "stream",
     "text": [
      "614it [00:53, 10.34it/s]"
     ]
    },
    {
     "name": "stdout",
     "output_type": "stream",
     "text": [
      "[0.98631119 0.00975416 0.00181911] 0.9978844573928751\n",
      "[0.98588807 0.00994674 0.00186385] 0.9976986642537617\n"
     ]
    },
    {
     "name": "stderr",
     "output_type": "stream",
     "text": [
      "616it [00:53, 10.06it/s]"
     ]
    },
    {
     "name": "stdout",
     "output_type": "stream",
     "text": [
      "[0.98216555 0.01183894 0.00264445] 0.9966489388260783\n",
      "[0.98667424 0.00869425 0.00205705] 0.9974255314838004\n",
      "[0.98641512 0.00899146 0.00204727] 0.9974538462788282\n"
     ]
    },
    {
     "name": "stderr",
     "output_type": "stream",
     "text": [
      "620it [00:54, 10.65it/s]"
     ]
    },
    {
     "name": "stdout",
     "output_type": "stream",
     "text": [
      "[0.98252232 0.01165007 0.00257195] 0.9967443370955701\n",
      "[0.99053973 0.00700797 0.00128036] 0.9988280587180776\n",
      "[0.97755593 0.01530546 0.00309046] 0.9959518424843219\n"
     ]
    },
    {
     "name": "stderr",
     "output_type": "stream",
     "text": [
      "622it [00:54, 11.22it/s]"
     ]
    },
    {
     "name": "stdout",
     "output_type": "stream",
     "text": [
      "[0.98838126 0.00786715 0.0016136 ] 0.9978620062558511\n",
      "[0.98551785 0.00961169 0.00230211] 0.9974316505069316\n",
      "[0.98673784 0.00889135 0.00205026] 0.9976794493185615\n"
     ]
    },
    {
     "name": "stderr",
     "output_type": "stream",
     "text": [
      "626it [00:54, 11.53it/s]"
     ]
    },
    {
     "name": "stdout",
     "output_type": "stream",
     "text": [
      "[0.97796066 0.01456911 0.00329147] 0.9958212368410089\n",
      "[0.98382252 0.01056208 0.00241689] 0.9968014924818223\n",
      "[9.93584221e-01 4.30501279e-03 9.15823711e-04] 0.9988050571508617\n"
     ]
    },
    {
     "name": "stderr",
     "output_type": "stream",
     "text": [
      "628it [00:54, 11.28it/s]"
     ]
    },
    {
     "name": "stdout",
     "output_type": "stream",
     "text": [
      "[0.99039734 0.00627125 0.0014009 ] 0.9980694828362175\n",
      "[0.99043004 0.00643457 0.00140009] 0.9982647034802244\n",
      "[0.99225037 0.00540235 0.00104556] 0.9986982784791386\n"
     ]
    },
    {
     "name": "stderr",
     "output_type": "stream",
     "text": [
      "632it [00:55, 11.23it/s]"
     ]
    },
    {
     "name": "stdout",
     "output_type": "stream",
     "text": [
      "[0.98898118 0.00737063 0.00170022] 0.9980520305592174\n",
      "[0.98825276 0.00797704 0.00164835] 0.9978781520997339\n",
      "[0.98696453 0.00903757 0.00186349] 0.997865581623738\n"
     ]
    },
    {
     "name": "stderr",
     "output_type": "stream",
     "text": [
      "634it [00:55, 11.13it/s]"
     ]
    },
    {
     "name": "stdout",
     "output_type": "stream",
     "text": [
      "[0.98622518 0.00941621 0.00208497] 0.9977263520679838\n",
      "[0.98277528 0.01210906 0.00240274] 0.9972870761056578\n",
      "[0.98575289 0.00986515 0.00200296] 0.9976210058668611\n"
     ]
    },
    {
     "name": "stderr",
     "output_type": "stream",
     "text": [
      "638it [00:55, 11.54it/s]"
     ]
    },
    {
     "name": "stdout",
     "output_type": "stream",
     "text": [
      "[0.99091925 0.0063943  0.00123218] 0.9985457357600439\n",
      "[0.98801085 0.00870158 0.00148621] 0.9981986463911614\n",
      "[0.98511333 0.01027413 0.00219829] 0.9975857504078312\n"
     ]
    },
    {
     "name": "stderr",
     "output_type": "stream",
     "text": [
      "640it [00:55, 11.57it/s]"
     ]
    },
    {
     "name": "stdout",
     "output_type": "stream",
     "text": [
      "[0.98253366 0.0127012  0.00232875] 0.9975636039210994\n",
      "[0.98311797 0.01200942 0.00236012] 0.9974875073577683\n",
      "[0.98499933 0.01041191 0.00231269] 0.9977239256121441\n"
     ]
    },
    {
     "name": "stderr",
     "output_type": "stream",
     "text": [
      "644it [00:56, 11.52it/s]"
     ]
    },
    {
     "name": "stdout",
     "output_type": "stream",
     "text": [
      "[0.9841518  0.01093423 0.0023645 ] 0.9974505391616701\n",
      "[0.98200238 0.01296956 0.00251054] 0.9974824813481108\n",
      "[0.97797006 0.01575781 0.00315351] 0.996881382478452\n"
     ]
    },
    {
     "name": "stderr",
     "output_type": "stream",
     "text": [
      "646it [00:56, 11.42it/s]"
     ]
    },
    {
     "name": "stdout",
     "output_type": "stream",
     "text": [
      "[0.98356    0.01155155 0.00233909] 0.9974506411682897\n",
      "[0.98643495 0.00949714 0.00193547] 0.9978675664297473\n",
      "[0.98534027 0.00994716 0.00217144] 0.9974588627158705\n"
     ]
    },
    {
     "name": "stderr",
     "output_type": "stream",
     "text": [
      "650it [00:56, 11.39it/s]"
     ]
    },
    {
     "name": "stdout",
     "output_type": "stream",
     "text": [
      "[0.98138536 0.01286531 0.00281174] 0.9970624063051421\n",
      "[0.97919447 0.01469734 0.00295032] 0.9968421237632705\n",
      "[0.97820854 0.0155039  0.00298992] 0.9967023579565432\n"
     ]
    },
    {
     "name": "stderr",
     "output_type": "stream",
     "text": [
      "652it [00:56, 11.23it/s]"
     ]
    },
    {
     "name": "stdout",
     "output_type": "stream",
     "text": [
      "[0.99015227 0.00624335 0.0016345 ] 0.9980301231774332\n",
      "[0.9932626  0.00462211 0.00111296] 0.9989976710549306\n",
      "[0.99088082 0.00575332 0.00156719] 0.998201325968767\n"
     ]
    },
    {
     "name": "stderr",
     "output_type": "stream",
     "text": [
      "656it [00:57, 11.44it/s]"
     ]
    },
    {
     "name": "stdout",
     "output_type": "stream",
     "text": [
      "[0.98868758 0.00769047 0.00184143] 0.9982194883507036\n",
      "[0.98845747 0.00796956 0.001769  ] 0.9981960270173841\n",
      "[0.98549709 0.01039088 0.00205739] 0.9979453540955346\n"
     ]
    },
    {
     "name": "stderr",
     "output_type": "stream",
     "text": [
      "658it [00:57, 11.06it/s]"
     ]
    },
    {
     "name": "stdout",
     "output_type": "stream",
     "text": [
      "[0.98116559 0.01324014 0.00279057] 0.9971963086724861\n",
      "[0.982284   0.01247118 0.00260322] 0.9973584007428656\n"
     ]
    },
    {
     "name": "stderr",
     "output_type": "stream",
     "text": [
      "660it [00:57, 10.41it/s]"
     ]
    },
    {
     "name": "stdout",
     "output_type": "stream",
     "text": [
      "[0.9849219  0.01066917 0.00216806] 0.9977591357338483\n",
      "[0.9807843  0.01381531 0.00260635] 0.9972059629011361\n",
      "[0.98303815 0.01246221 0.00218655] 0.9976869193637161\n"
     ]
    },
    {
     "name": "stderr",
     "output_type": "stream",
     "text": [
      "662it [00:57, 10.64it/s]"
     ]
    },
    {
     "name": "stdout",
     "output_type": "stream",
     "text": [
      "[0.97816475 0.01599763 0.00289365] 0.9970560262645246\n",
      "[0.96790416 0.02264322 0.00447912] 0.995026503369246\n"
     ]
    },
    {
     "name": "stderr",
     "output_type": "stream",
     "text": [
      "664it [00:58,  9.87it/s]"
     ]
    },
    {
     "name": "stdout",
     "output_type": "stream",
     "text": [
      "[0.97582407 0.01782501 0.00316413] 0.9968132180164703\n",
      "[0.97896263 0.01574863 0.00271198] 0.9974232428999356\n"
     ]
    },
    {
     "name": "stderr",
     "output_type": "stream",
     "text": [
      "667it [00:58,  9.49it/s]"
     ]
    },
    {
     "name": "stdout",
     "output_type": "stream",
     "text": [
      "[0.97749985 0.01640909 0.00306868] 0.996977627166569\n",
      "[0.97677423 0.01727008 0.00305543] 0.9970997376126042\n",
      "[0.97726636 0.01660511 0.00306244] 0.996933903806875\n"
     ]
    },
    {
     "name": "stderr",
     "output_type": "stream",
     "text": [
      "671it [00:58, 10.38it/s]"
     ]
    },
    {
     "name": "stdout",
     "output_type": "stream",
     "text": [
      "[0.97254776 0.01945312 0.00387642] 0.9958773049544134\n",
      "[0.97550545 0.01763924 0.00333159] 0.9964762869290504\n",
      "[0.97752024 0.0162692  0.00302874] 0.9968181817756969\n"
     ]
    },
    {
     "name": "stderr",
     "output_type": "stream",
     "text": [
      "673it [00:58, 10.19it/s]"
     ]
    },
    {
     "name": "stdout",
     "output_type": "stream",
     "text": [
      "[0.97433767 0.01780329 0.00363037] 0.9957713246424476\n",
      "[0.98571955 0.01011641 0.00195079] 0.997786749027069\n",
      "[0.98743172 0.00897949 0.00166037] 0.9980715888217586\n"
     ]
    },
    {
     "name": "stderr",
     "output_type": "stream",
     "text": [
      "675it [00:59, 10.12it/s]"
     ]
    },
    {
     "name": "stdout",
     "output_type": "stream",
     "text": [
      "[0.98388026 0.01128108 0.00228022] 0.9974415603279568\n",
      "[0.9788769  0.01501471 0.00300144] 0.9968930437616093\n",
      "[0.98263709 0.01228329 0.00246652] 0.9973869033155495\n"
     ]
    },
    {
     "name": "stderr",
     "output_type": "stream",
     "text": [
      "679it [00:59, 10.16it/s]"
     ]
    },
    {
     "name": "stdout",
     "output_type": "stream",
     "text": [
      "[0.98382426 0.01146211 0.00227536] 0.9975617298171796\n",
      "[0.98230052 0.0126167  0.00253053] 0.9974477483989499\n",
      "[0.98391464 0.01170944 0.00218149] 0.9978055681238495\n"
     ]
    },
    {
     "name": "stderr",
     "output_type": "stream",
     "text": [
      "683it [00:59, 10.85it/s]"
     ]
    },
    {
     "name": "stdout",
     "output_type": "stream",
     "text": [
      "[0.98354764 0.01130493 0.00236646] 0.9972190290394977\n",
      "[0.98753562 0.00863865 0.00180637] 0.9979806453953372\n",
      "[0.97755708 0.01514711 0.00323474] 0.9959389228969499\n"
     ]
    },
    {
     "name": "stderr",
     "output_type": "stream",
     "text": [
      "685it [01:00, 11.03it/s]"
     ]
    },
    {
     "name": "stdout",
     "output_type": "stream",
     "text": [
      "[0.98735088 0.00886734 0.00174115] 0.9979593712782245\n",
      "[0.98701948 0.00888945 0.00185191] 0.9977608456334423\n",
      "[0.98641685 0.00930176 0.00213999] 0.9978586056942497\n"
     ]
    },
    {
     "name": "stderr",
     "output_type": "stream",
     "text": [
      "689it [01:00, 11.27it/s]"
     ]
    },
    {
     "name": "stdout",
     "output_type": "stream",
     "text": [
      "[0.98822792 0.0084256  0.00154736] 0.9982008891881714\n",
      "[0.98357431 0.0116164  0.00224136] 0.9974320706496258\n",
      "[0.98676396 0.00906946 0.00191232] 0.9977457369431927\n"
     ]
    },
    {
     "name": "stderr",
     "output_type": "stream",
     "text": [
      "691it [01:00, 11.47it/s]"
     ]
    },
    {
     "name": "stdout",
     "output_type": "stream",
     "text": [
      "[0.98727267 0.00896266 0.00178771] 0.9980230376740314\n",
      "[0.9810705  0.01315332 0.00272003] 0.9969438468707217\n",
      "[0.97999535 0.01441387 0.00274396] 0.9971531721294016\n"
     ]
    },
    {
     "name": "stderr",
     "output_type": "stream",
     "text": [
      "695it [01:00, 11.24it/s]"
     ]
    },
    {
     "name": "stdout",
     "output_type": "stream",
     "text": [
      "[0.9785231  0.01577385 0.00274356] 0.9970405041898525\n",
      "[0.9813581  0.01369428 0.00237852] 0.9974308956310823\n",
      "[0.97781579 0.01547699 0.00316536] 0.9964581357143727\n"
     ]
    },
    {
     "name": "stderr",
     "output_type": "stream",
     "text": [
      "697it [01:01, 11.20it/s]"
     ]
    },
    {
     "name": "stdout",
     "output_type": "stream",
     "text": [
      "[0.97484428 0.01812568 0.00349328] 0.9964632417298772\n",
      "[0.97708434 0.01675579 0.00309717] 0.9969373045177558\n",
      "[0.98291868 0.01261703 0.00229953] 0.9978352420904858\n"
     ]
    },
    {
     "name": "stderr",
     "output_type": "stream",
     "text": [
      "701it [01:01, 11.35it/s]"
     ]
    },
    {
     "name": "stdout",
     "output_type": "stream",
     "text": [
      "[0.97817932 0.01508773 0.00309806] 0.9963651182927548\n",
      "[0.98600158 0.01005236 0.00185338] 0.9979073229570233\n",
      "[0.98344937 0.011742   0.002341  ] 0.9975323689610287\n"
     ]
    },
    {
     "name": "stderr",
     "output_type": "stream",
     "text": [
      "703it [01:01, 11.23it/s]"
     ]
    },
    {
     "name": "stdout",
     "output_type": "stream",
     "text": [
      "[0.98035009 0.01411481 0.00263641] 0.9971013151738917\n",
      "[0.98697071 0.00914502 0.00176802] 0.9978837495457402\n",
      "[0.98630131 0.00948763 0.00197174] 0.9977606841202744\n"
     ]
    },
    {
     "name": "stderr",
     "output_type": "stream",
     "text": [
      "707it [01:02, 11.20it/s]"
     ]
    },
    {
     "name": "stdout",
     "output_type": "stream",
     "text": [
      "[0.9793918  0.01443635 0.00292475] 0.9967528938008041\n",
      "[0.97616107 0.01730038 0.00320767] 0.9966691147243768\n",
      "[0.98188488 0.01245856 0.00256617] 0.9969096152716522\n"
     ]
    },
    {
     "name": "stderr",
     "output_type": "stream",
     "text": [
      "709it [01:02, 11.15it/s]"
     ]
    },
    {
     "name": "stdout",
     "output_type": "stream",
     "text": [
      "[0.98696754 0.00912859 0.00183115] 0.9979272867522988\n",
      "[0.9849555  0.01023907 0.0022496 ] 0.9974441699824114\n",
      "[0.98285231 0.01236549 0.00231462] 0.9975324177426187\n"
     ]
    },
    {
     "name": "stderr",
     "output_type": "stream",
     "text": [
      "713it [01:02, 11.27it/s]"
     ]
    },
    {
     "name": "stdout",
     "output_type": "stream",
     "text": [
      "[0.98150259 0.01316579 0.00258778] 0.9972561611940802\n",
      "[0.98087648 0.0140652  0.00245372] 0.9973953988038728\n",
      "[0.97546116 0.01754617 0.00335393] 0.9963612710416598\n"
     ]
    },
    {
     "name": "stderr",
     "output_type": "stream",
     "text": [
      "715it [01:02, 11.14it/s]"
     ]
    },
    {
     "name": "stdout",
     "output_type": "stream",
     "text": [
      "[0.97426856 0.0186499  0.00346092] 0.9963793861835228\n",
      "[0.97323067 0.01906983 0.00365987] 0.9959603779217486\n",
      "[0.97809409 0.01641358 0.00268619] 0.9971938711247911\n"
     ]
    },
    {
     "name": "stderr",
     "output_type": "stream",
     "text": [
      "717it [01:02, 11.20it/s]"
     ]
    },
    {
     "name": "stdout",
     "output_type": "stream",
     "text": [
      "[0.98017195 0.01502506 0.00240196] 0.9975989675375958\n",
      "[0.97346565 0.01991114 0.00330512] 0.9966819130814574\n"
     ]
    },
    {
     "name": "stderr",
     "output_type": "stream",
     "text": [
      "719it [01:03, 10.70it/s]"
     ]
    },
    {
     "name": "stdout",
     "output_type": "stream",
     "text": [
      "[0.97948356 0.01514168 0.00267972] 0.9973049599006117\n",
      "[0.98339904 0.01199567 0.00221897] 0.9976136814669184\n"
     ]
    },
    {
     "name": "stderr",
     "output_type": "stream",
     "text": [
      "721it [01:03, 10.43it/s]"
     ]
    },
    {
     "name": "stdout",
     "output_type": "stream",
     "text": [
      "[0.98245862 0.01273411 0.00230479] 0.9974975172950117\n",
      "[0.9785991  0.01571002 0.00279734] 0.9971064557881608\n"
     ]
    },
    {
     "name": "stderr",
     "output_type": "stream",
     "text": [
      "723it [01:03,  9.95it/s]"
     ]
    },
    {
     "name": "stdout",
     "output_type": "stream",
     "text": [
      "[0.97991273 0.01501536 0.00255885] 0.9974869316393621\n",
      "[0.97882943 0.01534631 0.00286231] 0.997038055361662\n",
      "[0.98002777 0.0146456  0.00267762] 0.9973509912900019\n"
     ]
    },
    {
     "name": "stderr",
     "output_type": "stream",
     "text": [
      "727it [01:03,  9.92it/s]"
     ]
    },
    {
     "name": "stdout",
     "output_type": "stream",
     "text": [
      "[0.98035173 0.01440571 0.00261679] 0.9973742264107602\n",
      "[0.98179799 0.01308574 0.00247646] 0.9973601952348459\n",
      "[0.98372753 0.01178567 0.00210754] 0.9976207417177224\n"
     ]
    },
    {
     "name": "stderr",
     "output_type": "stream",
     "text": [
      "729it [01:04, 10.09it/s]"
     ]
    },
    {
     "name": "stdout",
     "output_type": "stream",
     "text": [
      "[0.98120938 0.01349507 0.00254079] 0.9972452401928185\n",
      "[0.97724601 0.01648003 0.0031586 ] 0.9968846378274419\n"
     ]
    },
    {
     "name": "stderr",
     "output_type": "stream",
     "text": [
      "732it [01:04,  9.67it/s]"
     ]
    },
    {
     "name": "stdout",
     "output_type": "stream",
     "text": [
      "[0.97938164 0.01490718 0.00284558] 0.9971344123109919\n",
      "[0.97783017 0.01613746 0.00294642] 0.9969140591752489\n",
      "[0.97865628 0.01553034 0.00292468] 0.9971112971011635\n"
     ]
    },
    {
     "name": "stderr",
     "output_type": "stream",
     "text": [
      "735it [01:04,  9.21it/s]"
     ]
    },
    {
     "name": "stdout",
     "output_type": "stream",
     "text": [
      "[0.97662385 0.0166008  0.00329034] 0.9965149916525522\n",
      "[0.9800334  0.01472583 0.00262324] 0.9973824773331987\n"
     ]
    },
    {
     "name": "stderr",
     "output_type": "stream",
     "text": [
      "737it [01:05,  8.92it/s]"
     ]
    },
    {
     "name": "stdout",
     "output_type": "stream",
     "text": [
      "[0.97626868 0.01687457 0.00326076] 0.9964040169465597\n",
      "[0.98085332 0.01393678 0.0025607 ] 0.997350806380284\n"
     ]
    },
    {
     "name": "stderr",
     "output_type": "stream",
     "text": [
      "739it [01:05,  8.36it/s]"
     ]
    },
    {
     "name": "stdout",
     "output_type": "stream",
     "text": [
      "[0.98029791 0.01428676 0.00263824] 0.9972229106891753\n",
      "[0.97673942 0.01667021 0.00321284] 0.9966224716631726\n"
     ]
    },
    {
     "name": "stderr",
     "output_type": "stream",
     "text": [
      "741it [01:05,  8.06it/s]"
     ]
    },
    {
     "name": "stdout",
     "output_type": "stream",
     "text": [
      "[0.97669979 0.01750636 0.00286196] 0.997068111939529\n",
      "[0.97816201 0.01654057 0.00260226] 0.9973048453645592\n"
     ]
    },
    {
     "name": "stderr",
     "output_type": "stream",
     "text": [
      "743it [01:05,  8.71it/s]"
     ]
    },
    {
     "name": "stdout",
     "output_type": "stream",
     "text": [
      "[0.97936458 0.01503882 0.00272852] 0.9971319252426387\n",
      "[0.98166538 0.01332108 0.00243409] 0.9974205507983936\n",
      "[0.97414194 0.01860648 0.00356629] 0.9963147105398302\n"
     ]
    },
    {
     "name": "stderr",
     "output_type": "stream",
     "text": [
      "746it [01:06,  8.67it/s]"
     ]
    },
    {
     "name": "stdout",
     "output_type": "stream",
     "text": [
      "[0.97774584 0.01625078 0.00301514] 0.9970117626572268\n",
      "[0.97624891 0.01725316 0.00321018] 0.9967122444146581\n"
     ]
    },
    {
     "name": "stderr",
     "output_type": "stream",
     "text": [
      "749it [01:06,  9.69it/s]"
     ]
    },
    {
     "name": "stdout",
     "output_type": "stream",
     "text": [
      "[0.97432794 0.01882518 0.00331955] 0.9964726745445714\n",
      "[0.97784643 0.01638602 0.00282243] 0.9970548840482756\n",
      "[0.97727336 0.01654329 0.00298098] 0.9967976314790574\n"
     ]
    },
    {
     "name": "stderr",
     "output_type": "stream",
     "text": [
      "751it [01:06, 10.28it/s]"
     ]
    },
    {
     "name": "stdout",
     "output_type": "stream",
     "text": [
      "[0.97483571 0.01885809 0.00312544] 0.9968192406624726\n",
      "[0.97900152 0.01534409 0.00277096] 0.997116571505551\n",
      "[0.97688351 0.0172341  0.00289425] 0.9970118641468891\n"
     ]
    },
    {
     "name": "stderr",
     "output_type": "stream",
     "text": [
      "755it [01:06, 10.55it/s]"
     ]
    },
    {
     "name": "stdout",
     "output_type": "stream",
     "text": [
      "[0.97647019 0.01728424 0.00305076] 0.9968051980543472\n",
      "[0.97673951 0.01782041 0.00279508] 0.997355003014807\n",
      "[0.97073808 0.02133457 0.00385144] 0.9959240867442399\n"
     ]
    },
    {
     "name": "stderr",
     "output_type": "stream",
     "text": [
      "757it [01:07, 10.29it/s]"
     ]
    },
    {
     "name": "stdout",
     "output_type": "stream",
     "text": [
      "[0.97426592 0.01906572 0.00335141] 0.9966830475685546\n",
      "[0.97897093 0.01567294 0.00269416] 0.997338032619556\n",
      "[0.98079042 0.01368922 0.00257691] 0.9970565441858349\n"
     ]
    },
    {
     "name": "stderr",
     "output_type": "stream",
     "text": [
      "759it [01:07, 10.27it/s]"
     ]
    },
    {
     "name": "stdout",
     "output_type": "stream",
     "text": [
      "[0.98492255 0.0109778  0.0020227 ] 0.9979230520057752\n",
      "[0.97415736 0.018559   0.00348102] 0.9961973768270593\n"
     ]
    },
    {
     "name": "stderr",
     "output_type": "stream",
     "text": [
      "763it [01:07, 10.09it/s]"
     ]
    },
    {
     "name": "stdout",
     "output_type": "stream",
     "text": [
      "[0.97701904 0.01744157 0.00289161] 0.997352225768266\n",
      "[0.97362192 0.01964646 0.00335982] 0.9966282090365318\n",
      "[0.97467247 0.01943189 0.00300634] 0.9971107020084979\n"
     ]
    },
    {
     "name": "stderr",
     "output_type": "stream",
     "text": [
      "765it [01:07, 10.33it/s]"
     ]
    },
    {
     "name": "stdout",
     "output_type": "stream",
     "text": [
      "[0.97251367 0.02053197 0.00349414] 0.9965397864837339\n",
      "[0.96844204 0.02278456 0.004238  ] 0.9954645992979615\n",
      "[0.97411003 0.01987891 0.00309534] 0.9970842868470702\n"
     ]
    },
    {
     "name": "stderr",
     "output_type": "stream",
     "text": [
      "769it [01:08, 10.32it/s]"
     ]
    },
    {
     "name": "stdout",
     "output_type": "stream",
     "text": [
      "[0.97642773 0.01762726 0.0030377 ] 0.9970926861508853\n",
      "[0.97734278 0.01713275 0.00280795] 0.9972834716428056\n",
      "[0.97637369 0.01757735 0.00299323] 0.996944266996453\n"
     ]
    },
    {
     "name": "stderr",
     "output_type": "stream",
     "text": [
      "771it [01:08, 10.64it/s]"
     ]
    },
    {
     "name": "stdout",
     "output_type": "stream",
     "text": [
      "[0.98008702 0.01493785 0.00249958] 0.9975244470271896\n",
      "[0.97590372 0.01716507 0.0033032 ] 0.9963719847155094\n",
      "[0.97964826 0.01487463 0.00268444] 0.9972073270438339\n"
     ]
    },
    {
     "name": "stderr",
     "output_type": "stream",
     "text": [
      "773it [01:08, 10.97it/s]"
     ]
    },
    {
     "name": "stdout",
     "output_type": "stream",
     "text": [
      "[0.97936182 0.01457915 0.00285135] 0.9967923149596696\n",
      "[0.98049762 0.01389995 0.00270473] 0.9971023020032621\n"
     ]
    },
    {
     "name": "stderr",
     "output_type": "stream",
     "text": [
      "777it [01:09, 10.62it/s]"
     ]
    },
    {
     "name": "stdout",
     "output_type": "stream",
     "text": [
      "[0.98044221 0.0142894  0.00258907] 0.9973206787880429\n",
      "[0.97770424 0.01652926 0.00283609] 0.9970695936012649\n",
      "[0.9728566  0.02017521 0.00347169] 0.9965034915453702\n"
     ]
    },
    {
     "name": "stderr",
     "output_type": "stream",
     "text": [
      "779it [01:09, 10.91it/s]"
     ]
    },
    {
     "name": "stdout",
     "output_type": "stream",
     "text": [
      "[0.97883115 0.01484254 0.00300528] 0.9966789659674986\n",
      "[0.98356597 0.01180973 0.00213892] 0.9975146222816017\n",
      "[0.9814373  0.01321812 0.00249012] 0.9971455442831795\n"
     ]
    },
    {
     "name": "stderr",
     "output_type": "stream",
     "text": [
      "783it [01:09, 10.43it/s]"
     ]
    },
    {
     "name": "stdout",
     "output_type": "stream",
     "text": [
      "[0.97125064 0.01971058 0.00415685] 0.9951180631686155\n",
      "[0.98918451 0.00766154 0.00145062] 0.9982966733675424\n",
      "[0.9926306  0.00490445 0.00103026] 0.9985653157051567\n"
     ]
    },
    {
     "name": "stderr",
     "output_type": "stream",
     "text": [
      "785it [01:09, 10.63it/s]"
     ]
    },
    {
     "name": "stdout",
     "output_type": "stream",
     "text": [
      "[0.99226888 0.00491525 0.00124663] 0.9984307569244271\n",
      "[0.98903243 0.00692841 0.00178558] 0.9977464212331854\n",
      "[0.98682637 0.00867099 0.00210665] 0.997604002963953\n"
     ]
    },
    {
     "name": "stderr",
     "output_type": "stream",
     "text": [
      "789it [01:10, 11.06it/s]"
     ]
    },
    {
     "name": "stdout",
     "output_type": "stream",
     "text": [
      "[0.97186297 0.01995652 0.00445018] 0.9962696635554443\n",
      "[0.97304301 0.01869212 0.00461008] 0.9963452096998201\n",
      "[0.9711265  0.01966203 0.0047992 ] 0.9955877319520803\n"
     ]
    },
    {
     "name": "stderr",
     "output_type": "stream",
     "text": [
      "791it [01:10, 11.12it/s]"
     ]
    },
    {
     "name": "stdout",
     "output_type": "stream",
     "text": [
      "[0.97270151 0.01903168 0.00437581] 0.9961089977468954\n",
      "[0.96968842 0.02136748 0.00472156] 0.9957774639803304\n",
      "[0.97739154 0.0160123  0.00332802] 0.9967318618433914\n"
     ]
    },
    {
     "name": "stderr",
     "output_type": "stream",
     "text": [
      "795it [01:10, 11.29it/s]"
     ]
    },
    {
     "name": "stdout",
     "output_type": "stream",
     "text": [
      "[0.98274161 0.01206269 0.00256082] 0.9973651204917053\n",
      "[0.98127354 0.01292325 0.00278641] 0.9969831992952998\n",
      "[0.97741079 0.0160123  0.00324463] 0.9966677142463438\n"
     ]
    },
    {
     "name": "stderr",
     "output_type": "stream",
     "text": [
      "797it [01:10, 10.48it/s]"
     ]
    },
    {
     "name": "stdout",
     "output_type": "stream",
     "text": [
      "[0.96674233 0.02410873 0.00459339] 0.9954444522094991\n",
      "[0.97518647 0.0187323  0.00322058] 0.9971393549074149\n",
      "[0.97885819 0.01539205 0.00288873] 0.9971389692574025\n"
     ]
    },
    {
     "name": "stderr",
     "output_type": "stream",
     "text": [
      "801it [01:11, 10.79it/s]"
     ]
    },
    {
     "name": "stdout",
     "output_type": "stream",
     "text": [
      "[0.9814887  0.01272299 0.00271992] 0.9969316022193943\n",
      "[0.9865735  0.00953281 0.00195354] 0.998059856070914\n",
      "[0.98098152 0.01328289 0.00273764] 0.9970020557492385\n"
     ]
    },
    {
     "name": "stderr",
     "output_type": "stream",
     "text": [
      "803it [01:11, 10.92it/s]"
     ]
    },
    {
     "name": "stdout",
     "output_type": "stream",
     "text": [
      "[0.97538859 0.01719312 0.00360614] 0.9961878480030634\n",
      "[0.97946576 0.0149048  0.00303246] 0.9974030224885496\n",
      "[0.96531119 0.02362381 0.00527919] 0.9942141957130847\n"
     ]
    },
    {
     "name": "stderr",
     "output_type": "stream",
     "text": [
      "807it [01:11, 10.79it/s]"
     ]
    },
    {
     "name": "stdout",
     "output_type": "stream",
     "text": [
      "[0.96718319 0.02350317 0.00519342] 0.9958797852487713\n",
      "[0.96689766 0.02431446 0.005002  ] 0.9962141269164998\n",
      "[0.97260958 0.01972025 0.00415671] 0.9964865318262596\n"
     ]
    },
    {
     "name": "stderr",
     "output_type": "stream",
     "text": [
      "809it [01:12, 11.00it/s]"
     ]
    },
    {
     "name": "stdout",
     "output_type": "stream",
     "text": [
      "[0.97382885 0.01873777 0.00386873] 0.9964353489152795\n",
      "[0.96730824 0.02397421 0.00483471] 0.9961171632886049\n",
      "[0.96966591 0.02310789 0.00417702] 0.9969508251499659\n"
     ]
    },
    {
     "name": "stderr",
     "output_type": "stream",
     "text": [
      "813it [01:12, 11.07it/s]"
     ]
    },
    {
     "name": "stdout",
     "output_type": "stream",
     "text": [
      "[0.96944569 0.02281022 0.00428822] 0.9965441326440383\n",
      "[0.97548755 0.01847133 0.00340673] 0.9973656196826695\n",
      "[0.97365464 0.01936034 0.00378373] 0.996798717047511\n"
     ]
    },
    {
     "name": "stderr",
     "output_type": "stream",
     "text": [
      "815it [01:12, 10.67it/s]"
     ]
    },
    {
     "name": "stdout",
     "output_type": "stream",
     "text": [
      "[0.97100624 0.02129457 0.00418496] 0.9964857694422552\n",
      "[0.96792122 0.02350173 0.0045001 ] 0.995923047335682\n",
      "[0.97384876 0.01895534 0.00369561] 0.9964997072368305\n"
     ]
    },
    {
     "name": "stderr",
     "output_type": "stream",
     "text": [
      "819it [01:12, 11.03it/s]"
     ]
    },
    {
     "name": "stdout",
     "output_type": "stream",
     "text": [
      "[0.97304591 0.01921757 0.00393179] 0.996195270583083\n",
      "[0.97838139 0.01581879 0.00307835] 0.9972785305655265\n",
      "[0.97494127 0.01759684 0.0036875 ] 0.9962256126038198\n"
     ]
    },
    {
     "name": "stderr",
     "output_type": "stream",
     "text": [
      "821it [01:13, 11.12it/s]"
     ]
    },
    {
     "name": "stdout",
     "output_type": "stream",
     "text": [
      "[0.98259176 0.01234201 0.0025775 ] 0.9975112721953824\n",
      "[0.97789378 0.01556047 0.00318941] 0.9966436620198255\n",
      "[0.97121373 0.02091604 0.00423324] 0.9963630028747242\n"
     ]
    },
    {
     "name": "stderr",
     "output_type": "stream",
     "text": [
      "825it [01:13, 11.32it/s]"
     ]
    },
    {
     "name": "stdout",
     "output_type": "stream",
     "text": [
      "[0.96982489 0.02194406 0.00430361] 0.9960725615947686\n",
      "[0.97363892 0.01964166 0.00366796] 0.996948538675486\n",
      "[0.96532124 0.0250522  0.00488417] 0.9952576110319663\n"
     ]
    },
    {
     "name": "stderr",
     "output_type": "stream",
     "text": [
      "827it [01:13, 11.26it/s]"
     ]
    },
    {
     "name": "stdout",
     "output_type": "stream",
     "text": [
      "[0.97718238 0.0164431  0.00331538] 0.9969408515992283\n",
      "[0.97533621 0.01701952 0.00362483] 0.9959805481913848\n",
      "[0.98239121 0.01285758 0.00242359] 0.9976723834820398\n"
     ]
    },
    {
     "name": "stderr",
     "output_type": "stream",
     "text": [
      "831it [01:13, 10.89it/s]"
     ]
    },
    {
     "name": "stdout",
     "output_type": "stream",
     "text": [
      "[0.97471325 0.01811676 0.00353799] 0.9963679939843315\n",
      "[0.97855182 0.01553591 0.00307141] 0.9971591381279925\n",
      "[0.98006345 0.01464362 0.00278456] 0.9974916237405258\n"
     ]
    },
    {
     "name": "stderr",
     "output_type": "stream",
     "text": [
      "833it [01:14, 11.00it/s]"
     ]
    },
    {
     "name": "stdout",
     "output_type": "stream",
     "text": [
      "[0.97929059 0.01545125 0.0028493 ] 0.9975911423135188\n",
      "[0.96944184 0.02203961 0.00436686] 0.9958483035462316\n",
      "[0.96668479 0.0245366  0.00474582] 0.9959672171877553\n"
     ]
    },
    {
     "name": "stderr",
     "output_type": "stream",
     "text": [
      "837it [01:14, 10.76it/s]"
     ]
    },
    {
     "name": "stdout",
     "output_type": "stream",
     "text": [
      "[0.97402248 0.01922525 0.00355561] 0.9968033307416094\n",
      "[0.97154568 0.02087179 0.00386561] 0.9962830799601929\n",
      "[0.97279116 0.01987043 0.00369921] 0.996360787736496\n"
     ]
    },
    {
     "name": "stderr",
     "output_type": "stream",
     "text": [
      "839it [01:14, 11.01it/s]"
     ]
    },
    {
     "name": "stdout",
     "output_type": "stream",
     "text": [
      "[0.97223447 0.02088694 0.00353754] 0.9966589484652492\n",
      "[0.98416634 0.01114578 0.00223554] 0.9975476661624224\n",
      "[0.98829549 0.00816271 0.00167256] 0.9981307534645663\n"
     ]
    },
    {
     "name": "stderr",
     "output_type": "stream",
     "text": [
      "843it [01:15, 10.64it/s]"
     ]
    },
    {
     "name": "stdout",
     "output_type": "stream",
     "text": [
      "[0.98832053 0.00821179 0.00166483] 0.9981971502937999\n",
      "[0.99130439 0.00609209 0.00121735] 0.9986138265987999\n",
      "[0.98645089 0.00926836 0.00199595] 0.9977152061974958\n"
     ]
    },
    {
     "name": "stderr",
     "output_type": "stream",
     "text": [
      "845it [01:15, 10.70it/s]"
     ]
    },
    {
     "name": "stdout",
     "output_type": "stream",
     "text": [
      "[0.99081333 0.00623284 0.00135309] 0.9983992607741744\n",
      "[0.98928573 0.00734775 0.00158987] 0.9982233538802279\n"
     ]
    },
    {
     "name": "stderr",
     "output_type": "stream",
     "text": [
      "847it [01:15, 10.77it/s]"
     ]
    },
    {
     "name": "stdout",
     "output_type": "stream",
     "text": [
      "[0.9775339  0.01537769 0.00328885] 0.9962004331178629\n",
      "[0.9669026  0.02411064 0.00498227] 0.9959955005035802\n",
      "[0.96629895 0.0241252  0.00519957] 0.9956237256645661\n"
     ]
    },
    {
     "name": "stderr",
     "output_type": "stream",
     "text": [
      "851it [01:15, 10.64it/s]"
     ]
    },
    {
     "name": "stdout",
     "output_type": "stream",
     "text": [
      "[0.96796362 0.02356328 0.00473202] 0.9962589151173967\n",
      "[0.96990509 0.02216586 0.00424363] 0.996314586519548\n",
      "[0.97632134 0.01736837 0.00328271] 0.9969724086279164\n"
     ]
    },
    {
     "name": "stderr",
     "output_type": "stream",
     "text": [
      "853it [01:16, 10.23it/s]"
     ]
    },
    {
     "name": "stdout",
     "output_type": "stream",
     "text": [
      "[0.97895462 0.01566139 0.00283864] 0.9974546547205202\n",
      "[0.97162309 0.02032522 0.00401398] 0.9959622965329243\n",
      "[0.97162735 0.02073449 0.00382166] 0.9961834997669208\n"
     ]
    },
    {
     "name": "stderr",
     "output_type": "stream",
     "text": [
      "857it [01:16, 10.30it/s]"
     ]
    },
    {
     "name": "stdout",
     "output_type": "stream",
     "text": [
      "[0.97411148 0.01910935 0.00346088] 0.9966817068262043\n",
      "[0.97539156 0.01853828 0.00318351] 0.9971133454959688\n",
      "[0.97207719 0.02079805 0.0036521 ] 0.9965273383314883\n"
     ]
    },
    {
     "name": "stderr",
     "output_type": "stream",
     "text": [
      "859it [01:16, 10.67it/s]"
     ]
    },
    {
     "name": "stdout",
     "output_type": "stream",
     "text": [
      "[0.97368195 0.01998311 0.00338454] 0.99704960350787\n",
      "[0.97142875 0.02101327 0.00391913] 0.9963611410662603\n",
      "[0.97320379 0.01989268 0.00361226] 0.9967087385121238\n"
     ]
    },
    {
     "name": "stderr",
     "output_type": "stream",
     "text": [
      "863it [01:17, 10.70it/s]"
     ]
    },
    {
     "name": "stdout",
     "output_type": "stream",
     "text": [
      "[0.97839534 0.01528412 0.00300842] 0.9966878767682671\n",
      "[0.98373688 0.01157378 0.00228476] 0.9975954139317782\n",
      "[0.98036307 0.01390863 0.00286407] 0.9971357643393538\n"
     ]
    },
    {
     "name": "stderr",
     "output_type": "stream",
     "text": [
      "865it [01:17, 10.92it/s]"
     ]
    },
    {
     "name": "stdout",
     "output_type": "stream",
     "text": [
      "[0.96659778 0.02344483 0.00501318] 0.9950557949686972\n",
      "[0.97397896 0.01848574 0.00376853] 0.9962332332707655\n",
      "[0.97699853 0.01566178 0.00340678] 0.9960670856182725\n"
     ]
    },
    {
     "name": "stderr",
     "output_type": "stream",
     "text": [
      "869it [01:17, 11.12it/s]"
     ]
    },
    {
     "name": "stdout",
     "output_type": "stream",
     "text": [
      "[0.98204277 0.01283475 0.00242652] 0.9973040361039178\n",
      "[0.98410733 0.0111093  0.00227283] 0.9974894612347455\n",
      "[0.98397356 0.01119302 0.0022791 ] 0.9974456901235773\n"
     ]
    },
    {
     "name": "stderr",
     "output_type": "stream",
     "text": [
      "871it [01:17, 10.96it/s]"
     ]
    },
    {
     "name": "stdout",
     "output_type": "stream",
     "text": [
      "[0.98339318 0.01171471 0.00235383] 0.9974617157440229\n",
      "[0.97676948 0.01658657 0.00317622] 0.9965322694159175\n",
      "[0.97067989 0.02147866 0.00396818] 0.9961267297273146\n"
     ]
    },
    {
     "name": "stderr",
     "output_type": "stream",
     "text": [
      "873it [01:17, 11.44it/s]"
     ]
    },
    {
     "name": "stdout",
     "output_type": "stream",
     "text": [
      "[0.9711365  0.0214952  0.00383743] 0.9964691374351703\n",
      "[0.9739959  0.01939947 0.00352487] 0.9969202482209224\n",
      "[0.97402587 0.01884618 0.00373125] 0.9966032901687318\n"
     ]
    },
    {
     "name": "stderr",
     "output_type": "stream",
     "text": [
      "877it [01:18, 11.22it/s]"
     ]
    },
    {
     "name": "stdout",
     "output_type": "stream",
     "text": [
      "[0.97517903 0.01837642 0.00338264] 0.9969380800903981\n",
      "[0.96909717 0.02223331 0.00428139] 0.9956118648699471\n",
      "[0.97502794 0.0180457  0.00348926] 0.9965629073713759\n"
     ]
    },
    {
     "name": "stderr",
     "output_type": "stream",
     "text": [
      "881it [01:18, 11.27it/s]"
     ]
    },
    {
     "name": "stdout",
     "output_type": "stream",
     "text": [
      "[0.97363659 0.01902079 0.00383216] 0.9964895433272815\n",
      "[0.97182151 0.02073225 0.0038823 ] 0.9964360655505109\n",
      "[0.97453951 0.0193278  0.00326488] 0.9971321903036912\n"
     ]
    },
    {
     "name": "stderr",
     "output_type": "stream",
     "text": [
      "883it [01:18, 11.67it/s]"
     ]
    },
    {
     "name": "stdout",
     "output_type": "stream",
     "text": [
      "[0.96556244 0.02489042 0.00480454] 0.9952574040033852\n",
      "[0.97056443 0.02132747 0.00424497] 0.996136865670631\n",
      "[0.96441642 0.02539922 0.00510759] 0.9949232259510933\n"
     ]
    },
    {
     "name": "stderr",
     "output_type": "stream",
     "text": [
      "887it [01:19, 11.42it/s]"
     ]
    },
    {
     "name": "stdout",
     "output_type": "stream",
     "text": [
      "[0.97323286 0.01975941 0.00362612] 0.9966183941786034\n",
      "[0.97789052 0.01627682 0.00297685] 0.9971441949473768\n",
      "[0.98069223 0.01416575 0.00266364] 0.9975216160933017\n"
     ]
    },
    {
     "name": "stderr",
     "output_type": "stream",
     "text": [
      "889it [01:19, 11.70it/s]"
     ]
    },
    {
     "name": "stdout",
     "output_type": "stream",
     "text": [
      "[0.97512677 0.0173607  0.00373877] 0.9962262489644931\n",
      "[0.96927796 0.02188569 0.00460915] 0.995772800179434\n",
      "[0.97499405 0.01841027 0.00369266] 0.9970969781886331\n"
     ]
    },
    {
     "name": "stderr",
     "output_type": "stream",
     "text": [
      "893it [01:19, 11.50it/s]"
     ]
    },
    {
     "name": "stdout",
     "output_type": "stream",
     "text": [
      "[0.9777891  0.01585936 0.00335909] 0.9970075461762735\n",
      "[0.97795046 0.01566892 0.00312268] 0.9967420639153056\n",
      "[0.97941016 0.01475979 0.00290466] 0.9970746095533175\n"
     ]
    },
    {
     "name": "stderr",
     "output_type": "stream",
     "text": [
      "895it [01:19, 11.45it/s]"
     ]
    },
    {
     "name": "stdout",
     "output_type": "stream",
     "text": [
      "[0.97565256 0.01808328 0.00317063] 0.9969064762910539\n",
      "[0.97629252 0.01744763 0.00316002] 0.9969001710789972\n",
      "[0.97863516 0.01542114 0.00294591] 0.9970022191622366\n"
     ]
    },
    {
     "name": "stderr",
     "output_type": "stream",
     "text": [
      "899it [01:20, 11.88it/s]"
     ]
    },
    {
     "name": "stdout",
     "output_type": "stream",
     "text": [
      "[0.97818935 0.01545634 0.00317776] 0.9968234475335229\n",
      "[0.97654407 0.01717107 0.00336389] 0.9970790256654793\n",
      "[0.96998082 0.02190172 0.00438107] 0.9962636033995004\n"
     ]
    },
    {
     "name": "stderr",
     "output_type": "stream",
     "text": [
      "901it [01:20, 11.80it/s]"
     ]
    },
    {
     "name": "stdout",
     "output_type": "stream",
     "text": [
      "[0.97684136 0.01632766 0.00343464] 0.9966036651808091\n",
      "[0.98393184 0.01120361 0.00234856] 0.9974840055562595\n",
      "[0.98228707 0.0122831  0.00253976] 0.997109926072571\n"
     ]
    },
    {
     "name": "stderr",
     "output_type": "stream",
     "text": [
      "905it [01:20, 11.67it/s]"
     ]
    },
    {
     "name": "stdout",
     "output_type": "stream",
     "text": [
      "[0.98718839 0.0090472  0.00175304] 0.9979886317302489\n",
      "[0.98230919 0.01165027 0.00270811] 0.9966675646647527\n",
      "[0.97656902 0.01519187 0.00357995] 0.9953408505040208\n"
     ]
    },
    {
     "name": "stderr",
     "output_type": "stream",
     "text": [
      "907it [01:20, 11.99it/s]"
     ]
    },
    {
     "name": "stdout",
     "output_type": "stream",
     "text": [
      "[0.99226672 0.00531569 0.00107585] 0.9986582586383271\n",
      "[0.99180827 0.00555477 0.00116829] 0.9985313290793728\n",
      "[0.9871752  0.00841816 0.00200668] 0.9976000433524174\n"
     ]
    },
    {
     "name": "stderr",
     "output_type": "stream",
     "text": [
      "911it [01:21, 11.56it/s]"
     ]
    },
    {
     "name": "stdout",
     "output_type": "stream",
     "text": [
      "[0.99276927 0.00482687 0.00108792] 0.9986840594509251\n",
      "[0.99140662 0.00567655 0.00128125] 0.9983644194574173\n",
      "[0.98662562 0.00867224 0.00213231] 0.9974301689210789\n"
     ]
    },
    {
     "name": "stderr",
     "output_type": "stream",
     "text": [
      "913it [01:21, 11.53it/s]"
     ]
    },
    {
     "name": "stdout",
     "output_type": "stream",
     "text": [
      "[0.98840588 0.00731286 0.00197403] 0.997692768675934\n",
      "[0.9862524  0.00884031 0.00235905] 0.9974517609009873\n",
      "[0.97801542 0.01476497 0.00345856] 0.9962389541785087\n"
     ]
    },
    {
     "name": "stderr",
     "output_type": "stream",
     "text": [
      "917it [01:21, 11.75it/s]"
     ]
    },
    {
     "name": "stdout",
     "output_type": "stream",
     "text": [
      "[0.97933143 0.01398857 0.00337611] 0.9966961065577166\n",
      "[0.97937132 0.01399481 0.00343098] 0.996797109311991\n",
      "[0.98351285 0.01073356 0.00258343] 0.9968298460013159\n"
     ]
    },
    {
     "name": "stderr",
     "output_type": "stream",
     "text": [
      "919it [01:21, 11.66it/s]"
     ]
    },
    {
     "name": "stdout",
     "output_type": "stream",
     "text": [
      "[0.99023845 0.00652721 0.00150516] 0.9982708127488789\n",
      "[0.98356256 0.01081832 0.00254194] 0.9969228120447008\n",
      "[0.98243836 0.01127976 0.00316093] 0.996879054248346\n"
     ]
    },
    {
     "name": "stderr",
     "output_type": "stream",
     "text": [
      "923it [01:22, 11.82it/s]"
     ]
    },
    {
     "name": "stdout",
     "output_type": "stream",
     "text": [
      "[0.98465481 0.00955124 0.00288191] 0.9970879538332647\n",
      "[0.98464311 0.00986069 0.00271757] 0.997221365828848\n",
      "[0.98170141 0.0123246  0.00303474] 0.9970607497304976\n"
     ]
    },
    {
     "name": "stderr",
     "output_type": "stream",
     "text": [
      "925it [01:22, 11.87it/s]"
     ]
    },
    {
     "name": "stdout",
     "output_type": "stream",
     "text": [
      "[0.98119672 0.01268336 0.00295974] 0.9968398236940605\n",
      "[0.98494432 0.0101925  0.00232876] 0.997465579546379\n",
      "[0.98390192 0.011177   0.0023552 ] 0.9974341182766001\n"
     ]
    },
    {
     "name": "stderr",
     "output_type": "stream",
     "text": [
      "929it [01:22, 11.69it/s]"
     ]
    },
    {
     "name": "stdout",
     "output_type": "stream",
     "text": [
      "[0.98269099 0.0120865  0.00249627] 0.9972737645440309\n",
      "[0.97712295 0.01606279 0.00317159] 0.9963573291973248\n",
      "[0.98085176 0.01320587 0.00312329] 0.9971809193175992\n"
     ]
    },
    {
     "name": "stderr",
     "output_type": "stream",
     "text": [
      "931it [01:22, 11.51it/s]"
     ]
    },
    {
     "name": "stdout",
     "output_type": "stream",
     "text": [
      "[0.9778692  0.01409228 0.0039123 ] 0.9958737787032553\n",
      "[0.98085405 0.01277488 0.00332553] 0.9969544619365004\n",
      "[0.98122888 0.01332036 0.00288573] 0.9974349633251142\n"
     ]
    },
    {
     "name": "stderr",
     "output_type": "stream",
     "text": [
      "935it [01:23, 11.62it/s]"
     ]
    },
    {
     "name": "stdout",
     "output_type": "stream",
     "text": [
      "[0.98492172 0.01004475 0.00247209] 0.9974385579353289\n",
      "[0.9866624  0.00820458 0.0023916 ] 0.997258573453001\n",
      "[0.98762398 0.00775207 0.00227066] 0.997646708522887\n"
     ]
    },
    {
     "name": "stderr",
     "output_type": "stream",
     "text": [
      "937it [01:23, 11.48it/s]"
     ]
    },
    {
     "name": "stdout",
     "output_type": "stream",
     "text": [
      "[0.98908038 0.00640325 0.00222429] 0.9977079165887911\n",
      "[0.98668233 0.00804364 0.00254655] 0.9972725184462233\n",
      "[0.98703429 0.00872328 0.0021682 ] 0.9979257772608828\n"
     ]
    },
    {
     "name": "stderr",
     "output_type": "stream",
     "text": [
      "941it [01:23, 11.43it/s]"
     ]
    },
    {
     "name": "stdout",
     "output_type": "stream",
     "text": [
      "[0.98208128 0.01212918 0.00293994] 0.997150406802638\n",
      "[0.98240627 0.01184008 0.00292188] 0.997168231362251\n",
      "[0.97316393 0.01927611 0.00407944] 0.9965194921793443\n"
     ]
    },
    {
     "name": "stderr",
     "output_type": "stream",
     "text": [
      "943it [01:23, 11.49it/s]"
     ]
    },
    {
     "name": "stdout",
     "output_type": "stream",
     "text": [
      "[0.9785371  0.01482157 0.00337102] 0.9967296769745111\n",
      "[0.98689072 0.00920581 0.00190284] 0.9979993705948011\n",
      "[0.98806064 0.008469   0.00176581] 0.9982954490877812\n"
     ]
    },
    {
     "name": "stderr",
     "output_type": "stream",
     "text": [
      "947it [01:24, 11.52it/s]"
     ]
    },
    {
     "name": "stdout",
     "output_type": "stream",
     "text": [
      "[0.9814221  0.01247163 0.00302843] 0.9969221613349747\n",
      "[0.97869086 0.01447122 0.00339178] 0.9965538580097916\n",
      "[0.98249406 0.01229748 0.00280049] 0.9975920321216906\n"
     ]
    },
    {
     "name": "stderr",
     "output_type": "stream",
     "text": [
      "949it [01:24, 11.33it/s]"
     ]
    },
    {
     "name": "stdout",
     "output_type": "stream",
     "text": [
      "[0.98161554 0.01286432 0.00271732] 0.9971971808681608\n",
      "[0.98020136 0.01388889 0.00283504] 0.9969252943116371\n",
      "[0.98185774 0.01308118 0.00256674] 0.9975056562821837\n"
     ]
    },
    {
     "name": "stderr",
     "output_type": "stream",
     "text": [
      "953it [01:24, 11.70it/s]"
     ]
    },
    {
     "name": "stdout",
     "output_type": "stream",
     "text": [
      "[0.98208084 0.01231537 0.00265019] 0.9970463951921655\n",
      "[0.98633259 0.00881653 0.0025151 ] 0.9976642242432565\n",
      "[0.98603056 0.00941309 0.00221048] 0.9976541275413914\n"
     ]
    },
    {
     "name": "stderr",
     "output_type": "stream",
     "text": [
      "955it [01:24, 11.31it/s]"
     ]
    },
    {
     "name": "stdout",
     "output_type": "stream",
     "text": [
      "[0.97523147 0.01701381 0.00378002] 0.9960253017013363\n",
      "[0.97492821 0.01859352 0.00365759] 0.9971793163075623\n",
      "[0.97724041 0.01679225 0.00326261] 0.9972952713306873\n"
     ]
    },
    {
     "name": "stderr",
     "output_type": "stream",
     "text": [
      "959it [01:25, 11.53it/s]"
     ]
    },
    {
     "name": "stdout",
     "output_type": "stream",
     "text": [
      "[0.97238117 0.01900423 0.00454112] 0.9959265188837525\n",
      "[0.9753937  0.01743334 0.00381796] 0.9966449901687544\n",
      "[0.97447686 0.0183466  0.00388306] 0.9967065235739689\n"
     ]
    },
    {
     "name": "stderr",
     "output_type": "stream",
     "text": [
      "961it [01:25, 11.49it/s]"
     ]
    },
    {
     "name": "stdout",
     "output_type": "stream",
     "text": [
      "[0.97371488 0.01831608 0.00409785] 0.9961288058947305\n",
      "[0.97718217 0.01639767 0.00339314] 0.9969729738188433\n",
      "[0.97256323 0.01986793 0.00410265] 0.9965338063655022\n"
     ]
    },
    {
     "name": "stderr",
     "output_type": "stream",
     "text": [
      "965it [01:25, 11.55it/s]"
     ]
    },
    {
     "name": "stdout",
     "output_type": "stream",
     "text": [
      "[0.97343717 0.0180567  0.00442977] 0.9959236450688739\n",
      "[0.97513347 0.0168853  0.0041143 ] 0.9961330791645002\n",
      "[0.98372901 0.01140398 0.00244361] 0.9975765952768268\n"
     ]
    },
    {
     "name": "stderr",
     "output_type": "stream",
     "text": [
      "967it [01:26, 11.34it/s]"
     ]
    },
    {
     "name": "stdout",
     "output_type": "stream",
     "text": [
      "[0.98319533 0.01188237 0.00240477] 0.9974824684185476\n",
      "[0.97386974 0.01767119 0.00396184] 0.9955027613665479\n",
      "[0.9825452  0.01230653 0.00265735] 0.9975090849284016\n"
     ]
    },
    {
     "name": "stderr",
     "output_type": "stream",
     "text": [
      "971it [01:26, 11.48it/s]"
     ]
    },
    {
     "name": "stdout",
     "output_type": "stream",
     "text": [
      "[0.98283229 0.0117866  0.00273955] 0.9973584379231276\n",
      "[0.98064524 0.01333942 0.00310372] 0.997088379579473\n",
      "[0.9792051  0.01459762 0.00312582] 0.9969285508045397\n"
     ]
    },
    {
     "name": "stderr",
     "output_type": "stream",
     "text": [
      "973it [01:26, 11.62it/s]"
     ]
    },
    {
     "name": "stdout",
     "output_type": "stream",
     "text": [
      "[0.98197033 0.01210881 0.00290661] 0.9969857507042336\n",
      "[0.97994023 0.01348233 0.00322142] 0.9966439891901028\n",
      "[0.98617981 0.00927192 0.00227003] 0.9977217600217356\n"
     ]
    },
    {
     "name": "stderr",
     "output_type": "stream",
     "text": [
      "977it [01:26, 11.79it/s]"
     ]
    },
    {
     "name": "stdout",
     "output_type": "stream",
     "text": [
      "[0.98474611 0.00977194 0.00253033] 0.9970483837853448\n",
      "[0.9828124  0.01152232 0.00276763] 0.9971023434635833\n",
      "[0.97774013 0.01564744 0.00333095] 0.996718512726866\n"
     ]
    },
    {
     "name": "stderr",
     "output_type": "stream",
     "text": [
      "979it [01:27, 11.58it/s]"
     ]
    },
    {
     "name": "stdout",
     "output_type": "stream",
     "text": [
      "[0.97680382 0.01690624 0.00346292] 0.997172969291495\n",
      "[0.96456792 0.02545263 0.00531541] 0.9953359596715676\n",
      "[0.96636153 0.02412622 0.00536004] 0.9958477928377251\n"
     ]
    },
    {
     "name": "stderr",
     "output_type": "stream",
     "text": [
      "983it [01:27, 11.69it/s]"
     ]
    },
    {
     "name": "stdout",
     "output_type": "stream",
     "text": [
      "[0.96874246 0.02236517 0.0049012 ] 0.9960088234298556\n",
      "[0.9696775  0.02181593 0.00486621] 0.996359629735845\n",
      "[0.98333834 0.01165743 0.00249469] 0.9974904598029546\n"
     ]
    },
    {
     "name": "stderr",
     "output_type": "stream",
     "text": [
      "985it [01:27, 11.47it/s]"
     ]
    },
    {
     "name": "stdout",
     "output_type": "stream",
     "text": [
      "[0.9854229  0.01043278 0.00209181] 0.997947492128596\n",
      "[0.9777839  0.01547267 0.00327749] 0.9965340567333763\n"
     ]
    },
    {
     "name": "stderr",
     "output_type": "stream",
     "text": [
      "987it [01:27, 11.09it/s]"
     ]
    },
    {
     "name": "stdout",
     "output_type": "stream",
     "text": [
      "[0.97976552 0.01465087 0.00305926] 0.997475652043628\n",
      "[0.97544942 0.01728511 0.00382778] 0.996562310058205\n",
      "[0.970461   0.02050565 0.00464955] 0.9956162004685805\n"
     ]
    },
    {
     "name": "stderr",
     "output_type": "stream",
     "text": [
      "991it [01:28, 11.29it/s]"
     ]
    },
    {
     "name": "stdout",
     "output_type": "stream",
     "text": [
      "[0.97890564 0.01516091 0.00321409] 0.9972806342765835\n",
      "[0.98015342 0.01420246 0.00296756] 0.9973234440953606\n",
      "[0.97868413 0.01509871 0.00316162] 0.996944458133182\n"
     ]
    },
    {
     "name": "stderr",
     "output_type": "stream",
     "text": [
      "993it [01:28, 11.39it/s]"
     ]
    },
    {
     "name": "stdout",
     "output_type": "stream",
     "text": [
      "[0.96726681 0.02308247 0.00497853] 0.9953278139257807\n",
      "[0.96281216 0.02736021 0.00548479] 0.9956571613998744\n",
      "[0.96791076 0.02362199 0.004797  ] 0.9963297510384858\n"
     ]
    },
    {
     "name": "stderr",
     "output_type": "stream",
     "text": [
      "997it [01:28, 11.50it/s]"
     ]
    },
    {
     "name": "stdout",
     "output_type": "stream",
     "text": [
      "[0.97320974 0.01844159 0.00445089] 0.9961022230368995\n",
      "[0.97590867 0.01729955 0.00388096] 0.9970891845483089\n",
      "[0.97096277 0.02034785 0.00474734] 0.9960579636434305\n"
     ]
    },
    {
     "name": "stderr",
     "output_type": "stream",
     "text": [
      "999it [01:28, 11.39it/s]"
     ]
    },
    {
     "name": "stdout",
     "output_type": "stream",
     "text": [
      "[0.97291697 0.01868416 0.00428818] 0.99588931280252\n",
      "[0.97465057 0.01730562 0.00386679] 0.9958229900230471\n",
      "[0.98488249 0.01079918 0.00221421] 0.9978958818927808\n"
     ]
    },
    {
     "name": "stderr",
     "output_type": "stream",
     "text": [
      "1003it [01:29, 11.51it/s]"
     ]
    },
    {
     "name": "stdout",
     "output_type": "stream",
     "text": [
      "[0.97937111 0.01511291 0.00272985] 0.9972138661881665\n",
      "[0.96703361 0.02537517 0.00443794] 0.996846721212089\n",
      "[0.96081057 0.02915384 0.00536394] 0.9953283510009419\n"
     ]
    },
    {
     "name": "stderr",
     "output_type": "stream",
     "text": [
      "1005it [01:29, 11.55it/s]"
     ]
    },
    {
     "name": "stdout",
     "output_type": "stream",
     "text": [
      "[0.96290041 0.02724314 0.00569338] 0.9958369325680191\n",
      "[0.96958579 0.02182729 0.00473614] 0.9961492243022547\n",
      "[0.97257286 0.01972882 0.00417487] 0.9964765460299605\n"
     ]
    },
    {
     "name": "stderr",
     "output_type": "stream",
     "text": [
      "1007it [01:29, 11.72it/s]"
     ]
    },
    {
     "name": "stdout",
     "output_type": "stream",
     "text": [
      "[0.96972278 0.02178504 0.00469141] 0.9961992260347277\n",
      "[0.96896564 0.02244524 0.00473342] 0.9961442954399466\n"
     ]
    },
    {
     "name": "stderr",
     "output_type": "stream",
     "text": [
      "1011it [01:29, 11.20it/s]"
     ]
    },
    {
     "name": "stdout",
     "output_type": "stream",
     "text": [
      "[0.96874059 0.02269073 0.00482428] 0.9962555952058296\n",
      "[0.96945298 0.02168167 0.00485794] 0.9959925855073212\n",
      "[0.96918978 0.02205848 0.0050629 ] 0.9963111637186682\n"
     ]
    },
    {
     "name": "stderr",
     "output_type": "stream",
     "text": [
      "1013it [01:30, 11.33it/s]"
     ]
    },
    {
     "name": "stdout",
     "output_type": "stream",
     "text": [
      "[0.97076025 0.02070996 0.00485911] 0.9963293168656472\n",
      "[0.96690459 0.02381747 0.0048783 ] 0.9956003590802176\n",
      "[0.9743017  0.01868718 0.00360909] 0.9965979774889079\n"
     ]
    },
    {
     "name": "stderr",
     "output_type": "stream",
     "text": [
      "1017it [01:30, 11.80it/s]"
     ]
    },
    {
     "name": "stdout",
     "output_type": "stream",
     "text": [
      "[0.97442569 0.01905253 0.00350102] 0.9969792400802884\n",
      "[0.97205518 0.02014648 0.00408603] 0.9962876940936971\n",
      "[0.977385   0.01592945 0.00354131] 0.9968557520370868\n"
     ]
    },
    {
     "name": "stderr",
     "output_type": "stream",
     "text": [
      "1019it [01:30, 11.37it/s]"
     ]
    },
    {
     "name": "stdout",
     "output_type": "stream",
     "text": [
      "[0.97787378 0.01540706 0.00327111] 0.996551946452711\n",
      "[0.97821714 0.01538071 0.00308553] 0.9966833785009745\n",
      "[0.97371934 0.01910964 0.0037408 ] 0.9965697828578632\n"
     ]
    },
    {
     "name": "stderr",
     "output_type": "stream",
     "text": [
      "1023it [01:30, 11.43it/s]"
     ]
    },
    {
     "name": "stdout",
     "output_type": "stream",
     "text": [
      "[0.97116506 0.02033168 0.00453651] 0.9960332482752311\n",
      "[0.96532093 0.0252176  0.0052176 ] 0.995756132592228\n",
      "[0.96411429 0.02592894 0.00558189] 0.9956251152297747\n"
     ]
    },
    {
     "name": "stderr",
     "output_type": "stream",
     "text": [
      "1025it [01:31, 11.51it/s]"
     ]
    },
    {
     "name": "stdout",
     "output_type": "stream",
     "text": [
      "[0.96872588 0.02212352 0.00491504] 0.9957644329928654\n",
      "[0.97922487 0.01498769 0.00309362] 0.9973061870488522\n",
      "[0.9807225  0.013477   0.00287595] 0.9970754486699624\n"
     ]
    },
    {
     "name": "stderr",
     "output_type": "stream",
     "text": [
      "1029it [01:31, 11.51it/s]"
     ]
    },
    {
     "name": "stdout",
     "output_type": "stream",
     "text": [
      "[0.98384249 0.01102459 0.00256553] 0.9974326086998364\n",
      "[0.98043667 0.01334628 0.00320191] 0.996984852695053\n",
      "[0.97806516 0.01483114 0.00368053] 0.9965768355729304\n"
     ]
    },
    {
     "name": "stderr",
     "output_type": "stream",
     "text": [
      "1031it [01:31, 11.81it/s]"
     ]
    },
    {
     "name": "stdout",
     "output_type": "stream",
     "text": [
      "[0.96889801 0.02158643 0.0047145 ] 0.9951989346810601\n",
      "[0.97013319 0.02220986 0.00381567] 0.996158720958659\n",
      "[0.97354457 0.02085559 0.003061  ] 0.9974611535589417\n"
     ]
    },
    {
     "name": "stderr",
     "output_type": "stream",
     "text": [
      "1035it [01:31, 11.26it/s]"
     ]
    },
    {
     "name": "stdout",
     "output_type": "stream",
     "text": [
      "[0.95689101 0.03118892 0.00579904] 0.9938789651959808\n",
      "[0.96672954 0.02554533 0.00436717] 0.9966420414159278\n",
      "[0.97218557 0.02129089 0.00360431] 0.9970807774668711\n"
     ]
    },
    {
     "name": "stderr",
     "output_type": "stream",
     "text": [
      "1037it [01:32, 11.51it/s]"
     ]
    },
    {
     "name": "stdout",
     "output_type": "stream",
     "text": [
      "[0.97920691 0.0133052  0.00359149] 0.9961036011913998\n",
      "[0.98507285 0.0095186  0.00266531] 0.9972567656709307\n",
      "[0.98056215 0.01293572 0.00336076] 0.9968586283896761\n"
     ]
    },
    {
     "name": "stderr",
     "output_type": "stream",
     "text": [
      "1041it [01:32, 11.17it/s]"
     ]
    },
    {
     "name": "stdout",
     "output_type": "stream",
     "text": [
      "[0.98002058 0.01365704 0.00325911] 0.9969367360912033\n",
      "[0.98112496 0.01268858 0.00327414] 0.9970876770856967\n",
      "[0.98192281 0.01175812 0.00317845] 0.9968593845571403\n"
     ]
    },
    {
     "name": "stderr",
     "output_type": "stream",
     "text": [
      "1043it [01:32, 11.19it/s]"
     ]
    },
    {
     "name": "stdout",
     "output_type": "stream",
     "text": [
      "[0.97875947 0.01419937 0.00355592] 0.9965147629727842\n",
      "[0.97155264 0.01996866 0.00470502] 0.996226316247519\n",
      "[0.97389576 0.0178597  0.00426139] 0.9960168485504107\n"
     ]
    },
    {
     "name": "stderr",
     "output_type": "stream",
     "text": [
      "1047it [01:33, 11.28it/s]"
     ]
    },
    {
     "name": "stdout",
     "output_type": "stream",
     "text": [
      "[0.97832077 0.01505483 0.00357488] 0.996950480200673\n",
      "[0.9779403  0.01523042 0.00341097] 0.9965816951767742\n",
      "[0.97549337 0.0171289  0.0037214 ] 0.9963436686834045\n"
     ]
    },
    {
     "name": "stderr",
     "output_type": "stream",
     "text": [
      "1049it [01:33, 11.53it/s]"
     ]
    },
    {
     "name": "stdout",
     "output_type": "stream",
     "text": [
      "[0.98083708 0.01402871 0.00278102] 0.9976468102423882\n",
      "[0.97288247 0.01962907 0.00391947] 0.9964310031489136\n",
      "[0.97361925 0.01894863 0.00401937] 0.9965872569841564\n"
     ]
    },
    {
     "name": "stderr",
     "output_type": "stream",
     "text": [
      "1053it [01:33, 11.71it/s]"
     ]
    },
    {
     "name": "stdout",
     "output_type": "stream",
     "text": [
      "[0.97552542 0.01765673 0.00375143] 0.9969335844432121\n",
      "[0.97171896 0.01949597 0.00466869] 0.9958836191805681\n",
      "[0.97643468 0.01664663 0.00388772] 0.9969690294435405\n"
     ]
    },
    {
     "name": "stderr",
     "output_type": "stream",
     "text": [
      "1055it [01:33, 11.40it/s]"
     ]
    },
    {
     "name": "stdout",
     "output_type": "stream",
     "text": [
      "[0.97313162 0.01844441 0.00437996] 0.9959559981563235\n",
      "[0.97708933 0.01604728 0.00369393] 0.9968305319157106\n",
      "[0.97582725 0.01655017 0.00404047] 0.9964178936391991\n"
     ]
    },
    {
     "name": "stderr",
     "output_type": "stream",
     "text": [
      "1059it [01:34, 11.50it/s]"
     ]
    },
    {
     "name": "stdout",
     "output_type": "stream",
     "text": [
      "[0.97024072 0.02115153 0.00456466] 0.9959569146967234\n",
      "[0.96863051 0.02325248 0.00449815] 0.996381137991236\n",
      "[0.97292398 0.01896914 0.00371585] 0.9956089671996285\n"
     ]
    },
    {
     "name": "stderr",
     "output_type": "stream",
     "text": [
      "1061it [01:34, 11.54it/s]"
     ]
    },
    {
     "name": "stdout",
     "output_type": "stream",
     "text": [
      "[0.98389781 0.01211531 0.001936  ] 0.9979491201307108\n",
      "[0.97875506 0.01456774 0.00305659] 0.9963793921520903\n",
      "[0.97400951 0.01784559 0.00392032] 0.9957754246353058\n"
     ]
    },
    {
     "name": "stderr",
     "output_type": "stream",
     "text": [
      "1065it [01:34, 11.66it/s]"
     ]
    },
    {
     "name": "stdout",
     "output_type": "stream",
     "text": [
      "[0.97460918 0.01799048 0.00387285] 0.9964725110681293\n",
      "[0.97106853 0.02138568 0.00435721] 0.9968114137807481\n",
      "[0.98543866 0.01013669 0.00212685] 0.9977021972489326\n"
     ]
    },
    {
     "name": "stderr",
     "output_type": "stream",
     "text": [
      "1067it [01:34, 11.37it/s]"
     ]
    },
    {
     "name": "stdout",
     "output_type": "stream",
     "text": [
      "[0.98789115 0.00852556 0.00176557] 0.9981822842764673\n",
      "[0.97508036 0.01762834 0.00354705] 0.9962557538741703\n"
     ]
    },
    {
     "name": "stderr",
     "output_type": "stream",
     "text": [
      "1069it [01:34, 11.19it/s]"
     ]
    },
    {
     "name": "stdout",
     "output_type": "stream",
     "text": [
      "[0.97612925 0.01725407 0.00349645] 0.9968797695580888\n",
      "[0.98315575 0.01191442 0.00248476] 0.9975549295633789\n",
      "[0.98820784 0.00818051 0.00175889] 0.9981472393195095\n"
     ]
    },
    {
     "name": "stderr",
     "output_type": "stream",
     "text": [
      "1073it [01:35, 11.21it/s]"
     ]
    },
    {
     "name": "stdout",
     "output_type": "stream",
     "text": [
      "[0.98590816 0.00949641 0.00227837] 0.9976829400588219\n",
      "[0.97719037 0.01572588 0.00362373] 0.9965399818272994\n",
      "[0.97536086 0.01722389 0.00392181] 0.9965065566659773\n"
     ]
    },
    {
     "name": "stderr",
     "output_type": "stream",
     "text": [
      "1075it [01:35, 11.22it/s]"
     ]
    },
    {
     "name": "stdout",
     "output_type": "stream",
     "text": [
      "[0.97976031 0.01403572 0.00320362] 0.9969996467986533\n",
      "[0.98150441 0.01276871 0.00294998] 0.9972231017106539\n",
      "[0.98019262 0.01373333 0.00313851] 0.9970644716571357\n"
     ]
    },
    {
     "name": "stderr",
     "output_type": "stream",
     "text": [
      "1079it [01:35, 11.33it/s]"
     ]
    },
    {
     "name": "stdout",
     "output_type": "stream",
     "text": [
      "[0.98007459 0.0138826  0.00319147] 0.9971486585096886\n",
      "[0.97643476 0.01640109 0.00383585] 0.9966717040309778\n",
      "[0.96880704 0.02200665 0.00493019] 0.9957438839543334\n"
     ]
    },
    {
     "name": "stderr",
     "output_type": "stream",
     "text": [
      "1081it [01:35, 11.21it/s]"
     ]
    },
    {
     "name": "stdout",
     "output_type": "stream",
     "text": [
      "[0.96501412 0.02552851 0.00540388] 0.9959465051550328\n",
      "[0.9560786  0.03265944 0.00691078] 0.9956488225215621\n",
      "[0.96215051 0.02713198 0.00600092] 0.9952834129557985\n"
     ]
    },
    {
     "name": "stderr",
     "output_type": "stream",
     "text": [
      "1085it [01:36, 11.38it/s]"
     ]
    },
    {
     "name": "stdout",
     "output_type": "stream",
     "text": [
      "[0.98887642 0.00753265 0.00171481] 0.9981238827853259\n",
      "[0.98801787 0.00789136 0.00197108] 0.9978803229886056\n",
      "[0.98076763 0.0132034  0.00282933] 0.9968003672129137\n"
     ]
    },
    {
     "name": "stderr",
     "output_type": "stream",
     "text": [
      "1087it [01:36, 11.50it/s]"
     ]
    },
    {
     "name": "stdout",
     "output_type": "stream",
     "text": [
      "[0.97951721 0.01483651 0.00298621] 0.9973399342462705\n",
      "[0.97371936 0.01799897 0.00408973] 0.9958080619990649\n",
      "[0.96707216 0.02327836 0.00512353] 0.9954740456045594\n"
     ]
    },
    {
     "name": "stderr",
     "output_type": "stream",
     "text": [
      "1091it [01:36, 11.78it/s]"
     ]
    },
    {
     "name": "stdout",
     "output_type": "stream",
     "text": [
      "[0.97229664 0.02045195 0.00373725] 0.996485847198718\n",
      "[0.96904961 0.02277696 0.00425946] 0.996086023005058\n",
      "[0.95989723 0.02888217 0.0055844 ] 0.9943638067986048\n"
     ]
    },
    {
     "name": "stderr",
     "output_type": "stream",
     "text": [
      "1093it [01:37, 11.50it/s]"
     ]
    },
    {
     "name": "stdout",
     "output_type": "stream",
     "text": [
      "[0.96462619 0.02568486 0.00507155] 0.9953825985734439\n",
      "[0.97760969 0.01650616 0.00308392] 0.9971997666241317\n",
      "[0.9742384  0.01894354 0.00361398] 0.9967959172222214\n"
     ]
    },
    {
     "name": "stderr",
     "output_type": "stream",
     "text": [
      "1097it [01:37, 11.85it/s]"
     ]
    },
    {
     "name": "stdout",
     "output_type": "stream",
     "text": [
      "[0.97485624 0.01749893 0.00390822] 0.9962633858776582\n",
      "[0.9826498  0.01269162 0.00253633] 0.9978777522411093\n",
      "[0.97892997 0.01393258 0.00334763] 0.9962101747449262\n"
     ]
    },
    {
     "name": "stderr",
     "output_type": "stream",
     "text": [
      "1099it [01:37, 11.47it/s]"
     ]
    },
    {
     "name": "stdout",
     "output_type": "stream",
     "text": [
      "[0.98873528 0.0067863  0.00205784] 0.9975794127593048\n",
      "[0.98928006 0.00689512 0.00197637] 0.9981515434569169\n",
      "[0.98455279 0.01019832 0.00243364] 0.9971847475713852\n"
     ]
    },
    {
     "name": "stderr",
     "output_type": "stream",
     "text": [
      "1103it [01:37, 11.73it/s]"
     ]
    },
    {
     "name": "stdout",
     "output_type": "stream",
     "text": [
      "[0.97851113 0.01505385 0.00312885] 0.996693830916746\n",
      "[0.97927097 0.01494717 0.00281507] 0.9970332106886212\n",
      "[0.97311939 0.01925898 0.00377006] 0.9961484290819834\n"
     ]
    },
    {
     "name": "stderr",
     "output_type": "stream",
     "text": [
      "1105it [01:38, 11.59it/s]"
     ]
    },
    {
     "name": "stdout",
     "output_type": "stream",
     "text": [
      "[0.97501362 0.01865896 0.00313908] 0.996811661242588\n",
      "[0.98114047 0.01371859 0.00260598] 0.9974650446603637\n",
      "[0.98455444 0.01064333 0.00238783] 0.9975855959184802\n"
     ]
    },
    {
     "name": "stderr",
     "output_type": "stream",
     "text": [
      "1109it [01:38, 11.58it/s]"
     ]
    },
    {
     "name": "stdout",
     "output_type": "stream",
     "text": [
      "[0.98153004 0.01251701 0.00294465] 0.9969917032261315\n",
      "[0.98144655 0.01332222 0.00286563] 0.9976343956891267\n",
      "[0.97772248 0.01483505 0.00383171] 0.9963892338028632\n"
     ]
    },
    {
     "name": "stderr",
     "output_type": "stream",
     "text": [
      "1111it [01:38, 11.63it/s]"
     ]
    },
    {
     "name": "stdout",
     "output_type": "stream",
     "text": [
      "[0.97324205 0.01876788 0.00400894] 0.9960188681584297\n",
      "[0.97701666 0.01716704 0.00315417] 0.9973378725592701\n",
      "[0.97603291 0.01741211 0.00342076] 0.9968657841895654\n"
     ]
    },
    {
     "name": "stderr",
     "output_type": "stream",
     "text": [
      "1115it [01:38, 11.48it/s]"
     ]
    },
    {
     "name": "stdout",
     "output_type": "stream",
     "text": [
      "[0.9771483  0.01704625 0.00315101] 0.9973455600096167\n",
      "[0.97489236 0.01855523 0.00352043] 0.9969680159016451\n",
      "[0.97471034 0.01859387 0.00360869] 0.9969129018657439\n"
     ]
    },
    {
     "name": "stderr",
     "output_type": "stream",
     "text": [
      "1117it [01:39, 11.65it/s]"
     ]
    },
    {
     "name": "stdout",
     "output_type": "stream",
     "text": [
      "[0.97059468 0.02139697 0.00424557] 0.9962372234164512\n",
      "[0.96128477 0.02814364 0.00544596] 0.9948743720623817\n",
      "[0.96673192 0.02451298 0.00445929] 0.9957041896243786\n"
     ]
    },
    {
     "name": "stderr",
     "output_type": "stream",
     "text": [
      "1121it [01:39, 11.65it/s]"
     ]
    },
    {
     "name": "stdout",
     "output_type": "stream",
     "text": [
      "[0.97073747 0.02171972 0.00384887] 0.9963060577517188\n",
      "[0.97572876 0.01789449 0.0031558 ] 0.996779053283249\n",
      "[0.97772643 0.01619703 0.00302641] 0.9969498708739901\n"
     ]
    },
    {
     "name": "stderr",
     "output_type": "stream",
     "text": [
      "1123it [01:39, 11.65it/s]"
     ]
    },
    {
     "name": "stdout",
     "output_type": "stream",
     "text": [
      "[0.97734706 0.01679    0.00292976] 0.9970668119669753\n",
      "[0.98234503 0.01314827 0.00226954] 0.9977628330900031\n",
      "[0.98278029 0.01212646 0.00254508] 0.9974518376854848\n"
     ]
    },
    {
     "name": "stderr",
     "output_type": "stream",
     "text": [
      "1127it [01:39, 11.54it/s]"
     ]
    },
    {
     "name": "stdout",
     "output_type": "stream",
     "text": [
      "[0.97829708 0.01470538 0.00350194] 0.9965044033365787\n",
      "[0.97197375 0.01990953 0.00416845] 0.9960517241371181\n",
      "[0.97243671 0.02066281 0.00365152] 0.9967510335050827\n"
     ]
    },
    {
     "name": "stderr",
     "output_type": "stream",
     "text": [
      "1129it [01:40, 11.38it/s]"
     ]
    },
    {
     "name": "stdout",
     "output_type": "stream",
     "text": [
      "[0.97225753 0.02135378 0.00354022] 0.9971515342355078\n",
      "[0.97905687 0.01567121 0.00253967] 0.9972677503264551\n",
      "[0.98694862 0.01023717 0.0014005 ] 0.9985862981429043\n"
     ]
    },
    {
     "name": "stderr",
     "output_type": "stream",
     "text": [
      "1133it [01:40, 11.61it/s]"
     ]
    },
    {
     "name": "stdout",
     "output_type": "stream",
     "text": [
      "[0.97817934 0.01536487 0.00297004] 0.9965142465450852\n",
      "[0.98333402 0.0114743  0.00261154] 0.9974198546729902\n",
      "[0.9788298  0.01447984 0.00326083] 0.9965704671038679\n"
     ]
    },
    {
     "name": "stderr",
     "output_type": "stream",
     "text": [
      "1135it [01:40, 11.46it/s]"
     ]
    },
    {
     "name": "stdout",
     "output_type": "stream",
     "text": [
      "[0.97716679 0.0164109  0.00340233] 0.9969800173927682\n",
      "[0.97526204 0.01736319 0.00380543] 0.9964306535189054\n",
      "[0.97901988 0.01409433 0.00325742] 0.9963716297855824\n"
     ]
    },
    {
     "name": "stderr",
     "output_type": "stream",
     "text": [
      "1139it [01:40, 11.74it/s]"
     ]
    },
    {
     "name": "stdout",
     "output_type": "stream",
     "text": [
      "[0.98476152 0.01113018 0.0020829 ] 0.9979745907511918\n",
      "[0.98085057 0.01400655 0.00260182] 0.9974589485897153\n",
      "[0.96996511 0.02213868 0.00415194] 0.9962557345508536\n"
     ]
    },
    {
     "name": "stderr",
     "output_type": "stream",
     "text": [
      "1141it [01:41, 11.44it/s]"
     ]
    },
    {
     "name": "stdout",
     "output_type": "stream",
     "text": [
      "[0.97841207 0.01574611 0.00299196] 0.9971501527358655\n",
      "[0.97645951 0.01698687 0.00323998] 0.9966863562596224\n",
      "[0.97843681 0.01623458 0.0029218 ] 0.9975931886030123\n"
     ]
    },
    {
     "name": "stderr",
     "output_type": "stream",
     "text": [
      "1145it [01:41, 11.31it/s]"
     ]
    },
    {
     "name": "stdout",
     "output_type": "stream",
     "text": [
      "[0.97732884 0.01693748 0.00323159] 0.9974979088489745\n",
      "[0.98023928 0.01444022 0.00281685] 0.9974963436978025\n",
      "[0.98010536 0.01418793 0.00289168] 0.9971849742613431\n"
     ]
    },
    {
     "name": "stderr",
     "output_type": "stream",
     "text": [
      "1147it [01:41, 11.70it/s]"
     ]
    },
    {
     "name": "stdout",
     "output_type": "stream",
     "text": [
      "[0.97405464 0.01891297 0.00340086] 0.996368471148356\n",
      "[0.97899389 0.01618388 0.00251703] 0.9976947998934265\n",
      "[0.96814851 0.02291061 0.00423028] 0.9952894037536291\n"
     ]
    },
    {
     "name": "stderr",
     "output_type": "stream",
     "text": [
      "1149it [01:41, 11.13it/s]"
     ]
    },
    {
     "name": "stdout",
     "output_type": "stream",
     "text": [
      "[0.96180773 0.02803157 0.00516462] 0.9950039165141613\n",
      "[0.96671428 0.02594842 0.0039763 ] 0.9966389906094597\n"
     ]
    },
    {
     "name": "stderr",
     "output_type": "stream",
     "text": [
      "1151it [01:42, 10.74it/s]"
     ]
    },
    {
     "name": "stdout",
     "output_type": "stream",
     "text": [
      "[0.97258664 0.0214081  0.00329772] 0.9972924610320391\n",
      "[0.97207999 0.02044122 0.00376261] 0.9962838214683708\n"
     ]
    },
    {
     "name": "stderr",
     "output_type": "stream",
     "text": [
      "1153it [01:42,  9.97it/s]"
     ]
    },
    {
     "name": "stdout",
     "output_type": "stream",
     "text": [
      "[0.97226905 0.02054872 0.00374099] 0.9965587618634566\n",
      "[0.96795019 0.02328687 0.00456586] 0.9958029234529646\n"
     ]
    },
    {
     "name": "stderr",
     "output_type": "stream",
     "text": [
      "1156it [01:43,  5.43it/s]"
     ]
    },
    {
     "name": "stdout",
     "output_type": "stream",
     "text": [
      "[0.97433149 0.01861116 0.00381551] 0.996758157074163\n",
      "[0.97570737 0.01705451 0.00369009] 0.9964519635024635\n"
     ]
    },
    {
     "name": "stderr",
     "output_type": "stream",
     "text": [
      "1158it [01:43,  5.73it/s]"
     ]
    },
    {
     "name": "stdout",
     "output_type": "stream",
     "text": [
      "[0.98230501 0.01275772 0.00260735] 0.9976700849548368\n",
      "[0.98259253 0.0130438  0.00237846] 0.9980147977486067\n"
     ]
    },
    {
     "name": "stderr",
     "output_type": "stream",
     "text": [
      "1159it [01:43,  5.98it/s]"
     ]
    },
    {
     "name": "stdout",
     "output_type": "stream",
     "text": [
      "[0.98381727 0.01212556 0.00220288] 0.9981457099717035\n"
     ]
    },
    {
     "name": "stderr",
     "output_type": "stream",
     "text": [
      "1161it [01:44,  5.05it/s]"
     ]
    },
    {
     "name": "stdout",
     "output_type": "stream",
     "text": [
      "[0.97474    0.01903344 0.00333758] 0.9971110194253306\n",
      "[0.9733335  0.01934411 0.00377317] 0.9964507736168412\n"
     ]
    },
    {
     "name": "stderr",
     "output_type": "stream",
     "text": [
      "1163it [01:44,  6.14it/s]"
     ]
    },
    {
     "name": "stdout",
     "output_type": "stream",
     "text": [
      "[0.97223424 0.02110027 0.00360044] 0.9969349521774992\n",
      "[0.97390943 0.01995221 0.00329491] 0.9971565462410172\n"
     ]
    },
    {
     "name": "stderr",
     "output_type": "stream",
     "text": [
      "1165it [01:45,  5.07it/s]"
     ]
    },
    {
     "name": "stdout",
     "output_type": "stream",
     "text": [
      "[0.97070384 0.02140649 0.00402505] 0.9961353734571146\n",
      "[0.96504059 0.02513414 0.00489594] 0.9950706645609994\n"
     ]
    },
    {
     "name": "stderr",
     "output_type": "stream",
     "text": [
      "1167it [01:45,  6.41it/s]"
     ]
    },
    {
     "name": "stdout",
     "output_type": "stream",
     "text": [
      "[0.96542344 0.02513669 0.00488637] 0.9954465034130635\n",
      "[0.96933211 0.02331517 0.00414637] 0.9967936463367257\n"
     ]
    },
    {
     "name": "stderr",
     "output_type": "stream",
     "text": [
      "1169it [01:45,  7.53it/s]"
     ]
    },
    {
     "name": "stdout",
     "output_type": "stream",
     "text": [
      "[0.97543335 0.01862227 0.0033023 ] 0.9973579274647764\n",
      "[0.97486412 0.01839386 0.00348676] 0.9967447391866373\n",
      "[0.9747755  0.01912116 0.00331185] 0.9972085153955232\n"
     ]
    },
    {
     "name": "stderr",
     "output_type": "stream",
     "text": [
      "1173it [01:45,  9.58it/s]"
     ]
    },
    {
     "name": "stdout",
     "output_type": "stream",
     "text": [
      "[0.97099594 0.02158915 0.00401982] 0.9966049010263639\n",
      "[0.96829911 0.02386704 0.00422001] 0.9963861508167927\n",
      "[0.97138055 0.02163191 0.0037001 ] 0.9967125633779151\n"
     ]
    },
    {
     "name": "stderr",
     "output_type": "stream",
     "text": [
      "1175it [01:45, 10.07it/s]"
     ]
    },
    {
     "name": "stdout",
     "output_type": "stream",
     "text": [
      "[0.97436292 0.01925802 0.00344736] 0.997068296851355\n",
      "[0.97722094 0.01730749 0.0030132 ] 0.9975416221070975\n",
      "[0.97135513 0.02079529 0.00415032] 0.9963007396126256\n"
     ]
    },
    {
     "name": "stderr",
     "output_type": "stream",
     "text": [
      "1179it [01:46, 10.53it/s]"
     ]
    },
    {
     "name": "stdout",
     "output_type": "stream",
     "text": [
      "[0.97752031 0.01691723 0.00307328] 0.9975108160776059\n",
      "[0.97447031 0.01896607 0.00349248] 0.9969288606057765\n",
      "[0.96971627 0.02232562 0.00429931] 0.9963412042953085\n"
     ]
    },
    {
     "name": "stderr",
     "output_type": "stream",
     "text": [
      "1181it [01:46, 10.79it/s]"
     ]
    },
    {
     "name": "stdout",
     "output_type": "stream",
     "text": [
      "[0.97036819 0.02333764 0.00371265] 0.9974184769516578\n",
      "[0.97121445 0.02265205 0.00366484] 0.9975313425278188\n",
      "[0.96683613 0.02481212 0.00423746] 0.9958857142471067\n"
     ]
    },
    {
     "name": "stderr",
     "output_type": "stream",
     "text": [
      "1185it [01:46, 11.16it/s]"
     ]
    },
    {
     "name": "stdout",
     "output_type": "stream",
     "text": [
      "[0.97219664 0.02181082 0.00330637] 0.9973138270024734\n",
      "[0.96914202 0.02284959 0.00400566] 0.9959972617497908\n",
      "[0.96930941 0.02267685 0.00419462] 0.9961808767237976\n"
     ]
    },
    {
     "name": "stderr",
     "output_type": "stream",
     "text": [
      "1187it [01:47, 11.41it/s]"
     ]
    },
    {
     "name": "stdout",
     "output_type": "stream",
     "text": [
      "[0.97142083 0.02167785 0.00372911] 0.9968277924189618\n",
      "[0.97600412 0.01827339 0.00309164] 0.9973691533160832\n",
      "[0.97498755 0.01852775 0.00336761] 0.9968829162103691\n"
     ]
    },
    {
     "name": "stderr",
     "output_type": "stream",
     "text": [
      "1191it [01:47, 11.43it/s]"
     ]
    },
    {
     "name": "stdout",
     "output_type": "stream",
     "text": [
      "[0.9741486  0.01938847 0.00328937] 0.9968264337253939\n",
      "[0.97787356 0.01651362 0.00269783] 0.9970850044583333\n",
      "[0.98225643 0.01385392 0.00197299] 0.9980833361057315\n"
     ]
    },
    {
     "name": "stderr",
     "output_type": "stream",
     "text": [
      "1193it [01:47, 11.59it/s]"
     ]
    },
    {
     "name": "stdout",
     "output_type": "stream",
     "text": [
      "[0.96751777 0.02366364 0.00414829] 0.995329704179646\n",
      "[0.97403816 0.01964572 0.00332338] 0.9970072592261967\n",
      "[0.96516923 0.02446307 0.00508299] 0.9947152836119729\n"
     ]
    },
    {
     "name": "stderr",
     "output_type": "stream",
     "text": [
      "1197it [01:47, 11.55it/s]"
     ]
    },
    {
     "name": "stdout",
     "output_type": "stream",
     "text": [
      "[0.97368967 0.01944037 0.00355604] 0.9966860836701229\n",
      "[0.97313042 0.02048026 0.00348478] 0.9970954686489168\n",
      "[0.972791   0.02044576 0.00347108] 0.9967078294861365\n"
     ]
    },
    {
     "name": "stderr",
     "output_type": "stream",
     "text": [
      "1199it [01:48, 11.36it/s]"
     ]
    },
    {
     "name": "stdout",
     "output_type": "stream",
     "text": [
      "[0.97398845 0.01737919 0.0038317 ] 0.9951993397864571\n",
      "[0.98710037 0.00911138 0.00192122] 0.9981329725409653\n",
      "[0.98092571 0.0128619  0.00291467] 0.996702287001338\n"
     ]
    },
    {
     "name": "stderr",
     "output_type": "stream",
     "text": [
      "1203it [01:48, 11.41it/s]"
     ]
    },
    {
     "name": "stdout",
     "output_type": "stream",
     "text": [
      "[0.97277134 0.01751148 0.00428789] 0.9945707003587767\n",
      "[0.98355192 0.01157562 0.00207383] 0.9972013733195143\n",
      "[0.9874821  0.00914778 0.00154979] 0.9981796681245768\n"
     ]
    },
    {
     "name": "stderr",
     "output_type": "stream",
     "text": [
      "1205it [01:48, 11.15it/s]"
     ]
    },
    {
     "name": "stdout",
     "output_type": "stream",
     "text": [
      "[0.98991652 0.00627621 0.00174493] 0.9979376548874134\n",
      "[0.99165011 0.00580302 0.00112807] 0.9985812022802524\n",
      "[0.98315561 0.01150203 0.00234445] 0.9970020926644899\n"
     ]
    },
    {
     "name": "stderr",
     "output_type": "stream",
     "text": [
      "1209it [01:48, 11.71it/s]"
     ]
    },
    {
     "name": "stdout",
     "output_type": "stream",
     "text": [
      "[0.98072011 0.01226315 0.00307048] 0.9960537510888853\n",
      "[0.99017681 0.00591013 0.00179564] 0.9978825878957094\n",
      "[0.98928293 0.00675872 0.00181194] 0.9978535891989645\n"
     ]
    },
    {
     "name": "stderr",
     "output_type": "stream",
     "text": [
      "1211it [01:49, 11.47it/s]"
     ]
    },
    {
     "name": "stdout",
     "output_type": "stream",
     "text": [
      "[0.98988479 0.00736704 0.00128372] 0.9985355502421078\n",
      "[0.98988239 0.00743841 0.00129795] 0.9986187549561564\n",
      "[0.94334936 0.03667259 0.00877219] 0.9887941326445492\n"
     ]
    },
    {
     "name": "stderr",
     "output_type": "stream",
     "text": [
      "1215it [01:49, 11.26it/s]"
     ]
    },
    {
     "name": "stdout",
     "output_type": "stream",
     "text": [
      "[0.98567233 0.00968421 0.00218926] 0.9975457918865874\n",
      "[0.98492653 0.01010683 0.00236021] 0.9973935730004899\n",
      "[0.98873162 0.00754273 0.00172341] 0.9979977540927742\n"
     ]
    },
    {
     "name": "stderr",
     "output_type": "stream",
     "text": [
      "1217it [01:49, 11.68it/s]"
     ]
    },
    {
     "name": "stdout",
     "output_type": "stream",
     "text": [
      "[0.99045353 0.00639351 0.00153669] 0.9983837266695779\n",
      "[0.98994985 0.00669795 0.00154524] 0.998193043507374\n",
      "[0.98127075 0.01246162 0.00286458] 0.9965969418082177\n"
     ]
    },
    {
     "name": "stderr",
     "output_type": "stream",
     "text": [
      "1221it [01:49, 11.52it/s]"
     ]
    },
    {
     "name": "stdout",
     "output_type": "stream",
     "text": [
      "[0.98785703 0.00853232 0.00185206] 0.9982414106460977\n",
      "[0.98573512 0.00999985 0.0020505 ] 0.9977854744406613\n",
      "[0.98206665 0.01226815 0.00267577] 0.9970105618263779\n"
     ]
    },
    {
     "name": "stderr",
     "output_type": "stream",
     "text": [
      "1223it [01:50, 11.66it/s]"
     ]
    },
    {
     "name": "stdout",
     "output_type": "stream",
     "text": [
      "[0.98471955 0.01061006 0.00215055] 0.9974801580852675\n",
      "[0.98504783 0.01029379 0.00219492] 0.9975365343627206\n",
      "[0.98897051 0.00814292 0.0014132 ] 0.9985266421716636\n"
     ]
    },
    {
     "name": "stderr",
     "output_type": "stream",
     "text": [
      "1227it [01:50, 11.56it/s]"
     ]
    },
    {
     "name": "stdout",
     "output_type": "stream",
     "text": [
      "[0.98749945 0.00895551 0.00165365] 0.9981086138899985\n",
      "[0.96306793 0.02379229 0.00602642] 0.9928866433371203\n",
      "[0.99031791 0.00624247 0.00156848] 0.9981288613047341\n"
     ]
    },
    {
     "name": "stderr",
     "output_type": "stream",
     "text": [
      "1229it [01:50, 11.58it/s]"
     ]
    },
    {
     "name": "stdout",
     "output_type": "stream",
     "text": [
      "[0.98568511 0.00935384 0.00231957] 0.9973585115852822\n",
      "[0.98186628 0.01261942 0.0027496 ] 0.9972353061328498\n",
      "[0.97970558 0.0141663  0.0031808 ] 0.9970526788519398\n"
     ]
    },
    {
     "name": "stderr",
     "output_type": "stream",
     "text": [
      "1233it [01:51, 11.27it/s]"
     ]
    },
    {
     "name": "stdout",
     "output_type": "stream",
     "text": [
      "[0.98709484 0.00845147 0.00200668] 0.9975529879969272\n",
      "[0.98598851 0.00918108 0.00212536] 0.9972949565864245\n",
      "[0.99028811 0.00636527 0.00148752] 0.9981408990895938\n"
     ]
    },
    {
     "name": "stderr",
     "output_type": "stream",
     "text": [
      "1235it [01:51, 11.36it/s]"
     ]
    },
    {
     "name": "stdout",
     "output_type": "stream",
     "text": [
      "[0.99132167 0.00599198 0.00125397] 0.9985676216672386\n",
      "[0.9833561  0.01152422 0.0026259 ] 0.9975062205976863\n",
      "[0.98183992 0.01216851 0.0029356 ] 0.9969440372448747\n"
     ]
    },
    {
     "name": "stderr",
     "output_type": "stream",
     "text": [
      "1239it [01:51, 11.48it/s]"
     ]
    },
    {
     "name": "stdout",
     "output_type": "stream",
     "text": [
      "[0.98550175 0.01003168 0.002198  ] 0.9977314378777692\n",
      "[0.98663639 0.00935277 0.00207242] 0.9980615753807637\n",
      "[0.97719087 0.01571174 0.00344843] 0.9963510430759683\n"
     ]
    },
    {
     "name": "stderr",
     "output_type": "stream",
     "text": [
      "1241it [01:51, 11.71it/s]"
     ]
    },
    {
     "name": "stdout",
     "output_type": "stream",
     "text": [
      "[0.97850432 0.01470795 0.00339473] 0.9966069937220187\n",
      "[0.98400286 0.01093353 0.00246855] 0.9974049412736207\n",
      "[0.98490306 0.01022596 0.00243035] 0.9975593763565036\n"
     ]
    },
    {
     "name": "stderr",
     "output_type": "stream",
     "text": [
      "1245it [01:52, 12.00it/s]"
     ]
    },
    {
     "name": "stdout",
     "output_type": "stream",
     "text": [
      "[0.98448567 0.01084824 0.00234242] 0.9976763313951754\n",
      "[0.98444307 0.01079133 0.00239245] 0.997626846776666\n",
      "[0.98589757 0.00979156 0.00206723] 0.9977563550780539\n"
     ]
    },
    {
     "name": "stderr",
     "output_type": "stream",
     "text": [
      "1247it [01:52, 11.89it/s]"
     ]
    },
    {
     "name": "stdout",
     "output_type": "stream",
     "text": [
      "[0.98478552 0.0103451  0.00236934] 0.9974999631126104\n",
      "[0.98130423 0.01266297 0.00299207] 0.9969592717984274\n",
      "[0.98204194 0.0123275  0.0029095 ] 0.9972789404663239\n"
     ]
    },
    {
     "name": "stderr",
     "output_type": "stream",
     "text": [
      "1251it [01:52, 12.10it/s]"
     ]
    },
    {
     "name": "stdout",
     "output_type": "stream",
     "text": [
      "[0.97636542 0.01592237 0.00366775] 0.9959555367426256\n",
      "[0.98593934 0.01006652 0.00206843] 0.9980742856497505\n",
      "[0.97882198 0.01472256 0.00315859] 0.9967031283055375\n"
     ]
    },
    {
     "name": "stderr",
     "output_type": "stream",
     "text": [
      "1253it [01:52, 11.68it/s]"
     ]
    },
    {
     "name": "stdout",
     "output_type": "stream",
     "text": [
      "[0.97679046 0.01609863 0.0037256 ] 0.9966146923426252\n",
      "[0.98311822 0.01143711 0.00253732] 0.997092650724635\n",
      "[0.98879666 0.0079934  0.00144675] 0.998236813443301\n"
     ]
    },
    {
     "name": "stderr",
     "output_type": "stream",
     "text": [
      "1257it [01:53, 11.50it/s]"
     ]
    },
    {
     "name": "stdout",
     "output_type": "stream",
     "text": [
      "[0.98856072 0.00819986 0.00136478] 0.9981253600811123\n",
      "[0.98264114 0.01123045 0.00273335] 0.9966049412289583\n",
      "[0.99043499 0.00660604 0.00128698] 0.9983280214797997\n"
     ]
    },
    {
     "name": "stderr",
     "output_type": "stream",
     "text": [
      "1259it [01:53, 10.87it/s]"
     ]
    },
    {
     "name": "stdout",
     "output_type": "stream",
     "text": [
      "[0.99023018 0.00718179 0.00115431] 0.9985662862291514\n",
      "[0.99098733 0.0066123  0.00113432] 0.998733947672907\n"
     ]
    },
    {
     "name": "stderr",
     "output_type": "stream",
     "text": [
      "1261it [01:53, 10.70it/s]"
     ]
    },
    {
     "name": "stdout",
     "output_type": "stream",
     "text": [
      "[0.95164872 0.03122151 0.00743349] 0.9903037236238235\n",
      "[0.98563758 0.01010245 0.00197895] 0.9977189789504289\n",
      "[0.98407529 0.01091893 0.00234152] 0.9973357481374046\n"
     ]
    },
    {
     "name": "stderr",
     "output_type": "stream",
     "text": [
      "1265it [01:53, 10.90it/s]"
     ]
    },
    {
     "name": "stdout",
     "output_type": "stream",
     "text": [
      "[0.98484887 0.01016468 0.00245219] 0.9974657405049966\n",
      "[0.98133457 0.01262575 0.00296268] 0.9969229974476702\n",
      "[0.98417907 0.01108895 0.00239241] 0.9976604187648678\n"
     ]
    },
    {
     "name": "stderr",
     "output_type": "stream",
     "text": [
      "1267it [01:54, 10.23it/s]"
     ]
    },
    {
     "name": "stdout",
     "output_type": "stream",
     "text": [
      "[0.97845219 0.01478021 0.00339789] 0.9966302815240704\n",
      "[0.97917152 0.01400739 0.00326119] 0.9964401086533863\n",
      "[0.98585502 0.00914539 0.00240558] 0.9974059862745789\n"
     ]
    },
    {
     "name": "stderr",
     "output_type": "stream",
     "text": [
      "1269it [01:54,  8.15it/s]"
     ]
    },
    {
     "name": "stdout",
     "output_type": "stream",
     "text": [
      "[0.98533063 0.00948265 0.00237702] 0.9971902985920521\n"
     ]
    },
    {
     "name": "stderr",
     "output_type": "stream",
     "text": [
      "1270it [01:54,  6.95it/s]"
     ]
    },
    {
     "name": "stdout",
     "output_type": "stream",
     "text": [
      "[0.98308422 0.01136762 0.00280628] 0.9972581185554013\n",
      "[0.97769415 0.01533625 0.00343607] 0.9964664685221499\n"
     ]
    },
    {
     "name": "stderr",
     "output_type": "stream",
     "text": [
      "1273it [01:55,  6.68it/s]"
     ]
    },
    {
     "name": "stdout",
     "output_type": "stream",
     "text": [
      "[0.98151221 0.01174532 0.00320976] 0.9964672829070699\n",
      "[0.98492603 0.00956713 0.00271259] 0.9972057513815822\n"
     ]
    },
    {
     "name": "stderr",
     "output_type": "stream",
     "text": [
      "1274it [01:55,  6.16it/s]"
     ]
    },
    {
     "name": "stdout",
     "output_type": "stream",
     "text": [
      "[0.97639458 0.01587805 0.00410157] 0.9963742051521829\n"
     ]
    },
    {
     "name": "stderr",
     "output_type": "stream",
     "text": [
      "1275it [01:55,  5.74it/s]"
     ]
    },
    {
     "name": "stdout",
     "output_type": "stream",
     "text": [
      "[0.97188214 0.01930237 0.00448113] 0.995665643837314\n"
     ]
    },
    {
     "name": "stderr",
     "output_type": "stream",
     "text": [
      "1276it [01:55,  5.16it/s]"
     ]
    },
    {
     "name": "stdout",
     "output_type": "stream",
     "text": [
      "[0.97903775 0.01463027 0.00338639] 0.997054402578104\n"
     ]
    },
    {
     "name": "stderr",
     "output_type": "stream",
     "text": [
      "1277it [01:56,  5.09it/s]"
     ]
    },
    {
     "name": "stdout",
     "output_type": "stream",
     "text": [
      "[0.97969714 0.01412336 0.00325875] 0.9970792425650984\n"
     ]
    },
    {
     "name": "stderr",
     "output_type": "stream",
     "text": [
      "1278it [01:56,  4.42it/s]"
     ]
    },
    {
     "name": "stdout",
     "output_type": "stream",
     "text": [
      "[0.97844167 0.01535849 0.00331262] 0.9971127787791596\n"
     ]
    },
    {
     "name": "stderr",
     "output_type": "stream",
     "text": [
      "1279it [01:56,  4.01it/s]"
     ]
    },
    {
     "name": "stdout",
     "output_type": "stream",
     "text": [
      "[0.96840008 0.02241496 0.0048674 ] 0.9956824472502167\n"
     ]
    },
    {
     "name": "stderr",
     "output_type": "stream",
     "text": [
      "1281it [01:57,  4.06it/s]"
     ]
    },
    {
     "name": "stdout",
     "output_type": "stream",
     "text": [
      "[0.97390792 0.01871225 0.00400241] 0.9966225757580139\n",
      "[0.97657061 0.01649068 0.00364172] 0.9967030096448943\n"
     ]
    },
    {
     "name": "stderr",
     "output_type": "stream",
     "text": [
      "1282it [01:57,  3.70it/s]"
     ]
    },
    {
     "name": "stdout",
     "output_type": "stream",
     "text": [
      "[0.97961121 0.0138509  0.00334468] 0.9968067891125764\n"
     ]
    },
    {
     "name": "stderr",
     "output_type": "stream",
     "text": [
      "1284it [01:58,  3.81it/s]"
     ]
    },
    {
     "name": "stdout",
     "output_type": "stream",
     "text": [
      "[0.97444196 0.01764492 0.00413293] 0.996219813167446\n",
      "[0.9707116  0.02038199 0.0048254 ] 0.9959189881243278\n"
     ]
    },
    {
     "name": "stderr",
     "output_type": "stream",
     "text": [
      "1286it [01:58,  5.20it/s]"
     ]
    },
    {
     "name": "stdout",
     "output_type": "stream",
     "text": [
      "[0.97260519 0.01899992 0.0045751 ] 0.9961802170614719\n",
      "[0.97304195 0.018595   0.00433628] 0.9959732243777778\n"
     ]
    },
    {
     "name": "stderr",
     "output_type": "stream",
     "text": [
      "1288it [01:58,  4.49it/s]"
     ]
    },
    {
     "name": "stdout",
     "output_type": "stream",
     "text": [
      "[0.96956853 0.02146259 0.00463481] 0.9956659253470725\n",
      "[0.97414642 0.01854599 0.00392216] 0.9966145689680653\n"
     ]
    },
    {
     "name": "stderr",
     "output_type": "stream",
     "text": [
      "1290it [01:59,  5.50it/s]"
     ]
    },
    {
     "name": "stdout",
     "output_type": "stream",
     "text": [
      "[0.97591546 0.01704588 0.00372046] 0.9966817964597026\n",
      "[0.97940856 0.01448445 0.00325879] 0.9971517990412841\n"
     ]
    },
    {
     "name": "stderr",
     "output_type": "stream",
     "text": [
      "1292it [01:59,  5.29it/s]"
     ]
    },
    {
     "name": "stdout",
     "output_type": "stream",
     "text": [
      "[0.97803997 0.01518552 0.00351639] 0.9967418766075649\n",
      "[0.97818176 0.01530469 0.00338515] 0.9968716029208865\n"
     ]
    },
    {
     "name": "stderr",
     "output_type": "stream",
     "text": [
      "1294it [01:59,  5.93it/s]"
     ]
    },
    {
     "name": "stdout",
     "output_type": "stream",
     "text": [
      "[0.98287212 0.01193383 0.00259985] 0.9974058022619032\n",
      "[0.97998406 0.01375718 0.00311875] 0.9968599890782425\n"
     ]
    },
    {
     "name": "stderr",
     "output_type": "stream",
     "text": [
      "1296it [02:00,  6.61it/s]"
     ]
    },
    {
     "name": "stdout",
     "output_type": "stream",
     "text": [
      "[0.9800043  0.01396024 0.00300888] 0.9969734223664968\n",
      "[0.98188929 0.01281478 0.00273637] 0.9974404470822235\n"
     ]
    },
    {
     "name": "stderr",
     "output_type": "stream",
     "text": [
      "1298it [02:00,  7.48it/s]"
     ]
    },
    {
     "name": "stdout",
     "output_type": "stream",
     "text": [
      "[0.97341561 0.01786342 0.00423561] 0.9955146396965993\n",
      "[0.97095483 0.02040084 0.00498013] 0.9963358056920267\n"
     ]
    },
    {
     "name": "stderr",
     "output_type": "stream",
     "text": [
      "1300it [02:00,  8.32it/s]"
     ]
    },
    {
     "name": "stdout",
     "output_type": "stream",
     "text": [
      "[0.98268726 0.01200703 0.00262251] 0.9973167954650674\n",
      "[0.98532087 0.01021588 0.00213161] 0.9976683606865174\n"
     ]
    },
    {
     "name": "stderr",
     "output_type": "stream",
     "text": [
      "1302it [02:00,  9.12it/s]"
     ]
    },
    {
     "name": "stdout",
     "output_type": "stream",
     "text": [
      "[0.97835356 0.01461095 0.00336329] 0.9963277905926\n",
      "[0.9757406  0.01633708 0.00402305] 0.9961007300518114\n"
     ]
    },
    {
     "name": "stderr",
     "output_type": "stream",
     "text": [
      "1303it [02:00,  9.12it/s]"
     ]
    },
    {
     "name": "stdout",
     "output_type": "stream",
     "text": [
      "[0.98168944 0.01247346 0.00287043] 0.9970333263677016\n",
      "[0.98229071 0.01189404 0.00273923] 0.9969239893982899\n"
     ]
    },
    {
     "name": "stderr",
     "output_type": "stream",
     "text": [
      "1305it [02:01,  9.25it/s]"
     ]
    },
    {
     "name": "stdout",
     "output_type": "stream",
     "text": [
      "[0.9831348  0.01141475 0.00283453] 0.9973840747232171\n",
      "[0.97878021 0.01425752 0.00347212] 0.9965098473949752\n"
     ]
    },
    {
     "name": "stderr",
     "output_type": "stream",
     "text": [
      "1309it [02:01,  9.79it/s]"
     ]
    },
    {
     "name": "stdout",
     "output_type": "stream",
     "text": [
      "[0.97953594 0.01394838 0.00340767] 0.9968919927247357\n",
      "[0.98105785 0.01287023 0.00317354] 0.9971016234047723\n",
      "[0.98013903 0.01362454 0.00323241] 0.9969959806975116\n"
     ]
    },
    {
     "name": "stderr",
     "output_type": "stream",
     "text": [
      "1310it [02:01,  9.68it/s]"
     ]
    },
    {
     "name": "stdout",
     "output_type": "stream",
     "text": [
      "[0.97706974 0.01580917 0.00364104] 0.9965199521868325\n",
      "[0.97519091 0.01761833 0.00403946] 0.9968486932911792\n"
     ]
    },
    {
     "name": "stderr",
     "output_type": "stream",
     "text": [
      "1312it [02:01,  9.74it/s]"
     ]
    },
    {
     "name": "stdout",
     "output_type": "stream",
     "text": [
      "[0.97348708 0.01814953 0.00443746] 0.9960740708510804\n",
      "[0.97332415 0.01805248 0.00427036] 0.9956469907873007\n",
      "[0.98301268 0.01195385 0.00262487] 0.9975914086694293\n"
     ]
    },
    {
     "name": "stderr",
     "output_type": "stream",
     "text": [
      "1316it [02:02,  9.81it/s]"
     ]
    },
    {
     "name": "stdout",
     "output_type": "stream",
     "text": [
      "[0.98393553 0.01127948 0.00240248] 0.9976174770834793\n",
      "[0.97801097 0.01563282 0.00332503] 0.9969688275496557\n"
     ]
    },
    {
     "name": "stderr",
     "output_type": "stream",
     "text": [
      "1318it [02:02,  9.83it/s]"
     ]
    },
    {
     "name": "stdout",
     "output_type": "stream",
     "text": [
      "[0.97776069 0.01524712 0.00352461] 0.9965324165737253\n",
      "[0.96997068 0.02064794 0.00480537] 0.9954239885987054\n"
     ]
    },
    {
     "name": "stderr",
     "output_type": "stream",
     "text": [
      "1319it [02:02,  9.61it/s]"
     ]
    },
    {
     "name": "stdout",
     "output_type": "stream",
     "text": [
      "[0.96096541 0.02786368 0.00629953] 0.9951286235655332\n",
      "[0.96683894 0.02421551 0.00483269] 0.995887141281613\n"
     ]
    },
    {
     "name": "stderr",
     "output_type": "stream",
     "text": [
      "1321it [02:02,  9.68it/s]"
     ]
    },
    {
     "name": "stdout",
     "output_type": "stream",
     "text": [
      "[0.97188925 0.02068464 0.00394079] 0.996514685601041\n",
      "[0.97229061 0.02020437 0.00397249] 0.9964674605325934\n",
      "[0.97202237 0.01932829 0.0043871 ] 0.9957377609650716\n"
     ]
    },
    {
     "name": "stderr",
     "output_type": "stream",
     "text": [
      "1325it [02:03,  9.76it/s]"
     ]
    },
    {
     "name": "stdout",
     "output_type": "stream",
     "text": [
      "[0.97994795 0.01440699 0.00303033] 0.997385275938832\n",
      "[0.97562958 0.01684767 0.00369992] 0.9961771693718264\n"
     ]
    },
    {
     "name": "stderr",
     "output_type": "stream",
     "text": [
      "1326it [02:03,  9.73it/s]"
     ]
    },
    {
     "name": "stdout",
     "output_type": "stream",
     "text": [
      "[0.97482686 0.01747384 0.00391142] 0.9962121210988121\n",
      "[0.97688835 0.01626848 0.00370515] 0.996861985469768\n",
      "[0.9735965  0.01838411 0.00404147] 0.9960220794310006\n"
     ]
    },
    {
     "name": "stderr",
     "output_type": "stream",
     "text": [
      "1329it [02:03,  9.85it/s]"
     ]
    },
    {
     "name": "stdout",
     "output_type": "stream",
     "text": [
      "[0.98065608 0.01375241 0.00303662] 0.9974451119316732\n",
      "[0.97799086 0.01510637 0.00354759] 0.9966448235419753\n"
     ]
    },
    {
     "name": "stderr",
     "output_type": "stream",
     "text": [
      "1331it [02:03,  9.86it/s]"
     ]
    },
    {
     "name": "stdout",
     "output_type": "stream",
     "text": [
      "[0.9804339  0.01386197 0.00304965] 0.9973455238598982\n",
      "[0.97565909 0.01723723 0.00374838] 0.9966446976700709\n"
     ]
    },
    {
     "name": "stderr",
     "output_type": "stream",
     "text": [
      "1333it [02:03,  9.73it/s]"
     ]
    },
    {
     "name": "stdout",
     "output_type": "stream",
     "text": [
      "[0.95558404 0.03050365 0.00714548] 0.9932331744384431\n",
      "[0.96435331 0.02551826 0.00573919] 0.9956107550869874\n",
      "[0.97534759 0.01742004 0.00399122] 0.9967588478945724\n"
     ]
    },
    {
     "name": "stderr",
     "output_type": "stream",
     "text": [
      "1337it [02:04,  9.99it/s]"
     ]
    },
    {
     "name": "stdout",
     "output_type": "stream",
     "text": [
      "[0.9806098  0.01280647 0.00347322] 0.9968894942355951\n",
      "[0.9815191  0.01191757 0.00335816] 0.9967948252085137\n",
      "[0.97358659 0.01799119 0.00389385] 0.9954716335799131\n"
     ]
    },
    {
     "name": "stderr",
     "output_type": "stream",
     "text": [
      "1340it [02:04,  9.69it/s]"
     ]
    },
    {
     "name": "stdout",
     "output_type": "stream",
     "text": [
      "[0.98846909 0.0087518  0.00153784] 0.9987587333803999\n",
      "[0.98419878 0.01164989 0.00201365] 0.9978623196408646\n"
     ]
    },
    {
     "name": "stderr",
     "output_type": "stream",
     "text": [
      "1342it [02:04,  9.94it/s]"
     ]
    },
    {
     "name": "stdout",
     "output_type": "stream",
     "text": [
      "[0.98221275 0.01212121 0.00276951] 0.9971034716083442\n",
      "[0.9758766  0.0164216  0.00391297] 0.9962111765836141\n"
     ]
    },
    {
     "name": "stderr",
     "output_type": "stream",
     "text": [
      "1344it [02:04,  9.78it/s]"
     ]
    },
    {
     "name": "stdout",
     "output_type": "stream",
     "text": [
      "[0.97231906 0.01950455 0.00428837] 0.9961119744387975\n",
      "[0.9722651  0.01967795 0.00456738] 0.996510435579904\n",
      "[0.97047622 0.02091112 0.00476442] 0.996151758791273\n"
     ]
    },
    {
     "name": "stderr",
     "output_type": "stream",
     "text": [
      "1346it [02:05,  9.80it/s]"
     ]
    },
    {
     "name": "stdout",
     "output_type": "stream",
     "text": [
      "[0.9649733  0.02485983 0.00582384] 0.99565697406891\n",
      "[0.97873878 0.01475071 0.00346417] 0.9969536606549961\n",
      "[0.98156324 0.0133528  0.00284505] 0.997761081127952\n"
     ]
    },
    {
     "name": "stderr",
     "output_type": "stream",
     "text": [
      "1350it [02:05,  9.98it/s]"
     ]
    },
    {
     "name": "stdout",
     "output_type": "stream",
     "text": [
      "[0.97350158 0.01864471 0.00413869] 0.9962849852862827\n",
      "[0.97540617 0.01716423 0.00388316] 0.9964535593489317\n",
      "[0.97646147 0.01605764 0.00385729] 0.9963763921905545\n"
     ]
    },
    {
     "name": "stderr",
     "output_type": "stream",
     "text": [
      "1352it [02:05, 10.24it/s]"
     ]
    },
    {
     "name": "stdout",
     "output_type": "stream",
     "text": [
      "[0.97844646 0.0149099  0.00357233] 0.9969286938468233\n",
      "[0.97131216 0.01936959 0.00485802] 0.9955397710796982\n"
     ]
    },
    {
     "name": "stderr",
     "output_type": "stream",
     "text": [
      "1356it [02:06, 10.19it/s]"
     ]
    },
    {
     "name": "stdout",
     "output_type": "stream",
     "text": [
      "[0.97411407 0.01750309 0.00451636] 0.9961335084684525\n",
      "[0.97156944 0.0195607  0.00476669] 0.9958968231750126\n",
      "[0.97261515 0.01937262 0.00452051] 0.9965082736106542\n"
     ]
    },
    {
     "name": "stderr",
     "output_type": "stream",
     "text": [
      "1358it [02:06, 10.34it/s]"
     ]
    },
    {
     "name": "stdout",
     "output_type": "stream",
     "text": [
      "[0.97235255 0.01902238 0.00468638] 0.9960613088526881\n",
      "[0.97775225 0.01512385 0.00390423] 0.9967803254471229\n",
      "[0.97695965 0.01612383 0.00394644] 0.997029923270864\n"
     ]
    },
    {
     "name": "stderr",
     "output_type": "stream",
     "text": [
      "1360it [02:06, 10.59it/s]"
     ]
    },
    {
     "name": "stdout",
     "output_type": "stream",
     "text": [
      "[0.96376823 0.02498891 0.00559849] 0.994355631845619\n",
      "[0.98116984 0.01347093 0.00287437] 0.9975151393712955\n",
      "[0.98224503 0.01233532 0.00273753] 0.997317875330304\n"
     ]
    },
    {
     "name": "stderr",
     "output_type": "stream",
     "text": [
      "1364it [02:06, 10.80it/s]"
     ]
    },
    {
     "name": "stdout",
     "output_type": "stream",
     "text": [
      "[0.97657087 0.01578234 0.00396442] 0.9963176186797079\n",
      "[0.97253544 0.01865589 0.00444483] 0.9956361592645911\n",
      "[0.97573335 0.01684623 0.00402936] 0.9966089451195033\n"
     ]
    },
    {
     "name": "stderr",
     "output_type": "stream",
     "text": [
      "1366it [02:07, 10.76it/s]"
     ]
    },
    {
     "name": "stdout",
     "output_type": "stream",
     "text": [
      "[0.97560383 0.01701808 0.00406096] 0.9966828722765725\n",
      "[0.97232789 0.0192096  0.00465839] 0.9961958836885074\n"
     ]
    },
    {
     "name": "stderr",
     "output_type": "stream",
     "text": [
      "1368it [02:07, 10.00it/s]"
     ]
    },
    {
     "name": "stdout",
     "output_type": "stream",
     "text": [
      "[0.9789191  0.01464926 0.00335596] 0.9969243206399252\n",
      "[0.98143213 0.01318534 0.00267226] 0.9972897386812121\n"
     ]
    },
    {
     "name": "stderr",
     "output_type": "stream",
     "text": [
      "1372it [02:07, 10.02it/s]"
     ]
    },
    {
     "name": "stdout",
     "output_type": "stream",
     "text": [
      "[0.9711291  0.01949971 0.00442346] 0.9950522710894631\n",
      "[0.9820669  0.01280396 0.00244913] 0.9973199923816465\n",
      "[0.97976945 0.01426744 0.00285764] 0.9968945376083085\n"
     ]
    },
    {
     "name": "stderr",
     "output_type": "stream",
     "text": [
      "1374it [02:07,  9.87it/s]"
     ]
    },
    {
     "name": "stdout",
     "output_type": "stream",
     "text": [
      "[0.97995609 0.01434931 0.00295121] 0.9972566135683748\n",
      "[0.97855317 0.01614207 0.00287884] 0.9975740809749384\n"
     ]
    },
    {
     "name": "stderr",
     "output_type": "stream",
     "text": [
      "1376it [02:08, 10.38it/s]"
     ]
    },
    {
     "name": "stdout",
     "output_type": "stream",
     "text": [
      "[0.97574269 0.01813487 0.00354473] 0.9974222878414412\n",
      "[0.97158382 0.02079456 0.00423469] 0.9966130645030574\n",
      "[0.96858886 0.02316672 0.00473497] 0.9964905478397516\n"
     ]
    },
    {
     "name": "stderr",
     "output_type": "stream",
     "text": [
      "1380it [02:08, 10.61it/s]"
     ]
    },
    {
     "name": "stdout",
     "output_type": "stream",
     "text": [
      "[0.96748099 0.02402926 0.00471832] 0.9962285753775378\n",
      "[0.97803076 0.01607353 0.00299694] 0.9971012319190725\n",
      "[0.98041206 0.01395936 0.00268385] 0.9970552808512725\n"
     ]
    },
    {
     "name": "stderr",
     "output_type": "stream",
     "text": [
      "1382it [02:08, 10.80it/s]"
     ]
    },
    {
     "name": "stdout",
     "output_type": "stream",
     "text": [
      "[0.97912038 0.01561826 0.00249945] 0.9972380914081592\n",
      "[0.97463273 0.0191952  0.0032761 ] 0.9971040246481454\n",
      "[0.9751476  0.01921998 0.00329319] 0.9976607690137675\n"
     ]
    },
    {
     "name": "stderr",
     "output_type": "stream",
     "text": [
      "1386it [02:08, 11.42it/s]"
     ]
    },
    {
     "name": "stdout",
     "output_type": "stream",
     "text": [
      "[0.96893216 0.02360193 0.00410954] 0.9966436264764904\n",
      "[0.97075721 0.02237949 0.00379663] 0.9969333231430432\n",
      "[0.96820571 0.02381853 0.0043229 ] 0.9963471355109342\n"
     ]
    },
    {
     "name": "stderr",
     "output_type": "stream",
     "text": [
      "1388it [02:09, 11.20it/s]"
     ]
    },
    {
     "name": "stdout",
     "output_type": "stream",
     "text": [
      "[0.9722573  0.02145251 0.00347128] 0.99718109005386\n",
      "[0.97192441 0.02109875 0.00381901] 0.9968421638490437\n",
      "[0.97469354 0.01884156 0.00347955] 0.9970146430242834\n"
     ]
    },
    {
     "name": "stderr",
     "output_type": "stream",
     "text": [
      "1392it [02:09, 11.30it/s]"
     ]
    },
    {
     "name": "stdout",
     "output_type": "stream",
     "text": [
      "[0.97364549 0.01951103 0.00368946] 0.9968459901135459\n",
      "[0.971295   0.02101455 0.0041053 ] 0.9964148520471797\n",
      "[0.97237415 0.0203704  0.00387127] 0.9966158231134965\n"
     ]
    },
    {
     "name": "stderr",
     "output_type": "stream",
     "text": [
      "1394it [02:09, 11.68it/s]"
     ]
    },
    {
     "name": "stdout",
     "output_type": "stream",
     "text": [
      "[0.97690349 0.0158202  0.00348491] 0.9962086060046403\n",
      "[0.98305074 0.0120211  0.00240162] 0.9974734569257008\n",
      "[0.98158837 0.01289148 0.00275768] 0.9972375282351843\n"
     ]
    },
    {
     "name": "stderr",
     "output_type": "stream",
     "text": [
      "1398it [02:10, 11.43it/s]"
     ]
    },
    {
     "name": "stdout",
     "output_type": "stream",
     "text": [
      "[0.97925314 0.01451057 0.0031812 ] 0.9969449106353357\n",
      "[0.97908819 0.0149303  0.00310443] 0.9971229205214245\n",
      "[0.97885842 0.0151697  0.00322788] 0.9972559971404515\n"
     ]
    },
    {
     "name": "stderr",
     "output_type": "stream",
     "text": [
      "1400it [02:10, 11.35it/s]"
     ]
    },
    {
     "name": "stdout",
     "output_type": "stream",
     "text": [
      "[0.97089809 0.02042529 0.00449808] 0.9958214581624357\n",
      "[0.97315832 0.02023615 0.00368153] 0.9970759984170687\n",
      "[0.97081371 0.021726   0.00396076] 0.9965004744743656\n"
     ]
    },
    {
     "name": "stderr",
     "output_type": "stream",
     "text": [
      "1404it [02:10, 11.82it/s]"
     ]
    },
    {
     "name": "stdout",
     "output_type": "stream",
     "text": [
      "[0.97987442 0.01497717 0.00270282] 0.9975544063106992\n",
      "[0.9800044  0.01445868 0.00284236] 0.997305436802\n",
      "[0.98092318 0.01395182 0.00263586] 0.9975108603446614\n"
     ]
    },
    {
     "name": "stderr",
     "output_type": "stream",
     "text": [
      "1406it [02:10, 11.46it/s]"
     ]
    },
    {
     "name": "stdout",
     "output_type": "stream",
     "text": [
      "[0.97144483 0.02046632 0.00405561] 0.9959667608596794\n",
      "[0.97605841 0.01758924 0.00332582] 0.9969734628447914\n",
      "[0.97846344 0.0163272  0.00284055] 0.9976311917613172\n"
     ]
    },
    {
     "name": "stderr",
     "output_type": "stream",
     "text": [
      "1410it [02:11, 11.35it/s]"
     ]
    },
    {
     "name": "stdout",
     "output_type": "stream",
     "text": [
      "[0.97856387 0.01644201 0.00274917] 0.9977550494427674\n",
      "[0.97883324 0.01584621 0.00279901] 0.9974784564026457\n",
      "[0.97864981 0.01534051 0.00307936] 0.9970696755710513\n"
     ]
    },
    {
     "name": "stderr",
     "output_type": "stream",
     "text": [
      "1412it [02:11, 11.23it/s]"
     ]
    },
    {
     "name": "stdout",
     "output_type": "stream",
     "text": [
      "[0.98037008 0.01397292 0.00276986] 0.9971128690956156\n",
      "[0.97967229 0.01517376 0.00275338] 0.9975994350960529\n",
      "[0.97550575 0.01823876 0.00333416] 0.9970786729068665\n"
     ]
    },
    {
     "name": "stderr",
     "output_type": "stream",
     "text": [
      "1416it [02:11, 11.22it/s]"
     ]
    },
    {
     "name": "stdout",
     "output_type": "stream",
     "text": [
      "[0.96423749 0.02705273 0.00459554] 0.9958857508511246\n",
      "[0.97248633 0.02109928 0.00362748] 0.9972130908533678\n",
      "[0.97218617 0.02191264 0.00344457] 0.997543388576915\n"
     ]
    },
    {
     "name": "stderr",
     "output_type": "stream",
     "text": [
      "1418it [02:11, 11.24it/s]"
     ]
    },
    {
     "name": "stdout",
     "output_type": "stream",
     "text": [
      "[0.96433345 0.02671765 0.00469214] 0.9957432413728184\n",
      "[0.97042972 0.02253256 0.00385309] 0.9968153690269818\n",
      "[0.9655366  0.0242354  0.00493177] 0.9947037722646733\n"
     ]
    },
    {
     "name": "stderr",
     "output_type": "stream",
     "text": [
      "1420it [02:11, 11.36it/s]"
     ]
    },
    {
     "name": "stdout",
     "output_type": "stream",
     "text": [
      "[0.97220053 0.02026369 0.00390895] 0.996373168968677\n",
      "[0.97433385 0.01914388 0.00347333] 0.9969510648752986\n",
      "[0.97145353 0.02131694 0.00407768] 0.9968481570559979\n"
     ]
    },
    {
     "name": "stderr",
     "output_type": "stream",
     "text": [
      "1424it [02:12, 11.21it/s]"
     ]
    },
    {
     "name": "stdout",
     "output_type": "stream",
     "text": [
      "[0.97092809 0.02067461 0.00442544] 0.996028142616392\n",
      "[0.97002152 0.02178917 0.00444507] 0.9962557607919176\n",
      "[0.97022655 0.02204535 0.00435579] 0.9966276842756114\n"
     ]
    },
    {
     "name": "stderr",
     "output_type": "stream",
     "text": [
      "1428it [02:12, 11.11it/s]"
     ]
    },
    {
     "name": "stdout",
     "output_type": "stream",
     "text": [
      "[0.97311817 0.01954002 0.00386041] 0.996518602924703\n",
      "[0.97727608 0.01681504 0.00318451] 0.997275641827103\n",
      "[0.97367527 0.0192111  0.00376112] 0.9966474926311334\n"
     ]
    },
    {
     "name": "stderr",
     "output_type": "stream",
     "text": [
      "1430it [02:12, 11.32it/s]"
     ]
    },
    {
     "name": "stdout",
     "output_type": "stream",
     "text": [
      "[0.97155508 0.02110047 0.0039639 ] 0.9966194485991038\n",
      "[0.97538283 0.01832381 0.00348503] 0.9971916707884229\n",
      "[0.97149846 0.02093454 0.00400898] 0.9964419847271839\n"
     ]
    },
    {
     "name": "stderr",
     "output_type": "stream",
     "text": [
      "1434it [02:13, 11.13it/s]"
     ]
    },
    {
     "name": "stdout",
     "output_type": "stream",
     "text": [
      "[0.97332004 0.0203829  0.00352522] 0.997228159144518\n",
      "[0.96964123 0.02337907 0.00376757] 0.9967878693269636\n",
      "[0.96615507 0.02536037 0.00436741] 0.9958828547329107\n"
     ]
    },
    {
     "name": "stderr",
     "output_type": "stream",
     "text": [
      "1436it [02:13, 11.19it/s]"
     ]
    },
    {
     "name": "stdout",
     "output_type": "stream",
     "text": [
      "[0.97342654 0.02035692 0.00348069] 0.9972641507124683\n",
      "[0.96943094 0.0217978  0.00469013] 0.9959188657282355\n",
      "[0.9678431  0.02249505 0.00491592] 0.9952540723804877\n"
     ]
    },
    {
     "name": "stderr",
     "output_type": "stream",
     "text": [
      "1440it [02:13, 11.41it/s]"
     ]
    },
    {
     "name": "stdout",
     "output_type": "stream",
     "text": [
      "[0.97817143 0.01673934 0.00291657] 0.9978273411852292\n",
      "[0.9760291  0.01764402 0.00340761] 0.9970807278244637\n",
      "[0.97272003 0.01999953 0.00399112] 0.9967106854253094\n"
     ]
    },
    {
     "name": "stderr",
     "output_type": "stream",
     "text": [
      "1442it [02:13, 11.35it/s]"
     ]
    },
    {
     "name": "stdout",
     "output_type": "stream",
     "text": [
      "[0.97561905 0.01779812 0.00344782] 0.9968649918233939\n",
      "[0.97716378 0.01701753 0.00312237] 0.9973036709312796\n",
      "[0.97444853 0.01893982 0.00342387] 0.9968122220999663\n"
     ]
    },
    {
     "name": "stderr",
     "output_type": "stream",
     "text": [
      "1446it [02:14, 11.39it/s]"
     ]
    },
    {
     "name": "stdout",
     "output_type": "stream",
     "text": [
      "[0.97703262 0.0178902  0.00276544] 0.9976882640269642\n",
      "[0.97556456 0.01883244 0.00295333] 0.9973503316310549\n",
      "[0.97784111 0.01638008 0.00302101] 0.9972422083718084\n"
     ]
    },
    {
     "name": "stderr",
     "output_type": "stream",
     "text": [
      "1448it [02:14, 11.46it/s]"
     ]
    },
    {
     "name": "stdout",
     "output_type": "stream",
     "text": [
      "[0.97883404 0.0156522  0.00292069] 0.9974069387546141\n",
      "[0.97726066 0.01667024 0.00322016] 0.9971510633086378\n",
      "[0.97270973 0.0200762  0.00390686] 0.996692793669557\n"
     ]
    },
    {
     "name": "stderr",
     "output_type": "stream",
     "text": [
      "1452it [02:14, 11.56it/s]"
     ]
    },
    {
     "name": "stdout",
     "output_type": "stream",
     "text": [
      "[0.97453266 0.01818828 0.00380084] 0.9965217783883176\n",
      "[0.9781061  0.01653484 0.00306002] 0.9977009521155729\n",
      "[0.9768328  0.01665941 0.00344423] 0.9969364437643856\n"
     ]
    },
    {
     "name": "stderr",
     "output_type": "stream",
     "text": [
      "1454it [02:14, 11.20it/s]"
     ]
    },
    {
     "name": "stdout",
     "output_type": "stream",
     "text": [
      "[0.98268075 0.01237939 0.00239961] 0.9974597410451423\n",
      "[0.98718596 0.00891266 0.00192122] 0.9980198452456361\n",
      "[0.98861819 0.00802402 0.0017615 ] 0.9984037032299095\n"
     ]
    },
    {
     "name": "stderr",
     "output_type": "stream",
     "text": [
      "1458it [02:15, 11.48it/s]"
     ]
    },
    {
     "name": "stdout",
     "output_type": "stream",
     "text": [
      "[0.98132976 0.01313322 0.00290537] 0.9973683527867412\n",
      "[0.97250355 0.02026653 0.00409691] 0.9968669915430443\n",
      "[0.96430143 0.02584432 0.00523846] 0.9953842035246001\n"
     ]
    },
    {
     "name": "stderr",
     "output_type": "stream",
     "text": [
      "1460it [02:15, 11.66it/s]"
     ]
    },
    {
     "name": "stdout",
     "output_type": "stream",
     "text": [
      "[0.96370541 0.02717048 0.00497492] 0.9958508063520222\n",
      "[0.96100769 0.0284325  0.00554582] 0.9949860067897125\n",
      "[0.96699049 0.02434094 0.00461075] 0.9959421839542195\n"
     ]
    },
    {
     "name": "stderr",
     "output_type": "stream",
     "text": [
      "1464it [02:15, 11.42it/s]"
     ]
    },
    {
     "name": "stdout",
     "output_type": "stream",
     "text": [
      "[0.97290915 0.02082436 0.0034872 ] 0.9972207215440257\n",
      "[0.96976109 0.02236242 0.00409142] 0.9962149223690425\n",
      "[0.98003527 0.01484114 0.00268728] 0.9975636895539699\n"
     ]
    },
    {
     "name": "stderr",
     "output_type": "stream",
     "text": [
      "1466it [02:16, 11.48it/s]"
     ]
    },
    {
     "name": "stdout",
     "output_type": "stream",
     "text": [
      "[0.98218671 0.01346284 0.00229506] 0.9979446082591847\n",
      "[0.98095151 0.01313465 0.00268293] 0.9967690913743198\n",
      "[0.98956451 0.00726736 0.00174575] 0.9985776243700741\n"
     ]
    },
    {
     "name": "stderr",
     "output_type": "stream",
     "text": [
      "1470it [02:16, 11.76it/s]"
     ]
    },
    {
     "name": "stdout",
     "output_type": "stream",
     "text": [
      "[0.98416292 0.0106933  0.0024276 ] 0.9972838199737151\n",
      "[0.97790646 0.01576826 0.00323748] 0.9969122033909876\n",
      "[0.97440762 0.01858474 0.00355289] 0.9965452562059708\n"
     ]
    },
    {
     "name": "stderr",
     "output_type": "stream",
     "text": [
      "1472it [02:16, 11.43it/s]"
     ]
    },
    {
     "name": "stdout",
     "output_type": "stream",
     "text": [
      "[0.97537755 0.01777515 0.00343915] 0.9965918608685096\n",
      "[0.98320843 0.01254873 0.0021043 ] 0.9978614640431313\n",
      "[0.9778205  0.01643221 0.00284943] 0.9971021429766206\n"
     ]
    },
    {
     "name": "stderr",
     "output_type": "stream",
     "text": [
      "1476it [02:16, 10.99it/s]"
     ]
    },
    {
     "name": "stdout",
     "output_type": "stream",
     "text": [
      "[0.96149938 0.02692188 0.00566589] 0.9940871454326625\n",
      "[0.97410716 0.02014731 0.00318295] 0.9974374219201775\n",
      "[0.96538244 0.02611819 0.00463406] 0.9961346977707154\n"
     ]
    },
    {
     "name": "stderr",
     "output_type": "stream",
     "text": [
      "1478it [02:17, 11.18it/s]"
     ]
    },
    {
     "name": "stdout",
     "output_type": "stream",
     "text": [
      "[0.97232387 0.02064186 0.00377953] 0.9967452638133154\n",
      "[0.97891966 0.01598198 0.00282324] 0.9977248834929815\n",
      "[0.96998608 0.02162697 0.0042909 ] 0.9959039515785983\n"
     ]
    },
    {
     "name": "stderr",
     "output_type": "stream",
     "text": [
      "1482it [02:17, 11.60it/s]"
     ]
    },
    {
     "name": "stdout",
     "output_type": "stream",
     "text": [
      "[0.96912668 0.02387996 0.003982  ] 0.9969886366711512\n",
      "[0.97344432 0.02006688 0.00373346] 0.9972446601203053\n",
      "[0.97451372 0.01903039 0.00359472] 0.9971388391195594\n"
     ]
    },
    {
     "name": "stderr",
     "output_type": "stream",
     "text": [
      "1484it [02:17, 11.30it/s]"
     ]
    },
    {
     "name": "stdout",
     "output_type": "stream",
     "text": [
      "[0.97288137 0.01995263 0.0038156 ] 0.9966495983272502\n",
      "[0.97175926 0.0210281  0.00383765] 0.9966250070842896\n",
      "[0.97101745 0.0222156  0.00380412] 0.9970371734999117\n"
     ]
    },
    {
     "name": "stderr",
     "output_type": "stream",
     "text": [
      "1488it [02:17, 11.37it/s]"
     ]
    },
    {
     "name": "stdout",
     "output_type": "stream",
     "text": [
      "[0.96638758 0.02501895 0.00476686] 0.9961733886902977\n",
      "[0.96652425 0.02537645 0.00459864] 0.9964993450357102\n",
      "[0.96814245 0.02386338 0.00435036] 0.9963561823933718\n"
     ]
    },
    {
     "name": "stderr",
     "output_type": "stream",
     "text": [
      "1490it [02:18, 11.38it/s]"
     ]
    },
    {
     "name": "stdout",
     "output_type": "stream",
     "text": [
      "[0.97538444 0.01880613 0.00331704] 0.9975076099687962\n",
      "[0.97181299 0.02122158 0.00390991] 0.9969444819287254\n",
      "[0.97657209 0.01640712 0.00344278] 0.9964219882334283\n"
     ]
    },
    {
     "name": "stderr",
     "output_type": "stream",
     "text": [
      "1494it [02:18, 11.21it/s]"
     ]
    },
    {
     "name": "stdout",
     "output_type": "stream",
     "text": [
      "[0.9669113  0.02116332 0.00503212] 0.993106736145471\n",
      "[0.98490118 0.01042897 0.00226995] 0.9976001020358638\n",
      "[0.98258852 0.01136067 0.00280358] 0.9967527756880369\n"
     ]
    },
    {
     "name": "stderr",
     "output_type": "stream",
     "text": [
      "1496it [02:18, 11.18it/s]"
     ]
    },
    {
     "name": "stdout",
     "output_type": "stream",
     "text": [
      "[0.98665778 0.00888421 0.00223316] 0.9977751499761384\n",
      "[0.9792744  0.01352369 0.00326828] 0.996066380280279\n",
      "[0.98841172 0.00829287 0.00156191] 0.9982665029334492\n"
     ]
    },
    {
     "name": "stderr",
     "output_type": "stream",
     "text": [
      "1498it [02:18, 11.02it/s]"
     ]
    },
    {
     "name": "stdout",
     "output_type": "stream",
     "text": [
      "[0.98330858 0.01141488 0.00229743] 0.9970208944781792\n",
      "[0.97920264 0.01390319 0.00299461] 0.9961004419746278\n",
      "[0.98444014 0.01024504 0.00233799] 0.9970231647175041\n"
     ]
    },
    {
     "name": "stderr",
     "output_type": "stream",
     "text": [
      "1502it [02:19, 11.08it/s]"
     ]
    },
    {
     "name": "stdout",
     "output_type": "stream",
     "text": [
      "[0.98530941 0.00985626 0.00233937] 0.9975050398560207\n",
      "[0.97020501 0.01969192 0.00457021] 0.9944671446572192\n",
      "[0.98562523 0.01037994 0.00201134] 0.9980165085577651\n"
     ]
    },
    {
     "name": "stderr",
     "output_type": "stream",
     "text": [
      "1506it [02:19, 10.96it/s]"
     ]
    },
    {
     "name": "stdout",
     "output_type": "stream",
     "text": [
      "[0.97981727 0.01404405 0.00291465] 0.9967759759724707\n",
      "[0.97383255 0.01793941 0.00438227] 0.9961542274687193\n",
      "[0.97749972 0.01557739 0.00378061] 0.9968577177227945\n"
     ]
    },
    {
     "name": "stderr",
     "output_type": "stream",
     "text": [
      "1508it [02:19, 11.26it/s]"
     ]
    },
    {
     "name": "stdout",
     "output_type": "stream",
     "text": [
      "[0.97875807 0.01473607 0.00351761] 0.9970117508803636\n",
      "[0.97170573 0.01965794 0.00470985] 0.9960735215110771\n",
      "[0.96967975 0.019985   0.00458327] 0.9942480206644517\n"
     ]
    },
    {
     "name": "stderr",
     "output_type": "stream",
     "text": [
      "1512it [02:20, 11.15it/s]"
     ]
    },
    {
     "name": "stdout",
     "output_type": "stream",
     "text": [
      "[0.98617602 0.00968789 0.00189618] 0.9977600839443863\n",
      "[0.98359353 0.01122174 0.00234937] 0.9971646401401133\n",
      "[0.98110874 0.01265116 0.00291487] 0.9966747690265246\n"
     ]
    },
    {
     "name": "stderr",
     "output_type": "stream",
     "text": [
      "1514it [02:20, 11.19it/s]"
     ]
    },
    {
     "name": "stdout",
     "output_type": "stream",
     "text": [
      "[0.98654768 0.00938867 0.00193328] 0.997869624273585\n",
      "[0.98344575 0.01140238 0.00238159] 0.9972297129675921\n",
      "[0.96968215 0.01980795 0.00473936] 0.9942294490316494\n"
     ]
    },
    {
     "name": "stderr",
     "output_type": "stream",
     "text": [
      "1518it [02:20, 11.19it/s]"
     ]
    },
    {
     "name": "stdout",
     "output_type": "stream",
     "text": [
      "[0.98748045 0.00823336 0.00207269] 0.9977865075183118\n",
      "[0.98799753 0.00784838 0.0020769 ] 0.9979228062463374\n",
      "[0.9886231  0.00751391 0.00196551] 0.9981025204978181\n"
     ]
    },
    {
     "name": "stderr",
     "output_type": "stream",
     "text": [
      "1520it [02:20, 11.39it/s]"
     ]
    },
    {
     "name": "stdout",
     "output_type": "stream",
     "text": [
      "[0.98045439 0.01324647 0.00304068] 0.9967415297703304\n",
      "[0.9843172  0.01137237 0.00223217] 0.9979217440486841\n",
      "[0.97171449 0.01869362 0.00440088] 0.9948089901387455\n"
     ]
    },
    {
     "name": "stderr",
     "output_type": "stream",
     "text": [
      "1524it [02:21, 11.08it/s]"
     ]
    },
    {
     "name": "stdout",
     "output_type": "stream",
     "text": [
      "[0.9818883  0.01221508 0.00314833] 0.9972517030004625\n",
      "[0.97793391 0.0149928  0.00369828] 0.9966249842468526\n",
      "[0.98387536 0.01077638 0.00272073] 0.997372464555506\n"
     ]
    },
    {
     "name": "stderr",
     "output_type": "stream",
     "text": [
      "1526it [02:21, 11.39it/s]"
     ]
    },
    {
     "name": "stdout",
     "output_type": "stream",
     "text": [
      "[0.98466632 0.01042718 0.00238412] 0.9974776220820125\n",
      "[0.9842697  0.01057135 0.00251483] 0.997355876372101\n",
      "[0.98640844 0.00922576 0.00203202] 0.9976662189311261\n"
     ]
    },
    {
     "name": "stderr",
     "output_type": "stream",
     "text": [
      "1528it [02:21, 11.17it/s]"
     ]
    },
    {
     "name": "stdout",
     "output_type": "stream",
     "text": [
      "[0.98649509 0.00883731 0.00220219] 0.9975345988685654\n",
      "[0.98397085 0.01060612 0.00273929] 0.9973162605750954\n"
     ]
    },
    {
     "name": "stderr",
     "output_type": "stream",
     "text": [
      "1532it [02:21, 10.72it/s]"
     ]
    },
    {
     "name": "stdout",
     "output_type": "stream",
     "text": [
      "[0.97235856 0.01868016 0.00413086] 0.9951695901263994\n",
      "[0.98445547 0.01129916 0.0021677 ] 0.9979223289462753\n",
      "[0.97523569 0.01676497 0.0036364 ] 0.9956370566198727\n"
     ]
    },
    {
     "name": "stderr",
     "output_type": "stream",
     "text": [
      "1534it [02:22, 10.70it/s]"
     ]
    },
    {
     "name": "stdout",
     "output_type": "stream",
     "text": [
      "[0.97968763 0.01382051 0.00339836] 0.9969064987127919\n",
      "[0.97821996 0.01485487 0.00367913] 0.99675396277652\n",
      "[0.95455551 0.02960667 0.00709743] 0.9912596136036537\n"
     ]
    },
    {
     "name": "stderr",
     "output_type": "stream",
     "text": [
      "1538it [02:22, 10.97it/s]"
     ]
    },
    {
     "name": "stdout",
     "output_type": "stream",
     "text": [
      "[0.97961126 0.0138095  0.00292304] 0.9963438051114116\n",
      "[0.98887598 0.00806165 0.00143239] 0.9983700243082427\n",
      "[0.97609792 0.01570014 0.00361977] 0.9954178232128674\n"
     ]
    },
    {
     "name": "stderr",
     "output_type": "stream",
     "text": [
      "1540it [02:22, 11.28it/s]"
     ]
    },
    {
     "name": "stdout",
     "output_type": "stream",
     "text": [
      "[0.98270968 0.01153396 0.00264015] 0.9968837982549564\n",
      "[0.98798315 0.0082311  0.00172932] 0.9979435697497873\n",
      "[0.9879071  0.00820753 0.00174613] 0.9978607576435928\n"
     ]
    },
    {
     "name": "stderr",
     "output_type": "stream",
     "text": [
      "1544it [02:22, 11.32it/s]"
     ]
    },
    {
     "name": "stdout",
     "output_type": "stream",
     "text": [
      "[0.98042597 0.01289427 0.00308596] 0.9964062001982888\n",
      "[0.97819308 0.01464822 0.00324624] 0.9960875484230153\n",
      "[0.98562041 0.01016067 0.00200684] 0.9977879161805926\n"
     ]
    },
    {
     "name": "stderr",
     "output_type": "stream",
     "text": [
      "1546it [02:23, 11.27it/s]"
     ]
    },
    {
     "name": "stdout",
     "output_type": "stream",
     "text": [
      "[0.97792902 0.01507406 0.00320893] 0.9962120028774966\n",
      "[0.975336   0.01657756 0.00370922] 0.9956227816605996\n",
      "[0.98582816 0.01007239 0.00204029] 0.9979408420597774\n"
     ]
    },
    {
     "name": "stderr",
     "output_type": "stream",
     "text": [
      "1550it [02:23, 11.18it/s]"
     ]
    },
    {
     "name": "stdout",
     "output_type": "stream",
     "text": [
      "[0.97362244 0.0175762  0.00402523] 0.995223871426546\n",
      "[0.98855265 0.00849105 0.00158038] 0.9986240826201103\n",
      "[0.98421636 0.0111527  0.00222887] 0.9975979320601795\n"
     ]
    },
    {
     "name": "stderr",
     "output_type": "stream",
     "text": [
      "1552it [02:23, 11.14it/s]"
     ]
    },
    {
     "name": "stdout",
     "output_type": "stream",
     "text": [
      "[0.98018471 0.01312259 0.00300216] 0.9963094709596912\n",
      "[0.9898125  0.00732476 0.00134677] 0.9984840349609969\n",
      "[0.96564841 0.02230807 0.00529295] 0.9932494296735708\n"
     ]
    },
    {
     "name": "stderr",
     "output_type": "stream",
     "text": [
      "1556it [02:24, 11.18it/s]"
     ]
    },
    {
     "name": "stdout",
     "output_type": "stream",
     "text": [
      "[0.97116459 0.01886867 0.00451586] 0.9945491237305529\n",
      "[0.98928306 0.00749169 0.00165171] 0.9984264574972443\n",
      "[0.98503836 0.00999212 0.00232148] 0.9973519573694215\n"
     ]
    },
    {
     "name": "stderr",
     "output_type": "stream",
     "text": [
      "1558it [02:24, 11.25it/s]"
     ]
    },
    {
     "name": "stdout",
     "output_type": "stream",
     "text": [
      "[0.97281766 0.01791462 0.00422544] 0.994957720206485\n",
      "[0.98628673 0.00960564 0.00205077] 0.9979431385346794\n",
      "[0.98041731 0.01333585 0.00299755] 0.9967507086780254\n"
     ]
    },
    {
     "name": "stderr",
     "output_type": "stream",
     "text": [
      "1562it [02:24, 11.24it/s]"
     ]
    },
    {
     "name": "stdout",
     "output_type": "stream",
     "text": [
      "[0.97377874 0.01807688 0.00457021] 0.9964258260310837\n",
      "[0.97450582 0.01796038 0.00423053] 0.9966967251554667\n",
      "[0.97947853 0.01451399 0.00339822] 0.997390740919355\n"
     ]
    },
    {
     "name": "stderr",
     "output_type": "stream",
     "text": [
      "1564it [02:24, 11.28it/s]"
     ]
    },
    {
     "name": "stdout",
     "output_type": "stream",
     "text": [
      "[0.97573219 0.01671618 0.00417316] 0.9966215213423573\n",
      "[0.97683026 0.01606382 0.00395458] 0.9968486554563507\n",
      "[0.97603502 0.01670103 0.00411393] 0.9968499721960276\n"
     ]
    },
    {
     "name": "stderr",
     "output_type": "stream",
     "text": [
      "1568it [02:25, 11.37it/s]"
     ]
    },
    {
     "name": "stdout",
     "output_type": "stream",
     "text": [
      "[0.95395662 0.03062938 0.00749764] 0.9920836444415493\n",
      "[0.98415338 0.01112734 0.00230893] 0.9975896601101152\n",
      "[0.98563164 0.01007756 0.00206932] 0.997778509171222\n"
     ]
    },
    {
     "name": "stderr",
     "output_type": "stream",
     "text": [
      "1570it [02:25, 11.37it/s]"
     ]
    },
    {
     "name": "stdout",
     "output_type": "stream",
     "text": [
      "[0.98010882 0.01306074 0.00310077] 0.9962703365998251\n",
      "[0.98369548 0.01097964 0.00255715] 0.9972322737941688\n",
      "[0.98177136 0.01229494 0.00299822] 0.9970645212697837\n"
     ]
    },
    {
     "name": "stderr",
     "output_type": "stream",
     "text": [
      "1574it [02:25, 11.35it/s]"
     ]
    },
    {
     "name": "stdout",
     "output_type": "stream",
     "text": [
      "[0.97646499 0.01609567 0.00397967] 0.9965403301082895\n",
      "[0.97915364 0.01459953 0.00345274] 0.9972059168927678\n",
      "[0.98475107 0.01032316 0.00232472] 0.9973989494170536\n"
     ]
    },
    {
     "name": "stderr",
     "output_type": "stream",
     "text": [
      "1576it [02:25, 11.29it/s]"
     ]
    },
    {
     "name": "stdout",
     "output_type": "stream",
     "text": [
      "[0.98063447 0.01309457 0.0027575 ] 0.9964865337319734\n",
      "[0.98695121 0.00933965 0.00171659] 0.9980074546830335\n",
      "[0.98295139 0.01202333 0.00235916] 0.9973338873075459\n"
     ]
    },
    {
     "name": "stderr",
     "output_type": "stream",
     "text": [
      "1580it [02:26, 11.18it/s]"
     ]
    },
    {
     "name": "stdout",
     "output_type": "stream",
     "text": [
      "[0.97338812 0.0177134  0.00411487] 0.9952163889193774\n",
      "[0.98309274 0.01164589 0.00279334] 0.9975319680616679\n",
      "[0.98305075 0.01166479 0.00290138] 0.9976169111757465\n"
     ]
    },
    {
     "name": "stderr",
     "output_type": "stream",
     "text": [
      "1582it [02:26, 11.19it/s]"
     ]
    },
    {
     "name": "stdout",
     "output_type": "stream",
     "text": [
      "[0.98040541 0.01333202 0.00334435] 0.9970817758034982\n",
      "[0.9755904  0.01660447 0.00405167] 0.9962465414035067\n",
      "[0.98306582 0.01141357 0.00257103] 0.997050413667388\n"
     ]
    },
    {
     "name": "stderr",
     "output_type": "stream",
     "text": [
      "1586it [02:26, 11.22it/s]"
     ]
    },
    {
     "name": "stdout",
     "output_type": "stream",
     "text": [
      "[0.98865813 0.00792389 0.00162745] 0.9982094693826212\n",
      "[0.98186266 0.01200034 0.00273507] 0.9965980598570324\n",
      "[0.97492511 0.01643253 0.00403739] 0.9953950219126763\n"
     ]
    },
    {
     "name": "stderr",
     "output_type": "stream",
     "text": [
      "1588it [02:26, 11.51it/s]"
     ]
    },
    {
     "name": "stdout",
     "output_type": "stream",
     "text": [
      "[0.97527998 0.01743959 0.00403764] 0.9967572150153202\n",
      "[0.98029446 0.0137636  0.00307533] 0.9971333855664675\n",
      "[0.97992114 0.01374389 0.00313798] 0.9968030165947268\n"
     ]
    },
    {
     "name": "stderr",
     "output_type": "stream",
     "text": [
      "1592it [02:27, 11.30it/s]"
     ]
    },
    {
     "name": "stdout",
     "output_type": "stream",
     "text": [
      "[0.98012727 0.01334176 0.00343033] 0.9968993631833968\n",
      "[0.9808561  0.01293399 0.00329421] 0.9970842978048388\n",
      "[0.98483277 0.01021338 0.00230445] 0.9973505997783084\n"
     ]
    },
    {
     "name": "stderr",
     "output_type": "stream",
     "text": [
      "1594it [02:27, 11.62it/s]"
     ]
    },
    {
     "name": "stdout",
     "output_type": "stream",
     "text": [
      "[0.98894272 0.00779503 0.00164665] 0.998384399170289\n",
      "[0.96855565 0.02060194 0.00487099] 0.9940285760016715\n",
      "[0.9714813  0.02014539 0.00474904] 0.9963757353199009\n"
     ]
    },
    {
     "name": "stderr",
     "output_type": "stream",
     "text": [
      "1598it [02:27, 11.24it/s]"
     ]
    },
    {
     "name": "stdout",
     "output_type": "stream",
     "text": [
      "[0.97147002 0.01982611 0.00465533] 0.9959514624866657\n",
      "[0.9759327  0.01660796 0.00403454] 0.9965752082421684\n",
      "[0.98150983 0.01294456 0.00287633] 0.9973307180713796\n"
     ]
    },
    {
     "name": "stderr",
     "output_type": "stream",
     "text": [
      "1600it [02:27, 11.36it/s]"
     ]
    },
    {
     "name": "stdout",
     "output_type": "stream",
     "text": [
      "[0.97721036 0.01498094 0.00356379] 0.9957550918434469\n",
      "[0.98739177 0.00857876 0.00180393] 0.9977744636210302\n",
      "[0.98437828 0.01032784 0.0023792 ] 0.9970853178762478\n"
     ]
    },
    {
     "name": "stderr",
     "output_type": "stream",
     "text": [
      "1604it [02:28, 11.44it/s]"
     ]
    },
    {
     "name": "stdout",
     "output_type": "stream",
     "text": [
      "[0.98422356 0.01024555 0.0025314 ] 0.9970005001785249\n",
      "[0.9801841  0.01337348 0.00350362] 0.9970611947688985\n",
      "[0.97482027 0.01697018 0.00427479] 0.9960652337112326\n"
     ]
    },
    {
     "name": "stderr",
     "output_type": "stream",
     "text": [
      "1606it [02:28, 11.50it/s]"
     ]
    },
    {
     "name": "stdout",
     "output_type": "stream",
     "text": [
      "[0.98217669 0.01215318 0.00305274] 0.9973826172449934\n",
      "[0.98425917 0.01070178 0.00260883] 0.9975697786095719\n",
      "[0.98032538 0.01326829 0.00298648] 0.9965801554332356\n"
     ]
    },
    {
     "name": "stderr",
     "output_type": "stream",
     "text": [
      "1610it [02:28, 11.52it/s]"
     ]
    },
    {
     "name": "stdout",
     "output_type": "stream",
     "text": [
      "[0.98490268 0.01085985 0.00221117] 0.9979737014947268\n",
      "[0.96983913 0.01993977 0.00468049] 0.994459387379227\n",
      "[0.99021412 0.00673644 0.00144788] 0.9983984439269581\n"
     ]
    },
    {
     "name": "stderr",
     "output_type": "stream",
     "text": [
      "1612it [02:29, 11.26it/s]"
     ]
    },
    {
     "name": "stdout",
     "output_type": "stream",
     "text": [
      "[0.98275928 0.01137443 0.00268989] 0.9968235976576437\n",
      "[0.98237337 0.01166952 0.00264414] 0.9966870313735255\n",
      "[0.99050552 0.00671377 0.00131263] 0.998531926061815\n"
     ]
    },
    {
     "name": "stderr",
     "output_type": "stream",
     "text": [
      "1616it [02:29, 11.18it/s]"
     ]
    },
    {
     "name": "stdout",
     "output_type": "stream",
     "text": [
      "[0.9846085  0.01093487 0.00213823] 0.9976815966461476\n",
      "[0.98036377 0.01321058 0.0029941 ] 0.9965684531551291\n",
      "[0.98436703 0.01069645 0.00235277] 0.9974162479842937\n"
     ]
    },
    {
     "name": "stderr",
     "output_type": "stream",
     "text": [
      "1618it [02:29, 11.31it/s]"
     ]
    },
    {
     "name": "stdout",
     "output_type": "stream",
     "text": [
      "[0.98473772 0.01054694 0.00223829] 0.9975229545546781\n",
      "[0.97381734 0.01725306 0.00418939] 0.995259798429978\n",
      "[0.97204571 0.01976707 0.00453214] 0.9963449185114999\n"
     ]
    },
    {
     "name": "stderr",
     "output_type": "stream",
     "text": [
      "1622it [02:29, 11.25it/s]"
     ]
    },
    {
     "name": "stdout",
     "output_type": "stream",
     "text": [
      "[0.96113341 0.02757328 0.00663364] 0.9953403342414466\n",
      "[0.9623071  0.02608694 0.00653793] 0.9949319671248579\n",
      "[0.97806809 0.01472066 0.00319161] 0.995980355796783\n"
     ]
    },
    {
     "name": "stderr",
     "output_type": "stream",
     "text": [
      "1624it [02:30, 11.37it/s]"
     ]
    },
    {
     "name": "stdout",
     "output_type": "stream",
     "text": [
      "[0.98873514 0.00828946 0.00146465] 0.9984892466587497\n",
      "[0.95228533 0.03093357 0.0073139 ] 0.9905327935393813\n",
      "[0.97559818 0.01697316 0.00392794] 0.9964992811885711\n"
     ]
    },
    {
     "name": "stderr",
     "output_type": "stream",
     "text": [
      "1628it [02:30, 11.30it/s]"
     ]
    },
    {
     "name": "stdout",
     "output_type": "stream",
     "text": [
      "[0.97906928 0.01459809 0.00336256] 0.9970299298412504\n",
      "[0.97957981 0.01393488 0.00337055] 0.9968852386404834\n",
      "[0.98120355 0.01301544 0.00281525] 0.9970342424319784\n"
     ]
    },
    {
     "name": "stderr",
     "output_type": "stream",
     "text": [
      "1630it [02:30, 11.17it/s]"
     ]
    },
    {
     "name": "stdout",
     "output_type": "stream",
     "text": [
      "[0.9836555  0.01170295 0.00233111] 0.9976895630300966\n",
      "[0.96475443 0.0231151  0.00552875] 0.9933982784356779\n",
      "[0.97735607 0.01556748 0.00374665] 0.9966702081138633\n"
     ]
    },
    {
     "name": "stderr",
     "output_type": "stream",
     "text": [
      "1634it [02:30, 11.18it/s]"
     ]
    },
    {
     "name": "stdout",
     "output_type": "stream",
     "text": [
      "[0.97692265 0.015905   0.0039229 ] 0.9967505559402324\n",
      "[0.97497978 0.01681732 0.0037971 ] 0.9955942093783307\n",
      "[0.98787245 0.00885046 0.00172227] 0.9984451777569305\n"
     ]
    },
    {
     "name": "stderr",
     "output_type": "stream",
     "text": [
      "1636it [02:31, 11.31it/s]"
     ]
    },
    {
     "name": "stdout",
     "output_type": "stream",
     "text": [
      "[0.97668752 0.01561603 0.00356137] 0.995864919917691\n",
      "[0.97458898 0.01760719 0.00434483] 0.99654099929618\n",
      "[0.97533645 0.01709425 0.00431833] 0.9967490260917676\n"
     ]
    },
    {
     "name": "stderr",
     "output_type": "stream",
     "text": [
      "1640it [02:31, 11.57it/s]"
     ]
    },
    {
     "name": "stdout",
     "output_type": "stream",
     "text": [
      "[0.97642938 0.01637362 0.00404992] 0.9968529230782396\n",
      "[0.98181665 0.01203947 0.00269337] 0.9965495004729508\n",
      "[0.99089995 0.00645147 0.00125332] 0.9986047415800116\n"
     ]
    },
    {
     "name": "stderr",
     "output_type": "stream",
     "text": [
      "1642it [02:31, 11.33it/s]"
     ]
    },
    {
     "name": "stdout",
     "output_type": "stream",
     "text": [
      "[0.96809079 0.02079272 0.00483521] 0.9937187215795353\n",
      "[0.96805062 0.02169016 0.00527358] 0.9950143581950492\n",
      "[0.9761615  0.01681202 0.00384472] 0.9968182400967481\n"
     ]
    },
    {
     "name": "stderr",
     "output_type": "stream",
     "text": [
      "1646it [02:32, 11.32it/s]"
     ]
    },
    {
     "name": "stdout",
     "output_type": "stream",
     "text": [
      "[0.9736326  0.01872645 0.00430571] 0.9966647521557321\n",
      "[0.95970246 0.02631982 0.00623892] 0.9922612033478974\n",
      "[0.98766862 0.00864617 0.00178856] 0.9981033425105864\n"
     ]
    },
    {
     "name": "stderr",
     "output_type": "stream",
     "text": [
      "1648it [02:32, 11.50it/s]"
     ]
    },
    {
     "name": "stdout",
     "output_type": "stream",
     "text": [
      "[0.98236009 0.01195553 0.00262207] 0.996937694392405\n",
      "[0.97011765 0.01975755 0.00464349] 0.9945186917114184\n",
      "[0.98828019 0.00825283 0.00176796] 0.9983009861807675\n"
     ]
    },
    {
     "name": "stderr",
     "output_type": "stream",
     "text": [
      "1652it [02:32, 11.44it/s]"
     ]
    },
    {
     "name": "stdout",
     "output_type": "stream",
     "text": [
      "[0.98173173 0.01217774 0.00280146] 0.9967109325003175\n",
      "[0.96283172 0.02572751 0.00631762] 0.9948768563903997\n",
      "[0.96531815 0.02413422 0.00590926] 0.9953616203170779\n"
     ]
    },
    {
     "name": "stderr",
     "output_type": "stream",
     "text": [
      "1654it [02:32, 11.42it/s]"
     ]
    },
    {
     "name": "stdout",
     "output_type": "stream",
     "text": [
      "[0.94767701 0.03466843 0.00823803] 0.9905834711441941\n",
      "[0.98399199 0.01118544 0.00235288] 0.9975303128314592\n",
      "[0.98362222 0.01135257 0.00239374] 0.9973685315838061\n"
     ]
    },
    {
     "name": "stderr",
     "output_type": "stream",
     "text": [
      "1658it [02:33, 11.70it/s]"
     ]
    },
    {
     "name": "stdout",
     "output_type": "stream",
     "text": [
      "[0.97224901 0.01815386 0.00450416] 0.9949070293604191\n",
      "[0.97701642 0.01614978 0.00375848] 0.996924681691462\n",
      "[0.98130209 0.01290044 0.00298903] 0.9971915582871663\n"
     ]
    },
    {
     "name": "stderr",
     "output_type": "stream",
     "text": [
      "1660it [02:33, 11.61it/s]"
     ]
    },
    {
     "name": "stdout",
     "output_type": "stream",
     "text": [
      "[0.97971025 0.01368734 0.00306268] 0.9964602768650455\n",
      "[0.98395267 0.01098825 0.00237082] 0.9973117408006462\n",
      "[0.98365572 0.01095704 0.0024436 ] 0.9970563638391006\n"
     ]
    },
    {
     "name": "stderr",
     "output_type": "stream",
     "text": [
      "1664it [02:33, 11.48it/s]"
     ]
    },
    {
     "name": "stdout",
     "output_type": "stream",
     "text": [
      "[0.98720528 0.00877455 0.00189851] 0.9978783350283963\n",
      "[0.98818184 0.00808427 0.00176296] 0.9980290675213352\n",
      "[0.98486646 0.01003461 0.00240797] 0.9973090448719891\n"
     ]
    },
    {
     "name": "stderr",
     "output_type": "stream",
     "text": [
      "1666it [02:33, 11.80it/s]"
     ]
    },
    {
     "name": "stdout",
     "output_type": "stream",
     "text": [
      "[0.9851577  0.0100548  0.00229127] 0.9975037725792733\n",
      "[0.97932322 0.01288567 0.00360554] 0.9958144352992359\n",
      "[0.98720774 0.00767787 0.0025227 ] 0.9974083108644516\n"
     ]
    },
    {
     "name": "stderr",
     "output_type": "stream",
     "text": [
      "1670it [02:34, 11.45it/s]"
     ]
    },
    {
     "name": "stdout",
     "output_type": "stream",
     "text": [
      "[0.98553006 0.00946088 0.00251715] 0.9975080930449981\n",
      "[0.98554389 0.00933602 0.00227513] 0.9971550342452807\n",
      "[0.99332806 0.00443499 0.00100828] 0.9987713387788322\n"
     ]
    },
    {
     "name": "stderr",
     "output_type": "stream",
     "text": [
      "1672it [02:34, 11.51it/s]"
     ]
    },
    {
     "name": "stdout",
     "output_type": "stream",
     "text": [
      "[0.98771261 0.00799626 0.00193967] 0.997648537716213\n",
      "[0.98547119 0.00925975 0.00244176] 0.9971727061190194\n",
      "[0.9839608  0.01016144 0.0027385 ] 0.9968607344875933\n"
     ]
    },
    {
     "name": "stderr",
     "output_type": "stream",
     "text": [
      "1676it [02:34, 11.45it/s]"
     ]
    },
    {
     "name": "stdout",
     "output_type": "stream",
     "text": [
      "[0.98700781 0.00812462 0.00233879] 0.997471223660055\n",
      "[0.98449649 0.01004443 0.00271094] 0.9972518613690324\n",
      "[0.9848237  0.01051407 0.00239417] 0.997731943284663\n"
     ]
    },
    {
     "name": "stderr",
     "output_type": "stream",
     "text": [
      "1678it [02:34, 11.35it/s]"
     ]
    },
    {
     "name": "stdout",
     "output_type": "stream",
     "text": [
      "[0.98441607 0.01114441 0.00235946] 0.9979199488510636\n",
      "[0.98234387 0.0119427  0.003035  ] 0.9973215719669002\n",
      "[0.97880312 0.01447774 0.00351318] 0.9967940414339034\n"
     ]
    },
    {
     "name": "stderr",
     "output_type": "stream",
     "text": [
      "1682it [02:35, 11.34it/s]"
     ]
    },
    {
     "name": "stdout",
     "output_type": "stream",
     "text": [
      "[0.97414402 0.01683055 0.00395685] 0.9949314219935229\n",
      "[0.99240009 0.00547605 0.00112125] 0.9989973915609851\n",
      "[0.99051037 0.00649197 0.0013747 ] 0.9983770440965679\n"
     ]
    },
    {
     "name": "stderr",
     "output_type": "stream",
     "text": [
      "1684it [02:35, 11.52it/s]"
     ]
    },
    {
     "name": "stdout",
     "output_type": "stream",
     "text": [
      "[0.98902005 0.00746    0.00187857] 0.99835862465964\n",
      "[0.97868099 0.01488624 0.0033623 ] 0.9969295310588008\n",
      "[0.97490981 0.01830237 0.00380829] 0.9970204801317255\n"
     ]
    },
    {
     "name": "stderr",
     "output_type": "stream",
     "text": [
      "1688it [02:35, 11.58it/s]"
     ]
    },
    {
     "name": "stdout",
     "output_type": "stream",
     "text": [
      "[0.97115012 0.02095957 0.00441238] 0.99652207256299\n",
      "[0.96726583 0.0238178  0.00497567] 0.9960592978559034\n",
      "[0.97124251 0.02069821 0.00431926] 0.9962599718576611\n"
     ]
    },
    {
     "name": "stderr",
     "output_type": "stream",
     "text": [
      "1690it [02:35, 11.34it/s]"
     ]
    },
    {
     "name": "stdout",
     "output_type": "stream",
     "text": [
      "[0.97644662 0.01697276 0.00347602] 0.9968953990632465\n",
      "[0.97775153 0.0160639  0.0032609 ] 0.9970763311174738\n",
      "[0.97045103 0.02149572 0.00433471] 0.996281464037851\n"
     ]
    },
    {
     "name": "stderr",
     "output_type": "stream",
     "text": [
      "1694it [02:36, 11.25it/s]"
     ]
    },
    {
     "name": "stdout",
     "output_type": "stream",
     "text": [
      "[0.96648779 0.02390565 0.00507112] 0.9954645557142741\n",
      "[0.96964373 0.02155674 0.00468941] 0.9958898889032338\n",
      "[0.9805537  0.01427758 0.00273632] 0.997567595503679\n"
     ]
    },
    {
     "name": "stderr",
     "output_type": "stream",
     "text": [
      "1696it [02:36, 10.90it/s]"
     ]
    },
    {
     "name": "stdout",
     "output_type": "stream",
     "text": [
      "[0.97834795 0.01550456 0.00314431] 0.996996825753783\n",
      "[0.97054141 0.02096808 0.00429705] 0.9958065368707412\n"
     ]
    },
    {
     "name": "stderr",
     "output_type": "stream",
     "text": [
      "1698it [02:36, 10.99it/s]"
     ]
    },
    {
     "name": "stdout",
     "output_type": "stream",
     "text": [
      "[0.97152751 0.02123879 0.00400945] 0.9967757611327432\n",
      "[0.97055762 0.02135866 0.00436797] 0.9962842457162313\n",
      "[0.97082625 0.02044286 0.00447145] 0.9957405537174038\n"
     ]
    },
    {
     "name": "stderr",
     "output_type": "stream",
     "text": [
      "1702it [02:36, 11.34it/s]"
     ]
    },
    {
     "name": "stdout",
     "output_type": "stream",
     "text": [
      "[0.97444986 0.01850563 0.00379139] 0.9967468810344001\n",
      "[0.97584755 0.01787904 0.0034403 ] 0.9971669011717944\n",
      "[0.96881493 0.02320075 0.00432551] 0.9963411921148528\n"
     ]
    },
    {
     "name": "stderr",
     "output_type": "stream",
     "text": [
      "1704it [02:37, 11.14it/s]"
     ]
    },
    {
     "name": "stdout",
     "output_type": "stream",
     "text": [
      "[0.96771521 0.02359912 0.00460919] 0.995923522720954\n",
      "[0.9696257  0.02259243 0.00423197] 0.996450102916697\n",
      "[0.96571818 0.02520618 0.00497435] 0.9958987111829547\n"
     ]
    },
    {
     "name": "stderr",
     "output_type": "stream",
     "text": [
      "1706it [02:37, 10.87it/s]"
     ]
    },
    {
     "name": "stdout",
     "output_type": "stream",
     "text": [
      "[0.97008085 0.02269742 0.00419254] 0.9969708122274227\n",
      "[0.96641714 0.02447957 0.00495278] 0.9958494894536659\n",
      "[0.97350346 0.0191497  0.00397349] 0.9966266578141455\n"
     ]
    },
    {
     "name": "stderr",
     "output_type": "stream",
     "text": [
      "1710it [02:37, 10.41it/s]"
     ]
    },
    {
     "name": "stdout",
     "output_type": "stream",
     "text": [
      "[0.97238948 0.01961138 0.00434197] 0.9963428224047142\n",
      "[0.97514628 0.01768399 0.00382181] 0.9966520748659703\n"
     ]
    },
    {
     "name": "stderr",
     "output_type": "stream",
     "text": [
      "1712it [02:37, 10.42it/s]"
     ]
    },
    {
     "name": "stdout",
     "output_type": "stream",
     "text": [
      "[0.97640667 0.0173165  0.00338747] 0.9971106348666327\n",
      "[0.97741041 0.01635917 0.00316523] 0.9969348148235166\n",
      "[0.980652   0.01373502 0.00273754] 0.9971245622931\n"
     ]
    },
    {
     "name": "stderr",
     "output_type": "stream",
     "text": [
      "1714it [02:38, 10.24it/s]"
     ]
    },
    {
     "name": "stdout",
     "output_type": "stream",
     "text": [
      "[0.97752864 0.01557693 0.00354452] 0.9966500858539031\n",
      "[0.97425854 0.01853243 0.00378866] 0.9965796321278582\n"
     ]
    },
    {
     "name": "stderr",
     "output_type": "stream",
     "text": [
      "1716it [02:38, 10.07it/s]"
     ]
    },
    {
     "name": "stdout",
     "output_type": "stream",
     "text": [
      "[0.97415229 0.01896261 0.00353598] 0.9966508860627576\n",
      "[0.97388439 0.01930619 0.00363395] 0.996824534167725\n",
      "[0.96788817 0.02275389 0.00485561] 0.9954976756839731\n"
     ]
    },
    {
     "name": "stderr",
     "output_type": "stream",
     "text": [
      "1720it [02:38, 10.06it/s]"
     ]
    },
    {
     "name": "stdout",
     "output_type": "stream",
     "text": [
      "[0.97474912 0.01865687 0.00361901] 0.9970250093864801\n",
      "[0.97234735 0.01978264 0.00412097] 0.9962509610190711\n"
     ]
    },
    {
     "name": "stderr",
     "output_type": "stream",
     "text": [
      "1722it [02:38, 10.19it/s]"
     ]
    },
    {
     "name": "stdout",
     "output_type": "stream",
     "text": [
      "[0.96703285 0.02321309 0.00517194] 0.9954178867366629\n",
      "[0.96200612 0.02669641 0.00592027] 0.9946227935190484\n",
      "[0.97100698 0.0219216  0.00392312] 0.9968517042223061\n"
     ]
    },
    {
     "name": "stderr",
     "output_type": "stream",
     "text": [
      "1726it [02:39, 10.78it/s]"
     ]
    },
    {
     "name": "stdout",
     "output_type": "stream",
     "text": [
      "[0.9729737  0.01991597 0.00359485] 0.9964845184263307\n",
      "[0.97563946 0.01752557 0.00335272] 0.9965177461427553\n",
      "[0.97594098 0.01735573 0.00329107] 0.9965877808039199\n"
     ]
    },
    {
     "name": "stderr",
     "output_type": "stream",
     "text": [
      "1728it [02:39, 10.05it/s]"
     ]
    },
    {
     "name": "stdout",
     "output_type": "stream",
     "text": [
      "[0.97175889 0.02048456 0.00398767] 0.9962311233753205\n",
      "[0.96597456 0.02509418 0.0047971 ] 0.9958658413465802\n"
     ]
    },
    {
     "name": "stderr",
     "output_type": "stream",
     "text": [
      "1730it [02:39,  9.31it/s]"
     ]
    },
    {
     "name": "stdout",
     "output_type": "stream",
     "text": [
      "[0.96706655 0.02450141 0.00463407] 0.9962020319380761\n",
      "[0.96747914 0.02354408 0.00489428] 0.9959174952824807\n"
     ]
    },
    {
     "name": "stderr",
     "output_type": "stream",
     "text": [
      "1732it [02:39,  8.66it/s]"
     ]
    },
    {
     "name": "stdout",
     "output_type": "stream",
     "text": [
      "[0.96949259 0.0220126  0.00477616] 0.9962813492096894\n",
      "[0.97244674 0.02058677 0.00385969] 0.99689319320255\n"
     ]
    },
    {
     "name": "stderr",
     "output_type": "stream",
     "text": [
      "1734it [02:40,  8.06it/s]"
     ]
    },
    {
     "name": "stdout",
     "output_type": "stream",
     "text": [
      "[0.97056022 0.02228671 0.0041315 ] 0.9969784369043461\n",
      "[0.96668875 0.0247864  0.00481352] 0.9962886700147616\n"
     ]
    },
    {
     "name": "stderr",
     "output_type": "stream",
     "text": [
      "1736it [02:40,  7.84it/s]"
     ]
    },
    {
     "name": "stdout",
     "output_type": "stream",
     "text": [
      "[0.96477562 0.02605377 0.00513172] 0.9959611177084351\n",
      "[0.95937943 0.02981556 0.00581462] 0.9950096193461726\n"
     ]
    },
    {
     "name": "stderr",
     "output_type": "stream",
     "text": [
      "1738it [02:40,  7.73it/s]"
     ]
    },
    {
     "name": "stdout",
     "output_type": "stream",
     "text": [
      "[0.9636721  0.02687001 0.0052144 ] 0.9957565187400012\n",
      "[0.96765258 0.0235444  0.00472455] 0.995921536884093\n"
     ]
    },
    {
     "name": "stderr",
     "output_type": "stream",
     "text": [
      "1740it [02:40,  8.19it/s]"
     ]
    },
    {
     "name": "stdout",
     "output_type": "stream",
     "text": [
      "[0.97250836 0.02134184 0.0036445 ] 0.9974947020986102\n",
      "[0.9681768  0.02332626 0.0044946 ] 0.9959976654405437\n"
     ]
    },
    {
     "name": "stderr",
     "output_type": "stream",
     "text": [
      "1742it [02:41,  8.51it/s]"
     ]
    },
    {
     "name": "stdout",
     "output_type": "stream",
     "text": [
      "[0.97685347 0.01635228 0.00354447] 0.9967502241234465\n",
      "[0.97731557 0.0161691  0.00331535] 0.9968000176554499\n",
      "[0.97947746 0.01483404 0.00301033] 0.9973218362230025\n"
     ]
    },
    {
     "name": "stderr",
     "output_type": "stream",
     "text": [
      "1744it [02:41,  9.24it/s]"
     ]
    },
    {
     "name": "stdout",
     "output_type": "stream",
     "text": [
      "[0.97819807 0.01528085 0.00331186] 0.9967907802511546\n",
      "[0.97239144 0.02022843 0.00399814] 0.9966180123053223\n",
      "[0.9696273  0.02242545 0.00426162] 0.9963143599654147\n"
     ]
    },
    {
     "name": "stderr",
     "output_type": "stream",
     "text": [
      "1747it [02:41,  9.62it/s]"
     ]
    },
    {
     "name": "stdout",
     "output_type": "stream",
     "text": [
      "[0.97464866 0.01904033 0.0034958 ] 0.9971847889088475\n",
      "[0.97183106 0.01905934 0.00414345] 0.9950338492978249\n"
     ]
    },
    {
     "name": "stderr",
     "output_type": "stream",
     "text": [
      "1750it [02:42,  9.73it/s]"
     ]
    },
    {
     "name": "stdout",
     "output_type": "stream",
     "text": [
      "[0.98865812 0.00878172 0.00135508] 0.9987949146240965\n",
      "[0.98560576 0.01065562 0.0018494 ] 0.9981107827378679\n",
      "[0.98327783 0.01218681 0.0024088 ] 0.9978734457126928\n"
     ]
    },
    {
     "name": "stderr",
     "output_type": "stream",
     "text": [
      "1752it [02:42,  9.70it/s]"
     ]
    },
    {
     "name": "stdout",
     "output_type": "stream",
     "text": [
      "[0.97089696 0.0212473  0.00419336] 0.9963376090547595\n",
      "[0.9677131  0.02434041 0.00442044] 0.9964739501466406\n"
     ]
    },
    {
     "name": "stderr",
     "output_type": "stream",
     "text": [
      "1755it [02:42,  9.07it/s]"
     ]
    },
    {
     "name": "stdout",
     "output_type": "stream",
     "text": [
      "[0.96922372 0.02327552 0.0041704 ] 0.9966696386423116\n",
      "[0.97142109 0.02239054 0.00352547] 0.997337102285875\n"
     ]
    },
    {
     "name": "stderr",
     "output_type": "stream",
     "text": [
      "1757it [02:42,  9.59it/s]"
     ]
    },
    {
     "name": "stdout",
     "output_type": "stream",
     "text": [
      "[0.96203041 0.02742505 0.00525729] 0.9947127452570688\n",
      "[0.96229326 0.0273493  0.00554303] 0.9951855887861231\n"
     ]
    },
    {
     "name": "stderr",
     "output_type": "stream",
     "text": [
      "1759it [02:42,  9.34it/s]"
     ]
    },
    {
     "name": "stdout",
     "output_type": "stream",
     "text": [
      "[0.96839834 0.02352317 0.00466777] 0.9965892748034173\n",
      "[0.96257078 0.02769115 0.00527303] 0.9955349564922308\n"
     ]
    },
    {
     "name": "stderr",
     "output_type": "stream",
     "text": [
      "1760it [02:43,  9.16it/s]"
     ]
    },
    {
     "name": "stdout",
     "output_type": "stream",
     "text": [
      "[0.96762595 0.02352938 0.00475273] 0.9959080673225335\n",
      "[0.96949698 0.02254895 0.00425345] 0.9962993780412915\n"
     ]
    },
    {
     "name": "stderr",
     "output_type": "stream",
     "text": [
      "1763it [02:43,  9.26it/s]"
     ]
    },
    {
     "name": "stdout",
     "output_type": "stream",
     "text": [
      "[0.96333956 0.02707777 0.00522116] 0.995638490671471\n",
      "[0.97029873 0.02249308 0.00403738] 0.9968291850944739\n"
     ]
    },
    {
     "name": "stderr",
     "output_type": "stream",
     "text": [
      "1765it [02:43,  9.16it/s]"
     ]
    },
    {
     "name": "stdout",
     "output_type": "stream",
     "text": [
      "[0.97208548 0.0216065  0.00373754] 0.9974295204737968\n",
      "[0.9649565  0.02592237 0.00504873] 0.995927598358002\n"
     ]
    },
    {
     "name": "stderr",
     "output_type": "stream",
     "text": [
      "1766it [02:43,  8.90it/s]"
     ]
    },
    {
     "name": "stdout",
     "output_type": "stream",
     "text": [
      "[0.96626398 0.02496947 0.00477207] 0.9960055179505415\n",
      "[0.97506266 0.0193101  0.00323828] 0.9976110490130358\n"
     ]
    },
    {
     "name": "stderr",
     "output_type": "stream",
     "text": [
      "1768it [02:43,  9.38it/s]"
     ]
    },
    {
     "name": "stdout",
     "output_type": "stream",
     "text": [
      "[0.96690207 0.02405069 0.00461036] 0.9955631221786834\n",
      "[0.95843959 0.03019259 0.00591303] 0.9945452047402069\n",
      "[0.96194801 0.02856844 0.00560585] 0.9961222990633243\n"
     ]
    },
    {
     "name": "stderr",
     "output_type": "stream",
     "text": [
      "1772it [02:44,  9.20it/s]"
     ]
    },
    {
     "name": "stdout",
     "output_type": "stream",
     "text": [
      "[0.96107994 0.02734065 0.00650318] 0.9949237675316407\n",
      "[0.96460089 0.02474395 0.00583838] 0.9951832209980818\n"
     ]
    },
    {
     "name": "stderr",
     "output_type": "stream",
     "text": [
      "1774it [02:44,  9.29it/s]"
     ]
    },
    {
     "name": "stdout",
     "output_type": "stream",
     "text": [
      "[0.96675257 0.02454798 0.00496125] 0.996261800871975\n",
      "[0.96302097 0.02748658 0.00531855] 0.9958261023462999\n",
      "[0.96519125 0.02570538 0.00511851] 0.9960151312526164\n"
     ]
    },
    {
     "name": "stderr",
     "output_type": "stream",
     "text": [
      "1777it [02:44,  9.87it/s]"
     ]
    },
    {
     "name": "stdout",
     "output_type": "stream",
     "text": [
      "[0.96621935 0.02565569 0.00457355] 0.9964485938764455\n",
      "[0.96651618 0.02563255 0.00442899] 0.9965777278454613\n"
     ]
    },
    {
     "name": "stderr",
     "output_type": "stream",
     "text": [
      "1779it [02:45, 10.07it/s]"
     ]
    },
    {
     "name": "stdout",
     "output_type": "stream",
     "text": [
      "[0.9630223  0.02674943 0.0054036 ] 0.9951753257553488\n",
      "[0.9667243  0.02401267 0.0048351 ] 0.9955720755190077\n",
      "[0.97006122 0.02198684 0.00419517] 0.996243227346479\n"
     ]
    },
    {
     "name": "stderr",
     "output_type": "stream",
     "text": [
      "1783it [02:45, 10.77it/s]"
     ]
    },
    {
     "name": "stdout",
     "output_type": "stream",
     "text": [
      "[0.97147945 0.02075717 0.00422966] 0.9964662760802657\n",
      "[0.97210033 0.02065848 0.00398823] 0.9967470475899882\n",
      "[0.97693264 0.01656973 0.00351876] 0.9970211343503965\n"
     ]
    },
    {
     "name": "stderr",
     "output_type": "stream",
     "text": [
      "1785it [02:45, 11.17it/s]"
     ]
    },
    {
     "name": "stdout",
     "output_type": "stream",
     "text": [
      "[0.97705626 0.01640047 0.00335867] 0.9968154011903227\n",
      "[0.97189271 0.02054376 0.00396587] 0.9964023360552277\n",
      "[0.97341723 0.02042711 0.00349959] 0.9973439270744571\n"
     ]
    },
    {
     "name": "stderr",
     "output_type": "stream",
     "text": [
      "1789it [02:45, 11.20it/s]"
     ]
    },
    {
     "name": "stdout",
     "output_type": "stream",
     "text": [
      "[0.97061798 0.02241924 0.00377536] 0.9968125835413372\n",
      "[0.9763188  0.0170808  0.00339121] 0.9967908046124532\n",
      "[0.97310697 0.01912333 0.00383657] 0.9960668792734474\n",
      "[0.98032426 0.01325646 0.00303953] 0.9966202573847434\n"
     ]
    },
    {
     "name": "stderr",
     "output_type": "stream",
     "text": [
      "1790it [02:59, 11.20it/s]"
     ]
    }
   ],
   "source": [
    "# Crea un objeto tqdm para rastrear el progreso\n",
    "pbar = tqdm(total=len(filenames))\n",
    "\n",
    "# Itera los lotes\n",
    "for batch_data in batched_dataset:\n",
    "    paths = batch_data['path'].numpy()\n",
    "    labels = batch_data['label'].numpy()\n",
    "    \n",
    "    # Cargar los scaleograms desde los archivos .npy\n",
    "    batch_xs = []\n",
    "    for path in paths:\n",
    "        spectrogram = np.load(path.decode('utf-8'))\n",
    "        batch_xs.append(spectrogram)  # Corregir el nombre de la variable aquí\n",
    "    \n",
    "    # Convierte batch_x en un arreglo NumPy\n",
    "    batch_xs = np.array(batch_xs)\n",
    "\n",
    "    for (batch_x, label) in zip(batch_xs, labels):\n",
    "\n",
    "        amm = batch_x.shape[0] * batch_x.shape[1] * batch_x.shape[2]\n",
    "    \n",
    "        x_flat = batch_x.reshape(amm, -1).squeeze()\n",
    "        (batch_x.shape[0], batch_x.shape[1], batch_x.shape[2]), x_flat.shape\n",
    "    \n",
    "        multiplier = 1\n",
    "    \n",
    "        while 224 * 224 * 3 * multiplier < amm:\n",
    "            multiplier += 1\n",
    "    \n",
    "        # Creo un array de ceros de 244*244*3*multiplier, mas grande que mi input\n",
    "        x_extended = np.zeros((224 * 224 * 3 * multiplier))\n",
    "    \n",
    "        # Relleno el array de ceros con mi input, me quedan ceros de relleno\n",
    "        x_extended[:amm] = x_flat\n",
    "    \n",
    "        # Reshapeo\n",
    "        x_big_2d = x_extended.reshape(224 * 224, 3 * multiplier)\n",
    "        x_big_2d.shape\n",
    "    \n",
    "        pca = PCA(\n",
    "            n_components=3,\n",
    "        )\n",
    "    \n",
    "        pca.fit(x_big_2d)\n",
    "    \n",
    "        x_big_2d_reduced = pca.transform(x_big_2d)\n",
    "    \n",
    "        x_big_3d_reduced = x_big_2d_reduced.reshape(224, 224, 3)\n",
    "        \n",
    "        # Agrega los scaleograms y labels a X_list e y_list\n",
    "        X_list.append(x_big_3d_reduced)\n",
    "        y_list.append(label)\n",
    "    \n",
    "        print(pca.explained_variance_ratio_, np.sum(pca.explained_variance_ratio_))\n",
    "    \n",
    "    # Actualiza la barra de progreso\n",
    "    pbar.update(len(paths))  # Actualiza la barra de progreso según la cantidad de archivos en el lote\n",
    "\n",
    "# Convierte X_list e y_list en arreglos NumPy\n",
    "X = np.array(X_list)\n",
    "y = np.array(y_list)\n",
    "\n",
    "# Cierra la barra de progreso\n",
    "# pbar.close()\n"
   ]
  },
  {
   "cell_type": "code",
   "execution_count": 8,
   "id": "4a618315-de6a-4882-b935-4589a7d56460",
   "metadata": {},
   "outputs": [
    {
     "data": {
      "text/plain": [
       "((1790, 3, 244, 244), (1790,))"
      ]
     },
     "execution_count": 8,
     "metadata": {},
     "output_type": "execute_result"
    }
   ],
   "source": [
    "X.shape, y.shape"
   ]
  },
  {
   "cell_type": "code",
   "execution_count": 34,
   "id": "64500daf-a296-462c-b5ca-0b42e1fca74a",
   "metadata": {},
   "outputs": [
    {
     "data": {
      "text/plain": [
       "((14, 88320), (14, 14))"
      ]
     },
     "execution_count": 34,
     "metadata": {},
     "output_type": "execute_result"
    }
   ],
   "source": [
    "'''variance_to_keep = 0.95  # Me quedo con el 95% de la varianza\n",
    "n_components = 14\n",
    "pca = PCA(n_components=n_components)\n",
    "\n",
    "data_reduced = pca.fit_transform(data_1d)\n",
    "data_1d.shape, data_reduced.shape'''"
   ]
  },
  {
   "cell_type": "code",
   "execution_count": 4,
   "id": "b294652f",
   "metadata": {},
   "outputs": [
    {
     "name": "stderr",
     "output_type": "stream",
     "text": [
      "12488it [05:03, 34.58it/s]                                                                                             "
     ]
    },
    {
     "ename": "MemoryError",
     "evalue": "Unable to allocate 9.43 MiB for an array with shape (2, 1236480) and data type float32",
     "output_type": "error",
     "traceback": [
      "\u001b[1;31m---------------------------------------------------------------------------\u001b[0m",
      "\u001b[1;31mMemoryError\u001b[0m                               Traceback (most recent call last)",
      "Cell \u001b[1;32mIn[4], line 32\u001b[0m\n\u001b[0;32m     29\u001b[0m min_val \u001b[38;5;241m=\u001b[39m np\u001b[38;5;241m.\u001b[39mmin(batch_X)\n\u001b[0;32m     30\u001b[0m max_val \u001b[38;5;241m=\u001b[39m np\u001b[38;5;241m.\u001b[39mmax(batch_X)\n\u001b[1;32m---> 32\u001b[0m batch_X \u001b[38;5;241m=\u001b[39m \u001b[38;5;241m-\u001b[39m\u001b[38;5;241m1\u001b[39m \u001b[38;5;241m+\u001b[39m \u001b[38;5;241;43m2\u001b[39;49m\u001b[43m \u001b[49m\u001b[38;5;241;43m*\u001b[39;49m\u001b[43m \u001b[49m\u001b[43m(\u001b[49m\u001b[43mbatch_X\u001b[49m\u001b[43m \u001b[49m\u001b[38;5;241;43m-\u001b[39;49m\u001b[43m \u001b[49m\u001b[43mmin_val\u001b[49m\u001b[43m)\u001b[49m \u001b[38;5;241m/\u001b[39m (max_val \u001b[38;5;241m-\u001b[39m min_val)\n\u001b[0;32m     34\u001b[0m \u001b[38;5;250m\u001b[39m\u001b[38;5;124;03m'''variance_to_keep = 0.95  # Me quedo con el 95% de la varianza\u001b[39;00m\n\u001b[0;32m     35\u001b[0m \n\u001b[0;32m     36\u001b[0m \u001b[38;5;124;03mpca = PCA()\u001b[39;00m\n\u001b[1;32m   (...)\u001b[0m\n\u001b[0;32m     46\u001b[0m \u001b[38;5;124;03melse:\u001b[39;00m\n\u001b[0;32m     47\u001b[0m \u001b[38;5;124;03m    batch_X = batch_X[:, :n_components_to_keep]'''\u001b[39;00m\n\u001b[0;32m     49\u001b[0m \u001b[38;5;66;03m# Agrega los scaleograms y labels a X_list e y_list\u001b[39;00m\n",
      "\u001b[1;31mMemoryError\u001b[0m: Unable to allocate 9.43 MiB for an array with shape (2, 1236480) and data type float32"
     ]
    }
   ],
   "source": [
    "'''VIEJO BUENO\n",
    "# Crea un objeto tqdm para rastrear el progreso\n",
    "pbar = tqdm(total=len(filenames))\n",
    "\n",
    "# Itera los lotes\n",
    "for batch_data in batched_dataset:\n",
    "    paths = batch_data['path'].numpy()\n",
    "    labels = batch_data['label'].numpy()\n",
    "    \n",
    "    # Cargar los scaleograms desde los archivos .npy\n",
    "    batch_X = []\n",
    "    for path in paths:\n",
    "        spectrogram = np.load(path.decode('utf-8'))\n",
    "        batch_X.append(spectrogram)\n",
    "    \n",
    "    # Convierte batch_X en un arreglo NumPy\n",
    "    batch_X = np.array(batch_X)\n",
    "    \n",
    "    batch_X = batch_X.reshape((batch_X.shape[0], -1))  # Aplanar los datos\n",
    "    \n",
    "    # NORMALIZA X en rango [-1, 1] para que el cero quede en el centro\n",
    "    min_val = np.min(batch_X)\n",
    "    max_val = np.max(batch_X)\n",
    "\n",
    "    batch_X = -1 + 2 * (batch_X - min_val) / (max_val - min_val)\n",
    "    \n",
    "    variance_to_keep = 0.95  # Me quedo con el 95% de la varianza\n",
    "    n_components = 3\n",
    "    pca = PCA(n_components=n_components)\n",
    "    batch_X = pca.fit_transform(batch_X)  # Aplica PCA para los datos escalados\n",
    "    \n",
    "\n",
    "    # Asegúrate de que todos los lotes tengan la misma cantidad de componentes principales\n",
    "    n_components_to_keep = min(max_components, batch_X.shape[1])\n",
    "    if batch_X.shape[1] < max_components:\n",
    "        # Rellena con ceros las columnas faltantes si es necesario\n",
    "        zeros_to_add = max_components - batch_X.shape[1]\n",
    "        zeros = np.zeros((batch_X.shape[0], zeros_to_add))\n",
    "        batch_X = np.hstack((batch_X, zeros))\n",
    "    else:\n",
    "        batch_X = batch_X[:, :n_components_to_keep]\n",
    "\n",
    "    # Agrega los scaleograms y labels a X_list e y_list\n",
    "    X_list.append(batch_X)\n",
    "    y_list.extend(labels)\n",
    "\n",
    "    # Actualiza la barra de progreso\n",
    "    pbar.update(len(paths))  # Actualiza la barra de progreso según la cantidad de archivos en el lote\n",
    "\n",
    "# Convierte X_list e y_list en arreglos NumPy\n",
    "X = np.concatenate(X_list, axis=0)\n",
    "y = np.array(y_list)\n",
    "\n",
    "# Cierra la barra de progreso\n",
    "pbar.close()'''"
   ]
  },
  {
   "cell_type": "code",
   "execution_count": 14,
   "id": "afd8d00d",
   "metadata": {},
   "outputs": [],
   "source": [
    "#LOS GUARDO EN MI COMPUTADORA\n",
    "#np.save('X.npy', X) está guardada normalizada en rango [0, 1], habría que cambiar eso\n",
    "np.save('X_12.npy', X)\n",
    "np.save('y_12.npy', y)"
   ]
  },
  {
   "cell_type": "code",
   "execution_count": 6,
   "id": "2ec6cf30",
   "metadata": {},
   "outputs": [
    {
     "data": {
      "text/plain": [
       "(29588, 1000)"
      ]
     },
     "execution_count": 6,
     "metadata": {},
     "output_type": "execute_result"
    }
   ],
   "source": [
    "X_shape = X.shape\n",
    "shape_0 = X_shape[0]\n",
    "X_shape"
   ]
  },
  {
   "cell_type": "code",
   "execution_count": 7,
   "id": "7f01d633",
   "metadata": {},
   "outputs": [],
   "source": [
    "# Aplanar tus datos\n",
    "X = X.reshape(shape_0, -1)"
   ]
  },
  {
   "cell_type": "code",
   "execution_count": 8,
   "id": "e04607dd",
   "metadata": {},
   "outputs": [],
   "source": [
    "#NORMALIZO X en rango [-1, 1] para que el cero quede en el centro\n",
    "min_val = np.min(X)\n",
    "max_val = np.max(X)\n",
    "\n",
    "X = -1 + 2 * (X - min_val) / (max_val - min_val)\n",
    "\n",
    "#X = (X - X.min()) / (X.max() - X.min()) [0, 1]"
   ]
  },
  {
   "cell_type": "code",
   "execution_count": 9,
   "id": "b37cbb17",
   "metadata": {},
   "outputs": [
    {
     "data": {
      "text/plain": [
       "(29588, 1000)"
      ]
     },
     "execution_count": 9,
     "metadata": {},
     "output_type": "execute_result"
    }
   ],
   "source": [
    "X.shape"
   ]
  },
  {
   "cell_type": "code",
   "execution_count": 10,
   "id": "a49216ff",
   "metadata": {},
   "outputs": [
    {
     "data": {
      "text/plain": [
       "\"from sklearn.decomposition import PCA\\n\\nvariance_to_keep = 0.95  #me quedo con el 95% de la varianza, esto es flexible (mientras más porcentaje, mayor va  quedar la dimensionalidad de mi X)\\n\\npca = PCA()\\nX = pca.fit_transform(X)  #aplico pca para los datos escalados\\n\\n#Encuentro el número mínimo de componentes principales para alcanzar la varianza deseada\\ncumulative_variance_ratio = np.cumsum(pca.explained_variance_ratio_)\\n#('n_components_to_keep' contendrá el número mínimo de componentes principales necesarios para explicar al menos el 95% de la varianza en los datos.)\\nn_components_to_keep = np.argmax(cumulative_variance_ratio >= variance_to_keep) + 1 #chona me dijo que me deberían quedar por ejemplo 1000 atributos\\n\\n#Selecciono la cant de componentes principales que me salió\\nX = X[:, :n_components_to_keep]\""
      ]
     },
     "execution_count": 10,
     "metadata": {},
     "output_type": "execute_result"
    }
   ],
   "source": [
    "'''from sklearn.decomposition import PCA\n",
    "\n",
    "variance_to_keep = 0.95  #me quedo con el 95% de la varianza, esto es flexible (mientras más porcentaje, mayor va  quedar la dimensionalidad de mi X)\n",
    "\n",
    "pca = PCA()\n",
    "X = pca.fit_transform(X)  #aplico pca para los datos escalados\n",
    "\n",
    "#Encuentro el número mínimo de componentes principales para alcanzar la varianza deseada\n",
    "cumulative_variance_ratio = np.cumsum(pca.explained_variance_ratio_)\n",
    "#('n_components_to_keep' contendrá el número mínimo de componentes principales necesarios para explicar al menos el 95% de la varianza en los datos.)\n",
    "n_components_to_keep = np.argmax(cumulative_variance_ratio >= variance_to_keep) + 1 #chona me dijo que me deberían quedar por ejemplo 1000 atributos\n",
    "\n",
    "#Selecciono la cant de componentes principales que me salió\n",
    "X = X[:, :n_components_to_keep]'''"
   ]
  },
  {
   "cell_type": "code",
   "execution_count": 11,
   "id": "eded711e",
   "metadata": {},
   "outputs": [
    {
     "data": {
      "text/plain": [
       "'print(\"Me quedé con \" + str(n_components_to_keep) + \" componentes principales\")\\nX.shape'"
      ]
     },
     "execution_count": 11,
     "metadata": {},
     "output_type": "execute_result"
    }
   ],
   "source": [
    "'''print(\"Me quedé con \" + str(n_components_to_keep) + \" componentes principales\")\n",
    "X.shape'''"
   ]
  },
  {
   "cell_type": "code",
   "execution_count": 12,
   "id": "41ceaef4",
   "metadata": {},
   "outputs": [
    {
     "data": {
      "text/plain": [
       "'print(\"Varianza explicada por cada componente principal:\", pca.explained_variance_ratio_)'"
      ]
     },
     "execution_count": 12,
     "metadata": {},
     "output_type": "execute_result"
    }
   ],
   "source": [
    "'''print(\"Varianza explicada por cada componente principal:\", pca.explained_variance_ratio_)'''"
   ]
  },
  {
   "cell_type": "code",
   "execution_count": null,
   "id": "543c46a4",
   "metadata": {},
   "outputs": [],
   "source": [
    "#no se si lo que hice está bien, chona me dijo que usara PaCMAP pero no lo entiendo, y acá encontre que con sklearn medio que se puede hacer asi que :)"
   ]
  },
  {
   "cell_type": "code",
   "execution_count": null,
   "id": "d392e12a",
   "metadata": {},
   "outputs": [],
   "source": [
    "#hago una función?"
   ]
  }
 ],
 "metadata": {
  "kernelspec": {
   "display_name": "Python 3 (ipykernel)",
   "language": "python",
   "name": "python3"
  },
  "language_info": {
   "codemirror_mode": {
    "name": "ipython",
    "version": 3
   },
   "file_extension": ".py",
   "mimetype": "text/x-python",
   "name": "python",
   "nbconvert_exporter": "python",
   "pygments_lexer": "ipython3",
   "version": "3.11.5"
  }
 },
 "nbformat": 4,
 "nbformat_minor": 5
}
