{
 "cells": [
  {
   "cell_type": "code",
   "execution_count": 2,
   "id": "daa5b9cd",
   "metadata": {},
   "outputs": [],
   "source": [
    "import pandas as pd\n",
    "import glob\n",
    "import ssqueezepy #para convertir la señal en imagen\n",
    "from ssqueezepy import cwt\n",
    "from ssqueezepy.visuals import plot, imshow\n",
    "import os\n",
    "import mne #eeg analysis library\n",
    "import scipy.io\n",
    "#import torch.nn as nn\n",
    "#import torch\n",
    "import numpy as np\n",
    "import re\n",
    "from sklearn.model_selection import train_test_split\n",
    "import tensorflow as tf\n",
    "from tensorflow.keras import layers, models"
   ]
  },
  {
   "cell_type": "code",
   "execution_count": 3,
   "id": "934decab",
   "metadata": {},
   "outputs": [],
   "source": [
    "import numpy as np\n",
    "from sklearn.preprocessing import StandardScaler\n",
    "from sklearn.decomposition import PCA\n",
    "from tqdm import tqdm"
   ]
  },
  {
   "cell_type": "code",
   "execution_count": 5,
   "id": "73b2431d-a06c-4017-9f3e-678e2187a043",
   "metadata": {},
   "outputs": [],
   "source": [
    "#X = np.load('C:\\\\Users\\\\47575909\\\\Desktop\\\\X_PCA.npy')\n",
    "#y = np.load('C:\\\\Users\\\\47575909\\\\Desktop\\\\y_PCA.npy')"
   ]
  },
  {
   "cell_type": "code",
   "execution_count": 3,
   "id": "ff810e27-4f43-46a5-bda0-439faa4f45f9",
   "metadata": {},
   "outputs": [
    {
     "ename": "NameError",
     "evalue": "name 'X' is not defined",
     "output_type": "error",
     "traceback": [
      "\u001b[1;31m---------------------------------------------------------------------------\u001b[0m",
      "\u001b[1;31mNameError\u001b[0m                                 Traceback (most recent call last)",
      "Cell \u001b[1;32mIn[3], line 1\u001b[0m\n\u001b[1;32m----> 1\u001b[0m \u001b[43mX\u001b[49m\u001b[38;5;241m.\u001b[39mshape\n",
      "\u001b[1;31mNameError\u001b[0m: name 'X' is not defined"
     ]
    }
   ],
   "source": [
    "#X.shape"
   ]
  },
  {
   "cell_type": "code",
   "execution_count": 8,
   "id": "355c3abb",
   "metadata": {},
   "outputs": [],
   "source": [
    "#ACAAAAAAAAAAAAAAAAAAAAAAAAAAAAAAAAAAAAAAAAAAAAAAAAAAAAAAAAAAAAAAAAAAAAAAAAAAA\n",
    "#PRUEBO CON MENOS DATOS\n",
    "#ACA SUBO LOS ARCHIVOS DE TFRECORD\n",
    "TFrecord_directory = 'C:\\\\Users\\\\47575909\\\\Desktop\\\\tfrecord_data_inter1' \n",
    "\n",
    "#lista de archivos TFRecord en la carpeta\n",
    "filenames = [os.path.join(TFrecord_directory, f) for f in os.listdir(TFrecord_directory) if f.endswith('.tfrecord')]\n",
    "\n",
    "#Hago un dataset de TensorFlow a partir de los archivos TFRecord\n",
    "dataset = tf.data.TFRecordDataset(filenames)\n",
    "\n",
    "#función para parsear los datos de TFRecord\n",
    "def parse_tfrecord_fn(example):\n",
    "    feature_description = {\n",
    "        'grpno': tf.io.FixedLenFeature([], tf.int64),\n",
    "        'label': tf.io.FixedLenFeature([], tf.int64),\n",
    "        'path': tf.io.FixedLenFeature([], tf.string),\n",
    "    }\n",
    "    example = tf.io.parse_single_example(example, feature_description)\n",
    "    return example\n",
    "\n",
    "parsed_dataset = dataset.map(parse_tfrecord_fn)\n",
    "\n",
    "#batching para argar los datos en lotes\n",
    "batch_size = 2  #puedo cambiar el tamaño (en la PC del colegio el máximo es 16, pero capáz que le tengo que poner menos)\n",
    "batched_dataset = parsed_dataset.batch(batch_size)"
   ]
  },
  {
   "cell_type": "code",
   "execution_count": 30,
   "id": "4bbfff93-a685-40d9-9d38-fdc04dbafcd3",
   "metadata": {},
   "outputs": [],
   "source": [
    "#batched_dataset"
   ]
  },
  {
   "cell_type": "code",
   "execution_count": 4,
   "id": "ecda7582",
   "metadata": {},
   "outputs": [
    {
     "data": {
      "text/plain": [
       "\"#SEPARO EN X E Y\\nX = []\\ny = []\\n\\n#itero los lotes\\nfor batch_data in batched_dataset:\\n    paths = batch_data['path'].numpy()\\n    labels = batch_data['label'].numpy()\\n    \\n    #cargo los scaleograms desde los archivos .npy\\n    batch_X = []\\n    for path in paths:\\n        spectrogram = np.load(path.decode('utf-8'))\\n        batch_X.append(spectrogram)\\n    \\n#//////NUEVO\\n\\n    #primero tengo que convertirlo en un archivo numpy porque sino no quiere\\n    batch_X = np.array(batch_X)\\n    \\n    X_shape = batch_X.shape\\n    shape_0 = X_shape[0]\\n\\n    # Aplanar\\n    batch_X = batch_X.reshape(shape_0, -1)\\n    \\n    #NORMALIZO X en rango [-1, 1] para que el cero quede en el centro\\n    min_val = np.min(batch_X)\\n    max_val = np.max(batch_X)\\n\\n    X = -1 + 2 * (batch_X - min_val) / (max_val - min_val)\\n    \\n    variance_to_keep = 0.95  #me quedo con el 95% de la varianza, esto es flexible (mientras más porcentaje, mayor va  quedar la dimensionalidad de mi X)\\n\\n    pca = PCA()\\n    batch_X = pca.fit_transform(batch_X)  #aplico pca para los datos escalados\\n\\n    #Encuentro el número mínimo de componentes principales para alcanzar la varianza deseada\\n    cumulative_variance_ratio = np.cumsum(pca.explained_variance_ratio_)\\n    #('n_components_to_keep' contendrá el número mínimo de componentes principales necesarios para explicar al menos el 95% de la varianza en los datos.)\\n    n_components_to_keep = np.argmax(cumulative_variance_ratio >= variance_to_keep) + 1 #chona me dijo que me deberían quedar por ejemplo 1000 atributos\\n\\n    #Selecciono la cant de componentes principales que me salió\\n    batch_X = batch_X[:, :n_components_to_keep]\\n    \\n#//////NUEVO\\n    \\n    #agrego los scaleograms y labels a las listas X y y\\n    X.concatenate(batch_X)\\n    y.extend(labels)\\n\\n\\n#convierto X e y a formato .npy\\nX = np.concatenate(X, axis=0)\\ny = np.array(y)\\n\\nprint('Ya se separó todo!')\\nprint('Salió todo bien, tranquina :))')\""
      ]
     },
     "execution_count": 4,
     "metadata": {},
     "output_type": "execute_result"
    }
   ],
   "source": [
    "'''#SEPARO EN X E Y\n",
    "X = []\n",
    "y = []\n",
    "\n",
    "#itero los lotes\n",
    "for batch_data in batched_dataset:\n",
    "    paths = batch_data['path'].numpy()\n",
    "    labels = batch_data['label'].numpy()\n",
    "    \n",
    "    #cargo los scaleograms desde los archivos .npy\n",
    "    batch_X = []\n",
    "    for path in paths:\n",
    "        spectrogram = np.load(path.decode('utf-8'))\n",
    "        batch_X.append(spectrogram)\n",
    "    \n",
    "#//////NUEVO\n",
    "\n",
    "    #primero tengo que convertirlo en un archivo numpy porque sino no quiere\n",
    "    batch_X = np.array(batch_X)\n",
    "    \n",
    "    X_shape = batch_X.shape\n",
    "    shape_0 = X_shape[0]\n",
    "\n",
    "    # Aplanar\n",
    "    batch_X = batch_X.reshape(shape_0, -1)\n",
    "    \n",
    "    #NORMALIZO X en rango [-1, 1] para que el cero quede en el centro\n",
    "    min_val = np.min(batch_X)\n",
    "    max_val = np.max(batch_X)\n",
    "\n",
    "    X = -1 + 2 * (batch_X - min_val) / (max_val - min_val)\n",
    "    \n",
    "    variance_to_keep = 0.95  #me quedo con el 95% de la varianza, esto es flexible (mientras más porcentaje, mayor va  quedar la dimensionalidad de mi X)\n",
    "\n",
    "    pca = PCA()\n",
    "    batch_X = pca.fit_transform(batch_X)  #aplico pca para los datos escalados\n",
    "\n",
    "    #Encuentro el número mínimo de componentes principales para alcanzar la varianza deseada\n",
    "    cumulative_variance_ratio = np.cumsum(pca.explained_variance_ratio_)\n",
    "    #('n_components_to_keep' contendrá el número mínimo de componentes principales necesarios para explicar al menos el 95% de la varianza en los datos.)\n",
    "    n_components_to_keep = np.argmax(cumulative_variance_ratio >= variance_to_keep) + 1 #chona me dijo que me deberían quedar por ejemplo 1000 atributos\n",
    "\n",
    "    #Selecciono la cant de componentes principales que me salió\n",
    "    batch_X = batch_X[:, :n_components_to_keep]\n",
    "    \n",
    "#//////NUEVO\n",
    "    \n",
    "    #agrego los scaleograms y labels a las listas X y y\n",
    "    X.concatenate(batch_X)\n",
    "    y.extend(labels)\n",
    "\n",
    "\n",
    "#convierto X e y a formato .npy\n",
    "X = np.concatenate(X, axis=0)\n",
    "y = np.array(y)\n",
    "\n",
    "print('Ya se separó todo!')\n",
    "print('Salió todo bien, tranquina :))')'''"
   ]
  },
  {
   "cell_type": "code",
   "execution_count": 6,
   "id": "9c7a6b96-d166-4df5-9b4f-3eba82ef5096",
   "metadata": {},
   "outputs": [],
   "source": [
    "#bd_iter = iter(batched_dataset)\n",
    "#batch_data = next(bd_iter)"
   ]
  },
  {
   "cell_type": "code",
   "execution_count": 7,
   "id": "0a31957f-9a85-487f-ab24-4321a63e6c6c",
   "metadata": {},
   "outputs": [
    {
     "data": {
      "text/plain": [
       "{'grpno': <tf.Tensor: shape=(2,), dtype=int64, numpy=array([10, 10], dtype=int64)>,\n",
       " 'label': <tf.Tensor: shape=(2,), dtype=int64, numpy=array([0, 0], dtype=int64)>,\n",
       " 'path': <tf.Tensor: shape=(2,), dtype=string, numpy=\n",
       " array([b'C:\\\\Users\\\\47575909\\\\Desktop\\\\scaleogram\\\\subvideo_11/trial_0.npy',\n",
       "        b'C:\\\\Users\\\\47575909\\\\Desktop\\\\scaleogram\\\\subvideo_11/trial_1.npy'],\n",
       "       dtype=object)>}"
      ]
     },
     "execution_count": 7,
     "metadata": {},
     "output_type": "execute_result"
    }
   ],
   "source": [
    "#batch_data"
   ]
  },
  {
   "cell_type": "code",
   "execution_count": 12,
   "id": "b3c5644a-fa51-4c43-9a18-230489f0f220",
   "metadata": {},
   "outputs": [
    {
     "data": {
      "text/plain": [
       "array([[[[-0.99985725, -0.99985456, -0.9998539 , ..., -0.9989402 ,\n",
       "          -0.9989198 , -0.9989116 ],\n",
       "         [-0.9997775 , -0.9997736 , -0.99977314, ..., -0.9983727 ,\n",
       "          -0.99833775, -0.998324  ],\n",
       "         [-0.99966854, -0.99966335, -0.99966353, ..., -0.99761903,\n",
       "          -0.9975616 , -0.99753934],\n",
       "         ...,\n",
       "         [-0.994659  , -0.9946357 , -0.99461246, ..., -0.9908578 ,\n",
       "          -0.9908636 , -0.9908695 ],\n",
       "         [-0.96086556, -0.9608654 , -0.96086526, ..., -0.9608342 ,\n",
       "          -0.96083426, -0.9608343 ],\n",
       "         [-0.87473947, -0.87473947, -0.87473947, ..., -0.8747394 ,\n",
       "          -0.87473947, -0.87473947]],\n",
       "\n",
       "        [[-0.99991345, -0.9999164 , -0.9999175 , ..., -0.999667  ,\n",
       "          -0.9996697 , -0.9996768 ],\n",
       "         [-0.99988097, -0.99988747, -0.99989027, ..., -0.9994956 ,\n",
       "          -0.99949825, -0.9995087 ],\n",
       "         [-0.99984705, -0.99986124, -0.99986786, ..., -0.99927205,\n",
       "          -0.999273  , -0.9992872 ],\n",
       "         ...,\n",
       "         [-0.995192  , -0.9951628 , -0.9951334 , ..., -0.9862882 ,\n",
       "          -0.98628277, -0.9862775 ],\n",
       "         [-0.9325731 , -0.93257296, -0.9325729 , ..., -0.9325186 ,\n",
       "          -0.93251854, -0.9325185 ],\n",
       "         [-0.7841476 , -0.7841476 , -0.7841476 , ..., -0.7841476 ,\n",
       "          -0.7841476 , -0.7841476 ]],\n",
       "\n",
       "        [[-0.9981148 , -0.9981921 , -0.9982952 , ..., -0.9985538 ,\n",
       "          -0.9985757 , -0.99861574],\n",
       "         [-0.997058  , -0.99717844, -0.9973445 , ..., -0.997825  ,\n",
       "          -0.99785256, -0.99791217],\n",
       "         [-0.9956033 , -0.9957819 , -0.99603784, ..., -0.9968847 ,\n",
       "          -0.99691325, -0.9969963 ],\n",
       "         ...,\n",
       "         [-0.9688564 , -0.9686573 , -0.9684581 , ..., -0.9194791 ,\n",
       "          -0.9194671 , -0.9194558 ],\n",
       "         [-0.6221365 , -0.6221357 , -0.62213504, ..., -0.6218115 ,\n",
       "          -0.6218113 , -0.6218112 ],\n",
       "         [ 0.20963323,  0.20963335,  0.20963311, ...,  0.20963347,\n",
       "           0.20963311,  0.20963335]],\n",
       "\n",
       "        ...,\n",
       "\n",
       "        [[-0.9999227 , -0.9999305 , -0.9999386 , ..., -0.9997751 ,\n",
       "          -0.9997769 , -0.9997822 ],\n",
       "         [-0.9998865 , -0.9998996 , -0.9999136 , ..., -0.99966174,\n",
       "          -0.99966335, -0.9996712 ],\n",
       "         [-0.99984   , -0.99986106, -0.9998842 , ..., -0.9995147 ,\n",
       "          -0.9995148 , -0.9995257 ],\n",
       "         ...,\n",
       "         [-0.9952013 , -0.9951774 , -0.9951533 , ..., -0.9868378 ,\n",
       "          -0.98683167, -0.98682564],\n",
       "         [-0.93268204, -0.932682  , -0.9326819 , ..., -0.9326323 ,\n",
       "          -0.9326323 , -0.93263227],\n",
       "         [-0.7845017 , -0.7845017 , -0.7845016 , ..., -0.7845017 ,\n",
       "          -0.7845017 , -0.7845017 ]],\n",
       "\n",
       "        [[-0.9998467 , -0.9998429 , -0.99984103, ..., -0.99891686,\n",
       "          -0.9988951 , -0.998886  ],\n",
       "         [-0.9997589 , -0.99975353, -0.99975157, ..., -0.99833816,\n",
       "          -0.9983011 , -0.9982859 ],\n",
       "         [-0.9996379 , -0.9996308 , -0.9996295 , ..., -0.9975705 ,\n",
       "          -0.9975098 , -0.9974854 ],\n",
       "         ...,\n",
       "         [-0.9963832 , -0.9963675 , -0.9963518 , ..., -0.9936978 ,\n",
       "          -0.9937014 , -0.993705  ],\n",
       "         [-0.97127897, -0.9712789 , -0.9712788 , ..., -0.9712583 ,\n",
       "          -0.97125834, -0.9712584 ],\n",
       "         [-0.90807116, -0.90807116, -0.90807116, ..., -0.90807116,\n",
       "          -0.90807116, -0.90807116]],\n",
       "\n",
       "        [[-0.999851  , -0.99986213, -0.99987423, ..., -0.9998928 ,\n",
       "          -0.9998876 , -0.9998826 ],\n",
       "         [-0.9997824 , -0.9998009 , -0.9998214 , ..., -0.9998521 ,\n",
       "          -0.99984396, -0.99983627],\n",
       "         [-0.99969625, -0.99972564, -0.999759  , ..., -0.9998081 ,\n",
       "          -0.9997961 , -0.99978524],\n",
       "         ...,\n",
       "         [-0.9918049 , -0.9918184 , -0.9918318 , ..., -0.98727614,\n",
       "          -0.9872577 , -0.98723936],\n",
       "         [-0.91157824, -0.9115783 , -0.91157836, ..., -0.91155434,\n",
       "          -0.9115542 , -0.9115541 ],\n",
       "         [-0.71698797, -0.71698797, -0.71698797, ..., -0.71698797,\n",
       "          -0.71698797, -0.71698797]]],\n",
       "\n",
       "\n",
       "       [[[-0.99993956, -0.9999412 , -0.99994355, ..., -0.99984324,\n",
       "          -0.9998418 , -0.9998425 ],\n",
       "         [-0.9999063 , -0.9999088 , -0.99991244, ..., -0.9997589 ,\n",
       "          -0.99975616, -0.999757  ],\n",
       "         [-0.9998614 , -0.99986494, -0.99987024, ..., -0.99964625,\n",
       "          -0.9996412 , -0.999642  ],\n",
       "         ...,\n",
       "         [-0.99199057, -0.99197626, -0.9919621 , ..., -0.9925114 ,\n",
       "          -0.9925281 , -0.9925449 ],\n",
       "         [-0.9670726 , -0.9670725 , -0.9670723 , ..., -0.9670781 ,\n",
       "          -0.96707827, -0.96707845],\n",
       "         [-0.8946749 , -0.89467484, -0.8946749 , ..., -0.89467484,\n",
       "          -0.8946749 , -0.89467484]],\n",
       "\n",
       "        [[-0.99977463, -0.99978095, -0.99978894, ..., -0.9999247 ,\n",
       "          -0.99992746, -0.99993116],\n",
       "         [-0.99965316, -0.99966246, -0.9996744 , ..., -0.99988884,\n",
       "          -0.9998931 , -0.999899  ],\n",
       "         [-0.9994925 , -0.9995053 , -0.999522  , ..., -0.9998436 ,\n",
       "          -0.99984974, -0.9998587 ],\n",
       "         ...,\n",
       "         [-0.9861915 , -0.9861809 , -0.98617035, ..., -0.9913764 ,\n",
       "          -0.9914112 , -0.9914461 ],\n",
       "         [-0.9424094 , -0.9424093 , -0.94240916, ..., -0.9424544 ,\n",
       "          -0.94245464, -0.9424549 ],\n",
       "         [-0.8158171 , -0.8158171 , -0.8158171 , ..., -0.8158171 ,\n",
       "          -0.8158171 , -0.8158171 ]],\n",
       "\n",
       "        [[-0.9989686 , -0.99899983, -0.99904084, ..., -0.99972516,\n",
       "          -0.99973345, -0.99974316],\n",
       "         [-0.99841857, -0.9984655 , -0.99852806, ..., -0.99960846,\n",
       "          -0.99962175, -0.99963766],\n",
       "         [-0.99769086, -0.9977567 , -0.99784595, ..., -0.9994725 ,\n",
       "          -0.99949265, -0.99951744],\n",
       "         ...,\n",
       "         [-0.9206775 , -0.9206113 , -0.92054594, ..., -0.94901365,\n",
       "          -0.94921184, -0.9494105 ],\n",
       "         [-0.67409706, -0.67409635, -0.6740955 , ..., -0.67434955,\n",
       "          -0.6743509 , -0.6743523 ],\n",
       "         [ 0.04226804,  0.0422678 ,  0.04226792, ...,  0.0422678 ,\n",
       "           0.04226792,  0.04226792]],\n",
       "\n",
       "        ...,\n",
       "\n",
       "        [[-0.9998825 , -0.9998828 , -0.9998834 , ..., -0.99983   ,\n",
       "          -0.9998281 , -0.9998278 ],\n",
       "         [-0.9998221 , -0.9998224 , -0.99982274, ..., -0.9997421 ,\n",
       "          -0.99973875, -0.99973816],\n",
       "         [-0.99974567, -0.9997456 , -0.9997449 , ..., -0.99962807,\n",
       "          -0.9996226 , -0.99962145],\n",
       "         ...,\n",
       "         [-0.9871492 , -0.98713344, -0.9871179 , ..., -0.9902396 ,\n",
       "          -0.9902698 , -0.9903    ],\n",
       "         [-0.94553834, -0.94553816, -0.945538  , ..., -0.9455669 ,\n",
       "          -0.9455672 , -0.94556737],\n",
       "         [-0.82581025, -0.82581025, -0.82581025, ..., -0.82581025,\n",
       "          -0.82581025, -0.82581025]],\n",
       "\n",
       "        [[-0.99999213, -0.99999815, -0.9999931 , ..., -0.99998385,\n",
       "          -0.99998206, -0.99998003],\n",
       "         [-0.99998647, -0.999994  , -0.99998784, ..., -0.9999726 ,\n",
       "          -0.9999701 , -0.9999674 ],\n",
       "         [-0.99996984, -0.99997574, -0.9999709 , ..., -0.99995613,\n",
       "          -0.999953  , -0.9999495 ],\n",
       "         ...,\n",
       "         [-0.99464417, -0.9946334 , -0.9946226 , ..., -0.9946081 ,\n",
       "          -0.9946188 , -0.9946295 ],\n",
       "         [-0.977116  , -0.97711587, -0.97711575, ..., -0.97711563,\n",
       "          -0.97711575, -0.9771158 ],\n",
       "         [-0.92679375, -0.92679375, -0.92679375, ..., -0.92679375,\n",
       "          -0.92679375, -0.92679375]],\n",
       "\n",
       "        [[-0.99966836, -0.99967045, -0.99967474, ..., -0.9999816 ,\n",
       "          -0.99998075, -0.99998015],\n",
       "         [-0.99949634, -0.9994995 , -0.9995062 , ..., -0.999974  ,\n",
       "          -0.99997246, -0.9999714 ],\n",
       "         [-0.9992742 , -0.99927866, -0.99928844, ..., -0.99996525,\n",
       "          -0.99996257, -0.99996066],\n",
       "         ...,\n",
       "         [-0.9874821 , -0.98746777, -0.98745364, ..., -0.9908046 ,\n",
       "          -0.9908344 , -0.9908643 ],\n",
       "         [-0.9466267 , -0.94662654, -0.9466264 , ..., -0.9466568 ,\n",
       "          -0.94665706, -0.9466573 ],\n",
       "         [-0.8292924 , -0.8292924 , -0.8292924 , ..., -0.8292925 ,\n",
       "          -0.8292925 , -0.8292924 ]]]], dtype=float32)"
      ]
     },
     "execution_count": 12,
     "metadata": {},
     "output_type": "execute_result"
    }
   ],
   "source": [
    "'''\n",
    "paths = batch_data['path'].numpy()\n",
    "labels = batch_data['label'].numpy()\n",
    "    \n",
    "# Cargar los scaleograms desde los archivos .npy\n",
    "batch_X = []\n",
    "for path in paths:\n",
    "    spectrogram = np.load(path.decode('utf-8'))\n",
    "    batch_X.append(spectrogram)\n",
    "    \n",
    "batch_X = np.array(batch_X)\n",
    "        \n",
    "# batch_X = batch_X.reshape((batch_X.shape[0], -1))  # Aplanar los datos\n",
    "    \n",
    "# NORMALIZA X en rango [-1, 1] para que el cero quede en el centro\n",
    "min_val = np.min(batch_X)\n",
    "max_val = np.max(batch_X)\n",
    "    \n",
    "batch_X = -1 + 2 * (batch_X - min_val) / (max_val - min_val)\n",
    "\n",
    "batch_X'''"
   ]
  },
  {
   "cell_type": "code",
   "execution_count": 13,
   "id": "09073f6c-66ca-4c7e-88da-79ddaad85b39",
   "metadata": {},
   "outputs": [
    {
     "data": {
      "text/plain": [
       "(14, 230, 384)"
      ]
     },
     "execution_count": 13,
     "metadata": {},
     "output_type": "execute_result"
    }
   ],
   "source": [
    "#batch_X[0].shape"
   ]
  },
  {
   "cell_type": "code",
   "execution_count": 10,
   "id": "38a21cb9-a2f7-499e-8675-c9c117019d03",
   "metadata": {},
   "outputs": [
    {
     "data": {
      "text/plain": [
       "((2, 1236480), (2,))"
      ]
     },
     "execution_count": 10,
     "metadata": {},
     "output_type": "execute_result"
    }
   ],
   "source": [
    "#batch_X.shape, labels.shape"
   ]
  },
  {
   "cell_type": "code",
   "execution_count": 36,
   "id": "1951e425-3a2e-4db1-a8c5-79aab9bb531a",
   "metadata": {},
   "outputs": [
    {
     "data": {
      "text/plain": [
       "array([[[-0.99985725, -0.99985456, -0.9998539 , ..., -0.99991643,\n",
       "         -0.99991775, -0.9999196 ],\n",
       "        [-0.99992204, -0.999925  , -0.9999283 , ..., -0.9999353 ,\n",
       "         -0.99993604, -0.9999361 ],\n",
       "        [-0.9999355 , -0.9999346 , -0.9999341 , ..., -0.99990755,\n",
       "         -0.9999017 , -0.9998941 ],\n",
       "        ...,\n",
       "        [-0.9664635 , -0.96722597, -0.9679918 , ..., -0.99134135,\n",
       "         -0.99110097, -0.9908375 ],\n",
       "        [-0.9905519 , -0.9902452 , -0.98991853, ..., -0.98797005,\n",
       "         -0.988031  , -0.98809224],\n",
       "        [-0.9881534 , -0.98821443, -0.9882751 , ..., -0.9532691 ,\n",
       "         -0.9527509 , -0.9522377 ]],\n",
       "\n",
       "       [[-0.9517298 , -0.9512274 , -0.95073086, ..., -0.9882792 ,\n",
       "         -0.98808426, -0.98788995],\n",
       "        [-0.98769647, -0.98750395, -0.9873127 , ..., -0.9355713 ,\n",
       "         -0.935637  , -0.93570983],\n",
       "        [-0.93578964, -0.9358762 , -0.93596923, ..., -0.9767152 ,\n",
       "         -0.9765628 , -0.97640944],\n",
       "        ...,\n",
       "        [-0.9934355 , -0.9931943 , -0.9930401 , ..., -0.99930894,\n",
       "         -0.99916166, -0.9990153 ],\n",
       "        [-0.99888384, -0.9987729 , -0.9986812 , ..., -0.9947579 ,\n",
       "         -0.9950346 , -0.9953644 ],\n",
       "        [-0.9957412 , -0.9961577 , -0.9966061 , ..., -0.99257207,\n",
       "         -0.9914929 , -0.99048024]],\n",
       "\n",
       "       [[-0.9895745 , -0.9888145 , -0.98823476, ..., -0.9993674 ,\n",
       "         -0.9990912 , -0.9986538 ],\n",
       "        [-0.99812603, -0.9975303 , -0.99687654, ..., -0.9940068 ,\n",
       "         -0.9945086 , -0.9950303 ],\n",
       "        [-0.9955584 , -0.99608165, -0.9965906 , ..., -0.9987686 ,\n",
       "         -0.99897695, -0.99916184],\n",
       "        ...,\n",
       "        [-0.97464657, -0.9744754 , -0.97430634, ..., -0.95719117,\n",
       "         -0.95709145, -0.95699257],\n",
       "        [-0.95689464, -0.9567977 , -0.95670176, ..., -0.9713106 ,\n",
       "         -0.9713223 , -0.9713356 ],\n",
       "        [-0.9713505 , -0.97136694, -0.9713849 , ..., -0.9577977 ,\n",
       "         -0.95779127, -0.9577875 ]]], dtype=float32)"
      ]
     },
     "execution_count": 36,
     "metadata": {},
     "output_type": "execute_result"
    }
   ],
   "source": [
    "#np.resize(batch_X[0], (3, 224, 224))"
   ]
  },
  {
   "cell_type": "code",
   "execution_count": 32,
   "id": "52bed504-bc82-4027-880f-6b25822093c5",
   "metadata": {},
   "outputs": [
    {
     "data": {
      "text/plain": [
       "(14, 88320)"
      ]
     },
     "execution_count": 32,
     "metadata": {},
     "output_type": "execute_result"
    }
   ],
   "source": [
    "#data_1d =  np.array([features_2d.flatten() for features_2d in batch_X[0]])\n",
    "#data_1d.shape"
   ]
  },
  {
   "cell_type": "code",
   "execution_count": 9,
   "id": "b80ecba6-dfdf-414b-91be-cf5657d36b7b",
   "metadata": {},
   "outputs": [],
   "source": [
    "# Define el número máximo de componentes principales que deseas mantener para todos los lotes\n",
    "#max_components = 1000  # Puedes ajustar este valor según tus necesidades\n",
    "\n",
    "X_list = []  # Lista temporal para X\n",
    "y_list = []  # Lista temporal para y\n"
   ]
  },
  {
   "cell_type": "code",
   "execution_count": null,
   "id": "941f3995-b4f5-43a3-99b7-d6713b0386c3",
   "metadata": {},
   "outputs": [
    {
     "name": "stderr",
     "output_type": "stream",
     "text": [
      "\n",
      "3023it [12:04,  4.17it/s]                                                                       | 0/10 [00:00<?, ?it/s]\u001b[A\n",
      "\n",
      " 20%|████████████████▌                                                                  | 2/10 [00:00<00:00, 10.67it/s]\u001b[A"
     ]
    },
    {
     "name": "stdout",
     "output_type": "stream",
     "text": [
      "[9.91353134e-01 6.31447883e-03 9.75350724e-04] 0.9986429634296657\n",
      "[0.98216518 0.01187472 0.00246019] 0.9965000824290455\n",
      "[0.98926733 0.00653481 0.00181098] 0.9976131143344878\n"
     ]
    },
    {
     "name": "stderr",
     "output_type": "stream",
     "text": [
      "\n",
      " 40%|█████████████████████████████████▏                                                 | 4/10 [00:00<00:00, 11.04it/s]\u001b[A\n",
      " 60%|█████████████████████████████████████████████████▊                                 | 6/10 [00:00<00:00, 11.56it/s]\u001b[A"
     ]
    },
    {
     "name": "stdout",
     "output_type": "stream",
     "text": [
      "[0.98906921 0.00769129 0.00137429] 0.9981347916354048\n",
      "[0.98920605 0.00785457 0.00141386] 0.9984744871398703\n",
      "[0.98848052 0.00827007 0.00146175] 0.9982123476292437\n"
     ]
    },
    {
     "name": "stderr",
     "output_type": "stream",
     "text": [
      "\n",
      " 80%|██████████████████████████████████████████████████████████████████▍                | 8/10 [00:00<00:00, 11.37it/s]\u001b[A"
     ]
    },
    {
     "name": "stdout",
     "output_type": "stream",
     "text": [
      "[0.98549426 0.00980095 0.00197498] 0.9972701851636774\n",
      "[0.98247447 0.01226628 0.00241504] 0.997155793633118\n",
      "[0.97581124 0.01776362 0.00329745] 0.9968723001835587\n"
     ]
    },
    {
     "name": "stderr",
     "output_type": "stream",
     "text": [
      "\n",
      "100%|██████████████████████████████████████████████████████████████████████████████████| 10/10 [00:00<00:00, 11.46it/s]\u001b[A\n"
     ]
    },
    {
     "name": "stdout",
     "output_type": "stream",
     "text": [
      "[0.9748943  0.01803308 0.00375282] 0.996680199085227\n",
      "[0.97383461 0.01878617 0.00405978] 0.9966805689250228\n",
      "[0.97503823 0.01785068 0.00377397] 0.9966628842075228\n"
     ]
    },
    {
     "name": "stderr",
     "output_type": "stream",
     "text": [
      "12it [00:01, 11.19it/s]                                                                                                \u001b[A\n",
      "14it [00:01, 11.31it/s]\u001b[A"
     ]
    },
    {
     "name": "stdout",
     "output_type": "stream",
     "text": [
      "[0.97238293 0.01940305 0.00448058] 0.9962665568336645\n",
      "[0.96838973 0.02329614 0.00481679] 0.9965026585843016\n",
      "[0.96965882 0.02244549 0.0047859 ] 0.9968902137417395\n"
     ]
    },
    {
     "name": "stderr",
     "output_type": "stream",
     "text": [
      "\n",
      "16it [00:01, 11.02it/s]\u001b[A\n"
     ]
    },
    {
     "name": "stdout",
     "output_type": "stream",
     "text": [
      "[0.96660997 0.02476204 0.00508239] 0.9964544046820293\n",
      "[0.97663946 0.01641252 0.00376075] 0.9968127217061236\n",
      "[0.97359397 0.01850592 0.00433332] 0.9964332123457967\n"
     ]
    },
    {
     "name": "stderr",
     "output_type": "stream",
     "text": [
      "18it [00:01, 10.85it/s]\u001b[A\n",
      "20it [00:01, 11.02it/s]\u001b[A"
     ]
    },
    {
     "name": "stdout",
     "output_type": "stream",
     "text": [
      "[0.96812596 0.02368511 0.00479306] 0.9966041332948905\n",
      "[0.96394945 0.02700219 0.00564318] 0.9965948176461099\n"
     ]
    },
    {
     "name": "stderr",
     "output_type": "stream",
     "text": [
      "\n",
      "22it [00:01, 10.70it/s]\u001b[A"
     ]
    },
    {
     "name": "stdout",
     "output_type": "stream",
     "text": [
      "[0.96143885 0.02783045 0.00604071] 0.9953100181368584\n",
      "[0.98470567 0.0102909  0.00236076] 0.9973573358977743\n",
      "[0.98909466 0.00757441 0.0016816 ] 0.9983506744862889\n"
     ]
    },
    {
     "name": "stderr",
     "output_type": "stream",
     "text": [
      "\n",
      "24it [00:02, 10.80it/s]\u001b[A\n",
      "26it [00:02, 11.11it/s]\u001b[A"
     ]
    },
    {
     "name": "stdout",
     "output_type": "stream",
     "text": [
      "[0.984777   0.01006884 0.00238029] 0.9972261280160357\n",
      "[0.97860814 0.01480743 0.003626  ] 0.9970415651756555\n",
      "[0.96558615 0.02547143 0.00525205] 0.9963096337402421\n"
     ]
    },
    {
     "name": "stderr",
     "output_type": "stream",
     "text": [
      "\n",
      "28it [00:02, 11.35it/s]\u001b[A"
     ]
    },
    {
     "name": "stdout",
     "output_type": "stream",
     "text": [
      "[0.96788851 0.02443578 0.00465887] 0.9969831537351531\n",
      "[0.96992759 0.02224167 0.00444546] 0.996614715987116\n",
      "[0.97212474 0.02070519 0.003956  ] 0.9967859318915973\n"
     ]
    },
    {
     "name": "stderr",
     "output_type": "stream",
     "text": [
      "\n",
      "30it [00:02, 10.59it/s]\u001b[A\n",
      "32it [00:02, 10.79it/s]\u001b[A"
     ]
    },
    {
     "name": "stdout",
     "output_type": "stream",
     "text": [
      "[0.9602506  0.02807102 0.00610819] 0.9944298091602336\n",
      "[0.97007364 0.02307628 0.00405716] 0.9972070771707744\n",
      "[0.97059967 0.02214814 0.004148  ] 0.9968958076117446\n"
     ]
    },
    {
     "name": "stderr",
     "output_type": "stream",
     "text": [
      "\n",
      "34it [00:03, 10.17it/s]\u001b[A"
     ]
    },
    {
     "name": "stdout",
     "output_type": "stream",
     "text": [
      "[0.96740194 0.02318603 0.0050021 ] 0.9955900743660401\n",
      "[0.97392908 0.01994393 0.00371243] 0.9975854467009065\n",
      "[0.96082829 0.02831438 0.00598914] 0.9951318039033132\n"
     ]
    },
    {
     "name": "stderr",
     "output_type": "stream",
     "text": [
      "\n",
      "36it [00:03, 10.44it/s]\u001b[A"
     ]
    },
    {
     "name": "stdout",
     "output_type": "stream",
     "text": [
      "[0.96163404 0.02911878 0.00545163] 0.9962044491604239\n",
      "[0.97008298 0.02291543 0.00416464] 0.9971630495719899\n"
     ]
    },
    {
     "name": "stderr",
     "output_type": "stream",
     "text": [
      "\n",
      "38it [00:03, 10.26it/s]\u001b[A\n",
      "40it [00:03, 10.73it/s]\u001b[A"
     ]
    },
    {
     "name": "stdout",
     "output_type": "stream",
     "text": [
      "[0.9732472  0.02012312 0.00366749] 0.9970378109911476\n",
      "[0.97331812 0.01990724 0.00376822] 0.9969935812288101\n",
      "[0.96582707 0.02501072 0.0050068 ] 0.9958445910731376\n"
     ]
    },
    {
     "name": "stderr",
     "output_type": "stream",
     "text": [
      "\n",
      "42it [00:03, 10.43it/s]\u001b[A"
     ]
    },
    {
     "name": "stdout",
     "output_type": "stream",
     "text": [
      "[0.96231456 0.02835839 0.00542523] 0.9960981810078431\n",
      "[0.96721165 0.02437938 0.00494635] 0.9965373791790604\n",
      "[0.96535213 0.02533082 0.00521718] 0.9959001300576314\n"
     ]
    },
    {
     "name": "stderr",
     "output_type": "stream",
     "text": [
      "\n",
      "44it [00:04, 10.69it/s]\u001b[A\n",
      "46it [00:04, 11.00it/s]\u001b[A"
     ]
    },
    {
     "name": "stdout",
     "output_type": "stream",
     "text": [
      "[0.97145826 0.02150659 0.00404871] 0.9970135624960625\n",
      "[0.97242084 0.02093097 0.00379139] 0.9971431969554337\n",
      "[0.96958783 0.02198181 0.00462266] 0.9961923031019901\n"
     ]
    },
    {
     "name": "stderr",
     "output_type": "stream",
     "text": [
      "\n",
      "48it [00:04, 11.08it/s]\u001b[A"
     ]
    },
    {
     "name": "stdout",
     "output_type": "stream",
     "text": [
      "[0.96353345 0.02702767 0.0053604 ] 0.995921515276448\n",
      "[0.96278537 0.02698218 0.00562055] 0.9953881056156234\n",
      "[0.96592818 0.0255698  0.00512884] 0.9966268178814441\n"
     ]
    },
    {
     "name": "stderr",
     "output_type": "stream",
     "text": [
      "\n",
      "50it [00:04, 11.16it/s]\u001b[A\n",
      "52it [00:04, 11.35it/s]\u001b[A"
     ]
    },
    {
     "name": "stdout",
     "output_type": "stream",
     "text": [
      "[0.96628411 0.02525219 0.00495181] 0.9964881063730532\n",
      "[0.96185609 0.02824942 0.0056042 ] 0.995709714782724\n",
      "[0.96094213 0.02857231 0.00570291] 0.9952173508042408\n"
     ]
    },
    {
     "name": "stderr",
     "output_type": "stream",
     "text": [
      "\n",
      "54it [00:04, 11.34it/s]\u001b[A"
     ]
    },
    {
     "name": "stdout",
     "output_type": "stream",
     "text": [
      "[0.96639143 0.02603258 0.0044474 ] 0.996871407395866\n",
      "[0.95623912 0.03198966 0.00625427] 0.9944830508574118\n",
      "[0.96341561 0.02658037 0.00531599] 0.9953119714063664\n"
     ]
    },
    {
     "name": "stderr",
     "output_type": "stream",
     "text": [
      "\n",
      "56it [00:05, 10.88it/s]\u001b[A\n"
     ]
    },
    {
     "name": "stdout",
     "output_type": "stream",
     "text": [
      "[0.97469363 0.01923879 0.00373563] 0.9976680471614339\n",
      "[0.96647811 0.02469097 0.0049717 ] 0.9961407757699191\n",
      "[0.96919607 0.02315487 0.00453282] 0.996883757494634\n"
     ]
    },
    {
     "name": "stderr",
     "output_type": "stream",
     "text": [
      "58it [00:05, 10.63it/s]\u001b[A\n",
      "60it [00:05, 10.90it/s]\u001b[A"
     ]
    },
    {
     "name": "stdout",
     "output_type": "stream",
     "text": [
      "[0.97168278 0.02138766 0.00411492] 0.9971853507933652\n",
      "[0.96705602 0.02455035 0.00482939] 0.9964357520106929\n",
      "[0.96321505 0.02707967 0.0053352 ] 0.9956299183192554\n"
     ]
    },
    {
     "name": "stderr",
     "output_type": "stream",
     "text": [
      "\n",
      "62it [00:05, 11.00it/s]\u001b[A\n",
      "64it [00:05, 11.29it/s]\u001b[A"
     ]
    },
    {
     "name": "stdout",
     "output_type": "stream",
     "text": [
      "[0.97310272 0.02061294 0.00374464] 0.9974602969948426\n",
      "[0.96702118 0.02386333 0.00490087] 0.9957853805896943\n",
      "[0.97170486 0.02094498 0.00419761] 0.9968474494385828\n"
     ]
    },
    {
     "name": "stderr",
     "output_type": "stream",
     "text": [
      "\n",
      "66it [00:06, 11.62it/s]\u001b[A"
     ]
    },
    {
     "name": "stdout",
     "output_type": "stream",
     "text": [
      "[0.97002768 0.02266415 0.00425655] 0.9969483838110803\n",
      "[0.9677448  0.02409931 0.00460117] 0.9964452840971512\n",
      "[0.96828306 0.02328804 0.00477253] 0.9963436269869415\n"
     ]
    },
    {
     "name": "stderr",
     "output_type": "stream",
     "text": [
      "\n",
      "68it [00:06, 11.56it/s]\u001b[A\n",
      "70it [00:06, 11.67it/s]\u001b[A"
     ]
    },
    {
     "name": "stdout",
     "output_type": "stream",
     "text": [
      "[0.97004808 0.02153888 0.00463882] 0.9962257766962371\n",
      "[0.96771314 0.0243189  0.00461375] 0.9966457882379639\n",
      "[0.96443222 0.02667809 0.00507971] 0.9961900197478597\n"
     ]
    },
    {
     "name": "stderr",
     "output_type": "stream",
     "text": [
      "\n",
      "72it [00:06, 11.50it/s]\u001b[A"
     ]
    },
    {
     "name": "stdout",
     "output_type": "stream",
     "text": [
      "[0.9653803  0.02543085 0.00510003] 0.9959111847087354\n",
      "[0.96220349 0.02702999 0.00577886] 0.9950123474225838\n",
      "[0.96959185 0.02273949 0.00443705] 0.9967683911282987\n"
     ]
    },
    {
     "name": "stderr",
     "output_type": "stream",
     "text": [
      "\n",
      "74it [00:06, 12.00it/s]\u001b[A\n"
     ]
    },
    {
     "name": "stdout",
     "output_type": "stream",
     "text": [
      "[0.96241376 0.0279595  0.00553348] 0.9959067424019422\n",
      "[0.9624908  0.028533   0.00522465] 0.9962484521606094\n",
      "[0.96227658 0.02841684 0.00521041] 0.9959038269902629\n"
     ]
    },
    {
     "name": "stderr",
     "output_type": "stream",
     "text": [
      "76it [00:06, 11.68it/s]\u001b[A\n",
      "78it [00:07, 11.77it/s]\u001b[A"
     ]
    },
    {
     "name": "stdout",
     "output_type": "stream",
     "text": [
      "[0.96033757 0.02989386 0.0056086 ] 0.9958400339824293\n",
      "[0.96229276 0.02789581 0.00554197] 0.9957305346242395\n",
      "[0.97211092 0.02027089 0.00438045] 0.9967622647752549\n"
     ]
    },
    {
     "name": "stderr",
     "output_type": "stream",
     "text": [
      "\n",
      "80it [00:07, 12.20it/s]\u001b[A\n",
      "82it [00:07, 12.12it/s]\u001b[A"
     ]
    },
    {
     "name": "stdout",
     "output_type": "stream",
     "text": [
      "[0.97008352 0.02121978 0.00475698] 0.9960602879917405\n",
      "[0.96472648 0.02565147 0.00530853] 0.9956864797930298\n",
      "[0.98309197 0.01233441 0.00242381] 0.9978501856933899\n"
     ]
    },
    {
     "name": "stderr",
     "output_type": "stream",
     "text": [
      "\n",
      "84it [00:07, 12.17it/s]\u001b[A"
     ]
    },
    {
     "name": "stdout",
     "output_type": "stream",
     "text": [
      "[0.98544675 0.01072071 0.00207932] 0.9982467811665274\n",
      "[0.97584327 0.01686451 0.00361356] 0.9963213413856983\n",
      "[0.96414311 0.02518857 0.00558228] 0.9949139632241519\n"
     ]
    },
    {
     "name": "stderr",
     "output_type": "stream",
     "text": [
      "\n",
      "86it [00:07, 12.06it/s]\u001b[A\n",
      "88it [00:07, 12.07it/s]\u001b[A"
     ]
    },
    {
     "name": "stdout",
     "output_type": "stream",
     "text": [
      "[0.97170997 0.02148777 0.00391186] 0.9971095975483604\n",
      "[0.97402199 0.02004639 0.00360258] 0.9976709657907079\n",
      "[0.96716966 0.0243307  0.00484769] 0.9963480527281605\n"
     ]
    },
    {
     "name": "stderr",
     "output_type": "stream",
     "text": [
      "\n",
      "90it [00:08, 11.96it/s]\u001b[A"
     ]
    },
    {
     "name": "stdout",
     "output_type": "stream",
     "text": [
      "[0.96831026 0.02277896 0.00496637] 0.9960555945851355\n",
      "[0.96830365 0.02411836 0.00430984] 0.9967318568364757\n",
      "[0.96947889 0.02388831 0.00383843] 0.9972056271822018\n"
     ]
    },
    {
     "name": "stderr",
     "output_type": "stream",
     "text": [
      "\n",
      "92it [00:08, 12.06it/s]\u001b[A\n",
      "94it [00:08, 12.20it/s]\u001b[A"
     ]
    },
    {
     "name": "stdout",
     "output_type": "stream",
     "text": [
      "[0.96116742 0.029015   0.00533214] 0.9955145677921529\n",
      "[0.9692997  0.0230965  0.00422249] 0.9966186960395453\n",
      "[0.97002658 0.02279866 0.00429787] 0.997123107833826\n"
     ]
    },
    {
     "name": "stderr",
     "output_type": "stream",
     "text": [
      "\n",
      "96it [00:08, 12.04it/s]\u001b[A"
     ]
    },
    {
     "name": "stdout",
     "output_type": "stream",
     "text": [
      "[0.96940244 0.02275561 0.00457165] 0.9967296961533849\n",
      "[0.97176982 0.02143522 0.00392635] 0.9971313820589677\n",
      "[0.965462   0.0252043  0.00486408] 0.9955303698790685\n"
     ]
    },
    {
     "name": "stderr",
     "output_type": "stream",
     "text": [
      "\n",
      "98it [00:08, 11.95it/s]\u001b[A\n",
      "100it [00:08, 11.81it/s]"
     ]
    },
    {
     "name": "stdout",
     "output_type": "stream",
     "text": [
      "[0.97237249 0.02078223 0.00376704] 0.9969217635587521\n",
      "[0.96907394 0.02311364 0.00435799] 0.9965455738485742\n",
      "[0.9713833  0.02139081 0.00421389] 0.9969879988155566\n"
     ]
    },
    {
     "name": "stderr",
     "output_type": "stream",
     "text": [
      "\u001b[A\n",
      "102it [00:09, 11.80it/s]\u001b[A"
     ]
    },
    {
     "name": "stdout",
     "output_type": "stream",
     "text": [
      "[0.96757383 0.02423732 0.00470092] 0.9965120667265385\n",
      "[0.96809954 0.02309963 0.00478451] 0.9959836704278533\n",
      "[0.96923055 0.02311695 0.00444426] 0.9967917579849851\n"
     ]
    },
    {
     "name": "stderr",
     "output_type": "stream",
     "text": [
      "\n",
      "104it [00:09, 11.86it/s]\u001b[A\n",
      "106it [00:09, 12.28it/s]\u001b[A"
     ]
    },
    {
     "name": "stdout",
     "output_type": "stream",
     "text": [
      "[0.96975365 0.02271128 0.00412712] 0.9965920556200957\n",
      "[0.97395501 0.02027044 0.00336422] 0.9975896701844638\n",
      "[0.97462646 0.01982816 0.00320106] 0.997655682513265\n"
     ]
    },
    {
     "name": "stderr",
     "output_type": "stream",
     "text": [
      "\n",
      "108it [00:09, 12.20it/s]\u001b[A"
     ]
    },
    {
     "name": "stdout",
     "output_type": "stream",
     "text": [
      "[0.9676985  0.0243166  0.00434133] 0.9963564286795485\n",
      "[0.97016463 0.02255548 0.00422418] 0.9969442889603182\n",
      "[0.96865115 0.0235291  0.00461347] 0.9967937155358164\n"
     ]
    },
    {
     "name": "stderr",
     "output_type": "stream",
     "text": [
      "\n",
      "110it [00:09, 12.14it/s]\u001b[A\n",
      "112it [00:09, 12.45it/s]\u001b[A"
     ]
    },
    {
     "name": "stdout",
     "output_type": "stream",
     "text": [
      "[0.96892621 0.02351668 0.00446694] 0.9969098334712344\n",
      "[0.96991967 0.02209671 0.00452793] 0.9965443051067336\n",
      "[0.9719188  0.02110769 0.00399676] 0.9970232447865154\n"
     ]
    },
    {
     "name": "stderr",
     "output_type": "stream",
     "text": [
      "\n",
      "114it [00:09, 12.32it/s]\u001b[A"
     ]
    },
    {
     "name": "stdout",
     "output_type": "stream",
     "text": [
      "[0.96920127 0.02353223 0.0042031 ] 0.9969365932784242\n",
      "[0.97269197 0.02021636 0.00422367] 0.9971319997402301\n",
      "[0.96793373 0.02320642 0.00502996] 0.9961701087826799\n"
     ]
    },
    {
     "name": "stderr",
     "output_type": "stream",
     "text": [
      "\n",
      "116it [00:10, 12.24it/s]\u001b[A\n",
      "118it [00:10, 12.51it/s]\u001b[A"
     ]
    },
    {
     "name": "stdout",
     "output_type": "stream",
     "text": [
      "[0.96771836 0.02458612 0.00463017] 0.9969346497448341\n",
      "[0.9668111  0.02500336 0.00479502] 0.9966094782722705\n",
      "[0.96512778 0.02553241 0.00515005] 0.9958102423316757\n"
     ]
    },
    {
     "name": "stderr",
     "output_type": "stream",
     "text": [
      "\n",
      "120it [00:10, 12.39it/s]\u001b[A"
     ]
    },
    {
     "name": "stdout",
     "output_type": "stream",
     "text": [
      "[0.97209742 0.02035065 0.00423926] 0.9966873344967427\n",
      "[0.9693561  0.02219527 0.0046879 ] 0.9962392749399985\n",
      "[0.97653053 0.01754288 0.00340468] 0.9974780894638954\n"
     ]
    },
    {
     "name": "stderr",
     "output_type": "stream",
     "text": [
      "\n",
      "122it [00:10, 12.20it/s]\u001b[A\n",
      "124it [00:10, 12.21it/s]\u001b[A"
     ]
    },
    {
     "name": "stdout",
     "output_type": "stream",
     "text": [
      "[0.97581723 0.01800659 0.00348791] 0.9973117223802607\n",
      "[0.96870254 0.02370077 0.00447302] 0.9968763333002054\n",
      "[0.96291056 0.02673214 0.00571288] 0.9953555838313674\n"
     ]
    },
    {
     "name": "stderr",
     "output_type": "stream",
     "text": [
      "\n",
      "126it [00:10, 12.15it/s]\u001b[A"
     ]
    },
    {
     "name": "stdout",
     "output_type": "stream",
     "text": [
      "[0.9677787  0.0236705  0.00489836] 0.9963475568381298\n",
      "[0.96974857 0.02229202 0.00446717] 0.9965077601710456\n",
      "[0.96713281 0.02376291 0.00491595] 0.9958116764941543\n"
     ]
    },
    {
     "name": "stderr",
     "output_type": "stream",
     "text": [
      "\n",
      "128it [00:11, 12.43it/s]\u001b[A\n",
      "130it [00:11, 12.34it/s]\u001b[A"
     ]
    },
    {
     "name": "stdout",
     "output_type": "stream",
     "text": [
      "[0.9712754  0.02121116 0.00411631] 0.9966028681823699\n",
      "[0.9720933  0.02121361 0.00388333] 0.9971902471723874\n",
      "[0.97261525 0.02064717 0.0040148 ] 0.997277220665492\n"
     ]
    },
    {
     "name": "stderr",
     "output_type": "stream",
     "text": [
      "\n",
      "132it [00:11, 12.23it/s]\u001b[A"
     ]
    },
    {
     "name": "stdout",
     "output_type": "stream",
     "text": [
      "[0.9672851  0.02458783 0.00466803] 0.9965409689273633\n",
      "[0.97043755 0.02157698 0.00449064] 0.996505170513614\n",
      "[0.97454772 0.01911934 0.00359005] 0.9972571128414507\n"
     ]
    },
    {
     "name": "stderr",
     "output_type": "stream",
     "text": [
      "\n",
      "134it [00:11, 12.16it/s]\u001b[A\n",
      "136it [00:11, 12.13it/s]\u001b[A"
     ]
    },
    {
     "name": "stdout",
     "output_type": "stream",
     "text": [
      "[0.97745622 0.01674044 0.00329575] 0.9974924091829884\n",
      "[0.9752953  0.01874441 0.00330892] 0.9973486288982412\n",
      "[0.96870432 0.02414957 0.00409653] 0.9969504235990372\n"
     ]
    },
    {
     "name": "stderr",
     "output_type": "stream",
     "text": [
      "\n",
      "138it [00:11, 12.46it/s]\u001b[A"
     ]
    },
    {
     "name": "stdout",
     "output_type": "stream",
     "text": [
      "[0.9672329  0.02418487 0.00457044] 0.9959882205683565\n",
      "[0.96942635 0.02268463 0.00436417] 0.9964751440815418\n",
      "[0.96718531 0.02492281 0.00444863] 0.9965567545758752\n"
     ]
    },
    {
     "name": "stderr",
     "output_type": "stream",
     "text": [
      "\n",
      "140it [00:12, 12.25it/s]\u001b[A\n",
      "142it [00:12, 12.25it/s]\u001b[A"
     ]
    },
    {
     "name": "stdout",
     "output_type": "stream",
     "text": [
      "[0.96717034 0.0253075  0.00426763] 0.9967454698904964\n",
      "[0.96502641 0.02677404 0.0047033 ] 0.9965037502095612\n",
      "[0.9545679  0.03375273 0.00657651] 0.9948971374910207\n"
     ]
    },
    {
     "name": "stderr",
     "output_type": "stream",
     "text": [
      "\n",
      "144it [00:12, 12.55it/s]\u001b[A"
     ]
    },
    {
     "name": "stdout",
     "output_type": "stream",
     "text": [
      "[0.9526098  0.03467834 0.00730005] 0.9945881929170454\n",
      "[0.9595223  0.03118832 0.00581969] 0.9965303181104003\n",
      "[0.96001597 0.02919997 0.00585601] 0.9950719507450558\n"
     ]
    },
    {
     "name": "stderr",
     "output_type": "stream",
     "text": [
      "\n",
      "146it [00:12, 12.24it/s]\u001b[A\n",
      "148it [00:12, 12.33it/s]\u001b[A"
     ]
    },
    {
     "name": "stdout",
     "output_type": "stream",
     "text": [
      "[0.97411628 0.01966278 0.0036559 ] 0.9974349596117168\n",
      "[0.97661131 0.01792492 0.0032757 ] 0.9978119379673765\n",
      "[0.95953305 0.02830868 0.00627815] 0.9941198815795895\n"
     ]
    },
    {
     "name": "stderr",
     "output_type": "stream",
     "text": [
      "\n",
      "150it [00:12, 12.21it/s]\u001b[A"
     ]
    },
    {
     "name": "stdout",
     "output_type": "stream",
     "text": [
      "[0.96496788 0.02702892 0.00482746] 0.9968242578405068\n",
      "[0.96302336 0.02702373 0.00548654] 0.9955336312242654\n",
      "[0.96660341 0.0244943  0.00504776] 0.9961454660256862\n"
     ]
    },
    {
     "name": "stderr",
     "output_type": "stream",
     "text": [
      "\n",
      "152it [00:13, 12.38it/s]\u001b[A\n",
      "154it [00:13, 12.06it/s]\u001b[A"
     ]
    },
    {
     "name": "stdout",
     "output_type": "stream",
     "text": [
      "[0.96973739 0.02258249 0.00437419] 0.9966940683342631\n",
      "[0.96955502 0.02265641 0.00443413] 0.9966455632203082\n",
      "[0.96814302 0.02363673 0.00462277] 0.9964025129808837\n"
     ]
    },
    {
     "name": "stderr",
     "output_type": "stream",
     "text": [
      "\n",
      "156it [00:13, 12.39it/s]\u001b[A"
     ]
    },
    {
     "name": "stdout",
     "output_type": "stream",
     "text": [
      "[0.96718581 0.02489196 0.00445576] 0.9965335379822978\n",
      "[0.96917108 0.02363621 0.00410961] 0.996916896560192\n",
      "[0.9742011  0.01892165 0.00363642] 0.9967591672869033\n"
     ]
    },
    {
     "name": "stderr",
     "output_type": "stream",
     "text": [
      "\n",
      "158it [00:13, 11.93it/s]\u001b[A\n",
      "160it [00:13, 12.29it/s]\u001b[A"
     ]
    },
    {
     "name": "stdout",
     "output_type": "stream",
     "text": [
      "[0.97561893 0.01749096 0.00358296] 0.996692838939113\n",
      "[0.97198762 0.02095765 0.00373232] 0.9966775883922786\n",
      "[0.97361538 0.018877   0.0039189 ] 0.9964112719219512\n"
     ]
    },
    {
     "name": "stderr",
     "output_type": "stream",
     "text": [
      "\n",
      "162it [00:13, 12.20it/s]\u001b[A"
     ]
    },
    {
     "name": "stdout",
     "output_type": "stream",
     "text": [
      "[0.98197363 0.01302078 0.00247358] 0.997467985680184\n",
      "[0.9833329  0.01215398 0.00213456] 0.9976214401540819\n",
      "[0.98042686 0.01385098 0.0027303 ] 0.9970081389868205\n"
     ]
    },
    {
     "name": "stderr",
     "output_type": "stream",
     "text": [
      "\n",
      "164it [00:14, 12.38it/s]\u001b[A\n",
      "166it [00:14, 12.06it/s]\u001b[A"
     ]
    },
    {
     "name": "stdout",
     "output_type": "stream",
     "text": [
      "[0.98097968 0.01405315 0.00261146] 0.997644288252829\n",
      "[0.96688225 0.02393616 0.00474708] 0.9955654965857681\n",
      "[0.97573504 0.01810727 0.00342592] 0.9972682304135524\n"
     ]
    },
    {
     "name": "stderr",
     "output_type": "stream",
     "text": [
      "\n",
      "168it [00:14, 12.38it/s]\u001b[A"
     ]
    },
    {
     "name": "stdout",
     "output_type": "stream",
     "text": [
      "[0.97819268 0.01628008 0.00298453] 0.9974572998664634\n",
      "[0.97381262 0.0180294  0.00436395] 0.9962059725930156\n",
      "[0.97406471 0.01928944 0.00382247] 0.9971766191787315\n"
     ]
    },
    {
     "name": "stderr",
     "output_type": "stream",
     "text": [
      "\n",
      "170it [00:14, 12.27it/s]\u001b[A\n",
      "172it [00:14, 12.19it/s]\u001b[A"
     ]
    },
    {
     "name": "stdout",
     "output_type": "stream",
     "text": [
      "[0.97219507 0.0209301  0.00398951] 0.9971146764623574\n",
      "[0.96811511 0.02348763 0.00458219] 0.9961849286866954\n",
      "[0.97497475 0.01902667 0.00348246] 0.9974838823610923\n"
     ]
    },
    {
     "name": "stderr",
     "output_type": "stream",
     "text": [
      "\n",
      "174it [00:14, 12.13it/s]\u001b[A"
     ]
    },
    {
     "name": "stdout",
     "output_type": "stream",
     "text": [
      "[0.98178346 0.01305461 0.00271596] 0.9975540265568287\n",
      "[0.98348873 0.01178409 0.00247586] 0.9977486843676198\n",
      "[0.98283101 0.01188152 0.002683  ] 0.9973955247472275\n"
     ]
    },
    {
     "name": "stderr",
     "output_type": "stream",
     "text": [
      "\n",
      "176it [00:15, 12.31it/s]\u001b[A\n",
      "178it [00:15, 12.02it/s]\u001b[A"
     ]
    },
    {
     "name": "stdout",
     "output_type": "stream",
     "text": [
      "[0.98225915 0.01199586 0.00285522] 0.9971102323674605\n",
      "[0.99014098 0.00682427 0.00155909] 0.9985243436124676\n",
      "[0.98632247 0.00926171 0.00221143] 0.9977956002605426\n"
     ]
    },
    {
     "name": "stderr",
     "output_type": "stream",
     "text": [
      "\n",
      "180it [00:15, 12.37it/s]\u001b[A"
     ]
    },
    {
     "name": "stdout",
     "output_type": "stream",
     "text": [
      "[0.9539541  0.03228687 0.00806588] 0.9943068593420817\n",
      "[0.95884046 0.02937922 0.006907  ] 0.9951266797028993\n",
      "[0.95073894 0.03431381 0.00809329] 0.9931460470088067\n"
     ]
    },
    {
     "name": "stderr",
     "output_type": "stream",
     "text": [
      "\n",
      "182it [00:15, 11.90it/s]\u001b[A\n",
      "184it [00:15, 12.29it/s]\u001b[A"
     ]
    },
    {
     "name": "stdout",
     "output_type": "stream",
     "text": [
      "[0.96392986 0.0261343  0.00596236] 0.9960265184337475\n",
      "[0.96392277 0.02559698 0.00614643] 0.995666182595746\n",
      "[0.96628628 0.0231971  0.00600326] 0.9954866473463275\n"
     ]
    },
    {
     "name": "stderr",
     "output_type": "stream",
     "text": [
      "\n",
      "186it [00:15, 12.21it/s]\u001b[A"
     ]
    },
    {
     "name": "stdout",
     "output_type": "stream",
     "text": [
      "[0.96587472 0.02363397 0.00604837] 0.9955570594881119\n",
      "[0.96107348 0.02699865 0.00708125] 0.9951533856068321\n",
      "[0.97320236 0.01853256 0.00440645] 0.9961413714230334\n"
     ]
    },
    {
     "name": "stderr",
     "output_type": "stream",
     "text": [
      "\n",
      "188it [00:16, 11.98it/s]\u001b[A\n",
      "190it [00:16, 12.14it/s]\u001b[A"
     ]
    },
    {
     "name": "stdout",
     "output_type": "stream",
     "text": [
      "[0.97618002 0.01684868 0.00364511] 0.9966738093612927\n",
      "[0.97569258 0.01715433 0.00383695] 0.996683856305581\n",
      "[0.96776461 0.02276336 0.00519519] 0.9957231493469175\n"
     ]
    },
    {
     "name": "stderr",
     "output_type": "stream",
     "text": [
      "\n",
      "192it [00:16, 12.10it/s]\u001b[A"
     ]
    },
    {
     "name": "stdout",
     "output_type": "stream",
     "text": [
      "[0.96220752 0.02639159 0.00609485] 0.9946939586892682\n",
      "[0.96601686 0.02446387 0.00550871] 0.9959894349835493\n",
      "[0.96832444 0.02239639 0.00525165] 0.9959724842702247\n"
     ]
    },
    {
     "name": "stderr",
     "output_type": "stream",
     "text": [
      "\n",
      "194it [00:16, 12.07it/s]\u001b[A\n",
      "196it [00:16, 12.38it/s]\u001b[A"
     ]
    },
    {
     "name": "stdout",
     "output_type": "stream",
     "text": [
      "[0.97192426 0.0197832  0.00453438] 0.9962418405410508\n",
      "[0.97292855 0.01900246 0.00432409] 0.9962551022247929\n",
      "[0.97266834 0.0194241  0.00428581] 0.9963782527123294\n"
     ]
    },
    {
     "name": "stderr",
     "output_type": "stream",
     "text": [
      "\n",
      "198it [00:16, 12.31it/s]\u001b[A"
     ]
    },
    {
     "name": "stdout",
     "output_type": "stream",
     "text": [
      "[0.97748253 0.01631267 0.00317471] 0.9969699184844826\n",
      "[0.97590718 0.01695106 0.00381608] 0.9966743256971663\n",
      "[0.96216962 0.02671802 0.00668239] 0.9955700205823008\n"
     ]
    },
    {
     "name": "stderr",
     "output_type": "stream",
     "text": [
      "\n",
      "200it [00:17, 12.01it/s]\u001b[A\n",
      "202it [00:17, 12.24it/s]\u001b[A"
     ]
    },
    {
     "name": "stdout",
     "output_type": "stream",
     "text": [
      "[0.95782659 0.02980119 0.00758998] 0.9952177588242711\n",
      "[0.95985314 0.02856311 0.00676715] 0.9951833952016927\n",
      "[0.96263981 0.02674831 0.00609132] 0.995479443030958\n"
     ]
    },
    {
     "name": "stderr",
     "output_type": "stream",
     "text": [
      "\n",
      "204it [00:17, 12.14it/s]\u001b[A"
     ]
    },
    {
     "name": "stdout",
     "output_type": "stream",
     "text": [
      "[0.95950168 0.02903765 0.00661247] 0.995151796350522\n",
      "[0.94577259 0.03908795 0.00937705] 0.9942375900565853\n",
      "[0.93855579 0.04371736 0.01077241] 0.9930455522515304\n"
     ]
    },
    {
     "name": "stderr",
     "output_type": "stream",
     "text": [
      "\n",
      "206it [00:17, 12.48it/s]\u001b[A\n",
      "208it [00:17, 12.32it/s]\u001b[A"
     ]
    },
    {
     "name": "stdout",
     "output_type": "stream",
     "text": [
      "[0.93601726 0.04581896 0.01118645] 0.9930226795970463\n",
      "[0.95062343 0.03557038 0.00855852] 0.9947523390874757\n",
      "[0.95006935 0.03530448 0.00894191] 0.9943157435036355\n"
     ]
    },
    {
     "name": "stderr",
     "output_type": "stream",
     "text": [
      "\n",
      "210it [00:17, 12.23it/s]\u001b[A"
     ]
    },
    {
     "name": "stdout",
     "output_type": "stream",
     "text": [
      "[0.95195857 0.03329834 0.00904999] 0.9943069026845086\n",
      "[0.94848203 0.03571665 0.00958724] 0.9937859223999783\n",
      "[0.95334036 0.03275445 0.00858738] 0.9946821840597406\n"
     ]
    },
    {
     "name": "stderr",
     "output_type": "stream",
     "text": [
      "\n",
      "212it [00:18, 12.17it/s]\u001b[A\n",
      "214it [00:18, 12.12it/s]\u001b[A"
     ]
    },
    {
     "name": "stdout",
     "output_type": "stream",
     "text": [
      "[0.96724905 0.02255395 0.00591756] 0.9957205597736787\n",
      "[0.9688873 0.021639  0.0056052] 0.9961314960046064\n",
      "[0.94868482 0.03647945 0.0089958 ] 0.9941600731770998\n"
     ]
    },
    {
     "name": "stderr",
     "output_type": "stream",
     "text": [
      "\n",
      "216it [00:18, 12.46it/s]\u001b[A"
     ]
    },
    {
     "name": "stdout",
     "output_type": "stream",
     "text": [
      "[0.94792794 0.03697217 0.00929177] 0.9941918825351923\n",
      "[0.96467304 0.02449084 0.00640617] 0.9955700480435988\n",
      "[0.97015857 0.02008936 0.00528283] 0.9955307664265991\n"
     ]
    },
    {
     "name": "stderr",
     "output_type": "stream",
     "text": [
      "\n",
      "218it [00:18, 12.31it/s]\u001b[A\n",
      "220it [00:18, 12.13it/s]\u001b[A"
     ]
    },
    {
     "name": "stdout",
     "output_type": "stream",
     "text": [
      "[0.96985992 0.02040445 0.00518192] 0.9954462907420061\n",
      "[0.97117494 0.02062255 0.00482198] 0.9966194758949936\n",
      "[0.97505194 0.01694771 0.00432843] 0.9963280833297908\n"
     ]
    },
    {
     "name": "stderr",
     "output_type": "stream",
     "text": [
      "\n",
      "222it [00:18, 12.19it/s]\u001b[A"
     ]
    },
    {
     "name": "stdout",
     "output_type": "stream",
     "text": [
      "[0.980772   0.01309405 0.00348138] 0.997347436985261\n",
      "[0.98086861 0.01314187 0.00341064] 0.9974211212048675\n",
      "[0.98158234 0.01236719 0.00313965] 0.9970891842576546\n"
     ]
    },
    {
     "name": "stderr",
     "output_type": "stream",
     "text": [
      "\n",
      "224it [00:18, 12.13it/s]\u001b[A\n",
      "226it [00:19, 12.44it/s]\u001b[A"
     ]
    },
    {
     "name": "stdout",
     "output_type": "stream",
     "text": [
      "[0.98466885 0.01021694 0.00259995] 0.9974857399703645\n",
      "[0.97994488 0.01359988 0.00332895] 0.9968737037529556\n",
      "[0.97823153 0.01515793 0.00363116] 0.9970206174613627\n"
     ]
    },
    {
     "name": "stderr",
     "output_type": "stream",
     "text": [
      "\n",
      "228it [00:19, 12.33it/s]\u001b[A"
     ]
    },
    {
     "name": "stdout",
     "output_type": "stream",
     "text": [
      "[0.97026582 0.0211147  0.00469992] 0.9960804327808663\n",
      "[0.97493362 0.01738087 0.00414056] 0.9964550544765147\n",
      "[0.97957269 0.01452136 0.00326382] 0.9973578795783988\n"
     ]
    },
    {
     "name": "stderr",
     "output_type": "stream",
     "text": [
      "\n",
      "230it [00:19, 12.23it/s]\u001b[A\n",
      "232it [00:19, 12.16it/s]\u001b[A"
     ]
    },
    {
     "name": "stdout",
     "output_type": "stream",
     "text": [
      "[0.97118035 0.01954084 0.00477195] 0.9954931376910741\n",
      "[0.97047195 0.0200189  0.00537109] 0.9958619454068905\n",
      "[0.97509482 0.01699858 0.00441643] 0.9965098297956168\n"
     ]
    },
    {
     "name": "stderr",
     "output_type": "stream",
     "text": [
      "\n",
      "234it [00:19, 12.49it/s]\u001b[A"
     ]
    },
    {
     "name": "stdout",
     "output_type": "stream",
     "text": [
      "[0.97616219 0.0159225  0.00446274] 0.9965474282702216\n",
      "[0.97274137 0.01837001 0.00505672] 0.996168102820806\n",
      "[0.96356663 0.02497541 0.00658082] 0.995122861513016\n"
     ]
    },
    {
     "name": "stderr",
     "output_type": "stream",
     "text": [
      "\n",
      "236it [00:19, 12.33it/s]\u001b[A\n",
      "238it [00:20, 12.22it/s]\u001b[A"
     ]
    },
    {
     "name": "stdout",
     "output_type": "stream",
     "text": [
      "[0.96805439 0.02210242 0.00577258] 0.9959293943799417\n",
      "[0.97109925 0.01987232 0.0052917 ] 0.9962632801566952\n",
      "[0.97062554 0.02023416 0.00540024] 0.9962599420034357\n"
     ]
    },
    {
     "name": "stderr",
     "output_type": "stream",
     "text": [
      "\n",
      "240it [00:20, 12.18it/s]\u001b[A"
     ]
    },
    {
     "name": "stdout",
     "output_type": "stream",
     "text": [
      "[0.95903354 0.0290859  0.00734037] 0.9954598050873507\n",
      "[0.95890948 0.02862518 0.00723691] 0.994771561514942\n",
      "[0.9629811  0.02635074 0.00640438] 0.9957362108993334\n"
     ]
    },
    {
     "name": "stderr",
     "output_type": "stream",
     "text": [
      "\n",
      "242it [00:20, 12.48it/s]\u001b[A\n",
      "244it [00:20, 12.10it/s]\u001b[A"
     ]
    },
    {
     "name": "stdout",
     "output_type": "stream",
     "text": [
      "[0.96049649 0.02774492 0.00688592] 0.9951273339412352\n",
      "[0.9489806  0.03567319 0.00929855] 0.9939523407787729\n",
      "[0.93965807 0.04247625 0.01098601] 0.9931203372213797\n"
     ]
    },
    {
     "name": "stderr",
     "output_type": "stream",
     "text": [
      "\n",
      "246it [00:20, 12.32it/s]\u001b[A"
     ]
    },
    {
     "name": "stdout",
     "output_type": "stream",
     "text": [
      "[0.93588135 0.04550468 0.01184292] 0.9932289481329039\n",
      "[0.93297575 0.04808982 0.01225149] 0.9933170626220738\n",
      "[0.92268354 0.05439822 0.01422582] 0.9913075818870515\n"
     ]
    },
    {
     "name": "stderr",
     "output_type": "stream",
     "text": [
      "\n",
      "248it [00:20, 12.22it/s]\u001b[A\n",
      "250it [00:21, 12.44it/s]\u001b[A"
     ]
    },
    {
     "name": "stdout",
     "output_type": "stream",
     "text": [
      "[0.93710495 0.0452619  0.01132673] 0.993693591888845\n",
      "[0.94761847 0.03688286 0.0096353 ] 0.9941366248897168\n",
      "[0.95639091 0.03065728 0.00789147] 0.9949396549556088\n"
     ]
    },
    {
     "name": "stderr",
     "output_type": "stream",
     "text": [
      "\n",
      "252it [00:21, 12.40it/s]\u001b[A"
     ]
    },
    {
     "name": "stdout",
     "output_type": "stream",
     "text": [
      "[0.95190406 0.03360801 0.00888579] 0.994397863871689\n",
      "[0.95056108 0.03478575 0.00902661] 0.994373443523406\n",
      "[0.95127935 0.0344206  0.00918569] 0.9948856394312267\n"
     ]
    },
    {
     "name": "stderr",
     "output_type": "stream",
     "text": [
      "\n",
      "254it [00:21, 12.28it/s]\u001b[A\n",
      "256it [00:21, 12.20it/s]\u001b[A"
     ]
    },
    {
     "name": "stdout",
     "output_type": "stream",
     "text": [
      "[0.93971605 0.04249916 0.01132092] 0.9935361368587273\n",
      "[0.93195258 0.04829978 0.01229863] 0.9925509816647469\n",
      "[0.93872554 0.04364703 0.01122549] 0.9935980649337722\n"
     ]
    },
    {
     "name": "stderr",
     "output_type": "stream",
     "text": [
      "\n",
      "258it [00:21, 12.16it/s]\u001b[A"
     ]
    },
    {
     "name": "stdout",
     "output_type": "stream",
     "text": [
      "[0.94353376 0.04006766 0.01023328] 0.9938346916860631\n",
      "[0.93878993 0.04343045 0.01145694] 0.9936773157391061\n",
      "[0.93101789 0.04928036 0.01257164] 0.9928698821189282\n"
     ]
    },
    {
     "name": "stderr",
     "output_type": "stream",
     "text": [
      "\n",
      "260it [00:21, 12.05it/s]\u001b[A\n",
      "262it [00:22, 12.33it/s]\u001b[A"
     ]
    },
    {
     "name": "stdout",
     "output_type": "stream",
     "text": [
      "[0.93256035 0.0476118  0.01264572] 0.9928178765214524\n",
      "[0.95856767 0.02875017 0.00769411] 0.9950119454722701\n",
      "[0.95991958 0.02770608 0.00753025] 0.9951559101095043\n"
     ]
    },
    {
     "name": "stderr",
     "output_type": "stream",
     "text": [
      "\n",
      "264it [00:22, 12.35it/s]\u001b[A"
     ]
    },
    {
     "name": "stdout",
     "output_type": "stream",
     "text": [
      "[0.94969849 0.03501229 0.00914387] 0.9938546452375139\n",
      "[0.94202306 0.04100972 0.01072264] 0.9937554187684746\n",
      "[0.9464835  0.03823568 0.0096977 ] 0.9944168743109942\n"
     ]
    },
    {
     "name": "stderr",
     "output_type": "stream",
     "text": [
      "\n",
      "266it [00:22, 12.24it/s]\u001b[A\n",
      "268it [00:22, 12.16it/s]\u001b[A"
     ]
    },
    {
     "name": "stdout",
     "output_type": "stream",
     "text": [
      "[0.93809256 0.0443197  0.01128762] 0.9936998793733381\n",
      "[0.93024362 0.04993369 0.01250262] 0.9926799240662522\n",
      "[0.9348845  0.04670809 0.01162247] 0.9932150714539119\n"
     ]
    },
    {
     "name": "stderr",
     "output_type": "stream",
     "text": [
      "\n",
      "270it [00:22, 12.10it/s]\u001b[A"
     ]
    },
    {
     "name": "stdout",
     "output_type": "stream",
     "text": [
      "[0.94382454 0.04027647 0.0099012 ] 0.9940022092734835\n",
      "[0.94872084 0.03664238 0.00903734] 0.994400555425514\n",
      "[0.95243484 0.03340115 0.00843467] 0.994270664120333\n"
     ]
    },
    {
     "name": "stderr",
     "output_type": "stream",
     "text": [
      "\n",
      "272it [00:22, 12.09it/s]\u001b[A\n",
      "274it [00:23, 12.30it/s]\u001b[A"
     ]
    },
    {
     "name": "stdout",
     "output_type": "stream",
     "text": [
      "[0.97027648 0.02025048 0.0055501 ] 0.9960770616808391\n",
      "[0.96832467 0.0214696  0.00604661] 0.9958408844825346\n",
      "[0.96430259 0.02502904 0.00647166] 0.995803284344886\n"
     ]
    },
    {
     "name": "stderr",
     "output_type": "stream",
     "text": [
      "\n",
      "276it [00:23, 12.35it/s]\u001b[A"
     ]
    },
    {
     "name": "stdout",
     "output_type": "stream",
     "text": [
      "[0.96962667 0.02130236 0.00558632] 0.9965153468332637\n",
      "[0.96512701 0.02439638 0.0064376 ] 0.9959609927819296\n",
      "[0.9602919  0.0274275  0.00741771] 0.9951371124816141\n"
     ]
    },
    {
     "name": "stderr",
     "output_type": "stream",
     "text": [
      "\n",
      "278it [00:23, 12.24it/s]\u001b[A\n",
      "280it [00:23, 12.17it/s]\u001b[A"
     ]
    },
    {
     "name": "stdout",
     "output_type": "stream",
     "text": [
      "[0.96673718 0.02283559 0.00634832] 0.9959210896210768\n",
      "[0.97283329 0.01858009 0.00504662] 0.9964599953115306\n",
      "[0.96942425 0.02036851 0.00519095] 0.9949837052388839\n"
     ]
    },
    {
     "name": "stderr",
     "output_type": "stream",
     "text": [
      "\n",
      "282it [00:23, 12.14it/s]\u001b[A"
     ]
    },
    {
     "name": "stdout",
     "output_type": "stream",
     "text": [
      "[0.97285266 0.0189835  0.00486406] 0.9967002294459887\n",
      "[0.9669481  0.02246457 0.00573178] 0.9951444473373595\n",
      "[0.96039787 0.02805639 0.00713811] 0.9955923701753379\n"
     ]
    },
    {
     "name": "stderr",
     "output_type": "stream",
     "text": [
      "\n",
      "284it [00:23, 12.08it/s]\u001b[A\n",
      "286it [00:24, 12.27it/s]\u001b[A"
     ]
    },
    {
     "name": "stdout",
     "output_type": "stream",
     "text": [
      "[0.96159926 0.02692489 0.00683123] 0.9953553749859341\n",
      "[0.95896341 0.02875742 0.00721759] 0.9949384183005852\n",
      "[0.95703814 0.03025523 0.00769597] 0.9949893471594564\n"
     ]
    },
    {
     "name": "stderr",
     "output_type": "stream",
     "text": [
      "\n",
      "288it [00:24, 12.35it/s]\u001b[A"
     ]
    },
    {
     "name": "stdout",
     "output_type": "stream",
     "text": [
      "[0.95346458 0.03262605 0.00857799] 0.9946686171214898\n",
      "[0.94982987 0.03483528 0.00922393] 0.9938890845487125\n",
      "[0.96350075 0.02562732 0.0064639 ] 0.9955919683140155\n"
     ]
    },
    {
     "name": "stderr",
     "output_type": "stream",
     "text": [
      "\n",
      "290it [00:24, 12.24it/s]\u001b[A\n",
      "292it [00:24, 12.17it/s]\u001b[A"
     ]
    },
    {
     "name": "stdout",
     "output_type": "stream",
     "text": [
      "[0.96843863 0.02186363 0.00566645] 0.9959687110725259\n",
      "[0.96452007 0.02456681 0.0063599 ] 0.9954467766988734\n",
      "[0.96896258 0.02106332 0.00524229] 0.9952681898898083\n"
     ]
    },
    {
     "name": "stderr",
     "output_type": "stream",
     "text": [
      "\n",
      "294it [00:24, 12.40it/s]\u001b[A"
     ]
    },
    {
     "name": "stdout",
     "output_type": "stream",
     "text": [
      "[0.9756274  0.01691273 0.00427371] 0.9968138331439362\n",
      "[0.93896762 0.03981179 0.00987882] 0.9886582229575022\n",
      "[0.96213029 0.0261946  0.00724981] 0.9955746862409377\n"
     ]
    },
    {
     "name": "stderr",
     "output_type": "stream",
     "text": [
      "\n",
      "296it [00:24, 12.40it/s]\u001b[A\n"
     ]
    },
    {
     "name": "stdout",
     "output_type": "stream",
     "text": [
      "[0.96089266 0.02666866 0.00756538] 0.9951266986219403\n",
      "[0.95810509 0.0288448  0.00831027] 0.9952601669581704\n",
      "[0.97314169 0.01832293 0.00510852] 0.9965731466434645\n"
     ]
    },
    {
     "name": "stderr",
     "output_type": "stream",
     "text": [
      "298it [00:25, 11.74it/s]\u001b[A\n",
      "300it [00:25, 11.97it/s]\u001b[A"
     ]
    },
    {
     "name": "stdout",
     "output_type": "stream",
     "text": [
      "[0.97567814 0.0167822  0.00451889] 0.9969792333967955\n",
      "[0.9764809  0.01599066 0.00419989] 0.9966714521231617\n",
      "[0.98455116 0.01045975 0.00254076] 0.9975516754844902\n"
     ]
    },
    {
     "name": "stderr",
     "output_type": "stream",
     "text": [
      "\n",
      "302it [00:25, 11.98it/s]\u001b[A\n",
      "304it [00:25, 12.33it/s]\u001b[A"
     ]
    },
    {
     "name": "stdout",
     "output_type": "stream",
     "text": [
      "[0.98660429 0.00889019 0.00220729] 0.9977017712708756\n",
      "[0.98752137 0.00843132 0.00197508] 0.9979277689866468\n",
      "[0.99004787 0.00678561 0.00159984] 0.9984333194524364\n"
     ]
    },
    {
     "name": "stderr",
     "output_type": "stream",
     "text": [
      "\n",
      "306it [00:25, 11.91it/s]\u001b[A"
     ]
    },
    {
     "name": "stdout",
     "output_type": "stream",
     "text": [
      "[0.97870147 0.01462958 0.00341652] 0.9967475710055422\n",
      "[0.97588886 0.01644449 0.00416451] 0.9964978601922878\n",
      "[0.97128632 0.02098318 0.00445187] 0.9967213710882538\n"
     ]
    },
    {
     "name": "stderr",
     "output_type": "stream",
     "text": [
      "\n",
      "308it [00:25, 12.26it/s]\u001b[A\n"
     ]
    },
    {
     "name": "stdout",
     "output_type": "stream",
     "text": [
      "[0.97040002 0.02123324 0.0047999 ] 0.9964331488562391\n",
      "[0.96094328 0.02687245 0.0067466 ] 0.9945623340315524\n",
      "[0.9625858  0.02654929 0.00651427] 0.9956493561780492\n"
     ]
    },
    {
     "name": "stderr",
     "output_type": "stream",
     "text": [
      "310it [00:26, 12.00it/s]\u001b[A\n",
      "312it [00:26, 12.21it/s]\u001b[A"
     ]
    },
    {
     "name": "stdout",
     "output_type": "stream",
     "text": [
      "[0.97155658 0.02001672 0.00472616] 0.9962994600229099\n",
      "[0.9766796  0.01631376 0.00393716] 0.9969305254388603\n",
      "[0.9768825  0.01613453 0.00390471] 0.9969217504955148\n"
     ]
    },
    {
     "name": "stderr",
     "output_type": "stream",
     "text": [
      "\n",
      "314it [00:26, 12.50it/s]\u001b[A\n",
      "316it [00:26, 12.37it/s]\u001b[A"
     ]
    },
    {
     "name": "stdout",
     "output_type": "stream",
     "text": [
      "[0.97649616 0.01655876 0.00369132] 0.9967462373370527\n",
      "[0.97604849 0.01674323 0.00405164] 0.996843367672065\n",
      "[0.96959689 0.02131095 0.00501739] 0.9959252306312241\n"
     ]
    },
    {
     "name": "stderr",
     "output_type": "stream",
     "text": [
      "\n",
      "318it [00:26, 12.12it/s]\u001b[A"
     ]
    },
    {
     "name": "stdout",
     "output_type": "stream",
     "text": [
      "[0.97058269 0.02074351 0.00488542] 0.9962116186318214\n",
      "[0.97478024 0.01731771 0.0039436 ] 0.9960415576107309\n",
      "[0.98400309 0.01130545 0.00237957] 0.9976881108523198\n"
     ]
    },
    {
     "name": "stderr",
     "output_type": "stream",
     "text": [
      "\n",
      "320it [00:26, 12.24it/s]\u001b[A\n",
      "322it [00:26, 12.51it/s]\u001b[A"
     ]
    },
    {
     "name": "stdout",
     "output_type": "stream",
     "text": [
      "[0.98479157 0.01044624 0.00236079] 0.9975986025417861\n",
      "[0.98379783 0.01113548 0.00245807] 0.9973913780219655\n",
      "[0.98423719 0.01066003 0.00275409] 0.9976513113565967\n"
     ]
    },
    {
     "name": "stderr",
     "output_type": "stream",
     "text": [
      "\n",
      "324it [00:27, 12.38it/s]\u001b[A"
     ]
    },
    {
     "name": "stdout",
     "output_type": "stream",
     "text": [
      "[0.98207951 0.01218935 0.00307289] 0.9973417495835326\n",
      "[0.98255498 0.01194583 0.00275574] 0.9972565609342375\n",
      "[0.9875646  0.00860189 0.00190349] 0.9980699807599014\n"
     ]
    },
    {
     "name": "stderr",
     "output_type": "stream",
     "text": [
      "\n",
      "326it [00:27, 12.26it/s]\u001b[A\n",
      "328it [00:27, 12.18it/s]\u001b[A"
     ]
    },
    {
     "name": "stdout",
     "output_type": "stream",
     "text": [
      "[0.9885582  0.007804   0.00184175] 0.9982039431678609\n",
      "[0.98437249 0.01054805 0.00255224] 0.9974727772292291\n",
      "[0.97450175 0.0174654  0.00366267] 0.9956298140358192\n"
     ]
    },
    {
     "name": "stderr",
     "output_type": "stream",
     "text": [
      "\n",
      "330it [00:27, 12.50it/s]\u001b[A"
     ]
    },
    {
     "name": "stdout",
     "output_type": "stream",
     "text": [
      "[0.98981154 0.00813566 0.00108441] 0.9990316043692143\n",
      "[0.9850556  0.01108939 0.00187635] 0.9980213321353063\n",
      "[0.98156097 0.0134549  0.0025759 ] 0.9975917713415393\n"
     ]
    },
    {
     "name": "stderr",
     "output_type": "stream",
     "text": [
      "\n",
      "332it [00:27, 12.35it/s]\u001b[A\n",
      "334it [00:27, 12.25it/s]\u001b[A"
     ]
    },
    {
     "name": "stdout",
     "output_type": "stream",
     "text": [
      "[0.96811955 0.02330225 0.00502929] 0.996451095601467\n",
      "[0.96061434 0.028415   0.00657545] 0.9956047857674354\n",
      "[0.96946061 0.02176161 0.00501478] 0.9962370087581429\n"
     ]
    },
    {
     "name": "stderr",
     "output_type": "stream",
     "text": [
      "\n",
      "336it [00:28, 12.15it/s]\u001b[A"
     ]
    },
    {
     "name": "stdout",
     "output_type": "stream",
     "text": [
      "[0.98169308 0.01282157 0.00303553] 0.9975501859132316\n",
      "[0.98208445 0.01270055 0.00268869] 0.9974736914116228\n",
      "[0.97663544 0.01630456 0.0036825 ] 0.9966224977053966\n"
     ]
    },
    {
     "name": "stderr",
     "output_type": "stream",
     "text": [
      "\n",
      "338it [00:28, 12.13it/s]\u001b[A\n",
      "340it [00:28, 12.09it/s]\u001b[A"
     ]
    },
    {
     "name": "stdout",
     "output_type": "stream",
     "text": [
      "[0.97743786 0.01622877 0.00329148] 0.996958112747226\n",
      "[0.98474645 0.01101502 0.00215649] 0.9979179510610573\n",
      "[0.98451625 0.01103661 0.00218172] 0.9977345870097958\n"
     ]
    },
    {
     "name": "stderr",
     "output_type": "stream",
     "text": [
      "\n",
      "342it [00:28, 12.09it/s]\u001b[A"
     ]
    },
    {
     "name": "stdout",
     "output_type": "stream",
     "text": [
      "[0.97955101 0.01413619 0.00334243] 0.9970296284581412\n",
      "[0.96891607 0.02236962 0.00519603] 0.9964817283803922\n",
      "[0.96529123 0.02502021 0.00569306] 0.996004498148691\n"
     ]
    },
    {
     "name": "stderr",
     "output_type": "stream",
     "text": [
      "\n",
      "344it [00:28, 12.39it/s]\u001b[A\n",
      "346it [00:28, 12.29it/s]\u001b[A"
     ]
    },
    {
     "name": "stdout",
     "output_type": "stream",
     "text": [
      "[0.96888126 0.02261417 0.00499551] 0.9964909416470303\n",
      "[0.9651586  0.0259183  0.00536623] 0.9964431350273304\n",
      "[0.96847022 0.02277162 0.00504526] 0.9962871042755305\n"
     ]
    },
    {
     "name": "stderr",
     "output_type": "stream",
     "text": [
      "\n",
      "348it [00:29, 12.16it/s]\u001b[A"
     ]
    },
    {
     "name": "stdout",
     "output_type": "stream",
     "text": [
      "[0.97293174 0.01973001 0.00422168] 0.9968834353522089\n",
      "[0.96913287 0.02188889 0.00517216] 0.996193930214388\n",
      "[0.96467998 0.02595649 0.00572341] 0.9963598854434939\n"
     ]
    },
    {
     "name": "stderr",
     "output_type": "stream",
     "text": [
      "\n",
      "350it [00:29, 12.16it/s]\u001b[A\n",
      "352it [00:29, 12.11it/s]\u001b[A"
     ]
    },
    {
     "name": "stdout",
     "output_type": "stream",
     "text": [
      "[0.95609976 0.03213217 0.00717938] 0.9954113055852888\n",
      "[0.95429912 0.03285674 0.00729428] 0.9944501412063375\n",
      "[0.97025534 0.0211633  0.00485765] 0.9962762935934412\n"
     ]
    },
    {
     "name": "stderr",
     "output_type": "stream",
     "text": [
      "\n",
      "354it [00:29, 12.10it/s]\u001b[A"
     ]
    },
    {
     "name": "stdout",
     "output_type": "stream",
     "text": [
      "[0.98416233 0.01125245 0.00246887] 0.9978836505769106\n",
      "[0.98794784 0.00856667 0.00174991] 0.9982644219787368\n",
      "[0.98559543 0.00991605 0.00226048] 0.9977719558495953\n"
     ]
    },
    {
     "name": "stderr",
     "output_type": "stream",
     "text": [
      "\n",
      "356it [00:29, 12.05it/s]\u001b[A\n",
      "358it [00:29, 12.03it/s]\u001b[A"
     ]
    },
    {
     "name": "stdout",
     "output_type": "stream",
     "text": [
      "[0.98180033 0.01319807 0.00246028] 0.9974586692327091\n",
      "[0.97974908 0.01433302 0.00318283] 0.9972649247621147\n",
      "[0.97138764 0.02047699 0.00452374] 0.9963883720363919\n"
     ]
    },
    {
     "name": "stderr",
     "output_type": "stream",
     "text": [
      "\n",
      "360it [00:30, 11.98it/s]\u001b[A"
     ]
    },
    {
     "name": "stdout",
     "output_type": "stream",
     "text": [
      "[0.96400638 0.02606697 0.00557965] 0.9956529987097356\n",
      "[0.97072881 0.02178414 0.00434245] 0.9968554018258594\n",
      "[0.97957697 0.01484587 0.0031202 ] 0.9975430333597805\n"
     ]
    },
    {
     "name": "stderr",
     "output_type": "stream",
     "text": [
      "\n",
      "362it [00:30, 12.04it/s]\u001b[A\n",
      "364it [00:30, 12.40it/s]\u001b[A"
     ]
    },
    {
     "name": "stdout",
     "output_type": "stream",
     "text": [
      "[0.98471197 0.01095693 0.00228691] 0.9979558077889447\n",
      "[0.98376808 0.0112598  0.00253662] 0.9975644898692445\n",
      "[0.97187047 0.01859686 0.00420631] 0.9946736446484739\n"
     ]
    },
    {
     "name": "stderr",
     "output_type": "stream",
     "text": [
      "\n",
      "366it [00:30, 12.27it/s]\u001b[A"
     ]
    },
    {
     "name": "stdout",
     "output_type": "stream",
     "text": [
      "[0.9912442  0.00593273 0.0012837 ] 0.9984606282419596\n",
      "[0.99131899 0.0059235  0.00121314] 0.9984556264043463\n",
      "[0.98716477 0.008416   0.00196223] 0.9975430033136424\n"
     ]
    },
    {
     "name": "stderr",
     "output_type": "stream",
     "text": [
      "\n",
      "368it [00:30, 12.17it/s]\u001b[A\n",
      "370it [00:30, 12.14it/s]\u001b[A"
     ]
    },
    {
     "name": "stdout",
     "output_type": "stream",
     "text": [
      "[0.98950008 0.00757475 0.00137551] 0.9984503359401233\n",
      "[0.99081669 0.00629896 0.00139207] 0.9985077124670583\n",
      "[0.98862713 0.00770963 0.00176834] 0.9981050940234073\n"
     ]
    },
    {
     "name": "stderr",
     "output_type": "stream",
     "text": [
      "\n",
      "372it [00:31, 12.01it/s]\u001b[A"
     ]
    },
    {
     "name": "stdout",
     "output_type": "stream",
     "text": [
      "[0.98622112 0.00957149 0.00200694] 0.997799555778106\n",
      "[0.98279024 0.01212119 0.00270815] 0.9976195817579078\n",
      "[0.9656942  0.02466349 0.00557168] 0.9959293722233009\n"
     ]
    },
    {
     "name": "stderr",
     "output_type": "stream",
     "text": [
      "\n",
      "374it [00:31, 12.12it/s]\u001b[A\n",
      "376it [00:31, 12.41it/s]\u001b[A"
     ]
    },
    {
     "name": "stdout",
     "output_type": "stream",
     "text": [
      "[0.96170084 0.0279698  0.00616529] 0.9958359424773761\n",
      "[0.95833066 0.0299367  0.00688825] 0.9951556153764048\n",
      "[0.95682766 0.03309228 0.00615322] 0.9960731567375338\n"
     ]
    },
    {
     "name": "stderr",
     "output_type": "stream",
     "text": [
      "\n",
      "378it [00:31, 11.97it/s]\u001b[A"
     ]
    },
    {
     "name": "stdout",
     "output_type": "stream",
     "text": [
      "[0.97320567 0.01981198 0.00405004] 0.9970676802429594\n",
      "[0.98589099 0.01032761 0.00195922] 0.9981778145601433\n",
      "[0.98772274 0.00844437 0.00191031] 0.9980774186764406\n"
     ]
    },
    {
     "name": "stderr",
     "output_type": "stream",
     "text": [
      "\n",
      "380it [00:31, 12.30it/s]\u001b[A\n",
      "382it [00:31, 12.23it/s]\u001b[A"
     ]
    },
    {
     "name": "stdout",
     "output_type": "stream",
     "text": [
      "[0.98422715 0.01087413 0.0023841 ] 0.9974853836568748\n",
      "[0.98082808 0.0131988  0.00311331] 0.9971401885909946\n",
      "[0.97582248 0.01694369 0.00388718] 0.9966533410053484\n"
     ]
    },
    {
     "name": "stderr",
     "output_type": "stream",
     "text": [
      "\n",
      "384it [00:32, 12.07it/s]\u001b[A"
     ]
    },
    {
     "name": "stdout",
     "output_type": "stream",
     "text": [
      "[0.98051972 0.01399231 0.00297799] 0.9974900218119439\n",
      "[0.97869392 0.01514372 0.0033904 ] 0.9972280428606185\n",
      "[0.98728925 0.00884356 0.00189011] 0.9980229191069365\n"
     ]
    },
    {
     "name": "stderr",
     "output_type": "stream",
     "text": [
      "\n",
      "386it [00:32, 12.17it/s]\u001b[A\n",
      "388it [00:32, 12.45it/s]\u001b[A"
     ]
    },
    {
     "name": "stdout",
     "output_type": "stream",
     "text": [
      "[0.98847553 0.0080084  0.00165621] 0.9981401327019779\n",
      "[0.98585874 0.01010881 0.00186843] 0.9978359745435128\n",
      "[0.98733101 0.00874365 0.0019077 ] 0.9979823531478001\n"
     ]
    },
    {
     "name": "stderr",
     "output_type": "stream",
     "text": [
      "\n",
      "390it [00:32, 12.34it/s]\u001b[A"
     ]
    },
    {
     "name": "stdout",
     "output_type": "stream",
     "text": [
      "[0.98568822 0.01025865 0.00197299] 0.9979198659976725\n",
      "[0.98191476 0.01305229 0.00271365] 0.9976806943915891\n",
      "[0.97350978 0.01887354 0.00422987] 0.9966131867773698\n"
     ]
    },
    {
     "name": "stderr",
     "output_type": "stream",
     "text": [
      "\n",
      "392it [00:32, 12.14it/s]\u001b[A\n",
      "394it [00:32, 12.22it/s]\u001b[A"
     ]
    },
    {
     "name": "stdout",
     "output_type": "stream",
     "text": [
      "[0.9728882  0.01891074 0.00436432] 0.9961632540186577\n",
      "[0.97856691 0.01532954 0.00335501] 0.9972514594612617\n",
      "[0.98545003 0.01036512 0.00225725] 0.9980723937171119\n"
     ]
    },
    {
     "name": "stderr",
     "output_type": "stream",
     "text": [
      "\n",
      "396it [00:33, 12.01it/s]\u001b[A"
     ]
    },
    {
     "name": "stdout",
     "output_type": "stream",
     "text": [
      "[0.98576426 0.00979751 0.00226339] 0.9978251673355273\n",
      "[0.98848613 0.00783034 0.00175969] 0.9980761560355376\n",
      "[0.98977225 0.00693885 0.00146974] 0.9981808390155719\n"
     ]
    },
    {
     "name": "stderr",
     "output_type": "stream",
     "text": [
      "\n",
      "398it [00:33, 12.15it/s]\u001b[A\n",
      "400it [00:33, 12.08it/s]\u001b[A"
     ]
    },
    {
     "name": "stdout",
     "output_type": "stream",
     "text": [
      "[0.9895461  0.00714503 0.00143713] 0.9981282673438043\n",
      "[0.99186113 0.00544327 0.00125106] 0.9985554624335362\n",
      "[0.99133358 0.00578355 0.00137794] 0.9984950703197627\n"
     ]
    },
    {
     "name": "stderr",
     "output_type": "stream",
     "text": [
      "\n",
      "402it [00:33, 12.08it/s]\u001b[A"
     ]
    },
    {
     "name": "stdout",
     "output_type": "stream",
     "text": [
      "[0.98869052 0.00770186 0.00175041] 0.9981427927063314\n",
      "[0.98599122 0.00958556 0.0021777 ] 0.9977544729581513\n",
      "[0.98458514 0.01068788 0.00237613] 0.9976491631244555\n"
     ]
    },
    {
     "name": "stderr",
     "output_type": "stream",
     "text": [
      "\n",
      "404it [00:33, 12.38it/s]\u001b[A\n",
      "406it [00:33, 12.29it/s]\u001b[A"
     ]
    },
    {
     "name": "stdout",
     "output_type": "stream",
     "text": [
      "[0.9839022  0.01145103 0.00229613] 0.9976493603708618\n",
      "[0.98289962 0.01266801 0.00235709] 0.9979247214162942\n",
      "[0.97495864 0.0179343  0.00359744] 0.9964903794554429\n"
     ]
    },
    {
     "name": "stderr",
     "output_type": "stream",
     "text": [
      "\n",
      "408it [00:34, 12.07it/s]\u001b[A"
     ]
    },
    {
     "name": "stdout",
     "output_type": "stream",
     "text": [
      "[0.98258771 0.01231016 0.00250472] 0.9974025816143042\n",
      "[0.98869407 0.00772587 0.001633  ] 0.9980529408415649\n",
      "[0.98886613 0.00784522 0.00146374] 0.9981750940494494\n"
     ]
    },
    {
     "name": "stderr",
     "output_type": "stream",
     "text": [
      "\n",
      "410it [00:34, 12.21it/s]\u001b[A\n",
      "412it [00:34, 12.12it/s]\u001b[A"
     ]
    },
    {
     "name": "stdout",
     "output_type": "stream",
     "text": [
      "[0.98489478 0.0103634  0.00234589] 0.9976040758560588\n",
      "[0.97276907 0.01941016 0.00420916] 0.9963883937167701\n",
      "[0.97418995 0.01877426 0.00404538] 0.997009586453794\n"
     ]
    },
    {
     "name": "stderr",
     "output_type": "stream",
     "text": [
      "\n",
      "414it [00:34, 12.09it/s]\u001b[A"
     ]
    },
    {
     "name": "stdout",
     "output_type": "stream",
     "text": [
      "[0.96617225 0.02435732 0.00527511] 0.9958046879853805\n",
      "[0.96174007 0.02776567 0.00635515] 0.995860879872546\n",
      "[0.96380615 0.02593595 0.00587814] 0.9956202369203022\n"
     ]
    },
    {
     "name": "stderr",
     "output_type": "stream",
     "text": [
      "\n",
      "416it [00:34, 12.27it/s]\u001b[A\n",
      "418it [00:34, 12.35it/s]\u001b[A"
     ]
    },
    {
     "name": "stdout",
     "output_type": "stream",
     "text": [
      "[0.96850173 0.02308544 0.0048413 ] 0.9964284707851166\n",
      "[0.97192794 0.02009691 0.00432921] 0.9963540634848583\n",
      "[0.97859273 0.01530679 0.00333702] 0.99723653987702\n"
     ]
    },
    {
     "name": "stderr",
     "output_type": "stream",
     "text": [
      "\n",
      "420it [00:35, 12.12it/s]\u001b[A"
     ]
    },
    {
     "name": "stdout",
     "output_type": "stream",
     "text": [
      "[0.98323899 0.01204474 0.00247119] 0.9977549184890638\n",
      "[0.98550223 0.01015451 0.00209289] 0.9977496298008222\n",
      "[0.98838258 0.00802934 0.00163474] 0.998046661011883\n"
     ]
    },
    {
     "name": "stderr",
     "output_type": "stream",
     "text": [
      "\n",
      "422it [00:35, 12.21it/s]\u001b[A\n",
      "424it [00:35, 12.53it/s]\u001b[A"
     ]
    },
    {
     "name": "stdout",
     "output_type": "stream",
     "text": [
      "[0.98864447 0.00781058 0.00161064] 0.9980656896656993\n",
      "[0.98807523 0.00838699 0.00159811] 0.998060329714067\n",
      "[0.98401184 0.01118449 0.0023796 ] 0.9975759312033944\n"
     ]
    },
    {
     "name": "stderr",
     "output_type": "stream",
     "text": [
      "\n",
      "426it [00:35, 12.36it/s]\u001b[A"
     ]
    },
    {
     "name": "stdout",
     "output_type": "stream",
     "text": [
      "[0.97350727 0.0189874  0.00389018] 0.9963848564992309\n",
      "[0.97891655 0.01546479 0.00287102] 0.9972523607472201\n",
      "[0.98186049 0.01275864 0.00277088] 0.9973900152856273\n"
     ]
    },
    {
     "name": "stderr",
     "output_type": "stream",
     "text": [
      "\n",
      "428it [00:35, 12.26it/s]\u001b[A\n",
      "430it [00:35, 12.18it/s]\u001b[A"
     ]
    },
    {
     "name": "stdout",
     "output_type": "stream",
     "text": [
      "[0.98794477 0.00855071 0.0017694 ] 0.9982648766415712\n",
      "[0.99084695 0.00627714 0.00133962] 0.9984637185994248\n",
      "[0.98949216 0.00753356 0.00135922] 0.9983849481585544\n"
     ]
    },
    {
     "name": "stderr",
     "output_type": "stream",
     "text": [
      "\n",
      "432it [00:36, 12.06it/s]\u001b[A"
     ]
    },
    {
     "name": "stdout",
     "output_type": "stream",
     "text": [
      "[0.98732786 0.00851575 0.00198306] 0.997826669440713\n",
      "[0.99001115 0.00669492 0.00154674] 0.9982528089389575\n",
      "[0.99275569 0.00477791 0.00117756] 0.9987111634140712\n"
     ]
    },
    {
     "name": "stderr",
     "output_type": "stream",
     "text": [
      "\n",
      "434it [00:36, 12.49it/s]\u001b[A\n",
      "436it [00:36, 12.34it/s]\u001b[A"
     ]
    },
    {
     "name": "stdout",
     "output_type": "stream",
     "text": [
      "[0.99044105 0.00651515 0.00146678] 0.9984229737002484\n",
      "[0.98805924 0.00801952 0.00185614] 0.9979349094954167\n",
      "[0.98254278 0.01215286 0.00275055] 0.9974461880829988\n"
     ]
    },
    {
     "name": "stderr",
     "output_type": "stream",
     "text": [
      "\n",
      "438it [00:36, 12.24it/s]\u001b[A"
     ]
    },
    {
     "name": "stdout",
     "output_type": "stream",
     "text": [
      "[0.98364566 0.01169373 0.002273  ] 0.9976123794674824\n",
      "[0.984437   0.01090871 0.00233136] 0.9976770724464459\n",
      "[0.98355885 0.01192324 0.00231365] 0.9977957349178785\n"
     ]
    },
    {
     "name": "stderr",
     "output_type": "stream",
     "text": [
      "\n",
      "440it [00:36, 12.16it/s]\u001b[A\n",
      "442it [00:36, 12.47it/s]\u001b[A"
     ]
    },
    {
     "name": "stdout",
     "output_type": "stream",
     "text": [
      "[0.98237019 0.01238099 0.00274474] 0.997495924992506\n",
      "[0.97932942 0.01483535 0.00325056] 0.9974153270998884\n",
      "[0.9771459  0.01672272 0.00351107] 0.9973796913250302\n"
     ]
    },
    {
     "name": "stderr",
     "output_type": "stream",
     "text": [
      "\n",
      "444it [00:36, 12.35it/s]\u001b[A"
     ]
    },
    {
     "name": "stdout",
     "output_type": "stream",
     "text": [
      "[0.97501979 0.01790086 0.00400718] 0.9969278364280054\n",
      "[0.9770483  0.01639677 0.0037786 ] 0.9972236779044509\n",
      "[0.98369286 0.01150859 0.00257242] 0.9977738694981719\n"
     ]
    },
    {
     "name": "stderr",
     "output_type": "stream",
     "text": [
      "\n",
      "446it [00:37, 12.22it/s]\u001b[A\n",
      "448it [00:37, 12.18it/s]\u001b[A"
     ]
    },
    {
     "name": "stdout",
     "output_type": "stream",
     "text": [
      "[0.98641511 0.00963514 0.00219536] 0.9982456092680579\n",
      "[0.98308457 0.01166151 0.0027419 ] 0.9974879795472965\n",
      "[0.97959565 0.01433198 0.00317582] 0.9971034585850398\n"
     ]
    },
    {
     "name": "stderr",
     "output_type": "stream",
     "text": [
      "\n",
      "450it [00:37, 12.50it/s]\u001b[A"
     ]
    },
    {
     "name": "stdout",
     "output_type": "stream",
     "text": [
      "[0.97719835 0.0165321  0.00340807] 0.9971385153996205\n",
      "[0.97024425 0.02177577 0.00451645] 0.9965364689945487\n",
      "[0.96543111 0.02439757 0.00554947] 0.9953781435515161\n"
     ]
    },
    {
     "name": "stderr",
     "output_type": "stream",
     "text": [
      "\n",
      "452it [00:37, 12.35it/s]\u001b[A\n",
      "454it [00:37, 12.25it/s]\u001b[A"
     ]
    },
    {
     "name": "stdout",
     "output_type": "stream",
     "text": [
      "[0.96306875 0.02705336 0.00573852] 0.9958606340905415\n",
      "[0.97148927 0.02038734 0.00458467] 0.996461280753074\n",
      "[0.97086378 0.02159758 0.00461827] 0.9970796292836025\n"
     ]
    },
    {
     "name": "stderr",
     "output_type": "stream",
     "text": [
      "\n",
      "456it [00:37, 12.17it/s]\u001b[A"
     ]
    },
    {
     "name": "stdout",
     "output_type": "stream",
     "text": [
      "[0.95962266 0.02902822 0.00656196] 0.9952128346286523\n",
      "[0.96158934 0.02823224 0.0061274 ] 0.9959489877589909\n",
      "[0.96323668 0.02660069 0.00593733] 0.9957746962452418\n"
     ]
    },
    {
     "name": "stderr",
     "output_type": "stream",
     "text": [
      "\n",
      "458it [00:38, 12.43it/s]\u001b[A\n",
      "460it [00:38, 12.36it/s]\u001b[A"
     ]
    },
    {
     "name": "stdout",
     "output_type": "stream",
     "text": [
      "[0.96396615 0.02645807 0.00580391] 0.9962281296732572\n",
      "[0.97275779 0.01998004 0.00427694] 0.9970147785189842\n",
      "[0.9755982  0.01744531 0.00394171] 0.9969852197317238\n"
     ]
    },
    {
     "name": "stderr",
     "output_type": "stream",
     "text": [
      "\n",
      "462it [00:38, 12.26it/s]\u001b[A"
     ]
    },
    {
     "name": "stdout",
     "output_type": "stream",
     "text": [
      "[0.97911576 0.01497551 0.00330942] 0.9974006897062375\n",
      "[0.98362262 0.0116702  0.00257885] 0.9978716723231085\n",
      "[0.9872314  0.00887869 0.00211941] 0.9982295081024252\n"
     ]
    },
    {
     "name": "stderr",
     "output_type": "stream",
     "text": [
      "\n",
      "464it [00:38, 12.17it/s]\u001b[A\n",
      "466it [00:38, 12.41it/s]\u001b[A"
     ]
    },
    {
     "name": "stdout",
     "output_type": "stream",
     "text": [
      "[0.98401671 0.01122536 0.00247599] 0.9977180510796186\n",
      "[0.98242001 0.01259292 0.00243525] 0.9974481840956906\n",
      "[0.98510276 0.01025649 0.00236066] 0.9977199180414734\n"
     ]
    },
    {
     "name": "stderr",
     "output_type": "stream",
     "text": [
      "\n",
      "468it [00:38, 12.38it/s]\u001b[A"
     ]
    },
    {
     "name": "stdout",
     "output_type": "stream",
     "text": [
      "[0.98456996 0.0109302  0.00223124] 0.9977313975332216\n",
      "[0.98407041 0.01113272 0.00244141] 0.9976445320334207\n",
      "[0.98530084 0.01037194 0.00219411] 0.9978668949162811\n"
     ]
    },
    {
     "name": "stderr",
     "output_type": "stream",
     "text": [
      "\n",
      "470it [00:39, 12.15it/s]\u001b[A\n",
      "472it [00:39, 12.24it/s]\u001b[A"
     ]
    },
    {
     "name": "stdout",
     "output_type": "stream",
     "text": [
      "[0.97646943 0.01666212 0.00361693] 0.99674848247364\n",
      "[0.95615862 0.02879604 0.0067432 ] 0.9916978629831465\n",
      "[0.98938311 0.0071814  0.00153197] 0.9980964833298422\n"
     ]
    },
    {
     "name": "stderr",
     "output_type": "stream",
     "text": [
      "\n",
      "474it [00:39, 12.17it/s]\u001b[A"
     ]
    },
    {
     "name": "stdout",
     "output_type": "stream",
     "text": [
      "[0.99066134 0.00630701 0.00137705] 0.9983453953246131\n",
      "[0.98924839 0.00730557 0.0016847 ] 0.9982386627596851\n",
      "[0.9901411  0.00658309 0.00160174] 0.9983259238131238\n"
     ]
    },
    {
     "name": "stderr",
     "output_type": "stream",
     "text": [
      "\n",
      "476it [00:39, 12.45it/s]\u001b[A\n",
      "478it [00:39, 12.34it/s]\u001b[A"
     ]
    },
    {
     "name": "stdout",
     "output_type": "stream",
     "text": [
      "[0.98924588 0.0072715  0.00184597] 0.9983633571772486\n",
      "[0.98682547 0.00958535 0.00205227] 0.9984630887966496\n",
      "[0.98397208 0.01093218 0.00258973] 0.9974939956758516\n"
     ]
    },
    {
     "name": "stderr",
     "output_type": "stream",
     "text": [
      "\n",
      "480it [00:39, 12.24it/s]\u001b[A"
     ]
    },
    {
     "name": "stdout",
     "output_type": "stream",
     "text": [
      "[0.97633494 0.01657222 0.00393014] 0.9968373063026686\n",
      "[0.97505687 0.01736626 0.00413505] 0.9965581810462032\n",
      "[0.9742005  0.01813741 0.0043173 ] 0.9966552076493935\n"
     ]
    },
    {
     "name": "stderr",
     "output_type": "stream",
     "text": [
      "\n",
      "482it [00:40, 12.40it/s]\u001b[A\n"
     ]
    },
    {
     "name": "stdout",
     "output_type": "stream",
     "text": [
      "[0.98328483 0.01148189 0.00267903] 0.9974457545218536\n",
      "[0.99171231 0.00558552 0.00126724] 0.9985650639098055\n",
      "[0.98886971 0.00742509 0.00173529] 0.9980300925410508\n"
     ]
    },
    {
     "name": "stderr",
     "output_type": "stream",
     "text": [
      "484it [00:40, 12.06it/s]\u001b[A\n",
      "486it [00:40, 12.40it/s]\u001b[A"
     ]
    },
    {
     "name": "stdout",
     "output_type": "stream",
     "text": [
      "[0.9868621  0.00891393 0.00194164] 0.9977176676661224\n",
      "[0.98813152 0.0080758  0.00179906] 0.9980063777012717\n",
      "[0.98652922 0.00898345 0.00219966] 0.997712332201114\n"
     ]
    },
    {
     "name": "stderr",
     "output_type": "stream",
     "text": [
      "\n",
      "488it [00:40, 12.27it/s]\u001b[A\n",
      "490it [00:40, 12.04it/s]\u001b[A"
     ]
    },
    {
     "name": "stdout",
     "output_type": "stream",
     "text": [
      "[0.98360963 0.01127088 0.00265654] 0.9975370509166754\n",
      "[0.98421877 0.01078159 0.00240814] 0.9974085030491733\n",
      "[0.98797071 0.0082038  0.00187896] 0.9980534703783311\n"
     ]
    },
    {
     "name": "stderr",
     "output_type": "stream",
     "text": [
      "\n",
      "492it [00:40, 12.19it/s]\u001b[A"
     ]
    },
    {
     "name": "stdout",
     "output_type": "stream",
     "text": [
      "[0.98493029 0.01047138 0.00218206] 0.9975837228170392\n",
      "[0.97558654 0.0166157  0.0040445 ] 0.9962467410013247\n",
      "[0.97636158 0.01684438 0.00383085] 0.9970368029831126\n"
     ]
    },
    {
     "name": "stderr",
     "output_type": "stream",
     "text": [
      "\n",
      "494it [00:41, 12.02it/s]\u001b[A\n",
      "496it [00:41, 12.15it/s]\u001b[A"
     ]
    },
    {
     "name": "stdout",
     "output_type": "stream",
     "text": [
      "[0.9792875  0.01450529 0.00349822] 0.9972910152407817\n",
      "[0.97968841 0.01387382 0.00343128] 0.9969935123916942\n",
      "[0.98169063 0.01258675 0.00310622] 0.9973836043751906\n"
     ]
    },
    {
     "name": "stderr",
     "output_type": "stream",
     "text": [
      "\n",
      "498it [00:41, 12.46it/s]\u001b[A"
     ]
    },
    {
     "name": "stdout",
     "output_type": "stream",
     "text": [
      "[0.97434058 0.01752106 0.00433124] 0.9961928769989682\n",
      "[0.9745245  0.01795128 0.00424297] 0.9967187481778935\n",
      "[0.97533534 0.01777358 0.00394452] 0.9970534425455091\n"
     ]
    },
    {
     "name": "stderr",
     "output_type": "stream",
     "text": [
      "\n",
      "500it [00:41, 12.32it/s]\u001b[A\n",
      "502it [00:41, 12.22it/s]\u001b[A"
     ]
    },
    {
     "name": "stdout",
     "output_type": "stream",
     "text": [
      "[0.97070944 0.020873   0.00463521] 0.9962176465106203\n",
      "[0.98513793 0.0103124  0.00239902] 0.9978493552701205\n",
      "[0.99197061 0.00548491 0.00121169] 0.9986672121269826\n"
     ]
    },
    {
     "name": "stderr",
     "output_type": "stream",
     "text": [
      "\n",
      "504it [00:41, 12.53it/s]\u001b[A"
     ]
    },
    {
     "name": "stdout",
     "output_type": "stream",
     "text": [
      "[0.98946535 0.0070118  0.00164705] 0.9981241989412102\n",
      "[0.98661484 0.00913846 0.00200974] 0.9977630277111142\n",
      "[0.9773186  0.01581372 0.00351293] 0.9966452431902972\n"
     ]
    },
    {
     "name": "stderr",
     "output_type": "stream",
     "text": [
      "\n",
      "506it [00:42, 12.21it/s]\u001b[A\n",
      "508it [00:42, 12.30it/s]\u001b[A"
     ]
    },
    {
     "name": "stdout",
     "output_type": "stream",
     "text": [
      "[0.97418252 0.01837034 0.0040515 ] 0.996604349751895\n",
      "[0.96783668 0.02264493 0.00531567] 0.9957972789643715\n",
      "[0.9619325  0.02726771 0.00640302] 0.9956032309318746\n"
     ]
    },
    {
     "name": "stderr",
     "output_type": "stream",
     "text": [
      "\n",
      "510it [00:42, 12.22it/s]\u001b[A"
     ]
    },
    {
     "name": "stdout",
     "output_type": "stream",
     "text": [
      "[0.96108499 0.02742538 0.00666636] 0.9951767287759478\n",
      "[0.98414077 0.01098273 0.00253363] 0.9976571201291602\n",
      "[0.98676249 0.00900162 0.00209578] 0.99785988481969\n"
     ]
    },
    {
     "name": "stderr",
     "output_type": "stream",
     "text": [
      "\n",
      "512it [00:42, 12.50it/s]\u001b[A\n",
      "514it [00:42, 12.38it/s]\u001b[A"
     ]
    },
    {
     "name": "stdout",
     "output_type": "stream",
     "text": [
      "[0.98198828 0.01252277 0.00262148] 0.9971325298131909\n",
      "[0.97580623 0.01702665 0.00386777] 0.9967006496379335\n",
      "[0.97604525 0.01684822 0.00404277] 0.9969362348383892\n"
     ]
    },
    {
     "name": "stderr",
     "output_type": "stream",
     "text": [
      "\n",
      "516it [00:42, 12.23it/s]\u001b[A"
     ]
    },
    {
     "name": "stdout",
     "output_type": "stream",
     "text": [
      "[0.97214474 0.01970138 0.00474526] 0.9965913784250261\n",
      "[0.9770938  0.01603631 0.00395867] 0.9970887803768657\n",
      "[0.98592733 0.00970755 0.00228065] 0.9979155242149508\n"
     ]
    },
    {
     "name": "stderr",
     "output_type": "stream",
     "text": [
      "\n",
      "518it [00:43, 11.93it/s]\u001b[A\n",
      "520it [00:43, 12.24it/s]\u001b[A"
     ]
    },
    {
     "name": "stdout",
     "output_type": "stream",
     "text": [
      "[0.99110646 0.00598001 0.00133629] 0.9984227595969197\n",
      "[9.93015785e-01 4.88902870e-03 9.50939566e-04] 0.9988557530192049\n",
      "[0.9845671  0.01005291 0.00233902] 0.9969590264220077\n"
     ]
    },
    {
     "name": "stderr",
     "output_type": "stream",
     "text": [
      "\n",
      "522it [00:43, 12.15it/s]\u001b[A"
     ]
    },
    {
     "name": "stdout",
     "output_type": "stream",
     "text": [
      "[0.99176015 0.00519316 0.001527  ] 0.9984803124658623\n",
      "[0.990426   0.00619087 0.00141205] 0.9980289197652676\n",
      "[0.98908739 0.00719815 0.00162286] 0.9979084041511679\n"
     ]
    },
    {
     "name": "stderr",
     "output_type": "stream",
     "text": [
      "\n",
      "524it [00:43, 12.13it/s]\u001b[A\n",
      "526it [00:43, 12.44it/s]\u001b[A"
     ]
    },
    {
     "name": "stdout",
     "output_type": "stream",
     "text": [
      "[0.98391518 0.01068833 0.00255062] 0.9971541330781077\n",
      "[0.97141401 0.02088071 0.00433537] 0.9966300795806123\n",
      "[0.97406016 0.01897874 0.00385143] 0.9968903257831109\n"
     ]
    },
    {
     "name": "stderr",
     "output_type": "stream",
     "text": [
      "\n",
      "528it [00:43, 12.31it/s]\u001b[A"
     ]
    },
    {
     "name": "stdout",
     "output_type": "stream",
     "text": [
      "[0.98035807 0.01363654 0.00316053] 0.9971551382200758\n",
      "[0.98364722 0.01127359 0.00260124] 0.9975220464965876\n",
      "[0.98266726 0.0118905  0.0027396 ] 0.997297359236733\n"
     ]
    },
    {
     "name": "stderr",
     "output_type": "stream",
     "text": [
      "\n",
      "530it [00:43, 12.21it/s]\u001b[A\n",
      "532it [00:44, 12.15it/s]\u001b[A"
     ]
    },
    {
     "name": "stdout",
     "output_type": "stream",
     "text": [
      "[0.98497905 0.010716   0.00231515] 0.9980102027481472\n",
      "[0.97893121 0.01495729 0.00317772] 0.997066223971036\n",
      "[0.97177296 0.02018274 0.00440079] 0.9963564857491621\n"
     ]
    },
    {
     "name": "stderr",
     "output_type": "stream",
     "text": [
      "\n",
      "534it [00:44, 12.13it/s]\u001b[A"
     ]
    },
    {
     "name": "stdout",
     "output_type": "stream",
     "text": [
      "[0.9630303  0.02729564 0.00573301] 0.9960589533124194\n",
      "[0.9604924  0.02834237 0.00658674] 0.9954215088801199\n",
      "[0.96083819 0.02757238 0.00663408] 0.9950446455563627\n"
     ]
    },
    {
     "name": "stderr",
     "output_type": "stream",
     "text": [
      "\n",
      "536it [00:44, 12.37it/s]\u001b[A\n",
      "538it [00:44, 12.32it/s]\u001b[A"
     ]
    },
    {
     "name": "stdout",
     "output_type": "stream",
     "text": [
      "[0.96348873 0.0260386  0.00616867] 0.995695995562698\n",
      "[0.96712209 0.02331115 0.00515289] 0.9955861261650014\n",
      "[0.97486182 0.01863605 0.00384162] 0.9973394855363436\n"
     ]
    },
    {
     "name": "stderr",
     "output_type": "stream",
     "text": [
      "\n",
      "540it [00:44, 12.16it/s]\u001b[A"
     ]
    },
    {
     "name": "stdout",
     "output_type": "stream",
     "text": [
      "[0.96653275 0.02350167 0.00528825] 0.9953226681423325\n",
      "[0.9638069  0.02599762 0.00608759] 0.9958921085864977\n",
      "[0.9560248  0.03228205 0.00716308] 0.9954699365387112\n"
     ]
    },
    {
     "name": "stderr",
     "output_type": "stream",
     "text": [
      "\n",
      "542it [00:44, 12.21it/s]\u001b[A\n",
      "544it [00:45, 12.10it/s]\u001b[A"
     ]
    },
    {
     "name": "stdout",
     "output_type": "stream",
     "text": [
      "[0.98251156 0.01191942 0.00273764] 0.9971686231816935\n",
      "[0.99095411 0.00617876 0.00134595] 0.9984788296162267\n",
      "[0.98914313 0.00729338 0.00163234] 0.9980688538934448\n"
     ]
    },
    {
     "name": "stderr",
     "output_type": "stream",
     "text": [
      "\n",
      "546it [00:45, 12.47it/s]\u001b[A"
     ]
    },
    {
     "name": "stdout",
     "output_type": "stream",
     "text": [
      "[0.98623193 0.00944018 0.00207841] 0.9977505144385596\n",
      "[0.97182623 0.01967118 0.00470451] 0.9962019157845782\n",
      "[0.96613621 0.02401515 0.00554413] 0.9956954898510131\n"
     ]
    },
    {
     "name": "stderr",
     "output_type": "stream",
     "text": [
      "\n",
      "548it [00:45, 12.33it/s]\u001b[A\n",
      "550it [00:45, 12.22it/s]\u001b[A"
     ]
    },
    {
     "name": "stdout",
     "output_type": "stream",
     "text": [
      "[0.97194498 0.02058125 0.00439637] 0.9969225946575547\n",
      "[0.97671613 0.0164413  0.00374469] 0.9969021182247517\n",
      "[0.98153331 0.01275759 0.00309832] 0.9973892213301085\n"
     ]
    },
    {
     "name": "stderr",
     "output_type": "stream",
     "text": [
      "\n",
      "552it [00:45, 12.11it/s]\u001b[A"
     ]
    },
    {
     "name": "stdout",
     "output_type": "stream",
     "text": [
      "[0.97979452 0.01436096 0.00320425] 0.997359726940881\n",
      "[0.97627534 0.01666956 0.00384898] 0.99679387420487\n",
      "[0.98374101 0.01096034 0.00262316] 0.99732451716438\n"
     ]
    },
    {
     "name": "stderr",
     "output_type": "stream",
     "text": [
      "\n",
      "554it [00:45, 12.51it/s]\u001b[A\n",
      "556it [00:46, 12.28it/s]\u001b[A"
     ]
    },
    {
     "name": "stdout",
     "output_type": "stream",
     "text": [
      "[0.98843322 0.00800076 0.00181273] 0.9982467065152006\n",
      "[0.98725244 0.00866989 0.0020041 ] 0.9979264292456126\n",
      "[0.98837421 0.0078304  0.00180313] 0.9980077345015672\n"
     ]
    },
    {
     "name": "stderr",
     "output_type": "stream",
     "text": [
      "\n",
      "558it [00:46, 12.26it/s]\u001b[A"
     ]
    },
    {
     "name": "stdout",
     "output_type": "stream",
     "text": [
      "[0.98844256 0.00780045 0.001747  ] 0.9979900146827964\n",
      "[0.98782278 0.00811938 0.00195926] 0.9979014243883776\n",
      "[0.98554821 0.00979085 0.00232068] 0.9976597408672024\n"
     ]
    },
    {
     "name": "stderr",
     "output_type": "stream",
     "text": [
      "\n",
      "560it [00:46, 12.57it/s]\u001b[A\n",
      "562it [00:46, 12.39it/s]\u001b[A"
     ]
    },
    {
     "name": "stdout",
     "output_type": "stream",
     "text": [
      "[0.9893304  0.00710035 0.00161589] 0.998046647447131\n",
      "[0.98961829 0.00699866 0.00157304] 0.9981899814265454\n",
      "[0.98426661 0.01052965 0.00256207] 0.9973583229593479\n"
     ]
    },
    {
     "name": "stderr",
     "output_type": "stream",
     "text": [
      "\n",
      "564it [00:46, 12.11it/s]\u001b[A"
     ]
    },
    {
     "name": "stdout",
     "output_type": "stream",
     "text": [
      "[0.9745597  0.01784123 0.00418345] 0.9965843839717945\n",
      "[0.97456123 0.01802724 0.00408028] 0.9966687442319401\n",
      "[0.97654839 0.01706989 0.00367826] 0.9972965420947668\n"
     ]
    },
    {
     "name": "stderr",
     "output_type": "stream",
     "text": [
      "\n",
      "566it [00:46, 12.24it/s]\u001b[A\n",
      "568it [00:47, 12.42it/s]\u001b[A"
     ]
    },
    {
     "name": "stdout",
     "output_type": "stream",
     "text": [
      "[0.97606424 0.01681673 0.00371876] 0.9965997354552049\n",
      "[0.98656832 0.00925802 0.00205803] 0.9978843798775626\n",
      "[0.98570061 0.00991443 0.00212741] 0.9977424404178207\n"
     ]
    },
    {
     "name": "stderr",
     "output_type": "stream",
     "text": [
      "\n",
      "570it [00:47, 12.42it/s]\u001b[A"
     ]
    },
    {
     "name": "stdout",
     "output_type": "stream",
     "text": [
      "[0.97845258 0.01447087 0.00338606] 0.9963095056730703\n",
      "[0.98047241 0.0137573  0.00313045] 0.9973601557167903\n",
      "[0.97943929 0.01449339 0.00314582] 0.997078495928855\n"
     ]
    },
    {
     "name": "stderr",
     "output_type": "stream",
     "text": [
      "\n",
      "572it [00:47, 12.25it/s]\u001b[A\n",
      "574it [00:47, 12.20it/s]\u001b[A"
     ]
    },
    {
     "name": "stdout",
     "output_type": "stream",
     "text": [
      "[0.97330787 0.01863049 0.00436037] 0.9962987296866089\n",
      "[0.96349265 0.02613778 0.00625238] 0.9958828162698676\n",
      "[0.98247962 0.01240852 0.00268469] 0.9975728259781843\n"
     ]
    },
    {
     "name": "stderr",
     "output_type": "stream",
     "text": [
      "\n",
      "576it [00:47, 12.16it/s]\u001b[A"
     ]
    },
    {
     "name": "stdout",
     "output_type": "stream",
     "text": [
      "[0.98769571 0.00857431 0.00176564] 0.9980356625451783\n",
      "[0.98663578 0.00937548 0.0018567 ] 0.9978679661750377\n",
      "[0.98246235 0.01237653 0.00256734] 0.9974062161066604\n"
     ]
    },
    {
     "name": "stderr",
     "output_type": "stream",
     "text": [
      "\n",
      "578it [00:47, 12.13it/s]\u001b[A\n",
      "580it [00:48, 12.32it/s]\u001b[A"
     ]
    },
    {
     "name": "stdout",
     "output_type": "stream",
     "text": [
      "[0.98539916 0.01032098 0.00221822] 0.9979383593000506\n",
      "[0.99035713 0.0067337  0.00134882] 0.998439649788852\n",
      "[0.98926339 0.00718799 0.00165874] 0.9981101122575223\n"
     ]
    },
    {
     "name": "stderr",
     "output_type": "stream",
     "text": [
      "\n",
      "582it [00:48, 12.34it/s]\u001b[A"
     ]
    },
    {
     "name": "stdout",
     "output_type": "stream",
     "text": [
      "[0.98851879 0.00783314 0.00172065] 0.998072584586431\n",
      "[0.9882959  0.00806221 0.00182389] 0.9981819981660413\n",
      "[0.98156793 0.01304845 0.00295977] 0.9975761526123447\n"
     ]
    },
    {
     "name": "stderr",
     "output_type": "stream",
     "text": [
      "\n",
      "584it [00:48, 12.24it/s]\u001b[A\n",
      "586it [00:48, 12.17it/s]\u001b[A"
     ]
    },
    {
     "name": "stdout",
     "output_type": "stream",
     "text": [
      "[0.96352014 0.02600231 0.00616613] 0.9956885759656872\n",
      "[0.96333478 0.02615176 0.00613129] 0.9956178254189022\n",
      "[0.95660357 0.03143394 0.00571843] 0.9937559399375407\n"
     ]
    },
    {
     "name": "stderr",
     "output_type": "stream",
     "text": [
      "\n",
      "588it [00:48, 12.12it/s]\u001b[A"
     ]
    },
    {
     "name": "stdout",
     "output_type": "stream",
     "text": [
      "[0.97527746 0.01930051 0.00297455] 0.9975525147715459\n",
      "[0.9751529  0.01946486 0.00297572] 0.9975934729938907\n",
      "[0.96085238 0.0277317  0.00607806] 0.9946621369796355\n"
     ]
    },
    {
     "name": "stderr",
     "output_type": "stream",
     "text": [
      "\n",
      "590it [00:48, 12.08it/s]\u001b[A\n",
      "592it [00:49, 11.95it/s]\u001b[A"
     ]
    },
    {
     "name": "stdout",
     "output_type": "stream",
     "text": [
      "[0.98663485 0.00910775 0.00199428] 0.9977368774864014\n",
      "[0.99091222 0.00597067 0.00139661] 0.9982795064906161\n",
      "[0.97618101 0.01566778 0.00440041] 0.9962492024238152\n"
     ]
    },
    {
     "name": "stderr",
     "output_type": "stream",
     "text": [
      "\n",
      "594it [00:49, 12.08it/s]\u001b[A"
     ]
    },
    {
     "name": "stdout",
     "output_type": "stream",
     "text": [
      "[0.97819163 0.01453127 0.00405921] 0.9967821089104317\n",
      "[0.97848196 0.01451335 0.00395062] 0.9969459307017662\n",
      "[0.97814376 0.01511748 0.00393074] 0.9971919822993782\n"
     ]
    },
    {
     "name": "stderr",
     "output_type": "stream",
     "text": [
      "\n",
      "596it [00:49, 12.05it/s]\u001b[A\n",
      "598it [00:49, 12.02it/s]\u001b[A"
     ]
    },
    {
     "name": "stdout",
     "output_type": "stream",
     "text": [
      "[0.97933669 0.0138691  0.00367982] 0.9968856151820498\n",
      "[0.97767688 0.01510677 0.00405504] 0.9968386897204694\n",
      "[0.97126459 0.01980371 0.00502745] 0.996095745320206\n"
     ]
    },
    {
     "name": "stderr",
     "output_type": "stream",
     "text": [
      "\n",
      "600it [00:49, 12.04it/s]\u001b[A"
     ]
    },
    {
     "name": "stdout",
     "output_type": "stream",
     "text": [
      "[0.96363225 0.0256261  0.00659235] 0.9958506992634866\n",
      "[0.94636885 0.03770399 0.00965751] 0.9937303469843888\n",
      "[0.95705912 0.0298594  0.0077699 ] 0.994688423614519\n"
     ]
    },
    {
     "name": "stderr",
     "output_type": "stream",
     "text": [
      "\n",
      "602it [00:49, 11.98it/s]\u001b[A\n",
      "604it [00:50, 11.92it/s]\u001b[A"
     ]
    },
    {
     "name": "stdout",
     "output_type": "stream",
     "text": [
      "[0.96800777 0.0221293  0.00558017] 0.9957172422516393\n",
      "[0.97283535 0.01892163 0.00473463] 0.9964916074712122\n",
      "[0.97892142 0.014765   0.00367792] 0.9973643382930819\n"
     ]
    },
    {
     "name": "stderr",
     "output_type": "stream",
     "text": [
      "\n",
      "606it [00:50, 12.06it/s]\u001b[A"
     ]
    },
    {
     "name": "stdout",
     "output_type": "stream",
     "text": [
      "[0.97326122 0.0182181  0.00476588] 0.9962452042915629\n",
      "[0.95894093 0.02793365 0.00730194] 0.9941765230804277\n",
      "[0.96472255 0.02478433 0.00650595] 0.9960128281579091\n"
     ]
    },
    {
     "name": "stderr",
     "output_type": "stream",
     "text": [
      "\n",
      "608it [00:50, 12.04it/s]\u001b[A\n",
      "610it [00:50, 12.03it/s]\u001b[A"
     ]
    },
    {
     "name": "stdout",
     "output_type": "stream",
     "text": [
      "[0.95450567 0.03213285 0.00840605] 0.9950445645067073\n",
      "[0.95194426 0.03379199 0.00885788] 0.9945941318992467\n",
      "[0.97086629 0.02000954 0.00527126] 0.9961470930622645\n"
     ]
    },
    {
     "name": "stderr",
     "output_type": "stream",
     "text": [
      "\n",
      "612it [00:50, 12.03it/s]\u001b[A"
     ]
    },
    {
     "name": "stdout",
     "output_type": "stream",
     "text": [
      "[0.97479779 0.01727034 0.00465982] 0.9967279539010069\n",
      "[0.96421476 0.02405068 0.00675588] 0.9950213242848018\n",
      "[0.948084   0.03606184 0.01002574] 0.9941715847195995\n"
     ]
    },
    {
     "name": "stderr",
     "output_type": "stream",
     "text": [
      "\n",
      "614it [00:50, 12.00it/s]\u001b[A\n",
      "616it [00:51, 11.91it/s]\u001b[A"
     ]
    },
    {
     "name": "stdout",
     "output_type": "stream",
     "text": [
      "[0.95798329 0.02935287 0.00787385] 0.9952100102408024\n",
      "[0.96861667 0.02178199 0.00594574] 0.9963444039741404\n",
      "[0.96454253 0.02449126 0.00667681] 0.9957105977668622\n"
     ]
    },
    {
     "name": "stderr",
     "output_type": "stream",
     "text": [
      "\n",
      "618it [00:51, 11.72it/s]\u001b[A"
     ]
    },
    {
     "name": "stdout",
     "output_type": "stream",
     "text": [
      "[0.96283796 0.0255601  0.00671138] 0.9951094430893681\n",
      "[0.98351705 0.01087266 0.00274242] 0.9971321313376064\n",
      "[0.98884816 0.00762113 0.00192102] 0.998390310316618\n"
     ]
    },
    {
     "name": "stderr",
     "output_type": "stream",
     "text": [
      "\n",
      "620it [00:51, 11.78it/s]\u001b[A\n",
      "622it [00:51, 11.85it/s]\u001b[A"
     ]
    },
    {
     "name": "stdout",
     "output_type": "stream",
     "text": [
      "[0.97434387 0.01681314 0.00421475] 0.9953717601363565\n",
      "[0.97379539 0.01798368 0.00427356] 0.996052630749417\n",
      "[0.98247289 0.01242503 0.00297382] 0.9978717453098166\n"
     ]
    },
    {
     "name": "stderr",
     "output_type": "stream",
     "text": [
      "\n",
      "624it [00:51, 11.88it/s]\u001b[A"
     ]
    },
    {
     "name": "stdout",
     "output_type": "stream",
     "text": [
      "[0.98753944 0.00852577 0.00179037] 0.9978555810822869\n",
      "[9.92172567e-01 5.76734476e-03 9.11276353e-04] 0.9988511883258422\n",
      "[9.91315596e-01 6.52260715e-03 9.52477623e-04] 0.9987906807262626\n"
     ]
    },
    {
     "name": "stderr",
     "output_type": "stream",
     "text": [
      "\n",
      "626it [00:51, 11.93it/s]\u001b[A\n",
      "628it [00:52, 11.82it/s]\u001b[A"
     ]
    },
    {
     "name": "stdout",
     "output_type": "stream",
     "text": [
      "[0.98716472 0.00885418 0.00196644] 0.9979853301351831\n",
      "[0.97762347 0.01557133 0.00366682] 0.9968616166865907\n",
      "[0.97525064 0.0173656  0.00445677] 0.9970730133445963\n"
     ]
    },
    {
     "name": "stderr",
     "output_type": "stream",
     "text": [
      "\n",
      "630it [00:52, 12.00it/s]\u001b[A"
     ]
    },
    {
     "name": "stdout",
     "output_type": "stream",
     "text": [
      "[0.96349253 0.02582543 0.00596378] 0.9952817411774644\n",
      "[0.97526873 0.0179121  0.00409353] 0.9972743658647034\n",
      "[0.98571217 0.00956903 0.0022457 ] 0.9975268915112661\n"
     ]
    },
    {
     "name": "stderr",
     "output_type": "stream",
     "text": [
      "\n",
      "632it [00:52, 12.01it/s]\u001b[A\n",
      "634it [00:52, 12.34it/s]\u001b[A"
     ]
    },
    {
     "name": "stdout",
     "output_type": "stream",
     "text": [
      "[0.99211693 0.00538488 0.00115692] 0.9986587339709972\n",
      "[0.99209108 0.00535748 0.00129551] 0.998744069975811\n",
      "[0.98319203 0.01142474 0.00248626] 0.9971030213289246\n"
     ]
    },
    {
     "name": "stderr",
     "output_type": "stream",
     "text": [
      "\n",
      "636it [00:52, 12.27it/s]\u001b[A"
     ]
    },
    {
     "name": "stdout",
     "output_type": "stream",
     "text": [
      "[0.98099958 0.01316159 0.00315557] 0.9973167404498773\n",
      "[0.97987956 0.01373021 0.00352257] 0.9971323317284717\n",
      "[0.97825574 0.0151816  0.00372641] 0.9971637532375768\n"
     ]
    },
    {
     "name": "stderr",
     "output_type": "stream",
     "text": [
      "\n",
      "638it [00:52, 12.17it/s]\u001b[A\n",
      "640it [00:53, 12.02it/s]\u001b[A"
     ]
    },
    {
     "name": "stdout",
     "output_type": "stream",
     "text": [
      "[0.9727599  0.01905108 0.00464344] 0.9964544179655884\n",
      "[0.95649421 0.03047068 0.00779602] 0.9947608991937409\n",
      "[0.96190778 0.02727888 0.00676131] 0.9959479666309743\n"
     ]
    },
    {
     "name": "stderr",
     "output_type": "stream",
     "text": [
      "\n",
      "642it [00:53, 11.80it/s]\u001b[A"
     ]
    },
    {
     "name": "stdout",
     "output_type": "stream",
     "text": [
      "[0.9561619  0.03041378 0.00781878] 0.9943944536713439\n",
      "[0.94228064 0.0416347  0.01032331] 0.9942386574911188\n",
      "[0.95489188 0.03263885 0.00807164] 0.9956023718761752\n"
     ]
    },
    {
     "name": "stderr",
     "output_type": "stream",
     "text": [
      "\n",
      "644it [00:53, 12.20it/s]\u001b[A\n",
      "646it [00:53, 12.14it/s]\u001b[A"
     ]
    },
    {
     "name": "stdout",
     "output_type": "stream",
     "text": [
      "[0.9605354  0.02825787 0.00700146] 0.995794733959311\n",
      "[0.95892654 0.02882993 0.00740493] 0.9951613943879094\n",
      "[0.97794848 0.0152688  0.00379358] 0.9970108557273702\n"
     ]
    },
    {
     "name": "stderr",
     "output_type": "stream",
     "text": [
      "\n",
      "648it [00:53, 12.10it/s]\u001b[A"
     ]
    },
    {
     "name": "stdout",
     "output_type": "stream",
     "text": [
      "[0.98086806 0.01305497 0.00349966] 0.9974226860920644\n",
      "[0.97654495 0.01597047 0.00421503] 0.9967304478035439\n",
      "[0.97335579 0.01822525 0.00486265] 0.9964436838470322\n"
     ]
    },
    {
     "name": "stderr",
     "output_type": "stream",
     "text": [
      "\n",
      "650it [00:53, 11.74it/s]\u001b[A\n",
      "652it [00:54, 12.04it/s]\u001b[A"
     ]
    },
    {
     "name": "stdout",
     "output_type": "stream",
     "text": [
      "[0.97353849 0.01854409 0.00463316] 0.9967157411848727\n",
      "[0.96248217 0.02561499 0.00664102] 0.994738167420313\n",
      "[0.96893486 0.02180581 0.00525048] 0.9959911476917911\n"
     ]
    },
    {
     "name": "stderr",
     "output_type": "stream",
     "text": [
      "\n",
      "654it [00:54, 12.14it/s]\u001b[A"
     ]
    },
    {
     "name": "stdout",
     "output_type": "stream",
     "text": [
      "[0.97020705 0.0210843  0.00509375] 0.9963850929143557\n",
      "[0.98659464 0.00870379 0.00219779] 0.9974962259915889\n",
      "[0.99249332 0.00497418 0.00128057] 0.9987480684247247\n"
     ]
    },
    {
     "name": "stderr",
     "output_type": "stream",
     "text": [
      "\n",
      "656it [00:54, 12.10it/s]\u001b[A\n",
      "658it [00:54, 12.07it/s]\u001b[A"
     ]
    },
    {
     "name": "stdout",
     "output_type": "stream",
     "text": [
      "[0.98986622 0.00635698 0.00178779] 0.9980109930765036\n",
      "[0.98843307 0.00737372 0.00217419] 0.9979809855102492\n",
      "[0.97847513 0.0144679  0.00404879] 0.9969918217314124\n"
     ]
    },
    {
     "name": "stderr",
     "output_type": "stream",
     "text": [
      "\n",
      "660it [00:54, 12.05it/s]\u001b[A"
     ]
    },
    {
     "name": "stdout",
     "output_type": "stream",
     "text": [
      "[0.95627441 0.03083435 0.00807369] 0.9951824534410092\n",
      "[0.94180692 0.03993382 0.01025308] 0.9919938159217336\n",
      "[0.96201742 0.02773468 0.00656989] 0.9963219885255981\n"
     ]
    },
    {
     "name": "stderr",
     "output_type": "stream",
     "text": [
      "\n",
      "662it [00:54, 12.01it/s]\u001b[A\n",
      "664it [00:55, 11.92it/s]\u001b[A"
     ]
    },
    {
     "name": "stdout",
     "output_type": "stream",
     "text": [
      "[0.96813307 0.02326433 0.00492615] 0.996323560961597\n",
      "[0.97595239 0.01768343 0.00378226] 0.9974180730128585\n",
      "[0.96899271 0.02175684 0.00492009] 0.9956696436991214\n"
     ]
    },
    {
     "name": "stderr",
     "output_type": "stream",
     "text": [
      "\n",
      "666it [00:55, 12.06it/s]\u001b[A"
     ]
    },
    {
     "name": "stdout",
     "output_type": "stream",
     "text": [
      "[0.96399127 0.02478171 0.00616084] 0.9949338122012535\n",
      "[0.97092078 0.02036739 0.00521977] 0.9965079411507343\n",
      "[0.96895012 0.02147475 0.00528333] 0.9957082073150572\n"
     ]
    },
    {
     "name": "stderr",
     "output_type": "stream",
     "text": [
      "\n",
      "668it [00:55, 12.04it/s]\u001b[A\n",
      "670it [00:55, 12.06it/s]\u001b[A"
     ]
    },
    {
     "name": "stdout",
     "output_type": "stream",
     "text": [
      "[0.97505185 0.01702057 0.00441191] 0.9964843282904596\n",
      "[0.97535703 0.01698917 0.00426958] 0.9966157804099627\n",
      "[0.96992774 0.02057234 0.00519917] 0.9956992520647674\n"
     ]
    },
    {
     "name": "stderr",
     "output_type": "stream",
     "text": [
      "\n",
      "672it [00:55, 12.39it/s]\u001b[A"
     ]
    },
    {
     "name": "stdout",
     "output_type": "stream",
     "text": [
      "[0.97262216 0.01876337 0.00475844] 0.9961439752780689\n",
      "[0.9736456  0.0182204  0.00461045] 0.9964764501419122\n",
      "[0.96874034 0.02191068 0.0053959 ] 0.996046930094639\n"
     ]
    },
    {
     "name": "stderr",
     "output_type": "stream",
     "text": [
      "\n",
      "674it [00:55, 12.27it/s]\u001b[A\n",
      "676it [00:56, 12.01it/s]\u001b[A"
     ]
    },
    {
     "name": "stdout",
     "output_type": "stream",
     "text": [
      "[0.96308188 0.02615849 0.00653703] 0.9957774037487787\n",
      "[0.9584223  0.02925529 0.00736213] 0.9950397268706199\n",
      "[0.96586342 0.02414217 0.00609714] 0.9961027274611737\n"
     ]
    },
    {
     "name": "stderr",
     "output_type": "stream",
     "text": [
      "\n",
      "678it [00:56, 12.19it/s]\u001b[A"
     ]
    },
    {
     "name": "stdout",
     "output_type": "stream",
     "text": [
      "[0.9788399  0.01439288 0.00387218] 0.9971049603149367\n",
      "[0.98060621 0.01332016 0.00340305] 0.9973294239705737\n",
      "[0.97800231 0.01519525 0.00378548] 0.9969830327079601\n"
     ]
    },
    {
     "name": "stderr",
     "output_type": "stream",
     "text": [
      "\n",
      "680it [00:56, 12.13it/s]\u001b[A\n",
      "682it [00:56, 12.09it/s]\u001b[A"
     ]
    },
    {
     "name": "stdout",
     "output_type": "stream",
     "text": [
      "[0.976391   0.01651828 0.00421671] 0.997125989701301\n",
      "[0.95700199 0.02821626 0.00734917] 0.9925674186046283\n",
      "[0.99213809 0.00546511 0.00119383] 0.9987970185831297\n"
     ]
    },
    {
     "name": "stderr",
     "output_type": "stream",
     "text": [
      "\n",
      "684it [00:56, 12.07it/s]\u001b[A"
     ]
    },
    {
     "name": "stdout",
     "output_type": "stream",
     "text": [
      "[0.99149439 0.00567783 0.00134596] 0.9985181833236365\n",
      "[0.98975757 0.00650834 0.00188235] 0.9981482649295994\n",
      "[0.97297818 0.01865575 0.00450354] 0.9961374809649317\n"
     ]
    },
    {
     "name": "stderr",
     "output_type": "stream",
     "text": [
      "\n",
      "686it [00:56, 11.98it/s]\u001b[A\n",
      "688it [00:57, 11.92it/s]\u001b[A"
     ]
    },
    {
     "name": "stdout",
     "output_type": "stream",
     "text": [
      "[0.97192325 0.02000862 0.00470392] 0.9966357882127396\n",
      "[0.98320754 0.01148838 0.00278621] 0.9974821289477235\n",
      "[0.98610077 0.0095655  0.00238353] 0.9980497951830792\n"
     ]
    },
    {
     "name": "stderr",
     "output_type": "stream",
     "text": [
      "\n",
      "690it [00:57, 12.08it/s]\u001b[A"
     ]
    },
    {
     "name": "stdout",
     "output_type": "stream",
     "text": [
      "[0.97974476 0.01368026 0.00339109] 0.9968161164931223\n",
      "[0.96772345 0.02199046 0.00577982] 0.9954937321930717\n",
      "[0.96547335 0.02402737 0.00614069] 0.9956414074629604\n"
     ]
    },
    {
     "name": "stderr",
     "output_type": "stream",
     "text": [
      "\n",
      "692it [00:57, 12.06it/s]\u001b[A\n",
      "694it [00:57, 12.04it/s]\u001b[A"
     ]
    },
    {
     "name": "stdout",
     "output_type": "stream",
     "text": [
      "[0.9662432  0.02405939 0.00595928] 0.996261865243087\n",
      "[0.96424904 0.02532223 0.00630069] 0.9958719724250958\n",
      "[0.96385268 0.02512648 0.00648447] 0.9954636332767905\n"
     ]
    },
    {
     "name": "stderr",
     "output_type": "stream",
     "text": [
      "\n",
      "696it [00:57, 12.03it/s]\u001b[A"
     ]
    },
    {
     "name": "stdout",
     "output_type": "stream",
     "text": [
      "[0.96831674 0.02229483 0.00576401] 0.9963755773734826\n",
      "[0.96508431 0.02388714 0.00645753] 0.9954289845721319\n",
      "[0.95915531 0.029216   0.0072478 ] 0.9956191102982835\n"
     ]
    },
    {
     "name": "stderr",
     "output_type": "stream",
     "text": [
      "\n",
      "698it [00:57, 12.01it/s]\u001b[A\n",
      "700it [00:58, 11.88it/s]\u001b[A"
     ]
    },
    {
     "name": "stdout",
     "output_type": "stream",
     "text": [
      "[0.95943433 0.02908692 0.00720147] 0.9957227270359124\n",
      "[0.96274879 0.02723065 0.00647306] 0.9964524940666363\n",
      "[0.96233541 0.02615285 0.00692738] 0.9954156371125589\n"
     ]
    },
    {
     "name": "stderr",
     "output_type": "stream",
     "text": [
      "\n",
      "702it [00:58, 12.06it/s]\u001b[A"
     ]
    },
    {
     "name": "stdout",
     "output_type": "stream",
     "text": [
      "[0.96312508 0.02520017 0.0068335 ] 0.9951587414193478\n",
      "[0.96902421 0.02165795 0.00560177] 0.9962839237180965\n",
      "[0.96482057 0.02475775 0.00621247] 0.9957907886180583\n"
     ]
    },
    {
     "name": "stderr",
     "output_type": "stream",
     "text": [
      "\n",
      "704it [00:58, 11.71it/s]\u001b[A\n",
      "706it [00:58, 12.13it/s]\u001b[A"
     ]
    },
    {
     "name": "stdout",
     "output_type": "stream",
     "text": [
      "[0.95773481 0.02986843 0.00765039] 0.9952536255575029\n",
      "[0.97236369 0.01939391 0.00489783] 0.996655427200423\n",
      "[0.97174296 0.0197481  0.00510252] 0.9965935799040194\n"
     ]
    },
    {
     "name": "stderr",
     "output_type": "stream",
     "text": [
      "\n",
      "708it [00:58, 11.76it/s]\u001b[A"
     ]
    },
    {
     "name": "stdout",
     "output_type": "stream",
     "text": [
      "[0.96486008 0.02463284 0.00620897] 0.9957018909373281\n",
      "[0.96526591 0.02457969 0.00607343] 0.9959190234150532\n",
      "[0.96524224 0.02450199 0.00614199] 0.9958862172299415\n"
     ]
    },
    {
     "name": "stderr",
     "output_type": "stream",
     "text": [
      "\n",
      "710it [00:58, 12.10it/s]\u001b[A\n",
      "712it [00:59, 12.00it/s]\u001b[A"
     ]
    },
    {
     "name": "stdout",
     "output_type": "stream",
     "text": [
      "[0.959159   0.02946693 0.00705761] 0.9956835459723415\n",
      "[0.95596026 0.03181701 0.00769355] 0.9954708182379683\n",
      "[0.95883018 0.02876582 0.00754023] 0.9951362316266129\n"
     ]
    },
    {
     "name": "stderr",
     "output_type": "stream",
     "text": [
      "\n",
      "714it [00:59, 11.81it/s]\u001b[A"
     ]
    },
    {
     "name": "stdout",
     "output_type": "stream",
     "text": [
      "[0.96453421 0.02485937 0.00647186] 0.9958654509622799\n",
      "[0.97680513 0.01564375 0.0042883 ] 0.9967371912600649\n",
      "[0.9827751  0.01163054 0.00318946] 0.9975950998303978\n"
     ]
    },
    {
     "name": "stderr",
     "output_type": "stream",
     "text": [
      "\n",
      "716it [00:59, 12.20it/s]\u001b[A\n",
      "718it [00:59, 12.14it/s]\u001b[A"
     ]
    },
    {
     "name": "stdout",
     "output_type": "stream",
     "text": [
      "[0.98324469 0.01108501 0.00320144] 0.997531140385395\n",
      "[0.97322871 0.01809297 0.0050991 ] 0.9964207810216312\n",
      "[0.95306988 0.03280888 0.00894627] 0.9948250271592147\n"
     ]
    },
    {
     "name": "stderr",
     "output_type": "stream",
     "text": [
      "\n",
      "720it [00:59, 12.09it/s]\u001b[A"
     ]
    },
    {
     "name": "stdout",
     "output_type": "stream",
     "text": [
      "[0.94582381 0.03781255 0.00989842] 0.9935347774839204\n",
      "[0.9541354  0.03281373 0.00854049] 0.9954896223104229\n",
      "[0.96127581 0.02746724 0.00696707] 0.9957101232215618\n"
     ]
    },
    {
     "name": "stderr",
     "output_type": "stream",
     "text": [
      "\n",
      "722it [00:59, 12.07it/s]\u001b[A\n",
      "724it [01:00, 12.26it/s]\u001b[A"
     ]
    },
    {
     "name": "stdout",
     "output_type": "stream",
     "text": [
      "[0.96632273 0.02368213 0.00602136] 0.9960262174305512\n",
      "[0.97581021 0.01658449 0.00435399] 0.9967486939088596\n",
      "[0.97705252 0.01558431 0.00402403] 0.9966608597325389\n"
     ]
    },
    {
     "name": "stderr",
     "output_type": "stream",
     "text": [
      "\n",
      "726it [01:00, 11.98it/s]\u001b[A"
     ]
    },
    {
     "name": "stdout",
     "output_type": "stream",
     "text": [
      "[0.97854673 0.01486218 0.00366865] 0.9970775578752401\n",
      "[0.97157119 0.01964207 0.00502197] 0.996235227755722\n",
      "[0.97096512 0.02007095 0.0053555 ] 0.9963915803738428\n"
     ]
    },
    {
     "name": "stderr",
     "output_type": "stream",
     "text": [
      "\n",
      "728it [01:00, 12.01it/s]\u001b[A\n",
      "730it [01:00, 12.35it/s]\u001b[A"
     ]
    },
    {
     "name": "stdout",
     "output_type": "stream",
     "text": [
      "[0.96702268 0.02336444 0.00614251] 0.9965296307744482\n",
      "[0.97372023 0.01790474 0.00487391] 0.9964988912511477\n",
      "[0.97872899 0.01479539 0.00370276] 0.9972271448875341\n"
     ]
    },
    {
     "name": "stderr",
     "output_type": "stream",
     "text": [
      "\n",
      "732it [01:00, 12.25it/s]\u001b[A"
     ]
    },
    {
     "name": "stdout",
     "output_type": "stream",
     "text": [
      "[0.97776338 0.01520182 0.00388968] 0.9968548740695111\n",
      "[0.97556361 0.01678188 0.00418242] 0.9965279135307029\n",
      "[0.98258955 0.01243478 0.00267949] 0.9977038215522256\n"
     ]
    },
    {
     "name": "stderr",
     "output_type": "stream",
     "text": [
      "\n",
      "734it [01:00, 12.06it/s]\u001b[A\n",
      "736it [01:01, 11.99it/s]\u001b[A"
     ]
    },
    {
     "name": "stdout",
     "output_type": "stream",
     "text": [
      "[0.9817399  0.01273551 0.00295997] 0.9974353887445105\n",
      "[0.97585329 0.01619535 0.00386026] 0.9959088978872074\n",
      "[0.98127537 0.01320898 0.00301569] 0.9975000300779322\n"
     ]
    },
    {
     "name": "stderr",
     "output_type": "stream",
     "text": [
      "\n",
      "738it [01:01, 12.16it/s]\u001b[A"
     ]
    },
    {
     "name": "stdout",
     "output_type": "stream",
     "text": [
      "[0.97459876 0.01718351 0.00429666] 0.996078931167552\n",
      "[0.97525926 0.01704994 0.00439696] 0.9967061569128965\n",
      "[0.97028794 0.0205113  0.00544523] 0.9962444653174677\n"
     ]
    },
    {
     "name": "stderr",
     "output_type": "stream",
     "text": [
      "\n",
      "740it [01:01, 12.11it/s]\u001b[A\n",
      "742it [01:01, 12.08it/s]\u001b[A"
     ]
    },
    {
     "name": "stdout",
     "output_type": "stream",
     "text": [
      "[0.96495729 0.02429942 0.00637749] 0.9956342051676262\n",
      "[0.96180625 0.02692202 0.00675006] 0.9954783317060734\n",
      "[0.96523426 0.02494417 0.00595612] 0.9961345574959419\n"
     ]
    },
    {
     "name": "stderr",
     "output_type": "stream",
     "text": [
      "\n",
      "744it [01:01, 12.06it/s]\u001b[A"
     ]
    },
    {
     "name": "stdout",
     "output_type": "stream",
     "text": [
      "[0.96430062 0.02492961 0.00635356] 0.9955837885744134\n",
      "[0.96600646 0.02390624 0.00594521] 0.995857902032847\n",
      "[0.96775109 0.02259382 0.00594001] 0.9962849204882551\n"
     ]
    },
    {
     "name": "stderr",
     "output_type": "stream",
     "text": [
      "\n",
      "746it [01:01, 12.04it/s]\u001b[A\n",
      "748it [01:02, 11.87it/s]\u001b[A"
     ]
    },
    {
     "name": "stdout",
     "output_type": "stream",
     "text": [
      "[0.96176057 0.0267639  0.00697851] 0.9955029806627342\n",
      "[0.95821545 0.02953644 0.00765623] 0.9954081067734677\n",
      "[0.95107099 0.03550885 0.00862663] 0.9952064610892087\n"
     ]
    },
    {
     "name": "stderr",
     "output_type": "stream",
     "text": [
      "\n",
      "750it [01:02, 12.07it/s]\u001b[A"
     ]
    },
    {
     "name": "stdout",
     "output_type": "stream",
     "text": [
      "[0.94897659 0.03708558 0.00891555] 0.9949777192172713\n",
      "[0.94353826 0.0415414  0.00982825] 0.9949079114995552\n",
      "[0.94370717 0.04067303 0.01000258] 0.9943827832415302\n"
     ]
    },
    {
     "name": "stderr",
     "output_type": "stream",
     "text": [
      "\n",
      "752it [01:02, 12.04it/s]\u001b[A\n",
      "754it [01:02, 12.04it/s]\u001b[A"
     ]
    },
    {
     "name": "stdout",
     "output_type": "stream",
     "text": [
      "[0.95268795 0.03332204 0.0084184 ] 0.9944283864395075\n",
      "[0.95937163 0.02925076 0.00713508] 0.9957574679046785\n",
      "[0.95497013 0.03159235 0.00790039] 0.994462874671313\n"
     ]
    },
    {
     "name": "stderr",
     "output_type": "stream",
     "text": [
      "\n",
      "756it [01:02, 12.03it/s]\u001b[A"
     ]
    },
    {
     "name": "stdout",
     "output_type": "stream",
     "text": [
      "[0.95350211 0.03354404 0.00811307] 0.9951592249782011\n",
      "[0.95186496 0.03479091 0.00852426] 0.9951801309348492\n",
      "[0.94315373 0.03975968 0.01043744] 0.9933508458379597\n"
     ]
    },
    {
     "name": "stderr",
     "output_type": "stream",
     "text": [
      "\n",
      "758it [01:02, 11.89it/s]\u001b[A\n",
      "760it [01:03, 11.90it/s]\u001b[A"
     ]
    },
    {
     "name": "stdout",
     "output_type": "stream",
     "text": [
      "[0.94173783 0.0414557  0.01069246] 0.9938859965083799\n",
      "[0.94282549 0.04152925 0.01009947] 0.9944542089861608\n",
      "[0.94640443 0.03838438 0.0095611 ] 0.9943499163768221\n"
     ]
    },
    {
     "name": "stderr",
     "output_type": "stream",
     "text": [
      "\n",
      "762it [01:03, 12.09it/s]\u001b[A"
     ]
    },
    {
     "name": "stdout",
     "output_type": "stream",
     "text": [
      "[0.95809802 0.0300151  0.00741958] 0.9955327042769438\n",
      "[0.96423734 0.02522133 0.00649486] 0.9959535360698847\n",
      "[0.95189238 0.03408889 0.00870905] 0.9946903219230432\n"
     ]
    },
    {
     "name": "stderr",
     "output_type": "stream",
     "text": [
      "\n",
      "764it [01:03, 12.06it/s]\u001b[A\n",
      "766it [01:03, 12.05it/s]\u001b[A"
     ]
    },
    {
     "name": "stdout",
     "output_type": "stream",
     "text": [
      "[0.95134645 0.03440292 0.00888328] 0.9946326467102004\n",
      "[0.95136815 0.03446666 0.00869958] 0.9945343876371947\n",
      "[0.97394887 0.01843688 0.00438128] 0.9967670282108433\n"
     ]
    },
    {
     "name": "stderr",
     "output_type": "stream",
     "text": [
      "\n",
      "768it [01:03, 12.05it/s]\u001b[A"
     ]
    },
    {
     "name": "stdout",
     "output_type": "stream",
     "text": [
      "[0.97745002 0.01594384 0.00392576] 0.9973196227597501\n",
      "[0.96989644 0.02057395 0.00528718] 0.9957575581911884\n",
      "[0.98035026 0.01355596 0.00330153] 0.9972077523960091\n"
     ]
    },
    {
     "name": "stderr",
     "output_type": "stream",
     "text": [
      "\n",
      "770it [01:03, 12.01it/s]\u001b[A\n",
      "772it [01:04, 11.90it/s]\u001b[A"
     ]
    },
    {
     "name": "stdout",
     "output_type": "stream",
     "text": [
      "[0.98450161 0.010931   0.00248616] 0.9979187771842557\n",
      "[0.97756773 0.0157903  0.00351827] 0.9968763011362287\n",
      "[0.97198773 0.01999485 0.00458834] 0.9965709152301346\n"
     ]
    },
    {
     "name": "stderr",
     "output_type": "stream",
     "text": [
      "\n",
      "774it [01:04, 12.02it/s]\u001b[A"
     ]
    },
    {
     "name": "stdout",
     "output_type": "stream",
     "text": [
      "[0.97720117 0.01701008 0.00318921] 0.9974004557578607\n",
      "[0.98126019 0.01434472 0.00262978] 0.9982346880214649\n",
      "[0.96759558 0.02273719 0.00483374] 0.9951664982437699\n"
     ]
    },
    {
     "name": "stderr",
     "output_type": "stream",
     "text": [
      "\n",
      "776it [01:04, 12.06it/s]\u001b[A\n",
      "778it [01:04, 12.39it/s]\u001b[A"
     ]
    },
    {
     "name": "stdout",
     "output_type": "stream",
     "text": [
      "[0.97445954 0.01766289 0.00406488] 0.9961873070329748\n",
      "[0.98161712 0.01325135 0.00302047] 0.9978889450485766\n",
      "[0.97948848 0.01434944 0.00337641] 0.9972143279857661\n"
     ]
    },
    {
     "name": "stderr",
     "output_type": "stream",
     "text": [
      "\n",
      "780it [01:04, 12.28it/s]\u001b[A"
     ]
    },
    {
     "name": "stdout",
     "output_type": "stream",
     "text": [
      "[0.96638142 0.02440599 0.00543181] 0.9962192171404364\n",
      "[0.9665082  0.02456073 0.0053834 ] 0.9964523305428133\n",
      "[0.95813895 0.02934074 0.00693217] 0.9944118671807508\n"
     ]
    },
    {
     "name": "stderr",
     "output_type": "stream",
     "text": [
      "\n",
      "782it [01:04, 11.86it/s]\u001b[A\n",
      "784it [01:05, 12.26it/s]\u001b[A"
     ]
    },
    {
     "name": "stdout",
     "output_type": "stream",
     "text": [
      "[0.9555505  0.03177359 0.00752479] 0.9948488806733307\n",
      "[0.96908225 0.02224601 0.00513873] 0.996466985028068\n",
      "[0.96724728 0.02373682 0.00530841] 0.9962924990490011\n"
     ]
    },
    {
     "name": "stderr",
     "output_type": "stream",
     "text": [
      "\n",
      "786it [01:05, 12.16it/s]\u001b[A"
     ]
    },
    {
     "name": "stdout",
     "output_type": "stream",
     "text": [
      "[0.95542597 0.03238684 0.00740822] 0.9952210275366498\n",
      "[0.96330851 0.02647396 0.00612305] 0.9959055308648693\n",
      "[0.96512886 0.02550555 0.00559548] 0.9962298879190684\n"
     ]
    },
    {
     "name": "stderr",
     "output_type": "stream",
     "text": [
      "\n",
      "788it [01:05, 12.11it/s]\u001b[A\n",
      "790it [01:05, 12.08it/s]\u001b[A"
     ]
    },
    {
     "name": "stdout",
     "output_type": "stream",
     "text": [
      "[0.96474254 0.02623103 0.00555512] 0.9965286934374852\n",
      "[0.96908196 0.02225867 0.00501444] 0.9963550681393634\n",
      "[0.97261847 0.01961784 0.00456494] 0.996801248998254\n"
     ]
    },
    {
     "name": "stderr",
     "output_type": "stream",
     "text": [
      "\n",
      "792it [01:05, 12.06it/s]\u001b[A"
     ]
    },
    {
     "name": "stdout",
     "output_type": "stream",
     "text": [
      "[0.96864802 0.02234021 0.00511164] 0.9960998738342894\n",
      "[0.95987858 0.02983035 0.00635605] 0.9960649904207661\n",
      "[0.95693538 0.03080937 0.00715214] 0.9948968805453616\n"
     ]
    },
    {
     "name": "stderr",
     "output_type": "stream",
     "text": [
      "\n",
      "794it [01:05, 11.71it/s]\u001b[A\n",
      "796it [01:06, 12.13it/s]\u001b[A"
     ]
    },
    {
     "name": "stdout",
     "output_type": "stream",
     "text": [
      "[0.96317293 0.02653888 0.00619027] 0.9959020783874545\n",
      "[0.96505153 0.02525514 0.00587729] 0.9961839570048072\n",
      "[0.95320157 0.0332218  0.00795576] 0.994379130833463\n"
     ]
    },
    {
     "name": "stderr",
     "output_type": "stream",
     "text": [
      "\n",
      "798it [01:06, 11.76it/s]\u001b[A"
     ]
    },
    {
     "name": "stdout",
     "output_type": "stream",
     "text": [
      "[0.95455526 0.03337127 0.00742069] 0.9953472214837626\n",
      "[0.96279919 0.02760677 0.00581199] 0.9962179493334595\n",
      "[0.96335271 0.02655779 0.00604921] 0.9959597150490587\n"
     ]
    },
    {
     "name": "stderr",
     "output_type": "stream",
     "text": [
      "\n",
      "800it [01:06, 11.81it/s]\u001b[A\n",
      "802it [01:06, 11.86it/s]\u001b[A"
     ]
    },
    {
     "name": "stdout",
     "output_type": "stream",
     "text": [
      "[0.98315019 0.01200947 0.00262007] 0.997779730606309\n",
      "[0.98720411 0.00901212 0.00203477] 0.9982509909524427\n",
      "[0.97806445 0.01556334 0.00345852] 0.9970863074912737\n"
     ]
    },
    {
     "name": "stderr",
     "output_type": "stream",
     "text": [
      "\n",
      "804it [01:06, 11.91it/s]\u001b[A"
     ]
    },
    {
     "name": "stdout",
     "output_type": "stream",
     "text": [
      "[0.95836931 0.03005925 0.00668745] 0.9951160122011548\n",
      "[0.96003453 0.02915187 0.00654276] 0.9957291677982938\n",
      "[0.96544897 0.02445556 0.00578699] 0.9956915166566966\n"
     ]
    },
    {
     "name": "stderr",
     "output_type": "stream",
     "text": [
      "\n",
      "806it [01:06, 11.78it/s]\u001b[A\n",
      "808it [01:07, 11.98it/s]\u001b[A"
     ]
    },
    {
     "name": "stdout",
     "output_type": "stream",
     "text": [
      "[0.96736044 0.02362392 0.00528262] 0.9962669816709602\n",
      "[0.96827975 0.0230156  0.00516385] 0.9964591999736409\n",
      "[0.95939457 0.02850201 0.00697443] 0.9948710028593546\n"
     ]
    },
    {
     "name": "stderr",
     "output_type": "stream",
     "text": [
      "\n",
      "810it [01:07, 12.01it/s]\u001b[A"
     ]
    },
    {
     "name": "stdout",
     "output_type": "stream",
     "text": [
      "[0.96166167 0.02714342 0.00580348] 0.994608574427083\n",
      "[0.97293027 0.0204573  0.00387706] 0.9972646270696438\n",
      "[0.97536782 0.01801776 0.00362833] 0.9970139147335244\n"
     ]
    },
    {
     "name": "stderr",
     "output_type": "stream",
     "text": [
      "\n",
      "812it [01:07, 12.01it/s]\u001b[A\n",
      "814it [01:07, 12.01it/s]\u001b[A"
     ]
    },
    {
     "name": "stdout",
     "output_type": "stream",
     "text": [
      "[0.97986772 0.01478521 0.00308222] 0.9977351544708053\n",
      "[0.97626433 0.0173379  0.00358378] 0.9971860106268602\n",
      "[0.97217451 0.02027892 0.00420379] 0.9966572214444062\n"
     ]
    },
    {
     "name": "stderr",
     "output_type": "stream",
     "text": [
      "\n",
      "816it [01:07, 12.38it/s]\u001b[A"
     ]
    },
    {
     "name": "stdout",
     "output_type": "stream",
     "text": [
      "[0.97759319 0.01656346 0.00332399] 0.9974806375460757\n",
      "[0.97518509 0.01853399 0.00363083] 0.9973499145480843\n",
      "[0.95586929 0.03164066 0.0067786 ] 0.9942885396540158\n"
     ]
    },
    {
     "name": "stderr",
     "output_type": "stream",
     "text": [
      "\n",
      "818it [01:07, 12.26it/s]\u001b[A\n",
      "820it [01:08, 12.18it/s]\u001b[A"
     ]
    },
    {
     "name": "stdout",
     "output_type": "stream",
     "text": [
      "[0.95986319 0.02959987 0.00613975] 0.9956028150881716\n",
      "[0.95940751 0.02987615 0.00629575] 0.9955794001721993\n",
      "[0.95910642 0.0296101  0.00673096] 0.995447482221837\n"
     ]
    },
    {
     "name": "stderr",
     "output_type": "stream",
     "text": [
      "\n",
      "822it [01:08, 11.79it/s]\u001b[A"
     ]
    },
    {
     "name": "stdout",
     "output_type": "stream",
     "text": [
      "[0.94920904 0.03646921 0.00848153] 0.9941597849143365\n",
      "[0.95257879 0.03531462 0.00771217] 0.9956055912472475\n",
      "[0.9557486  0.03391651 0.00641678] 0.9960818904277114\n"
     ]
    },
    {
     "name": "stderr",
     "output_type": "stream",
     "text": [
      "\n",
      "824it [01:08, 11.83it/s]\u001b[A\n",
      "826it [01:08, 11.88it/s]\u001b[A"
     ]
    },
    {
     "name": "stdout",
     "output_type": "stream",
     "text": [
      "[0.96203329 0.02867867 0.00559338] 0.9963053361996611\n",
      "[0.95161457 0.0374958  0.0066686 ] 0.9957789694652949\n",
      "[0.95177162 0.03698865 0.00699633] 0.9957566031080409\n"
     ]
    },
    {
     "name": "stderr",
     "output_type": "stream",
     "text": [
      "\n",
      "828it [01:08, 11.92it/s]\u001b[A"
     ]
    },
    {
     "name": "stdout",
     "output_type": "stream",
     "text": [
      "[0.94614253 0.04072725 0.00814684] 0.9950166313137764\n",
      "[0.95393897 0.03425928 0.00723795] 0.9954361993125732\n",
      "[0.95129223 0.03626316 0.00748559] 0.9950409738724577\n"
     ]
    },
    {
     "name": "stderr",
     "output_type": "stream",
     "text": [
      "\n",
      "830it [01:08, 11.95it/s]\u001b[A\n",
      "832it [01:09, 11.81it/s]\u001b[A"
     ]
    },
    {
     "name": "stdout",
     "output_type": "stream",
     "text": [
      "[0.95394337 0.03499641 0.00672731] 0.995667090499353\n",
      "[0.95897791 0.03131527 0.00608569] 0.9963788750862865\n",
      "[0.96005777 0.02722154 0.00698297] 0.9942622800239983\n"
     ]
    },
    {
     "name": "stderr",
     "output_type": "stream",
     "text": [
      "\n",
      "834it [01:09, 12.02it/s]\u001b[A"
     ]
    },
    {
     "name": "stdout",
     "output_type": "stream",
     "text": [
      "[0.98244821 0.01163337 0.00310577] 0.9971873455515957\n",
      "[0.98146933 0.01245132 0.00330447] 0.9972251249693983\n",
      "[0.96641438 0.02315538 0.00560983] 0.9951795973212365\n"
     ]
    },
    {
     "name": "stderr",
     "output_type": "stream",
     "text": [
      "\n",
      "836it [01:09, 12.01it/s]\u001b[A\n",
      "838it [01:09, 12.02it/s]\u001b[A"
     ]
    },
    {
     "name": "stdout",
     "output_type": "stream",
     "text": [
      "[0.97201395 0.02002438 0.00467738] 0.9967157101581723\n",
      "[0.97241353 0.01969342 0.00452379] 0.9966307290455975\n",
      "[0.96898116 0.02213567 0.00520181] 0.9963186360855156\n"
     ]
    },
    {
     "name": "stderr",
     "output_type": "stream",
     "text": [
      "\n",
      "840it [01:09, 12.01it/s]\u001b[A"
     ]
    },
    {
     "name": "stdout",
     "output_type": "stream",
     "text": [
      "[0.95741843 0.02989673 0.0070879 ] 0.9944030567749608\n",
      "[0.95203292 0.03467173 0.008099  ] 0.9948036552928202\n",
      "[0.94592464 0.03986008 0.00891125] 0.9946959723426999\n"
     ]
    },
    {
     "name": "stderr",
     "output_type": "stream",
     "text": [
      "\n",
      "842it [01:09, 12.01it/s]\u001b[A\n",
      "844it [01:10, 12.01it/s]\u001b[A"
     ]
    },
    {
     "name": "stdout",
     "output_type": "stream",
     "text": [
      "[0.94698742 0.03918985 0.00854767] 0.9947249421737747\n",
      "[0.95266166 0.03461964 0.00774432] 0.9950256209345232\n",
      "[0.95200055 0.03581188 0.00754175] 0.9953541900613458\n"
     ]
    },
    {
     "name": "stderr",
     "output_type": "stream",
     "text": [
      "\n",
      "846it [01:10, 12.38it/s]\u001b[A"
     ]
    },
    {
     "name": "stdout",
     "output_type": "stream",
     "text": [
      "[0.95150554 0.0358272  0.0077744 ] 0.9951071408661601\n",
      "[0.97187383 0.02029317 0.00462136] 0.9967883574428464\n",
      "[0.97367961 0.01866818 0.00434542] 0.996693210829337\n"
     ]
    },
    {
     "name": "stderr",
     "output_type": "stream",
     "text": [
      "\n",
      "848it [01:10, 12.26it/s]\u001b[A\n",
      "850it [01:10, 12.18it/s]\u001b[A"
     ]
    },
    {
     "name": "stdout",
     "output_type": "stream",
     "text": [
      "[0.96604283 0.02448626 0.00545918] 0.9959882705247532\n",
      "[0.95161254 0.03627566 0.00739081] 0.9952790076531763\n",
      "[0.948785   0.03860202 0.00783988] 0.9952269028807152\n"
     ]
    },
    {
     "name": "stderr",
     "output_type": "stream",
     "text": [
      "\n",
      "852it [01:10, 12.13it/s]\u001b[A"
     ]
    },
    {
     "name": "stdout",
     "output_type": "stream",
     "text": [
      "[0.95375858 0.03545072 0.00694066] 0.9961499555323885\n",
      "[0.95282805 0.03434272 0.00760615] 0.994776920795675\n",
      "[0.95610068 0.03246856 0.00708157] 0.9956508114903663\n"
     ]
    },
    {
     "name": "stderr",
     "output_type": "stream",
     "text": [
      "\n",
      "854it [01:10, 12.09it/s]\u001b[A\n",
      "856it [01:11, 12.04it/s]\u001b[A"
     ]
    },
    {
     "name": "stdout",
     "output_type": "stream",
     "text": [
      "[0.95472189 0.03297178 0.00742304] 0.9951167111003819\n",
      "[0.96700885 0.02451178 0.00513023] 0.996650859795935\n",
      "[0.96654026 0.02476736 0.00524236] 0.9965499861356294\n"
     ]
    },
    {
     "name": "stderr",
     "output_type": "stream",
     "text": [
      "\n",
      "858it [01:11, 11.72it/s]\u001b[A"
     ]
    },
    {
     "name": "stdout",
     "output_type": "stream",
     "text": [
      "[0.947927   0.03869763 0.00802059] 0.9946452127740826\n",
      "[0.95773464 0.03176577 0.00639695] 0.9958973645443518\n",
      "[0.96195758 0.02860773 0.00574004] 0.9963053567660731\n"
     ]
    },
    {
     "name": "stderr",
     "output_type": "stream",
     "text": [
      "\n",
      "860it [01:11, 11.78it/s]\u001b[A\n",
      "862it [01:11, 11.85it/s]\u001b[A"
     ]
    },
    {
     "name": "stdout",
     "output_type": "stream",
     "text": [
      "[0.95389388 0.03337291 0.00726404] 0.9945308304585111\n",
      "[0.95691824 0.0317783  0.00656379] 0.9952603212112241\n",
      "[0.96294967 0.02726598 0.00573984] 0.9959554947164772\n"
     ]
    },
    {
     "name": "stderr",
     "output_type": "stream",
     "text": [
      "\n",
      "864it [01:11, 11.89it/s]\u001b[A"
     ]
    },
    {
     "name": "stdout",
     "output_type": "stream",
     "text": [
      "[0.95627729 0.03190138 0.00695836] 0.9951370292765573\n",
      "[0.96217015 0.02747146 0.00623999] 0.9958816048362924\n",
      "[0.95676188 0.03169354 0.00700479] 0.9954602083679246\n"
     ]
    },
    {
     "name": "stderr",
     "output_type": "stream",
     "text": [
      "\n",
      "866it [01:11, 11.93it/s]\u001b[A\n",
      "868it [01:12, 11.88it/s]\u001b[A"
     ]
    },
    {
     "name": "stdout",
     "output_type": "stream",
     "text": [
      "[0.9599606  0.02962897 0.00621622] 0.9958057847332159\n",
      "[0.96407574 0.02654241 0.0055502 ] 0.9961683458848795\n",
      "[0.9631716  0.02668972 0.00598303] 0.9958443478050857\n"
     ]
    },
    {
     "name": "stderr",
     "output_type": "stream",
     "text": [
      "\n",
      "870it [01:12, 11.99it/s]\u001b[A"
     ]
    },
    {
     "name": "stdout",
     "output_type": "stream",
     "text": [
      "[0.94942385 0.03784834 0.00780667] 0.9950788644583287\n",
      "[0.95751961 0.03100865 0.00688295] 0.9954112036885575\n",
      "[0.96859015 0.02267188 0.0052611 ] 0.9965231276692025\n"
     ]
    },
    {
     "name": "stderr",
     "output_type": "stream",
     "text": [
      "\n",
      "872it [01:12, 12.01it/s]\u001b[A\n",
      "874it [01:12, 12.36it/s]\u001b[A"
     ]
    },
    {
     "name": "stdout",
     "output_type": "stream",
     "text": [
      "[0.96398102 0.02653015 0.00561598] 0.9961271557311282\n",
      "[0.96455168 0.02591512 0.00557341] 0.9960402053863848\n",
      "[0.9732026  0.01962344 0.00426356] 0.9970896000386733\n"
     ]
    },
    {
     "name": "stderr",
     "output_type": "stream",
     "text": [
      "\n",
      "876it [01:12, 12.20it/s]\u001b[A"
     ]
    },
    {
     "name": "stdout",
     "output_type": "stream",
     "text": [
      "[0.98235519 0.01267143 0.00284244] 0.9978690646727791\n",
      "[0.98156884 0.01335942 0.00286023] 0.9977884830238674\n",
      "[0.97525845 0.01752081 0.00397034] 0.9967495989136334\n"
     ]
    },
    {
     "name": "stderr",
     "output_type": "stream",
     "text": [
      "\n",
      "878it [01:12, 12.18it/s]\u001b[A\n",
      "880it [01:13, 12.11it/s]\u001b[A"
     ]
    },
    {
     "name": "stdout",
     "output_type": "stream",
     "text": [
      "[0.97354782 0.01868103 0.00433618] 0.9965650299839748\n",
      "[0.97239327 0.01959103 0.00466483] 0.9966491279433088\n",
      "[0.9675148  0.02348665 0.00545778] 0.9964592330936171\n"
     ]
    },
    {
     "name": "stderr",
     "output_type": "stream",
     "text": [
      "\n",
      "882it [01:13, 12.10it/s]\u001b[A"
     ]
    },
    {
     "name": "stdout",
     "output_type": "stream",
     "text": [
      "[0.95615178 0.03265219 0.00660714] 0.9954111062179561\n",
      "[0.96601833 0.02601896 0.0048656 ] 0.9969028944006347\n",
      "[0.96186404 0.02737787 0.00565666] 0.9948985627597333\n"
     ]
    },
    {
     "name": "stderr",
     "output_type": "stream",
     "text": [
      "\n",
      "884it [01:13, 12.07it/s]\u001b[A\n",
      "886it [01:13, 12.05it/s]\u001b[A"
     ]
    },
    {
     "name": "stdout",
     "output_type": "stream",
     "text": [
      "[0.96841399 0.0227871  0.00506099] 0.9962620746532366\n",
      "[0.96998934 0.02188126 0.00477587] 0.9966464678715521\n",
      "[0.97022825 0.02080139 0.00498393] 0.9960135736611837\n"
     ]
    },
    {
     "name": "stderr",
     "output_type": "stream",
     "text": [
      "\n",
      "888it [01:13, 12.04it/s]\u001b[A"
     ]
    },
    {
     "name": "stdout",
     "output_type": "stream",
     "text": [
      "[0.98149815 0.01265685 0.00281551] 0.9969705087054661\n",
      "[0.9876513  0.00878242 0.00200759] 0.9984413046826042\n",
      "[0.9846522  0.01019562 0.00241592] 0.9972637365450746\n"
     ]
    },
    {
     "name": "stderr",
     "output_type": "stream",
     "text": [
      "\n",
      "890it [01:13, 12.01it/s]\u001b[A\n",
      "892it [01:14, 12.01it/s]\u001b[A"
     ]
    },
    {
     "name": "stdout",
     "output_type": "stream",
     "text": [
      "[0.98550372 0.00940295 0.00237015] 0.9972768174346969\n",
      "[0.98993852 0.00681232 0.00156391] 0.998314757392703\n",
      "[0.99214712 0.00526951 0.00119975] 0.9986163781421283\n"
     ]
    },
    {
     "name": "stderr",
     "output_type": "stream",
     "text": [
      "\n",
      "894it [01:14, 12.02it/s]\u001b[A"
     ]
    },
    {
     "name": "stdout",
     "output_type": "stream",
     "text": [
      "[0.96712655 0.01975618 0.0057941 ] 0.9926768247959735\n",
      "[0.98420462 0.01082125 0.00213869] 0.9971645628280184\n",
      "[0.98645829 0.00920931 0.00197445] 0.9976420440978849\n"
     ]
    },
    {
     "name": "stderr",
     "output_type": "stream",
     "text": [
      "\n",
      "896it [01:14, 12.02it/s]\u001b[A\n",
      "898it [01:14, 12.01it/s]\u001b[A"
     ]
    },
    {
     "name": "stdout",
     "output_type": "stream",
     "text": [
      "[0.99036627 0.00661289 0.0013843 ] 0.9983634577312566\n",
      "[0.98562117 0.0097667  0.00207176] 0.9974596319957799\n",
      "[0.98524171 0.01001333 0.00210067] 0.9973557131921388\n"
     ]
    },
    {
     "name": "stderr",
     "output_type": "stream",
     "text": [
      "\n",
      "900it [01:14, 12.01it/s]\u001b[A"
     ]
    },
    {
     "name": "stdout",
     "output_type": "stream",
     "text": [
      "[0.98383038 0.01087558 0.00232832] 0.9970342848000037\n",
      "[0.98697601 0.00903362 0.00186999] 0.9978796247138121\n",
      "[0.98260788 0.01188045 0.00248201] 0.9969703395068211\n"
     ]
    },
    {
     "name": "stderr",
     "output_type": "stream",
     "text": [
      "\n",
      "902it [01:14, 12.35it/s]\u001b[A\n",
      "904it [01:14, 12.20it/s]\u001b[A"
     ]
    },
    {
     "name": "stdout",
     "output_type": "stream",
     "text": [
      "[0.98676504 0.00918022 0.00191515] 0.9978604102970587\n",
      "[0.98890991 0.00774616 0.00157325] 0.9982293191843625\n",
      "[0.98309396 0.01137242 0.00250725] 0.9969736337672649\n"
     ]
    },
    {
     "name": "stderr",
     "output_type": "stream",
     "text": [
      "\n",
      "906it [01:15, 11.87it/s]\u001b[A"
     ]
    },
    {
     "name": "stdout",
     "output_type": "stream",
     "text": [
      "[0.98269874 0.01166501 0.0024899 ] 0.9968536442606524\n",
      "[0.99091298 0.00641864 0.001191  ] 0.998522618266975\n",
      "[0.99061615 0.00632969 0.00133233] 0.9982781649189768\n"
     ]
    },
    {
     "name": "stderr",
     "output_type": "stream",
     "text": [
      "\n",
      "908it [01:15, 11.89it/s]\u001b[A\n",
      "910it [01:15, 11.92it/s]\u001b[A"
     ]
    },
    {
     "name": "stdout",
     "output_type": "stream",
     "text": [
      "[9.92979061e-01 5.03566159e-03 8.94859515e-04] 0.9989095821772176\n",
      "[0.9855097  0.00994508 0.00193462] 0.9973894003071913\n",
      "[0.97835807 0.01418492 0.0032265 ] 0.9957694973936856\n"
     ]
    },
    {
     "name": "stderr",
     "output_type": "stream",
     "text": [
      "\n",
      "912it [01:15, 11.95it/s]\u001b[A"
     ]
    },
    {
     "name": "stdout",
     "output_type": "stream",
     "text": [
      "[0.98904588 0.00738174 0.00158746] 0.9980150726888785\n",
      "[0.98212116 0.01173089 0.00266705] 0.9965190956129888\n",
      "[0.98221038 0.01196059 0.00255184] 0.996722806825394\n"
     ]
    },
    {
     "name": "stderr",
     "output_type": "stream",
     "text": [
      "\n",
      "914it [01:15, 11.99it/s]\u001b[A\n",
      "916it [01:15, 11.99it/s]\u001b[A"
     ]
    },
    {
     "name": "stdout",
     "output_type": "stream",
     "text": [
      "[0.98787289 0.00892555 0.00138505] 0.9981834940951614\n",
      "[0.9882594  0.00822854 0.00151217] 0.9980001143805547\n",
      "[0.9861786 0.0093893 0.0020162] 0.9975841003434099\n"
     ]
    },
    {
     "name": "stderr",
     "output_type": "stream",
     "text": [
      "\n",
      "918it [01:16, 12.32it/s]\u001b[A"
     ]
    },
    {
     "name": "stdout",
     "output_type": "stream",
     "text": [
      "[0.98478103 0.00991932 0.00229793] 0.9969982773596839\n",
      "[9.90849997e-01 6.62874462e-03 9.86816929e-04] 0.9984655585494695\n",
      "[0.98548944 0.00941003 0.00222715] 0.9971266170898161\n"
     ]
    },
    {
     "name": "stderr",
     "output_type": "stream",
     "text": [
      "\n",
      "920it [01:16, 12.24it/s]\u001b[A\n",
      "922it [01:16, 12.17it/s]\u001b[A"
     ]
    },
    {
     "name": "stdout",
     "output_type": "stream",
     "text": [
      "[0.99149893 0.00547486 0.0012562 ] 0.9982299960302649\n",
      "[0.99295237 0.00473682 0.00099812] 0.9986873167225088\n",
      "[0.98621144 0.00857717 0.00222762] 0.9970162376586489\n"
     ]
    },
    {
     "name": "stderr",
     "output_type": "stream",
     "text": [
      "\n",
      "924it [01:16, 12.12it/s]\u001b[A"
     ]
    },
    {
     "name": "stdout",
     "output_type": "stream",
     "text": [
      "[0.98960727 0.00618019 0.00191476] 0.9977022186712455\n",
      "[0.99105278 0.00497354 0.00190687] 0.9979331878787142\n",
      "[0.99212423 0.00415759 0.00187787] 0.998159688636113\n"
     ]
    },
    {
     "name": "stderr",
     "output_type": "stream",
     "text": [
      "\n",
      "926it [01:16, 12.08it/s]\u001b[A\n",
      "928it [01:16, 11.99it/s]\u001b[A"
     ]
    },
    {
     "name": "stdout",
     "output_type": "stream",
     "text": [
      "[0.98287938 0.01050456 0.00292059] 0.9963045368562914\n",
      "[0.98957346 0.00726228 0.00147321] 0.9983089519410594\n",
      "[0.98616123 0.00947817 0.00199865] 0.9976380478223188\n"
     ]
    },
    {
     "name": "stderr",
     "output_type": "stream",
     "text": [
      "\n",
      "930it [01:17, 12.06it/s]\u001b[A"
     ]
    },
    {
     "name": "stdout",
     "output_type": "stream",
     "text": [
      "[0.98641564 0.0092124  0.00188092] 0.997508957909015\n",
      "[0.9893817  0.00738601 0.00142502] 0.9981927305177891\n",
      "[0.9848108  0.01054069 0.00206764] 0.9974191308134243\n"
     ]
    },
    {
     "name": "stderr",
     "output_type": "stream",
     "text": [
      "\n",
      "932it [01:17, 12.05it/s]\u001b[A\n"
     ]
    },
    {
     "name": "stdout",
     "output_type": "stream",
     "text": [
      "[9.92014293e-01 6.20666943e-03 8.28152396e-04] 0.9990491144671186\n",
      "[0.986646   0.00962168 0.00169916] 0.9979668458312845\n",
      "[0.98692392 0.00962801 0.00182057] 0.9983725036524981\n"
     ]
    },
    {
     "name": "stderr",
     "output_type": "stream",
     "text": [
      "934it [01:17, 11.70it/s]\u001b[A\n",
      "936it [01:17, 11.79it/s]\u001b[A"
     ]
    },
    {
     "name": "stdout",
     "output_type": "stream",
     "text": [
      "[0.98706045 0.00896376 0.00184844] 0.9978726455805514\n",
      "[0.98964141 0.00596251 0.00201759] 0.9976215129906403\n",
      "[0.99105631 0.00540449 0.00163656] 0.9980973515767257\n"
     ]
    },
    {
     "name": "stderr",
     "output_type": "stream",
     "text": [
      "\n",
      "938it [01:17, 11.86it/s]\u001b[A\n",
      "940it [01:17, 11.90it/s]\u001b[A"
     ]
    },
    {
     "name": "stdout",
     "output_type": "stream",
     "text": [
      "[0.98768698 0.00789143 0.00186557] 0.9974439739438259\n",
      "[0.99085351 0.00593236 0.00155449] 0.9983403637595243\n",
      "[0.99141646 0.00565183 0.00137425] 0.9984425365032132\n"
     ]
    },
    {
     "name": "stderr",
     "output_type": "stream",
     "text": [
      "\n",
      "942it [01:18, 11.91it/s]\u001b[A"
     ]
    }
   ],
   "source": [
    "# Crea un objeto tqdm para rastrear el progreso\n",
    "pbar = tqdm(total=len(filenames))\n",
    "\n",
    "# Itera los lotes\n",
    "for batch_data in batched_dataset:\n",
    "    paths = batch_data['path'].numpy()\n",
    "    labels = batch_data['label'].numpy()\n",
    "    \n",
    "    # Cargar los scaleograms desde los archivos .npy\n",
    "    batch_xs = []\n",
    "    for path in paths:\n",
    "        spectrogram = np.load(path.decode('utf-8'))\n",
    "        batch_xs.append(spectrogram)  # Corregir el nombre de la variable aquí\n",
    "    \n",
    "    # Convierte batch_x en un arreglo NumPy\n",
    "    batch_xs = np.array(batch_xs)\n",
    "\n",
    "    for (batch_x, label) in zip(batch_xs, labels):\n",
    "\n",
    "        amm = batch_x.shape[0] * batch_x.shape[1] * batch_x.shape[2]\n",
    "    \n",
    "        x_flat = batch_x.reshape(amm, -1).squeeze()\n",
    "        (batch_x.shape[0], batch_x.shape[1], batch_x.shape[2]), x_flat.shape\n",
    "    \n",
    "        multiplier = 1\n",
    "    \n",
    "        while 224 * 224 * 3 * multiplier < amm:\n",
    "            multiplier += 1\n",
    "    \n",
    "        # Creo un array de ceros de 244*244*3*multiplier, mas grande que mi input\n",
    "        x_extended = np.zeros((224 * 224 * 3 * multiplier))\n",
    "    \n",
    "        # Relleno el array de ceros con mi input, me quedan ceros de relleno\n",
    "        x_extended[:amm] = x_flat\n",
    "    \n",
    "        # Reshapeo\n",
    "        x_big_2d = x_extended.reshape(224 * 224, 3 * multiplier)\n",
    "        x_big_2d.shape\n",
    "    \n",
    "        pca = PCA(\n",
    "            n_components=3,\n",
    "        )\n",
    "    \n",
    "        pca.fit(x_big_2d)\n",
    "    \n",
    "        x_big_2d_reduced = pca.transform(x_big_2d)\n",
    "    \n",
    "        x_big_3d_reduced = x_big_2d_reduced.reshape(224, 224, 3)\n",
    "        \n",
    "        # Agrega los scaleograms y labels a X_list e y_list\n",
    "        X_list.append(x_big_3d_reduced)\n",
    "        y_list.append(label)\n",
    "    \n",
    "        print(pca.explained_variance_ratio_, np.sum(pca.explained_variance_ratio_))\n",
    "    \n",
    "    # Actualiza la barra de progreso\n",
    "    pbar.update(len(paths))  # Actualiza la barra de progreso según la cantidad de archivos en el lote\n",
    "\n",
    "# Convierte X_list e y_list en arreglos NumPy\n",
    "X = np.array(X_list)\n",
    "y = np.array(y_list)\n",
    "\n",
    "# Cierra la barra de progreso\n",
    "# pbar.close()\n"
   ]
  },
  {
   "cell_type": "code",
   "execution_count": 8,
   "id": "4a618315-de6a-4882-b935-4589a7d56460",
   "metadata": {},
   "outputs": [
    {
     "data": {
      "text/plain": [
       "((1790, 3, 244, 244), (1790,))"
      ]
     },
     "execution_count": 8,
     "metadata": {},
     "output_type": "execute_result"
    }
   ],
   "source": [
    "X.shape, y.shape"
   ]
  },
  {
   "cell_type": "code",
   "execution_count": 34,
   "id": "64500daf-a296-462c-b5ca-0b42e1fca74a",
   "metadata": {},
   "outputs": [
    {
     "data": {
      "text/plain": [
       "((14, 88320), (14, 14))"
      ]
     },
     "execution_count": 34,
     "metadata": {},
     "output_type": "execute_result"
    }
   ],
   "source": [
    "'''variance_to_keep = 0.95  # Me quedo con el 95% de la varianza\n",
    "n_components = 14\n",
    "pca = PCA(n_components=n_components)\n",
    "\n",
    "data_reduced = pca.fit_transform(data_1d)\n",
    "data_1d.shape, data_reduced.shape'''"
   ]
  },
  {
   "cell_type": "code",
   "execution_count": 4,
   "id": "b294652f",
   "metadata": {},
   "outputs": [
    {
     "name": "stderr",
     "output_type": "stream",
     "text": [
      "12488it [05:03, 34.58it/s]                                                                                             "
     ]
    },
    {
     "ename": "MemoryError",
     "evalue": "Unable to allocate 9.43 MiB for an array with shape (2, 1236480) and data type float32",
     "output_type": "error",
     "traceback": [
      "\u001b[1;31m---------------------------------------------------------------------------\u001b[0m",
      "\u001b[1;31mMemoryError\u001b[0m                               Traceback (most recent call last)",
      "Cell \u001b[1;32mIn[4], line 32\u001b[0m\n\u001b[0;32m     29\u001b[0m min_val \u001b[38;5;241m=\u001b[39m np\u001b[38;5;241m.\u001b[39mmin(batch_X)\n\u001b[0;32m     30\u001b[0m max_val \u001b[38;5;241m=\u001b[39m np\u001b[38;5;241m.\u001b[39mmax(batch_X)\n\u001b[1;32m---> 32\u001b[0m batch_X \u001b[38;5;241m=\u001b[39m \u001b[38;5;241m-\u001b[39m\u001b[38;5;241m1\u001b[39m \u001b[38;5;241m+\u001b[39m \u001b[38;5;241;43m2\u001b[39;49m\u001b[43m \u001b[49m\u001b[38;5;241;43m*\u001b[39;49m\u001b[43m \u001b[49m\u001b[43m(\u001b[49m\u001b[43mbatch_X\u001b[49m\u001b[43m \u001b[49m\u001b[38;5;241;43m-\u001b[39;49m\u001b[43m \u001b[49m\u001b[43mmin_val\u001b[49m\u001b[43m)\u001b[49m \u001b[38;5;241m/\u001b[39m (max_val \u001b[38;5;241m-\u001b[39m min_val)\n\u001b[0;32m     34\u001b[0m \u001b[38;5;250m\u001b[39m\u001b[38;5;124;03m'''variance_to_keep = 0.95  # Me quedo con el 95% de la varianza\u001b[39;00m\n\u001b[0;32m     35\u001b[0m \n\u001b[0;32m     36\u001b[0m \u001b[38;5;124;03mpca = PCA()\u001b[39;00m\n\u001b[1;32m   (...)\u001b[0m\n\u001b[0;32m     46\u001b[0m \u001b[38;5;124;03melse:\u001b[39;00m\n\u001b[0;32m     47\u001b[0m \u001b[38;5;124;03m    batch_X = batch_X[:, :n_components_to_keep]'''\u001b[39;00m\n\u001b[0;32m     49\u001b[0m \u001b[38;5;66;03m# Agrega los scaleograms y labels a X_list e y_list\u001b[39;00m\n",
      "\u001b[1;31mMemoryError\u001b[0m: Unable to allocate 9.43 MiB for an array with shape (2, 1236480) and data type float32"
     ]
    }
   ],
   "source": [
    "'''VIEJO BUENO\n",
    "# Crea un objeto tqdm para rastrear el progreso\n",
    "pbar = tqdm(total=len(filenames))\n",
    "\n",
    "# Itera los lotes\n",
    "for batch_data in batched_dataset:\n",
    "    paths = batch_data['path'].numpy()\n",
    "    labels = batch_data['label'].numpy()\n",
    "    \n",
    "    # Cargar los scaleograms desde los archivos .npy\n",
    "    batch_X = []\n",
    "    for path in paths:\n",
    "        spectrogram = np.load(path.decode('utf-8'))\n",
    "        batch_X.append(spectrogram)\n",
    "    \n",
    "    # Convierte batch_X en un arreglo NumPy\n",
    "    batch_X = np.array(batch_X)\n",
    "    \n",
    "    batch_X = batch_X.reshape((batch_X.shape[0], -1))  # Aplanar los datos\n",
    "    \n",
    "    # NORMALIZA X en rango [-1, 1] para que el cero quede en el centro\n",
    "    min_val = np.min(batch_X)\n",
    "    max_val = np.max(batch_X)\n",
    "\n",
    "    batch_X = -1 + 2 * (batch_X - min_val) / (max_val - min_val)\n",
    "    \n",
    "    variance_to_keep = 0.95  # Me quedo con el 95% de la varianza\n",
    "    n_components = 3\n",
    "    pca = PCA(n_components=n_components)\n",
    "    batch_X = pca.fit_transform(batch_X)  # Aplica PCA para los datos escalados\n",
    "    \n",
    "\n",
    "    # Asegúrate de que todos los lotes tengan la misma cantidad de componentes principales\n",
    "    n_components_to_keep = min(max_components, batch_X.shape[1])\n",
    "    if batch_X.shape[1] < max_components:\n",
    "        # Rellena con ceros las columnas faltantes si es necesario\n",
    "        zeros_to_add = max_components - batch_X.shape[1]\n",
    "        zeros = np.zeros((batch_X.shape[0], zeros_to_add))\n",
    "        batch_X = np.hstack((batch_X, zeros))\n",
    "    else:\n",
    "        batch_X = batch_X[:, :n_components_to_keep]\n",
    "\n",
    "    # Agrega los scaleograms y labels a X_list e y_list\n",
    "    X_list.append(batch_X)\n",
    "    y_list.extend(labels)\n",
    "\n",
    "    # Actualiza la barra de progreso\n",
    "    pbar.update(len(paths))  # Actualiza la barra de progreso según la cantidad de archivos en el lote\n",
    "\n",
    "# Convierte X_list e y_list en arreglos NumPy\n",
    "X = np.concatenate(X_list, axis=0)\n",
    "y = np.array(y_list)\n",
    "\n",
    "# Cierra la barra de progreso\n",
    "pbar.close()'''"
   ]
  },
  {
   "cell_type": "code",
   "execution_count": null,
   "id": "afd8d00d",
   "metadata": {},
   "outputs": [],
   "source": [
    "#LOS GUARDO EN MI COMPUTADORA\n",
    "#np.save('X.npy', X) está guardada normalizada en rango [0, 1], habría que cambiar eso\n",
    "np.save('X_9.npy', X)\n",
    "np.save('y_9.npy', y)"
   ]
  },
  {
   "cell_type": "code",
   "execution_count": 6,
   "id": "2ec6cf30",
   "metadata": {},
   "outputs": [
    {
     "data": {
      "text/plain": [
       "(29588, 1000)"
      ]
     },
     "execution_count": 6,
     "metadata": {},
     "output_type": "execute_result"
    }
   ],
   "source": [
    "X_shape = X.shape\n",
    "shape_0 = X_shape[0]\n",
    "X_shape"
   ]
  },
  {
   "cell_type": "code",
   "execution_count": 7,
   "id": "7f01d633",
   "metadata": {},
   "outputs": [],
   "source": [
    "# Aplanar tus datos\n",
    "X = X.reshape(shape_0, -1)"
   ]
  },
  {
   "cell_type": "code",
   "execution_count": 8,
   "id": "e04607dd",
   "metadata": {},
   "outputs": [],
   "source": [
    "#NORMALIZO X en rango [-1, 1] para que el cero quede en el centro\n",
    "min_val = np.min(X)\n",
    "max_val = np.max(X)\n",
    "\n",
    "X = -1 + 2 * (X - min_val) / (max_val - min_val)\n",
    "\n",
    "#X = (X - X.min()) / (X.max() - X.min()) [0, 1]"
   ]
  },
  {
   "cell_type": "code",
   "execution_count": 9,
   "id": "b37cbb17",
   "metadata": {},
   "outputs": [
    {
     "data": {
      "text/plain": [
       "(29588, 1000)"
      ]
     },
     "execution_count": 9,
     "metadata": {},
     "output_type": "execute_result"
    }
   ],
   "source": [
    "X.shape"
   ]
  },
  {
   "cell_type": "code",
   "execution_count": 10,
   "id": "a49216ff",
   "metadata": {},
   "outputs": [
    {
     "data": {
      "text/plain": [
       "\"from sklearn.decomposition import PCA\\n\\nvariance_to_keep = 0.95  #me quedo con el 95% de la varianza, esto es flexible (mientras más porcentaje, mayor va  quedar la dimensionalidad de mi X)\\n\\npca = PCA()\\nX = pca.fit_transform(X)  #aplico pca para los datos escalados\\n\\n#Encuentro el número mínimo de componentes principales para alcanzar la varianza deseada\\ncumulative_variance_ratio = np.cumsum(pca.explained_variance_ratio_)\\n#('n_components_to_keep' contendrá el número mínimo de componentes principales necesarios para explicar al menos el 95% de la varianza en los datos.)\\nn_components_to_keep = np.argmax(cumulative_variance_ratio >= variance_to_keep) + 1 #chona me dijo que me deberían quedar por ejemplo 1000 atributos\\n\\n#Selecciono la cant de componentes principales que me salió\\nX = X[:, :n_components_to_keep]\""
      ]
     },
     "execution_count": 10,
     "metadata": {},
     "output_type": "execute_result"
    }
   ],
   "source": [
    "'''from sklearn.decomposition import PCA\n",
    "\n",
    "variance_to_keep = 0.95  #me quedo con el 95% de la varianza, esto es flexible (mientras más porcentaje, mayor va  quedar la dimensionalidad de mi X)\n",
    "\n",
    "pca = PCA()\n",
    "X = pca.fit_transform(X)  #aplico pca para los datos escalados\n",
    "\n",
    "#Encuentro el número mínimo de componentes principales para alcanzar la varianza deseada\n",
    "cumulative_variance_ratio = np.cumsum(pca.explained_variance_ratio_)\n",
    "#('n_components_to_keep' contendrá el número mínimo de componentes principales necesarios para explicar al menos el 95% de la varianza en los datos.)\n",
    "n_components_to_keep = np.argmax(cumulative_variance_ratio >= variance_to_keep) + 1 #chona me dijo que me deberían quedar por ejemplo 1000 atributos\n",
    "\n",
    "#Selecciono la cant de componentes principales que me salió\n",
    "X = X[:, :n_components_to_keep]'''"
   ]
  },
  {
   "cell_type": "code",
   "execution_count": 11,
   "id": "eded711e",
   "metadata": {},
   "outputs": [
    {
     "data": {
      "text/plain": [
       "'print(\"Me quedé con \" + str(n_components_to_keep) + \" componentes principales\")\\nX.shape'"
      ]
     },
     "execution_count": 11,
     "metadata": {},
     "output_type": "execute_result"
    }
   ],
   "source": [
    "'''print(\"Me quedé con \" + str(n_components_to_keep) + \" componentes principales\")\n",
    "X.shape'''"
   ]
  },
  {
   "cell_type": "code",
   "execution_count": 12,
   "id": "41ceaef4",
   "metadata": {},
   "outputs": [
    {
     "data": {
      "text/plain": [
       "'print(\"Varianza explicada por cada componente principal:\", pca.explained_variance_ratio_)'"
      ]
     },
     "execution_count": 12,
     "metadata": {},
     "output_type": "execute_result"
    }
   ],
   "source": [
    "'''print(\"Varianza explicada por cada componente principal:\", pca.explained_variance_ratio_)'''"
   ]
  },
  {
   "cell_type": "code",
   "execution_count": null,
   "id": "543c46a4",
   "metadata": {},
   "outputs": [],
   "source": [
    "#no se si lo que hice está bien, chona me dijo que usara PaCMAP pero no lo entiendo, y acá encontre que con sklearn medio que se puede hacer asi que :)"
   ]
  },
  {
   "cell_type": "code",
   "execution_count": null,
   "id": "d392e12a",
   "metadata": {},
   "outputs": [],
   "source": [
    "#hago una función?"
   ]
  }
 ],
 "metadata": {
  "kernelspec": {
   "display_name": "Python 3 (ipykernel)",
   "language": "python",
   "name": "python3"
  },
  "language_info": {
   "codemirror_mode": {
    "name": "ipython",
    "version": 3
   },
   "file_extension": ".py",
   "mimetype": "text/x-python",
   "name": "python",
   "nbconvert_exporter": "python",
   "pygments_lexer": "ipython3",
   "version": "3.11.5"
  }
 },
 "nbformat": 4,
 "nbformat_minor": 5
}
