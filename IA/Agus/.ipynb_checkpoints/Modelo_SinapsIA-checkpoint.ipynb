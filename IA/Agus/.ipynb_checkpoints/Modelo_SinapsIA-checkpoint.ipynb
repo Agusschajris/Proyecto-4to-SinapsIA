{
 "cells": [
  {
   "cell_type": "markdown",
   "metadata": {
    "id": "TijoZg4BXl1y"
   },
   "source": [
    "**Modelo Sinapsia**"
   ]
  },
  {
   "cell_type": "code",
   "execution_count": 1,
   "metadata": {
    "id": "VApuyieewhEo"
   },
   "outputs": [
    {
     "data": {
      "text/plain": [
       "'\\nInstall:\\n- pandas\\n- numpy\\n- ssqueezepy\\n- mne\\n- scipy\\n- sklearn\\n- tensorflow\\n'"
      ]
     },
     "execution_count": 1,
     "metadata": {},
     "output_type": "execute_result"
    }
   ],
   "source": [
    "'''\n",
    "Install:\n",
    "- pandas\n",
    "- numpy\n",
    "- ssqueezepy\n",
    "- mne\n",
    "- scipy\n",
    "- sklearn\n",
    "- tensorflow\n",
    "'''"
   ]
  },
  {
   "cell_type": "code",
   "execution_count": 1,
   "metadata": {
    "id": "2-iyHX6BYNps"
   },
   "outputs": [],
   "source": [
    "import pandas as pd\n",
    "import glob\n",
    "import ssqueezepy #para convertir la señal en imagen\n",
    "from ssqueezepy import cwt\n",
    "from ssqueezepy.visuals import plot, imshow\n",
    "import os\n",
    "import mne #eeg analysis library\n",
    "import scipy.io\n",
    "#import torch.nn as nn\n",
    "#import torch\n",
    "import numpy as np\n",
    "import re\n",
    "from sklearn.model_selection import train_test_split\n",
    "import tensorflow as tf\n",
    "from tensorflow.keras import layers, models"
   ]
  },
  {
   "cell_type": "code",
   "execution_count": null,
   "metadata": {
    "colab": {
     "base_uri": "https://localhost:8080/"
    },
    "id": "vPq2ev1blT96",
    "outputId": "55070294-2174-4d2d-d786-62f26763998e"
   },
   "outputs": [
    {
     "name": "stdout",
     "output_type": "stream",
     "text": [
      "Drive already mounted at /content/drive; to attempt to forcibly remount, call drive.mount(\"/content/drive\", force_remount=True).\n"
     ]
    }
   ],
   "source": [
    "#from google.colab import drive\n",
    "#drive.mount('/content/drive')"
   ]
  },
  {
   "cell_type": "markdown",
   "metadata": {
    "id": "j4rpiWwTXqTL"
   },
   "source": [
    "**Ordenando el dataset (no correr)**"
   ]
  },
  {
   "cell_type": "markdown",
   "metadata": {
    "id": "pQ-tAtV7YZ3M"
   },
   "source": [
    "----------> Juntamos los archivos"
   ]
  },
  {
   "cell_type": "code",
   "execution_count": null,
   "metadata": {
    "id": "sixfpxnVhk6N"
   },
   "outputs": [],
   "source": [
    "#subo el archivo con las ids y diagnósticos (y)\n",
    "metadata = pd.read_csv('metadata_guineabissau.csv')\n",
    "metadata.head(5)"
   ]
  },
  {
   "cell_type": "code",
   "execution_count": null,
   "metadata": {
    "id": "qr0JmSUUjcGC"
   },
   "outputs": [],
   "source": [
    "metadata = metadata.drop('Remarks', axis=1)\n",
    "metadata = metadata.drop('recordedPeriod', axis=1)\n",
    "metadata = metadata.drop('startTime', axis=1)\n",
    "metadata = metadata.drop('Eyes.condition', axis=1)\n",
    "\n",
    "metadata.head(5)"
   ]
  },
  {
   "cell_type": "code",
   "execution_count": null,
   "metadata": {
    "id": "Bu1nAwkzYgX6"
   },
   "outputs": [],
   "source": [
    "path = r'/content/eeg_data'\n",
    "all_files = glob.glob(path + \"/*.csv\")\n",
    "\n",
    "all_files = sorted(all_files)\n",
    "\n",
    "\n",
    "def add_id_y (all_files, metadata):\n",
    "  index = 0\n",
    "\n",
    "  modified_dataframes_list = []\n",
    "  non_eeg_columns = []\n",
    "\n",
    "  for filename in all_files:\n",
    "    df = pd.read_csv(filename, index_col=None, header=0)\n",
    "    dataframe = df.iloc[:, 1:15].copy()\n",
    "    dataframe['subject_id'] = metadata['subject.id'][index]\n",
    "    dataframe['y'] = metadata['Group'][index]\n",
    "    index += 1\n",
    "    modified_dataframes_list.append(dataframe)\n",
    "\n",
    "  return modified_dataframes_list\n",
    "\n",
    "'''def join_csv (modified_dataframes_list):\n",
    "  dataframes_list = []\n",
    "\n",
    "  for filename in modified_dataframes_list:\n",
    "    dataframe = pd.read_csv(filename, index_col=None, header=0)\n",
    "    dataframes_list.append(dataframe)\n",
    "\n",
    "  all_dataframes = pd.concat(dataframes_list, axis=0, ignore_index=True)\n",
    "  all_dataframes.to_csv('eeg_data.csv', index=False)\n",
    "\n",
    "  return all_dataframes'''"
   ]
  },
  {
   "cell_type": "code",
   "execution_count": null,
   "metadata": {
    "id": "R7PSeTynovNi"
   },
   "outputs": [],
   "source": [
    "modified_dataframes = add_id_y(all_files, metadata)\n",
    "\n",
    "dataframes_list = []\n",
    "\n",
    "for dataframe in modified_dataframes:\n",
    "  dataframes_list.append(dataframe)\n",
    "\n",
    "all_dataframes = pd.concat(dataframes_list, axis=0, ignore_index=True)\n",
    "all_dataframes.to_csv('eeg_data.csv', index=False)"
   ]
  },
  {
   "cell_type": "code",
   "execution_count": null,
   "metadata": {
    "id": "jI5iQfDnber2"
   },
   "outputs": [],
   "source": [
    "all_dataframes"
   ]
  },
  {
   "cell_type": "markdown",
   "metadata": {
    "id": "QzpQG8cW3fvX"
   },
   "source": [
    "**---------------Procesando el dataset para el modelo (formato mne)---------------**"
   ]
  },
  {
   "cell_type": "markdown",
   "metadata": {
    "id": "FqiPCyZQtaQ_"
   },
   "source": [
    "**Colmna y**\n",
    "\n",
    "Epilepsia == 1\n",
    "\n",
    "Normal == 0"
   ]
  },
  {
   "cell_type": "code",
   "execution_count": 10,
   "metadata": {
    "tags": []
   },
   "outputs": [
    {
     "data": {
      "text/html": [
       "<div>\n",
       "<style scoped>\n",
       "    .dataframe tbody tr th:only-of-type {\n",
       "        vertical-align: middle;\n",
       "    }\n",
       "\n",
       "    .dataframe tbody tr th {\n",
       "        vertical-align: top;\n",
       "    }\n",
       "\n",
       "    .dataframe thead th {\n",
       "        text-align: right;\n",
       "    }\n",
       "</style>\n",
       "<table border=\"1\" class=\"dataframe\">\n",
       "  <thead>\n",
       "    <tr style=\"text-align: right;\">\n",
       "      <th></th>\n",
       "      <th>AF3</th>\n",
       "      <th>AF4</th>\n",
       "      <th>F3</th>\n",
       "      <th>F4</th>\n",
       "      <th>F7</th>\n",
       "      <th>F8</th>\n",
       "      <th>FC5</th>\n",
       "      <th>FC6</th>\n",
       "      <th>O1</th>\n",
       "      <th>O2</th>\n",
       "      <th>P7</th>\n",
       "      <th>P8</th>\n",
       "      <th>T7</th>\n",
       "      <th>T8</th>\n",
       "      <th>subject_id</th>\n",
       "      <th>y</th>\n",
       "    </tr>\n",
       "  </thead>\n",
       "  <tbody>\n",
       "    <tr>\n",
       "      <th>0</th>\n",
       "      <td>4426.153846</td>\n",
       "      <td>3994.871795</td>\n",
       "      <td>4408.205128</td>\n",
       "      <td>3847.692308</td>\n",
       "      <td>4690.256410</td>\n",
       "      <td>3895.897436</td>\n",
       "      <td>4702.051282</td>\n",
       "      <td>3914.871795</td>\n",
       "      <td>4049.743590</td>\n",
       "      <td>4297.948718</td>\n",
       "      <td>4186.153846</td>\n",
       "      <td>4132.820513</td>\n",
       "      <td>4106.666667</td>\n",
       "      <td>4076.410256</td>\n",
       "      <td>1</td>\n",
       "      <td>Epilepsy</td>\n",
       "    </tr>\n",
       "    <tr>\n",
       "      <th>1</th>\n",
       "      <td>4420.512821</td>\n",
       "      <td>3986.666667</td>\n",
       "      <td>4394.358974</td>\n",
       "      <td>3836.923077</td>\n",
       "      <td>4678.461538</td>\n",
       "      <td>3886.666667</td>\n",
       "      <td>4696.410256</td>\n",
       "      <td>3910.769231</td>\n",
       "      <td>4054.358974</td>\n",
       "      <td>4295.897436</td>\n",
       "      <td>4187.179487</td>\n",
       "      <td>4126.666667</td>\n",
       "      <td>4105.641026</td>\n",
       "      <td>4065.128205</td>\n",
       "      <td>1</td>\n",
       "      <td>Epilepsy</td>\n",
       "    </tr>\n",
       "    <tr>\n",
       "      <th>2</th>\n",
       "      <td>4413.846154</td>\n",
       "      <td>3986.153846</td>\n",
       "      <td>4386.666667</td>\n",
       "      <td>3831.794872</td>\n",
       "      <td>4654.871795</td>\n",
       "      <td>3881.025641</td>\n",
       "      <td>4690.769231</td>\n",
       "      <td>3908.205128</td>\n",
       "      <td>4066.666667</td>\n",
       "      <td>4301.025641</td>\n",
       "      <td>4188.205128</td>\n",
       "      <td>4123.076923</td>\n",
       "      <td>4103.076923</td>\n",
       "      <td>4063.589744</td>\n",
       "      <td>1</td>\n",
       "      <td>Epilepsy</td>\n",
       "    </tr>\n",
       "    <tr>\n",
       "      <th>3</th>\n",
       "      <td>4407.692308</td>\n",
       "      <td>3984.615385</td>\n",
       "      <td>4384.102564</td>\n",
       "      <td>3832.820513</td>\n",
       "      <td>4644.615385</td>\n",
       "      <td>3883.076923</td>\n",
       "      <td>4686.153846</td>\n",
       "      <td>3910.256410</td>\n",
       "      <td>4063.076923</td>\n",
       "      <td>4298.974359</td>\n",
       "      <td>4184.615385</td>\n",
       "      <td>4127.179487</td>\n",
       "      <td>4095.384615</td>\n",
       "      <td>4071.282051</td>\n",
       "      <td>1</td>\n",
       "      <td>Epilepsy</td>\n",
       "    </tr>\n",
       "    <tr>\n",
       "      <th>4</th>\n",
       "      <td>4407.179487</td>\n",
       "      <td>3978.974359</td>\n",
       "      <td>4382.564103</td>\n",
       "      <td>3832.307692</td>\n",
       "      <td>4647.692308</td>\n",
       "      <td>3878.974359</td>\n",
       "      <td>4685.641026</td>\n",
       "      <td>3903.076923</td>\n",
       "      <td>4057.948718</td>\n",
       "      <td>4295.384615</td>\n",
       "      <td>4182.564103</td>\n",
       "      <td>4128.205128</td>\n",
       "      <td>4090.769231</td>\n",
       "      <td>4064.102564</td>\n",
       "      <td>1</td>\n",
       "      <td>Epilepsy</td>\n",
       "    </tr>\n",
       "    <tr>\n",
       "      <th>...</th>\n",
       "      <td>...</td>\n",
       "      <td>...</td>\n",
       "      <td>...</td>\n",
       "      <td>...</td>\n",
       "      <td>...</td>\n",
       "      <td>...</td>\n",
       "      <td>...</td>\n",
       "      <td>...</td>\n",
       "      <td>...</td>\n",
       "      <td>...</td>\n",
       "      <td>...</td>\n",
       "      <td>...</td>\n",
       "      <td>...</td>\n",
       "      <td>...</td>\n",
       "      <td>...</td>\n",
       "      <td>...</td>\n",
       "    </tr>\n",
       "    <tr>\n",
       "      <th>3850363</th>\n",
       "      <td>4211.794872</td>\n",
       "      <td>3862.051282</td>\n",
       "      <td>4139.487179</td>\n",
       "      <td>3670.256410</td>\n",
       "      <td>4327.179487</td>\n",
       "      <td>3662.564103</td>\n",
       "      <td>4557.435897</td>\n",
       "      <td>3894.358974</td>\n",
       "      <td>4238.974359</td>\n",
       "      <td>4189.743590</td>\n",
       "      <td>4010.256410</td>\n",
       "      <td>4126.153846</td>\n",
       "      <td>3830.769231</td>\n",
       "      <td>3883.589744</td>\n",
       "      <td>97</td>\n",
       "      <td>Control</td>\n",
       "    </tr>\n",
       "    <tr>\n",
       "      <th>3850364</th>\n",
       "      <td>4209.743590</td>\n",
       "      <td>3861.538462</td>\n",
       "      <td>4138.974359</td>\n",
       "      <td>3667.179487</td>\n",
       "      <td>4323.589744</td>\n",
       "      <td>3662.051282</td>\n",
       "      <td>4556.410256</td>\n",
       "      <td>3893.846154</td>\n",
       "      <td>4232.820513</td>\n",
       "      <td>4188.205128</td>\n",
       "      <td>4005.641026</td>\n",
       "      <td>4125.128205</td>\n",
       "      <td>3829.230769</td>\n",
       "      <td>3878.974359</td>\n",
       "      <td>97</td>\n",
       "      <td>Control</td>\n",
       "    </tr>\n",
       "    <tr>\n",
       "      <th>3850365</th>\n",
       "      <td>4211.282051</td>\n",
       "      <td>3862.564103</td>\n",
       "      <td>4136.410256</td>\n",
       "      <td>3671.282051</td>\n",
       "      <td>4324.102564</td>\n",
       "      <td>3664.102564</td>\n",
       "      <td>4556.923077</td>\n",
       "      <td>3896.923077</td>\n",
       "      <td>4235.384615</td>\n",
       "      <td>4185.128205</td>\n",
       "      <td>4005.128205</td>\n",
       "      <td>4123.076923</td>\n",
       "      <td>3829.230769</td>\n",
       "      <td>3882.051282</td>\n",
       "      <td>97</td>\n",
       "      <td>Control</td>\n",
       "    </tr>\n",
       "    <tr>\n",
       "      <th>3850366</th>\n",
       "      <td>4217.435897</td>\n",
       "      <td>3866.666667</td>\n",
       "      <td>4140.000000</td>\n",
       "      <td>3676.923077</td>\n",
       "      <td>4326.153846</td>\n",
       "      <td>3668.205128</td>\n",
       "      <td>4558.974359</td>\n",
       "      <td>3901.025641</td>\n",
       "      <td>4234.871795</td>\n",
       "      <td>4184.615385</td>\n",
       "      <td>4010.256410</td>\n",
       "      <td>4122.564103</td>\n",
       "      <td>3829.230769</td>\n",
       "      <td>3890.769231</td>\n",
       "      <td>97</td>\n",
       "      <td>Control</td>\n",
       "    </tr>\n",
       "    <tr>\n",
       "      <th>3850367</th>\n",
       "      <td>4217.948718</td>\n",
       "      <td>3866.153846</td>\n",
       "      <td>4141.538462</td>\n",
       "      <td>3672.820513</td>\n",
       "      <td>4326.153846</td>\n",
       "      <td>3668.717949</td>\n",
       "      <td>4558.974359</td>\n",
       "      <td>3900.512821</td>\n",
       "      <td>4234.358974</td>\n",
       "      <td>4185.128205</td>\n",
       "      <td>4016.410256</td>\n",
       "      <td>4123.589744</td>\n",
       "      <td>3830.256410</td>\n",
       "      <td>3892.820513</td>\n",
       "      <td>97</td>\n",
       "      <td>Control</td>\n",
       "    </tr>\n",
       "  </tbody>\n",
       "</table>\n",
       "<p>3850368 rows × 16 columns</p>\n",
       "</div>"
      ],
      "text/plain": [
       "                 AF3          AF4           F3           F4           F7  \\\n",
       "0        4426.153846  3994.871795  4408.205128  3847.692308  4690.256410   \n",
       "1        4420.512821  3986.666667  4394.358974  3836.923077  4678.461538   \n",
       "2        4413.846154  3986.153846  4386.666667  3831.794872  4654.871795   \n",
       "3        4407.692308  3984.615385  4384.102564  3832.820513  4644.615385   \n",
       "4        4407.179487  3978.974359  4382.564103  3832.307692  4647.692308   \n",
       "...              ...          ...          ...          ...          ...   \n",
       "3850363  4211.794872  3862.051282  4139.487179  3670.256410  4327.179487   \n",
       "3850364  4209.743590  3861.538462  4138.974359  3667.179487  4323.589744   \n",
       "3850365  4211.282051  3862.564103  4136.410256  3671.282051  4324.102564   \n",
       "3850366  4217.435897  3866.666667  4140.000000  3676.923077  4326.153846   \n",
       "3850367  4217.948718  3866.153846  4141.538462  3672.820513  4326.153846   \n",
       "\n",
       "                  F8          FC5          FC6           O1           O2  \\\n",
       "0        3895.897436  4702.051282  3914.871795  4049.743590  4297.948718   \n",
       "1        3886.666667  4696.410256  3910.769231  4054.358974  4295.897436   \n",
       "2        3881.025641  4690.769231  3908.205128  4066.666667  4301.025641   \n",
       "3        3883.076923  4686.153846  3910.256410  4063.076923  4298.974359   \n",
       "4        3878.974359  4685.641026  3903.076923  4057.948718  4295.384615   \n",
       "...              ...          ...          ...          ...          ...   \n",
       "3850363  3662.564103  4557.435897  3894.358974  4238.974359  4189.743590   \n",
       "3850364  3662.051282  4556.410256  3893.846154  4232.820513  4188.205128   \n",
       "3850365  3664.102564  4556.923077  3896.923077  4235.384615  4185.128205   \n",
       "3850366  3668.205128  4558.974359  3901.025641  4234.871795  4184.615385   \n",
       "3850367  3668.717949  4558.974359  3900.512821  4234.358974  4185.128205   \n",
       "\n",
       "                  P7           P8           T7           T8  subject_id  \\\n",
       "0        4186.153846  4132.820513  4106.666667  4076.410256           1   \n",
       "1        4187.179487  4126.666667  4105.641026  4065.128205           1   \n",
       "2        4188.205128  4123.076923  4103.076923  4063.589744           1   \n",
       "3        4184.615385  4127.179487  4095.384615  4071.282051           1   \n",
       "4        4182.564103  4128.205128  4090.769231  4064.102564           1   \n",
       "...              ...          ...          ...          ...         ...   \n",
       "3850363  4010.256410  4126.153846  3830.769231  3883.589744          97   \n",
       "3850364  4005.641026  4125.128205  3829.230769  3878.974359          97   \n",
       "3850365  4005.128205  4123.076923  3829.230769  3882.051282          97   \n",
       "3850366  4010.256410  4122.564103  3829.230769  3890.769231          97   \n",
       "3850367  4016.410256  4123.589744  3830.256410  3892.820513          97   \n",
       "\n",
       "                y  \n",
       "0        Epilepsy  \n",
       "1        Epilepsy  \n",
       "2        Epilepsy  \n",
       "3        Epilepsy  \n",
       "4        Epilepsy  \n",
       "...           ...  \n",
       "3850363   Control  \n",
       "3850364   Control  \n",
       "3850365   Control  \n",
       "3850366   Control  \n",
       "3850367   Control  \n",
       "\n",
       "[3850368 rows x 16 columns]"
      ]
     },
     "execution_count": 10,
     "metadata": {},
     "output_type": "execute_result"
    }
   ],
   "source": [
    "eeg_data = pd.read_csv('C:\\\\Users\\\\47575909\\\\Desktop\\\\eeg_data.csv')\n",
    "eeg_data"
   ]
  },
  {
   "cell_type": "code",
   "execution_count": 11,
   "metadata": {
    "colab": {
     "base_uri": "https://localhost:8080/",
     "height": 444
    },
    "id": "2XiUWfmOki3i",
    "outputId": "d8490a9d-f719-45f0-b8a2-6a4f8c574ec5"
   },
   "outputs": [
    {
     "data": {
      "text/html": [
       "<div>\n",
       "<style scoped>\n",
       "    .dataframe tbody tr th:only-of-type {\n",
       "        vertical-align: middle;\n",
       "    }\n",
       "\n",
       "    .dataframe tbody tr th {\n",
       "        vertical-align: top;\n",
       "    }\n",
       "\n",
       "    .dataframe thead th {\n",
       "        text-align: right;\n",
       "    }\n",
       "</style>\n",
       "<table border=\"1\" class=\"dataframe\">\n",
       "  <thead>\n",
       "    <tr style=\"text-align: right;\">\n",
       "      <th></th>\n",
       "      <th>AF3</th>\n",
       "      <th>AF4</th>\n",
       "      <th>F3</th>\n",
       "      <th>F4</th>\n",
       "      <th>F7</th>\n",
       "      <th>F8</th>\n",
       "      <th>FC5</th>\n",
       "      <th>FC6</th>\n",
       "      <th>O1</th>\n",
       "      <th>O2</th>\n",
       "      <th>P7</th>\n",
       "      <th>P8</th>\n",
       "      <th>T7</th>\n",
       "      <th>T8</th>\n",
       "      <th>subject_id</th>\n",
       "      <th>y</th>\n",
       "    </tr>\n",
       "  </thead>\n",
       "  <tbody>\n",
       "    <tr>\n",
       "      <th>0</th>\n",
       "      <td>4426.153846</td>\n",
       "      <td>3994.871795</td>\n",
       "      <td>4408.205128</td>\n",
       "      <td>3847.692308</td>\n",
       "      <td>4690.256410</td>\n",
       "      <td>3895.897436</td>\n",
       "      <td>4702.051282</td>\n",
       "      <td>3914.871795</td>\n",
       "      <td>4049.743590</td>\n",
       "      <td>4297.948718</td>\n",
       "      <td>4186.153846</td>\n",
       "      <td>4132.820513</td>\n",
       "      <td>4106.666667</td>\n",
       "      <td>4076.410256</td>\n",
       "      <td>1</td>\n",
       "      <td>1</td>\n",
       "    </tr>\n",
       "    <tr>\n",
       "      <th>1</th>\n",
       "      <td>4420.512821</td>\n",
       "      <td>3986.666667</td>\n",
       "      <td>4394.358974</td>\n",
       "      <td>3836.923077</td>\n",
       "      <td>4678.461538</td>\n",
       "      <td>3886.666667</td>\n",
       "      <td>4696.410256</td>\n",
       "      <td>3910.769231</td>\n",
       "      <td>4054.358974</td>\n",
       "      <td>4295.897436</td>\n",
       "      <td>4187.179487</td>\n",
       "      <td>4126.666667</td>\n",
       "      <td>4105.641026</td>\n",
       "      <td>4065.128205</td>\n",
       "      <td>1</td>\n",
       "      <td>1</td>\n",
       "    </tr>\n",
       "    <tr>\n",
       "      <th>2</th>\n",
       "      <td>4413.846154</td>\n",
       "      <td>3986.153846</td>\n",
       "      <td>4386.666667</td>\n",
       "      <td>3831.794872</td>\n",
       "      <td>4654.871795</td>\n",
       "      <td>3881.025641</td>\n",
       "      <td>4690.769231</td>\n",
       "      <td>3908.205128</td>\n",
       "      <td>4066.666667</td>\n",
       "      <td>4301.025641</td>\n",
       "      <td>4188.205128</td>\n",
       "      <td>4123.076923</td>\n",
       "      <td>4103.076923</td>\n",
       "      <td>4063.589744</td>\n",
       "      <td>1</td>\n",
       "      <td>1</td>\n",
       "    </tr>\n",
       "    <tr>\n",
       "      <th>3</th>\n",
       "      <td>4407.692308</td>\n",
       "      <td>3984.615385</td>\n",
       "      <td>4384.102564</td>\n",
       "      <td>3832.820513</td>\n",
       "      <td>4644.615385</td>\n",
       "      <td>3883.076923</td>\n",
       "      <td>4686.153846</td>\n",
       "      <td>3910.256410</td>\n",
       "      <td>4063.076923</td>\n",
       "      <td>4298.974359</td>\n",
       "      <td>4184.615385</td>\n",
       "      <td>4127.179487</td>\n",
       "      <td>4095.384615</td>\n",
       "      <td>4071.282051</td>\n",
       "      <td>1</td>\n",
       "      <td>1</td>\n",
       "    </tr>\n",
       "    <tr>\n",
       "      <th>4</th>\n",
       "      <td>4407.179487</td>\n",
       "      <td>3978.974359</td>\n",
       "      <td>4382.564103</td>\n",
       "      <td>3832.307692</td>\n",
       "      <td>4647.692308</td>\n",
       "      <td>3878.974359</td>\n",
       "      <td>4685.641026</td>\n",
       "      <td>3903.076923</td>\n",
       "      <td>4057.948718</td>\n",
       "      <td>4295.384615</td>\n",
       "      <td>4182.564103</td>\n",
       "      <td>4128.205128</td>\n",
       "      <td>4090.769231</td>\n",
       "      <td>4064.102564</td>\n",
       "      <td>1</td>\n",
       "      <td>1</td>\n",
       "    </tr>\n",
       "    <tr>\n",
       "      <th>...</th>\n",
       "      <td>...</td>\n",
       "      <td>...</td>\n",
       "      <td>...</td>\n",
       "      <td>...</td>\n",
       "      <td>...</td>\n",
       "      <td>...</td>\n",
       "      <td>...</td>\n",
       "      <td>...</td>\n",
       "      <td>...</td>\n",
       "      <td>...</td>\n",
       "      <td>...</td>\n",
       "      <td>...</td>\n",
       "      <td>...</td>\n",
       "      <td>...</td>\n",
       "      <td>...</td>\n",
       "      <td>...</td>\n",
       "    </tr>\n",
       "    <tr>\n",
       "      <th>3850363</th>\n",
       "      <td>4211.794872</td>\n",
       "      <td>3862.051282</td>\n",
       "      <td>4139.487179</td>\n",
       "      <td>3670.256410</td>\n",
       "      <td>4327.179487</td>\n",
       "      <td>3662.564103</td>\n",
       "      <td>4557.435897</td>\n",
       "      <td>3894.358974</td>\n",
       "      <td>4238.974359</td>\n",
       "      <td>4189.743590</td>\n",
       "      <td>4010.256410</td>\n",
       "      <td>4126.153846</td>\n",
       "      <td>3830.769231</td>\n",
       "      <td>3883.589744</td>\n",
       "      <td>97</td>\n",
       "      <td>0</td>\n",
       "    </tr>\n",
       "    <tr>\n",
       "      <th>3850364</th>\n",
       "      <td>4209.743590</td>\n",
       "      <td>3861.538462</td>\n",
       "      <td>4138.974359</td>\n",
       "      <td>3667.179487</td>\n",
       "      <td>4323.589744</td>\n",
       "      <td>3662.051282</td>\n",
       "      <td>4556.410256</td>\n",
       "      <td>3893.846154</td>\n",
       "      <td>4232.820513</td>\n",
       "      <td>4188.205128</td>\n",
       "      <td>4005.641026</td>\n",
       "      <td>4125.128205</td>\n",
       "      <td>3829.230769</td>\n",
       "      <td>3878.974359</td>\n",
       "      <td>97</td>\n",
       "      <td>0</td>\n",
       "    </tr>\n",
       "    <tr>\n",
       "      <th>3850365</th>\n",
       "      <td>4211.282051</td>\n",
       "      <td>3862.564103</td>\n",
       "      <td>4136.410256</td>\n",
       "      <td>3671.282051</td>\n",
       "      <td>4324.102564</td>\n",
       "      <td>3664.102564</td>\n",
       "      <td>4556.923077</td>\n",
       "      <td>3896.923077</td>\n",
       "      <td>4235.384615</td>\n",
       "      <td>4185.128205</td>\n",
       "      <td>4005.128205</td>\n",
       "      <td>4123.076923</td>\n",
       "      <td>3829.230769</td>\n",
       "      <td>3882.051282</td>\n",
       "      <td>97</td>\n",
       "      <td>0</td>\n",
       "    </tr>\n",
       "    <tr>\n",
       "      <th>3850366</th>\n",
       "      <td>4217.435897</td>\n",
       "      <td>3866.666667</td>\n",
       "      <td>4140.000000</td>\n",
       "      <td>3676.923077</td>\n",
       "      <td>4326.153846</td>\n",
       "      <td>3668.205128</td>\n",
       "      <td>4558.974359</td>\n",
       "      <td>3901.025641</td>\n",
       "      <td>4234.871795</td>\n",
       "      <td>4184.615385</td>\n",
       "      <td>4010.256410</td>\n",
       "      <td>4122.564103</td>\n",
       "      <td>3829.230769</td>\n",
       "      <td>3890.769231</td>\n",
       "      <td>97</td>\n",
       "      <td>0</td>\n",
       "    </tr>\n",
       "    <tr>\n",
       "      <th>3850367</th>\n",
       "      <td>4217.948718</td>\n",
       "      <td>3866.153846</td>\n",
       "      <td>4141.538462</td>\n",
       "      <td>3672.820513</td>\n",
       "      <td>4326.153846</td>\n",
       "      <td>3668.717949</td>\n",
       "      <td>4558.974359</td>\n",
       "      <td>3900.512821</td>\n",
       "      <td>4234.358974</td>\n",
       "      <td>4185.128205</td>\n",
       "      <td>4016.410256</td>\n",
       "      <td>4123.589744</td>\n",
       "      <td>3830.256410</td>\n",
       "      <td>3892.820513</td>\n",
       "      <td>97</td>\n",
       "      <td>0</td>\n",
       "    </tr>\n",
       "  </tbody>\n",
       "</table>\n",
       "<p>3850368 rows × 16 columns</p>\n",
       "</div>"
      ],
      "text/plain": [
       "                 AF3          AF4           F3           F4           F7  \\\n",
       "0        4426.153846  3994.871795  4408.205128  3847.692308  4690.256410   \n",
       "1        4420.512821  3986.666667  4394.358974  3836.923077  4678.461538   \n",
       "2        4413.846154  3986.153846  4386.666667  3831.794872  4654.871795   \n",
       "3        4407.692308  3984.615385  4384.102564  3832.820513  4644.615385   \n",
       "4        4407.179487  3978.974359  4382.564103  3832.307692  4647.692308   \n",
       "...              ...          ...          ...          ...          ...   \n",
       "3850363  4211.794872  3862.051282  4139.487179  3670.256410  4327.179487   \n",
       "3850364  4209.743590  3861.538462  4138.974359  3667.179487  4323.589744   \n",
       "3850365  4211.282051  3862.564103  4136.410256  3671.282051  4324.102564   \n",
       "3850366  4217.435897  3866.666667  4140.000000  3676.923077  4326.153846   \n",
       "3850367  4217.948718  3866.153846  4141.538462  3672.820513  4326.153846   \n",
       "\n",
       "                  F8          FC5          FC6           O1           O2  \\\n",
       "0        3895.897436  4702.051282  3914.871795  4049.743590  4297.948718   \n",
       "1        3886.666667  4696.410256  3910.769231  4054.358974  4295.897436   \n",
       "2        3881.025641  4690.769231  3908.205128  4066.666667  4301.025641   \n",
       "3        3883.076923  4686.153846  3910.256410  4063.076923  4298.974359   \n",
       "4        3878.974359  4685.641026  3903.076923  4057.948718  4295.384615   \n",
       "...              ...          ...          ...          ...          ...   \n",
       "3850363  3662.564103  4557.435897  3894.358974  4238.974359  4189.743590   \n",
       "3850364  3662.051282  4556.410256  3893.846154  4232.820513  4188.205128   \n",
       "3850365  3664.102564  4556.923077  3896.923077  4235.384615  4185.128205   \n",
       "3850366  3668.205128  4558.974359  3901.025641  4234.871795  4184.615385   \n",
       "3850367  3668.717949  4558.974359  3900.512821  4234.358974  4185.128205   \n",
       "\n",
       "                  P7           P8           T7           T8  subject_id  y  \n",
       "0        4186.153846  4132.820513  4106.666667  4076.410256           1  1  \n",
       "1        4187.179487  4126.666667  4105.641026  4065.128205           1  1  \n",
       "2        4188.205128  4123.076923  4103.076923  4063.589744           1  1  \n",
       "3        4184.615385  4127.179487  4095.384615  4071.282051           1  1  \n",
       "4        4182.564103  4128.205128  4090.769231  4064.102564           1  1  \n",
       "...              ...          ...          ...          ...         ... ..  \n",
       "3850363  4010.256410  4126.153846  3830.769231  3883.589744          97  0  \n",
       "3850364  4005.641026  4125.128205  3829.230769  3878.974359          97  0  \n",
       "3850365  4005.128205  4123.076923  3829.230769  3882.051282          97  0  \n",
       "3850366  4010.256410  4122.564103  3829.230769  3890.769231          97  0  \n",
       "3850367  4016.410256  4123.589744  3830.256410  3892.820513          97  0  \n",
       "\n",
       "[3850368 rows x 16 columns]"
      ]
     },
     "execution_count": 11,
     "metadata": {},
     "output_type": "execute_result"
    }
   ],
   "source": [
    "#paso los valores categóricos a numéricos\n",
    "mapping = {'Epilepsy': 1, 'Control': 0}\n",
    "eeg_data['y'] = eeg_data['y'].map(mapping)\n",
    "eeg_data"
   ]
  },
  {
   "cell_type": "code",
   "execution_count": 12,
   "metadata": {
    "id": "4ikv64RBzgCT"
   },
   "outputs": [],
   "source": [
    "#función para convertir los datos a formato mne\n",
    "def convertDF2MNE(sub):\n",
    "    info = mne.create_info(list(sub.columns), ch_types=['eeg'] * len(sub.columns), sfreq=128)\n",
    "    info.set_montage('standard_1020')\n",
    "    data=mne.io.RawArray(sub.T, info)\n",
    "    data.set_eeg_reference()\n",
    "    #data.filter(l_freq=0.1,h_freq=45)\n",
    "    epochs = mne.make_fixed_length_epochs(data, duration = 3, overlap = 2)\n",
    "    return epochs.get_data()"
   ]
  },
  {
   "cell_type": "code",
   "execution_count": 13,
   "metadata": {
    "colab": {
     "base_uri": "https://localhost:8080/"
    },
    "id": "MgmoUGiiEQ1E",
    "outputId": "63c50147-2e51-4df8-bf06-78c4e578a69d"
   },
   "outputs": [
    {
     "name": "stdout",
     "output_type": "stream",
     "text": [
      "[2, 3, 4, 5, 6, 7, 8, 9, 10, 11, 12, 13, 14, 15, 16, 17, 18, 19, 20, 21, 22, 23, 24, 25, 26, 27, 28, 29, 30, 31, 32, 33, 34, 35, 36, 37, 38, 39, 40, 41, 42, 43, 44, 45, 46, 47, 48, 49, 50, 51, 52, 53, 54, 55, 56, 57, 58, 59, 60, 61, 62, 63, 64, 65, 66, 67, 68, 69, 70, 71, 72, 73, 74, 75, 76, 77, 78, 79, 80, 81, 82, 83, 84, 85, 86, 87, 88, 89, 90, 91, 92, 93, 94, 95, 96, 97]\n"
     ]
    }
   ],
   "source": [
    "#agrupo las líneas que tienen el mismo id, o sea que son del mismo eeg\n",
    "groups = eeg_data.groupby('subject_id')\n",
    "\n",
    "#hago una lista con cada id de cada subject (hay 97 eeg)\n",
    "grp_keys = list(groups.groups.keys())\n",
    "print(grp_keys)"
   ]
  },
  {
   "cell_type": "code",
   "execution_count": 14,
   "metadata": {
    "colab": {
     "base_uri": "https://localhost:8080/"
    },
    "id": "MgmoUGiiEQ1E",
    "outputId": "63c50147-2e51-4df8-bf06-78c4e578a69d"
   },
   "outputs": [],
   "source": [
    "from tqdm import tqdm"
   ]
  },
  {
   "cell_type": "code",
   "execution_count": null,
   "metadata": {
    "colab": {
     "base_uri": "https://localhost:8080/",
     "height": 407
    },
    "id": "kOw4buOsIrK-",
    "outputId": "a9db7628-4e94-47e4-be63-9965f65e5827"
   },
   "outputs": [],
   "source": [
    "#listas para almacenar los datos\n",
    "data_list = []\n",
    "\n",
    "for i, grpno in tqdm(enumerate(grp_keys)):\n",
    "    grp = groups.get_group(grpno).drop(['subject_id'], axis=1)\n",
    "    label = int(grp['y'].unique())\n",
    "    subject_id = grpno\n",
    "    grp = grp.drop('y', axis=1)\n",
    "\n",
    "    #convierto mi info a formato mne\n",
    "    data = convertDF2MNE(grp)  #(trials, channels, length)\n",
    "\n",
    "    for c, x in enumerate(data):  #loop trials\n",
    "        Wx, scales = cwt(x, 'morlet')\n",
    "        Wx = np.abs(Wx)\n",
    "        path = os.path.join('C:\\\\Users\\\\47575909\\\\Desktop\\\\scaleogram', f'subvideo_{grpno}/')\n",
    "        os.makedirs(path, exist_ok=True)\n",
    "        path = os.path.join(path, f'trial_{c}.npy')  # Corrección en la construcción de la ruta\n",
    "        np.save(path, Wx)\n",
    "\n",
    "        data_entry = {\n",
    "            'grpno': i,\n",
    "            'label': label,\n",
    "            'path': path\n",
    "        }\n",
    "\n",
    "        #guardo la info del grupo (en realidad sería el \"id\" del eeg), la label y la path del archivo literal del eeg que ya se procesó\n",
    "        data_list.append(data_entry)\n",
    "\n",
    "#creo un dataset de TensorFlow\n",
    "dataset = tf.data.Dataset.from_generator(\n",
    "    generator=lambda: (data_entry for data_entry in data_list),\n",
    "    output_signature={\n",
    "        'grpno': tf.TensorSpec(shape=(), dtype=tf.int32),\n",
    "        'label': tf.TensorSpec(shape=(), dtype=tf.int32),\n",
    "        'path': tf.TensorSpec(shape=(), dtype=tf.string)\n",
    "    }\n",
    ")"
   ]
  },
  {
   "cell_type": "code",
   "execution_count": 16,
   "metadata": {},
   "outputs": [],
   "source": [
    "#función para serializar un ejemplo en un TFRecord\n",
    "def serialize(grpno, label, path):\n",
    "    feature = {\n",
    "        'grpno': tf.train.Feature(int64_list=tf.train.Int64List(value=[grpno])),\n",
    "        'label': tf.train.Feature(int64_list=tf.train.Int64List(value=[label])),\n",
    "        'path': tf.train.Feature(bytes_list=tf.train.BytesList(value=[path.encode('utf-8')])),\n",
    "    }\n",
    "    \n",
    "    example_proto = tf.train.Example(features=tf.train.Features(feature=feature))\n",
    "    \n",
    "    return example_proto.SerializeToString()"
   ]
  },
  {
   "cell_type": "code",
   "execution_count": 17,
   "metadata": {},
   "outputs": [],
   "source": [
    "TFdataset = './tfrecord_data/'\n",
    "os.makedirs(TFdataset)\n",
    "\n",
    "#función para guardar los datos de cada grupo\n",
    "def save_group_to_tfrecord(grpno, dataset):\n",
    "    group_file_dataset = os.path.join(TFdataset, f'{grpno}_data.tfrecord')\n",
    "    \n",
    "    with tf.io.TFRecordWriter(group_file_dataset) as writer:\n",
    "        for data_entry in dataset:\n",
    "            grpno = data_entry['grpno'].numpy()\n",
    "            label = data_entry['label'].numpy()\n",
    "            path = data_entry['path'].numpy().decode('utf-8')\n",
    "            serialized = serialize(grpno, label, path)\n",
    "            writer.write(serialized)\n",
    "    \n",
    "    print(f'Datos del grupo {grpno} se guardó en {group_file_dataset}')"
   ]
  },
  {
   "cell_type": "code",
   "execution_count": 18,
   "metadata": {},
   "outputs": [
    {
     "name": "stdout",
     "output_type": "stream",
     "text": [
      "Datos del grupo 2 se guardó en ./tfrecord_data/2_data.tfrecord\n",
      "Datos del grupo 3 se guardó en ./tfrecord_data/3_data.tfrecord\n",
      "Datos del grupo 4 se guardó en ./tfrecord_data/4_data.tfrecord\n",
      "Datos del grupo 5 se guardó en ./tfrecord_data/5_data.tfrecord\n",
      "Datos del grupo 6 se guardó en ./tfrecord_data/6_data.tfrecord\n",
      "Datos del grupo 7 se guardó en ./tfrecord_data/7_data.tfrecord\n",
      "Datos del grupo 8 se guardó en ./tfrecord_data/8_data.tfrecord\n",
      "Datos del grupo 9 se guardó en ./tfrecord_data/9_data.tfrecord\n",
      "Datos del grupo 10 se guardó en ./tfrecord_data/10_data.tfrecord\n",
      "Datos del grupo 11 se guardó en ./tfrecord_data/11_data.tfrecord\n",
      "Datos del grupo 12 se guardó en ./tfrecord_data/12_data.tfrecord\n",
      "Datos del grupo 13 se guardó en ./tfrecord_data/13_data.tfrecord\n",
      "Datos del grupo 14 se guardó en ./tfrecord_data/14_data.tfrecord\n",
      "Datos del grupo 15 se guardó en ./tfrecord_data/15_data.tfrecord\n",
      "Datos del grupo 16 se guardó en ./tfrecord_data/16_data.tfrecord\n",
      "Datos del grupo 17 se guardó en ./tfrecord_data/17_data.tfrecord\n",
      "Datos del grupo 18 se guardó en ./tfrecord_data/18_data.tfrecord\n",
      "Datos del grupo 19 se guardó en ./tfrecord_data/19_data.tfrecord\n",
      "Datos del grupo 20 se guardó en ./tfrecord_data/20_data.tfrecord\n",
      "Datos del grupo 21 se guardó en ./tfrecord_data/21_data.tfrecord\n",
      "Datos del grupo 22 se guardó en ./tfrecord_data/22_data.tfrecord\n",
      "Datos del grupo 23 se guardó en ./tfrecord_data/23_data.tfrecord\n",
      "Datos del grupo 24 se guardó en ./tfrecord_data/24_data.tfrecord\n",
      "Datos del grupo 25 se guardó en ./tfrecord_data/25_data.tfrecord\n",
      "Datos del grupo 26 se guardó en ./tfrecord_data/26_data.tfrecord\n",
      "Datos del grupo 27 se guardó en ./tfrecord_data/27_data.tfrecord\n",
      "Datos del grupo 28 se guardó en ./tfrecord_data/28_data.tfrecord\n",
      "Datos del grupo 29 se guardó en ./tfrecord_data/29_data.tfrecord\n",
      "Datos del grupo 30 se guardó en ./tfrecord_data/30_data.tfrecord\n",
      "Datos del grupo 31 se guardó en ./tfrecord_data/31_data.tfrecord\n",
      "Datos del grupo 32 se guardó en ./tfrecord_data/32_data.tfrecord\n",
      "Datos del grupo 33 se guardó en ./tfrecord_data/33_data.tfrecord\n",
      "Datos del grupo 34 se guardó en ./tfrecord_data/34_data.tfrecord\n",
      "Datos del grupo 35 se guardó en ./tfrecord_data/35_data.tfrecord\n",
      "Datos del grupo 36 se guardó en ./tfrecord_data/36_data.tfrecord\n",
      "Datos del grupo 37 se guardó en ./tfrecord_data/37_data.tfrecord\n",
      "Datos del grupo 38 se guardó en ./tfrecord_data/38_data.tfrecord\n",
      "Datos del grupo 39 se guardó en ./tfrecord_data/39_data.tfrecord\n",
      "Datos del grupo 40 se guardó en ./tfrecord_data/40_data.tfrecord\n",
      "Datos del grupo 41 se guardó en ./tfrecord_data/41_data.tfrecord\n",
      "Datos del grupo 42 se guardó en ./tfrecord_data/42_data.tfrecord\n",
      "Datos del grupo 43 se guardó en ./tfrecord_data/43_data.tfrecord\n",
      "Datos del grupo 44 se guardó en ./tfrecord_data/44_data.tfrecord\n",
      "Datos del grupo 45 se guardó en ./tfrecord_data/45_data.tfrecord\n",
      "Datos del grupo 46 se guardó en ./tfrecord_data/46_data.tfrecord\n",
      "Datos del grupo 47 se guardó en ./tfrecord_data/47_data.tfrecord\n",
      "Datos del grupo 48 se guardó en ./tfrecord_data/48_data.tfrecord\n",
      "Datos del grupo 49 se guardó en ./tfrecord_data/49_data.tfrecord\n",
      "Datos del grupo 50 se guardó en ./tfrecord_data/50_data.tfrecord\n",
      "Datos del grupo 51 se guardó en ./tfrecord_data/51_data.tfrecord\n",
      "Datos del grupo 52 se guardó en ./tfrecord_data/52_data.tfrecord\n",
      "Datos del grupo 53 se guardó en ./tfrecord_data/53_data.tfrecord\n",
      "Datos del grupo 54 se guardó en ./tfrecord_data/54_data.tfrecord\n",
      "Datos del grupo 55 se guardó en ./tfrecord_data/55_data.tfrecord\n",
      "Datos del grupo 56 se guardó en ./tfrecord_data/56_data.tfrecord\n",
      "Datos del grupo 57 se guardó en ./tfrecord_data/57_data.tfrecord\n",
      "Datos del grupo 58 se guardó en ./tfrecord_data/58_data.tfrecord\n",
      "Datos del grupo 59 se guardó en ./tfrecord_data/59_data.tfrecord\n",
      "Datos del grupo 60 se guardó en ./tfrecord_data/60_data.tfrecord\n",
      "Datos del grupo 61 se guardó en ./tfrecord_data/61_data.tfrecord\n",
      "Datos del grupo 62 se guardó en ./tfrecord_data/62_data.tfrecord\n",
      "Datos del grupo 63 se guardó en ./tfrecord_data/63_data.tfrecord\n",
      "Datos del grupo 64 se guardó en ./tfrecord_data/64_data.tfrecord\n",
      "Datos del grupo 65 se guardó en ./tfrecord_data/65_data.tfrecord\n",
      "Datos del grupo 66 se guardó en ./tfrecord_data/66_data.tfrecord\n",
      "Datos del grupo 67 se guardó en ./tfrecord_data/67_data.tfrecord\n",
      "Datos del grupo 68 se guardó en ./tfrecord_data/68_data.tfrecord\n",
      "Datos del grupo 69 se guardó en ./tfrecord_data/69_data.tfrecord\n",
      "Datos del grupo 70 se guardó en ./tfrecord_data/70_data.tfrecord\n",
      "Datos del grupo 71 se guardó en ./tfrecord_data/71_data.tfrecord\n",
      "Datos del grupo 72 se guardó en ./tfrecord_data/72_data.tfrecord\n",
      "Datos del grupo 73 se guardó en ./tfrecord_data/73_data.tfrecord\n",
      "Datos del grupo 74 se guardó en ./tfrecord_data/74_data.tfrecord\n",
      "Datos del grupo 75 se guardó en ./tfrecord_data/75_data.tfrecord\n",
      "Datos del grupo 76 se guardó en ./tfrecord_data/76_data.tfrecord\n",
      "Datos del grupo 77 se guardó en ./tfrecord_data/77_data.tfrecord\n",
      "Datos del grupo 78 se guardó en ./tfrecord_data/78_data.tfrecord\n",
      "Datos del grupo 79 se guardó en ./tfrecord_data/79_data.tfrecord\n",
      "Datos del grupo 80 se guardó en ./tfrecord_data/80_data.tfrecord\n",
      "Datos del grupo 81 se guardó en ./tfrecord_data/81_data.tfrecord\n",
      "Datos del grupo 82 se guardó en ./tfrecord_data/82_data.tfrecord\n",
      "Datos del grupo 83 se guardó en ./tfrecord_data/83_data.tfrecord\n",
      "Datos del grupo 84 se guardó en ./tfrecord_data/84_data.tfrecord\n",
      "Datos del grupo 85 se guardó en ./tfrecord_data/85_data.tfrecord\n",
      "Datos del grupo 86 se guardó en ./tfrecord_data/86_data.tfrecord\n",
      "Datos del grupo 87 se guardó en ./tfrecord_data/87_data.tfrecord\n",
      "Datos del grupo 88 se guardó en ./tfrecord_data/88_data.tfrecord\n",
      "Datos del grupo 89 se guardó en ./tfrecord_data/89_data.tfrecord\n",
      "Datos del grupo 90 se guardó en ./tfrecord_data/90_data.tfrecord\n",
      "Datos del grupo 91 se guardó en ./tfrecord_data/91_data.tfrecord\n",
      "Datos del grupo 92 se guardó en ./tfrecord_data/92_data.tfrecord\n",
      "Datos del grupo 93 se guardó en ./tfrecord_data/93_data.tfrecord\n",
      "Datos del grupo 94 se guardó en ./tfrecord_data/94_data.tfrecord\n",
      "Datos del grupo 95 se guardó en ./tfrecord_data/95_data.tfrecord\n",
      "Datos del grupo 96 se guardó en ./tfrecord_data/96_data.tfrecord\n",
      "Datos del grupo 97 se guardó en ./tfrecord_data/97_data.tfrecord\n"
     ]
    }
   ],
   "source": [
    "for grpno in grp_keys:\n",
    "    group_dataset = dataset.filter(lambda x: x['grpno'] == grpno)\n",
    "    save_group_to_tfrecord(grpno, group_dataset)"
   ]
  },
  {
   "cell_type": "code",
   "execution_count": 3,
   "metadata": {},
   "outputs": [],
   "source": [
    "#ACA SUBO LOS ARCHIVOS DE TFRECORD\n",
    "TFrecord_directory = 'C:\\\\Users\\\\47575909\\\\Desktop\\\\tfrecord_data' \n",
    "\n",
    "#lista de archivos TFRecord en la carpeta\n",
    "filenames = [os.path.join(TFrecord_directory, f) for f in os.listdir(TFrecord_directory) if f.endswith('.tfrecord')]\n",
    "\n",
    "#Hago un dataset de TensorFlow a partir de los archivos TFRecord\n",
    "dataset = tf.data.TFRecordDataset(filenames)\n",
    "\n",
    "#función para parsear los datos de TFRecord\n",
    "def parse_tfrecord_fn(example):\n",
    "    feature_description = {\n",
    "        'grpno': tf.io.FixedLenFeature([], tf.int64),\n",
    "        'label': tf.io.FixedLenFeature([], tf.int64),\n",
    "        'path': tf.io.FixedLenFeature([], tf.string),\n",
    "    }\n",
    "    example = tf.io.parse_single_example(example, feature_description)\n",
    "    return example\n",
    "\n",
    "parsed_dataset = dataset.map(parse_tfrecord_fn)\n",
    "\n",
    "#batching para argar los datos en lotes\n",
    "batch_size = 16  #puedo cambiar el tamaño (en la PC del colegio el máximo es 16, pero capáz que le tengo que poner menos)\n",
    "batched_dataset = parsed_dataset.batch(batch_size)"
   ]
  },
  {
   "cell_type": "code",
   "execution_count": 2,
   "metadata": {},
   "outputs": [],
   "source": [
    "#ACAAAAAAAAAAAAAAAAAAAAAAAAAAAAAAAAAAAAAAAAAAAAAAAAAAAAAAAAAAAAAAAAAAAAAAAAAAA\n",
    "#PRUEBO CON MENOS DATOS\n",
    "#ACA SUBO LOS ARCHIVOS DE TFRECORD\n",
    "TFrecord_directory = 'C:\\\\Users\\\\47575909\\\\Desktop\\\\tfrecord_data_prueba' \n",
    "\n",
    "#lista de archivos TFRecord en la carpeta\n",
    "filenames = [os.path.join(TFrecord_directory, f) for f in os.listdir(TFrecord_directory) if f.endswith('.tfrecord')]\n",
    "\n",
    "#Hago un dataset de TensorFlow a partir de los archivos TFRecord\n",
    "dataset = tf.data.TFRecordDataset(filenames)\n",
    "\n",
    "#función para parsear los datos de TFRecord\n",
    "def parse_tfrecord_fn(example):\n",
    "    feature_description = {\n",
    "        'grpno': tf.io.FixedLenFeature([], tf.int64),\n",
    "        'label': tf.io.FixedLenFeature([], tf.int64),\n",
    "        'path': tf.io.FixedLenFeature([], tf.string),\n",
    "    }\n",
    "    example = tf.io.parse_single_example(example, feature_description)\n",
    "    return example\n",
    "\n",
    "parsed_dataset = dataset.map(parse_tfrecord_fn)\n",
    "\n",
    "#batching para argar los datos en lotes\n",
    "batch_size = 16  #puedo cambiar el tamaño (en la PC del colegio el máximo es 16, pero capáz que le tengo que poner menos)\n",
    "batched_dataset = parsed_dataset.batch(batch_size)"
   ]
  },
  {
   "cell_type": "markdown",
   "metadata": {},
   "source": [
    "#### Modelo (CNN) "
   ]
  },
  {
   "cell_type": "code",
   "execution_count": 3,
   "metadata": {},
   "outputs": [
    {
     "name": "stdout",
     "output_type": "stream",
     "text": [
      "Ya se separó todo!\n",
      "Salió todo bien, tranquina :))\n"
     ]
    }
   ],
   "source": [
    "#SEPARO EN X E Y\n",
    "X = []\n",
    "y = []\n",
    "\n",
    "#itero los lotes\n",
    "for batch_data in batched_dataset:\n",
    "    paths = batch_data['path'].numpy()\n",
    "    labels = batch_data['label'].numpy()\n",
    "    \n",
    "    #cargo los scaleograms desde los archivos .npy\n",
    "    batch_X = []\n",
    "    for path in paths:\n",
    "        spectrogram = np.load(path.decode('utf-8'))\n",
    "        batch_X.append(spectrogram)\n",
    "    \n",
    "    #agrego los scaleograms y labels a las listas X y y\n",
    "    X.extend(batch_X)\n",
    "    y.extend(labels)\n",
    "\n",
    "#convierto X e y a formato .npy\n",
    "X = np.array(X)\n",
    "y = np.array(y)\n",
    "\n",
    "print('Ya se separó todo!')\n",
    "print('Salió todo bien, tranquina :))')"
   ]
  },
  {
   "cell_type": "code",
   "execution_count": 6,
   "metadata": {},
   "outputs": [
    {
     "data": {
      "text/plain": [
       "(606, 14, 230, 384)"
      ]
     },
     "execution_count": 6,
     "metadata": {},
     "output_type": "execute_result"
    }
   ],
   "source": [
    "X.shape"
   ]
  },
  {
   "cell_type": "code",
   "execution_count": 11,
   "metadata": {},
   "outputs": [],
   "source": [
    "# Aplanar tus datos\n",
    "X = X.reshape(606, -1)"
   ]
  },
  {
   "cell_type": "code",
   "execution_count": 4,
   "metadata": {},
   "outputs": [],
   "source": [
    "#NORMALIZO X en rango [-1, 1] para que el cero quede en el centro\n",
    "min_val = np.min(X)\n",
    "max_val = np.max(X)\n",
    "\n",
    "X = -1 + 2 * (X - min_val) / (max_val - min_val)\n",
    "\n",
    "#X = (X - X.min()) / (X.max() - X.min()) [0, 1]"
   ]
  },
  {
   "cell_type": "code",
   "execution_count": 13,
   "metadata": {},
   "outputs": [
    {
     "data": {
      "text/plain": [
       "(606, 1236480)"
      ]
     },
     "execution_count": 13,
     "metadata": {},
     "output_type": "execute_result"
    }
   ],
   "source": [
    "X.shape"
   ]
  },
  {
   "cell_type": "code",
   "execution_count": 5,
   "metadata": {},
   "outputs": [],
   "source": [
    "#LOS GUARDO EN MI COMPUTADORA\n",
    "#np.save('X.npy', X) está guardada normalizada en rango [0, 1], habría que cambiar eso\n",
    "np.save('X.npy', X) #esto es para probar\n",
    "np.save('y.npy', y)"
   ]
  },
  {
   "cell_type": "code",
   "execution_count": 15,
   "metadata": {},
   "outputs": [],
   "source": [
    "# Cargar los arreglos X e y desde los archivos .npy (PARA CUANDO EL CÓDIGO ANTERIOR YA ESTÁ CORRIDO Y NO QUIERO VOLVERLO A CORRER :d)\n",
    "#X = np.load('C:\\\\Users\\\\47575909\\\\Desktop\\\\X_1.npy')\n",
    "X = np.load('C:\\\\Users\\\\47575909\\\\Desktop\\\\X_1_PCA.npy')\n",
    "y = np.load('C:\\\\Users\\\\47575909\\\\Desktop\\\\y_1.npy')"
   ]
  },
  {
   "cell_type": "code",
   "execution_count": 46,
   "metadata": {},
   "outputs": [],
   "source": [
    "shape = X.shape"
   ]
  },
  {
   "cell_type": "code",
   "execution_count": 47,
   "metadata": {},
   "outputs": [
    {
     "data": {
      "text/plain": [
       "606"
      ]
     },
     "execution_count": 47,
     "metadata": {},
     "output_type": "execute_result"
    }
   ],
   "source": [
    "shape\n",
    "shape[0]"
   ]
  },
  {
   "cell_type": "code",
   "execution_count": 17,
   "metadata": {},
   "outputs": [],
   "source": [
    "#DIVIDO EN TRAIN, TEST Y EVALUATION\n",
    "#Divido los datos de train de los de test y evaluation (70/30)\n",
    "X_train, X_testVal, y_train, y_testVal = train_test_split(X, y, test_size=0.3, random_state=42)\n",
    "\n",
    "#Divido los datos de test de los de evaluation (50/50 del 30% anterior)\n",
    "X_val, X_test, y_val, y_test = train_test_split(X_testVal, y_testVal, test_size=0.5, random_state=42)"
   ]
  },
  {
   "cell_type": "markdown",
   "metadata": {},
   "source": [
    "cwt.shape = (14, 230, 384)\n",
    "\n",
    "- Alto: 230 (número de filas en tus imágenes CWT).\n",
    "- Ancho: 384 (número de columnas en tus imágenes CWT).\n",
    "- Canales: 14 (número de canales EEG)."
   ]
  },
  {
   "cell_type": "code",
   "execution_count": null,
   "metadata": {},
   "outputs": [],
   "source": [
    "#si es que me toma mal la imput shape seguramente es por la longitud de la grabación de cada eeg, \n",
    "# por lo que dice la info del dataset no todos los eeg tienen la exacta misma duración"
   ]
  },
  {
   "cell_type": "code",
   "execution_count": 42,
   "metadata": {},
   "outputs": [
    {
     "data": {
      "text/plain": [
       "'model = tf.keras.models.Sequential([\\n    \\n    tf.keras.layers.Conv2D(128, (3,3), activation=\\'relu\\', input_shape = (14, 230, 384)), \\n    tf.keras.layers.MaxPooling2D(2, 2),\\n\\n    tf.keras.layers.Conv2D(64, (3,3), activation=\\'relu\\'),\\n    tf.keras.layers.MaxPooling2D(2,2),\\n\\n    tf.keras.layers.Dropout(0.5),\\n    tf.keras.layers.Flatten(),\\n\\n    tf.keras.layers.Dense(32, activation=\\'relu\\'),\\n\\n    tf.keras.layers.Dense(1, activation=\\'sigmoid\\') #función sigmoide porque yo quiero que me devuelva un 1 de \"si epilepsia\" o un 0 de \"no epilepsia\"\\n])'"
      ]
     },
     "execution_count": 42,
     "metadata": {},
     "output_type": "execute_result"
    }
   ],
   "source": [
    "#CREO LA CNN\n",
    "# Definir una capa de entrada compatible con los datos después de PCA\n",
    "input_layer = tf.keras.layers.Input(shape=(18,))\n",
    "\n",
    "# Resto de tu modelo\n",
    "model = tf.keras.models.Sequential([\n",
    "    tf.keras.layers.Dense(128, activation='relu', input_shape=(18,)),\n",
    "    tf.keras.layers.Dropout(0.5),\n",
    "    \n",
    "    tf.keras.layers.Dense(64, activation='relu'),\n",
    "    tf.keras.layers.Dropout(0.5),\n",
    "    \n",
    "    tf.keras.layers.Dense(32, activation='relu'),\n",
    "    \n",
    "    tf.keras.layers.Dense(1, activation='sigmoid')\n",
    "])\n",
    "\n",
    "'''model = tf.keras.models.Sequential([\n",
    "    \n",
    "    tf.keras.layers.Conv2D(128, (3,3), activation='relu', input_shape = (14, 230, 384)), \n",
    "    tf.keras.layers.MaxPooling2D(2, 2),\n",
    "\n",
    "    tf.keras.layers.Conv2D(64, (3,3), activation='relu'),\n",
    "    tf.keras.layers.MaxPooling2D(2,2),\n",
    "\n",
    "    tf.keras.layers.Dropout(0.5),\n",
    "    tf.keras.layers.Flatten(),\n",
    "\n",
    "    tf.keras.layers.Dense(32, activation='relu'),\n",
    "\n",
    "    tf.keras.layers.Dense(1, activation='sigmoid') #función sigmoide porque yo quiero que me devuelva un 1 de \"si epilepsia\" o un 0 de \"no epilepsia\"\n",
    "])'''\n",
    "\n",
    "#(LA IMPUT SHAPE LA SAQUÉ CON LO DE Wx, AGARRÉ UN EJEMPLO DE UNA PRESONA Y ME FIJÉ EL TAMAÑO PORQUE YO LE VOY A DAR INFO DE PACIENTES DE ESE FORMATO A LA CNN)"
   ]
  },
  {
   "cell_type": "code",
   "execution_count": 43,
   "metadata": {},
   "outputs": [],
   "source": [
    "#COMPILO\n",
    "model.compile(optimizer='adam',\n",
    "              loss='binary_crossentropy',\n",
    "              metrics=['accuracy'])"
   ]
  },
  {
   "cell_type": "code",
   "execution_count": 44,
   "metadata": {},
   "outputs": [
    {
     "name": "stdout",
     "output_type": "stream",
     "text": [
      "Epoch 1/10\n",
      "14/14 [==============================] - 1s 10ms/step - loss: 0.9462 - accuracy: 0.6250 - val_loss: 0.4533 - val_accuracy: 0.8022\n",
      "Epoch 2/10\n",
      "14/14 [==============================] - 0s 2ms/step - loss: 0.7826 - accuracy: 0.8066 - val_loss: 0.3370 - val_accuracy: 0.9011\n",
      "Epoch 3/10\n",
      "14/14 [==============================] - 0s 2ms/step - loss: 0.6272 - accuracy: 0.8892 - val_loss: 0.2728 - val_accuracy: 0.9011\n",
      "Epoch 4/10\n",
      "14/14 [==============================] - 0s 1ms/step - loss: 0.5369 - accuracy: 0.8726 - val_loss: 0.2211 - val_accuracy: 0.9121\n",
      "Epoch 5/10\n",
      "14/14 [==============================] - 0s 2ms/step - loss: 0.4436 - accuracy: 0.9080 - val_loss: 0.2176 - val_accuracy: 0.9121\n",
      "Epoch 6/10\n",
      "14/14 [==============================] - 0s 1ms/step - loss: 0.3679 - accuracy: 0.9127 - val_loss: 0.2064 - val_accuracy: 0.9121\n",
      "Epoch 7/10\n",
      "14/14 [==============================] - 0s 3ms/step - loss: 0.3002 - accuracy: 0.9127 - val_loss: 0.1892 - val_accuracy: 0.9231\n",
      "Epoch 8/10\n",
      "14/14 [==============================] - 0s 1ms/step - loss: 0.3258 - accuracy: 0.9292 - val_loss: 0.1828 - val_accuracy: 0.9341\n",
      "Epoch 9/10\n",
      "14/14 [==============================] - 0s 3ms/step - loss: 0.2034 - accuracy: 0.9363 - val_loss: 0.1757 - val_accuracy: 0.9341\n",
      "Epoch 10/10\n",
      "14/14 [==============================] - 0s 2ms/step - loss: 0.3302 - accuracy: 0.9340 - val_loss: 0.1694 - val_accuracy: 0.9451\n",
      "3/3 [==============================] - 0s 0s/step - loss: 0.1694 - accuracy: 0.9451\n"
     ]
    }
   ],
   "source": [
    "#ENTRENO\n",
    "model.fit(X_train, y_train, epochs=10, validation_data=(X_val, y_val))\n",
    "\n",
    "#EVALÚO\n",
    "test_loss, test_acc = model.evaluate(X_val, y_val)\n",
    "\n",
    "#capaz que debería probar con cross validation después"
   ]
  },
  {
   "cell_type": "code",
   "execution_count": 45,
   "metadata": {},
   "outputs": [
    {
     "name": "stdout",
     "output_type": "stream",
     "text": [
      "Accuracy :  0.9450549483299255\n",
      "Loss :  0.16939906775951385\n"
     ]
    }
   ],
   "source": [
    "#VEO LA PERFORMANCE\n",
    "print(\"Accuracy : \", test_acc)\n",
    "print(\"Loss : \", test_loss)"
   ]
  },
  {
   "cell_type": "markdown",
   "metadata": {},
   "source": [
    "# ACÁ EXPORTAMOS EL MODELO"
   ]
  },
  {
   "cell_type": "code",
   "execution_count": null,
   "metadata": {},
   "outputs": [],
   "source": [
    "#guardamos el modelo\n",
    "model.save('modelo_SinapsIA.h5')"
   ]
  },
  {
   "cell_type": "markdown",
   "metadata": {},
   "source": [
    "Álvaro, hola, yo te diría que empecemos con el modelo casi sin entrenar para que ya sepamos como pasarlo a la web. Vos lo que vas a hacer es pedirme los archivos para entrenarlo poquito (que literalmente van a ser solo 2 eeg porque sino va a ser muy pesado, yo estoy trabajando en reducir el tamaño del dataset). Entonces, vos te tendrías que descargar este notebook y correrlo en tu compu y entrenarlo así con estos pocos datos que no te van a pesar (se supone), y ahí lo conectas con lo de Jano. Para cuando los datos ya estén bien, supongo que tendremos que hacer lo mismo pero desde la pc porque aunque le reduzca el tamaño va a ser imposible que entre en la netbook. Solamente hay que ejecutar el código que vos hagas con el mismo modelo pero entrenado con más datos.\n",
    "\n",
    "ADEMÁS, TE HICE UN NOTEBOOK CON TODO PASADO, PERO IUAL MIRA ESTE."
   ]
  },
  {
   "cell_type": "code",
   "execution_count": null,
   "metadata": {},
   "outputs": [],
   "source": [
    "#investigar PCA para tensores (TAMBIÉN INVESTGAR MÁS PARA TENSORES)\n",
    "#https://youtu.be/FgakZw6K1QQ?si=GrRc8tCp2eEfNKaX\n",
    "\n",
    "#TAMBIÉN CHONA ME RECOMIENDA UNA LIBRERÍA PaCMACP para mi caso que uso tensores de tensorflow"
   ]
  },
  {
   "cell_type": "markdown",
   "metadata": {
    "id": "efa1G9v7pASV"
   },
   "source": [
    "**Tengo que hacer y notas**\n",
    "##### **--> pasar todo a una pc**\n",
    "##### **--> separar en datos de train, test y validation**\n",
    "\n",
    "`78` = train\n",
    "\n",
    "`10` = validation\n",
    "\n",
    "`9` = test\n",
    "\n",
    "##### **--> ver el formato y como feedearselo a una red neuronal**\n",
    "\n",
    "Opciones de modelos a investigar:\n",
    "\n",
    "*   `Convolutional neural network (CNN)`\n",
    "*   `Recurrent neural network (RNN)`\n",
    "\n"
   ]
  }
 ],
 "metadata": {
  "colab": {
   "collapsed_sections": [
    "j4rpiWwTXqTL"
   ],
   "provenance": []
  },
  "kernelspec": {
   "display_name": "Python 3",
   "language": "python",
   "name": "python3"
  },
  "language_info": {
   "codemirror_mode": {
    "name": "ipython",
    "version": 3
   },
   "file_extension": ".py",
   "mimetype": "text/x-python",
   "name": "python",
   "nbconvert_exporter": "python",
   "pygments_lexer": "ipython3",
   "version": "3.6.5"
  },
  "vscode": {
   "interpreter": {
    "hash": "f4e9cda46bb2d9d7fe6ecdff0f8336a934348bf06cb492f2f42f60739b3403b4"
   }
  }
 },
 "nbformat": 4,
 "nbformat_minor": 4
}
