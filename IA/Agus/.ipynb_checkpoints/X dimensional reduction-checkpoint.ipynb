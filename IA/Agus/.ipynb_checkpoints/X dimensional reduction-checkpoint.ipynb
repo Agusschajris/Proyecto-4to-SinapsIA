{
 "cells": [
  {
   "cell_type": "code",
   "execution_count": 2,
   "id": "e2dda489",
   "metadata": {},
   "outputs": [],
   "source": [
    "import numpy as np\n",
    "from sklearn.preprocessing import StandardScaler"
   ]
  },
  {
   "cell_type": "code",
   "execution_count": 3,
   "id": "4e2d70ee",
   "metadata": {},
   "outputs": [],
   "source": [
    "X = np.load('C:\\\\Users\\\\47575909\\\\Desktop\\\\X_1.npy')"
   ]
  },
  {
   "cell_type": "code",
   "execution_count": 4,
   "id": "7613293c",
   "metadata": {},
   "outputs": [],
   "source": [
    "#aplano los datos para que la forma sea (3044, 14*230*384) para que cada trial de cada eeg sea un vector unidimensional\n",
    "X = X.reshape(3044, -1)"
   ]
  },
  {
   "cell_type": "code",
   "execution_count": 5,
   "id": "560b1e42",
   "metadata": {},
   "outputs": [
    {
     "data": {
      "text/plain": [
       "(3044, 1236480)"
      ]
     },
     "execution_count": 5,
     "metadata": {},
     "output_type": "execute_result"
    }
   ],
   "source": [
    "X.shape"
   ]
  },
  {
   "cell_type": "code",
   "execution_count": null,
   "id": "c73ec033",
   "metadata": {},
   "outputs": [],
   "source": [
    "from sklearn.decomposition import PCA\n",
    "\n",
    "pca = PCA(n_components = 0.95) #me quedo con el 95% de la varianza, esto es flexible (mientras más porcentaje, mayor va  quedar la dimensionalidad de mi X)\n",
    "\n",
    "X = pca.fit_transform(X)"
   ]
  },
  {
   "cell_type": "code",
   "execution_count": null,
   "id": "160baf27",
   "metadata": {},
   "outputs": [],
   "source": [
    "X.shape"
   ]
  },
  {
   "cell_type": "code",
   "execution_count": null,
   "id": "5f251517",
   "metadata": {},
   "outputs": [],
   "source": [
    "#me faltan cosas de algo de analisis de varianza explicada y selección de componentes principales"
   ]
  }
 ],
 "metadata": {
  "kernelspec": {
   "display_name": "Python 3",
   "language": "python",
   "name": "python3"
  },
  "language_info": {
   "codemirror_mode": {
    "name": "ipython",
    "version": 3
   },
   "file_extension": ".py",
   "mimetype": "text/x-python",
   "name": "python",
   "nbconvert_exporter": "python",
   "pygments_lexer": "ipython3",
   "version": "3.6.5"
  }
 },
 "nbformat": 4,
 "nbformat_minor": 5
}
