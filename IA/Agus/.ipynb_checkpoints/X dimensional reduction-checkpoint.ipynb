{
 "cells": [
  {
   "cell_type": "code",
   "execution_count": 13,
   "id": "0dd3a5e0",
   "metadata": {},
   "outputs": [],
   "source": [
    "import pandas as pd\n",
    "import glob\n",
    "import ssqueezepy #para convertir la señal en imagen\n",
    "from ssqueezepy import cwt\n",
    "from ssqueezepy.visuals import plot, imshow\n",
    "import os\n",
    "import mne #eeg analysis library\n",
    "import scipy.io\n",
    "#import torch.nn as nn\n",
    "#import torch\n",
    "import numpy as np\n",
    "import re\n",
    "from sklearn.model_selection import train_test_split\n",
    "import tensorflow as tf\n",
    "from tensorflow.keras import layers, models"
   ]
  },
  {
   "cell_type": "code",
   "execution_count": 14,
   "id": "0cbf66fe",
   "metadata": {},
   "outputs": [],
   "source": [
    "import numpy as np\n",
    "from sklearn.preprocessing import StandardScaler"
   ]
  },
  {
   "cell_type": "code",
   "execution_count": 15,
   "id": "d5346fd5",
   "metadata": {},
   "outputs": [],
   "source": [
    "#ACAAAAAAAAAAAAAAAAAAAAAAAAAAAAAAAAAAAAAAAAAAAAAAAAAAAAAAAAAAAAAAAAAAAAAAAAAAA\n",
    "#PRUEBO CON MENOS DATOS\n",
    "#ACA SUBO LOS ARCHIVOS DE TFRECORD\n",
    "TFrecord_directory = 'C:\\\\Users\\\\47575909\\\\Desktop\\\\tfrecord_data_prueba' \n",
    "\n",
    "#lista de archivos TFRecord en la carpeta\n",
    "filenames = [os.path.join(TFrecord_directory, f) for f in os.listdir(TFrecord_directory) if f.endswith('.tfrecord')]\n",
    "\n",
    "#Hago un dataset de TensorFlow a partir de los archivos TFRecord\n",
    "dataset = tf.data.TFRecordDataset(filenames)\n",
    "\n",
    "#función para parsear los datos de TFRecord\n",
    "def parse_tfrecord_fn(example):\n",
    "    feature_description = {\n",
    "        'grpno': tf.io.FixedLenFeature([], tf.int64),\n",
    "        'label': tf.io.FixedLenFeature([], tf.int64),\n",
    "        'path': tf.io.FixedLenFeature([], tf.string),\n",
    "    }\n",
    "    example = tf.io.parse_single_example(example, feature_description)\n",
    "    return example\n",
    "\n",
    "parsed_dataset = dataset.map(parse_tfrecord_fn)\n",
    "\n",
    "#batching para argar los datos en lotes\n",
    "batch_size = 16  #puedo cambiar el tamaño (en la PC del colegio el máximo es 16, pero capáz que le tengo que poner menos)\n",
    "batched_dataset = parsed_dataset.batch(batch_size)"
   ]
  },
  {
   "cell_type": "code",
   "execution_count": null,
   "id": "24847fc2",
   "metadata": {},
   "outputs": [],
   "source": [
    "#SEPARO EN X E Y\n",
    "X = []\n",
    "y = []\n",
    "\n",
    "#itero los lotes\n",
    "for batch_data in batched_dataset:\n",
    "    paths = batch_data['path'].numpy()\n",
    "    labels = batch_data['label'].numpy()\n",
    "    \n",
    "    #cargo los scaleograms desde los archivos .npy\n",
    "    batch_X = []\n",
    "    for path in paths:\n",
    "        spectrogram = np.load(path.decode('utf-8'))\n",
    "        batch_X.append(spectrogram)\n",
    "    \n",
    "    #agrego los scaleograms y labels a las listas X y y\n",
    "    X.extend(batch_X)\n",
    "    y.extend(labels)\n",
    "\n",
    "#convierto X e y a formato .npy\n",
    "X = np.array(X)\n",
    "y = np.array(y)\n",
    "\n",
    "print('Ya se separó todo!')\n",
    "print('Salió todo bien, tranquina :))')"
   ]
  },
  {
   "cell_type": "code",
   "execution_count": null,
   "id": "4aeea4ba",
   "metadata": {},
   "outputs": [],
   "source": [
    "X.shape"
   ]
  },
  {
   "cell_type": "code",
   "execution_count": null,
   "id": "bf18ec6b",
   "metadata": {},
   "outputs": [],
   "source": [
    "# Aplanar tus datos\n",
    "X = X.reshape(606, -1)"
   ]
  },
  {
   "cell_type": "code",
   "execution_count": null,
   "id": "ce335f32",
   "metadata": {},
   "outputs": [],
   "source": [
    "#NORMALIZO X en rango [-1, 1] para que el cero quede en el centro\n",
    "min_val = np.min(X)\n",
    "max_val = np.max(X)\n",
    "\n",
    "X = -1 + 2 * (X - min_val) / (max_val - min_val)\n",
    "\n",
    "#X = (X - X.min()) / (X.max() - X.min()) [0, 1]"
   ]
  },
  {
   "cell_type": "code",
   "execution_count": null,
   "id": "1d1ea3d5",
   "metadata": {},
   "outputs": [],
   "source": [
    "X.shape"
   ]
  },
  {
   "cell_type": "code",
   "execution_count": 9,
   "id": "69011c15",
   "metadata": {},
   "outputs": [
    {
     "ename": "TypeError",
     "evalue": "must be str, not numpy.int64",
     "output_type": "error",
     "traceback": [
      "\u001b[1;31m---------------------------------------------------------------------------\u001b[0m",
      "\u001b[1;31mTypeError\u001b[0m                                 Traceback (most recent call last)",
      "\u001b[1;32m<ipython-input-9-6b9a01b0410e>\u001b[0m in \u001b[0;36m<module>\u001b[1;34m\u001b[0m\n\u001b[0;32m     14\u001b[0m \u001b[0mX\u001b[0m \u001b[1;33m=\u001b[0m \u001b[0mX\u001b[0m\u001b[1;33m[\u001b[0m\u001b[1;33m:\u001b[0m\u001b[1;33m,\u001b[0m \u001b[1;33m:\u001b[0m\u001b[0mn_components_to_keep\u001b[0m\u001b[1;33m]\u001b[0m\u001b[1;33m\u001b[0m\u001b[0m\n\u001b[0;32m     15\u001b[0m \u001b[1;33m\u001b[0m\u001b[0m\n\u001b[1;32m---> 16\u001b[1;33m \u001b[0mprint\u001b[0m\u001b[1;33m(\u001b[0m\u001b[1;34m\"me quedé con \"\u001b[0m \u001b[1;33m+\u001b[0m \u001b[0mn_components_to_keep\u001b[0m \u001b[1;33m+\u001b[0m \u001b[1;34m\"componentes principales\"\u001b[0m\u001b[1;33m)\u001b[0m\u001b[1;33m\u001b[0m\u001b[0m\n\u001b[0m",
      "\u001b[1;31mTypeError\u001b[0m: must be str, not numpy.int64"
     ]
    }
   ],
   "source": [
    "from sklearn.decomposition import PCA\n",
    "\n",
    "variance_to_keep = 0.95  #me quedo con el 95% de la varianza, esto es flexible (mientras más porcentaje, mayor va  quedar la dimensionalidad de mi X)\n",
    "\n",
    "pca = PCA()\n",
    "X = pca.fit_transform(X)  #aplico pca para los datos escalados\n",
    "\n",
    "#Encuentro el número mínimo de componentes principales para alcanzar la varianza deseada\n",
    "cumulative_variance_ratio = np.cumsum(pca.explained_variance_ratio_)\n",
    "#('n_components_to_keep' contendrá el número mínimo de componentes principales necesarios para explicar al menos el 95% de la varianza en los datos.)\n",
    "n_components_to_keep = np.argmax(cumulative_variance_ratio >= variance_to_keep) + 1 #chona me dijo que me deberían quedar por ejemplo 1000 atributos\n",
    "\n",
    "#Selecciono la cant de componentes principales que me salió\n",
    "X = X[:, :n_components_to_keep]"
   ]
  },
  {
   "cell_type": "code",
   "execution_count": 10,
   "id": "e7a0c94d",
   "metadata": {},
   "outputs": [
    {
     "name": "stdout",
     "output_type": "stream",
     "text": [
      "Me quedé con 18 componentes principales\n"
     ]
    },
    {
     "data": {
      "text/plain": [
       "(606, 18)"
      ]
     },
     "execution_count": 10,
     "metadata": {},
     "output_type": "execute_result"
    }
   ],
   "source": [
    "print(\"Me quedé con \" + str(n_components_to_keep) + \" componentes principales\")\n",
    "X.shape"
   ]
  },
  {
   "cell_type": "code",
   "execution_count": 11,
   "id": "1bd8638d",
   "metadata": {},
   "outputs": [
    {
     "name": "stdout",
     "output_type": "stream",
     "text": [
      "Varianza explicada por cada componente principal: [5.11915505e-01 9.08797756e-02 6.47973791e-02 5.60088493e-02\n",
      " 4.03030924e-02 3.22619788e-02 2.55249869e-02 2.35597789e-02\n",
      " 1.93893500e-02 1.75841432e-02 1.65434703e-02 1.25458464e-02\n",
      " 1.00028589e-02 8.73077661e-03 7.61472760e-03 5.71246864e-03\n",
      " 5.45385201e-03 5.14678983e-03 3.16210021e-03 3.14860279e-03\n",
      " 2.94551672e-03 2.45428900e-03 2.30480265e-03 2.16981443e-03\n",
      " 1.81543990e-03 1.64654094e-03 1.47045695e-03 1.23173511e-03\n",
      " 1.15797832e-03 1.09812932e-03 1.00234093e-03 9.48224158e-04\n",
      " 8.80805950e-04 8.19498615e-04 7.66488840e-04 7.16959068e-04\n",
      " 6.77672680e-04 6.03188353e-04 5.87910181e-04 5.58978820e-04\n",
      " 5.37811778e-04 5.09349338e-04 4.77875554e-04 4.43850295e-04\n",
      " 4.22625628e-04 4.02005215e-04 3.53962037e-04 3.25645058e-04\n",
      " 3.19318322e-04 3.04904243e-04 2.79292581e-04 2.69211858e-04\n",
      " 2.36327804e-04 2.27664365e-04 2.12462342e-04 2.06892844e-04\n",
      " 1.97470596e-04 1.81871394e-04 1.75021356e-04 1.68195620e-04\n",
      " 1.64449826e-04 1.62642813e-04 1.60859418e-04 1.54115929e-04\n",
      " 1.52248787e-04 1.43606550e-04 1.40967779e-04 1.34018745e-04\n",
      " 1.28455620e-04 1.24628568e-04 1.21958277e-04 1.18765114e-04\n",
      " 1.14510112e-04 1.11813933e-04 1.08672764e-04 1.04705381e-04\n",
      " 1.03552273e-04 9.69105386e-05 9.46009095e-05 9.15354685e-05\n",
      " 9.06116038e-05 8.90521260e-05 8.66526607e-05 8.02422292e-05\n",
      " 7.93388681e-05 7.78752001e-05 7.62546697e-05 7.40347532e-05\n",
      " 7.21025426e-05 6.90602901e-05 6.80262456e-05 6.70887530e-05\n",
      " 6.49709109e-05 6.34419412e-05 6.23954475e-05 6.09991730e-05\n",
      " 6.01677930e-05 5.80850574e-05 5.79741354e-05 5.58442371e-05\n",
      " 5.53081882e-05 5.39997745e-05 5.35698782e-05 5.24435418e-05\n",
      " 5.04861855e-05 5.00140850e-05 4.94498672e-05 4.77607682e-05\n",
      " 4.63644719e-05 4.59971161e-05 4.37462113e-05 4.21060977e-05\n",
      " 4.15699978e-05 4.12937006e-05 4.03284212e-05 3.94258641e-05\n",
      " 3.88744811e-05 3.86141510e-05 3.77990000e-05 3.63687795e-05\n",
      " 3.51459057e-05 3.46864763e-05 3.37463352e-05 3.36303710e-05\n",
      " 3.25092005e-05 3.20388826e-05 3.15327998e-05 3.13364180e-05\n",
      " 3.07328737e-05 3.02422995e-05 2.93877802e-05 2.88389547e-05\n",
      " 2.82766068e-05 2.80107542e-05 2.77568251e-05 2.68140629e-05\n",
      " 2.64958344e-05 2.58220334e-05 2.51635029e-05 2.49403311e-05\n",
      " 2.45093725e-05 2.43641080e-05 2.36110009e-05 2.31500071e-05\n",
      " 2.27893888e-05 2.24648556e-05 2.19531157e-05 2.17828601e-05\n",
      " 2.15174678e-05 2.12354480e-05 2.11043953e-05 2.04168409e-05\n",
      " 2.03926920e-05 1.98625712e-05 1.96559922e-05 1.92103180e-05\n",
      " 1.90414539e-05 1.87755704e-05 1.85525842e-05 1.81257092e-05\n",
      " 1.78203027e-05 1.73833887e-05 1.73650715e-05 1.71754800e-05\n",
      " 1.70368312e-05 1.66137597e-05 1.63428012e-05 1.60339550e-05\n",
      " 1.59804622e-05 1.54534555e-05 1.53459896e-05 1.49651160e-05\n",
      " 1.47456658e-05 1.44798769e-05 1.42915724e-05 1.42370918e-05\n",
      " 1.41108030e-05 1.38374635e-05 1.36868175e-05 1.34087913e-05\n",
      " 1.31706684e-05 1.30142034e-05 1.28691408e-05 1.28032043e-05\n",
      " 1.26151390e-05 1.24833141e-05 1.24438347e-05 1.21199564e-05\n",
      " 1.18696353e-05 1.17168065e-05 1.15959811e-05 1.15623698e-05\n",
      " 1.15115699e-05 1.14060313e-05 1.11610934e-05 1.09061002e-05\n",
      " 1.08403492e-05 1.06821153e-05 1.05053550e-05 1.04122973e-05\n",
      " 1.03383054e-05 1.02311533e-05 1.00139223e-05 9.86370742e-06\n",
      " 9.78964636e-06 9.66260086e-06 9.55614905e-06 9.49951482e-06\n",
      " 9.33024148e-06 9.28182089e-06 9.16563658e-06 9.05041452e-06\n",
      " 9.00673058e-06 8.89703733e-06 8.85603731e-06 8.71949851e-06\n",
      " 8.61153057e-06 8.56284169e-06 8.52515859e-06 8.36665731e-06\n",
      " 8.28182056e-06 8.26283303e-06 8.09822086e-06 8.00897033e-06\n",
      " 7.95054166e-06 7.92058927e-06 7.67514393e-06 7.59663408e-06\n",
      " 7.50525351e-06 7.46699061e-06 7.43321243e-06 7.31806949e-06\n",
      " 7.21570768e-06 7.18060801e-06 7.12844303e-06 7.06975106e-06\n",
      " 6.96533016e-06 6.84516181e-06 6.80622179e-06 6.76590662e-06\n",
      " 6.66077949e-06 6.57417286e-06 6.53654615e-06 6.45975024e-06\n",
      " 6.41109500e-06 6.39568225e-06 6.29138367e-06 6.26653446e-06\n",
      " 6.23852566e-06 6.18004424e-06 6.10715279e-06 6.04121487e-06\n",
      " 6.02227055e-06 5.97405642e-06 5.88953435e-06 5.81751056e-06\n",
      " 5.72780482e-06 5.71918054e-06 5.66484096e-06 5.65182563e-06\n",
      " 5.59243608e-06 5.55163524e-06 5.48157232e-06 5.43874421e-06\n",
      " 5.38717995e-06 5.35743538e-06 5.32660579e-06 5.28771625e-06\n",
      " 5.24590541e-06 5.13210989e-06 5.11514327e-06 5.07693176e-06\n",
      " 5.05073058e-06 5.04355012e-06 4.94475898e-06 4.88557680e-06\n",
      " 4.86135605e-06 4.82374026e-06 4.78879792e-06 4.74091667e-06\n",
      " 4.71392696e-06 4.67426389e-06 4.60962610e-06 4.59037346e-06\n",
      " 4.54894871e-06 4.52705353e-06 4.49933304e-06 4.44360467e-06\n",
      " 4.43308681e-06 4.41118209e-06 4.38512143e-06 4.31864328e-06\n",
      " 4.28502108e-06 4.26982842e-06 4.23135089e-06 4.19695925e-06\n",
      " 4.16346484e-06 4.14138140e-06 4.09582299e-06 4.06391382e-06\n",
      " 4.05014589e-06 4.01619263e-06 3.99914234e-06 3.95802817e-06\n",
      " 3.93622258e-06 3.90219520e-06 3.86245665e-06 3.81926839e-06\n",
      " 3.79087987e-06 3.75842319e-06 3.71745227e-06 3.70224734e-06\n",
      " 3.67979692e-06 3.66018799e-06 3.64176276e-06 3.60444687e-06\n",
      " 3.57947170e-06 3.54372287e-06 3.53852079e-06 3.52489565e-06\n",
      " 3.50434311e-06 3.44637851e-06 3.44419050e-06 3.39952385e-06\n",
      " 3.38524160e-06 3.36698145e-06 3.30594662e-06 3.30088278e-06\n",
      " 3.27897305e-06 3.24482926e-06 3.22735013e-06 3.20888626e-06\n",
      " 3.19136939e-06 3.17979402e-06 3.16252090e-06 3.13508167e-06\n",
      " 3.09872348e-06 3.09501911e-06 3.07690402e-06 3.04650689e-06\n",
      " 3.03390266e-06 3.01501973e-06 2.98732175e-06 2.95847281e-06\n",
      " 2.94683127e-06 2.91157812e-06 2.90528533e-06 2.87659532e-06\n",
      " 2.85008105e-06 2.84332623e-06 2.81624921e-06 2.80402696e-06\n",
      " 2.79539654e-06 2.77458821e-06 2.74923650e-06 2.73129763e-06\n",
      " 2.71284284e-06 2.70372357e-06 2.68031067e-06 2.65766266e-06\n",
      " 2.65130961e-06 2.61647642e-06 2.60219736e-06 2.59177227e-06\n",
      " 2.56397038e-06 2.54978841e-06 2.53482176e-06 2.50107882e-06\n",
      " 2.49886307e-06 2.47271237e-06 2.45455067e-06 2.44845114e-06\n",
      " 2.42820556e-06 2.41972270e-06 2.39257611e-06 2.38687358e-06\n",
      " 2.36560481e-06 2.35842663e-06 2.33704395e-06 2.32405978e-06\n",
      " 2.30613637e-06 2.29355624e-06 2.29072430e-06 2.28203203e-06\n",
      " 2.27024088e-06 2.25133317e-06 2.24378482e-06 2.20888569e-06\n",
      " 2.20475067e-06 2.19549088e-06 2.18429932e-06 2.17229899e-06\n",
      " 2.15940236e-06 2.14868169e-06 2.14267288e-06 2.12818736e-06\n",
      " 2.11705151e-06 2.10803432e-06 2.10203598e-06 2.06681671e-06\n",
      " 2.05570382e-06 2.05262040e-06 2.04512639e-06 2.02299225e-06\n",
      " 2.02153524e-06 2.00072168e-06 1.98653697e-06 1.97403961e-06\n",
      " 1.96122392e-06 1.95334064e-06 1.94178870e-06 1.93393316e-06\n",
      " 1.92677726e-06 1.91140089e-06 1.89296668e-06 1.88271144e-06\n",
      " 1.88117406e-06 1.87224646e-06 1.85059537e-06 1.84602186e-06\n",
      " 1.84042369e-06 1.82638144e-06 1.80836548e-06 1.79849337e-06\n",
      " 1.77679078e-06 1.77237780e-06 1.76516107e-06 1.75708408e-06\n",
      " 1.74922786e-06 1.74806223e-06 1.73485739e-06 1.71940383e-06\n",
      " 1.70616329e-06 1.69989880e-06 1.69390137e-06 1.69006660e-06\n",
      " 1.68725899e-06 1.66386371e-06 1.65324866e-06 1.64767016e-06\n",
      " 1.64500045e-06 1.62653851e-06 1.62355877e-06 1.60956336e-06\n",
      " 1.59748743e-06 1.59320678e-06 1.58509488e-06 1.57925467e-06\n",
      " 1.55691964e-06 1.54992892e-06 1.54478107e-06 1.52867290e-06\n",
      " 1.51532970e-06 1.51115137e-06 1.50316214e-06 1.49002358e-06\n",
      " 1.48408708e-06 1.47991341e-06 1.47314211e-06 1.45715092e-06\n",
      " 1.45045897e-06 1.44828471e-06 1.43896568e-06 1.43284387e-06\n",
      " 1.42146826e-06 1.41241821e-06 1.40791633e-06 1.39875067e-06\n",
      " 1.39150143e-06 1.38405369e-06 1.38025086e-06 1.37506322e-06\n",
      " 1.36486881e-06 1.35777361e-06 1.35162065e-06 1.33566755e-06\n",
      " 1.32835305e-06 1.32634079e-06 1.31383786e-06 1.31024808e-06\n",
      " 1.30383512e-06 1.29718285e-06 1.28522333e-06 1.28304168e-06\n",
      " 1.27461442e-06 1.26483098e-06 1.25317513e-06 1.25113854e-06\n",
      " 1.24009489e-06 1.23017844e-06 1.22346103e-06 1.22117899e-06\n",
      " 1.21589278e-06 1.21553762e-06 1.21061635e-06 1.19629624e-06\n",
      " 1.19090112e-06 1.18209095e-06 1.17261163e-06 1.17172863e-06\n",
      " 1.16088529e-06 1.15998967e-06 1.15154114e-06 1.14647469e-06\n",
      " 1.13946930e-06 1.13205022e-06 1.12618511e-06 1.11485247e-06\n",
      " 1.11211079e-06 1.10271048e-06 1.10146834e-06 1.09347752e-06\n",
      " 1.08903123e-06 1.08561085e-06 1.08289146e-06 1.07873143e-06\n",
      " 1.07245762e-06 1.06984305e-06 1.05487493e-06 1.04373282e-06\n",
      " 1.03896093e-06 1.03424156e-06 1.02450326e-06 1.02221566e-06\n",
      " 1.01713351e-06 1.01347803e-06 1.01217017e-06 1.00745797e-06\n",
      " 1.00146792e-06 9.91434604e-07 9.86487748e-07 9.85087468e-07\n",
      " 9.78421212e-07 9.68751351e-07 9.65528898e-07 9.58234864e-07\n",
      " 9.56608005e-07 9.47253056e-07 9.43041982e-07 9.39550375e-07\n",
      " 9.32499177e-07 9.25946210e-07 9.15618159e-07 9.10954839e-07\n",
      " 9.07392518e-07 8.94998834e-07 8.94063248e-07 8.93131698e-07\n",
      " 8.91046170e-07 8.84501731e-07 8.80503535e-07 8.74849093e-07\n",
      " 8.68368261e-07 8.62938350e-07 8.53727784e-07 8.49267906e-07\n",
      " 8.42363931e-07 8.39168706e-07 8.34036257e-07 8.30649753e-07\n",
      " 8.27310487e-07 8.22464301e-07 8.21392575e-07 8.13185579e-07\n",
      " 7.99961242e-07 7.96218046e-07 7.93477909e-07 7.92851665e-07\n",
      " 7.82092002e-07 7.76580691e-07 7.63537912e-07 7.59272041e-07\n",
      " 7.55457620e-07 7.52044571e-07 7.45271450e-07 7.39686016e-07\n",
      " 7.35380354e-07 7.30426279e-07 7.25643872e-07 7.20700370e-07\n",
      " 7.13939812e-07 7.09686049e-07 7.02665488e-07 6.99234192e-07\n",
      " 6.89692001e-07 6.88409159e-07 6.82478230e-07 6.75803619e-07\n",
      " 6.71422299e-07 6.67300185e-07 6.60636374e-07 6.54983580e-07\n",
      " 6.52399706e-07 6.46125272e-07 6.39786208e-07 6.37402650e-07\n",
      " 6.26398844e-07 6.19987532e-07 6.16590910e-07 6.08530911e-07\n",
      " 5.99662883e-07 5.94396852e-07 5.80265635e-07 5.70571217e-07\n",
      " 5.62042203e-07 1.79973966e-10]\n"
     ]
    }
   ],
   "source": [
    "print(\"Varianza explicada por cada componente principal:\", pca.explained_variance_ratio_)"
   ]
  },
  {
   "cell_type": "code",
   "execution_count": null,
   "id": "5fa1424d",
   "metadata": {},
   "outputs": [],
   "source": [
    "#LOS GUARDO EN MI COMPUTADORA\n",
    "#np.save('X.npy', X) está guardada normalizada en rango [0, 1], habría que cambiar eso\n",
    "np.save('X_1_PCA.npy', X) #esto es para probar\n",
    "np.save('y_1.npy', y)"
   ]
  },
  {
   "cell_type": "code",
   "execution_count": null,
   "id": "aced2a75",
   "metadata": {},
   "outputs": [],
   "source": [
    "#no se si lo que hice está bien, chona me dijo que usara PaCMAP pero no lo entiendo, y acá encontre que con sklearn medio que se puede hacer asi que :)"
   ]
  }
 ],
 "metadata": {
  "kernelspec": {
   "display_name": "Python 3",
   "language": "python",
   "name": "python3"
  },
  "language_info": {
   "codemirror_mode": {
    "name": "ipython",
    "version": 3
   },
   "file_extension": ".py",
   "mimetype": "text/x-python",
   "name": "python",
   "nbconvert_exporter": "python",
   "pygments_lexer": "ipython3",
   "version": "3.6.5"
  }
 },
 "nbformat": 4,
 "nbformat_minor": 5
}
