{
 "cells": [
  {
   "cell_type": "code",
   "execution_count": 1,
   "id": "daa5b9cd",
   "metadata": {},
   "outputs": [],
   "source": [
    "import pandas as pd\n",
    "import glob\n",
    "import ssqueezepy #para convertir la señal en imagen\n",
    "from ssqueezepy import cwt\n",
    "from ssqueezepy.visuals import plot, imshow\n",
    "import os\n",
    "import mne #eeg analysis library\n",
    "import scipy.io\n",
    "#import torch.nn as nn\n",
    "#import torch\n",
    "import numpy as np\n",
    "import re\n",
    "from sklearn.model_selection import train_test_split\n",
    "import tensorflow as tf\n",
    "from tensorflow.keras import layers, models"
   ]
  },
  {
   "cell_type": "code",
   "execution_count": 2,
   "id": "934decab",
   "metadata": {},
   "outputs": [],
   "source": [
    "import numpy as np\n",
    "from sklearn.preprocessing import StandardScaler\n",
    "from sklearn.decomposition import PCA\n",
    "from tqdm import tqdm"
   ]
  },
  {
   "cell_type": "code",
   "execution_count": 5,
   "id": "73b2431d-a06c-4017-9f3e-678e2187a043",
   "metadata": {},
   "outputs": [],
   "source": [
    "#X = np.load('C:\\\\Users\\\\47575909\\\\Desktop\\\\X_PCA.npy')\n",
    "#y = np.load('C:\\\\Users\\\\47575909\\\\Desktop\\\\y_PCA.npy')"
   ]
  },
  {
   "cell_type": "code",
   "execution_count": 3,
   "id": "ff810e27-4f43-46a5-bda0-439faa4f45f9",
   "metadata": {},
   "outputs": [
    {
     "ename": "NameError",
     "evalue": "name 'X' is not defined",
     "output_type": "error",
     "traceback": [
      "\u001b[1;31m---------------------------------------------------------------------------\u001b[0m",
      "\u001b[1;31mNameError\u001b[0m                                 Traceback (most recent call last)",
      "Cell \u001b[1;32mIn[3], line 1\u001b[0m\n\u001b[1;32m----> 1\u001b[0m \u001b[43mX\u001b[49m\u001b[38;5;241m.\u001b[39mshape\n",
      "\u001b[1;31mNameError\u001b[0m: name 'X' is not defined"
     ]
    }
   ],
   "source": [
    "#X.shape"
   ]
  },
  {
   "cell_type": "code",
   "execution_count": 28,
   "id": "355c3abb",
   "metadata": {},
   "outputs": [],
   "source": [
    "#ACAAAAAAAAAAAAAAAAAAAAAAAAAAAAAAAAAAAAAAAAAAAAAAAAAAAAAAAAAAAAAAAAAAAAAAAAAAA\n",
    "#PRUEBO CON MENOS DATOS\n",
    "#ACA SUBO LOS ARCHIVOS DE TFRECORD\n",
    "TFrecord_directory = 'C:\\\\Users\\\\47575909\\\\Desktop\\\\tfrecord_data_inter1' \n",
    "\n",
    "#lista de archivos TFRecord en la carpeta\n",
    "filenames = [os.path.join(TFrecord_directory, f) for f in os.listdir(TFrecord_directory) if f.endswith('.tfrecord')]\n",
    "\n",
    "#Hago un dataset de TensorFlow a partir de los archivos TFRecord\n",
    "dataset = tf.data.TFRecordDataset(filenames)\n",
    "\n",
    "#función para parsear los datos de TFRecord\n",
    "def parse_tfrecord_fn(example):\n",
    "    feature_description = {\n",
    "        'grpno': tf.io.FixedLenFeature([], tf.int64),\n",
    "        'label': tf.io.FixedLenFeature([], tf.int64),\n",
    "        'path': tf.io.FixedLenFeature([], tf.string),\n",
    "    }\n",
    "    example = tf.io.parse_single_example(example, feature_description)\n",
    "    return example\n",
    "\n",
    "parsed_dataset = dataset.map(parse_tfrecord_fn)\n",
    "\n",
    "#batching para argar los datos en lotes\n",
    "batch_size = 1  #puedo cambiar el tamaño (en la PC del colegio el máximo es 16, pero capáz que le tengo que poner menos)\n",
    "batched_dataset = parsed_dataset.batch(batch_size)"
   ]
  },
  {
   "cell_type": "code",
   "execution_count": 30,
   "id": "4bbfff93-a685-40d9-9d38-fdc04dbafcd3",
   "metadata": {},
   "outputs": [],
   "source": [
    "#batched_dataset"
   ]
  },
  {
   "cell_type": "code",
   "execution_count": 4,
   "id": "ecda7582",
   "metadata": {},
   "outputs": [
    {
     "data": {
      "text/plain": [
       "\"#SEPARO EN X E Y\\nX = []\\ny = []\\n\\n#itero los lotes\\nfor batch_data in batched_dataset:\\n    paths = batch_data['path'].numpy()\\n    labels = batch_data['label'].numpy()\\n    \\n    #cargo los scaleograms desde los archivos .npy\\n    batch_X = []\\n    for path in paths:\\n        spectrogram = np.load(path.decode('utf-8'))\\n        batch_X.append(spectrogram)\\n    \\n#//////NUEVO\\n\\n    #primero tengo que convertirlo en un archivo numpy porque sino no quiere\\n    batch_X = np.array(batch_X)\\n    \\n    X_shape = batch_X.shape\\n    shape_0 = X_shape[0]\\n\\n    # Aplanar\\n    batch_X = batch_X.reshape(shape_0, -1)\\n    \\n    #NORMALIZO X en rango [-1, 1] para que el cero quede en el centro\\n    min_val = np.min(batch_X)\\n    max_val = np.max(batch_X)\\n\\n    X = -1 + 2 * (batch_X - min_val) / (max_val - min_val)\\n    \\n    variance_to_keep = 0.95  #me quedo con el 95% de la varianza, esto es flexible (mientras más porcentaje, mayor va  quedar la dimensionalidad de mi X)\\n\\n    pca = PCA()\\n    batch_X = pca.fit_transform(batch_X)  #aplico pca para los datos escalados\\n\\n    #Encuentro el número mínimo de componentes principales para alcanzar la varianza deseada\\n    cumulative_variance_ratio = np.cumsum(pca.explained_variance_ratio_)\\n    #('n_components_to_keep' contendrá el número mínimo de componentes principales necesarios para explicar al menos el 95% de la varianza en los datos.)\\n    n_components_to_keep = np.argmax(cumulative_variance_ratio >= variance_to_keep) + 1 #chona me dijo que me deberían quedar por ejemplo 1000 atributos\\n\\n    #Selecciono la cant de componentes principales que me salió\\n    batch_X = batch_X[:, :n_components_to_keep]\\n    \\n#//////NUEVO\\n    \\n    #agrego los scaleograms y labels a las listas X y y\\n    X.concatenate(batch_X)\\n    y.extend(labels)\\n\\n\\n#convierto X e y a formato .npy\\nX = np.concatenate(X, axis=0)\\ny = np.array(y)\\n\\nprint('Ya se separó todo!')\\nprint('Salió todo bien, tranquina :))')\""
      ]
     },
     "execution_count": 4,
     "metadata": {},
     "output_type": "execute_result"
    }
   ],
   "source": [
    "'''#SEPARO EN X E Y\n",
    "X = []\n",
    "y = []\n",
    "\n",
    "#itero los lotes\n",
    "for batch_data in batched_dataset:\n",
    "    paths = batch_data['path'].numpy()\n",
    "    labels = batch_data['label'].numpy()\n",
    "    \n",
    "    #cargo los scaleograms desde los archivos .npy\n",
    "    batch_X = []\n",
    "    for path in paths:\n",
    "        spectrogram = np.load(path.decode('utf-8'))\n",
    "        batch_X.append(spectrogram)\n",
    "    \n",
    "#//////NUEVO\n",
    "\n",
    "    #primero tengo que convertirlo en un archivo numpy porque sino no quiere\n",
    "    batch_X = np.array(batch_X)\n",
    "    \n",
    "    X_shape = batch_X.shape\n",
    "    shape_0 = X_shape[0]\n",
    "\n",
    "    # Aplanar\n",
    "    batch_X = batch_X.reshape(shape_0, -1)\n",
    "    \n",
    "    #NORMALIZO X en rango [-1, 1] para que el cero quede en el centro\n",
    "    min_val = np.min(batch_X)\n",
    "    max_val = np.max(batch_X)\n",
    "\n",
    "    X = -1 + 2 * (batch_X - min_val) / (max_val - min_val)\n",
    "    \n",
    "    variance_to_keep = 0.95  #me quedo con el 95% de la varianza, esto es flexible (mientras más porcentaje, mayor va  quedar la dimensionalidad de mi X)\n",
    "\n",
    "    pca = PCA()\n",
    "    batch_X = pca.fit_transform(batch_X)  #aplico pca para los datos escalados\n",
    "\n",
    "    #Encuentro el número mínimo de componentes principales para alcanzar la varianza deseada\n",
    "    cumulative_variance_ratio = np.cumsum(pca.explained_variance_ratio_)\n",
    "    #('n_components_to_keep' contendrá el número mínimo de componentes principales necesarios para explicar al menos el 95% de la varianza en los datos.)\n",
    "    n_components_to_keep = np.argmax(cumulative_variance_ratio >= variance_to_keep) + 1 #chona me dijo que me deberían quedar por ejemplo 1000 atributos\n",
    "\n",
    "    #Selecciono la cant de componentes principales que me salió\n",
    "    batch_X = batch_X[:, :n_components_to_keep]\n",
    "    \n",
    "#//////NUEVO\n",
    "    \n",
    "    #agrego los scaleograms y labels a las listas X y y\n",
    "    X.concatenate(batch_X)\n",
    "    y.extend(labels)\n",
    "\n",
    "\n",
    "#convierto X e y a formato .npy\n",
    "X = np.concatenate(X, axis=0)\n",
    "y = np.array(y)\n",
    "\n",
    "print('Ya se separó todo!')\n",
    "print('Salió todo bien, tranquina :))')'''"
   ]
  },
  {
   "cell_type": "code",
   "execution_count": 6,
   "id": "9c7a6b96-d166-4df5-9b4f-3eba82ef5096",
   "metadata": {},
   "outputs": [],
   "source": [
    "#bd_iter = iter(batched_dataset)\n",
    "#batch_data = next(bd_iter)"
   ]
  },
  {
   "cell_type": "code",
   "execution_count": 7,
   "id": "0a31957f-9a85-487f-ab24-4321a63e6c6c",
   "metadata": {},
   "outputs": [
    {
     "data": {
      "text/plain": [
       "{'grpno': <tf.Tensor: shape=(2,), dtype=int64, numpy=array([10, 10], dtype=int64)>,\n",
       " 'label': <tf.Tensor: shape=(2,), dtype=int64, numpy=array([0, 0], dtype=int64)>,\n",
       " 'path': <tf.Tensor: shape=(2,), dtype=string, numpy=\n",
       " array([b'C:\\\\Users\\\\47575909\\\\Desktop\\\\scaleogram\\\\subvideo_11/trial_0.npy',\n",
       "        b'C:\\\\Users\\\\47575909\\\\Desktop\\\\scaleogram\\\\subvideo_11/trial_1.npy'],\n",
       "       dtype=object)>}"
      ]
     },
     "execution_count": 7,
     "metadata": {},
     "output_type": "execute_result"
    }
   ],
   "source": [
    "#batch_data"
   ]
  },
  {
   "cell_type": "code",
   "execution_count": 12,
   "id": "b3c5644a-fa51-4c43-9a18-230489f0f220",
   "metadata": {},
   "outputs": [
    {
     "data": {
      "text/plain": [
       "array([[[[-0.99985725, -0.99985456, -0.9998539 , ..., -0.9989402 ,\n",
       "          -0.9989198 , -0.9989116 ],\n",
       "         [-0.9997775 , -0.9997736 , -0.99977314, ..., -0.9983727 ,\n",
       "          -0.99833775, -0.998324  ],\n",
       "         [-0.99966854, -0.99966335, -0.99966353, ..., -0.99761903,\n",
       "          -0.9975616 , -0.99753934],\n",
       "         ...,\n",
       "         [-0.994659  , -0.9946357 , -0.99461246, ..., -0.9908578 ,\n",
       "          -0.9908636 , -0.9908695 ],\n",
       "         [-0.96086556, -0.9608654 , -0.96086526, ..., -0.9608342 ,\n",
       "          -0.96083426, -0.9608343 ],\n",
       "         [-0.87473947, -0.87473947, -0.87473947, ..., -0.8747394 ,\n",
       "          -0.87473947, -0.87473947]],\n",
       "\n",
       "        [[-0.99991345, -0.9999164 , -0.9999175 , ..., -0.999667  ,\n",
       "          -0.9996697 , -0.9996768 ],\n",
       "         [-0.99988097, -0.99988747, -0.99989027, ..., -0.9994956 ,\n",
       "          -0.99949825, -0.9995087 ],\n",
       "         [-0.99984705, -0.99986124, -0.99986786, ..., -0.99927205,\n",
       "          -0.999273  , -0.9992872 ],\n",
       "         ...,\n",
       "         [-0.995192  , -0.9951628 , -0.9951334 , ..., -0.9862882 ,\n",
       "          -0.98628277, -0.9862775 ],\n",
       "         [-0.9325731 , -0.93257296, -0.9325729 , ..., -0.9325186 ,\n",
       "          -0.93251854, -0.9325185 ],\n",
       "         [-0.7841476 , -0.7841476 , -0.7841476 , ..., -0.7841476 ,\n",
       "          -0.7841476 , -0.7841476 ]],\n",
       "\n",
       "        [[-0.9981148 , -0.9981921 , -0.9982952 , ..., -0.9985538 ,\n",
       "          -0.9985757 , -0.99861574],\n",
       "         [-0.997058  , -0.99717844, -0.9973445 , ..., -0.997825  ,\n",
       "          -0.99785256, -0.99791217],\n",
       "         [-0.9956033 , -0.9957819 , -0.99603784, ..., -0.9968847 ,\n",
       "          -0.99691325, -0.9969963 ],\n",
       "         ...,\n",
       "         [-0.9688564 , -0.9686573 , -0.9684581 , ..., -0.9194791 ,\n",
       "          -0.9194671 , -0.9194558 ],\n",
       "         [-0.6221365 , -0.6221357 , -0.62213504, ..., -0.6218115 ,\n",
       "          -0.6218113 , -0.6218112 ],\n",
       "         [ 0.20963323,  0.20963335,  0.20963311, ...,  0.20963347,\n",
       "           0.20963311,  0.20963335]],\n",
       "\n",
       "        ...,\n",
       "\n",
       "        [[-0.9999227 , -0.9999305 , -0.9999386 , ..., -0.9997751 ,\n",
       "          -0.9997769 , -0.9997822 ],\n",
       "         [-0.9998865 , -0.9998996 , -0.9999136 , ..., -0.99966174,\n",
       "          -0.99966335, -0.9996712 ],\n",
       "         [-0.99984   , -0.99986106, -0.9998842 , ..., -0.9995147 ,\n",
       "          -0.9995148 , -0.9995257 ],\n",
       "         ...,\n",
       "         [-0.9952013 , -0.9951774 , -0.9951533 , ..., -0.9868378 ,\n",
       "          -0.98683167, -0.98682564],\n",
       "         [-0.93268204, -0.932682  , -0.9326819 , ..., -0.9326323 ,\n",
       "          -0.9326323 , -0.93263227],\n",
       "         [-0.7845017 , -0.7845017 , -0.7845016 , ..., -0.7845017 ,\n",
       "          -0.7845017 , -0.7845017 ]],\n",
       "\n",
       "        [[-0.9998467 , -0.9998429 , -0.99984103, ..., -0.99891686,\n",
       "          -0.9988951 , -0.998886  ],\n",
       "         [-0.9997589 , -0.99975353, -0.99975157, ..., -0.99833816,\n",
       "          -0.9983011 , -0.9982859 ],\n",
       "         [-0.9996379 , -0.9996308 , -0.9996295 , ..., -0.9975705 ,\n",
       "          -0.9975098 , -0.9974854 ],\n",
       "         ...,\n",
       "         [-0.9963832 , -0.9963675 , -0.9963518 , ..., -0.9936978 ,\n",
       "          -0.9937014 , -0.993705  ],\n",
       "         [-0.97127897, -0.9712789 , -0.9712788 , ..., -0.9712583 ,\n",
       "          -0.97125834, -0.9712584 ],\n",
       "         [-0.90807116, -0.90807116, -0.90807116, ..., -0.90807116,\n",
       "          -0.90807116, -0.90807116]],\n",
       "\n",
       "        [[-0.999851  , -0.99986213, -0.99987423, ..., -0.9998928 ,\n",
       "          -0.9998876 , -0.9998826 ],\n",
       "         [-0.9997824 , -0.9998009 , -0.9998214 , ..., -0.9998521 ,\n",
       "          -0.99984396, -0.99983627],\n",
       "         [-0.99969625, -0.99972564, -0.999759  , ..., -0.9998081 ,\n",
       "          -0.9997961 , -0.99978524],\n",
       "         ...,\n",
       "         [-0.9918049 , -0.9918184 , -0.9918318 , ..., -0.98727614,\n",
       "          -0.9872577 , -0.98723936],\n",
       "         [-0.91157824, -0.9115783 , -0.91157836, ..., -0.91155434,\n",
       "          -0.9115542 , -0.9115541 ],\n",
       "         [-0.71698797, -0.71698797, -0.71698797, ..., -0.71698797,\n",
       "          -0.71698797, -0.71698797]]],\n",
       "\n",
       "\n",
       "       [[[-0.99993956, -0.9999412 , -0.99994355, ..., -0.99984324,\n",
       "          -0.9998418 , -0.9998425 ],\n",
       "         [-0.9999063 , -0.9999088 , -0.99991244, ..., -0.9997589 ,\n",
       "          -0.99975616, -0.999757  ],\n",
       "         [-0.9998614 , -0.99986494, -0.99987024, ..., -0.99964625,\n",
       "          -0.9996412 , -0.999642  ],\n",
       "         ...,\n",
       "         [-0.99199057, -0.99197626, -0.9919621 , ..., -0.9925114 ,\n",
       "          -0.9925281 , -0.9925449 ],\n",
       "         [-0.9670726 , -0.9670725 , -0.9670723 , ..., -0.9670781 ,\n",
       "          -0.96707827, -0.96707845],\n",
       "         [-0.8946749 , -0.89467484, -0.8946749 , ..., -0.89467484,\n",
       "          -0.8946749 , -0.89467484]],\n",
       "\n",
       "        [[-0.99977463, -0.99978095, -0.99978894, ..., -0.9999247 ,\n",
       "          -0.99992746, -0.99993116],\n",
       "         [-0.99965316, -0.99966246, -0.9996744 , ..., -0.99988884,\n",
       "          -0.9998931 , -0.999899  ],\n",
       "         [-0.9994925 , -0.9995053 , -0.999522  , ..., -0.9998436 ,\n",
       "          -0.99984974, -0.9998587 ],\n",
       "         ...,\n",
       "         [-0.9861915 , -0.9861809 , -0.98617035, ..., -0.9913764 ,\n",
       "          -0.9914112 , -0.9914461 ],\n",
       "         [-0.9424094 , -0.9424093 , -0.94240916, ..., -0.9424544 ,\n",
       "          -0.94245464, -0.9424549 ],\n",
       "         [-0.8158171 , -0.8158171 , -0.8158171 , ..., -0.8158171 ,\n",
       "          -0.8158171 , -0.8158171 ]],\n",
       "\n",
       "        [[-0.9989686 , -0.99899983, -0.99904084, ..., -0.99972516,\n",
       "          -0.99973345, -0.99974316],\n",
       "         [-0.99841857, -0.9984655 , -0.99852806, ..., -0.99960846,\n",
       "          -0.99962175, -0.99963766],\n",
       "         [-0.99769086, -0.9977567 , -0.99784595, ..., -0.9994725 ,\n",
       "          -0.99949265, -0.99951744],\n",
       "         ...,\n",
       "         [-0.9206775 , -0.9206113 , -0.92054594, ..., -0.94901365,\n",
       "          -0.94921184, -0.9494105 ],\n",
       "         [-0.67409706, -0.67409635, -0.6740955 , ..., -0.67434955,\n",
       "          -0.6743509 , -0.6743523 ],\n",
       "         [ 0.04226804,  0.0422678 ,  0.04226792, ...,  0.0422678 ,\n",
       "           0.04226792,  0.04226792]],\n",
       "\n",
       "        ...,\n",
       "\n",
       "        [[-0.9998825 , -0.9998828 , -0.9998834 , ..., -0.99983   ,\n",
       "          -0.9998281 , -0.9998278 ],\n",
       "         [-0.9998221 , -0.9998224 , -0.99982274, ..., -0.9997421 ,\n",
       "          -0.99973875, -0.99973816],\n",
       "         [-0.99974567, -0.9997456 , -0.9997449 , ..., -0.99962807,\n",
       "          -0.9996226 , -0.99962145],\n",
       "         ...,\n",
       "         [-0.9871492 , -0.98713344, -0.9871179 , ..., -0.9902396 ,\n",
       "          -0.9902698 , -0.9903    ],\n",
       "         [-0.94553834, -0.94553816, -0.945538  , ..., -0.9455669 ,\n",
       "          -0.9455672 , -0.94556737],\n",
       "         [-0.82581025, -0.82581025, -0.82581025, ..., -0.82581025,\n",
       "          -0.82581025, -0.82581025]],\n",
       "\n",
       "        [[-0.99999213, -0.99999815, -0.9999931 , ..., -0.99998385,\n",
       "          -0.99998206, -0.99998003],\n",
       "         [-0.99998647, -0.999994  , -0.99998784, ..., -0.9999726 ,\n",
       "          -0.9999701 , -0.9999674 ],\n",
       "         [-0.99996984, -0.99997574, -0.9999709 , ..., -0.99995613,\n",
       "          -0.999953  , -0.9999495 ],\n",
       "         ...,\n",
       "         [-0.99464417, -0.9946334 , -0.9946226 , ..., -0.9946081 ,\n",
       "          -0.9946188 , -0.9946295 ],\n",
       "         [-0.977116  , -0.97711587, -0.97711575, ..., -0.97711563,\n",
       "          -0.97711575, -0.9771158 ],\n",
       "         [-0.92679375, -0.92679375, -0.92679375, ..., -0.92679375,\n",
       "          -0.92679375, -0.92679375]],\n",
       "\n",
       "        [[-0.99966836, -0.99967045, -0.99967474, ..., -0.9999816 ,\n",
       "          -0.99998075, -0.99998015],\n",
       "         [-0.99949634, -0.9994995 , -0.9995062 , ..., -0.999974  ,\n",
       "          -0.99997246, -0.9999714 ],\n",
       "         [-0.9992742 , -0.99927866, -0.99928844, ..., -0.99996525,\n",
       "          -0.99996257, -0.99996066],\n",
       "         ...,\n",
       "         [-0.9874821 , -0.98746777, -0.98745364, ..., -0.9908046 ,\n",
       "          -0.9908344 , -0.9908643 ],\n",
       "         [-0.9466267 , -0.94662654, -0.9466264 , ..., -0.9466568 ,\n",
       "          -0.94665706, -0.9466573 ],\n",
       "         [-0.8292924 , -0.8292924 , -0.8292924 , ..., -0.8292925 ,\n",
       "          -0.8292925 , -0.8292924 ]]]], dtype=float32)"
      ]
     },
     "execution_count": 12,
     "metadata": {},
     "output_type": "execute_result"
    }
   ],
   "source": [
    "'''\n",
    "paths = batch_data['path'].numpy()\n",
    "labels = batch_data['label'].numpy()\n",
    "    \n",
    "# Cargar los scaleograms desde los archivos .npy\n",
    "batch_X = []\n",
    "for path in paths:\n",
    "    spectrogram = np.load(path.decode('utf-8'))\n",
    "    batch_X.append(spectrogram)\n",
    "    \n",
    "batch_X = np.array(batch_X)\n",
    "        \n",
    "# batch_X = batch_X.reshape((batch_X.shape[0], -1))  # Aplanar los datos\n",
    "    \n",
    "# NORMALIZA X en rango [-1, 1] para que el cero quede en el centro\n",
    "min_val = np.min(batch_X)\n",
    "max_val = np.max(batch_X)\n",
    "    \n",
    "batch_X = -1 + 2 * (batch_X - min_val) / (max_val - min_val)\n",
    "\n",
    "batch_X'''"
   ]
  },
  {
   "cell_type": "code",
   "execution_count": 13,
   "id": "09073f6c-66ca-4c7e-88da-79ddaad85b39",
   "metadata": {},
   "outputs": [
    {
     "data": {
      "text/plain": [
       "(14, 230, 384)"
      ]
     },
     "execution_count": 13,
     "metadata": {},
     "output_type": "execute_result"
    }
   ],
   "source": [
    "#batch_X[0].shape"
   ]
  },
  {
   "cell_type": "code",
   "execution_count": 10,
   "id": "38a21cb9-a2f7-499e-8675-c9c117019d03",
   "metadata": {},
   "outputs": [
    {
     "data": {
      "text/plain": [
       "((2, 1236480), (2,))"
      ]
     },
     "execution_count": 10,
     "metadata": {},
     "output_type": "execute_result"
    }
   ],
   "source": [
    "#batch_X.shape, labels.shape"
   ]
  },
  {
   "cell_type": "code",
   "execution_count": 36,
   "id": "1951e425-3a2e-4db1-a8c5-79aab9bb531a",
   "metadata": {},
   "outputs": [
    {
     "data": {
      "text/plain": [
       "array([[[-0.99985725, -0.99985456, -0.9998539 , ..., -0.99991643,\n",
       "         -0.99991775, -0.9999196 ],\n",
       "        [-0.99992204, -0.999925  , -0.9999283 , ..., -0.9999353 ,\n",
       "         -0.99993604, -0.9999361 ],\n",
       "        [-0.9999355 , -0.9999346 , -0.9999341 , ..., -0.99990755,\n",
       "         -0.9999017 , -0.9998941 ],\n",
       "        ...,\n",
       "        [-0.9664635 , -0.96722597, -0.9679918 , ..., -0.99134135,\n",
       "         -0.99110097, -0.9908375 ],\n",
       "        [-0.9905519 , -0.9902452 , -0.98991853, ..., -0.98797005,\n",
       "         -0.988031  , -0.98809224],\n",
       "        [-0.9881534 , -0.98821443, -0.9882751 , ..., -0.9532691 ,\n",
       "         -0.9527509 , -0.9522377 ]],\n",
       "\n",
       "       [[-0.9517298 , -0.9512274 , -0.95073086, ..., -0.9882792 ,\n",
       "         -0.98808426, -0.98788995],\n",
       "        [-0.98769647, -0.98750395, -0.9873127 , ..., -0.9355713 ,\n",
       "         -0.935637  , -0.93570983],\n",
       "        [-0.93578964, -0.9358762 , -0.93596923, ..., -0.9767152 ,\n",
       "         -0.9765628 , -0.97640944],\n",
       "        ...,\n",
       "        [-0.9934355 , -0.9931943 , -0.9930401 , ..., -0.99930894,\n",
       "         -0.99916166, -0.9990153 ],\n",
       "        [-0.99888384, -0.9987729 , -0.9986812 , ..., -0.9947579 ,\n",
       "         -0.9950346 , -0.9953644 ],\n",
       "        [-0.9957412 , -0.9961577 , -0.9966061 , ..., -0.99257207,\n",
       "         -0.9914929 , -0.99048024]],\n",
       "\n",
       "       [[-0.9895745 , -0.9888145 , -0.98823476, ..., -0.9993674 ,\n",
       "         -0.9990912 , -0.9986538 ],\n",
       "        [-0.99812603, -0.9975303 , -0.99687654, ..., -0.9940068 ,\n",
       "         -0.9945086 , -0.9950303 ],\n",
       "        [-0.9955584 , -0.99608165, -0.9965906 , ..., -0.9987686 ,\n",
       "         -0.99897695, -0.99916184],\n",
       "        ...,\n",
       "        [-0.97464657, -0.9744754 , -0.97430634, ..., -0.95719117,\n",
       "         -0.95709145, -0.95699257],\n",
       "        [-0.95689464, -0.9567977 , -0.95670176, ..., -0.9713106 ,\n",
       "         -0.9713223 , -0.9713356 ],\n",
       "        [-0.9713505 , -0.97136694, -0.9713849 , ..., -0.9577977 ,\n",
       "         -0.95779127, -0.9577875 ]]], dtype=float32)"
      ]
     },
     "execution_count": 36,
     "metadata": {},
     "output_type": "execute_result"
    }
   ],
   "source": [
    "#np.resize(batch_X[0], (3, 224, 224))"
   ]
  },
  {
   "cell_type": "code",
   "execution_count": 32,
   "id": "52bed504-bc82-4027-880f-6b25822093c5",
   "metadata": {},
   "outputs": [
    {
     "data": {
      "text/plain": [
       "(14, 88320)"
      ]
     },
     "execution_count": 32,
     "metadata": {},
     "output_type": "execute_result"
    }
   ],
   "source": [
    "#data_1d =  np.array([features_2d.flatten() for features_2d in batch_X[0]])\n",
    "#data_1d.shape"
   ]
  },
  {
   "cell_type": "code",
   "execution_count": 29,
   "id": "b80ecba6-dfdf-414b-91be-cf5657d36b7b",
   "metadata": {},
   "outputs": [],
   "source": [
    "# Define el número máximo de componentes principales que deseas mantener para todos los lotes\n",
    "#max_components = 1000  # Puedes ajustar este valor según tus necesidades\n",
    "\n",
    "X_list = []  # Lista temporal para X\n",
    "y_list = []  # Lista temporal para y\n"
   ]
  },
  {
   "cell_type": "code",
   "execution_count": 30,
   "id": "941f3995-b4f5-43a3-99b7-d6713b0386c3",
   "metadata": {},
   "outputs": [
    {
     "name": "stderr",
     "output_type": "stream",
     "text": [
      "\n",
      "3023it [20:20,  2.48it/s]                                                                        | 0/7 [00:00<?, ?it/s]\u001b[A\n",
      "\n",
      " 14%|████████████                                                                        | 1/7 [00:00<00:00,  8.00it/s]\u001b[A\n",
      " 29%|████████████████████████                                                            | 2/7 [00:00<00:00,  7.99it/s]\u001b[A"
     ]
    },
    {
     "name": "stdout",
     "output_type": "stream",
     "text": [
      "[0.95138545 0.0318019  0.00760148] 0.9907888350564306\n",
      "[0.99317728 0.00444732 0.00110061] 0.9987252050102542\n"
     ]
    },
    {
     "name": "stderr",
     "output_type": "stream",
     "text": [
      "\n",
      " 43%|████████████████████████████████████                                                | 3/7 [00:00<00:00,  8.39it/s]\u001b[A\n",
      " 57%|████████████████████████████████████████████████                                    | 4/7 [00:00<00:00,  8.41it/s]\u001b[A"
     ]
    },
    {
     "name": "stdout",
     "output_type": "stream",
     "text": [
      "[9.97174572e-01 1.89499892e-03 4.18122068e-04] 0.9994876929609798\n",
      "[0.99191063 0.00523295 0.00136746] 0.9985110394909648\n"
     ]
    },
    {
     "name": "stderr",
     "output_type": "stream",
     "text": [
      "\n",
      " 71%|████████████████████████████████████████████████████████████                        | 5/7 [00:00<00:00,  8.46it/s]\u001b[A\n",
      " 86%|████████████████████████████████████████████████████████████████████████            | 6/7 [00:00<00:00,  8.57it/s]\u001b[A"
     ]
    },
    {
     "name": "stdout",
     "output_type": "stream",
     "text": [
      "[0.99189175 0.00527161 0.00135079] 0.9985141490314584\n",
      "[0.99007066 0.00678295 0.00154894] 0.9984025446842539\n"
     ]
    },
    {
     "name": "stderr",
     "output_type": "stream",
     "text": [
      "\n",
      "100%|████████████████████████████████████████████████████████████████████████████████████| 7/7 [00:00<00:00,  8.08it/s]\u001b[A\n",
      "8it [00:00,  8.10it/s]                                                                                                 \u001b[A"
     ]
    },
    {
     "name": "stdout",
     "output_type": "stream",
     "text": [
      "[0.98718685 0.00868776 0.00210161] 0.9979762200091733\n",
      "[0.98215492 0.01247897 0.00290952] 0.9975434103894586\n"
     ]
    },
    {
     "name": "stderr",
     "output_type": "stream",
     "text": [
      "\n",
      "9it [00:01,  8.04it/s]\u001b[A\n",
      "10it [00:01,  8.23it/s]\u001b[A"
     ]
    },
    {
     "name": "stdout",
     "output_type": "stream",
     "text": [
      "[0.97574451 0.01711748 0.00401726] 0.9968792568619811\n",
      "[0.98422747 0.01162033 0.00221344] 0.9980612411754479\n"
     ]
    },
    {
     "name": "stderr",
     "output_type": "stream",
     "text": [
      "\n",
      "11it [00:01,  8.01it/s]\u001b[A\n",
      "12it [00:01,  7.87it/s]\u001b[A"
     ]
    },
    {
     "name": "stdout",
     "output_type": "stream",
     "text": [
      "[0.98682802 0.00998051 0.00172346] 0.9985319969687866\n",
      "[0.97832508 0.01549317 0.00307712] 0.9968953804343751\n"
     ]
    },
    {
     "name": "stderr",
     "output_type": "stream",
     "text": [
      "\n",
      "13it [00:01,  7.95it/s]\u001b[A\n",
      "14it [00:01,  8.19it/s]\u001b[A"
     ]
    },
    {
     "name": "stdout",
     "output_type": "stream",
     "text": [
      "[0.97212253 0.02047721 0.00447979] 0.9970795264431794\n",
      "[0.9737574  0.01930121 0.00423912] 0.9972977302290438\n"
     ]
    },
    {
     "name": "stderr",
     "output_type": "stream",
     "text": [
      "\n",
      "15it [00:01,  7.97it/s]\u001b[A\n",
      "16it [00:01,  7.93it/s]\u001b[A"
     ]
    },
    {
     "name": "stdout",
     "output_type": "stream",
     "text": [
      "[0.96808169 0.02395517 0.00515702] 0.9971938871023435\n",
      "[0.96394713 0.02615798 0.00571792] 0.9958230338822739\n"
     ]
    },
    {
     "name": "stderr",
     "output_type": "stream",
     "text": [
      "\n",
      "17it [00:02,  8.09it/s]\u001b[A\n",
      "18it [00:02,  8.15it/s]\u001b[A"
     ]
    },
    {
     "name": "stdout",
     "output_type": "stream",
     "text": [
      "[0.97777735 0.01625046 0.0034358 ] 0.9974636125400022\n",
      "[0.98191553 0.01310447 0.00279441] 0.9978144073740215\n"
     ]
    },
    {
     "name": "stderr",
     "output_type": "stream",
     "text": [
      "\n",
      "19it [00:02,  7.94it/s]\u001b[A\n",
      "20it [00:02,  7.80it/s]\u001b[A"
     ]
    },
    {
     "name": "stdout",
     "output_type": "stream",
     "text": [
      "[0.98180861 0.01313655 0.00283511] 0.9977802745276774\n",
      "[0.98400588 0.01135893 0.00257461] 0.9979394111581417\n"
     ]
    },
    {
     "name": "stderr",
     "output_type": "stream",
     "text": [
      "\n",
      "21it [00:02,  7.69it/s]\u001b[A\n",
      "22it [00:02,  7.88it/s]\u001b[A"
     ]
    },
    {
     "name": "stdout",
     "output_type": "stream",
     "text": [
      "[0.98607671 0.00965641 0.00225652] 0.9979896361910957\n",
      "[0.9882733  0.00850674 0.00181138] 0.9985914210059834\n"
     ]
    },
    {
     "name": "stderr",
     "output_type": "stream",
     "text": [
      "\n",
      "23it [00:02,  8.05it/s]\u001b[A\n",
      "24it [00:02,  8.35it/s]\u001b[A"
     ]
    },
    {
     "name": "stdout",
     "output_type": "stream",
     "text": [
      "[0.98792586 0.00873519 0.00178528] 0.9984463279562595\n",
      "[0.98776452 0.00909378 0.00175433] 0.9986126293743457\n"
     ]
    },
    {
     "name": "stderr",
     "output_type": "stream",
     "text": [
      "\n",
      "25it [00:03,  8.14it/s]\u001b[A\n",
      "26it [00:03,  8.48it/s]\u001b[A"
     ]
    },
    {
     "name": "stdout",
     "output_type": "stream",
     "text": [
      "[0.98225643 0.01269902 0.00262569] 0.9975811347359897\n",
      "[0.97477094 0.01884811 0.00387934] 0.9974983920546864\n"
     ]
    },
    {
     "name": "stderr",
     "output_type": "stream",
     "text": [
      "\n",
      "27it [00:03,  8.51it/s]\u001b[A\n"
     ]
    },
    {
     "name": "stdout",
     "output_type": "stream",
     "text": [
      "[0.97608769 0.01743899 0.00372932] 0.997255998539628\n",
      "[0.96747318 0.02372073 0.0053446 ] 0.9965385102648158\n",
      "[0.96690725 0.02441377 0.00531617] 0.9966371869115873\n"
     ]
    },
    {
     "name": "stderr",
     "output_type": "stream",
     "text": [
      "29it [00:03,  9.38it/s]\u001b[A\n",
      "30it [00:03,  9.33it/s]\u001b[A\n",
      "31it [00:03,  9.19it/s]\u001b[A"
     ]
    },
    {
     "name": "stdout",
     "output_type": "stream",
     "text": [
      "[0.96927693 0.02313143 0.00486097] 0.9972693299340035\n",
      "[0.97081363 0.02139647 0.00485519] 0.9970652899619598\n"
     ]
    },
    {
     "name": "stderr",
     "output_type": "stream",
     "text": [
      "\n",
      "32it [00:03,  9.38it/s]\u001b[A"
     ]
    },
    {
     "name": "stdout",
     "output_type": "stream",
     "text": [
      "[0.97103529 0.02143647 0.00454213] 0.9970138796219029\n",
      "[0.96879284 0.0227737  0.00502724] 0.9965937758984034\n"
     ]
    },
    {
     "name": "stderr",
     "output_type": "stream",
     "text": [
      "\n",
      "34it [00:04,  9.77it/s]\u001b[A\n",
      "36it [00:04, 10.18it/s]\u001b[A"
     ]
    },
    {
     "name": "stdout",
     "output_type": "stream",
     "text": [
      "[0.97030638 0.02209614 0.00475627] 0.9971587952934495\n",
      "[0.96172492 0.0272305  0.0060868 ] 0.995042225348458\n",
      "[0.97672343 0.01744443 0.00366206] 0.9978299258523026\n"
     ]
    },
    {
     "name": "stderr",
     "output_type": "stream",
     "text": [
      "\n",
      "38it [00:04, 10.26it/s]\u001b[A"
     ]
    },
    {
     "name": "stdout",
     "output_type": "stream",
     "text": [
      "[0.978763   0.01549126 0.00341355] 0.9976678086077772\n",
      "[0.97235551 0.02038255 0.00443369] 0.9971717537082337\n"
     ]
    },
    {
     "name": "stderr",
     "output_type": "stream",
     "text": [
      "\n",
      "40it [00:04,  9.93it/s]\u001b[A"
     ]
    },
    {
     "name": "stdout",
     "output_type": "stream",
     "text": [
      "[0.97613714 0.01718513 0.00374044] 0.9970627120151069\n",
      "[0.97774029 0.01611819 0.00352211] 0.9973805826991231\n"
     ]
    },
    {
     "name": "stderr",
     "output_type": "stream",
     "text": [
      "\n",
      "41it [00:04,  9.58it/s]\u001b[A\n",
      "43it [00:04, 10.17it/s]\u001b[A"
     ]
    },
    {
     "name": "stdout",
     "output_type": "stream",
     "text": [
      "[0.9758366  0.01738396 0.00375864] 0.9969792008346993\n",
      "[0.97994152 0.01469923 0.00312247] 0.9977632112222686\n",
      "[0.98145222 0.01319386 0.00287361] 0.9975196957944121\n"
     ]
    },
    {
     "name": "stderr",
     "output_type": "stream",
     "text": [
      "\n",
      "45it [00:05, 10.04it/s]\u001b[A\n"
     ]
    },
    {
     "name": "stdout",
     "output_type": "stream",
     "text": [
      "[0.97973804 0.01449114 0.00317875] 0.9974079265789396\n",
      "[0.98162176 0.01303167 0.00291779] 0.9975712218419117\n",
      "[0.98945129 0.00722585 0.00175846] 0.9984356019791372\n"
     ]
    },
    {
     "name": "stderr",
     "output_type": "stream",
     "text": [
      "46it [00:05,  9.98it/s]\u001b[A\n",
      "48it [00:05, 10.45it/s]\u001b[A"
     ]
    },
    {
     "name": "stdout",
     "output_type": "stream",
     "text": [
      "[0.99153776 0.00559425 0.00155146] 0.9986834638223311\n",
      "[0.99137066 0.00578416 0.00173139] 0.9988862036207059\n",
      "[0.98973888 0.00706823 0.00171015] 0.9985172631403219\n"
     ]
    },
    {
     "name": "stderr",
     "output_type": "stream",
     "text": [
      "\n",
      "50it [00:05, 10.24it/s]\u001b[A\n"
     ]
    },
    {
     "name": "stdout",
     "output_type": "stream",
     "text": [
      "[0.97865006 0.01543797 0.00333215] 0.9974201798253886\n",
      "[0.98162092 0.01330292 0.00284135] 0.9977651844482998\n",
      "[0.98274829 0.01242551 0.00275097] 0.9979247713331866\n"
     ]
    },
    {
     "name": "stderr",
     "output_type": "stream",
     "text": [
      "52it [00:05, 10.50it/s]\u001b[A\n",
      "54it [00:05, 10.57it/s]\u001b[A"
     ]
    },
    {
     "name": "stdout",
     "output_type": "stream",
     "text": [
      "[0.9783346  0.01553507 0.00345372] 0.9973233912440408\n",
      "[0.98327773 0.01207953 0.00265757] 0.9980148323349252\n",
      "[0.98613025 0.01010106 0.00215184] 0.9983831519486821\n"
     ]
    },
    {
     "name": "stderr",
     "output_type": "stream",
     "text": [
      "\n",
      "56it [00:06, 10.90it/s]\u001b[A\n"
     ]
    },
    {
     "name": "stdout",
     "output_type": "stream",
     "text": [
      "[0.98186239 0.01279726 0.00286932] 0.997528970443909\n",
      "[0.97871126 0.01565558 0.00319967] 0.997566509102922\n",
      "[0.9739393  0.01901214 0.00407077] 0.9970222103229779\n"
     ]
    },
    {
     "name": "stderr",
     "output_type": "stream",
     "text": [
      "58it [00:06, 10.74it/s]\u001b[A\n",
      "60it [00:06, 10.77it/s]\u001b[A"
     ]
    },
    {
     "name": "stdout",
     "output_type": "stream",
     "text": [
      "[0.95911909 0.02998844 0.00643275] 0.9955402838399012\n",
      "[0.9725654  0.01999291 0.00441225] 0.9969705588612834\n",
      "[0.97985992 0.01442197 0.00335756] 0.9976394511973059\n"
     ]
    },
    {
     "name": "stderr",
     "output_type": "stream",
     "text": [
      "\n",
      "62it [00:06, 10.69it/s]\u001b[A\n"
     ]
    },
    {
     "name": "stdout",
     "output_type": "stream",
     "text": [
      "[0.97949654 0.01480181 0.00325152] 0.9975498710861214\n",
      "[0.97766454 0.01632553 0.00354115] 0.9975312234699455\n",
      "[0.9741978  0.01850123 0.00429935] 0.9969983772465479\n"
     ]
    },
    {
     "name": "stderr",
     "output_type": "stream",
     "text": [
      "64it [00:06, 10.61it/s]\u001b[A\n",
      "66it [00:07, 10.59it/s]\u001b[A"
     ]
    },
    {
     "name": "stdout",
     "output_type": "stream",
     "text": [
      "[0.97820188 0.01625217 0.00351674] 0.9979707902975445\n",
      "[0.97649973 0.01726954 0.00369841] 0.9974676820147311\n",
      "[0.98162663 0.0134271  0.00293372] 0.9979874495399232\n"
     ]
    },
    {
     "name": "stderr",
     "output_type": "stream",
     "text": [
      "\n",
      "68it [00:07, 10.67it/s]\u001b[A\n"
     ]
    },
    {
     "name": "stdout",
     "output_type": "stream",
     "text": [
      "[0.98236414 0.0127904  0.00288   ] 0.9980345338925627\n",
      "[0.98147081 0.01348655 0.00296675] 0.9979241119240018\n",
      "[0.98302094 0.01228576 0.00271493] 0.9980216361894718\n"
     ]
    },
    {
     "name": "stderr",
     "output_type": "stream",
     "text": [
      "70it [00:07, 10.60it/s]\u001b[A\n",
      "72it [00:07, 10.69it/s]\u001b[A"
     ]
    },
    {
     "name": "stdout",
     "output_type": "stream",
     "text": [
      "[0.98516949 0.01083779 0.00232942] 0.9983366957591882\n",
      "[0.98114854 0.01336873 0.00303954] 0.9975568035419871\n",
      "[0.98329    0.01201312 0.0026281 ] 0.9979312100385092\n"
     ]
    },
    {
     "name": "stderr",
     "output_type": "stream",
     "text": [
      "\n",
      "74it [00:07, 10.63it/s]\u001b[A\n"
     ]
    },
    {
     "name": "stdout",
     "output_type": "stream",
     "text": [
      "[0.98009645 0.01457202 0.0029637 ] 0.9976321773080017\n",
      "[0.98590275 0.01021464 0.00214748] 0.9982648779421273\n",
      "[0.98417692 0.01144503 0.0024222 ] 0.9980441473900239\n"
     ]
    },
    {
     "name": "stderr",
     "output_type": "stream",
     "text": [
      "76it [00:08, 10.50it/s]\u001b[A\n",
      "78it [00:08, 10.66it/s]\u001b[A"
     ]
    },
    {
     "name": "stdout",
     "output_type": "stream",
     "text": [
      "[0.97757814 0.01623748 0.00349937] 0.9973149925783525\n",
      "[0.96905447 0.02279581 0.00482681] 0.996677089900595\n",
      "[0.97503021 0.01842993 0.00384315] 0.9973032887517941\n"
     ]
    },
    {
     "name": "stderr",
     "output_type": "stream",
     "text": [
      "\n",
      "80it [00:08, 10.62it/s]\u001b[A\n"
     ]
    },
    {
     "name": "stdout",
     "output_type": "stream",
     "text": [
      "[0.97718374 0.01676015 0.00362983] 0.9975737141203527\n",
      "[0.97495402 0.01836323 0.00401496] 0.9973322041435941\n",
      "[0.97445681 0.01887328 0.00403039] 0.9973604788393938\n"
     ]
    },
    {
     "name": "stderr",
     "output_type": "stream",
     "text": [
      "82it [00:08, 10.55it/s]\u001b[A\n",
      "84it [00:08, 10.66it/s]\u001b[A"
     ]
    },
    {
     "name": "stdout",
     "output_type": "stream",
     "text": [
      "[0.97959242 0.01503083 0.00313364] 0.9977568851294075\n",
      "[0.98188778 0.01306786 0.00287019] 0.9978258330247975\n",
      "[0.97854846 0.01551663 0.00343825] 0.997503338956939\n"
     ]
    },
    {
     "name": "stderr",
     "output_type": "stream",
     "text": [
      "\n",
      "86it [00:08, 10.57it/s]\u001b[A\n",
      "88it [00:09, 10.73it/s]\u001b[A"
     ]
    },
    {
     "name": "stdout",
     "output_type": "stream",
     "text": [
      "[0.97328255 0.01978193 0.00421178] 0.9972762707050101\n",
      "[0.97091885 0.02196144 0.00455544] 0.9974357322813455\n",
      "[0.97288379 0.01965576 0.00442927] 0.9969688247220996\n"
     ]
    },
    {
     "name": "stderr",
     "output_type": "stream",
     "text": [
      "\n",
      "90it [00:09, 10.59it/s]\u001b[A"
     ]
    },
    {
     "name": "stdout",
     "output_type": "stream",
     "text": [
      "[0.97774385 0.01640985 0.00358429] 0.9977379997321049\n",
      "[0.97473555 0.01826851 0.00403859] 0.9970426497963889\n",
      "[0.98146771 0.01345411 0.00298463] 0.9979064481792929\n"
     ]
    },
    {
     "name": "stderr",
     "output_type": "stream",
     "text": [
      "\n",
      "92it [00:09, 10.84it/s]\u001b[A\n"
     ]
    },
    {
     "name": "stdout",
     "output_type": "stream",
     "text": [
      "[0.98322247 0.01234383 0.00263305] 0.998199345138263\n",
      "[0.98001467 0.01468957 0.00312063] 0.9978248658782702\n",
      "[0.98206046 0.01323276 0.00284499] 0.998138203281155\n"
     ]
    },
    {
     "name": "stderr",
     "output_type": "stream",
     "text": [
      "94it [00:09, 10.72it/s]\u001b[A\n",
      "96it [00:09, 10.66it/s]\u001b[A"
     ]
    },
    {
     "name": "stdout",
     "output_type": "stream",
     "text": [
      "[0.98145655 0.01358709 0.00287939] 0.9979230349785775\n",
      "[0.9787218  0.0155592  0.00335398] 0.9976349843816095\n",
      "[0.98284312 0.01259146 0.00266718] 0.9981017638542021\n"
     ]
    },
    {
     "name": "stderr",
     "output_type": "stream",
     "text": [
      "\n",
      "98it [00:10, 10.73it/s]\u001b[A\n"
     ]
    },
    {
     "name": "stdout",
     "output_type": "stream",
     "text": [
      "[0.9870017  0.00924967 0.0020803 ] 0.9983316698799245\n",
      "[0.98724233 0.00898001 0.00205138] 0.9982737282825986\n",
      "[0.98672787 0.00940356 0.00214943] 0.9982808520383857\n"
     ]
    },
    {
     "name": "stderr",
     "output_type": "stream",
     "text": [
      "100it [00:10, 10.89it/s]\u001b[A\n",
      "102it [00:10, 10.90it/s]\u001b[A"
     ]
    },
    {
     "name": "stdout",
     "output_type": "stream",
     "text": [
      "[0.98352822 0.01206356 0.00264534] 0.9982371279418937\n",
      "[0.9786543  0.01572743 0.00334826] 0.9977299894210175\n",
      "[0.97981351 0.01476165 0.00321987] 0.9977950344372537\n"
     ]
    },
    {
     "name": "stderr",
     "output_type": "stream",
     "text": [
      "\n",
      "104it [00:10, 10.81it/s]\u001b[A\n"
     ]
    },
    {
     "name": "stdout",
     "output_type": "stream",
     "text": [
      "[0.98265237 0.01281186 0.00266499] 0.9981292127510327\n",
      "[0.98471819 0.0111983  0.00236664] 0.9982831275631397\n",
      "[0.98549313 0.01052753 0.00225516] 0.998275818472022\n"
     ]
    },
    {
     "name": "stderr",
     "output_type": "stream",
     "text": [
      "106it [00:10, 10.64it/s]\u001b[A\n",
      "108it [00:11, 10.72it/s]\u001b[A"
     ]
    },
    {
     "name": "stdout",
     "output_type": "stream",
     "text": [
      "[0.98660592 0.00982104 0.00206432] 0.9984912780144996\n",
      "[0.9860491  0.01022111 0.00216268] 0.9984328911808036\n",
      "[0.98681822 0.00987828 0.00194252] 0.9986390259386492\n"
     ]
    },
    {
     "name": "stderr",
     "output_type": "stream",
     "text": [
      "\n",
      "110it [00:11, 10.95it/s]\u001b[A\n",
      "112it [00:11, 10.77it/s]\u001b[A"
     ]
    },
    {
     "name": "stdout",
     "output_type": "stream",
     "text": [
      "[0.9841545  0.01154397 0.00244881] 0.9981472903602214\n",
      "[0.98668426 0.00979932 0.00205108] 0.9985346653308619\n",
      "[0.98282665 0.01256054 0.00272246] 0.9981096442165593\n"
     ]
    },
    {
     "name": "stderr",
     "output_type": "stream",
     "text": [
      "\n",
      "114it [00:11, 10.79it/s]\u001b[A"
     ]
    },
    {
     "name": "stdout",
     "output_type": "stream",
     "text": [
      "[0.9786488  0.01542294 0.00338473] 0.9974564746523898\n",
      "[0.98394075 0.01046077 0.00262546] 0.997026970613411\n",
      "[9.94223403e-01 3.87987038e-03 9.69269871e-04] 0.9990725433721142\n"
     ]
    },
    {
     "name": "stderr",
     "output_type": "stream",
     "text": [
      "\n",
      "116it [00:11, 10.74it/s]\u001b[A\n"
     ]
    },
    {
     "name": "stdout",
     "output_type": "stream",
     "text": [
      "[0.99287572 0.00469947 0.00122942] 0.9988046106368008\n",
      "[0.9894419  0.00702415 0.00188131] 0.9983473668795587\n",
      "[0.98956358 0.00719273 0.00176734] 0.9985236599992381\n"
     ]
    },
    {
     "name": "stderr",
     "output_type": "stream",
     "text": [
      "118it [00:11, 10.77it/s]\u001b[A\n",
      "120it [00:12, 10.60it/s]\u001b[A"
     ]
    },
    {
     "name": "stdout",
     "output_type": "stream",
     "text": [
      "[0.98882118 0.00792611 0.00184673] 0.9985940230892694\n",
      "[0.98786545 0.00884451 0.00194146] 0.9986514313409999\n",
      "[0.98810851 0.00838949 0.00203383] 0.9985318397742328\n"
     ]
    },
    {
     "name": "stderr",
     "output_type": "stream",
     "text": [
      "\n",
      "122it [00:12, 10.62it/s]\u001b[A\n"
     ]
    },
    {
     "name": "stdout",
     "output_type": "stream",
     "text": [
      "[0.9870141  0.00910495 0.00227155] 0.998390603220003\n",
      "[0.98113429 0.01330515 0.00328018] 0.9977196104293287\n",
      "[0.9893962  0.00737793 0.00184091] 0.9986150328071869\n"
     ]
    },
    {
     "name": "stderr",
     "output_type": "stream",
     "text": [
      "124it [00:12, 10.56it/s]\u001b[A\n",
      "126it [00:12, 10.67it/s]\u001b[A"
     ]
    },
    {
     "name": "stdout",
     "output_type": "stream",
     "text": [
      "[0.99139588 0.00623221 0.00137663] 0.9990047212022112\n",
      "[0.98565171 0.00976474 0.00231377] 0.9977302172480766\n",
      "[0.98416549 0.01093925 0.00268992] 0.9977946569713998\n"
     ]
    },
    {
     "name": "stderr",
     "output_type": "stream",
     "text": [
      "\n",
      "128it [00:12, 10.88it/s]\u001b[A\n"
     ]
    },
    {
     "name": "stdout",
     "output_type": "stream",
     "text": [
      "[0.98604812 0.01009601 0.00229915] 0.9984432799477154\n",
      "[0.98874403 0.00810266 0.0018175 ] 0.9986641959164928\n",
      "[0.98995805 0.00683937 0.00146196] 0.9982593856762112\n"
     ]
    },
    {
     "name": "stderr",
     "output_type": "stream",
     "text": [
      "130it [00:13, 10.88it/s]\u001b[A\n",
      "132it [00:13, 10.76it/s]\u001b[A"
     ]
    },
    {
     "name": "stdout",
     "output_type": "stream",
     "text": [
      "[9.94308541e-01 4.12453294e-03 7.28146477e-04] 0.9991612207989651\n",
      "[9.94538368e-01 3.94695062e-03 8.43427030e-04] 0.9993287454155435\n",
      "[9.95571481e-01 2.97199388e-03 7.13695127e-04] 0.9992571697019199\n"
     ]
    },
    {
     "name": "stderr",
     "output_type": "stream",
     "text": [
      "\n",
      "134it [00:13, 10.97it/s]\u001b[A\n"
     ]
    },
    {
     "name": "stdout",
     "output_type": "stream",
     "text": [
      "[9.96705056e-01 2.27509465e-03 4.83995687e-04] 0.9994641459560072\n",
      "[0.99309426 0.00446138 0.00115387] 0.9987095122624907\n",
      "[9.94051802e-01 4.15777328e-03 9.75574244e-04] 0.9991851497383277\n"
     ]
    },
    {
     "name": "stderr",
     "output_type": "stream",
     "text": [
      "136it [00:13, 10.77it/s]\u001b[A\n",
      "138it [00:13, 10.79it/s]\u001b[A"
     ]
    },
    {
     "name": "stdout",
     "output_type": "stream",
     "text": [
      "[0.99233933 0.00505504 0.00144104] 0.9988354157635241\n",
      "[0.99034395 0.00649602 0.00171834] 0.9985583062504989\n",
      "[0.97691411 0.0167854  0.0036634 ] 0.9973629094199691\n"
     ]
    },
    {
     "name": "stderr",
     "output_type": "stream",
     "text": [
      "\n",
      "140it [00:13, 10.74it/s]\u001b[A\n",
      "142it [00:14, 10.88it/s]\u001b[A"
     ]
    },
    {
     "name": "stdout",
     "output_type": "stream",
     "text": [
      "[0.98082769 0.01410172 0.00281019] 0.9977395957565937\n",
      "[0.98205239 0.01319038 0.00255508] 0.9977978462641978\n",
      "[0.9804537  0.01408083 0.00287311] 0.9974076353436987\n"
     ]
    },
    {
     "name": "stderr",
     "output_type": "stream",
     "text": [
      "\n",
      "144it [00:14, 10.89it/s]\u001b[A"
     ]
    },
    {
     "name": "stdout",
     "output_type": "stream",
     "text": [
      "[0.98116333 0.01357409 0.00287988] 0.9976172972121309\n",
      "[0.97838403 0.01598261 0.00317762] 0.9975442628119844\n",
      "[0.9758958  0.01822325 0.0035077 ] 0.9976267454911414\n"
     ]
    },
    {
     "name": "stderr",
     "output_type": "stream",
     "text": [
      "\n",
      "146it [00:14, 10.81it/s]\u001b[A\n",
      "148it [00:14, 10.95it/s]\u001b[A"
     ]
    },
    {
     "name": "stdout",
     "output_type": "stream",
     "text": [
      "[0.96733365 0.02433437 0.00494034] 0.9966083555203762\n",
      "[0.96682574 0.02512967 0.0049923 ] 0.9969477192129703\n",
      "[0.96343513 0.0269696  0.00567766] 0.9960823835333056\n"
     ]
    },
    {
     "name": "stderr",
     "output_type": "stream",
     "text": [
      "\n",
      "150it [00:14, 10.92it/s]\u001b[A"
     ]
    },
    {
     "name": "stdout",
     "output_type": "stream",
     "text": [
      "[0.96523147 0.02562745 0.00552576] 0.9963846747858887\n",
      "[0.96511923 0.0250859  0.00556779] 0.9957729238999843\n",
      "[0.96767848 0.02308344 0.00514459] 0.995906508266476\n"
     ]
    },
    {
     "name": "stderr",
     "output_type": "stream",
     "text": [
      "\n",
      "152it [00:15, 10.81it/s]\u001b[A\n",
      "154it [00:15, 10.97it/s]\u001b[A"
     ]
    },
    {
     "name": "stdout",
     "output_type": "stream",
     "text": [
      "[0.98412367 0.01135038 0.00255944] 0.9980334904340632\n",
      "[0.98289023 0.01233279 0.0026994 ] 0.997922418998896\n",
      "[0.98347878 0.01180848 0.00258585] 0.9978731057617449\n"
     ]
    },
    {
     "name": "stderr",
     "output_type": "stream",
     "text": [
      "\n",
      "156it [00:15, 10.93it/s]\u001b[A"
     ]
    },
    {
     "name": "stdout",
     "output_type": "stream",
     "text": [
      "[0.98928906 0.00771982 0.00161648] 0.9986253648477902\n",
      "[0.98970164 0.00732026 0.00157503] 0.9985969345581401\n",
      "[0.98680421 0.00935019 0.00199067] 0.9981450719656204\n"
     ]
    },
    {
     "name": "stderr",
     "output_type": "stream",
     "text": [
      "\n",
      "158it [00:15, 10.82it/s]\u001b[A\n"
     ]
    },
    {
     "name": "stdout",
     "output_type": "stream",
     "text": [
      "[0.99087782 0.00612123 0.0014304 ] 0.9984294548131388\n",
      "[0.99358179 0.00433801 0.00115716] 0.9990769575518301\n",
      "[0.99270338 0.00485032 0.00141163] 0.9989653240753917\n"
     ]
    },
    {
     "name": "stderr",
     "output_type": "stream",
     "text": [
      "160it [00:15, 10.68it/s]\u001b[A\n",
      "162it [00:16, 10.68it/s]\u001b[A"
     ]
    },
    {
     "name": "stdout",
     "output_type": "stream",
     "text": [
      "[0.98937304 0.00725724 0.0017587 ] 0.9983889810774105\n",
      "[0.98050088 0.01414725 0.0031131 ] 0.9977612329550228\n",
      "[0.9790897  0.01529358 0.00325535] 0.9976386261529278\n"
     ]
    },
    {
     "name": "stderr",
     "output_type": "stream",
     "text": [
      "\n",
      "164it [00:16, 10.71it/s]\u001b[A\n",
      "166it [00:16, 10.88it/s]\u001b[A"
     ]
    },
    {
     "name": "stdout",
     "output_type": "stream",
     "text": [
      "[0.9820985  0.01304072 0.00270284] 0.9978420705454543\n",
      "[0.97865419 0.01558894 0.00317197] 0.9974150955948056\n",
      "[0.97284891 0.01973548 0.00406516] 0.9966495558515412\n"
     ]
    },
    {
     "name": "stderr",
     "output_type": "stream",
     "text": [
      "\n",
      "168it [00:16, 10.87it/s]\u001b[A"
     ]
    },
    {
     "name": "stdout",
     "output_type": "stream",
     "text": [
      "[0.98934261 0.00762162 0.00146645] 0.9984306725526254\n",
      "[0.99176023 0.00634305 0.00102895] 0.9991322347997849\n",
      "[0.99017069 0.00676662 0.00144408] 0.998381397231221\n"
     ]
    },
    {
     "name": "stderr",
     "output_type": "stream",
     "text": [
      "\n",
      "170it [00:16, 10.79it/s]\u001b[A\n"
     ]
    },
    {
     "name": "stdout",
     "output_type": "stream",
     "text": [
      "[0.98349773 0.01225285 0.0023572 ] 0.9981077835839022\n",
      "[0.97663813 0.01708174 0.00355678] 0.9972766511020875\n",
      "[0.97705081 0.01674045 0.00358019] 0.9973714502642329\n"
     ]
    },
    {
     "name": "stderr",
     "output_type": "stream",
     "text": [
      "172it [00:16, 10.66it/s]\u001b[A\n",
      "174it [00:17, 10.65it/s]\u001b[A"
     ]
    },
    {
     "name": "stdout",
     "output_type": "stream",
     "text": [
      "[0.97853935 0.01570649 0.00341137] 0.9976572096507107\n",
      "[0.97293591 0.0197387  0.004242  ] 0.9969166115096798\n"
     ]
    },
    {
     "name": "stderr",
     "output_type": "stream",
     "text": [
      "\n",
      "176it [00:17, 10.45it/s]\u001b[A"
     ]
    },
    {
     "name": "stdout",
     "output_type": "stream",
     "text": [
      "[0.97349215 0.01976176 0.00391194] 0.9971658528087437\n",
      "[0.9768278  0.01745476 0.00342019] 0.9977027565985284\n",
      "[0.98383415 0.01137744 0.00250371] 0.9977153033272759\n"
     ]
    },
    {
     "name": "stderr",
     "output_type": "stream",
     "text": [
      "\n",
      "178it [00:17, 10.53it/s]\u001b[A"
     ]
    },
    {
     "name": "stdout",
     "output_type": "stream",
     "text": [
      "[0.98613131 0.00974623 0.00215497] 0.9980325086637416\n",
      "[0.98724779 0.00894618 0.00197737] 0.998171338856564\n"
     ]
    },
    {
     "name": "stderr",
     "output_type": "stream",
     "text": [
      "\n",
      "180it [00:17, 10.16it/s]\u001b[A\n",
      "182it [00:17, 10.43it/s]\u001b[A"
     ]
    },
    {
     "name": "stdout",
     "output_type": "stream",
     "text": [
      "[0.98646423 0.00972936 0.00208346] 0.9982770506930062\n",
      "[0.9854487  0.01036528 0.00234817] 0.9981621589127739\n",
      "[0.98432423 0.01125618 0.00251203] 0.9980924378051137\n"
     ]
    },
    {
     "name": "stderr",
     "output_type": "stream",
     "text": [
      "\n",
      "184it [00:18, 10.49it/s]\u001b[A"
     ]
    },
    {
     "name": "stdout",
     "output_type": "stream",
     "text": [
      "[0.98402847 0.01162474 0.00255317] 0.9982063834684657\n",
      "[0.98175855 0.0133324  0.00278539] 0.9978763370876435\n",
      "[0.97655756 0.01709241 0.00371183] 0.9973617995426476\n"
     ]
    },
    {
     "name": "stderr",
     "output_type": "stream",
     "text": [
      "\n",
      "186it [00:18, 10.57it/s]\u001b[A\n",
      "188it [00:18, 10.80it/s]\u001b[A"
     ]
    },
    {
     "name": "stdout",
     "output_type": "stream",
     "text": [
      "[0.97489501 0.01829056 0.00388054] 0.9970661085115037\n",
      "[0.97488984 0.01825477 0.00378605] 0.9969306592217175\n",
      "[0.98017843 0.01478208 0.00287478] 0.9978352861789911\n"
     ]
    },
    {
     "name": "stderr",
     "output_type": "stream",
     "text": [
      "\n",
      "190it [00:18, 10.81it/s]\u001b[A"
     ]
    },
    {
     "name": "stdout",
     "output_type": "stream",
     "text": [
      "[0.97915849 0.01526196 0.00304614] 0.9974665925090878\n",
      "[0.98343137 0.01236654 0.002416  ] 0.9982139058222406\n",
      "[0.98398519 0.01177269 0.00230563] 0.9980635099674529\n"
     ]
    },
    {
     "name": "stderr",
     "output_type": "stream",
     "text": [
      "\n",
      "192it [00:18, 10.74it/s]\u001b[A\n"
     ]
    },
    {
     "name": "stdout",
     "output_type": "stream",
     "text": [
      "[0.98310445 0.01220645 0.00255216] 0.9978630644905654\n",
      "[0.9768351  0.01718408 0.00350361] 0.9975227858157425\n",
      "[0.9818669  0.01334003 0.002788  ] 0.9979949336407402\n"
     ]
    },
    {
     "name": "stderr",
     "output_type": "stream",
     "text": [
      "194it [00:19, 10.64it/s]\u001b[A\n",
      "196it [00:19, 10.73it/s]\u001b[A"
     ]
    },
    {
     "name": "stdout",
     "output_type": "stream",
     "text": [
      "[0.98456964 0.01123397 0.00238029] 0.9981839011850893\n",
      "[0.98330588 0.01244865 0.00246766] 0.9982221911160156\n",
      "[0.9824472  0.01313947 0.00262275] 0.9982094144791842\n"
     ]
    },
    {
     "name": "stderr",
     "output_type": "stream",
     "text": [
      "\n",
      "198it [00:19, 10.93it/s]\u001b[A"
     ]
    },
    {
     "name": "stdout",
     "output_type": "stream",
     "text": [
      "[0.98197721 0.01340047 0.00265556] 0.9980332376265922\n",
      "[0.97939613 0.01507973 0.00311299] 0.9975888486227179\n"
     ]
    },
    {
     "name": "stderr",
     "output_type": "stream",
     "text": [
      "\n",
      "200it [00:19, 10.69it/s]\u001b[A\n",
      "202it [00:19, 10.82it/s]\u001b[A"
     ]
    },
    {
     "name": "stdout",
     "output_type": "stream",
     "text": [
      "[0.98321969 0.01238252 0.0025068 ] 0.9981090114811189\n",
      "[0.97946279 0.01542046 0.00299649] 0.9978797394294984\n",
      "[0.97638128 0.0178499  0.00336385] 0.9975950242796668\n"
     ]
    },
    {
     "name": "stderr",
     "output_type": "stream",
     "text": [
      "\n",
      "204it [00:19, 10.74it/s]\u001b[A"
     ]
    },
    {
     "name": "stdout",
     "output_type": "stream",
     "text": [
      "[0.97393138 0.01946199 0.00389113] 0.9972844950361951\n",
      "[0.97389209 0.0194891  0.00380863] 0.9971898165579131\n",
      "[0.97343443 0.01978893 0.00390746] 0.9971308157766149\n"
     ]
    },
    {
     "name": "stderr",
     "output_type": "stream",
     "text": [
      "\n",
      "206it [00:20, 10.81it/s]\u001b[A\n"
     ]
    },
    {
     "name": "stdout",
     "output_type": "stream",
     "text": [
      "[0.97500449 0.01854923 0.00366692] 0.9972206359771144\n",
      "[0.97370002 0.01963691 0.00385476] 0.9971916932785322\n",
      "[0.97644937 0.01753375 0.00345824] 0.9974413643596873\n"
     ]
    },
    {
     "name": "stderr",
     "output_type": "stream",
     "text": [
      "208it [00:20, 10.91it/s]\u001b[A\n",
      "210it [00:20, 10.93it/s]\u001b[A"
     ]
    },
    {
     "name": "stdout",
     "output_type": "stream",
     "text": [
      "[0.97909086 0.01550815 0.00306959] 0.9976685922316675\n",
      "[0.97866755 0.01567739 0.00319214] 0.9975370773678253\n"
     ]
    },
    {
     "name": "stderr",
     "output_type": "stream",
     "text": [
      "\n",
      "212it [00:20, 10.84it/s]\u001b[A"
     ]
    },
    {
     "name": "stdout",
     "output_type": "stream",
     "text": [
      "[0.97776792 0.01616354 0.00326385] 0.997195318463447\n",
      "[0.98258821 0.01309555 0.00245567] 0.9981394223349331\n",
      "[0.97924427 0.01522461 0.00296532] 0.9974342032276295\n"
     ]
    },
    {
     "name": "stderr",
     "output_type": "stream",
     "text": [
      "\n",
      "214it [00:20, 10.81it/s]\u001b[A\n"
     ]
    },
    {
     "name": "stdout",
     "output_type": "stream",
     "text": [
      "[0.97434287 0.01817675 0.00400182] 0.9965214314226918\n",
      "[0.97916785 0.01527844 0.00318224] 0.9976285320100455\n",
      "[0.97938752 0.01503289 0.00318417] 0.9976045823553967\n"
     ]
    },
    {
     "name": "stderr",
     "output_type": "stream",
     "text": [
      "216it [00:21, 10.83it/s]\u001b[A\n",
      "218it [00:21, 10.73it/s]\u001b[A"
     ]
    },
    {
     "name": "stdout",
     "output_type": "stream",
     "text": [
      "[0.97891999 0.01533844 0.00312323] 0.997381660034624\n",
      "[0.97884732 0.01592515 0.00288339] 0.997655864880457\n",
      "[0.9778501  0.0163167  0.00313658] 0.9973033799713829\n"
     ]
    },
    {
     "name": "stderr",
     "output_type": "stream",
     "text": [
      "\n",
      "220it [00:21, 10.66it/s]\u001b[A\n"
     ]
    },
    {
     "name": "stdout",
     "output_type": "stream",
     "text": [
      "[0.98372592 0.01243596 0.00216036] 0.9983222415517071\n",
      "[0.98315456 0.01269816 0.00232869] 0.9981814166315629\n",
      "[0.97971431 0.01503649 0.00284735] 0.9975981452413295\n"
     ]
    },
    {
     "name": "stderr",
     "output_type": "stream",
     "text": [
      "222it [00:21, 10.84it/s]\u001b[A\n",
      "224it [00:21, 10.86it/s]\u001b[A"
     ]
    },
    {
     "name": "stdout",
     "output_type": "stream",
     "text": [
      "[0.97752332 0.0166039  0.00322182] 0.9973490453258627\n",
      "[0.98131822 0.01390531 0.00270663] 0.9979301560149736\n",
      "[0.98168435 0.01357043 0.00265464] 0.997909418214685\n"
     ]
    },
    {
     "name": "stderr",
     "output_type": "stream",
     "text": [
      "\n",
      "226it [00:21, 10.73it/s]\u001b[A\n",
      "228it [00:22, 10.91it/s]\u001b[A"
     ]
    },
    {
     "name": "stdout",
     "output_type": "stream",
     "text": [
      "[0.98083095 0.0140374  0.00275839] 0.9976267458461148\n",
      "[0.9830873  0.01225478 0.00248675] 0.9978288360989628\n",
      "[0.98157341 0.01330997 0.00273625] 0.9976196262309369\n"
     ]
    },
    {
     "name": "stderr",
     "output_type": "stream",
     "text": [
      "\n",
      "230it [00:22, 10.91it/s]\u001b[A"
     ]
    },
    {
     "name": "stdout",
     "output_type": "stream",
     "text": [
      "[0.97853012 0.01553715 0.00316013] 0.9972273992432849\n",
      "[0.98098669 0.01402079 0.00274173] 0.9977492076042078\n",
      "[0.98019621 0.01474129 0.00276245] 0.9976999548483851\n"
     ]
    },
    {
     "name": "stderr",
     "output_type": "stream",
     "text": [
      "\n",
      "232it [00:22, 10.53it/s]\u001b[A\n"
     ]
    },
    {
     "name": "stdout",
     "output_type": "stream",
     "text": [
      "[0.98064829 0.01447839 0.00268778] 0.9978144605215107\n",
      "[0.97989796 0.01487641 0.00283976] 0.9976141330314168\n",
      "[0.98570276 0.01058156 0.00204141] 0.9983257319779438\n"
     ]
    },
    {
     "name": "stderr",
     "output_type": "stream",
     "text": [
      "234it [00:22, 10.49it/s]\u001b[A\n",
      "236it [00:22, 10.88it/s]\u001b[A"
     ]
    },
    {
     "name": "stdout",
     "output_type": "stream",
     "text": [
      "[0.98706857 0.00960193 0.00181224] 0.998482734116791\n",
      "[0.9811074  0.01371602 0.00272775] 0.9975511647748072\n",
      "[0.98026686 0.01431386 0.00291221] 0.9974929229230738\n"
     ]
    },
    {
     "name": "stderr",
     "output_type": "stream",
     "text": [
      "\n",
      "238it [00:23, 10.78it/s]\u001b[A\n",
      "240it [00:23, 10.92it/s]\u001b[A"
     ]
    },
    {
     "name": "stdout",
     "output_type": "stream",
     "text": [
      "[0.98376865 0.01199916 0.00235833] 0.9981261405218673\n",
      "[0.98201484 0.01330884 0.00259248] 0.9979161727309226\n",
      "[0.9805652  0.01436224 0.00272022] 0.9976476625404379\n"
     ]
    },
    {
     "name": "stderr",
     "output_type": "stream",
     "text": [
      "\n",
      "242it [00:23, 10.91it/s]\u001b[A"
     ]
    },
    {
     "name": "stdout",
     "output_type": "stream",
     "text": [
      "[0.97941605 0.01534544 0.0028474 ] 0.9976088875040076\n",
      "[0.9779726  0.01597752 0.00311879] 0.9970689107163927\n",
      "[0.97789464 0.01588844 0.00323178] 0.997014866811707\n"
     ]
    },
    {
     "name": "stderr",
     "output_type": "stream",
     "text": [
      "\n",
      "244it [00:23, 10.80it/s]\u001b[A\n"
     ]
    },
    {
     "name": "stdout",
     "output_type": "stream",
     "text": [
      "[0.97709541 0.01688931 0.00323123] 0.997215947639362\n",
      "[0.98168538 0.01360593 0.00253527] 0.9978265796283516\n",
      "[0.98197714 0.01282349 0.00264388] 0.9974445114782894\n"
     ]
    },
    {
     "name": "stderr",
     "output_type": "stream",
     "text": [
      "246it [00:23, 10.96it/s]\u001b[A\n",
      "248it [00:24, 10.44it/s]\u001b[A"
     ]
    },
    {
     "name": "stdout",
     "output_type": "stream",
     "text": [
      "[0.98300871 0.0119556  0.00257208] 0.9975363891306293\n",
      "[0.98415761 0.01149647 0.00229672] 0.9979508040569784\n",
      "[0.98168364 0.01318904 0.00272544] 0.9975981227441987\n"
     ]
    },
    {
     "name": "stderr",
     "output_type": "stream",
     "text": [
      "\n",
      "250it [00:24, 10.66it/s]\u001b[A\n",
      "252it [00:24, 10.88it/s]\u001b[A"
     ]
    },
    {
     "name": "stdout",
     "output_type": "stream",
     "text": [
      "[0.98109294 0.01379672 0.00278089] 0.9976705502181777\n",
      "[0.98124759 0.01377344 0.00270554] 0.9977265725701544\n",
      "[0.98089198 0.01382382 0.00285861] 0.99757441108526\n"
     ]
    },
    {
     "name": "stderr",
     "output_type": "stream",
     "text": [
      "\n",
      "254it [00:24, 10.87it/s]\u001b[A"
     ]
    },
    {
     "name": "stdout",
     "output_type": "stream",
     "text": [
      "[0.98294953 0.01258958 0.00249944] 0.9980385554647799\n",
      "[0.98326056 0.01226065 0.00245135] 0.9979725591250129\n",
      "[0.98776527 0.00863529 0.00178527] 0.9981858317816029\n"
     ]
    },
    {
     "name": "stderr",
     "output_type": "stream",
     "text": [
      "\n",
      "256it [00:24, 10.51it/s]\u001b[A\n",
      "258it [00:24, 10.73it/s]\u001b[A"
     ]
    },
    {
     "name": "stdout",
     "output_type": "stream",
     "text": [
      "[0.98935898 0.00759134 0.00153589] 0.9984862098515765\n",
      "[0.98637875 0.00940456 0.00203425] 0.997817564057269\n",
      "[0.98250108 0.01297069 0.0025065 ] 0.9979782618606718\n"
     ]
    },
    {
     "name": "stderr",
     "output_type": "stream",
     "text": [
      "\n",
      "260it [00:25, 10.75it/s]\u001b[A"
     ]
    },
    {
     "name": "stdout",
     "output_type": "stream",
     "text": [
      "[0.97845473 0.0154005  0.00320589] 0.9970611240950359\n",
      "[0.98107129 0.01399558 0.00270745] 0.997774322412849\n",
      "[0.9818655  0.01339856 0.0025821 ] 0.9978461543626063\n"
     ]
    },
    {
     "name": "stderr",
     "output_type": "stream",
     "text": [
      "\n",
      "262it [00:25, 10.73it/s]\u001b[A\n",
      "264it [00:25, 10.89it/s]\u001b[A"
     ]
    },
    {
     "name": "stdout",
     "output_type": "stream",
     "text": [
      "[0.97911818 0.01522709 0.0030572 ] 0.9974024687551589\n",
      "[0.9788451  0.01551638 0.00314727] 0.9975087529891069\n",
      "[0.97826259 0.01590848 0.00326128] 0.997432346256465\n"
     ]
    },
    {
     "name": "stderr",
     "output_type": "stream",
     "text": [
      "\n",
      "266it [00:25, 10.61it/s]\u001b[A"
     ]
    },
    {
     "name": "stdout",
     "output_type": "stream",
     "text": [
      "[0.97563322 0.01774722 0.00375269] 0.9971331278556348\n",
      "[0.97618408 0.01713816 0.00362738] 0.9969496171668455\n",
      "[0.9840565  0.011674   0.00239025] 0.9981207523129376\n"
     ]
    },
    {
     "name": "stderr",
     "output_type": "stream",
     "text": [
      "\n",
      "268it [00:25, 10.61it/s]\u001b[A\n"
     ]
    },
    {
     "name": "stdout",
     "output_type": "stream",
     "text": [
      "[0.98390565 0.01152323 0.00243532] 0.997864199681136\n",
      "[0.98552109 0.01043044 0.00222048] 0.9981720155906136\n",
      "[0.98410357 0.01128339 0.00237527] 0.997762231025683\n"
     ]
    },
    {
     "name": "stderr",
     "output_type": "stream",
     "text": [
      "270it [00:26, 10.67it/s]\u001b[A\n",
      "272it [00:26, 10.86it/s]\u001b[A"
     ]
    },
    {
     "name": "stdout",
     "output_type": "stream",
     "text": [
      "[0.98442061 0.01123106 0.0023661 ] 0.9980177718554955\n",
      "[0.98364103 0.0121277  0.00246599] 0.9982347246986587\n",
      "[0.9786332  0.01574351 0.00318893] 0.997565650455513\n"
     ]
    },
    {
     "name": "stderr",
     "output_type": "stream",
     "text": [
      "\n",
      "274it [00:26, 10.48it/s]\u001b[A\n"
     ]
    },
    {
     "name": "stdout",
     "output_type": "stream",
     "text": [
      "[0.97958893 0.01521049 0.00294263] 0.9977420464008839\n",
      "[0.97994736 0.01532946 0.00280157] 0.9980783895886863\n",
      "[0.97965383 0.01480622 0.00303865] 0.997498693274233\n"
     ]
    },
    {
     "name": "stderr",
     "output_type": "stream",
     "text": [
      "276it [00:26, 10.72it/s]\u001b[A\n",
      "278it [00:26, 10.51it/s]\u001b[A"
     ]
    },
    {
     "name": "stdout",
     "output_type": "stream",
     "text": [
      "[0.9833389  0.01245626 0.00241462] 0.9982097861144889\n",
      "[0.97998924 0.01474096 0.00293022] 0.9976604189933278\n",
      "[0.97847466 0.01556601 0.00319622] 0.9972368893887725\n"
     ]
    },
    {
     "name": "stderr",
     "output_type": "stream",
     "text": [
      "\n",
      "280it [00:27, 10.77it/s]\u001b[A\n"
     ]
    },
    {
     "name": "stdout",
     "output_type": "stream",
     "text": [
      "[0.98165911 0.0132609  0.00271671] 0.9976367330363367\n",
      "[0.9810002  0.01369237 0.00285737] 0.9975499398791868\n",
      "[0.97857625 0.01549903 0.00329568] 0.9973709478470522\n"
     ]
    },
    {
     "name": "stderr",
     "output_type": "stream",
     "text": [
      "282it [00:27, 10.65it/s]\u001b[A\n",
      "284it [00:27, 10.71it/s]\u001b[A"
     ]
    },
    {
     "name": "stdout",
     "output_type": "stream",
     "text": [
      "[0.9746349  0.01832364 0.00399596] 0.996954501344973\n",
      "[0.97529463 0.01813455 0.00378144] 0.9972106178922059\n",
      "[0.97699423 0.01718261 0.00334549] 0.9975223251856002\n"
     ]
    },
    {
     "name": "stderr",
     "output_type": "stream",
     "text": [
      "\n",
      "286it [00:27, 10.66it/s]\u001b[A"
     ]
    },
    {
     "name": "stdout",
     "output_type": "stream",
     "text": [
      "[0.97887184 0.01571067 0.0031534 ] 0.9977359152529679\n",
      "[0.97555958 0.01815815 0.00359019] 0.9973079208373966\n"
     ]
    },
    {
     "name": "stderr",
     "output_type": "stream",
     "text": [
      "\n",
      "288it [00:27, 10.34it/s]\u001b[A\n"
     ]
    },
    {
     "name": "stdout",
     "output_type": "stream",
     "text": [
      "[0.97087582 0.02071415 0.00446503] 0.9960550036196769\n",
      "[0.97901309 0.01549838 0.00308216] 0.9975936321022044\n",
      "[0.97913029 0.01547738 0.00298444] 0.9975921143624504\n"
     ]
    },
    {
     "name": "stderr",
     "output_type": "stream",
     "text": [
      "290it [00:27, 10.49it/s]\u001b[A\n",
      "292it [00:28, 10.58it/s]\u001b[A"
     ]
    },
    {
     "name": "stdout",
     "output_type": "stream",
     "text": [
      "[0.97177738 0.02060984 0.00415768] 0.9965449006646526\n",
      "[0.97731319 0.01674593 0.00332402] 0.997383128153859\n",
      "[0.97770383 0.01648824 0.00330282] 0.9974948942550299\n"
     ]
    },
    {
     "name": "stderr",
     "output_type": "stream",
     "text": [
      "\n",
      "294it [00:28, 10.58it/s]\u001b[A\n",
      "296it [00:28, 10.79it/s]\u001b[A"
     ]
    },
    {
     "name": "stdout",
     "output_type": "stream",
     "text": [
      "[0.97825796 0.01603083 0.00335779] 0.9976465861910497\n",
      "[0.9794053  0.01537316 0.00306378] 0.9978422331118962\n",
      "[0.980845   0.01388132 0.00286273] 0.9975890572504554\n"
     ]
    },
    {
     "name": "stderr",
     "output_type": "stream",
     "text": [
      "\n",
      "298it [00:28, 10.81it/s]\u001b[A"
     ]
    },
    {
     "name": "stdout",
     "output_type": "stream",
     "text": [
      "[0.98557952 0.0103289  0.00209106] 0.9979994770155167\n",
      "[0.98857874 0.00819499 0.00169402] 0.9984677407609382\n",
      "[9.93835254e-01 4.05835707e-03 9.68722389e-04] 0.9988623333381532\n"
     ]
    },
    {
     "name": "stderr",
     "output_type": "stream",
     "text": [
      "\n",
      "300it [00:28, 10.73it/s]\u001b[A\n"
     ]
    },
    {
     "name": "stdout",
     "output_type": "stream",
     "text": [
      "[0.98524176 0.00970133 0.00236308] 0.9973061707360918\n",
      "[0.98504875 0.01012796 0.00225602] 0.9974327303639134\n",
      "[0.98880448 0.0080088  0.00156781] 0.9983810849953273\n"
     ]
    },
    {
     "name": "stderr",
     "output_type": "stream",
     "text": [
      "302it [00:29, 10.80it/s]\u001b[A\n",
      "304it [00:29, 10.67it/s]\u001b[A"
     ]
    },
    {
     "name": "stdout",
     "output_type": "stream",
     "text": [
      "[0.99091851 0.00612631 0.00139816] 0.9984429833152029\n",
      "[0.99224168 0.00527506 0.00115696] 0.9986737050164034\n",
      "[0.99238037 0.00523497 0.00113454] 0.9987498830241933\n"
     ]
    },
    {
     "name": "stderr",
     "output_type": "stream",
     "text": [
      "\n",
      "306it [00:29, 10.61it/s]\u001b[A\n"
     ]
    },
    {
     "name": "stdout",
     "output_type": "stream",
     "text": [
      "[0.98524836 0.0100166  0.00234236] 0.9976073178753601\n",
      "[0.98849688 0.00816001 0.00170204] 0.9983589247492424\n",
      "[0.99210023 0.00557997 0.00118554] 0.9988657381159477\n"
     ]
    },
    {
     "name": "stderr",
     "output_type": "stream",
     "text": [
      "308it [00:29, 10.82it/s]\u001b[A\n",
      "310it [00:29, 10.32it/s]\u001b[A"
     ]
    },
    {
     "name": "stdout",
     "output_type": "stream",
     "text": [
      "[0.99204485 0.0054219  0.00124984] 0.9987165856243507\n",
      "[0.99046396 0.00644122 0.00150789] 0.9984130730812931\n",
      "[0.98943121 0.00712082 0.00174029] 0.9982923166644243\n"
     ]
    },
    {
     "name": "stderr",
     "output_type": "stream",
     "text": [
      "\n",
      "312it [00:30, 10.43it/s]\u001b[A\n"
     ]
    },
    {
     "name": "stdout",
     "output_type": "stream",
     "text": [
      "[0.98818928 0.00779286 0.00188159] 0.9978637215848059\n",
      "[9.94153462e-01 4.11417808e-03 9.20601378e-04] 0.9991882415863635\n",
      "[0.99210602 0.00526815 0.00123641] 0.9986105738175991\n"
     ]
    },
    {
     "name": "stderr",
     "output_type": "stream",
     "text": [
      "314it [00:30, 10.61it/s]\u001b[A\n",
      "316it [00:30, 10.69it/s]\u001b[A"
     ]
    },
    {
     "name": "stdout",
     "output_type": "stream",
     "text": [
      "[0.98802459 0.00827581 0.00203567] 0.9983360669018916\n",
      "[0.98590868 0.00966532 0.00225797] 0.9978319714815428\n",
      "[0.98959227 0.00733128 0.00155621] 0.9984797587035156\n"
     ]
    },
    {
     "name": "stderr",
     "output_type": "stream",
     "text": [
      "\n",
      "318it [00:30, 10.65it/s]\u001b[A\n"
     ]
    },
    {
     "name": "stdout",
     "output_type": "stream",
     "text": [
      "[0.99083167 0.00651936 0.00133084] 0.9986818631085174\n",
      "[0.99053973 0.00645924 0.00148837] 0.9984873307061951\n",
      "[0.98963329 0.00710967 0.00155948] 0.9983024324159157\n"
     ]
    },
    {
     "name": "stderr",
     "output_type": "stream",
     "text": [
      "320it [00:30, 10.56it/s]\u001b[A\n",
      "322it [00:30, 10.65it/s]\u001b[A"
     ]
    },
    {
     "name": "stdout",
     "output_type": "stream",
     "text": [
      "[0.99182843 0.00544918 0.00135685] 0.9986344660612271\n",
      "[0.99248407 0.00492902 0.00132435] 0.9987374334901185\n",
      "[0.99305241 0.00466353 0.00129827] 0.9990142078732842\n"
     ]
    },
    {
     "name": "stderr",
     "output_type": "stream",
     "text": [
      "\n",
      "324it [00:31, 10.64it/s]\u001b[A\n"
     ]
    },
    {
     "name": "stdout",
     "output_type": "stream",
     "text": [
      "[0.99011348 0.00657358 0.00165575] 0.9983428107232487\n",
      "[0.98863435 0.00776324 0.00183689] 0.9982344757861812\n",
      "[0.98792668 0.00834283 0.00182939] 0.9980989037091984\n"
     ]
    },
    {
     "name": "stderr",
     "output_type": "stream",
     "text": [
      "326it [00:31, 10.81it/s]\u001b[A\n",
      "328it [00:31, 10.84it/s]\u001b[A"
     ]
    },
    {
     "name": "stdout",
     "output_type": "stream",
     "text": [
      "[0.98770007 0.00842454 0.00195779] 0.9980824011268521\n",
      "[0.98825639 0.00815245 0.00186791] 0.9982767537853293\n",
      "[0.98879284 0.00762413 0.00189197] 0.9983089389738358\n"
     ]
    },
    {
     "name": "stderr",
     "output_type": "stream",
     "text": [
      "\n",
      "330it [00:31, 10.75it/s]\u001b[A\n"
     ]
    },
    {
     "name": "stdout",
     "output_type": "stream",
     "text": [
      "[0.98723402 0.00885225 0.00203468] 0.9981209528069533\n",
      "[0.98972347 0.00715307 0.00160179] 0.9984783327347061\n",
      "[0.98973788 0.00717979 0.00157199] 0.9984896596165007\n"
     ]
    },
    {
     "name": "stderr",
     "output_type": "stream",
     "text": [
      "332it [00:31, 10.64it/s]\u001b[A\n",
      "334it [00:32, 10.61it/s]\u001b[A"
     ]
    },
    {
     "name": "stdout",
     "output_type": "stream",
     "text": [
      "[0.98937486 0.00744789 0.00169036] 0.9985131114957898\n",
      "[0.98889024 0.0076138  0.00178045] 0.9982844789100007\n",
      "[0.98848695 0.00831806 0.0016366 ] 0.9984416081641342\n"
     ]
    },
    {
     "name": "stderr",
     "output_type": "stream",
     "text": [
      "\n",
      "336it [00:32, 10.40it/s]\u001b[A\n",
      "338it [00:32, 10.66it/s]\u001b[A"
     ]
    },
    {
     "name": "stdout",
     "output_type": "stream",
     "text": [
      "[0.98527874 0.01047935 0.00218737] 0.9979454538397329\n",
      "[0.98555496 0.01008155 0.00226868] 0.9979051885859761\n",
      "[0.98686748 0.00910148 0.00206157] 0.9980305302819491\n"
     ]
    },
    {
     "name": "stderr",
     "output_type": "stream",
     "text": [
      "\n",
      "340it [00:32, 10.72it/s]\u001b[A"
     ]
    },
    {
     "name": "stdout",
     "output_type": "stream",
     "text": [
      "[0.98903757 0.0075991  0.00175037] 0.9983870437996071\n",
      "[0.99116702 0.00617042 0.00139454] 0.9987319758530818\n",
      "[0.98874999 0.00777925 0.00177705] 0.9983062882264925\n"
     ]
    },
    {
     "name": "stderr",
     "output_type": "stream",
     "text": [
      "\n",
      "342it [00:32, 10.66it/s]\u001b[A\n"
     ]
    },
    {
     "name": "stdout",
     "output_type": "stream",
     "text": [
      "[0.98878316 0.00798515 0.0016545 ] 0.9984228211894113\n",
      "[0.98973496 0.0073774  0.00146828] 0.9985806454849411\n",
      "[0.9887163  0.00788697 0.00170269] 0.9983059620103175\n"
     ]
    },
    {
     "name": "stderr",
     "output_type": "stream",
     "text": [
      "344it [00:33, 10.48it/s]\u001b[A\n",
      "346it [00:33, 10.71it/s]\u001b[A"
     ]
    },
    {
     "name": "stdout",
     "output_type": "stream",
     "text": [
      "[0.98642436 0.00942211 0.00209091] 0.9979373839748388\n",
      "[0.98801295 0.00834909 0.00179671] 0.9981587467256156\n",
      "[0.98790531 0.00833321 0.00186649] 0.998105019803492\n"
     ]
    },
    {
     "name": "stderr",
     "output_type": "stream",
     "text": [
      "\n",
      "348it [00:33, 10.66it/s]\u001b[A\n",
      "350it [00:33, 10.84it/s]\u001b[A"
     ]
    },
    {
     "name": "stdout",
     "output_type": "stream",
     "text": [
      "[0.98625291 0.00952333 0.0021314 ] 0.997907641072\n",
      "[0.98552746 0.01037883 0.00214968] 0.9980559634275552\n",
      "[0.986717   0.00941115 0.0020468 ] 0.9981749507368393\n"
     ]
    },
    {
     "name": "stderr",
     "output_type": "stream",
     "text": [
      "\n",
      "352it [00:33, 10.84it/s]\u001b[A"
     ]
    },
    {
     "name": "stdout",
     "output_type": "stream",
     "text": [
      "[0.98444358 0.01095132 0.00243836] 0.9978332652311067\n",
      "[0.98322317 0.01179031 0.00256805] 0.9975815288695395\n",
      "[0.98601749 0.01002657 0.00200066] 0.9980447194595736\n"
     ]
    },
    {
     "name": "stderr",
     "output_type": "stream",
     "text": [
      "\n",
      "354it [00:33, 10.78it/s]\u001b[A\n"
     ]
    },
    {
     "name": "stdout",
     "output_type": "stream",
     "text": [
      "[0.98854654 0.0080374  0.00173679] 0.9983207241929115\n",
      "[0.98592837 0.0098399  0.00213054] 0.9978988080360713\n",
      "[0.98616251 0.00971543 0.0021806 ] 0.9980585350624662\n"
     ]
    },
    {
     "name": "stderr",
     "output_type": "stream",
     "text": [
      "356it [00:34, 10.85it/s]\u001b[A\n",
      "358it [00:34, 10.94it/s]\u001b[A"
     ]
    },
    {
     "name": "stdout",
     "output_type": "stream",
     "text": [
      "[0.98715469 0.00876712 0.00216199] 0.9980838046996195\n",
      "[0.99295021 0.00486299 0.00107689] 0.9988900880248093\n",
      "[9.93484546e-01 4.51975177e-03 9.35424259e-04] 0.9989397220686781\n"
     ]
    },
    {
     "name": "stderr",
     "output_type": "stream",
     "text": [
      "\n",
      "360it [00:34, 10.81it/s]\u001b[A\n",
      "362it [00:34, 10.97it/s]\u001b[A"
     ]
    },
    {
     "name": "stdout",
     "output_type": "stream",
     "text": [
      "[0.97673298 0.01539138 0.00367957] 0.9958039370400941\n",
      "[0.98681607 0.00952712 0.00189849] 0.9982416851484585\n",
      "[0.9885895  0.00830858 0.00161129] 0.9985093725391982\n"
     ]
    },
    {
     "name": "stderr",
     "output_type": "stream",
     "text": [
      "\n",
      "364it [00:34, 10.93it/s]\u001b[A"
     ]
    },
    {
     "name": "stdout",
     "output_type": "stream",
     "text": [
      "[0.98678327 0.0096971  0.00185828] 0.9983386530755484\n",
      "[0.98511735 0.01075991 0.00217445] 0.998051700628094\n",
      "[0.97771348 0.01631473 0.00324746] 0.9972756609569758\n"
     ]
    },
    {
     "name": "stderr",
     "output_type": "stream",
     "text": [
      "\n",
      "366it [00:35, 10.51it/s]\u001b[A\n",
      "368it [00:35, 10.76it/s]\u001b[A"
     ]
    },
    {
     "name": "stdout",
     "output_type": "stream",
     "text": [
      "[0.97430422 0.01890108 0.00373798] 0.9969432820785111\n",
      "[0.97840503 0.01512459 0.00332266] 0.9968522749164922\n",
      "[0.98525442 0.01065921 0.00220131] 0.9981149431098681\n"
     ]
    },
    {
     "name": "stderr",
     "output_type": "stream",
     "text": [
      "\n",
      "370it [00:35, 10.52it/s]\u001b[A"
     ]
    },
    {
     "name": "stdout",
     "output_type": "stream",
     "text": [
      "[0.98582137 0.01022871 0.00212095] 0.9981710313209191\n",
      "[0.98816579 0.00841141 0.00176034] 0.998337539519864\n",
      "[0.9884365  0.00813653 0.00176133] 0.9983343517595423\n"
     ]
    },
    {
     "name": "stderr",
     "output_type": "stream",
     "text": [
      "\n",
      "372it [00:35, 10.52it/s]\u001b[A\n",
      "374it [00:35, 10.75it/s]\u001b[A"
     ]
    },
    {
     "name": "stdout",
     "output_type": "stream",
     "text": [
      "[0.98513267 0.0102954  0.00229237] 0.9977204439190883\n",
      "[0.98016564 0.01394995 0.00312678] 0.9972423700506957\n",
      "[0.98367026 0.01185838 0.00237608] 0.9979047153601809\n"
     ]
    },
    {
     "name": "stderr",
     "output_type": "stream",
     "text": [
      "\n",
      "376it [00:35, 10.79it/s]\u001b[A"
     ]
    },
    {
     "name": "stdout",
     "output_type": "stream",
     "text": [
      "[0.98748816 0.00895121 0.00184528] 0.9982846438185707\n",
      "[0.98706003 0.00907588 0.0019543 ] 0.9980902083279085\n",
      "[0.98633316 0.0094448  0.00218736] 0.9979653292823548\n"
     ]
    },
    {
     "name": "stderr",
     "output_type": "stream",
     "text": [
      "\n",
      "378it [00:36, 10.72it/s]\u001b[A\n"
     ]
    },
    {
     "name": "stdout",
     "output_type": "stream",
     "text": [
      "[0.98600276 0.00976639 0.00218374] 0.9979528860610122\n",
      "[0.98892244 0.00765197 0.00169667] 0.9982710785417753\n",
      "[0.9915654  0.0058757  0.00135162] 0.9987927168412489\n"
     ]
    },
    {
     "name": "stderr",
     "output_type": "stream",
     "text": [
      "380it [00:36, 10.61it/s]\u001b[A\n",
      "382it [00:36, 10.72it/s]\u001b[A"
     ]
    },
    {
     "name": "stdout",
     "output_type": "stream",
     "text": [
      "[0.99132434 0.00586366 0.0013925 ] 0.9985805005838196\n",
      "[0.9878109  0.00881954 0.00191802] 0.9985484540161832\n"
     ]
    },
    {
     "name": "stderr",
     "output_type": "stream",
     "text": [
      "\n",
      "384it [00:36, 10.67it/s]\u001b[A"
     ]
    },
    {
     "name": "stdout",
     "output_type": "stream",
     "text": [
      "[0.97879827 0.01542506 0.0033343 ] 0.9975576366686253\n",
      "[0.97774771 0.01617593 0.00344484] 0.9973684714758688\n",
      "[0.98729414 0.00890178 0.00194555] 0.9981414701674552\n"
     ]
    },
    {
     "name": "stderr",
     "output_type": "stream",
     "text": [
      "\n",
      "386it [00:36, 10.70it/s]\u001b[A\n"
     ]
    },
    {
     "name": "stdout",
     "output_type": "stream",
     "text": [
      "[0.99063424 0.00642591 0.00143624] 0.9984963885359845\n",
      "[0.99114552 0.00599017 0.00144943] 0.9985851190628179\n",
      "[0.98888946 0.00759362 0.00168608] 0.9981691647199499\n"
     ]
    },
    {
     "name": "stderr",
     "output_type": "stream",
     "text": [
      "388it [00:37, 10.54it/s]\u001b[A\n",
      "390it [00:37, 10.72it/s]\u001b[A"
     ]
    },
    {
     "name": "stdout",
     "output_type": "stream",
     "text": [
      "[0.98918297 0.00733476 0.00172524] 0.9982429683280025\n",
      "[0.98939064 0.00732389 0.0016758 ] 0.998390319008038\n",
      "[0.98608775 0.00963725 0.00217777] 0.9979027678025691\n"
     ]
    },
    {
     "name": "stderr",
     "output_type": "stream",
     "text": [
      "\n",
      "392it [00:37, 10.65it/s]\u001b[A\n",
      "394it [00:37, 10.85it/s]\u001b[A"
     ]
    },
    {
     "name": "stdout",
     "output_type": "stream",
     "text": [
      "[0.9880888  0.00832834 0.00181601] 0.9982331549364154\n",
      "[0.98783792 0.00845516 0.00185868] 0.998151755721256\n",
      "[0.99038518 0.00669533 0.00150571] 0.9985862199203952\n"
     ]
    },
    {
     "name": "stderr",
     "output_type": "stream",
     "text": [
      "\n",
      "396it [00:37, 10.58it/s]\u001b[A"
     ]
    },
    {
     "name": "stdout",
     "output_type": "stream",
     "text": [
      "[0.98793969 0.00854604 0.00183666] 0.9983223939029003\n",
      "[0.98787026 0.00855523 0.00183866] 0.9982641560215998\n",
      "[0.98682052 0.00928479 0.00198248] 0.9980877908137763\n"
     ]
    },
    {
     "name": "stderr",
     "output_type": "stream",
     "text": [
      "\n",
      "398it [00:38, 10.54it/s]\u001b[A\n",
      "400it [00:38, 10.79it/s]\u001b[A"
     ]
    },
    {
     "name": "stdout",
     "output_type": "stream",
     "text": [
      "[0.9887026  0.0079249  0.00173533] 0.9983628266473297\n",
      "[0.98591755 0.01002852 0.00213135] 0.9980774115233562\n",
      "[0.98447535 0.0109329  0.00238169] 0.9977899420888664\n"
     ]
    },
    {
     "name": "stderr",
     "output_type": "stream",
     "text": [
      "\n",
      "402it [00:38, 10.80it/s]\u001b[A"
     ]
    },
    {
     "name": "stdout",
     "output_type": "stream",
     "text": [
      "[0.99207462 0.00548001 0.00122271] 0.9987773380381506\n",
      "[0.99122504 0.00596632 0.00141642] 0.9986077855270858\n",
      "[0.98688038 0.00897336 0.00209911] 0.9979528565160418\n"
     ]
    },
    {
     "name": "stderr",
     "output_type": "stream",
     "text": [
      "\n",
      "404it [00:38, 10.75it/s]\u001b[A\n",
      "406it [00:38, 10.91it/s]\u001b[A"
     ]
    },
    {
     "name": "stdout",
     "output_type": "stream",
     "text": [
      "[0.97840287 0.01556308 0.0034872 ] 0.9974531611147175\n",
      "[0.98361596 0.01164782 0.00259773] 0.9978615183614681\n",
      "[0.98350665 0.01168455 0.00270132] 0.997892514757311\n"
     ]
    },
    {
     "name": "stderr",
     "output_type": "stream",
     "text": [
      "\n",
      "408it [00:38, 10.62it/s]\u001b[A"
     ]
    },
    {
     "name": "stdout",
     "output_type": "stream",
     "text": [
      "[0.98058644 0.01391493 0.00302079] 0.9975221609258098\n",
      "[0.97442791 0.01852938 0.00410805] 0.9970653470165179\n",
      "[0.98390906 0.01137835 0.00265417] 0.9979415826131776\n"
     ]
    },
    {
     "name": "stderr",
     "output_type": "stream",
     "text": [
      "\n",
      "410it [00:39, 10.62it/s]\u001b[A\n"
     ]
    },
    {
     "name": "stdout",
     "output_type": "stream",
     "text": [
      "[0.98493012 0.01036775 0.00243924] 0.9977371104895107\n",
      "[0.98557709 0.0099639  0.00227779] 0.9978187799463837\n",
      "[0.99159068 0.0059954  0.00127969] 0.9988657756698772\n"
     ]
    },
    {
     "name": "stderr",
     "output_type": "stream",
     "text": [
      "412it [00:39, 10.53it/s]\u001b[A\n",
      "414it [00:39, 10.62it/s]\u001b[A"
     ]
    },
    {
     "name": "stdout",
     "output_type": "stream",
     "text": [
      "[0.98095972 0.01270675 0.00305411] 0.996720580776083\n",
      "[9.95149694e-01 3.27852719e-03 7.46383890e-04] 0.9991746050087215\n",
      "[9.95859096e-01 2.69852989e-03 6.92746651e-04] 0.9992503724611228\n"
     ]
    },
    {
     "name": "stderr",
     "output_type": "stream",
     "text": [
      "\n",
      "416it [00:39, 10.60it/s]\u001b[A\n"
     ]
    },
    {
     "name": "stdout",
     "output_type": "stream",
     "text": [
      "[0.99388199 0.00415408 0.00114385] 0.9991799207888543\n",
      "[0.99188072 0.00538594 0.00136708] 0.9986337494741069\n",
      "[0.99154289 0.0057667  0.00152413] 0.9988337192374253\n"
     ]
    },
    {
     "name": "stderr",
     "output_type": "stream",
     "text": [
      "418it [00:39, 10.80it/s]\u001b[A\n",
      "420it [00:40, 10.73it/s]\u001b[A"
     ]
    },
    {
     "name": "stdout",
     "output_type": "stream",
     "text": [
      "[0.98937176 0.00734312 0.00168442] 0.9983992930191802\n",
      "[0.98722976 0.00913689 0.00196594] 0.998332596311253\n",
      "[0.99102782 0.00603029 0.00140687] 0.9984649767360324\n"
     ]
    },
    {
     "name": "stderr",
     "output_type": "stream",
     "text": [
      "\n",
      "422it [00:40, 10.76it/s]\u001b[A\n"
     ]
    },
    {
     "name": "stdout",
     "output_type": "stream",
     "text": [
      "[9.94602586e-01 3.85469204e-03 7.23864845e-04] 0.9991811430231498\n",
      "[9.93134565e-01 4.92466063e-03 9.20529708e-04] 0.9989797555933858\n",
      "[0.985683   0.00988362 0.00224324] 0.9978098549828202\n"
     ]
    },
    {
     "name": "stderr",
     "output_type": "stream",
     "text": [
      "424it [00:40, 10.66it/s]\u001b[A\n",
      "426it [00:40, 10.74it/s]\u001b[A"
     ]
    },
    {
     "name": "stdout",
     "output_type": "stream",
     "text": [
      "[0.9661896  0.02506144 0.00515958] 0.9964106217141667\n",
      "[0.96425043 0.02662101 0.0054661 ] 0.996337541702169\n",
      "[0.96845327 0.02274919 0.00517241] 0.9963748642000717\n"
     ]
    },
    {
     "name": "stderr",
     "output_type": "stream",
     "text": [
      "\n",
      "428it [00:40, 10.66it/s]\u001b[A\n"
     ]
    },
    {
     "name": "stdout",
     "output_type": "stream",
     "text": [
      "[0.97565247 0.01770933 0.00398755] 0.9973493571318133\n",
      "[0.97344091 0.01930204 0.00419065] 0.996933595101536\n",
      "[0.97441593 0.01731554 0.00406566] 0.9957971402386169\n"
     ]
    },
    {
     "name": "stderr",
     "output_type": "stream",
     "text": [
      "430it [00:41, 10.72it/s]\u001b[A\n",
      "432it [00:41, 10.90it/s]\u001b[A"
     ]
    },
    {
     "name": "stdout",
     "output_type": "stream",
     "text": [
      "[0.98915919 0.00774182 0.00158836] 0.9984893738113513\n",
      "[0.98871236 0.00772587 0.00174432] 0.9981825466259764\n",
      "[0.989042   0.00749999 0.00180708] 0.998349062989382\n"
     ]
    },
    {
     "name": "stderr",
     "output_type": "stream",
     "text": [
      "\n",
      "434it [00:41, 10.79it/s]\u001b[A\n",
      "436it [00:41, 10.94it/s]\u001b[A"
     ]
    },
    {
     "name": "stdout",
     "output_type": "stream",
     "text": [
      "[0.98845642 0.00800078 0.00176893] 0.9982261194961182\n",
      "[0.9918386  0.0056331  0.00126574] 0.9987374365602188\n",
      "[9.93702680e-01 4.36521177e-03 9.70603175e-04] 0.9990384950021652\n"
     ]
    },
    {
     "name": "stderr",
     "output_type": "stream",
     "text": [
      "\n",
      "438it [00:41, 10.90it/s]\u001b[A"
     ]
    },
    {
     "name": "stdout",
     "output_type": "stream",
     "text": [
      "[0.98542922 0.00970874 0.0023795 ] 0.9975174644340964\n",
      "[0.98665956 0.00943086 0.00208994] 0.9981803568795928\n",
      "[0.98690908 0.00931773 0.00199507] 0.9982218800021633\n"
     ]
    },
    {
     "name": "stderr",
     "output_type": "stream",
     "text": [
      "\n",
      "440it [00:41, 10.82it/s]\u001b[A\n"
     ]
    },
    {
     "name": "stdout",
     "output_type": "stream",
     "text": [
      "[0.97850373 0.01542541 0.00329022] 0.9972193626034471\n",
      "[0.97123392 0.02067076 0.00440054] 0.9963052228472031\n",
      "[0.98005879 0.0148569  0.0029173 ] 0.9978329875305563\n"
     ]
    },
    {
     "name": "stderr",
     "output_type": "stream",
     "text": [
      "442it [00:42, 10.89it/s]\u001b[A\n",
      "444it [00:42, 10.70it/s]\u001b[A"
     ]
    },
    {
     "name": "stdout",
     "output_type": "stream",
     "text": [
      "[0.98110446 0.01384399 0.00279686] 0.9977453132907704\n",
      "[0.9766595  0.01710356 0.00359433] 0.9973573869787385\n",
      "[0.97593507 0.01744197 0.00375003] 0.997127069315703\n"
     ]
    },
    {
     "name": "stderr",
     "output_type": "stream",
     "text": [
      "\n",
      "446it [00:42, 10.64it/s]\u001b[A\n",
      "448it [00:42, 10.82it/s]\u001b[A"
     ]
    },
    {
     "name": "stdout",
     "output_type": "stream",
     "text": [
      "[0.9793087 0.0149116 0.0032641] 0.9974843930093575\n",
      "[0.98517265 0.01042473 0.00231896] 0.997916345059618\n",
      "[0.98642006 0.00982755 0.00204216] 0.9982897671467312\n"
     ]
    },
    {
     "name": "stderr",
     "output_type": "stream",
     "text": [
      "\n",
      "450it [00:42, 10.57it/s]\u001b[A"
     ]
    },
    {
     "name": "stdout",
     "output_type": "stream",
     "text": [
      "[0.98008358 0.01383648 0.00313594] 0.9970560044418949\n",
      "[0.97454036 0.01878647 0.00393156] 0.9972583860167084\n",
      "[0.97344023 0.01913572 0.00417159] 0.996747541987749\n"
     ]
    },
    {
     "name": "stderr",
     "output_type": "stream",
     "text": [
      "\n",
      "452it [00:43, 10.58it/s]\u001b[A\n",
      "454it [00:43, 10.76it/s]\u001b[A"
     ]
    },
    {
     "name": "stdout",
     "output_type": "stream",
     "text": [
      "[0.97957894 0.01497751 0.00305878] 0.9976152258113475\n",
      "[0.98044086 0.01389298 0.00298416] 0.9973180049830097\n",
      "[0.98289136 0.01252191 0.00253136] 0.9979446330377779\n"
     ]
    },
    {
     "name": "stderr",
     "output_type": "stream",
     "text": [
      "\n",
      "456it [00:43, 10.79it/s]\u001b[A"
     ]
    },
    {
     "name": "stdout",
     "output_type": "stream",
     "text": [
      "[0.97865095 0.01542553 0.00316255] 0.997239027938628\n",
      "[0.97725099 0.01680625 0.00342925] 0.9974864862255365\n",
      "[0.97655385 0.01694295 0.0036112 ] 0.9971079977282239\n"
     ]
    },
    {
     "name": "stderr",
     "output_type": "stream",
     "text": [
      "\n",
      "458it [00:43, 10.74it/s]\u001b[A\n"
     ]
    },
    {
     "name": "stdout",
     "output_type": "stream",
     "text": [
      "[0.98024774 0.01425718 0.00306815] 0.9975730712579632\n",
      "[0.97905248 0.01508662 0.00314991] 0.9972890121726363\n",
      "[0.98150439 0.01311831 0.00287576] 0.9974984668476273\n"
     ]
    },
    {
     "name": "stderr",
     "output_type": "stream",
     "text": [
      "460it [00:43, 10.63it/s]\u001b[A\n",
      "462it [00:44, 10.55it/s]\u001b[A"
     ]
    },
    {
     "name": "stdout",
     "output_type": "stream",
     "text": [
      "[0.98307615 0.0120142  0.00252957] 0.9976199259452773\n",
      "[0.9844389  0.01096225 0.00230453] 0.997705680972255\n",
      "[0.9894822  0.00753459 0.0015584 ] 0.9985751968263876\n"
     ]
    },
    {
     "name": "stderr",
     "output_type": "stream",
     "text": [
      "\n",
      "464it [00:44, 10.71it/s]\u001b[A\n"
     ]
    },
    {
     "name": "stdout",
     "output_type": "stream",
     "text": [
      "[0.98139181 0.01279536 0.00286946] 0.9970566298468042\n",
      "[0.98610465 0.00992673 0.0020701 ] 0.9981014879834471\n",
      "[0.98801692 0.00829655 0.00182341] 0.9981368767409337\n"
     ]
    },
    {
     "name": "stderr",
     "output_type": "stream",
     "text": [
      "466it [00:44, 10.86it/s]\u001b[A\n",
      "468it [00:44, 10.88it/s]\u001b[A"
     ]
    },
    {
     "name": "stdout",
     "output_type": "stream",
     "text": [
      "[0.9925856  0.00514173 0.00114702] 0.9988743532196039\n",
      "[0.99240636 0.00537201 0.00109851] 0.9988768896584251\n",
      "[0.9902364  0.00674273 0.00146874] 0.9984478711741629\n"
     ]
    },
    {
     "name": "stderr",
     "output_type": "stream",
     "text": [
      "\n",
      "470it [00:44, 10.78it/s]\u001b[A\n"
     ]
    },
    {
     "name": "stdout",
     "output_type": "stream",
     "text": [
      "[0.98297946 0.01223525 0.00263989] 0.997854608300313\n",
      "[0.97512344 0.01819916 0.0038439 ] 0.9971664971579989\n",
      "[0.97179007 0.02051015 0.00436937] 0.9966695838059245\n"
     ]
    },
    {
     "name": "stderr",
     "output_type": "stream",
     "text": [
      "472it [00:44, 10.93it/s]\u001b[A\n",
      "474it [00:45, 10.85it/s]\u001b[A"
     ]
    },
    {
     "name": "stdout",
     "output_type": "stream",
     "text": [
      "[0.97852748 0.01548185 0.00326725] 0.9972765793467235\n",
      "[0.98310743 0.01198113 0.0026764 ] 0.9977649631140271\n",
      "[0.98272327 0.01215361 0.00266684] 0.9975437240004987\n"
     ]
    },
    {
     "name": "stderr",
     "output_type": "stream",
     "text": [
      "\n",
      "476it [00:45, 10.81it/s]\u001b[A\n",
      "478it [00:45, 10.97it/s]\u001b[A"
     ]
    },
    {
     "name": "stdout",
     "output_type": "stream",
     "text": [
      "[0.98250499 0.01210259 0.00278043] 0.9973880185506081\n",
      "[0.99193841 0.00536568 0.00130786] 0.9986119498307378\n",
      "[9.96097199e-01 2.62246954e-03 6.23815499e-04] 0.9993434842048798\n"
     ]
    },
    {
     "name": "stderr",
     "output_type": "stream",
     "text": [
      "\n",
      "480it [00:45, 10.66it/s]\u001b[A"
     ]
    },
    {
     "name": "stdout",
     "output_type": "stream",
     "text": [
      "[9.93389888e-01 4.49361025e-03 9.78564548e-04] 0.9988620629208422\n",
      "[9.93754020e-01 4.48869288e-03 9.39203826e-04] 0.9991819162696887\n",
      "[0.99231542 0.00506988 0.00116271] 0.9985480081082817\n"
     ]
    },
    {
     "name": "stderr",
     "output_type": "stream",
     "text": [
      "\n",
      "482it [00:45, 10.90it/s]\u001b[A\n"
     ]
    },
    {
     "name": "stdout",
     "output_type": "stream",
     "text": [
      "[0.99179894 0.00613842 0.00123945] 0.9991768130571075\n",
      "[0.99203248 0.00554938 0.00111807] 0.9986999408827136\n",
      "[0.99170016 0.00546468 0.00131249] 0.9984773362908603\n"
     ]
    },
    {
     "name": "stderr",
     "output_type": "stream",
     "text": [
      "484it [00:46, 10.63it/s]\u001b[A\n",
      "486it [00:46, 10.54it/s]\u001b[A"
     ]
    },
    {
     "name": "stdout",
     "output_type": "stream",
     "text": [
      "[0.99320065 0.00442467 0.00116987] 0.9987952010586042\n",
      "[9.93955921e-01 4.09477578e-03 9.86148941e-04] 0.9990368459059398\n",
      "[9.94446056e-01 3.81543785e-03 9.33372119e-04] 0.9991948658718848\n"
     ]
    },
    {
     "name": "stderr",
     "output_type": "stream",
     "text": [
      "\n",
      "488it [00:46, 10.81it/s]\u001b[A\n"
     ]
    },
    {
     "name": "stdout",
     "output_type": "stream",
     "text": [
      "[0.98683895 0.00871439 0.00222765] 0.997780992647614\n",
      "[0.98880613 0.00766062 0.00193102] 0.9983977690338398\n",
      "[0.98885165 0.00783949 0.00184077] 0.9985319073502974\n"
     ]
    },
    {
     "name": "stderr",
     "output_type": "stream",
     "text": [
      "490it [00:46, 10.66it/s]\u001b[A\n",
      "492it [00:46, 10.73it/s]\u001b[A"
     ]
    },
    {
     "name": "stdout",
     "output_type": "stream",
     "text": [
      "[0.9911042  0.00620752 0.00130371] 0.9986154320667927\n",
      "[9.94762536e-01 3.74944235e-03 7.32929221e-04] 0.9992449080118049\n",
      "[0.99000895 0.00677821 0.00159708] 0.9983842421957748\n"
     ]
    },
    {
     "name": "stderr",
     "output_type": "stream",
     "text": [
      "\n",
      "494it [00:46, 10.72it/s]\u001b[A\n"
     ]
    },
    {
     "name": "stdout",
     "output_type": "stream",
     "text": [
      "[0.99153595 0.00557778 0.00143011] 0.9985438350305607\n",
      "[0.98950993 0.00698291 0.00179194] 0.998284775811885\n",
      "[9.94180497e-01 3.90732743e-03 9.18623851e-04] 0.9990064482594507\n"
     ]
    },
    {
     "name": "stderr",
     "output_type": "stream",
     "text": [
      "496it [00:47, 10.86it/s]\u001b[A\n",
      "498it [00:47, 10.88it/s]\u001b[A"
     ]
    },
    {
     "name": "stdout",
     "output_type": "stream",
     "text": [
      "[0.9930071  0.00463452 0.001139  ] 0.9987806176735754\n",
      "[0.98979796 0.00674314 0.00174355] 0.9982846549063775\n",
      "[0.98526745 0.01033717 0.00241491] 0.9980195367621156\n"
     ]
    },
    {
     "name": "stderr",
     "output_type": "stream",
     "text": [
      "\n",
      "500it [00:47, 10.50it/s]\u001b[A\n"
     ]
    },
    {
     "name": "stdout",
     "output_type": "stream",
     "text": [
      "[0.98281183 0.01198163 0.00288981] 0.9976832746575015\n",
      "[0.98175573 0.01248251 0.00296339] 0.9972016308256371\n",
      "[0.98659941 0.00958095 0.00212813] 0.9983084819566147\n"
     ]
    },
    {
     "name": "stderr",
     "output_type": "stream",
     "text": [
      "502it [00:47, 10.46it/s]\u001b[A\n",
      "504it [00:47, 10.59it/s]\u001b[A"
     ]
    },
    {
     "name": "stdout",
     "output_type": "stream",
     "text": [
      "[0.99228591 0.00528182 0.00121569] 0.9987834252843417\n",
      "[9.94158440e-01 3.98160648e-03 9.28211219e-04] 0.9990682573165826\n",
      "[0.99126948 0.00567842 0.00145374] 0.9984016376903984\n"
     ]
    },
    {
     "name": "stderr",
     "output_type": "stream",
     "text": [
      "\n",
      "506it [00:48, 10.55it/s]\u001b[A\n",
      "508it [00:48, 10.78it/s]\u001b[A"
     ]
    },
    {
     "name": "stdout",
     "output_type": "stream",
     "text": [
      "[0.99255013 0.00496559 0.00127092] 0.9987866380616857\n",
      "[0.99086672 0.00598058 0.00164002] 0.9984873159681411\n",
      "[0.98657817 0.00929339 0.00218881] 0.9980603687360385\n"
     ]
    },
    {
     "name": "stderr",
     "output_type": "stream",
     "text": [
      "\n",
      "510it [00:48, 10.80it/s]\u001b[A"
     ]
    },
    {
     "name": "stdout",
     "output_type": "stream",
     "text": [
      "[0.98754647 0.00826079 0.00204299] 0.9978502530880173\n",
      "[0.99110799 0.00613578 0.00133575] 0.9985795181498669\n",
      "[0.99343539 0.00448383 0.00103528] 0.9989544963286906\n"
     ]
    },
    {
     "name": "stderr",
     "output_type": "stream",
     "text": [
      "\n",
      "512it [00:48, 10.71it/s]\u001b[A\n",
      "514it [00:48, 10.90it/s]\u001b[A"
     ]
    },
    {
     "name": "stdout",
     "output_type": "stream",
     "text": [
      "[0.99142836 0.0060159  0.00133981] 0.9987840768924453\n",
      "[0.97959759 0.01370907 0.00323895] 0.9965456118614265\n",
      "[0.98245604 0.01240907 0.00280343] 0.9976685356973969\n"
     ]
    },
    {
     "name": "stderr",
     "output_type": "stream",
     "text": [
      "\n",
      "516it [00:49, 10.78it/s]\u001b[A"
     ]
    },
    {
     "name": "stdout",
     "output_type": "stream",
     "text": [
      "[0.98229677 0.01259519 0.00284901] 0.9977409641664783\n",
      "[0.98044097 0.01391658 0.00314216] 0.9974997061871201\n",
      "[0.97756845 0.01625591 0.00353153] 0.9973558871210747\n"
     ]
    },
    {
     "name": "stderr",
     "output_type": "stream",
     "text": [
      "\n",
      "518it [00:49, 10.58it/s]\u001b[A\n"
     ]
    },
    {
     "name": "stdout",
     "output_type": "stream",
     "text": [
      "[0.97903167 0.01504011 0.00334293] 0.9974147120166814\n",
      "[0.99142827 0.00588828 0.00141835] 0.9987349076146542\n",
      "[0.9919621  0.00545068 0.00130057] 0.9987133551988494\n"
     ]
    },
    {
     "name": "stderr",
     "output_type": "stream",
     "text": [
      "520it [00:49, 10.76it/s]\u001b[A\n",
      "522it [00:49, 10.79it/s]\u001b[A"
     ]
    },
    {
     "name": "stdout",
     "output_type": "stream",
     "text": [
      "[0.98832171 0.00770686 0.0018983 ] 0.9979268755710381\n",
      "[0.99375192 0.00406644 0.00105333] 0.998871698890359\n",
      "[0.99414131 0.00370039 0.00104888] 0.9988905855222725\n"
     ]
    },
    {
     "name": "stderr",
     "output_type": "stream",
     "text": [
      "\n",
      "524it [00:49, 10.75it/s]\u001b[A\n"
     ]
    },
    {
     "name": "stdout",
     "output_type": "stream",
     "text": [
      "[0.99012629 0.00648273 0.00161809] 0.9982271131912579\n",
      "[0.9853538  0.01036103 0.00227773] 0.997992558960139\n",
      "[0.97854719 0.01555073 0.00348056] 0.9975784867522349\n"
     ]
    },
    {
     "name": "stderr",
     "output_type": "stream",
     "text": [
      "526it [00:49, 10.89it/s]\u001b[A\n",
      "528it [00:50, 10.79it/s]\u001b[A"
     ]
    },
    {
     "name": "stdout",
     "output_type": "stream",
     "text": [
      "[0.97258989 0.02017279 0.00437589] 0.9971385683211297\n",
      "[0.97212127 0.0203928  0.00441589] 0.9969299618788359\n",
      "[0.98620728 0.00963713 0.0021463 ] 0.9979907139706523\n"
     ]
    },
    {
     "name": "stderr",
     "output_type": "stream",
     "text": [
      "\n",
      "530it [00:50, 10.82it/s]\u001b[A\n",
      "532it [00:50, 10.96it/s]\u001b[A"
     ]
    },
    {
     "name": "stdout",
     "output_type": "stream",
     "text": [
      "[0.99305786 0.00479115 0.00103945] 0.9988884586592223\n",
      "[9.94468517e-01 3.67619392e-03 8.98465943e-04] 0.9990431771741491\n",
      "[0.99221695 0.00525339 0.00120985] 0.9986801864444715\n"
     ]
    },
    {
     "name": "stderr",
     "output_type": "stream",
     "text": [
      "\n",
      "534it [00:50, 10.66it/s]\u001b[A"
     ]
    },
    {
     "name": "stdout",
     "output_type": "stream",
     "text": [
      "[0.9861748  0.00945619 0.00205135] 0.9976823334292327\n",
      "[0.98736942 0.00907296 0.00184229] 0.9982846564811909\n",
      "[0.98800984 0.00842526 0.00191763] 0.9983527316905352\n"
     ]
    },
    {
     "name": "stderr",
     "output_type": "stream",
     "text": [
      "\n",
      "536it [00:50, 10.64it/s]\u001b[A\n"
     ]
    },
    {
     "name": "stdout",
     "output_type": "stream",
     "text": [
      "[0.987378   0.008888   0.00198981] 0.9982558151866893\n",
      "[0.98488196 0.01017667 0.00242036] 0.9974789895080686\n",
      "[0.9911932  0.00616043 0.00136542] 0.9987190515401421\n"
     ]
    },
    {
     "name": "stderr",
     "output_type": "stream",
     "text": [
      "538it [00:51, 10.71it/s]\u001b[A\n",
      "540it [00:51, 10.61it/s]\u001b[A"
     ]
    },
    {
     "name": "stdout",
     "output_type": "stream",
     "text": [
      "[0.9915228  0.00596419 0.00132911] 0.9988161075258505\n",
      "[0.98495923 0.0103447  0.00232687] 0.9976308052409428\n",
      "[0.98997855 0.0069851  0.001621  ] 0.9985846503543486\n"
     ]
    },
    {
     "name": "stderr",
     "output_type": "stream",
     "text": [
      "\n",
      "542it [00:51, 10.57it/s]\u001b[A\n"
     ]
    },
    {
     "name": "stdout",
     "output_type": "stream",
     "text": [
      "[0.98754563 0.0083649  0.00206268] 0.9979732081403762\n",
      "[0.98348479 0.01146215 0.00261062] 0.9975575640877969\n",
      "[0.98811477 0.0084569  0.00189591] 0.9984675896117122\n"
     ]
    },
    {
     "name": "stderr",
     "output_type": "stream",
     "text": [
      "544it [00:51, 10.78it/s]\u001b[A\n",
      "546it [00:51, 10.82it/s]\u001b[A"
     ]
    },
    {
     "name": "stdout",
     "output_type": "stream",
     "text": [
      "[0.98647985 0.00976383 0.00204662] 0.9982903104013953\n",
      "[0.98200825 0.01254495 0.00284781] 0.9974010152287874\n"
     ]
    },
    {
     "name": "stderr",
     "output_type": "stream",
     "text": [
      "\n",
      "548it [00:52, 10.17it/s]\u001b[A"
     ]
    },
    {
     "name": "stdout",
     "output_type": "stream",
     "text": [
      "[0.99000978 0.00708617 0.00153291] 0.9986288533783284\n",
      "[0.99175531 0.00567139 0.00131161] 0.9987383025546659\n",
      "[0.98990971 0.0066964  0.0016859 ] 0.998292009787821\n"
     ]
    },
    {
     "name": "stderr",
     "output_type": "stream",
     "text": [
      "\n",
      "550it [00:52, 10.40it/s]\u001b[A\n"
     ]
    },
    {
     "name": "stdout",
     "output_type": "stream",
     "text": [
      "[0.99161649 0.00554477 0.00139135] 0.9985525998349989\n",
      "[0.99054461 0.00655349 0.00140944] 0.9985075355610329\n",
      "[0.98921146 0.0075623  0.0016725 ] 0.9984462530456144\n"
     ]
    },
    {
     "name": "stderr",
     "output_type": "stream",
     "text": [
      "552it [00:52, 10.36it/s]\u001b[A\n",
      "554it [00:52, 10.52it/s]\u001b[A"
     ]
    },
    {
     "name": "stdout",
     "output_type": "stream",
     "text": [
      "[0.98003909 0.01419816 0.00317835] 0.9974156025050591\n",
      "[0.97858052 0.01474155 0.00341182] 0.996733887068961\n"
     ]
    },
    {
     "name": "stderr",
     "output_type": "stream",
     "text": [
      "\n",
      "556it [00:52, 10.30it/s]\u001b[A"
     ]
    },
    {
     "name": "stdout",
     "output_type": "stream",
     "text": [
      "[0.9897854  0.00716963 0.00154406] 0.9984990933262212\n",
      "[0.99223456 0.00524732 0.00124476] 0.9987266497671514\n",
      "[0.98755816 0.00837505 0.00192682] 0.9978600257672243\n"
     ]
    },
    {
     "name": "stderr",
     "output_type": "stream",
     "text": [
      "\n",
      "558it [00:53, 10.43it/s]\u001b[A\n"
     ]
    },
    {
     "name": "stdout",
     "output_type": "stream",
     "text": [
      "[0.99070802 0.00614937 0.0016196 ] 0.9984769952628878\n",
      "[0.98955252 0.0070789  0.00168049] 0.99831191410051\n",
      "[0.99348159 0.00434531 0.0010796 ] 0.9989064989568035\n"
     ]
    },
    {
     "name": "stderr",
     "output_type": "stream",
     "text": [
      "560it [00:53, 10.43it/s]\u001b[A\n",
      "562it [00:53, 10.57it/s]\u001b[A"
     ]
    },
    {
     "name": "stdout",
     "output_type": "stream",
     "text": [
      "[0.99277309 0.00508187 0.00106993] 0.9989248929617094\n",
      "[0.99089215 0.00642965 0.00133488] 0.9986566850904138\n"
     ]
    },
    {
     "name": "stderr",
     "output_type": "stream",
     "text": [
      "\n",
      "564it [00:53, 10.54it/s]\u001b[A"
     ]
    },
    {
     "name": "stdout",
     "output_type": "stream",
     "text": [
      "[0.98509264 0.01002034 0.00235948] 0.9974724581757245\n",
      "[0.9909352  0.00600998 0.00148773] 0.9984329071024644\n",
      "[0.99234966 0.00516785 0.00126858] 0.9987860950550409\n"
     ]
    },
    {
     "name": "stderr",
     "output_type": "stream",
     "text": [
      "\n",
      "566it [00:53, 10.64it/s]\u001b[A\n"
     ]
    },
    {
     "name": "stdout",
     "output_type": "stream",
     "text": [
      "[0.99192193 0.00557325 0.00124155] 0.9987367263804402\n",
      "[0.99080654 0.00615817 0.00153678] 0.998501498454149\n",
      "[0.99058932 0.0062159  0.00156703] 0.9983722514163149\n"
     ]
    },
    {
     "name": "stderr",
     "output_type": "stream",
     "text": [
      "568it [00:53, 10.85it/s]\u001b[A\n",
      "570it [00:54, 10.80it/s]\u001b[A"
     ]
    },
    {
     "name": "stdout",
     "output_type": "stream",
     "text": [
      "[9.96738584e-01 2.14203830e-03 5.85897227e-04] 0.9994665195108934\n",
      "[0.99358643 0.00436465 0.00103915] 0.9989902202649261\n",
      "[0.98817012 0.00806029 0.00187937] 0.9981097768236762\n"
     ]
    },
    {
     "name": "stderr",
     "output_type": "stream",
     "text": [
      "\n",
      "572it [00:54, 10.77it/s]\u001b[A\n"
     ]
    },
    {
     "name": "stdout",
     "output_type": "stream",
     "text": [
      "[0.98921871 0.00750547 0.00172363] 0.9984478062782635\n",
      "[0.98583338 0.00951952 0.00227276] 0.9976256653222648\n",
      "[0.98946267 0.00746389 0.00166856] 0.9985951207549681\n"
     ]
    },
    {
     "name": "stderr",
     "output_type": "stream",
     "text": [
      "574it [00:54, 10.67it/s]\u001b[A\n",
      "576it [00:54, 10.72it/s]\u001b[A"
     ]
    },
    {
     "name": "stdout",
     "output_type": "stream",
     "text": [
      "[0.98147885 0.01258063 0.00292081] 0.9969802866565637\n",
      "[0.98955419 0.00757943 0.00149106] 0.9986246814870994\n",
      "[9.94853274e-01 3.59897756e-03 7.83465150e-04] 0.9992357170288139\n"
     ]
    },
    {
     "name": "stderr",
     "output_type": "stream",
     "text": [
      "\n",
      "578it [00:54, 10.94it/s]\u001b[A\n",
      "580it [00:55, 10.94it/s]\u001b[A"
     ]
    },
    {
     "name": "stdout",
     "output_type": "stream",
     "text": [
      "[9.95109019e-01 3.20998251e-03 8.26842234e-04] 0.9991458437383938\n",
      "[0.98959864 0.00699134 0.00166265] 0.9982526314464899\n",
      "[0.97732924 0.01642504 0.0034902 ] 0.9972444812961432\n"
     ]
    },
    {
     "name": "stderr",
     "output_type": "stream",
     "text": [
      "\n",
      "582it [00:55, 10.48it/s]\u001b[A"
     ]
    },
    {
     "name": "stdout",
     "output_type": "stream",
     "text": [
      "[0.97688927 0.0156589  0.00366722] 0.996215386789095\n",
      "[0.99228225 0.00523545 0.00123767] 0.9987553637121075\n",
      "[0.9921177  0.00540933 0.00122944] 0.9987564665528337\n"
     ]
    },
    {
     "name": "stderr",
     "output_type": "stream",
     "text": [
      "\n",
      "584it [00:55, 10.78it/s]\u001b[A\n"
     ]
    },
    {
     "name": "stdout",
     "output_type": "stream",
     "text": [
      "[9.94447514e-01 3.73906935e-03 8.87462432e-04] 0.9990740459183011\n",
      "[0.99343362 0.00438746 0.00112491] 0.9989459941462492\n",
      "[0.99281605 0.00480996 0.00113239] 0.9987583970299883\n"
     ]
    },
    {
     "name": "stderr",
     "output_type": "stream",
     "text": [
      "586it [00:55, 10.63it/s]\u001b[A\n",
      "588it [00:55, 10.72it/s]\u001b[A"
     ]
    },
    {
     "name": "stdout",
     "output_type": "stream",
     "text": [
      "[0.99214854 0.00569913 0.00119083] 0.9990385100534686\n",
      "[0.98839123 0.00790422 0.00185575] 0.9981511931499035\n",
      "[0.98354708 0.01144404 0.0026956 ] 0.9976867240512088\n"
     ]
    },
    {
     "name": "stderr",
     "output_type": "stream",
     "text": [
      "\n",
      "590it [00:55, 10.68it/s]\u001b[A\n"
     ]
    },
    {
     "name": "stdout",
     "output_type": "stream",
     "text": [
      "[0.9780406  0.01604198 0.00344443] 0.9975270082345632\n",
      "[0.97215684 0.02026798 0.00445439] 0.9968792113317412\n",
      "[0.97465853 0.01843348 0.00400803] 0.9971000375110375\n"
     ]
    },
    {
     "name": "stderr",
     "output_type": "stream",
     "text": [
      "592it [00:56, 10.71it/s]\u001b[A\n",
      "594it [00:56, 10.92it/s]\u001b[A"
     ]
    },
    {
     "name": "stdout",
     "output_type": "stream",
     "text": [
      "[0.9751831  0.01790912 0.00391997] 0.9970121919147518\n",
      "[0.97451368 0.01868814 0.00402849] 0.9972303086819416\n",
      "[0.97391818 0.01884917 0.00430237] 0.9970697289238976\n"
     ]
    },
    {
     "name": "stderr",
     "output_type": "stream",
     "text": [
      "\n",
      "596it [00:56, 10.81it/s]\u001b[A\n"
     ]
    },
    {
     "name": "stdout",
     "output_type": "stream",
     "text": [
      "[0.97043709 0.02158572 0.00483211] 0.9968549110959611\n",
      "[0.97425336 0.0191568  0.00405482] 0.9974649779058717\n",
      "[0.98203445 0.01320688 0.00272365] 0.9979649809292341\n"
     ]
    },
    {
     "name": "stderr",
     "output_type": "stream",
     "text": [
      "598it [00:56, 10.67it/s]\u001b[A\n",
      "600it [00:56, 10.73it/s]\u001b[A"
     ]
    },
    {
     "name": "stdout",
     "output_type": "stream",
     "text": [
      "[0.98193737 0.013148   0.00277333] 0.9978586975061486\n",
      "[0.97759547 0.01509112 0.00351813] 0.9962047245853882\n",
      "[0.99123368 0.00591428 0.00133219] 0.9984801441488309\n"
     ]
    },
    {
     "name": "stderr",
     "output_type": "stream",
     "text": [
      "\n",
      "602it [00:57, 10.68it/s]\u001b[A\n",
      "604it [00:57, 10.85it/s]\u001b[A"
     ]
    },
    {
     "name": "stdout",
     "output_type": "stream",
     "text": [
      "[9.94243053e-01 3.99322377e-03 8.20897438e-04] 0.9990571742179288\n",
      "[0.97835361 0.01411651 0.00338994] 0.9958600608767811\n",
      "[0.97962003 0.01368843 0.00302788] 0.9963363356024241\n"
     ]
    },
    {
     "name": "stderr",
     "output_type": "stream",
     "text": [
      "\n",
      "606it [00:57, 10.84it/s]\u001b[A"
     ]
    },
    {
     "name": "stdout",
     "output_type": "stream",
     "text": [
      "[0.99056488 0.0067036  0.001268  ] 0.9985364848443735\n",
      "[0.98845373 0.00797122 0.00161373] 0.998038674754002\n",
      "[0.99287054 0.00489609 0.00110414] 0.9988707643625787\n"
     ]
    },
    {
     "name": "stderr",
     "output_type": "stream",
     "text": [
      "\n",
      "608it [00:57, 10.78it/s]\u001b[A\n"
     ]
    },
    {
     "name": "stdout",
     "output_type": "stream",
     "text": [
      "[0.99204512 0.00533488 0.00133471] 0.9987147029828389\n",
      "[0.99135266 0.00568371 0.00140399] 0.998440364787879\n",
      "[0.9929799  0.0047275  0.00102117] 0.9987285709159401\n"
     ]
    },
    {
     "name": "stderr",
     "output_type": "stream",
     "text": [
      "610it [00:57, 10.66it/s]\u001b[A\n",
      "612it [00:58, 10.63it/s]\u001b[A"
     ]
    },
    {
     "name": "stdout",
     "output_type": "stream",
     "text": [
      "[0.98628738 0.0096914  0.00187433] 0.9978531181159868\n",
      "[0.98764701 0.00928286 0.00149836] 0.9984282353723514\n",
      "[0.98971697 0.00732581 0.00140058] 0.9984433531143951\n"
     ]
    },
    {
     "name": "stderr",
     "output_type": "stream",
     "text": [
      "\n",
      "614it [00:58, 10.67it/s]\u001b[A\n",
      "616it [00:58, 10.85it/s]\u001b[A"
     ]
    },
    {
     "name": "stdout",
     "output_type": "stream",
     "text": [
      "[0.98922845 0.00754412 0.00147158] 0.9982441497575187\n",
      "[0.98613448 0.009281   0.00207343] 0.9974889141178207\n",
      "[0.98964588 0.00684701 0.00161695] 0.9981098417333021\n"
     ]
    },
    {
     "name": "stderr",
     "output_type": "stream",
     "text": [
      "\n",
      "618it [00:58, 10.87it/s]\u001b[A"
     ]
    },
    {
     "name": "stdout",
     "output_type": "stream",
     "text": [
      "[0.98953601 0.00699943 0.00160323] 0.9981386761444241\n",
      "[0.986918   0.00876479 0.00198179] 0.997664580418345\n",
      "[9.93342866e-01 4.88135043e-03 8.89770262e-04] 0.9991139862477707\n"
     ]
    },
    {
     "name": "stderr",
     "output_type": "stream",
     "text": [
      "\n",
      "620it [00:58, 10.77it/s]\u001b[A\n"
     ]
    },
    {
     "name": "stdout",
     "output_type": "stream",
     "text": [
      "[0.98320867 0.01124408 0.00244073] 0.9968934829512647\n",
      "[0.99187257 0.00494121 0.00154341] 0.9983571883615637\n",
      "[0.98885197 0.00749242 0.0017239 ] 0.9980682921679606\n"
     ]
    },
    {
     "name": "stderr",
     "output_type": "stream",
     "text": [
      "622it [00:58, 10.94it/s]\u001b[A\n",
      "624it [00:59, 10.89it/s]\u001b[A"
     ]
    },
    {
     "name": "stdout",
     "output_type": "stream",
     "text": [
      "[0.98936426 0.00726329 0.00161998] 0.9982475326786723\n",
      "[0.98229085 0.01187126 0.00273561] 0.996897711221937\n",
      "[0.98768508 0.00803474 0.00196166] 0.9976814840416406\n"
     ]
    },
    {
     "name": "stderr",
     "output_type": "stream",
     "text": [
      "\n",
      "626it [00:59, 10.83it/s]\u001b[A\n"
     ]
    },
    {
     "name": "stdout",
     "output_type": "stream",
     "text": [
      "[9.95030581e-01 3.36100280e-03 7.47450747e-04] 0.9991390343774997\n",
      "[0.99263919 0.00488025 0.00120354] 0.9987229755934331\n",
      "[0.99255828 0.00507297 0.00111238] 0.9987436302997749\n"
     ]
    },
    {
     "name": "stderr",
     "output_type": "stream",
     "text": [
      "628it [00:59, 10.96it/s]\u001b[A\n",
      "630it [00:59, 10.95it/s]\u001b[A"
     ]
    },
    {
     "name": "stdout",
     "output_type": "stream",
     "text": [
      "[9.93951526e-01 4.23438220e-03 8.54142162e-04] 0.9990400503755631\n",
      "[0.99164772 0.00560028 0.0012517 ] 0.9984996922405935\n",
      "[0.99106861 0.00616553 0.00127304] 0.9985071786143457\n"
     ]
    },
    {
     "name": "stderr",
     "output_type": "stream",
     "text": [
      "\n",
      "632it [00:59, 11.11it/s]\u001b[A\n"
     ]
    },
    {
     "name": "stdout",
     "output_type": "stream",
     "text": [
      "[0.98963816 0.00732495 0.00146965] 0.9984327647171367\n",
      "[0.98947932 0.00730593 0.00165498] 0.9984402378667966\n",
      "[0.98669971 0.009372   0.00190721] 0.9979789163449843\n"
     ]
    },
    {
     "name": "stderr",
     "output_type": "stream",
     "text": [
      "634it [01:00, 10.75it/s]\u001b[A\n",
      "636it [01:00, 10.55it/s]\u001b[A"
     ]
    },
    {
     "name": "stdout",
     "output_type": "stream",
     "text": [
      "[0.98892822 0.00775346 0.00158302] 0.9982647100523524\n",
      "[9.92463292e-01 5.50950592e-03 9.80258246e-04] 0.9989530558435366\n",
      "[0.991085   0.00646576 0.00122802] 0.9987787720450195\n"
     ]
    },
    {
     "name": "stderr",
     "output_type": "stream",
     "text": [
      "\n",
      "638it [01:00, 10.64it/s]\u001b[A\n",
      "640it [01:00, 10.83it/s]\u001b[A"
     ]
    },
    {
     "name": "stdout",
     "output_type": "stream",
     "text": [
      "[0.98870814 0.00782999 0.00160015] 0.998138283432962\n",
      "[0.98657779 0.00993342 0.00174457] 0.9982557761660584\n",
      "[0.98682838 0.00947725 0.00176686] 0.9980724841289657\n"
     ]
    },
    {
     "name": "stderr",
     "output_type": "stream",
     "text": [
      "\n",
      "642it [01:00, 10.57it/s]\u001b[A"
     ]
    },
    {
     "name": "stdout",
     "output_type": "stream",
     "text": [
      "[0.98781668 0.00860509 0.00161643] 0.9980381945025039\n",
      "[0.9872034  0.00901176 0.00185341] 0.9980685670749985\n",
      "[0.98582149 0.01031266 0.00197737] 0.998111517446333\n"
     ]
    },
    {
     "name": "stderr",
     "output_type": "stream",
     "text": [
      "\n",
      "644it [01:01, 10.53it/s]\u001b[A\n"
     ]
    },
    {
     "name": "stdout",
     "output_type": "stream",
     "text": [
      "[0.98258324 0.01274216 0.00236916] 0.9976945688965344\n",
      "[0.98701814 0.00928177 0.00182759] 0.9981274971303241\n",
      "[0.98950679 0.00749738 0.0014442 ] 0.9984483756722864\n"
     ]
    },
    {
     "name": "stderr",
     "output_type": "stream",
     "text": [
      "646it [01:01, 10.52it/s]\u001b[A\n",
      "648it [01:01, 10.63it/s]\u001b[A"
     ]
    },
    {
     "name": "stdout",
     "output_type": "stream",
     "text": [
      "[0.98829495 0.00806628 0.00176193] 0.9981231485389013\n",
      "[0.98519349 0.01050424 0.0020574 ] 0.9977551190005858\n",
      "[0.98360715 0.01180196 0.00224705] 0.9976561579805795\n"
     ]
    },
    {
     "name": "stderr",
     "output_type": "stream",
     "text": [
      "\n",
      "650it [01:01, 10.59it/s]\u001b[A\n"
     ]
    },
    {
     "name": "stdout",
     "output_type": "stream",
     "text": [
      "[0.98286555 0.01241349 0.00230368] 0.9975827218639548\n",
      "[0.98991999 0.00699029 0.00136162] 0.9982718967798013\n",
      "[9.91611187e-01 6.29955572e-03 8.35535323e-04] 0.9987462781622918\n"
     ]
    },
    {
     "name": "stderr",
     "output_type": "stream",
     "text": [
      "652it [01:01, 10.79it/s]\u001b[A\n",
      "654it [01:01, 10.56it/s]\u001b[A"
     ]
    },
    {
     "name": "stdout",
     "output_type": "stream",
     "text": [
      "[0.9913124  0.00581516 0.00146176] 0.9985893159068576\n",
      "[0.98765551 0.00903944 0.00138307] 0.9980780235245653\n",
      "[0.98927188 0.00779194 0.00127699] 0.9983408030257162\n"
     ]
    },
    {
     "name": "stderr",
     "output_type": "stream",
     "text": [
      "\n",
      "656it [01:02, 10.55it/s]\u001b[A\n",
      "658it [01:02, 10.70it/s]\u001b[A"
     ]
    },
    {
     "name": "stdout",
     "output_type": "stream",
     "text": [
      "[0.9882271  0.0086039  0.00147601] 0.9983070031781519\n",
      "[0.98417908 0.01138602 0.00204022] 0.9976053224370878\n",
      "[0.98551226 0.01043586 0.00196652] 0.997914634829106\n"
     ]
    },
    {
     "name": "stderr",
     "output_type": "stream",
     "text": [
      "\n",
      "660it [01:02, 10.79it/s]\u001b[A"
     ]
    },
    {
     "name": "stdout",
     "output_type": "stream",
     "text": [
      "[0.98814884 0.00858177 0.00161311] 0.9983437081081671\n",
      "[0.98517463 0.01085085 0.00191901] 0.9979444965677268\n",
      "[0.98680666 0.00973652 0.00164671] 0.9981898856910598\n"
     ]
    },
    {
     "name": "stderr",
     "output_type": "stream",
     "text": [
      "\n",
      "662it [01:02, 10.48it/s]\u001b[A\n"
     ]
    },
    {
     "name": "stdout",
     "output_type": "stream",
     "text": [
      "[0.98276443 0.01278503 0.00219924] 0.9977486866235308\n",
      "[0.97459704 0.0180746  0.00352334] 0.9961949830657093\n",
      "[0.98098598 0.01418742 0.00238399] 0.9975573893725138\n"
     ]
    },
    {
     "name": "stderr",
     "output_type": "stream",
     "text": [
      "664it [01:02, 10.43it/s]\u001b[A\n",
      "666it [01:03, 10.47it/s]\u001b[A"
     ]
    },
    {
     "name": "stdout",
     "output_type": "stream",
     "text": [
      "[0.98356286 0.01249528 0.00194702] 0.9980051599293742\n",
      "[0.98228223 0.01312981 0.0022819 ] 0.9976939341739794\n",
      "[0.98170471 0.01376128 0.00221325] 0.9976792428907811\n"
     ]
    },
    {
     "name": "stderr",
     "output_type": "stream",
     "text": [
      "\n",
      "668it [01:03, 10.58it/s]\u001b[A\n",
      "670it [01:03, 10.79it/s]\u001b[A"
     ]
    },
    {
     "name": "stdout",
     "output_type": "stream",
     "text": [
      "[0.98225928 0.0131729  0.00229562] 0.99772780096194\n",
      "[0.97815341 0.01568925 0.0029538 ] 0.9967964652400123\n",
      "[0.98085205 0.01405666 0.00251914] 0.9974278513103072\n"
     ]
    },
    {
     "name": "stderr",
     "output_type": "stream",
     "text": [
      "\n",
      "672it [01:03, 10.54it/s]\u001b[A"
     ]
    },
    {
     "name": "stdout",
     "output_type": "stream",
     "text": [
      "[0.98229488 0.01292269 0.00234861] 0.9975661829290126\n",
      "[0.97959666 0.01434383 0.00286433] 0.9968048159216399\n",
      "[0.98848915 0.00828885 0.00151139] 0.9982893872747178\n"
     ]
    },
    {
     "name": "stderr",
     "output_type": "stream",
     "text": [
      "\n",
      "674it [01:03, 10.52it/s]\u001b[A\n"
     ]
    },
    {
     "name": "stdout",
     "output_type": "stream",
     "text": [
      "[0.99025999 0.00702455 0.00130404] 0.9985885837212897\n",
      "[0.98729912 0.00899108 0.00176305] 0.9980532447075916\n",
      "[0.98337169 0.01200956 0.00227495] 0.9976562009212467\n"
     ]
    },
    {
     "name": "stderr",
     "output_type": "stream",
     "text": [
      "676it [01:04, 10.42it/s]\u001b[A\n",
      "678it [01:04, 10.52it/s]\u001b[A"
     ]
    },
    {
     "name": "stdout",
     "output_type": "stream",
     "text": [
      "[0.98617388 0.00998788 0.00193587] 0.9980976376555557\n",
      "[0.98723187 0.00916564 0.00179434] 0.9981918551713286\n",
      "[0.98596968 0.01021038 0.00189841] 0.9980784605865826\n"
     ]
    },
    {
     "name": "stderr",
     "output_type": "stream",
     "text": [
      "\n",
      "680it [01:04, 10.62it/s]\u001b[A\n",
      "682it [01:04, 10.83it/s]\u001b[A"
     ]
    },
    {
     "name": "stdout",
     "output_type": "stream",
     "text": [
      "[0.98715199 0.00949973 0.00163193] 0.998283643771132\n",
      "[0.98695299 0.0091253  0.00185804] 0.9979363245816968\n",
      "[0.99038078 0.00686034 0.00131984] 0.9985609535624329\n"
     ]
    },
    {
     "name": "stderr",
     "output_type": "stream",
     "text": [
      "\n",
      "684it [01:04, 10.84it/s]\u001b[A"
     ]
    },
    {
     "name": "stdout",
     "output_type": "stream",
     "text": [
      "[0.98234059 0.0120625  0.00257466] 0.9969777520346541\n",
      "[0.98998654 0.00713283 0.00138791] 0.9985072867373833\n",
      "[0.99040055 0.00635766 0.00149867] 0.9982568853001746\n"
     ]
    },
    {
     "name": "stderr",
     "output_type": "stream",
     "text": [
      "\n",
      "686it [01:04, 10.75it/s]\u001b[A\n",
      "688it [01:05, 10.91it/s]\u001b[A"
     ]
    },
    {
     "name": "stdout",
     "output_type": "stream",
     "text": [
      "[0.99041753 0.00618444 0.001735  ] 0.998336970235175\n",
      "[0.99114639 0.00621865 0.00119302] 0.9985580602808363\n",
      "[0.98839728 0.00753398 0.00206561] 0.9979968735600996\n"
     ]
    },
    {
     "name": "stderr",
     "output_type": "stream",
     "text": [
      "\n",
      "690it [01:05, 10.63it/s]\u001b[A"
     ]
    },
    {
     "name": "stdout",
     "output_type": "stream",
     "text": [
      "[0.99028509 0.00637522 0.00158346] 0.9982437651814736\n",
      "[0.99034342 0.00679247 0.00130671] 0.9984425987202682\n",
      "[0.98511082 0.01042879 0.00205807] 0.9975976772353773\n"
     ]
    },
    {
     "name": "stderr",
     "output_type": "stream",
     "text": [
      "\n",
      "692it [01:05, 10.62it/s]\u001b[A\n"
     ]
    },
    {
     "name": "stdout",
     "output_type": "stream",
     "text": [
      "[0.98427587 0.01147986 0.00210345] 0.9978591673274265\n",
      "[0.98329283 0.01235698 0.00209013] 0.9977399317495814\n",
      "[0.98569076 0.01058137 0.00180216] 0.9980742865266669\n"
     ]
    },
    {
     "name": "stderr",
     "output_type": "stream",
     "text": [
      "694it [01:05, 10.54it/s]\u001b[A\n",
      "696it [01:05, 10.62it/s]\u001b[A"
     ]
    },
    {
     "name": "stdout",
     "output_type": "stream",
     "text": [
      "[0.98266026 0.01226283 0.00241727] 0.9973403591831949\n",
      "[0.98033895 0.01435745 0.00271164] 0.9974080365917573\n",
      "[0.98196833 0.01329412 0.00235852] 0.9976209689992253\n"
     ]
    },
    {
     "name": "stderr",
     "output_type": "stream",
     "text": [
      "\n",
      "698it [01:06, 10.61it/s]\u001b[A\n"
     ]
    },
    {
     "name": "stdout",
     "output_type": "stream",
     "text": [
      "[0.98662693 0.01001217 0.00170755] 0.998346654662394\n",
      "[0.98290052 0.01192323 0.00244077] 0.9972645237942913\n",
      "[0.98903046 0.0081271  0.00138807] 0.9985456345205326\n"
     ]
    },
    {
     "name": "stderr",
     "output_type": "stream",
     "text": [
      "700it [01:06, 10.42it/s]\u001b[A\n",
      "702it [01:06, 10.67it/s]\u001b[A"
     ]
    },
    {
     "name": "stdout",
     "output_type": "stream",
     "text": [
      "[0.98713368 0.00950116 0.00161085] 0.9982456856033142\n",
      "[0.98441856 0.01136106 0.00204114] 0.9978207658849593\n"
     ]
    },
    {
     "name": "stderr",
     "output_type": "stream",
     "text": [
      "\n",
      "704it [01:06, 10.38it/s]\u001b[A"
     ]
    },
    {
     "name": "stdout",
     "output_type": "stream",
     "text": [
      "[0.98983843 0.00721139 0.00139489] 0.9984447067369489\n",
      "[0.98942751 0.00747616 0.00148348] 0.9983871484568835\n",
      "[0.98411204 0.01119645 0.00223528] 0.9975437725308169\n"
     ]
    },
    {
     "name": "stderr",
     "output_type": "stream",
     "text": [
      "\n",
      "706it [01:06, 10.25it/s]\u001b[A\n",
      "708it [01:07, 10.40it/s]\u001b[A"
     ]
    },
    {
     "name": "stdout",
     "output_type": "stream",
     "text": [
      "[0.98163865 0.01352536 0.00241395] 0.9975779566182965\n",
      "[0.98602317 0.00969824 0.0020431 ] 0.997764502782883\n",
      "[0.99008312 0.00708776 0.00149175] 0.9986626288134475\n"
     ]
    },
    {
     "name": "stderr",
     "output_type": "stream",
     "text": [
      "\n",
      "710it [01:07, 10.41it/s]\u001b[A"
     ]
    },
    {
     "name": "stdout",
     "output_type": "stream",
     "text": [
      "[0.98853975 0.00785454 0.00173011] 0.9981244043515254\n",
      "[0.98711593 0.00930514 0.00185942] 0.9982804926536427\n",
      "[0.9856314  0.01036466 0.00196689] 0.9979629463167683\n"
     ]
    },
    {
     "name": "stderr",
     "output_type": "stream",
     "text": [
      "\n",
      "712it [01:07, 10.44it/s]\u001b[A\n"
     ]
    },
    {
     "name": "stdout",
     "output_type": "stream",
     "text": [
      "[0.98536647 0.01076631 0.00190586] 0.9980386350224218\n",
      "[0.98117261 0.0135768  0.00251341] 0.9972628226420068\n",
      "[0.98005785 0.01463071 0.00260129] 0.9972898517429719\n"
     ]
    },
    {
     "name": "stderr",
     "output_type": "stream",
     "text": [
      "714it [01:07, 10.44it/s]\u001b[A\n",
      "716it [01:07, 10.56it/s]\u001b[A"
     ]
    },
    {
     "name": "stdout",
     "output_type": "stream",
     "text": [
      "[0.97895615 0.01511076 0.00286988] 0.9969367846870909\n",
      "[0.9831593  0.01263021 0.00206373] 0.9978532421319841\n",
      "[0.98462585 0.01168114 0.00183661] 0.9981435961460843\n"
     ]
    },
    {
     "name": "stderr",
     "output_type": "stream",
     "text": [
      "\n",
      "718it [01:08, 10.43it/s]\u001b[A\n",
      "720it [01:08, 10.53it/s]\u001b[A"
     ]
    },
    {
     "name": "stdout",
     "output_type": "stream",
     "text": [
      "[0.97932292 0.01562975 0.00250334] 0.9974560023560988\n",
      "[0.98403558 0.01191068 0.00197033] 0.9979165962484282\n",
      "[0.98690593 0.00959009 0.00163513] 0.9981311447407687\n"
     ]
    },
    {
     "name": "stderr",
     "output_type": "stream",
     "text": [
      "\n",
      "722it [01:08, 10.60it/s]\u001b[A"
     ]
    },
    {
     "name": "stdout",
     "output_type": "stream",
     "text": [
      "[0.98625777 0.01009727 0.00178244] 0.9981374737091939\n",
      "[0.9830101  0.01264221 0.00209989] 0.9977522008691566\n",
      "[0.98457094 0.01161354 0.00191446] 0.9980989403200579\n"
     ]
    },
    {
     "name": "stderr",
     "output_type": "stream",
     "text": [
      "\n",
      "724it [01:08, 10.61it/s]\u001b[A\n"
     ]
    },
    {
     "name": "stdout",
     "output_type": "stream",
     "text": [
      "[0.98367925 0.01194286 0.00215491] 0.9977770161072893\n",
      "[0.98435282 0.01160812 0.00203553] 0.9979964792997503\n",
      "[0.98481615 0.01130198 0.00194627] 0.9980643902496822\n"
     ]
    },
    {
     "name": "stderr",
     "output_type": "stream",
     "text": [
      "726it [01:08, 10.82it/s]\u001b[A\n",
      "728it [01:08, 10.85it/s]\u001b[A"
     ]
    },
    {
     "name": "stdout",
     "output_type": "stream",
     "text": [
      "[0.98543168 0.01066254 0.00194125] 0.9980354654375556\n",
      "[0.98703149 0.00948919 0.00163215] 0.9981528285780061\n",
      "[0.98534366 0.01058532 0.00195978] 0.9978887521169665\n"
     ]
    },
    {
     "name": "stderr",
     "output_type": "stream",
     "text": [
      "\n",
      "730it [01:09, 10.73it/s]\u001b[A\n"
     ]
    },
    {
     "name": "stdout",
     "output_type": "stream",
     "text": [
      "[0.98203685 0.01317031 0.00235768] 0.9975648402606008\n",
      "[0.98367741 0.0122541  0.00210247] 0.9980339783450406\n",
      "[0.98245352 0.01308013 0.00231244] 0.9978460786470856\n"
     ]
    },
    {
     "name": "stderr",
     "output_type": "stream",
     "text": [
      "732it [01:09, 10.62it/s]\u001b[A\n",
      "734it [01:09, 10.70it/s]\u001b[A"
     ]
    },
    {
     "name": "stdout",
     "output_type": "stream",
     "text": [
      "[0.98337775 0.01236435 0.00211496] 0.9978570530512986\n",
      "[0.98163301 0.01341928 0.00249755] 0.9975498409708733\n",
      "[0.98473426 0.01128579 0.00196417] 0.9979842205365085\n"
     ]
    },
    {
     "name": "stderr",
     "output_type": "stream",
     "text": [
      "\n",
      "736it [01:09, 10.39it/s]\u001b[A\n",
      "738it [01:09, 10.65it/s]\u001b[A"
     ]
    },
    {
     "name": "stdout",
     "output_type": "stream",
     "text": [
      "[0.98133497 0.01345753 0.0024859 ] 0.9972783938616998\n",
      "[0.9849315  0.01112774 0.00194913] 0.9980083720347991\n",
      "[0.98462088 0.01131135 0.00198324] 0.9979154653219962\n"
     ]
    },
    {
     "name": "stderr",
     "output_type": "stream",
     "text": [
      "\n",
      "740it [01:10, 10.62it/s]\u001b[A"
     ]
    },
    {
     "name": "stdout",
     "output_type": "stream",
     "text": [
      "[0.98193496 0.01310732 0.00243452] 0.9974768030682496\n",
      "[0.98212595 0.01348728 0.002144  ] 0.9977572264019166\n",
      "[0.98341857 0.01265516 0.00195734] 0.9980310667619666\n"
     ]
    },
    {
     "name": "stderr",
     "output_type": "stream",
     "text": [
      "\n",
      "742it [01:10, 10.69it/s]\u001b[A\n"
     ]
    },
    {
     "name": "stdout",
     "output_type": "stream",
     "text": [
      "[0.98385178 0.01187524 0.00203716] 0.9977641836784836\n",
      "[0.98546293 0.01064809 0.00189964] 0.99801066754945\n",
      "[0.97934405 0.01513606 0.00268339] 0.9971634934833585\n"
     ]
    },
    {
     "name": "stderr",
     "output_type": "stream",
     "text": [
      "744it [01:10, 10.60it/s]\u001b[A\n",
      "746it [01:10, 10.69it/s]\u001b[A"
     ]
    },
    {
     "name": "stdout",
     "output_type": "stream",
     "text": [
      "[0.98255404 0.01289314 0.00225416] 0.9977013415357057\n",
      "[0.98161142 0.01351717 0.00241426] 0.9975428458152283\n",
      "[0.98006098 0.01468957 0.00252342] 0.9972739716266708\n"
     ]
    },
    {
     "name": "stderr",
     "output_type": "stream",
     "text": [
      "\n",
      "748it [01:10, 10.37it/s]\u001b[A\n"
     ]
    },
    {
     "name": "stdout",
     "output_type": "stream",
     "text": [
      "[0.98293045 0.01269054 0.00218031] 0.9978012999555365\n",
      "[0.98252994 0.01282016 0.0022867 ] 0.9976367980877373\n",
      "[0.98074609 0.01446723 0.00236343] 0.9975767489436462\n"
     ]
    },
    {
     "name": "stderr",
     "output_type": "stream",
     "text": [
      "750it [01:11, 10.46it/s]\u001b[A\n",
      "752it [01:11, 10.77it/s]\u001b[A"
     ]
    },
    {
     "name": "stdout",
     "output_type": "stream",
     "text": [
      "[0.98366197 0.01213961 0.00205223] 0.9978538008511091\n",
      "[0.98224842 0.01338977 0.00217267] 0.9978108559289247\n",
      "[0.98185424 0.01346443 0.0023    ] 0.9976186756006565\n"
     ]
    },
    {
     "name": "stderr",
     "output_type": "stream",
     "text": [
      "\n",
      "754it [01:11, 10.42it/s]\u001b[A\n",
      "756it [01:11, 10.67it/s]\u001b[A"
     ]
    },
    {
     "name": "stdout",
     "output_type": "stream",
     "text": [
      "[0.98231821 0.01367998 0.00207472] 0.9980729107901494\n",
      "[0.97721883 0.01671119 0.00299426] 0.9969242788524498\n",
      "[0.97997523 0.01495996 0.00249424] 0.9974294316369084\n"
     ]
    },
    {
     "name": "stderr",
     "output_type": "stream",
     "text": [
      "\n",
      "758it [01:11, 10.46it/s]\u001b[A"
     ]
    },
    {
     "name": "stdout",
     "output_type": "stream",
     "text": [
      "[0.9839222  0.01212662 0.00200108] 0.9980499086544744\n",
      "[0.98510185 0.0107325  0.00201055] 0.9978448975096457\n",
      "[0.98844161 0.00851068 0.00147122] 0.9984235060759082\n"
     ]
    },
    {
     "name": "stderr",
     "output_type": "stream",
     "text": [
      "\n",
      "760it [01:11, 10.49it/s]\u001b[A\n"
     ]
    },
    {
     "name": "stdout",
     "output_type": "stream",
     "text": [
      "[0.97990506 0.01451932 0.00270278] 0.997127162856529\n",
      "[0.98233171 0.01356972 0.00205668] 0.9979581073165636\n",
      "[0.97956808 0.01538971 0.00253098] 0.9974887735723758\n"
     ]
    },
    {
     "name": "stderr",
     "output_type": "stream",
     "text": [
      "762it [01:12, 10.44it/s]\u001b[A\n",
      "764it [01:12, 10.75it/s]\u001b[A"
     ]
    },
    {
     "name": "stdout",
     "output_type": "stream",
     "text": [
      "[0.9807163  0.0149035  0.00219299] 0.9978127905444802\n",
      "[0.97874675 0.01607555 0.00258557] 0.997407866739869\n",
      "[0.97528011 0.01800033 0.00325982] 0.9965402634070716\n"
     ]
    },
    {
     "name": "stderr",
     "output_type": "stream",
     "text": [
      "\n",
      "766it [01:12, 10.53it/s]\u001b[A\n",
      "768it [01:12, 10.73it/s]\u001b[A"
     ]
    },
    {
     "name": "stdout",
     "output_type": "stream",
     "text": [
      "[0.98034926 0.01515558 0.00229136] 0.9977962059377451\n",
      "[0.98187605 0.01368959 0.00222549] 0.9977911350599775\n",
      "[0.9827529  0.01314184 0.00211344] 0.9980081790667665\n"
     ]
    },
    {
     "name": "stderr",
     "output_type": "stream",
     "text": [
      "\n",
      "770it [01:12, 10.50it/s]\u001b[A"
     ]
    },
    {
     "name": "stdout",
     "output_type": "stream",
     "text": [
      "[0.98185244 0.01353262 0.00226208] 0.9976471486889836\n",
      "[0.98470053 0.01158704 0.00187468] 0.9981622409421658\n",
      "[0.98104911 0.01366936 0.00253508] 0.9972535575575567\n"
     ]
    },
    {
     "name": "stderr",
     "output_type": "stream",
     "text": [
      "\n",
      "772it [01:13, 10.49it/s]\u001b[A\n"
     ]
    },
    {
     "name": "stdout",
     "output_type": "stream",
     "text": [
      "[0.9842214  0.01170327 0.00198243] 0.9979070972131416\n",
      "[0.9835529  0.01164884 0.00225774] 0.9974594825394091\n",
      "[0.98475473 0.01112225 0.00202878] 0.997905758903358\n"
     ]
    },
    {
     "name": "stderr",
     "output_type": "stream",
     "text": [
      "774it [01:13, 10.47it/s]\u001b[A\n",
      "776it [01:13, 10.58it/s]\u001b[A"
     ]
    },
    {
     "name": "stdout",
     "output_type": "stream",
     "text": [
      "[0.98498205 0.01116385 0.00189164] 0.9980375437034603\n",
      "[0.98271741 0.01291381 0.00213711] 0.9977683294619472\n",
      "[0.97897357 0.01576466 0.00265383] 0.997392054950783\n"
     ]
    },
    {
     "name": "stderr",
     "output_type": "stream",
     "text": [
      "\n",
      "778it [01:13, 10.59it/s]\u001b[A\n",
      "780it [01:13, 10.79it/s]\u001b[A"
     ]
    },
    {
     "name": "stdout",
     "output_type": "stream",
     "text": [
      "[0.98306901 0.01203217 0.00229791] 0.9973990899060576\n",
      "[0.98721467 0.00934226 0.00161077] 0.9981676981680244\n",
      "[0.9855649  0.01033377 0.00190616] 0.997804830442321\n"
     ]
    },
    {
     "name": "stderr",
     "output_type": "stream",
     "text": [
      "\n",
      "782it [01:14, 10.68it/s]\u001b[A"
     ]
    },
    {
     "name": "stdout",
     "output_type": "stream",
     "text": [
      "[0.97705087 0.01597254 0.0032779 ] 0.9963013071294379\n",
      "[0.99170586 0.00589533 0.0011329 ] 0.9987340825335475\n",
      "[9.94287707e-01 3.88408044e-03 8.33646259e-04] 0.9990054340182073\n"
     ]
    },
    {
     "name": "stderr",
     "output_type": "stream",
     "text": [
      "\n",
      "784it [01:14, 10.50it/s]\u001b[A\n",
      "786it [01:14, 10.68it/s]\u001b[A"
     ]
    },
    {
     "name": "stdout",
     "output_type": "stream",
     "text": [
      "[0.99377632 0.00411116 0.00109984] 0.9989873250157325\n",
      "[0.99131041 0.00563875 0.00167182] 0.998620976445819\n",
      "[0.99029603 0.00637092 0.00167476] 0.9983417103895703\n"
     ]
    },
    {
     "name": "stderr",
     "output_type": "stream",
     "text": [
      "\n",
      "788it [01:14, 10.52it/s]\u001b[A"
     ]
    },
    {
     "name": "stdout",
     "output_type": "stream",
     "text": [
      "[0.97896134 0.01525494 0.0033913 ] 0.997607581517059\n",
      "[0.97787416 0.01607644 0.00332799] 0.9972785888352083\n",
      "[0.97652603 0.01657253 0.0035848 ] 0.9966833629579941\n"
     ]
    },
    {
     "name": "stderr",
     "output_type": "stream",
     "text": [
      "\n",
      "790it [01:14, 10.51it/s]\u001b[A\n",
      "792it [01:14, 10.75it/s]\u001b[A"
     ]
    },
    {
     "name": "stdout",
     "output_type": "stream",
     "text": [
      "[0.97785391 0.01596007 0.00331736] 0.9971313460895069\n",
      "[0.97568179 0.01758913 0.0035786 ] 0.9968495233857317\n",
      "[0.98214569 0.01293213 0.00255101] 0.9976288332180806\n"
     ]
    },
    {
     "name": "stderr",
     "output_type": "stream",
     "text": [
      "\n",
      "794it [01:15, 10.76it/s]\u001b[A"
     ]
    },
    {
     "name": "stdout",
     "output_type": "stream",
     "text": [
      "[0.98650225 0.00970005 0.0020188 ] 0.998221095994411\n",
      "[0.98549222 0.01025043 0.00218268] 0.9979253281655943\n",
      "[0.98284184 0.012391   0.00246964] 0.9977024847823518\n"
     ]
    },
    {
     "name": "stderr",
     "output_type": "stream",
     "text": [
      "\n",
      "796it [01:15, 10.72it/s]\u001b[A\n"
     ]
    },
    {
     "name": "stdout",
     "output_type": "stream",
     "text": [
      "[0.97401229 0.01925937 0.00345531] 0.9967269627846771\n",
      "[0.98076791 0.01474327 0.00236022] 0.9978714029102091\n",
      "[0.98354979 0.01207919 0.00219782] 0.9978268022301224\n"
     ]
    },
    {
     "name": "stderr",
     "output_type": "stream",
     "text": [
      "798it [01:15, 10.60it/s]\u001b[A\n",
      "800it [01:15, 10.71it/s]\u001b[A"
     ]
    },
    {
     "name": "stdout",
     "output_type": "stream",
     "text": [
      "[0.98523479 0.01029207 0.00218   ] 0.9977068632979913\n",
      "[0.98948976 0.00759997 0.00149636] 0.9985860900343597\n"
     ]
    },
    {
     "name": "stderr",
     "output_type": "stream",
     "text": [
      "\n",
      "802it [01:15, 10.17it/s]\u001b[A"
     ]
    },
    {
     "name": "stdout",
     "output_type": "stream",
     "text": [
      "[0.98510235 0.01055296 0.00216471] 0.9978200163892537\n",
      "[0.98056021 0.01383652 0.00275772] 0.9971544521402766\n",
      "[0.98362316 0.01225361 0.00224124] 0.998118017307618\n"
     ]
    },
    {
     "name": "stderr",
     "output_type": "stream",
     "text": [
      "\n",
      "804it [01:16, 10.31it/s]\u001b[A\n"
     ]
    },
    {
     "name": "stdout",
     "output_type": "stream",
     "text": [
      "[0.97221513 0.01927381 0.00418948] 0.9956784208164241\n",
      "[0.97329724 0.01974025 0.00392769] 0.9969651884492903\n",
      "[0.97318045 0.02036465 0.00360712] 0.9971522313795468\n"
     ]
    },
    {
     "name": "stderr",
     "output_type": "stream",
     "text": [
      "806it [01:16, 10.28it/s]\u001b[A\n",
      "808it [01:16, 10.52it/s]\u001b[A"
     ]
    },
    {
     "name": "stdout",
     "output_type": "stream",
     "text": [
      "[0.97824716 0.01604771 0.00305342] 0.9973482829732674\n",
      "[0.97926722 0.01524428 0.00291742] 0.9974289200750465\n",
      "[0.97420991 0.01940348 0.00349374] 0.9971071282604947\n"
     ]
    },
    {
     "name": "stderr",
     "output_type": "stream",
     "text": [
      "\n",
      "810it [01:16, 10.51it/s]\u001b[A\n",
      "812it [01:16, 10.75it/s]\u001b[A"
     ]
    },
    {
     "name": "stdout",
     "output_type": "stream",
     "text": [
      "[0.9767085  0.01815564 0.00289308] 0.9977572195672562\n",
      "[0.97648992 0.01794805 0.00305034] 0.997488300719785\n",
      "[0.98086643 0.0148141  0.00230218] 0.9979827076328899\n"
     ]
    },
    {
     "name": "stderr",
     "output_type": "stream",
     "text": [
      "\n",
      "814it [01:17, 10.69it/s]\u001b[A"
     ]
    },
    {
     "name": "stdout",
     "output_type": "stream",
     "text": [
      "[0.97924363 0.01566947 0.00272124] 0.9976343322963744\n",
      "[0.97721367 0.01723599 0.00293634] 0.9973859870871575\n",
      "[0.97475178 0.01884152 0.00336196] 0.9969552629310071\n"
     ]
    },
    {
     "name": "stderr",
     "output_type": "stream",
     "text": [
      "\n",
      "816it [01:17, 10.74it/s]\u001b[A\n"
     ]
    },
    {
     "name": "stdout",
     "output_type": "stream",
     "text": [
      "[0.97944246 0.01514382 0.00274511] 0.9973313888021198\n",
      "[0.97857864 0.01558529 0.00289993] 0.997063866522835\n",
      "[0.98280833 0.01287204 0.00222855] 0.9979089198754532\n"
     ]
    },
    {
     "name": "stderr",
     "output_type": "stream",
     "text": [
      "818it [01:17, 10.63it/s]\u001b[A\n",
      "820it [01:17, 10.20it/s]\u001b[A"
     ]
    },
    {
     "name": "stdout",
     "output_type": "stream",
     "text": [
      "[0.97973044 0.01447231 0.00287846] 0.99708121053977\n",
      "[0.98586496 0.01027416 0.00206231] 0.998201429996655\n",
      "[0.98224917 0.01264434 0.00263123] 0.9975247453851936\n"
     ]
    },
    {
     "name": "stderr",
     "output_type": "stream",
     "text": [
      "\n",
      "822it [01:17, 10.29it/s]\u001b[A\n"
     ]
    },
    {
     "name": "stdout",
     "output_type": "stream",
     "text": [
      "[0.9770739  0.01710709 0.00316701] 0.9973479951927394\n",
      "[0.97610881 0.01765606 0.00324324] 0.9970081151457563\n",
      "[0.97930042 0.01574454 0.00267671] 0.9977216800724098\n"
     ]
    },
    {
     "name": "stderr",
     "output_type": "stream",
     "text": [
      "824it [01:18, 10.42it/s]\u001b[A\n",
      "826it [01:18, 10.70it/s]\u001b[A"
     ]
    },
    {
     "name": "stdout",
     "output_type": "stream",
     "text": [
      "[0.97230545 0.02041913 0.00370884] 0.9964334141579421\n",
      "[0.9823389  0.01295636 0.00243989] 0.9977351490277417\n",
      "[0.98066331 0.01351273 0.00282221] 0.9969982444423378\n"
     ]
    },
    {
     "name": "stderr",
     "output_type": "stream",
     "text": [
      "\n",
      "828it [01:18, 10.65it/s]\u001b[A"
     ]
    },
    {
     "name": "stdout",
     "output_type": "stream",
     "text": [
      "[0.9861967  0.01023965 0.00177911] 0.9982154584441023\n",
      "[0.9800704  0.01439461 0.00274957] 0.9972145805033249\n"
     ]
    },
    {
     "name": "stderr",
     "output_type": "stream",
     "text": [
      "\n",
      "830it [01:18, 10.44it/s]\u001b[A\n"
     ]
    },
    {
     "name": "stdout",
     "output_type": "stream",
     "text": [
      "[0.98317604 0.01240611 0.00225547] 0.9978376183827518\n",
      "[0.98430864 0.01171867 0.00205361] 0.9980809251466923\n",
      "[0.9841135  0.01203875 0.00201909] 0.9981713313492104\n"
     ]
    },
    {
     "name": "stderr",
     "output_type": "stream",
     "text": [
      "832it [01:18, 10.69it/s]\u001b[A\n",
      "834it [01:18, 10.76it/s]\u001b[A"
     ]
    },
    {
     "name": "stdout",
     "output_type": "stream",
     "text": [
      "[0.9761825  0.0175983  0.00319278] 0.9969735734420996\n",
      "[0.97378971 0.01981075 0.00343883] 0.9970392879721115\n"
     ]
    },
    {
     "name": "stderr",
     "output_type": "stream",
     "text": [
      "\n",
      "836it [01:19, 10.45it/s]\u001b[A"
     ]
    },
    {
     "name": "stdout",
     "output_type": "stream",
     "text": [
      "[0.97946832 0.01547944 0.00264798] 0.9975957441322931\n",
      "[0.97763892 0.01668938 0.00289504] 0.9972233514921995\n",
      "[0.97872719 0.01584608 0.00271587] 0.9972891361534809\n"
     ]
    },
    {
     "name": "stderr",
     "output_type": "stream",
     "text": [
      "\n",
      "838it [01:19, 10.53it/s]\u001b[A"
     ]
    },
    {
     "name": "stdout",
     "output_type": "stream",
     "text": [
      "[0.97867029 0.01636566 0.00255195] 0.9975879082702191\n",
      "[0.98773865 0.00867659 0.00171165] 0.9981268843432141\n"
     ]
    },
    {
     "name": "stderr",
     "output_type": "stream",
     "text": [
      "\n",
      "840it [01:19, 10.49it/s]\u001b[A\n",
      "842it [01:19, 10.61it/s]\u001b[A"
     ]
    },
    {
     "name": "stdout",
     "output_type": "stream",
     "text": [
      "[0.99113701 0.00618466 0.00124763] 0.9985693048259208\n",
      "[0.99105478 0.00626115 0.00125571] 0.9985716447404234\n",
      "[9.93291397e-01 4.73833765e-03 9.46012016e-04] 0.998975747003267\n"
     ]
    },
    {
     "name": "stderr",
     "output_type": "stream",
     "text": [
      "\n",
      "844it [01:19, 10.66it/s]\u001b[A"
     ]
    },
    {
     "name": "stdout",
     "output_type": "stream",
     "text": [
      "[0.9892258  0.00753632 0.00152118] 0.9982832947874821\n",
      "[0.99305026 0.00477383 0.00110264] 0.9989267344688151\n",
      "[0.99162516 0.0057736  0.00124204] 0.9986407991694984\n"
     ]
    },
    {
     "name": "stderr",
     "output_type": "stream",
     "text": [
      "\n",
      "846it [01:20, 10.68it/s]\u001b[A"
     ]
    },
    {
     "name": "stdout",
     "output_type": "stream",
     "text": [
      "[0.98267684 0.01196618 0.00256975] 0.997212768085565\n",
      "[0.97337034 0.02001559 0.00364027] 0.9970262008758743\n"
     ]
    },
    {
     "name": "stderr",
     "output_type": "stream",
     "text": [
      "\n",
      "848it [01:20, 10.32it/s]\u001b[A\n",
      "850it [01:20, 10.45it/s]\u001b[A"
     ]
    },
    {
     "name": "stdout",
     "output_type": "stream",
     "text": [
      "[0.97228338 0.02053932 0.00386349] 0.9966861908496342\n",
      "[0.97414642 0.01963424 0.00342979] 0.997210454312109\n",
      "[0.97626312 0.01780134 0.00314736] 0.9972118217595076\n"
     ]
    },
    {
     "name": "stderr",
     "output_type": "stream",
     "text": [
      "\n",
      "852it [01:20, 10.35it/s]\u001b[A"
     ]
    },
    {
     "name": "stdout",
     "output_type": "stream",
     "text": [
      "[0.98181238 0.01365281 0.0023867 ] 0.9978518982815535\n",
      "[0.9838677  0.01220499 0.00203762] 0.9981103067588775\n",
      "[0.97755345 0.01623692 0.00308008] 0.9968704495605717\n"
     ]
    },
    {
     "name": "stderr",
     "output_type": "stream",
     "text": [
      "\n",
      "854it [01:20, 10.37it/s]\u001b[A\n"
     ]
    },
    {
     "name": "stdout",
     "output_type": "stream",
     "text": [
      "[0.97796088 0.01628223 0.00289405] 0.9971371675911723\n",
      "[0.97981471 0.01506114 0.00258988] 0.9974657312307889\n",
      "[0.98097153 0.01449713 0.00234692] 0.9978155863905332\n"
     ]
    },
    {
     "name": "stderr",
     "output_type": "stream",
     "text": [
      "856it [01:21, 10.53it/s]\u001b[A\n",
      "858it [01:21, 10.75it/s]\u001b[A"
     ]
    },
    {
     "name": "stdout",
     "output_type": "stream",
     "text": [
      "[0.97819159 0.01636577 0.00274195] 0.9972993148314473\n",
      "[0.97978478 0.01560079 0.00239762] 0.9977831934459669\n",
      "[0.97759055 0.01681671 0.00282739] 0.9972346546046085\n"
     ]
    },
    {
     "name": "stderr",
     "output_type": "stream",
     "text": [
      "\n",
      "860it [01:21, 10.69it/s]\u001b[A\n"
     ]
    },
    {
     "name": "stdout",
     "output_type": "stream",
     "text": [
      "[0.97872741 0.01608778 0.00261903] 0.9974342080277747\n",
      "[0.9829256  0.012211   0.00235232] 0.9974889227608539\n",
      "[0.98731007 0.00919512 0.00172185] 0.998227041720001\n"
     ]
    },
    {
     "name": "stderr",
     "output_type": "stream",
     "text": [
      "862it [01:21, 10.60it/s]\u001b[A\n",
      "864it [01:21, 10.69it/s]\u001b[A"
     ]
    },
    {
     "name": "stdout",
     "output_type": "stream",
     "text": [
      "[0.9848538  0.01096038 0.00210973] 0.9979239110328914\n",
      "[0.97329455 0.01922724 0.00374733] 0.9962691204750758\n",
      "[0.97936622 0.0149268  0.0028488 ] 0.9971418176083905\n"
     ]
    },
    {
     "name": "stderr",
     "output_type": "stream",
     "text": [
      "\n",
      "866it [01:22, 10.65it/s]\u001b[A\n"
     ]
    },
    {
     "name": "stdout",
     "output_type": "stream",
     "text": [
      "[0.98146119 0.01285519 0.0027131 ] 0.9970294777944169\n",
      "[0.98585415 0.01009    0.00200553] 0.9979496798307682\n",
      "[0.98738324 0.00895684 0.00174758] 0.9980876575806655\n"
     ]
    },
    {
     "name": "stderr",
     "output_type": "stream",
     "text": [
      "868it [01:22, 10.54it/s]\u001b[A\n",
      "870it [01:22, 10.52it/s]\u001b[A"
     ]
    },
    {
     "name": "stdout",
     "output_type": "stream",
     "text": [
      "[0.98702197 0.0091982  0.00186104] 0.998081203294596\n",
      "[0.98710231 0.00922985 0.00180183] 0.9981339864629892\n",
      "[0.9816955  0.01330253 0.00238476] 0.9973827946065875\n"
     ]
    },
    {
     "name": "stderr",
     "output_type": "stream",
     "text": [
      "\n",
      "872it [01:22, 10.65it/s]\u001b[A\n"
     ]
    },
    {
     "name": "stdout",
     "output_type": "stream",
     "text": [
      "[0.97670266 0.01726524 0.00296057] 0.9969284606079228\n",
      "[0.97713979 0.01727291 0.00281011] 0.9972228166722978\n",
      "[0.97983129 0.0153845  0.00256022] 0.9977760040065767\n"
     ]
    },
    {
     "name": "stderr",
     "output_type": "stream",
     "text": [
      "874it [01:22, 10.55it/s]\u001b[A\n",
      "876it [01:22, 10.39it/s]\u001b[A"
     ]
    },
    {
     "name": "stdout",
     "output_type": "stream",
     "text": [
      "[0.97941899 0.01531077 0.00266306] 0.9973928230762884\n",
      "[0.9807664  0.01457111 0.00245321] 0.9977907166999944\n",
      "[0.97566042 0.01785147 0.0032663 ] 0.9967781904742797\n"
     ]
    },
    {
     "name": "stderr",
     "output_type": "stream",
     "text": [
      "\n",
      "878it [01:23, 10.44it/s]\u001b[A\n"
     ]
    },
    {
     "name": "stdout",
     "output_type": "stream",
     "text": [
      "[0.98025526 0.01447561 0.00265746] 0.99738833667626\n",
      "[0.97904132 0.01546695 0.00280571] 0.9973139875828394\n",
      "[0.9778271  0.01656972 0.00291023] 0.9973070450398633\n"
     ]
    },
    {
     "name": "stderr",
     "output_type": "stream",
     "text": [
      "880it [01:23, 10.67it/s]\u001b[A\n",
      "882it [01:23, 10.74it/s]\u001b[A"
     ]
    },
    {
     "name": "stdout",
     "output_type": "stream",
     "text": [
      "[0.98002942 0.01531574 0.00247007] 0.9978152328275044\n",
      "[0.97227637 0.0203613  0.00369332] 0.9963309851865474\n",
      "[0.97649447 0.01736892 0.00321979] 0.9970831777031639\n"
     ]
    },
    {
     "name": "stderr",
     "output_type": "stream",
     "text": [
      "\n",
      "884it [01:23, 10.67it/s]\u001b[A\n"
     ]
    },
    {
     "name": "stdout",
     "output_type": "stream",
     "text": [
      "[0.97166886 0.02056911 0.00396629] 0.9962042595474513\n",
      "[0.9792353  0.01556401 0.00270747] 0.9975067800536501\n",
      "[0.98301018 0.0126577  0.00221355] 0.9978814356769956\n"
     ]
    },
    {
     "name": "stderr",
     "output_type": "stream",
     "text": [
      "886it [01:23, 10.58it/s]\u001b[A\n",
      "888it [01:24, 10.59it/s]\u001b[A"
     ]
    },
    {
     "name": "stdout",
     "output_type": "stream",
     "text": [
      "[0.98492496 0.01127444 0.00193995] 0.9981393440131721\n",
      "[0.98015675 0.01418503 0.0028834 ] 0.9972251817820516\n",
      "[0.97502725 0.01824386 0.00347986] 0.9967509689621095\n"
     ]
    },
    {
     "name": "stderr",
     "output_type": "stream",
     "text": [
      "\n",
      "890it [01:24, 10.67it/s]\u001b[A\n",
      "892it [01:24, 10.77it/s]\u001b[A"
     ]
    },
    {
     "name": "stdout",
     "output_type": "stream",
     "text": [
      "[0.98005255 0.01524489 0.00259084] 0.9978882835815578\n",
      "[0.98249851 0.01294031 0.00236601] 0.9978048274405222\n",
      "[0.98293404 0.01234525 0.00234924] 0.9976285272791056\n"
     ]
    },
    {
     "name": "stderr",
     "output_type": "stream",
     "text": [
      "\n",
      "894it [01:24, 10.87it/s]\u001b[A"
     ]
    },
    {
     "name": "stdout",
     "output_type": "stream",
     "text": [
      "[0.984062   0.01158408 0.0021298 ] 0.9977758786178983\n",
      "[0.98116459 0.01413826 0.00236231] 0.9976651620598256\n",
      "[0.98148669 0.01386676 0.00235488] 0.9977083427428615\n"
     ]
    },
    {
     "name": "stderr",
     "output_type": "stream",
     "text": [
      "\n",
      "896it [01:24, 10.78it/s]\u001b[A\n"
     ]
    },
    {
     "name": "stdout",
     "output_type": "stream",
     "text": [
      "[0.98296971 0.01244483 0.00225932] 0.9976738621774841\n",
      "[0.98278345 0.01232095 0.00247292] 0.9975773243908875\n",
      "[0.98156228 0.01377967 0.00247845] 0.9978204132261366\n"
     ]
    },
    {
     "name": "stderr",
     "output_type": "stream",
     "text": [
      "898it [01:25, 10.62it/s]\u001b[A\n",
      "900it [01:25, 10.46it/s]\u001b[A"
     ]
    },
    {
     "name": "stdout",
     "output_type": "stream",
     "text": [
      "[0.97599373 0.01791954 0.00326301] 0.9971762728627558\n",
      "[0.98185231 0.01308074 0.00254413] 0.9974771796753366\n",
      "[0.98739708 0.00900949 0.00176476] 0.9981713237640104\n"
     ]
    },
    {
     "name": "stderr",
     "output_type": "stream",
     "text": [
      "\n",
      "902it [01:25, 10.49it/s]\u001b[A\n"
     ]
    },
    {
     "name": "stdout",
     "output_type": "stream",
     "text": [
      "[0.98623266 0.00961124 0.00204264] 0.9978865344822174\n",
      "[0.98998068 0.00704537 0.00149449] 0.9985205440232542\n",
      "[0.98586182 0.00948978 0.00223803] 0.9975896243905426\n"
     ]
    },
    {
     "name": "stderr",
     "output_type": "stream",
     "text": [
      "904it [01:25, 10.71it/s]\u001b[A\n",
      "906it [01:25, 10.49it/s]\u001b[A"
     ]
    },
    {
     "name": "stdout",
     "output_type": "stream",
     "text": [
      "[0.9815038  0.01220758 0.00290205] 0.9966134302080104\n",
      "[9.93988107e-01 4.19051930e-03 8.71733814e-04] 0.9990503599295096\n",
      "[9.93739263e-01 4.27810560e-03 9.37824539e-04] 0.9989551928650117\n"
     ]
    },
    {
     "name": "stderr",
     "output_type": "stream",
     "text": [
      "\n",
      "908it [01:25, 10.53it/s]\u001b[A\n",
      "910it [01:26, 10.71it/s]\u001b[A"
     ]
    },
    {
     "name": "stdout",
     "output_type": "stream",
     "text": [
      "[0.98968892 0.00707755 0.00156558] 0.9983320400323358\n",
      "[9.94301634e-01 3.89166862e-03 8.68863330e-04] 0.9990621661754364\n",
      "[0.99330354 0.00451637 0.00106669] 0.9988865986689692\n"
     ]
    },
    {
     "name": "stderr",
     "output_type": "stream",
     "text": [
      "\n",
      "912it [01:26, 10.51it/s]\u001b[A"
     ]
    },
    {
     "name": "stdout",
     "output_type": "stream",
     "text": [
      "[0.98927421 0.00728238 0.00161885] 0.9981754399281297\n",
      "[0.98980133 0.00703349 0.00161068] 0.9984454968550271\n",
      "[0.98831584 0.00833403 0.00169331] 0.9983431784165873\n"
     ]
    },
    {
     "name": "stderr",
     "output_type": "stream",
     "text": [
      "\n",
      "914it [01:26, 10.23it/s]\u001b[A\n"
     ]
    },
    {
     "name": "stdout",
     "output_type": "stream",
     "text": [
      "[0.98278036 0.01184042 0.00265019] 0.9972709720584999\n",
      "[0.98368139 0.01136251 0.00257418] 0.9976180724126087\n",
      "[0.98339318 0.01173215 0.00256694] 0.9976922780558457\n"
     ]
    },
    {
     "name": "stderr",
     "output_type": "stream",
     "text": [
      "916it [01:26, 10.30it/s]\u001b[A\n",
      "918it [01:26, 10.47it/s]\u001b[A"
     ]
    },
    {
     "name": "stdout",
     "output_type": "stream",
     "text": [
      "[0.98669809 0.00903234 0.00205713] 0.9977875524768393\n",
      "[0.99216881 0.0054771  0.00118235] 0.9988282567619079\n",
      "[0.98698557 0.00883155 0.00200498] 0.9978220951483201\n"
     ]
    },
    {
     "name": "stderr",
     "output_type": "stream",
     "text": [
      "\n",
      "920it [01:27, 10.74it/s]\u001b[A\n"
     ]
    },
    {
     "name": "stdout",
     "output_type": "stream",
     "text": [
      "[0.98427068 0.01137665 0.00242281] 0.9980701346002524\n",
      "[0.98584433 0.01015925 0.00223747] 0.9982410513082692\n",
      "[0.9863399  0.00974978 0.00212031] 0.9982099911550127\n"
     ]
    },
    {
     "name": "stderr",
     "output_type": "stream",
     "text": [
      "922it [01:27, 10.61it/s]\u001b[A\n",
      "924it [01:27, 10.72it/s]\u001b[A"
     ]
    },
    {
     "name": "stdout",
     "output_type": "stream",
     "text": [
      "[0.98543074 0.01024025 0.00220648] 0.9978774667863382\n",
      "[0.98463604 0.01076334 0.00234628] 0.9977456656174024\n",
      "[0.98778686 0.00853576 0.00190304] 0.9982256588213698\n"
     ]
    },
    {
     "name": "stderr",
     "output_type": "stream",
     "text": [
      "\n",
      "926it [01:27, 10.67it/s]\u001b[A\n"
     ]
    },
    {
     "name": "stdout",
     "output_type": "stream",
     "text": [
      "[0.98768135 0.00869306 0.00181241] 0.9981868188580219\n",
      "[0.98725713 0.00884259 0.0019432 ] 0.998042911425735\n",
      "[0.98321524 0.01164884 0.00258576] 0.9974498366018244\n"
     ]
    },
    {
     "name": "stderr",
     "output_type": "stream",
     "text": [
      "928it [01:27, 10.58it/s]\u001b[A\n",
      "930it [01:28, 10.81it/s]\u001b[A"
     ]
    },
    {
     "name": "stdout",
     "output_type": "stream",
     "text": [
      "[0.98457986 0.01120744 0.00228361] 0.9980709115233869\n",
      "[0.9804995  0.01373519 0.0030512 ] 0.9972858839117955\n",
      "[0.98371703 0.01188596 0.0023651 ] 0.9979680889534587\n"
     ]
    },
    {
     "name": "stderr",
     "output_type": "stream",
     "text": [
      "\n",
      "932it [01:28, 10.86it/s]\u001b[A"
     ]
    },
    {
     "name": "stdout",
     "output_type": "stream",
     "text": [
      "[0.9854375  0.01055236 0.00215823] 0.9981480863259254\n",
      "[0.98783537 0.00850002 0.00190378] 0.9982391692111611\n"
     ]
    },
    {
     "name": "stderr",
     "output_type": "stream",
     "text": [
      "\n",
      "934it [01:28, 10.58it/s]\u001b[A\n"
     ]
    },
    {
     "name": "stdout",
     "output_type": "stream",
     "text": [
      "[0.98798605 0.00829146 0.00196624] 0.9982437449985965\n",
      "[0.98975826 0.00711999 0.0014969 ] 0.9983751538998533\n",
      "[0.98961605 0.00734792 0.00165402] 0.9986179902438056\n"
     ]
    },
    {
     "name": "stderr",
     "output_type": "stream",
     "text": [
      "936it [01:28, 10.81it/s]\u001b[A\n",
      "938it [01:28, 10.31it/s]\u001b[A"
     ]
    },
    {
     "name": "stdout",
     "output_type": "stream",
     "text": [
      "[0.98747471 0.0088676  0.00196881] 0.9983111226666104\n",
      "[0.98907778 0.00788676 0.00160897] 0.9985735133970781\n",
      "[0.9857129  0.0102635  0.00200083] 0.9979772300586986\n"
     ]
    },
    {
     "name": "stderr",
     "output_type": "stream",
     "text": [
      "\n",
      "940it [01:28, 10.61it/s]\u001b[A\n"
     ]
    },
    {
     "name": "stdout",
     "output_type": "stream",
     "text": [
      "[0.98482815 0.011048   0.00221051] 0.9980866635796408\n",
      "[0.97848175 0.01607362 0.00294012] 0.9974954815066349\n",
      "[0.98315515 0.01186113 0.00253149] 0.9975477628743022\n"
     ]
    },
    {
     "name": "stderr",
     "output_type": "stream",
     "text": [
      "942it [01:29, 10.54it/s]\u001b[A\n",
      "944it [01:29, 10.64it/s]\u001b[A"
     ]
    },
    {
     "name": "stdout",
     "output_type": "stream",
     "text": [
      "[0.98991702 0.00711168 0.00151421] 0.9985429083479632\n",
      "[0.99066843 0.00681567 0.00132201] 0.998806108621855\n",
      "[0.98424816 0.0111817  0.00235308] 0.9977829427538215\n"
     ]
    },
    {
     "name": "stderr",
     "output_type": "stream",
     "text": [
      "\n",
      "946it [01:29, 10.62it/s]\u001b[A\n",
      "948it [01:29, 10.82it/s]\u001b[A"
     ]
    },
    {
     "name": "stdout",
     "output_type": "stream",
     "text": [
      "[0.98253681 0.012417   0.00258918] 0.9975429906333749\n",
      "[0.98560001 0.01070351 0.00195862] 0.9982621418302443\n",
      "[0.98571793 0.01014232 0.0020444 ] 0.9979046485089895\n"
     ]
    },
    {
     "name": "stderr",
     "output_type": "stream",
     "text": [
      "\n",
      "950it [01:29, 10.58it/s]\u001b[A"
     ]
    },
    {
     "name": "stdout",
     "output_type": "stream",
     "text": [
      "[0.98451657 0.01099819 0.00222134] 0.9977361096784583\n",
      "[0.98559159 0.01066039 0.00198968] 0.9982416558146203\n",
      "[0.98544838 0.01023862 0.00220523] 0.9978922345857558\n"
     ]
    },
    {
     "name": "stderr",
     "output_type": "stream",
     "text": [
      "\n",
      "952it [01:30, 10.82it/s]\u001b[A\n"
     ]
    },
    {
     "name": "stdout",
     "output_type": "stream",
     "text": [
      "[0.98902381 0.0079464  0.00148968] 0.9984598829701442\n",
      "[0.98825311 0.00835449 0.00166282] 0.9982704212451871\n",
      "[0.97970734 0.01447487 0.00283124] 0.9970134483935571\n"
     ]
    },
    {
     "name": "stderr",
     "output_type": "stream",
     "text": [
      "954it [01:30, 10.68it/s]\u001b[A\n",
      "956it [01:30, 10.68it/s]\u001b[A"
     ]
    },
    {
     "name": "stdout",
     "output_type": "stream",
     "text": [
      "[0.98065255 0.0146406  0.00262725] 0.9979203988551331\n",
      "[0.9821462  0.01359016 0.00234269] 0.9980790441652672\n",
      "[0.97682428 0.01695217 0.00333515] 0.9971115990337429\n"
     ]
    },
    {
     "name": "stderr",
     "output_type": "stream",
     "text": [
      "\n",
      "958it [01:30, 10.69it/s]\u001b[A\n"
     ]
    },
    {
     "name": "stdout",
     "output_type": "stream",
     "text": [
      "[0.97994531 0.01485195 0.00286799] 0.9976652477335846\n",
      "[0.97996728 0.01481089 0.00286772] 0.9976458955637111\n",
      "[0.97945382 0.0146646  0.00309984] 0.9972182533202958\n"
     ]
    },
    {
     "name": "stderr",
     "output_type": "stream",
     "text": [
      "960it [01:30, 10.62it/s]\u001b[A\n",
      "962it [01:31, 10.56it/s]\u001b[A"
     ]
    },
    {
     "name": "stdout",
     "output_type": "stream",
     "text": [
      "[0.98227414 0.01292276 0.00259728] 0.9977941764770025\n",
      "[0.97839246 0.01592273 0.00307828] 0.9973934647932404\n",
      "[0.97776179 0.0160854  0.00333391] 0.9971810970353919\n"
     ]
    },
    {
     "name": "stderr",
     "output_type": "stream",
     "text": [
      "\n",
      "964it [01:31, 10.70it/s]\u001b[A\n"
     ]
    },
    {
     "name": "stdout",
     "output_type": "stream",
     "text": [
      "[0.97857556 0.01565742 0.00315317] 0.9973861525979798\n",
      "[0.98736198 0.00917981 0.00182787] 0.9983696529492277\n",
      "[0.98719946 0.00912493 0.00185989] 0.9981842835870359\n"
     ]
    },
    {
     "name": "stderr",
     "output_type": "stream",
     "text": [
      "966it [01:31, 10.57it/s]\u001b[A\n",
      "968it [01:31, 10.41it/s]\u001b[A"
     ]
    },
    {
     "name": "stdout",
     "output_type": "stream",
     "text": [
      "[0.97924674 0.01435275 0.00322189] 0.9968213824997942\n",
      "[0.9859167  0.01031772 0.00196789] 0.9982023085456795\n",
      "[0.98608244 0.0100662  0.00200731] 0.9981559465587468\n"
     ]
    },
    {
     "name": "stderr",
     "output_type": "stream",
     "text": [
      "\n",
      "970it [01:31, 10.68it/s]\u001b[A\n"
     ]
    },
    {
     "name": "stdout",
     "output_type": "stream",
     "text": [
      "[0.9845209  0.0111587  0.00228618] 0.9979657825301702\n",
      "[0.98381726 0.01149607 0.0025094 ] 0.9978227330032948\n",
      "[0.98521379 0.01052148 0.00223777] 0.9979730389046684\n"
     ]
    },
    {
     "name": "stderr",
     "output_type": "stream",
     "text": [
      "972it [01:31, 10.60it/s]\u001b[A\n",
      "974it [01:32, 10.69it/s]\u001b[A"
     ]
    },
    {
     "name": "stdout",
     "output_type": "stream",
     "text": [
      "[0.98310723 0.01213784 0.00245939] 0.9977044541614989\n",
      "[0.98873754 0.00800894 0.00159175] 0.998338226767887\n",
      "[0.98698341 0.00886362 0.00212152] 0.9979685529561493\n"
     ]
    },
    {
     "name": "stderr",
     "output_type": "stream",
     "text": [
      "\n",
      "976it [01:32, 10.63it/s]\u001b[A\n"
     ]
    },
    {
     "name": "stdout",
     "output_type": "stream",
     "text": [
      "[0.98623823 0.00969656 0.00198226] 0.9979170547434132\n",
      "[0.98219314 0.01294138 0.0025817 ] 0.9977162214263867\n",
      "[0.98172058 0.01387064 0.00242889] 0.9980201222292979\n"
     ]
    },
    {
     "name": "stderr",
     "output_type": "stream",
     "text": [
      "978it [01:32, 10.54it/s]\u001b[A\n",
      "980it [01:32, 10.65it/s]\u001b[A"
     ]
    },
    {
     "name": "stdout",
     "output_type": "stream",
     "text": [
      "[0.97190643 0.02080913 0.00388101] 0.9965965647029787\n",
      "[0.97271349 0.0203652  0.00390824] 0.9969869231164948\n"
     ]
    },
    {
     "name": "stderr",
     "output_type": "stream",
     "text": [
      "\n",
      "982it [01:32, 10.40it/s]\u001b[A"
     ]
    },
    {
     "name": "stdout",
     "output_type": "stream",
     "text": [
      "[0.97454077 0.01893106 0.00359178] 0.9970636114550285\n",
      "[0.97553339 0.01838003 0.00343778] 0.9973512111529775\n",
      "[0.98725185 0.00904057 0.00187411] 0.9981665281421609\n"
     ]
    },
    {
     "name": "stderr",
     "output_type": "stream",
     "text": [
      "\n",
      "984it [01:33, 10.51it/s]\u001b[A\n",
      "986it [01:33, 10.73it/s]\u001b[A"
     ]
    },
    {
     "name": "stdout",
     "output_type": "stream",
     "text": [
      "[0.9891961  0.00779242 0.00159016] 0.9985786845957458\n",
      "[0.98254886 0.01220391 0.00263659] 0.9973893666034817\n",
      "[0.98383966 0.01209821 0.00226602] 0.9982038922707985\n"
     ]
    },
    {
     "name": "stderr",
     "output_type": "stream",
     "text": [
      "\n",
      "988it [01:33, 10.51it/s]\u001b[A"
     ]
    },
    {
     "name": "stdout",
     "output_type": "stream",
     "text": [
      "[0.98026197 0.01429506 0.00289808] 0.9974551051446999\n",
      "[0.97613308 0.01697802 0.00355096] 0.9966620652482217\n",
      "[0.98304838 0.01277326 0.00230899] 0.9981306241343654\n"
     ]
    },
    {
     "name": "stderr",
     "output_type": "stream",
     "text": [
      "\n",
      "990it [01:33, 10.52it/s]\u001b[A\n"
     ]
    },
    {
     "name": "stdout",
     "output_type": "stream",
     "text": [
      "[0.98444854 0.0115609  0.0020587 ] 0.9980681412717856\n",
      "[0.98276665 0.01257428 0.00251133] 0.9978522537930409\n",
      "[0.97384271 0.01893044 0.00373069] 0.9965038374662786\n"
     ]
    },
    {
     "name": "stderr",
     "output_type": "stream",
     "text": [
      "992it [01:33, 10.74it/s]\u001b[A\n",
      "994it [01:34, 10.42it/s]\u001b[A"
     ]
    },
    {
     "name": "stdout",
     "output_type": "stream",
     "text": [
      "[0.97028891 0.02249242 0.00405334] 0.996834668347875\n",
      "[0.97432782 0.01963272 0.00338715] 0.9973476887786725\n",
      "[0.97724923 0.01687105 0.00326223] 0.9973825146409947\n"
     ]
    },
    {
     "name": "stderr",
     "output_type": "stream",
     "text": [
      "\n",
      "996it [01:34, 10.53it/s]\u001b[A\n",
      "998it [01:34, 10.64it/s]"
     ]
    },
    {
     "name": "stdout",
     "output_type": "stream",
     "text": [
      "[0.98046434 0.01499172 0.00254937] 0.9980054378747973\n",
      "[0.97613603 0.01770092 0.00339196] 0.9972289116746378\n",
      "[0.97751848 0.01630502 0.00324218] 0.9970656789184665\n"
     ]
    },
    {
     "name": "stderr",
     "output_type": "stream",
     "text": [
      "\u001b[A\n",
      "1000it [01:34, 10.56it/s]\u001b[A"
     ]
    },
    {
     "name": "stdout",
     "output_type": "stream",
     "text": [
      "[0.98018488 0.01375814 0.0029853 ] 0.9969283199736957\n",
      "[0.98852233 0.00831919 0.00165518] 0.9984966967448716\n",
      "[0.98438631 0.01157938 0.00204588] 0.9980115735192618\n"
     ]
    },
    {
     "name": "stderr",
     "output_type": "stream",
     "text": [
      "\n",
      "1002it [01:34, 10.54it/s]\u001b[A\n"
     ]
    },
    {
     "name": "stdout",
     "output_type": "stream",
     "text": [
      "[0.97423904 0.02042832 0.00309283] 0.9977601948160905\n",
      "[0.96903851 0.02352391 0.00397761] 0.9965400313293511\n",
      "[0.97027868 0.02262273 0.00409612] 0.9969975324449604\n"
     ]
    },
    {
     "name": "stderr",
     "output_type": "stream",
     "text": [
      "1004it [01:35, 10.48it/s]\u001b[A\n",
      "1006it [01:35, 10.62it/s]\u001b[A"
     ]
    },
    {
     "name": "stdout",
     "output_type": "stream",
     "text": [
      "[0.97587409 0.01796085 0.0033675 ] 0.9972024465625847\n",
      "[0.97823965 0.01604169 0.00313183] 0.9974131708633643\n",
      "[0.97583536 0.018033   0.00336083] 0.9972291873652532\n"
     ]
    },
    {
     "name": "stderr",
     "output_type": "stream",
     "text": [
      "\n",
      "1008it [01:35, 10.58it/s]\u001b[A\n",
      "1010it [01:35, 10.80it/s]\u001b[A"
     ]
    },
    {
     "name": "stdout",
     "output_type": "stream",
     "text": [
      "[0.97515558 0.01852799 0.00340667] 0.9970902378695328\n",
      "[0.97505518 0.01871209 0.0034833 ] 0.9972505666631518\n",
      "[0.97529729 0.01814284 0.00362594] 0.9970660608546972\n"
     ]
    },
    {
     "name": "stderr",
     "output_type": "stream",
     "text": [
      "\n",
      "1012it [01:35, 10.82it/s]\u001b[A"
     ]
    },
    {
     "name": "stdout",
     "output_type": "stream",
     "text": [
      "[0.9751531  0.01854422 0.00364169] 0.9973390017976296\n",
      "[0.97634124 0.01757515 0.0034363 ] 0.9973527034174534\n",
      "[0.97377384 0.01943854 0.00361267] 0.9968250496129402\n"
     ]
    },
    {
     "name": "stderr",
     "output_type": "stream",
     "text": [
      "\n",
      "1014it [01:35, 10.47it/s]\u001b[A\n"
     ]
    },
    {
     "name": "stdout",
     "output_type": "stream",
     "text": [
      "[0.97978601 0.01505008 0.00265028] 0.9974863684646178\n",
      "[0.98002749 0.01516544 0.00252428] 0.9977172125758054\n",
      "[0.97768602 0.01634862 0.0030719 ] 0.9971065370555701\n"
     ]
    },
    {
     "name": "stderr",
     "output_type": "stream",
     "text": [
      "1016it [01:36, 10.69it/s]\u001b[A\n",
      "1018it [01:36, 10.77it/s]\u001b[A"
     ]
    },
    {
     "name": "stdout",
     "output_type": "stream",
     "text": [
      "[0.98210774 0.01291521 0.0026441 ] 0.9976670499035161\n",
      "[0.98300574 0.01183662 0.00271651] 0.9975588688388034\n"
     ]
    },
    {
     "name": "stderr",
     "output_type": "stream",
     "text": [
      "\n",
      "1020it [01:36, 10.72it/s]\u001b[A"
     ]
    },
    {
     "name": "stdout",
     "output_type": "stream",
     "text": [
      "[0.98352887 0.01151654 0.00261602] 0.9976614235608693\n",
      "[0.97957147 0.01514065 0.00282084] 0.9975329547653101\n",
      "[0.97649827 0.01731682 0.00337302] 0.9971881009049868\n"
     ]
    },
    {
     "name": "stderr",
     "output_type": "stream",
     "text": [
      "\n",
      "1022it [01:36, 10.76it/s]\u001b[A\n"
     ]
    },
    {
     "name": "stdout",
     "output_type": "stream",
     "text": [
      "[0.97257152 0.02065075 0.00377167] 0.9969939393271805\n",
      "[0.97114944 0.02157268 0.00406986] 0.9967919866505565\n",
      "[0.9743435  0.01919407 0.00358387] 0.9971214388458753\n"
     ]
    },
    {
     "name": "stderr",
     "output_type": "stream",
     "text": [
      "1024it [01:36, 10.63it/s]\u001b[A\n",
      "1026it [01:37, 10.62it/s]\u001b[A"
     ]
    },
    {
     "name": "stdout",
     "output_type": "stream",
     "text": [
      "[0.98333379 0.01250782 0.00229053] 0.998132142748989\n",
      "[0.98442296 0.01127245 0.00214269] 0.9978381009316044\n",
      "[0.98695218 0.00930693 0.00184638] 0.9981054950460342\n"
     ]
    },
    {
     "name": "stderr",
     "output_type": "stream",
     "text": [
      "\n",
      "1028it [01:37, 10.43it/s]\u001b[A\n"
     ]
    },
    {
     "name": "stdout",
     "output_type": "stream",
     "text": [
      "[0.98387493 0.01172909 0.00233775] 0.9979417670914581\n",
      "[0.98208161 0.01287115 0.00255839] 0.9975111479101461\n",
      "[0.97477381 0.01800801 0.00364553] 0.9964273462835789\n"
     ]
    },
    {
     "name": "stderr",
     "output_type": "stream",
     "text": [
      "1030it [01:37, 10.40it/s]\u001b[A\n",
      "1032it [01:37, 10.55it/s]\u001b[A"
     ]
    },
    {
     "name": "stdout",
     "output_type": "stream",
     "text": [
      "[0.97689417 0.01732768 0.00291237] 0.9971342176749044\n",
      "[0.98002007 0.01596108 0.00215749] 0.9981386356062326\n",
      "[0.96651545 0.02445139 0.00441437] 0.9953812010795603\n"
     ]
    },
    {
     "name": "stderr",
     "output_type": "stream",
     "text": [
      "\n",
      "1034it [01:37, 10.55it/s]\u001b[A\n"
     ]
    },
    {
     "name": "stdout",
     "output_type": "stream",
     "text": [
      "[0.97449746 0.0200465  0.0030256 ] 0.997569557281566\n",
      "[0.9785762  0.01679429 0.00255662] 0.9979271100546263\n",
      "[0.98216581 0.01255222 0.00264907] 0.9973670976882276\n"
     ]
    },
    {
     "name": "stderr",
     "output_type": "stream",
     "text": [
      "1036it [01:38, 10.60it/s]\u001b[A\n",
      "1038it [01:38, 10.84it/s]\u001b[A"
     ]
    },
    {
     "name": "stdout",
     "output_type": "stream",
     "text": [
      "[0.98691952 0.00927344 0.00199444] 0.9981874011509855\n",
      "[0.98434879 0.01121012 0.00228003] 0.997838935710171\n",
      "[0.98300311 0.01246006 0.0024788 ] 0.997941968261965\n"
     ]
    },
    {
     "name": "stderr",
     "output_type": "stream",
     "text": [
      "\n",
      "1040it [01:38, 10.73it/s]\u001b[A\n"
     ]
    },
    {
     "name": "stdout",
     "output_type": "stream",
     "text": [
      "[0.98485448 0.01110199 0.00206255] 0.998019029049894\n",
      "[0.98399823 0.01155629 0.00241696] 0.9979714894043913\n",
      "[0.98178976 0.01318858 0.00266144] 0.9976397873591407\n"
     ]
    },
    {
     "name": "stderr",
     "output_type": "stream",
     "text": [
      "1042it [01:38, 10.61it/s]\u001b[A\n",
      "1044it [01:38, 10.71it/s]\u001b[A"
     ]
    },
    {
     "name": "stdout",
     "output_type": "stream",
     "text": [
      "[0.97728516 0.01672204 0.00322808] 0.9972352756465898\n",
      "[0.97850655 0.01566059 0.00305156] 0.9972187074425178\n",
      "[0.98246892 0.01295156 0.00242264] 0.9978431186991246\n"
     ]
    },
    {
     "name": "stderr",
     "output_type": "stream",
     "text": [
      "\n",
      "1046it [01:38, 10.66it/s]\u001b[A\n"
     ]
    },
    {
     "name": "stdout",
     "output_type": "stream",
     "text": [
      "[0.9821101  0.01279351 0.00264644] 0.9975500540872632\n",
      "[0.9806405  0.01399602 0.00274778] 0.9973842976536501\n",
      "[0.98506156 0.01121544 0.00202226] 0.998299267575253\n"
     ]
    },
    {
     "name": "stderr",
     "output_type": "stream",
     "text": [
      "1048it [01:39, 10.56it/s]\u001b[A\n",
      "1050it [01:39, 10.68it/s]\u001b[A"
     ]
    },
    {
     "name": "stdout",
     "output_type": "stream",
     "text": [
      "[0.9784042  0.0160524  0.00292824] 0.997384842479044\n",
      "[0.97888337 0.01575407 0.00295913] 0.9975965764213073\n",
      "[0.98061637 0.01447388 0.00271861] 0.9978088716977512\n"
     ]
    },
    {
     "name": "stderr",
     "output_type": "stream",
     "text": [
      "\n",
      "1052it [01:39, 10.63it/s]\u001b[A\n",
      "1054it [01:39, 10.82it/s]\u001b[A"
     ]
    },
    {
     "name": "stdout",
     "output_type": "stream",
     "text": [
      "[0.97747867 0.01609547 0.00347294] 0.9970470836195107\n",
      "[0.98133415 0.01387383 0.00270522] 0.9979132042044535\n",
      "[0.97793517 0.01590135 0.00329316] 0.9971296792196102\n"
     ]
    },
    {
     "name": "stderr",
     "output_type": "stream",
     "text": [
      "\n",
      "1056it [01:39, 10.56it/s]\u001b[A"
     ]
    },
    {
     "name": "stdout",
     "output_type": "stream",
     "text": [
      "[0.98113665 0.01396083 0.00272604] 0.9978235167957316\n",
      "[0.9805214  0.01410164 0.00282457] 0.9974476154613592\n",
      "[0.97633932 0.01734453 0.00339877] 0.9970826205457465\n"
     ]
    },
    {
     "name": "stderr",
     "output_type": "stream",
     "text": [
      "\n",
      "1058it [01:40, 10.85it/s]\u001b[A\n"
     ]
    },
    {
     "name": "stdout",
     "output_type": "stream",
     "text": [
      "[0.97544836 0.0186803  0.00326421] 0.9973928777582284\n",
      "[0.97942616 0.01442664 0.0029455 ] 0.9967982983591724\n",
      "[0.98810202 0.00891616 0.0014901 ] 0.9985082797154848\n"
     ]
    },
    {
     "name": "stderr",
     "output_type": "stream",
     "text": [
      "1060it [01:40, 10.67it/s]\u001b[A\n",
      "1062it [01:40, 10.55it/s]\u001b[A"
     ]
    },
    {
     "name": "stdout",
     "output_type": "stream",
     "text": [
      "[0.98304507 0.01188742 0.00243706] 0.9973695506482092\n",
      "[0.97912242 0.01487349 0.0029633 ] 0.9969592113472646\n"
     ]
    },
    {
     "name": "stderr",
     "output_type": "stream",
     "text": [
      "\n",
      "1064it [01:40, 10.78it/s]\u001b[A"
     ]
    },
    {
     "name": "stdout",
     "output_type": "stream",
     "text": [
      "[0.97997703 0.0144647  0.0029227 ] 0.9973644323391055\n",
      "[0.97715375 0.0174322  0.00310317] 0.9976891128810564\n",
      "[0.98981043 0.00700771 0.00160776] 0.9984258996967417\n"
     ]
    },
    {
     "name": "stderr",
     "output_type": "stream",
     "text": [
      "\n",
      "1066it [01:40, 10.78it/s]\u001b[A"
     ]
    },
    {
     "name": "stdout",
     "output_type": "stream",
     "text": [
      "[0.99151356 0.00594366 0.00129106] 0.9987482737801333\n",
      "[0.98067877 0.01390488 0.00274504] 0.9973286926745273\n"
     ]
    },
    {
     "name": "stderr",
     "output_type": "stream",
     "text": [
      "\n",
      "1068it [01:41, 10.51it/s]\u001b[A\n",
      "1070it [01:41, 10.78it/s]\u001b[A"
     ]
    },
    {
     "name": "stdout",
     "output_type": "stream",
     "text": [
      "[0.98131949 0.01378673 0.0026098 ] 0.9977160259802852\n",
      "[0.98678729 0.00961537 0.00183307] 0.998235728635591\n",
      "[0.99097874 0.00640968 0.0013044 ] 0.9986928181630421\n"
     ]
    },
    {
     "name": "stderr",
     "output_type": "stream",
     "text": [
      "\n",
      "1072it [01:41, 10.53it/s]\u001b[A"
     ]
    },
    {
     "name": "stdout",
     "output_type": "stream",
     "text": [
      "[0.98920639 0.00745283 0.00164737] 0.9983065945716307\n",
      "[0.98236719 0.01253197 0.00268323] 0.9975823887929671\n",
      "[0.97974562 0.0147689  0.00293554] 0.9974500636044936\n"
     ]
    },
    {
     "name": "stderr",
     "output_type": "stream",
     "text": [
      "\n",
      "1074it [01:41, 10.81it/s]\u001b[A\n"
     ]
    },
    {
     "name": "stdout",
     "output_type": "stream",
     "text": [
      "[0.98349915 0.01192864 0.00240283] 0.9978306172920663\n",
      "[0.98534077 0.01046853 0.00219538] 0.9980046776722821\n",
      "[0.98414968 0.01137256 0.00233112] 0.997853355425646\n"
     ]
    },
    {
     "name": "stderr",
     "output_type": "stream",
     "text": [
      "1076it [01:41, 10.67it/s]\u001b[A\n",
      "1078it [01:41, 10.73it/s]\u001b[A"
     ]
    },
    {
     "name": "stdout",
     "output_type": "stream",
     "text": [
      "[0.98398808 0.01176762 0.00227226] 0.9980279608421765\n",
      "[0.98067552 0.01420874 0.00274037] 0.9976246324338467\n",
      "[0.97481149 0.01840638 0.00381438] 0.9970322493032288\n"
     ]
    },
    {
     "name": "stderr",
     "output_type": "stream",
     "text": [
      "\n",
      "1080it [01:42, 10.69it/s]\u001b[A\n"
     ]
    },
    {
     "name": "stdout",
     "output_type": "stream",
     "text": [
      "[0.97221983 0.02108982 0.00378004] 0.9970896896428958\n",
      "[0.96437193 0.02769582 0.00489152] 0.9969592753032027\n",
      "[0.96928378 0.0227978  0.00439849] 0.9964800667232632\n"
     ]
    },
    {
     "name": "stderr",
     "output_type": "stream",
     "text": [
      "1082it [01:42, 10.60it/s]\u001b[A\n",
      "1084it [01:42, 10.83it/s]\u001b[A"
     ]
    },
    {
     "name": "stdout",
     "output_type": "stream",
     "text": [
      "[0.99129676 0.00604521 0.00133661] 0.9986785868151511\n",
      "[0.99051623 0.00640465 0.00151584] 0.9984367286163371\n"
     ]
    },
    {
     "name": "stderr",
     "output_type": "stream",
     "text": [
      "\n",
      "1086it [01:42, 10.61it/s]\u001b[A"
     ]
    },
    {
     "name": "stdout",
     "output_type": "stream",
     "text": [
      "[0.98492776 0.0105062  0.00216853] 0.9976024984608753\n",
      "[0.98402402 0.01196123 0.00212215] 0.9981074038381169\n",
      "[0.97859049 0.01516839 0.00309721] 0.9968560940569957\n"
     ]
    },
    {
     "name": "stderr",
     "output_type": "stream",
     "text": [
      "\n",
      "1088it [01:42, 10.66it/s]\u001b[A\n"
     ]
    },
    {
     "name": "stdout",
     "output_type": "stream",
     "text": [
      "[0.97332194 0.01953368 0.00379733] 0.9966529523064153\n",
      "[0.97853973 0.0161347  0.0027533 ] 0.9974277314543311\n",
      "[0.97534258 0.01850859 0.00316991] 0.9970210880283564\n"
     ]
    },
    {
     "name": "stderr",
     "output_type": "stream",
     "text": [
      "1090it [01:43, 10.50it/s]\u001b[A\n",
      "1092it [01:43, 10.70it/s]\u001b[A"
     ]
    },
    {
     "name": "stdout",
     "output_type": "stream",
     "text": [
      "[0.96817085 0.02323396 0.00427921] 0.9956840255001934\n",
      "[0.97181331 0.02102584 0.00369605] 0.9965351988748941\n",
      "[0.98205235 0.01377308 0.00225552] 0.9980809477692069\n"
     ]
    },
    {
     "name": "stderr",
     "output_type": "stream",
     "text": [
      "\n",
      "1094it [01:43, 10.64it/s]\u001b[A\n"
     ]
    },
    {
     "name": "stdout",
     "output_type": "stream",
     "text": [
      "[0.97989679 0.01529321 0.00250708] 0.9976970796661052\n",
      "[0.97994916 0.01434903 0.00290761] 0.9972057992478928\n",
      "[0.98672497 0.01008008 0.00171646] 0.9985215092119822\n"
     ]
    },
    {
     "name": "stderr",
     "output_type": "stream",
     "text": [
      "1096it [01:43, 10.54it/s]\u001b[A\n",
      "1098it [01:43, 10.67it/s]\u001b[A"
     ]
    },
    {
     "name": "stdout",
     "output_type": "stream",
     "text": [
      "[0.98283458 0.01191602 0.00260856] 0.9973591633477528\n",
      "[0.9897169  0.00700758 0.00165327] 0.9983777471548603\n",
      "[0.99144147 0.00616022 0.0010976 ] 0.9986992855718436\n"
     ]
    },
    {
     "name": "stderr",
     "output_type": "stream",
     "text": [
      "\n",
      "1100it [01:44, 10.54it/s]\u001b[A\n",
      "1102it [01:44, 10.85it/s]\u001b[A"
     ]
    },
    {
     "name": "stdout",
     "output_type": "stream",
     "text": [
      "[0.9867223  0.00942366 0.00195676] 0.9981027144959987\n",
      "[0.98278255 0.01252271 0.00232561] 0.997630869825192\n",
      "[0.98391753 0.01188277 0.00207997] 0.9978802758053966\n"
     ]
    },
    {
     "name": "stderr",
     "output_type": "stream",
     "text": [
      "\n",
      "1104it [01:44, 10.58it/s]\u001b[A"
     ]
    },
    {
     "name": "stdout",
     "output_type": "stream",
     "text": [
      "[0.97919532 0.01524429 0.00267892] 0.9971185233688762\n",
      "[0.98106585 0.01426581 0.00234903] 0.9976806900214169\n",
      "[0.98520376 0.01085886 0.00194178] 0.9980043998134688\n"
     ]
    },
    {
     "name": "stderr",
     "output_type": "stream",
     "text": [
      "\n",
      "1106it [01:44, 10.57it/s]\u001b[A\n",
      "1108it [01:44, 10.78it/s]\u001b[A"
     ]
    },
    {
     "name": "stdout",
     "output_type": "stream",
     "text": [
      "[0.98729868 0.00927247 0.00168677] 0.9982579200562681\n",
      "[0.98459166 0.01116445 0.00212766] 0.9978837652154191\n",
      "[0.98535374 0.01092482 0.00205357] 0.9983321289477942\n"
     ]
    },
    {
     "name": "stderr",
     "output_type": "stream",
     "text": [
      "\n",
      "1110it [01:44, 10.80it/s]\u001b[A"
     ]
    },
    {
     "name": "stdout",
     "output_type": "stream",
     "text": [
      "[0.98106312 0.01370743 0.00278769] 0.9975582396730767\n",
      "[0.97828888 0.01598127 0.00296041] 0.9972305568121018\n",
      "[0.98242852 0.01344851 0.00220881] 0.9980858398691166\n"
     ]
    },
    {
     "name": "stderr",
     "output_type": "stream",
     "text": [
      "\n",
      "1112it [01:45, 10.73it/s]\u001b[A\n"
     ]
    },
    {
     "name": "stdout",
     "output_type": "stream",
     "text": [
      "[0.98146209 0.01368025 0.00248435] 0.9976266845631188\n",
      "[0.98230083 0.01359097 0.00224296] 0.998134767803057\n",
      "[0.98044102 0.01491289 0.00245969] 0.9978136059556891\n"
     ]
    },
    {
     "name": "stderr",
     "output_type": "stream",
     "text": [
      "1114it [01:45, 10.60it/s]\u001b[A\n",
      "1116it [01:45, 10.45it/s]\u001b[A"
     ]
    },
    {
     "name": "stdout",
     "output_type": "stream",
     "text": [
      "[0.98025336 0.01511317 0.00252487] 0.9978914008063366\n",
      "[0.97678796 0.01737749 0.00301302] 0.9971784741380897\n",
      "[0.96961548 0.02250056 0.00403598] 0.9961520137996651\n"
     ]
    },
    {
     "name": "stderr",
     "output_type": "stream",
     "text": [
      "\n",
      "1118it [01:45, 10.46it/s]\u001b[A\n"
     ]
    },
    {
     "name": "stdout",
     "output_type": "stream",
     "text": [
      "[0.97419707 0.01923767 0.00328177] 0.9967165119613239\n",
      "[0.97728187 0.01708123 0.00282741] 0.9971905178171633\n",
      "[0.98092737 0.01437698 0.00234698] 0.9976513334934393\n"
     ]
    },
    {
     "name": "stderr",
     "output_type": "stream",
     "text": [
      "1120it [01:45, 10.44it/s]\u001b[A\n",
      "1122it [01:46, 10.49it/s]\u001b[A"
     ]
    },
    {
     "name": "stdout",
     "output_type": "stream",
     "text": [
      "[0.98264917 0.01294584 0.00215247] 0.9977474766144557\n",
      "[0.98259536 0.01302043 0.00220892] 0.9978247219110418\n",
      "[0.98673746 0.00992083 0.00171415] 0.9983724406465997\n"
     ]
    },
    {
     "name": "stderr",
     "output_type": "stream",
     "text": [
      "\n",
      "1124it [01:46, 10.58it/s]\u001b[A\n",
      "1126it [01:46, 10.78it/s]\u001b[A"
     ]
    },
    {
     "name": "stdout",
     "output_type": "stream",
     "text": [
      "[0.98669716 0.00965859 0.00178616] 0.9981419093336833\n",
      "[0.98292706 0.01210098 0.0024617 ] 0.9974897409416089\n",
      "[0.97783838 0.01618128 0.00306183] 0.9970814797396067\n"
     ]
    },
    {
     "name": "stderr",
     "output_type": "stream",
     "text": [
      "\n",
      "1128it [01:46, 10.54it/s]\u001b[A"
     ]
    },
    {
     "name": "stdout",
     "output_type": "stream",
     "text": [
      "[0.97892861 0.01614066 0.00259594] 0.9976652026320956\n",
      "[0.97884993 0.01654738 0.00246362] 0.9978609265284699\n",
      "[0.98480824 0.01130893 0.00191518] 0.9980323435826858\n"
     ]
    },
    {
     "name": "stderr",
     "output_type": "stream",
     "text": [
      "\n",
      "1130it [01:46, 10.81it/s]\u001b[A"
     ]
    },
    {
     "name": "stdout",
     "output_type": "stream",
     "text": [
      "[0.99086023 0.00705875 0.0011651 ] 0.9990840824824802\n",
      "[0.98340644 0.01175348 0.002327  ] 0.9974869240360238\n"
     ]
    },
    {
     "name": "stderr",
     "output_type": "stream",
     "text": [
      "\n",
      "1132it [01:47, 10.55it/s]\u001b[A\n",
      "1134it [01:47, 10.78it/s]\u001b[A"
     ]
    },
    {
     "name": "stdout",
     "output_type": "stream",
     "text": [
      "[0.98719644 0.00932503 0.00170411] 0.9982255824522546\n",
      "[0.98264296 0.01243445 0.00246883] 0.9975462434290387\n",
      "[0.98180107 0.01357836 0.00244565] 0.9978250798799365\n"
     ]
    },
    {
     "name": "stderr",
     "output_type": "stream",
     "text": [
      "\n",
      "1136it [01:47, 10.54it/s]\u001b[A"
     ]
    },
    {
     "name": "stdout",
     "output_type": "stream",
     "text": [
      "[0.98028769 0.01416511 0.00284292] 0.9972957182951088\n",
      "[0.98330448 0.01161572 0.00247317] 0.9973933670458295\n",
      "[0.98844032 0.00867931 0.00150656] 0.9986261946877832\n"
     ]
    },
    {
     "name": "stderr",
     "output_type": "stream",
     "text": [
      "\n",
      "1138it [01:47, 10.56it/s]\u001b[A\n",
      "1140it [01:47, 10.75it/s]\u001b[A"
     ]
    },
    {
     "name": "stdout",
     "output_type": "stream",
     "text": [
      "[0.9855636  0.01076477 0.00187182] 0.9982001846288222\n",
      "[0.97687609 0.01744589 0.00297102] 0.9972930058901526\n",
      "[0.98324387 0.01250404 0.00213815] 0.9978860586224415\n"
     ]
    },
    {
     "name": "stderr",
     "output_type": "stream",
     "text": [
      "\n",
      "1142it [01:47, 10.48it/s]\u001b[A"
     ]
    },
    {
     "name": "stdout",
     "output_type": "stream",
     "text": [
      "[0.98120187 0.01386551 0.00249944] 0.9975668254073404\n",
      "[0.98351693 0.01280652 0.00198601] 0.9983094584187362\n",
      "[0.98253401 0.01355895 0.00211771] 0.998210667959836\n"
     ]
    },
    {
     "name": "stderr",
     "output_type": "stream",
     "text": [
      "\n",
      "1144it [01:48, 10.54it/s]\u001b[A\n"
     ]
    },
    {
     "name": "stdout",
     "output_type": "stream",
     "text": [
      "[0.98454064 0.01167998 0.00202964] 0.9982502463943347\n",
      "[0.9838205  0.01199052 0.00213677] 0.9979477894535369\n",
      "[0.97979989 0.01492718 0.0025056 ] 0.9972326711337136\n"
     ]
    },
    {
     "name": "stderr",
     "output_type": "stream",
     "text": [
      "1146it [01:48, 10.47it/s]\u001b[A\n",
      "1148it [01:48, 10.48it/s]\u001b[A"
     ]
    },
    {
     "name": "stdout",
     "output_type": "stream",
     "text": [
      "[0.98365488 0.01282528 0.00179307] 0.998273227827309\n",
      "[0.97479353 0.01835304 0.00327527] 0.996421840651404\n",
      "[0.97029685 0.02227502 0.00377392] 0.9963457947322283\n"
     ]
    },
    {
     "name": "stderr",
     "output_type": "stream",
     "text": [
      "\n",
      "1150it [01:48, 10.64it/s]\u001b[A\n"
     ]
    },
    {
     "name": "stdout",
     "output_type": "stream",
     "text": [
      "[0.97473484 0.02015772 0.00275994] 0.9976525039176671\n",
      "[0.97925547 0.01648501 0.00225003] 0.9979905060892575\n",
      "[0.97826755 0.0161505  0.00280294] 0.9972209898555222\n"
     ]
    },
    {
     "name": "stderr",
     "output_type": "stream",
     "text": [
      "1152it [01:48, 10.54it/s]\u001b[A\n",
      "1154it [01:49, 10.60it/s]\u001b[A"
     ]
    },
    {
     "name": "stdout",
     "output_type": "stream",
     "text": [
      "[0.97890382 0.01593251 0.00271389] 0.997550231473042\n",
      "[0.97530855 0.01831155 0.00329548] 0.9969155861580985\n",
      "[0.98006868 0.01482034 0.00268362] 0.9975726456525045\n"
     ]
    },
    {
     "name": "stderr",
     "output_type": "stream",
     "text": [
      "\n",
      "1156it [01:49, 10.62it/s]\u001b[A\n",
      "1158it [01:49, 10.82it/s]\u001b[A"
     ]
    },
    {
     "name": "stdout",
     "output_type": "stream",
     "text": [
      "[0.9809574  0.01372532 0.0027609 ] 0.9974436230830533\n",
      "[0.98661859 0.00990019 0.00182407] 0.9983428517144981\n",
      "[0.98662996 0.01015913 0.00167091] 0.998460006456694\n"
     ]
    },
    {
     "name": "stderr",
     "output_type": "stream",
     "text": [
      "\n",
      "1160it [01:49, 10.83it/s]\u001b[A"
     ]
    },
    {
     "name": "stdout",
     "output_type": "stream",
     "text": [
      "[0.98772104 0.00943367 0.00151384] 0.9986685557478597\n",
      "[0.9805066  0.01497491 0.00236297] 0.9978444761701717\n",
      "[0.97944511 0.01520866 0.00276963] 0.9974234049222305\n"
     ]
    },
    {
     "name": "stderr",
     "output_type": "stream",
     "text": [
      "\n",
      "1162it [01:49, 10.73it/s]\u001b[A\n"
     ]
    },
    {
     "name": "stdout",
     "output_type": "stream",
     "text": [
      "[0.9790959  0.01622034 0.00245232] 0.9977685594367288\n",
      "[0.98016591 0.0154608  0.00230688] 0.9979335908220622\n",
      "[0.97733973 0.01695438 0.00294753] 0.9972416358146006\n"
     ]
    },
    {
     "name": "stderr",
     "output_type": "stream",
     "text": [
      "1164it [01:50, 10.80it/s]\u001b[A\n",
      "1166it [01:50, 10.67it/s]\u001b[A"
     ]
    },
    {
     "name": "stdout",
     "output_type": "stream",
     "text": [
      "[0.97251873 0.02004485 0.00372005] 0.9962836206246503\n",
      "[0.97309798 0.01987211 0.00363126] 0.9966013476675192\n",
      "[0.9763489  0.01824577 0.0029129 ] 0.9975075668994642\n"
     ]
    },
    {
     "name": "stderr",
     "output_type": "stream",
     "text": [
      "\n",
      "1168it [01:50, 10.63it/s]\u001b[A\n"
     ]
    },
    {
     "name": "stdout",
     "output_type": "stream",
     "text": [
      "[0.98114729 0.01467131 0.00227283] 0.9980914408233867\n",
      "[0.98028243 0.01501745 0.0024901 ] 0.9977899823839279\n",
      "[0.98056862 0.01522667 0.00220992] 0.9980052073494194\n"
     ]
    },
    {
     "name": "stderr",
     "output_type": "stream",
     "text": [
      "1170it [01:50, 10.49it/s]\u001b[A\n",
      "1172it [01:50, 10.66it/s]\u001b[A"
     ]
    },
    {
     "name": "stdout",
     "output_type": "stream",
     "text": [
      "[0.97768397 0.01713998 0.00275521] 0.9975791626467309\n",
      "[0.97537513 0.01892988 0.00300657] 0.9973115729387597\n"
     ]
    },
    {
     "name": "stderr",
     "output_type": "stream",
     "text": [
      "\n",
      "1174it [01:50, 10.65it/s]\u001b[A"
     ]
    },
    {
     "name": "stdout",
     "output_type": "stream",
     "text": [
      "[0.97806239 0.01678558 0.00265186] 0.9974998358080952\n",
      "[0.98019839 0.01511953 0.0024641 ] 0.9977820224873557\n",
      "[0.98283287 0.01327248 0.00211011] 0.9982154575555119\n"
     ]
    },
    {
     "name": "stderr",
     "output_type": "stream",
     "text": [
      "\n",
      "1176it [01:51, 10.43it/s]\u001b[A\n",
      "1178it [01:51, 10.67it/s]\u001b[A"
     ]
    },
    {
     "name": "stdout",
     "output_type": "stream",
     "text": [
      "[0.97775646 0.01650099 0.00301822] 0.9972756758649122\n",
      "[0.98275812 0.01334746 0.00211277] 0.9982183515363731\n",
      "[0.98032684 0.01496879 0.002493  ] 0.9977886281555802\n"
     ]
    },
    {
     "name": "stderr",
     "output_type": "stream",
     "text": [
      "\n",
      "1180it [01:51, 10.71it/s]\u001b[A"
     ]
    },
    {
     "name": "stdout",
     "output_type": "stream",
     "text": [
      "[0.97634978 0.01794785 0.00299143] 0.997289063735997\n",
      "[0.97765483 0.01792959 0.00249292] 0.9980773394155418\n",
      "[0.97827848 0.01755866 0.00239071] 0.9982278482511435\n"
     ]
    },
    {
     "name": "stderr",
     "output_type": "stream",
     "text": [
      "\n",
      "1182it [01:51, 10.66it/s]\u001b[A\n"
     ]
    },
    {
     "name": "stdout",
     "output_type": "stream",
     "text": [
      "[0.97467769 0.01924403 0.00310608] 0.9970277955801019\n",
      "[0.97901005 0.01678508 0.00228305] 0.998078183290967\n",
      "[0.97620474 0.01787835 0.00298419] 0.997067282913211\n"
     ]
    },
    {
     "name": "stderr",
     "output_type": "stream",
     "text": [
      "1184it [01:51, 10.61it/s]\u001b[A\n",
      "1186it [01:52, 10.65it/s]\u001b[A"
     ]
    },
    {
     "name": "stdout",
     "output_type": "stream",
     "text": [
      "[0.97633824 0.01779443 0.00302348] 0.9971561465524214\n",
      "[0.97806622 0.0169079  0.00263203] 0.997606143323736\n",
      "[0.9815022  0.01443861 0.0021549 ] 0.9980957049140234\n"
     ]
    },
    {
     "name": "stderr",
     "output_type": "stream",
     "text": [
      "\n",
      "1188it [01:52, 10.64it/s]\u001b[A\n"
     ]
    },
    {
     "name": "stdout",
     "output_type": "stream",
     "text": [
      "[0.98050668 0.01477699 0.00246155] 0.9977452162532177\n",
      "[0.98034573 0.01479202 0.00245148] 0.9975892231385416\n",
      "[0.98348058 0.01238378 0.00200558] 0.997869945293207\n"
     ]
    },
    {
     "name": "stderr",
     "output_type": "stream",
     "text": [
      "1190it [01:52, 10.57it/s]\u001b[A\n",
      "1192it [01:52, 10.64it/s]\u001b[A"
     ]
    },
    {
     "name": "stdout",
     "output_type": "stream",
     "text": [
      "[0.9871678  0.01013145 0.00136238] 0.998661620207924\n",
      "[0.97544023 0.01803626 0.00311996] 0.9965964503093439\n",
      "[0.98027521 0.01530528 0.0023082 ] 0.9978886934985469\n"
     ]
    },
    {
     "name": "stderr",
     "output_type": "stream",
     "text": [
      "\n",
      "1194it [01:52, 10.63it/s]\u001b[A\n"
     ]
    },
    {
     "name": "stdout",
     "output_type": "stream",
     "text": [
      "[0.97261682 0.01972533 0.00382128] 0.9961634315260954\n",
      "[0.97991291 0.01510186 0.00263353] 0.9976483002336595\n",
      "[0.97954357 0.01584334 0.00247404] 0.9978609470798172\n"
     ]
    },
    {
     "name": "stderr",
     "output_type": "stream",
     "text": [
      "1196it [01:53, 10.45it/s]\u001b[A\n",
      "1198it [01:53, 10.13it/s]\u001b[A"
     ]
    },
    {
     "name": "stdout",
     "output_type": "stream",
     "text": [
      "[0.97918829 0.01596448 0.00249631] 0.9976490813394348\n",
      "[0.97945194 0.01397429 0.00306943] 0.996495651363045\n",
      "[0.99007727 0.00718037 0.0014095 ] 0.9986671446324218\n"
     ]
    },
    {
     "name": "stderr",
     "output_type": "stream",
     "text": [
      "\n",
      "1200it [01:53, 10.25it/s]\u001b[A\n"
     ]
    },
    {
     "name": "stdout",
     "output_type": "stream",
     "text": [
      "[0.98515091 0.01017564 0.00224958] 0.9975761333493638\n",
      "[0.97868787 0.01384467 0.00351133] 0.9960438719604829\n",
      "[0.98764146 0.00855479 0.00175089] 0.9979471330474354\n"
     ]
    },
    {
     "name": "stderr",
     "output_type": "stream",
     "text": [
      "1202it [01:53, 10.53it/s]\u001b[A\n",
      "1204it [01:53, 10.15it/s]\u001b[A"
     ]
    },
    {
     "name": "stdout",
     "output_type": "stream",
     "text": [
      "[0.99052623 0.00678753 0.00125979] 0.9985735506135286\n",
      "[0.99100874 0.00591883 0.00134153] 0.9982690964637067\n",
      "[9.92839829e-01 5.03535942e-03 9.38923525e-04] 0.9988141124215877\n"
     ]
    },
    {
     "name": "stderr",
     "output_type": "stream",
     "text": [
      "\n",
      "1206it [01:54, 10.24it/s]\u001b[A\n"
     ]
    },
    {
     "name": "stdout",
     "output_type": "stream",
     "text": [
      "[0.98634385 0.00939753 0.00188187] 0.9976232464865509\n",
      "[0.98406097 0.01043769 0.0024434 ] 0.9969420584487285\n",
      "[0.98978813 0.00688811 0.0014641 ] 0.9981403476869677\n"
     ]
    },
    {
     "name": "stderr",
     "output_type": "stream",
     "text": [
      "1208it [01:54, 10.53it/s]\u001b[A\n",
      "1210it [01:54, 10.64it/s]\u001b[A"
     ]
    },
    {
     "name": "stdout",
     "output_type": "stream",
     "text": [
      "[0.98988234 0.00682746 0.00149059] 0.9982003920987444\n",
      "[9.92883411e-01 5.15724283e-03 9.49577416e-04] 0.9989902317137067\n",
      "[9.92890405e-01 5.16162034e-03 9.47280939e-04] 0.9989993065512585\n"
     ]
    },
    {
     "name": "stderr",
     "output_type": "stream",
     "text": [
      "\n",
      "1212it [01:54, 10.62it/s]\u001b[A\n"
     ]
    },
    {
     "name": "stdout",
     "output_type": "stream",
     "text": [
      "[0.95594385 0.02888583 0.00696821] 0.9917978898028867\n",
      "[0.98881695 0.00768005 0.00169837] 0.9981953632284294\n",
      "[0.98769275 0.00851181 0.0018416 ] 0.9980461607074196\n"
     ]
    },
    {
     "name": "stderr",
     "output_type": "stream",
     "text": [
      "1214it [01:54, 10.53it/s]\u001b[A\n",
      "1216it [01:54, 10.62it/s]\u001b[A"
     ]
    },
    {
     "name": "stdout",
     "output_type": "stream",
     "text": [
      "[0.99140432 0.00584993 0.00130588] 0.9985601304289276\n",
      "[0.99305449 0.0047837  0.00100935] 0.9988475437461584\n",
      "[0.99259912 0.00504881 0.00107343] 0.9987213633821722\n"
     ]
    },
    {
     "name": "stderr",
     "output_type": "stream",
     "text": [
      "\n",
      "1218it [01:55, 10.60it/s]\u001b[A\n"
     ]
    },
    {
     "name": "stdout",
     "output_type": "stream",
     "text": [
      "[0.98523301 0.00996296 0.00229457] 0.9974905422008614\n",
      "[0.99027315 0.00698995 0.00135211] 0.9986152135808236\n",
      "[0.98887978 0.00786348 0.00159724] 0.9983404941422902\n"
     ]
    },
    {
     "name": "stderr",
     "output_type": "stream",
     "text": [
      "1220it [01:55, 10.53it/s]\u001b[A\n",
      "1222it [01:55, 10.65it/s]\u001b[A"
     ]
    },
    {
     "name": "stdout",
     "output_type": "stream",
     "text": [
      "[0.98575792 0.00978709 0.00213343] 0.9976784338551715\n",
      "[0.98863718 0.00757963 0.00183513] 0.9980519360809452\n",
      "[0.98899388 0.00733983 0.00176681] 0.998100519476777\n"
     ]
    },
    {
     "name": "stderr",
     "output_type": "stream",
     "text": [
      "\n",
      "1224it [01:55, 10.64it/s]\u001b[A\n"
     ]
    },
    {
     "name": "stdout",
     "output_type": "stream",
     "text": [
      "[9.92243199e-01 5.75379502e-03 9.79763846e-04] 0.9989767577868783\n",
      "[0.99080182 0.00656081 0.00127103] 0.9986336624506509\n",
      "[0.97101726 0.01885773 0.00479479] 0.9946697796282891\n"
     ]
    },
    {
     "name": "stderr",
     "output_type": "stream",
     "text": [
      "1226it [01:55, 10.54it/s]\u001b[A\n",
      "1228it [01:56, 10.58it/s]\u001b[A"
     ]
    },
    {
     "name": "stdout",
     "output_type": "stream",
     "text": [
      "[0.99240638 0.00502193 0.00123008] 0.998658392316197\n",
      "[0.98867093 0.00761763 0.00175478] 0.9980433416654404\n",
      "[0.98600368 0.00995114 0.00208596] 0.9980407875771024\n"
     ]
    },
    {
     "name": "stderr",
     "output_type": "stream",
     "text": [
      "\n",
      "1230it [01:56, 10.62it/s]\u001b[A\n"
     ]
    },
    {
     "name": "stdout",
     "output_type": "stream",
     "text": [
      "[0.98412771 0.01153079 0.00229916] 0.9979576590343628\n",
      "[0.9895577  0.00706044 0.00162637] 0.9982445105480537\n",
      "[0.98864812 0.00754355 0.00193289] 0.9981245550502876\n"
     ]
    },
    {
     "name": "stderr",
     "output_type": "stream",
     "text": [
      "1232it [01:56, 10.82it/s]\u001b[A\n",
      "1234it [01:56, 10.77it/s]\u001b[A"
     ]
    },
    {
     "name": "stdout",
     "output_type": "stream",
     "text": [
      "[0.99262955 0.00481149 0.00122122] 0.9986622653260023\n",
      "[9.93705096e-01 4.31534216e-03 9.47487249e-04] 0.9989679256397471\n",
      "[0.98735625 0.00883502 0.00193197] 0.9981232333105291\n"
     ]
    },
    {
     "name": "stderr",
     "output_type": "stream",
     "text": [
      "\n",
      "1236it [01:56, 10.49it/s]\u001b[A\n"
     ]
    },
    {
     "name": "stdout",
     "output_type": "stream",
     "text": [
      "[0.98601114 0.00930094 0.00234082] 0.9976529002974097\n",
      "[0.98894451 0.00780251 0.00164256] 0.9983895753891031\n",
      "[0.98956103 0.00753943 0.0014859 ] 0.9985863569794541\n"
     ]
    },
    {
     "name": "stderr",
     "output_type": "stream",
     "text": [
      "1238it [01:57, 10.36it/s]\u001b[A\n",
      "1240it [01:57, 10.59it/s]\u001b[A"
     ]
    },
    {
     "name": "stdout",
     "output_type": "stream",
     "text": [
      "[0.98193988 0.01270563 0.00265731] 0.9973028270934119\n",
      "[0.98253906 0.01221774 0.00264336] 0.9974001572472859\n",
      "[0.98702313 0.00927059 0.00190446] 0.9981981789769633\n"
     ]
    },
    {
     "name": "stderr",
     "output_type": "stream",
     "text": [
      "\n",
      "1242it [01:57, 10.58it/s]\u001b[A\n"
     ]
    },
    {
     "name": "stdout",
     "output_type": "stream",
     "text": [
      "[0.98813566 0.00835723 0.00175562] 0.9982485004009308\n",
      "[0.98776866 0.00880247 0.00177622] 0.998347350015344\n",
      "[0.98771105 0.00872713 0.00178007] 0.9982182487288801\n"
     ]
    },
    {
     "name": "stderr",
     "output_type": "stream",
     "text": [
      "1244it [01:57, 10.53it/s]\u001b[A\n",
      "1246it [01:57, 10.62it/s]\u001b[A"
     ]
    },
    {
     "name": "stdout",
     "output_type": "stream",
     "text": [
      "[0.98941907 0.00733205 0.00161176] 0.9983628788514081\n",
      "[0.98866476 0.00751452 0.00189695] 0.9980762378270815\n",
      "[0.98526597 0.01015724 0.00228373] 0.9977069401038441\n"
     ]
    },
    {
     "name": "stderr",
     "output_type": "stream",
     "text": [
      "\n",
      "1248it [01:58, 10.51it/s]\u001b[A\n",
      "1250it [01:58, 10.84it/s]\u001b[A"
     ]
    },
    {
     "name": "stdout",
     "output_type": "stream",
     "text": [
      "[0.9855141  0.01026467 0.00222117] 0.9979999343660284\n",
      "[0.98143803 0.01271853 0.00282429] 0.9969808551608057\n",
      "[0.98920007 0.00782397 0.00148532] 0.9985093635790027\n"
     ]
    },
    {
     "name": "stderr",
     "output_type": "stream",
     "text": [
      "\n",
      "1252it [01:58, 10.59it/s]\u001b[A"
     ]
    },
    {
     "name": "stdout",
     "output_type": "stream",
     "text": [
      "[0.98363525 0.01143539 0.00238875] 0.9974593829706929\n",
      "[0.98147275 0.01307437 0.00283156] 0.997378683569406\n",
      "[0.98727493 0.00859654 0.00196907] 0.9978405457605322\n"
     ]
    },
    {
     "name": "stderr",
     "output_type": "stream",
     "text": [
      "\n",
      "1254it [01:58, 10.26it/s]\u001b[A\n"
     ]
    },
    {
     "name": "stdout",
     "output_type": "stream",
     "text": [
      "[0.99201726 0.00547755 0.00117111] 0.9986659206549754\n",
      "[0.99161999 0.00567181 0.0012837 ] 0.9985755012251981\n",
      "[0.98645955 0.00888124 0.00217756] 0.9975183429593453\n"
     ]
    },
    {
     "name": "stderr",
     "output_type": "stream",
     "text": [
      "1256it [01:58, 10.33it/s]\u001b[A\n",
      "1258it [01:58, 10.47it/s]\u001b[A"
     ]
    },
    {
     "name": "stdout",
     "output_type": "stream",
     "text": [
      "[0.99336207 0.00426232 0.00113986] 0.9987642434916327\n",
      "[9.93776058e-01 4.43528251e-03 8.67989926e-04] 0.9990793304822749\n",
      "[9.94042816e-01 4.24794661e-03 8.30124066e-04] 0.999120886772557\n"
     ]
    },
    {
     "name": "stderr",
     "output_type": "stream",
     "text": [
      "\n",
      "1260it [01:59, 10.52it/s]\u001b[A\n",
      "1262it [01:59, 10.72it/s]\u001b[A"
     ]
    },
    {
     "name": "stdout",
     "output_type": "stream",
     "text": [
      "[0.96316978 0.02404866 0.005845  ] 0.9930634415020491\n",
      "[0.9916247  0.00552508 0.00140861] 0.9985583870846877\n",
      "[0.98875098 0.00769711 0.00179468] 0.9982427646477579\n"
     ]
    },
    {
     "name": "stderr",
     "output_type": "stream",
     "text": [
      "\n",
      "1264it [01:59, 10.49it/s]\u001b[A"
     ]
    },
    {
     "name": "stdout",
     "output_type": "stream",
     "text": [
      "[0.98810304 0.00829268 0.00177856] 0.9981742682602623\n",
      "[0.98496674 0.0104398  0.00221182] 0.9976183660902732\n",
      "[0.9874873  0.0089688  0.00178811] 0.9982442034883923\n"
     ]
    },
    {
     "name": "stderr",
     "output_type": "stream",
     "text": [
      "\n",
      "1266it [01:59, 10.50it/s]\u001b[A\n",
      "1268it [01:59, 10.74it/s]\u001b[A"
     ]
    },
    {
     "name": "stdout",
     "output_type": "stream",
     "text": [
      "[0.98257742 0.01233721 0.00255507] 0.9974697058941847\n",
      "[0.98354794 0.01129267 0.00259389] 0.9974345107889426\n",
      "[0.98846979 0.0080576  0.00169472] 0.9982221069136026\n"
     ]
    },
    {
     "name": "stderr",
     "output_type": "stream",
     "text": [
      "\n",
      "1270it [02:00, 10.72it/s]\u001b[A"
     ]
    },
    {
     "name": "stdout",
     "output_type": "stream",
     "text": [
      "[0.98759796 0.00858002 0.00191727] 0.9980952486259747\n",
      "[0.98633767 0.00961195 0.0019843 ] 0.997933922965163\n",
      "[0.98160295 0.01302217 0.00271524] 0.9973403613918513\n"
     ]
    },
    {
     "name": "stderr",
     "output_type": "stream",
     "text": [
      "\n",
      "1272it [02:00, 10.46it/s]\u001b[A\n"
     ]
    },
    {
     "name": "stdout",
     "output_type": "stream",
     "text": [
      "[0.98393379 0.01121424 0.00243504] 0.9975830698034033\n",
      "[0.98667442 0.00939196 0.00206185] 0.9981282296211912\n",
      "[0.98105227 0.01343844 0.00289013] 0.9973808443680753\n"
     ]
    },
    {
     "name": "stderr",
     "output_type": "stream",
     "text": [
      "1274it [02:00, 10.70it/s]\u001b[A\n",
      "1276it [02:00, 10.64it/s]\u001b[A"
     ]
    },
    {
     "name": "stdout",
     "output_type": "stream",
     "text": [
      "[0.97692657 0.01634    0.00352314] 0.9967897065770176\n",
      "[0.98321771 0.01211324 0.00249849] 0.9978294365012251\n",
      "[0.98396163 0.0114192  0.00239065] 0.9977714821349225\n"
     ]
    },
    {
     "name": "stderr",
     "output_type": "stream",
     "text": [
      "\n",
      "1278it [02:00, 10.44it/s]\u001b[A\n",
      "1280it [02:01, 10.56it/s]\u001b[A"
     ]
    },
    {
     "name": "stdout",
     "output_type": "stream",
     "text": [
      "[0.98315191 0.01231784 0.00242284] 0.9978925963927479\n",
      "[0.97450935 0.01859285 0.00368325] 0.9967854472572691\n",
      "[0.9794503  0.01520703 0.0029059 ] 0.9975632283932875\n"
     ]
    },
    {
     "name": "stderr",
     "output_type": "stream",
     "text": [
      "\n",
      "1282it [02:01, 10.52it/s]\u001b[A"
     ]
    },
    {
     "name": "stdout",
     "output_type": "stream",
     "text": [
      "[0.98120693 0.01357354 0.00272736] 0.9975078298159789\n",
      "[0.98349397 0.01176386 0.00246485] 0.9977226774010582\n",
      "[0.97920261 0.01491235 0.00310524] 0.9972201931609546\n"
     ]
    },
    {
     "name": "stderr",
     "output_type": "stream",
     "text": [
      "\n",
      "1284it [02:01, 10.52it/s]\u001b[A\n",
      "1286it [02:01, 10.76it/s]\u001b[A"
     ]
    },
    {
     "name": "stdout",
     "output_type": "stream",
     "text": [
      "[0.97658754 0.01698657 0.0034885 ] 0.9970626104962028\n",
      "[0.97899255 0.01524599 0.00314278] 0.9973813215642673\n",
      "[0.97879951 0.01502653 0.00326491] 0.9970909533422289\n"
     ]
    },
    {
     "name": "stderr",
     "output_type": "stream",
     "text": [
      "\n",
      "1288it [02:01, 10.52it/s]\u001b[A"
     ]
    },
    {
     "name": "stdout",
     "output_type": "stream",
     "text": [
      "[0.97543879 0.01771706 0.00356531] 0.9967211595259856\n",
      "[0.97944479 0.01522639 0.00284612] 0.997517295715526\n",
      "[0.98087908 0.01393241 0.00279163] 0.9976031166861127\n"
     ]
    },
    {
     "name": "stderr",
     "output_type": "stream",
     "text": [
      "\n",
      "1290it [02:01, 10.53it/s]\u001b[A\n"
     ]
    },
    {
     "name": "stdout",
     "output_type": "stream",
     "text": [
      "[0.98380656 0.01169358 0.00248961] 0.9979897512007062\n",
      "[0.98219084 0.01265302 0.00275517] 0.9975990375026369\n",
      "[0.98302034 0.01211344 0.00258195] 0.9977157348243614\n"
     ]
    },
    {
     "name": "stderr",
     "output_type": "stream",
     "text": [
      "1292it [02:02, 10.73it/s]\u001b[A\n",
      "1294it [02:02, 10.53it/s]\u001b[A"
     ]
    },
    {
     "name": "stdout",
     "output_type": "stream",
     "text": [
      "[0.98689487 0.00924317 0.00201024] 0.9981482797122138\n",
      "[0.9843136  0.01091244 0.00244738] 0.9976734144822911\n",
      "[0.98439615 0.01107246 0.00234597] 0.9978145715048737\n"
     ]
    },
    {
     "name": "stderr",
     "output_type": "stream",
     "text": [
      "\n",
      "1296it [02:02, 10.52it/s]\u001b[A\n"
     ]
    },
    {
     "name": "stdout",
     "output_type": "stream",
     "text": [
      "[0.98581373 0.01021953 0.00207492] 0.9981081837776289\n",
      "[0.97881831 0.01457254 0.00337343] 0.9967642880609798\n",
      "[0.97686731 0.01716412 0.00349388] 0.9975253087113133\n"
     ]
    },
    {
     "name": "stderr",
     "output_type": "stream",
     "text": [
      "1298it [02:02, 10.73it/s]\u001b[A\n",
      "1300it [02:02, 10.53it/s]\u001b[A"
     ]
    },
    {
     "name": "stdout",
     "output_type": "stream",
     "text": [
      "[0.98701882 0.00910166 0.00206979] 0.9981902742567337\n",
      "[0.98902199 0.0076662  0.00177613] 0.9984643130521257\n",
      "[0.9827722  0.01187125 0.00273175] 0.9973752014689836\n"
     ]
    },
    {
     "name": "stderr",
     "output_type": "stream",
     "text": [
      "\n",
      "1302it [02:03, 10.54it/s]\u001b[A\n"
     ]
    },
    {
     "name": "stdout",
     "output_type": "stream",
     "text": [
      "[0.98057321 0.01358972 0.00300181] 0.997164739297543\n",
      "[0.98591045 0.00977796 0.00221698] 0.9979053834593405\n",
      "[0.98590312 0.00980839 0.00221349] 0.9979250053468678\n"
     ]
    },
    {
     "name": "stderr",
     "output_type": "stream",
     "text": [
      "1304it [02:03, 10.47it/s]\u001b[A\n",
      "1306it [02:03, 10.58it/s]\u001b[A"
     ]
    },
    {
     "name": "stdout",
     "output_type": "stream",
     "text": [
      "[0.98642992 0.00987917 0.00201477] 0.9983238499972509\n",
      "[0.98355686 0.01151263 0.00249326] 0.9975627485514981\n",
      "[0.98327193 0.01206703 0.00251316] 0.997852116608499\n"
     ]
    },
    {
     "name": "stderr",
     "output_type": "stream",
     "text": [
      "\n",
      "1308it [02:03, 10.56it/s]\u001b[A\n"
     ]
    },
    {
     "name": "stdout",
     "output_type": "stream",
     "text": [
      "[0.9847763  0.01093581 0.00222057] 0.9979326843903891\n",
      "[0.98386586 0.01154557 0.00241082] 0.9978222459045669\n",
      "[0.98170292 0.01299886 0.00272951] 0.9974312922151785\n"
     ]
    },
    {
     "name": "stderr",
     "output_type": "stream",
     "text": [
      "1310it [02:03, 10.51it/s]\u001b[A\n",
      "1312it [02:04, 10.78it/s]\u001b[A"
     ]
    },
    {
     "name": "stdout",
     "output_type": "stream",
     "text": [
      "[0.9801461  0.01470851 0.00288619] 0.99774079834244\n",
      "[0.9780749  0.01571157 0.00334438] 0.9971308566700182\n",
      "[0.97793802 0.01546123 0.00333319] 0.9967324466232603\n"
     ]
    },
    {
     "name": "stderr",
     "output_type": "stream",
     "text": [
      "\n",
      "1314it [02:04, 10.55it/s]\u001b[A\n",
      "1316it [02:04, 10.76it/s]\u001b[A"
     ]
    },
    {
     "name": "stdout",
     "output_type": "stream",
     "text": [
      "[0.98646572 0.00988846 0.00190041] 0.9982545828799194\n",
      "[0.98715915 0.00930235 0.00182956] 0.9982910569377942\n",
      "[0.98242965 0.01276824 0.00249143] 0.9976893154494025\n"
     ]
    },
    {
     "name": "stderr",
     "output_type": "stream",
     "text": [
      "\n",
      "1318it [02:04, 10.66it/s]\u001b[A"
     ]
    },
    {
     "name": "stdout",
     "output_type": "stream",
     "text": [
      "[0.9819589  0.01293494 0.00266326] 0.9975570977944194\n",
      "[0.97509242 0.01796824 0.00364825] 0.9967089053000302\n",
      "[0.96796073 0.02385105 0.00458994] 0.9964017241092152\n"
     ]
    },
    {
     "name": "stderr",
     "output_type": "stream",
     "text": [
      "\n",
      "1320it [02:04, 10.50it/s]\u001b[A\n"
     ]
    },
    {
     "name": "stdout",
     "output_type": "stream",
     "text": [
      "[0.97381457 0.01954286 0.0035926 ] 0.9969500278789402\n",
      "[0.97799757 0.01649475 0.00296347] 0.9974557839977465\n",
      "[0.97814865 0.01620896 0.00303477] 0.9973923801823804\n"
     ]
    },
    {
     "name": "stderr",
     "output_type": "stream",
     "text": [
      "1322it [02:05, 10.72it/s]\u001b[A\n",
      "1324it [02:05, 10.78it/s]\u001b[A"
     ]
    },
    {
     "name": "stdout",
     "output_type": "stream",
     "text": [
      "[0.97751659 0.01601701 0.00330643] 0.9968400294105815\n",
      "[0.98389731 0.0119561  0.00224089] 0.998094297088244\n",
      "[0.98036324 0.01381525 0.00292039] 0.9970988809376189\n"
     ]
    },
    {
     "name": "stderr",
     "output_type": "stream",
     "text": [
      "\n",
      "1326it [02:05, 10.70it/s]\u001b[A\n"
     ]
    },
    {
     "name": "stdout",
     "output_type": "stream",
     "text": [
      "[0.9800823  0.01416306 0.00297415] 0.9972195210721063\n",
      "[0.98158906 0.01331737 0.00275898] 0.9976654110028059\n",
      "[0.97889017 0.01507414 0.00310477] 0.9970690769666991\n"
     ]
    },
    {
     "name": "stderr",
     "output_type": "stream",
     "text": [
      "1328it [02:05, 10.61it/s]\u001b[A\n",
      "1330it [02:05, 10.67it/s]\u001b[A"
     ]
    },
    {
     "name": "stdout",
     "output_type": "stream",
     "text": [
      "[0.98459956 0.0112987  0.00220214] 0.9981003937969023\n",
      "[0.98232409 0.01246895 0.0027111 ] 0.9975041477227649\n",
      "[0.98523132 0.01076715 0.00220126] 0.9981997287745297\n"
     ]
    },
    {
     "name": "stderr",
     "output_type": "stream",
     "text": [
      "\n",
      "1332it [02:05, 10.64it/s]\u001b[A\n"
     ]
    },
    {
     "name": "stdout",
     "output_type": "stream",
     "text": [
      "[0.98107721 0.01371585 0.00282377] 0.9976168249682602\n",
      "[0.96416736 0.02543025 0.00537379] 0.9949714004473414\n",
      "[0.97131931 0.02140358 0.0041273 ] 0.9968501837733023\n"
     ]
    },
    {
     "name": "stderr",
     "output_type": "stream",
     "text": [
      "1334it [02:06, 10.51it/s]\u001b[A\n",
      "1336it [02:06, 10.66it/s]\u001b[A"
     ]
    },
    {
     "name": "stdout",
     "output_type": "stream",
     "text": [
      "[0.98032836 0.01437586 0.00293667] 0.997640901268647\n",
      "[0.98380031 0.01169016 0.00239414] 0.9978846116010273\n",
      "[0.9839452  0.01124665 0.00254374] 0.9977355874445911\n"
     ]
    },
    {
     "name": "stderr",
     "output_type": "stream",
     "text": [
      "\n",
      "1338it [02:06, 10.63it/s]\u001b[A\n"
     ]
    },
    {
     "name": "stdout",
     "output_type": "stream",
     "text": [
      "[0.97962033 0.01410452 0.0029616 ] 0.9966864592543908\n",
      "[9.91156791e-01 7.04235761e-03 9.34116105e-04] 0.9991332647253732\n",
      "[0.9880976  0.0088515  0.00146904] 0.9984181284812065\n"
     ]
    },
    {
     "name": "stderr",
     "output_type": "stream",
     "text": [
      "1340it [02:06, 10.73it/s]\u001b[A\n",
      "1342it [02:06, 10.61it/s]\u001b[A"
     ]
    },
    {
     "name": "stdout",
     "output_type": "stream",
     "text": [
      "[0.98497077 0.01074787 0.00210533] 0.9978239803756034\n",
      "[0.98010645 0.01417609 0.00293475] 0.9972172918776643\n",
      "[0.97749676 0.01631177 0.00323878] 0.9970473191249167\n"
     ]
    },
    {
     "name": "stderr",
     "output_type": "stream",
     "text": [
      "\n",
      "1344it [02:07, 10.30it/s]\u001b[A\n"
     ]
    },
    {
     "name": "stdout",
     "output_type": "stream",
     "text": [
      "[0.97744069 0.01666362 0.00331383] 0.9974181468764111\n",
      "[0.97576151 0.01783678 0.00357786] 0.9971761471330968\n",
      "[0.97086725 0.02154944 0.00431271] 0.9967293905232519\n"
     ]
    },
    {
     "name": "stderr",
     "output_type": "stream",
     "text": [
      "1346it [02:07, 10.58it/s]\u001b[A\n",
      "1348it [02:07, 10.40it/s]\u001b[A"
     ]
    },
    {
     "name": "stdout",
     "output_type": "stream",
     "text": [
      "[0.98346888 0.01188126 0.00249203] 0.9978421692190252\n",
      "[0.9859054  0.01047457 0.00203304] 0.9984130116808918\n",
      "[0.97912769 0.0150365  0.00309371] 0.9972579043325737\n"
     ]
    },
    {
     "name": "stderr",
     "output_type": "stream",
     "text": [
      "\n",
      "1350it [02:07, 10.44it/s]\u001b[A\n"
     ]
    },
    {
     "name": "stdout",
     "output_type": "stream",
     "text": [
      "[0.98034143 0.01413181 0.00290514] 0.9973783827168421\n",
      "[0.98098912 0.01342943 0.00289399] 0.9973125412355361\n",
      "[0.98256801 0.01254357 0.00261844] 0.9977300089371204\n"
     ]
    },
    {
     "name": "stderr",
     "output_type": "stream",
     "text": [
      "1352it [02:07, 10.43it/s]\u001b[A\n",
      "1354it [02:08, 10.41it/s]\u001b[A"
     ]
    },
    {
     "name": "stdout",
     "output_type": "stream",
     "text": [
      "[0.97577356 0.01735062 0.00366871] 0.9967928860582418\n",
      "[0.97768409 0.01635093 0.00335379] 0.9973888071515176\n",
      "[0.97654075 0.01707752 0.00347224] 0.9970905026946204\n"
     ]
    },
    {
     "name": "stderr",
     "output_type": "stream",
     "text": [
      "\n",
      "1356it [02:08, 10.34it/s]\u001b[A\n",
      "1358it [02:08, 10.59it/s]\u001b[A"
     ]
    },
    {
     "name": "stdout",
     "output_type": "stream",
     "text": [
      "[0.9775703  0.0165261  0.00327854] 0.9973749447844379\n",
      "[0.97726107 0.01654763 0.00340674] 0.9972154361957075\n",
      "[0.98147202 0.0135005  0.00277136] 0.9977438813185532\n"
     ]
    },
    {
     "name": "stderr",
     "output_type": "stream",
     "text": [
      "\n",
      "1360it [02:08, 10.41it/s]\u001b[A"
     ]
    },
    {
     "name": "stdout",
     "output_type": "stream",
     "text": [
      "[0.98085749 0.01424132 0.00275344] 0.9978522465891534\n",
      "[0.97053433 0.02082307 0.00432475] 0.9956821435007762\n",
      "[0.98527617 0.01086518 0.00210447] 0.9982458199387414\n"
     ]
    },
    {
     "name": "stderr",
     "output_type": "stream",
     "text": [
      "\n",
      "1362it [02:08, 10.45it/s]\u001b[A\n"
     ]
    },
    {
     "name": "stdout",
     "output_type": "stream",
     "text": [
      "[0.98559511 0.01044927 0.00206526] 0.99810964499298\n",
      "[0.98105039 0.01351268 0.00284313] 0.9974062003404144\n",
      "[0.97724587 0.01617749 0.00341811] 0.9968414630121745\n"
     ]
    },
    {
     "name": "stderr",
     "output_type": "stream",
     "text": [
      "1364it [02:09, 10.41it/s]\u001b[A\n",
      "1366it [02:09, 10.56it/s]\u001b[A"
     ]
    },
    {
     "name": "stdout",
     "output_type": "stream",
     "text": [
      "[0.98032427 0.0144241  0.00285121] 0.9975995880891267\n",
      "[0.98037539 0.01418176 0.00299618] 0.9975533268094461\n"
     ]
    },
    {
     "name": "stderr",
     "output_type": "stream",
     "text": [
      "\n",
      "1368it [02:09, 10.57it/s]\u001b[A"
     ]
    },
    {
     "name": "stdout",
     "output_type": "stream",
     "text": [
      "[0.97757892 0.01629563 0.00331822] 0.9971927646333153\n",
      "[0.98322056 0.01195765 0.00256712] 0.9977453238030011\n",
      "[0.98583195 0.01005891 0.00210779] 0.9979986497109179\n"
     ]
    },
    {
     "name": "stderr",
     "output_type": "stream",
     "text": [
      "\n",
      "1370it [02:09, 10.64it/s]\u001b[A\n"
     ]
    },
    {
     "name": "stdout",
     "output_type": "stream",
     "text": [
      "[0.97766078 0.01525496 0.00343053] 0.996346277903423\n",
      "[0.98634482 0.00978538 0.00195056] 0.9980807549182303\n",
      "[0.98426877 0.01119465 0.00222379] 0.99768720923027\n"
     ]
    },
    {
     "name": "stderr",
     "output_type": "stream",
     "text": [
      "1372it [02:09, 10.54it/s]\u001b[A\n",
      "1374it [02:09, 10.65it/s]\u001b[A"
     ]
    },
    {
     "name": "stdout",
     "output_type": "stream",
     "text": [
      "[0.98395352 0.01170344 0.00218932] 0.9978462866398966\n",
      "[0.98366476 0.0125098  0.00206341] 0.9982379692780634\n"
     ]
    },
    {
     "name": "stderr",
     "output_type": "stream",
     "text": [
      "\n",
      "1376it [02:10, 10.66it/s]\u001b[A"
     ]
    },
    {
     "name": "stdout",
     "output_type": "stream",
     "text": [
      "[0.9811898  0.01439954 0.00244529] 0.9980346360156749\n",
      "[0.97742673 0.01703015 0.0029863 ] 0.997443171817216\n",
      "[0.97536355 0.01882131 0.00331618] 0.9975010399792079\n"
     ]
    },
    {
     "name": "stderr",
     "output_type": "stream",
     "text": [
      "\n",
      "1378it [02:10, 10.42it/s]\u001b[A\n"
     ]
    },
    {
     "name": "stdout",
     "output_type": "stream",
     "text": [
      "[0.97456489 0.01934123 0.00331783] 0.9972239479972317\n",
      "[0.98363798 0.01206106 0.00222424] 0.9979232810721705\n",
      "[0.985223   0.0105587  0.00219046] 0.9979721533533911\n"
     ]
    },
    {
     "name": "stderr",
     "output_type": "stream",
     "text": [
      "1380it [02:10, 10.42it/s]\u001b[A\n",
      "1382it [02:10, 10.43it/s]\u001b[A"
     ]
    },
    {
     "name": "stdout",
     "output_type": "stream",
     "text": [
      "[0.98470085 0.01132135 0.00201395] 0.9980361532669652\n",
      "[0.98070993 0.01478042 0.00231565] 0.9978060028133146\n",
      "[0.98121775 0.01491305 0.00217494] 0.9983057379860434\n"
     ]
    },
    {
     "name": "stderr",
     "output_type": "stream",
     "text": [
      "\n",
      "1384it [02:10, 10.60it/s]\u001b[A\n"
     ]
    },
    {
     "name": "stdout",
     "output_type": "stream",
     "text": [
      "[0.97639542 0.01822612 0.00290688] 0.9975284188823904\n",
      "[0.97776979 0.01742315 0.00264189] 0.9978348271787851\n",
      "[0.97569355 0.01851547 0.00302943] 0.997238451318563\n"
     ]
    },
    {
     "name": "stderr",
     "output_type": "stream",
     "text": [
      "1386it [02:11, 10.68it/s]\u001b[A\n",
      "1388it [02:11, 10.57it/s]\u001b[A"
     ]
    },
    {
     "name": "stdout",
     "output_type": "stream",
     "text": [
      "[0.97917226 0.01635219 0.00245734] 0.9979817874201216\n",
      "[0.97846423 0.01646239 0.00274849] 0.9976751097577945\n",
      "[0.98052294 0.01474496 0.00250396] 0.9977718525031228\n"
     ]
    },
    {
     "name": "stderr",
     "output_type": "stream",
     "text": [
      "\n",
      "1390it [02:11, 10.56it/s]\u001b[A\n"
     ]
    },
    {
     "name": "stdout",
     "output_type": "stream",
     "text": [
      "[0.97963122 0.01537742 0.00266836] 0.9976769908686074\n",
      "[0.9776724  0.01672461 0.00297389] 0.9973708957798874\n",
      "[0.97820027 0.01651579 0.00278551] 0.9975015660357927\n"
     ]
    },
    {
     "name": "stderr",
     "output_type": "stream",
     "text": [
      "1392it [02:11, 10.51it/s]\u001b[A\n",
      "1394it [02:11, 10.61it/s]\u001b[A"
     ]
    },
    {
     "name": "stdout",
     "output_type": "stream",
     "text": [
      "[0.98124974 0.01331842 0.00269155] 0.9972597084113998\n",
      "[0.98629129 0.00997563 0.00196117] 0.9982280878756298\n",
      "[0.985951   0.01025124 0.00189275] 0.9980949886403476\n"
     ]
    },
    {
     "name": "stderr",
     "output_type": "stream",
     "text": [
      "\n",
      "1396it [02:12, 10.53it/s]\u001b[A\n"
     ]
    },
    {
     "name": "stdout",
     "output_type": "stream",
     "text": [
      "[0.98340873 0.01207849 0.0022825 ] 0.9977697187465178\n",
      "[0.98363962 0.01190782 0.0023309 ] 0.9978783294840051\n",
      "[0.98332722 0.01237828 0.00229527] 0.9980007703055745\n"
     ]
    },
    {
     "name": "stderr",
     "output_type": "stream",
     "text": [
      "1398it [02:12, 10.54it/s]\u001b[A\n",
      "1400it [02:12, 10.38it/s]\u001b[A"
     ]
    },
    {
     "name": "stdout",
     "output_type": "stream",
     "text": [
      "[0.97713267 0.01646949 0.00326539] 0.9968675504295564\n",
      "[0.979377   0.01587454 0.00257478] 0.9978263164624951\n",
      "[0.97782054 0.01664806 0.00286305] 0.9973316477643397\n"
     ]
    },
    {
     "name": "stderr",
     "output_type": "stream",
     "text": [
      "\n",
      "1402it [02:12, 10.39it/s]\u001b[A\n"
     ]
    },
    {
     "name": "stdout",
     "output_type": "stream",
     "text": [
      "[0.98479443 0.01150853 0.00193908] 0.9982420379262286\n",
      "[0.98450325 0.01153611 0.00202594] 0.9980652999732108\n",
      "[0.98549724 0.01077856 0.00189172] 0.9981675293446893\n"
     ]
    },
    {
     "name": "stderr",
     "output_type": "stream",
     "text": [
      "1404it [02:12, 10.37it/s]\u001b[A\n",
      "1406it [02:13, 10.29it/s]\u001b[A"
     ]
    },
    {
     "name": "stdout",
     "output_type": "stream",
     "text": [
      "[0.9776727  0.01633357 0.00294099] 0.996947263654788\n",
      "[0.98122193 0.01421557 0.00232105] 0.9977585470164697\n"
     ]
    },
    {
     "name": "stderr",
     "output_type": "stream",
     "text": [
      "\n",
      "1408it [02:13, 10.39it/s]\u001b[A"
     ]
    },
    {
     "name": "stdout",
     "output_type": "stream",
     "text": [
      "[0.98373859 0.01262898 0.00192433] 0.9982918974560537\n",
      "[0.98371873 0.01272432 0.00192943] 0.9983724737116867\n",
      "[0.9838104  0.01232673 0.00196816] 0.998105294965996\n"
     ]
    },
    {
     "name": "stderr",
     "output_type": "stream",
     "text": [
      "\n",
      "1410it [02:13, 10.25it/s]\u001b[A\n"
     ]
    },
    {
     "name": "stdout",
     "output_type": "stream",
     "text": [
      "[0.98335608 0.01247032 0.00211345] 0.9979398428037939\n",
      "[0.98423527 0.01158491 0.00208388] 0.9979040603463661\n",
      "[0.98459611 0.01186749 0.00182733] 0.9982909291951003\n"
     ]
    },
    {
     "name": "stderr",
     "output_type": "stream",
     "text": [
      "1412it [02:13, 10.53it/s]\u001b[A\n",
      "1414it [02:13, 10.38it/s]\u001b[A"
     ]
    },
    {
     "name": "stdout",
     "output_type": "stream",
     "text": [
      "[0.98092409 0.01454637 0.00234769] 0.9978181481947073\n",
      "[0.97268466 0.02082862 0.00335321] 0.9968664877247951\n",
      "[0.97913162 0.01629312 0.00249628] 0.9979210230972485\n"
     ]
    },
    {
     "name": "stderr",
     "output_type": "stream",
     "text": [
      "\n",
      "1416it [02:13, 10.41it/s]\u001b[A\n"
     ]
    },
    {
     "name": "stdout",
     "output_type": "stream",
     "text": [
      "[0.9793457 0.0165861 0.0023222] 0.9982540105244817\n",
      "[0.97287216 0.02068862 0.00338115] 0.9969419297712824\n",
      "[0.97742146 0.01757785 0.00271128] 0.997710588616225\n"
     ]
    },
    {
     "name": "stderr",
     "output_type": "stream",
     "text": [
      "1418it [02:14, 10.35it/s]\u001b[A\n",
      "1420it [02:14, 10.30it/s]\u001b[A"
     ]
    },
    {
     "name": "stdout",
     "output_type": "stream",
     "text": [
      "[0.97272994 0.01943432 0.00382188] 0.9959861375169047\n",
      "[0.97833579 0.01597265 0.00296293] 0.997271373088441\n",
      "[0.98013734 0.01505414 0.0025322 ] 0.9977236759400997\n"
     ]
    },
    {
     "name": "stderr",
     "output_type": "stream",
     "text": [
      "\n",
      "1422it [02:14, 10.36it/s]\u001b[A\n"
     ]
    },
    {
     "name": "stdout",
     "output_type": "stream",
     "text": [
      "[0.97810122 0.01683112 0.00277495] 0.9977072845791553\n",
      "[0.97683217 0.01713175 0.00324369] 0.9972076098958201\n",
      "[0.97624812 0.01786978 0.00317951] 0.9972974094781406\n"
     ]
    },
    {
     "name": "stderr",
     "output_type": "stream",
     "text": [
      "1424it [02:14, 10.52it/s]\u001b[A\n",
      "1426it [02:14, 10.47it/s]\u001b[A"
     ]
    },
    {
     "name": "stdout",
     "output_type": "stream",
     "text": [
      "[0.97681092 0.01774239 0.00304821] 0.9976015250874604\n",
      "[0.97928552 0.01533777 0.00278557] 0.9974088611235363\n",
      "[0.98279276 0.01297504 0.00221356] 0.9979813688978938\n"
     ]
    },
    {
     "name": "stderr",
     "output_type": "stream",
     "text": [
      "\n",
      "1428it [02:15, 10.50it/s]\u001b[A\n"
     ]
    },
    {
     "name": "stdout",
     "output_type": "stream",
     "text": [
      "[0.97980453 0.01505916 0.00263477] 0.9974984547864941\n",
      "[0.97793544 0.01678201 0.00279163] 0.9975090780100767\n",
      "[0.98103248 0.01445804 0.00247016] 0.9979606798069693\n"
     ]
    },
    {
     "name": "stderr",
     "output_type": "stream",
     "text": [
      "1430it [02:15, 10.44it/s]\u001b[A\n",
      "1432it [02:15, 10.58it/s]\u001b[A"
     ]
    },
    {
     "name": "stdout",
     "output_type": "stream",
     "text": [
      "[0.97781596 0.0166106  0.00286232] 0.9972888795835465\n",
      "[0.97949073 0.01598639 0.00239902] 0.9978761405901453\n",
      "[0.97706526 0.01786858 0.00268224] 0.9976160862279324\n"
     ]
    },
    {
     "name": "stderr",
     "output_type": "stream",
     "text": [
      "\n",
      "1434it [02:15, 10.56it/s]\u001b[A\n",
      "1436it [02:15, 10.77it/s]\u001b[A"
     ]
    },
    {
     "name": "stdout",
     "output_type": "stream",
     "text": [
      "[0.97430217 0.01944971 0.00320763] 0.9969595133932765\n",
      "[0.98010085 0.01553142 0.00242379] 0.9980560656678862\n",
      "[0.97606243 0.01754638 0.00338073] 0.9969895315622819\n"
     ]
    },
    {
     "name": "stderr",
     "output_type": "stream",
     "text": [
      "\n",
      "1438it [02:16, 10.41it/s]\u001b[A"
     ]
    },
    {
     "name": "stdout",
     "output_type": "stream",
     "text": [
      "[0.97482655 0.01810625 0.0036007 ] 0.9965335042265558\n",
      "[0.98358164 0.01300374 0.00189772] 0.998483099408894\n",
      "[0.98159665 0.01380301 0.00238772] 0.997787378438722\n"
     ]
    },
    {
     "name": "stderr",
     "output_type": "stream",
     "text": [
      "\n",
      "1440it [02:16, 10.28it/s]\u001b[A\n"
     ]
    },
    {
     "name": "stdout",
     "output_type": "stream",
     "text": [
      "[0.97861119 0.01607638 0.00283115] 0.9975187205955643\n",
      "[0.98118045 0.01403061 0.0024732 ] 0.9976842641380417\n",
      "[0.98250006 0.0132665  0.00220759] 0.997974149294839\n"
     ]
    },
    {
     "name": "stderr",
     "output_type": "stream",
     "text": [
      "1442it [02:16, 10.33it/s]\u001b[A\n",
      "1444it [02:16, 10.50it/s]\u001b[A"
     ]
    },
    {
     "name": "stdout",
     "output_type": "stream",
     "text": [
      "[0.98053855 0.01464558 0.00241684] 0.9976009661273206\n",
      "[0.98283031 0.01361851 0.00188694] 0.9983357643554718\n",
      "[0.98173344 0.01430842 0.00205188] 0.9980937404830491\n"
     ]
    },
    {
     "name": "stderr",
     "output_type": "stream",
     "text": [
      "\n",
      "1446it [02:16, 10.51it/s]\u001b[A\n",
      "1448it [02:17, 10.72it/s]\u001b[A"
     ]
    },
    {
     "name": "stdout",
     "output_type": "stream",
     "text": [
      "[0.98300366 0.01279415 0.00214006] 0.997937881195443\n",
      "[0.98403972 0.01213802 0.00197215] 0.9981498874016494\n",
      "[0.98234686 0.01313129 0.00229404] 0.9977721860749599\n"
     ]
    },
    {
     "name": "stderr",
     "output_type": "stream",
     "text": [
      "\n",
      "1450it [02:17, 10.51it/s]\u001b[A"
     ]
    },
    {
     "name": "stdout",
     "output_type": "stream",
     "text": [
      "[0.9791088  0.01574672 0.00275165] 0.9976071736836868\n",
      "[0.98058812 0.01416195 0.0027362 ] 0.9974862737933429\n",
      "[0.98343859 0.0128338  0.00208029] 0.9983526792785518\n"
     ]
    },
    {
     "name": "stderr",
     "output_type": "stream",
     "text": [
      "\n",
      "1452it [02:17, 10.52it/s]\u001b[A\n"
     ]
    },
    {
     "name": "stdout",
     "output_type": "stream",
     "text": [
      "[0.98196336 0.01334317 0.00248528] 0.9977918050990283\n",
      "[0.98667799 0.00965022 0.00181718] 0.9981453841476918\n",
      "[0.99019777 0.00695011 0.00140742] 0.9985553072015797\n"
     ]
    },
    {
     "name": "stderr",
     "output_type": "stream",
     "text": [
      "1454it [02:17, 10.46it/s]\u001b[A\n",
      "1456it [02:17, 10.59it/s]\u001b[A"
     ]
    },
    {
     "name": "stdout",
     "output_type": "stream",
     "text": [
      "[0.99151298 0.00605471 0.00123316] 0.9988008503590106\n",
      "[0.98569804 0.01022431 0.0021201 ] 0.9980424425728729\n",
      "[0.97859224 0.01627017 0.00278676] 0.997649174594629\n"
     ]
    },
    {
     "name": "stderr",
     "output_type": "stream",
     "text": [
      "\n",
      "1458it [02:17, 10.57it/s]\u001b[A\n",
      "1460it [02:18, 10.72it/s]\u001b[A"
     ]
    },
    {
     "name": "stdout",
     "output_type": "stream",
     "text": [
      "[0.97208659 0.02063891 0.00377796] 0.996503463658586\n",
      "[0.97175042 0.02165992 0.00351679] 0.9969271271455264\n",
      "[0.96950434 0.02276578 0.00402551] 0.99629563360635\n"
     ]
    },
    {
     "name": "stderr",
     "output_type": "stream",
     "text": [
      "\n",
      "1462it [02:18, 10.54it/s]\u001b[A"
     ]
    },
    {
     "name": "stdout",
     "output_type": "stream",
     "text": [
      "[0.97445373 0.0192744  0.00327992] 0.9970080452845483\n",
      "[0.97945022 0.01613409 0.00240269] 0.9979869930625508\n",
      "[0.97673509 0.01748698 0.00292441] 0.9971464783884073\n"
     ]
    },
    {
     "name": "stderr",
     "output_type": "stream",
     "text": [
      "\n",
      "1464it [02:18, 10.55it/s]\u001b[A\n"
     ]
    },
    {
     "name": "stdout",
     "output_type": "stream",
     "text": [
      "[0.98483635 0.01145582 0.00192768] 0.9982198403372387\n",
      "[0.98660393 0.0102664  0.00161635] 0.9984866876933929\n",
      "[0.98629503 0.00947578 0.0019774 ] 0.9977482046391271\n"
     ]
    },
    {
     "name": "stderr",
     "output_type": "stream",
     "text": [
      "1466it [02:18, 10.50it/s]\u001b[A\n",
      "1468it [02:18, 10.62it/s]\u001b[A"
     ]
    },
    {
     "name": "stdout",
     "output_type": "stream",
     "text": [
      "[9.93388070e-01 4.93764421e-03 8.34269822e-04] 0.9991599844068471\n",
      "[0.98847287 0.0081064  0.00161211] 0.9981913802104236\n",
      "[0.98432469 0.01145252 0.00224055] 0.9980177622477618\n"
     ]
    },
    {
     "name": "stderr",
     "output_type": "stream",
     "text": [
      "\n",
      "1470it [02:19, 10.56it/s]\u001b[A\n"
     ]
    },
    {
     "name": "stdout",
     "output_type": "stream",
     "text": [
      "[0.9804608  0.01435173 0.00270682] 0.9975193551217217\n",
      "[0.98146424 0.01346389 0.00260645] 0.997534577306065\n",
      "[0.98779885 0.00903924 0.00161417] 0.9984522605590826\n"
     ]
    },
    {
     "name": "stderr",
     "output_type": "stream",
     "text": [
      "1472it [02:19, 10.79it/s]\u001b[A\n",
      "1474it [02:19, 10.56it/s]\u001b[A"
     ]
    },
    {
     "name": "stdout",
     "output_type": "stream",
     "text": [
      "[0.98365724 0.01207495 0.00214986] 0.9978820449665737\n",
      "[0.96993158 0.02127115 0.00430264] 0.9955053659178565\n",
      "[0.98059374 0.01531518 0.00221337] 0.9981222841014669\n"
     ]
    },
    {
     "name": "stderr",
     "output_type": "stream",
     "text": [
      "\n",
      "1476it [02:19, 10.54it/s]\u001b[A\n"
     ]
    },
    {
     "name": "stdout",
     "output_type": "stream",
     "text": [
      "[0.97351954 0.02033941 0.00330109] 0.9971600302335436\n",
      "[0.97894504 0.01603825 0.00268475] 0.9976680427207508\n",
      "[0.98394747 0.01244537 0.0019566 ] 0.9983494428367853\n"
     ]
    },
    {
     "name": "stderr",
     "output_type": "stream",
     "text": [
      "1478it [02:19, 10.74it/s]\u001b[A\n",
      "1480it [02:20, 10.46it/s]\u001b[A"
     ]
    },
    {
     "name": "stdout",
     "output_type": "stream",
     "text": [
      "[0.97718132 0.01688959 0.00308775] 0.9971586680674568\n",
      "[0.97679683 0.01833318 0.00273979] 0.9978697915535503\n",
      "[0.97941589 0.01591336 0.00261201] 0.9979412560320456\n"
     ]
    },
    {
     "name": "stderr",
     "output_type": "stream",
     "text": [
      "\n",
      "1482it [02:20, 10.30it/s]\u001b[A\n",
      "1484it [02:20, 10.56it/s]\u001b[A"
     ]
    },
    {
     "name": "stdout",
     "output_type": "stream",
     "text": [
      "[0.98030849 0.01517118 0.00248764] 0.9979673078897867\n",
      "[0.97917945 0.01569031 0.00273164] 0.9976013909925734\n",
      "[0.97855681 0.01629198 0.00277702] 0.9976258141454231\n"
     ]
    },
    {
     "name": "stderr",
     "output_type": "stream",
     "text": [
      "\n",
      "1486it [02:20, 10.65it/s]\u001b[A"
     ]
    },
    {
     "name": "stdout",
     "output_type": "stream",
     "text": [
      "[0.97806131 0.01717962 0.00267439] 0.9979153202990295\n",
      "[0.97407744 0.01980097 0.00335233] 0.9972307410000953\n",
      "[0.97448625 0.01984661 0.00316607] 0.9974989279556932\n"
     ]
    },
    {
     "name": "stderr",
     "output_type": "stream",
     "text": [
      "\n",
      "1488it [02:20, 10.38it/s]\u001b[A\n",
      "1490it [02:20, 10.62it/s]\u001b[A"
     ]
    },
    {
     "name": "stdout",
     "output_type": "stream",
     "text": [
      "[0.97563239 0.01860751 0.00305279] 0.9972926861287101\n",
      "[0.98139443 0.01457498 0.00225614] 0.9982255515022873\n",
      "[0.97847616 0.01653639 0.00271105] 0.9977235997557632\n"
     ]
    },
    {
     "name": "stderr",
     "output_type": "stream",
     "text": [
      "\n",
      "1492it [02:21, 10.43it/s]\u001b[A"
     ]
    },
    {
     "name": "stdout",
     "output_type": "stream",
     "text": [
      "[0.98140565 0.01321256 0.00262649] 0.9972446991306132\n",
      "[0.97424465 0.016709   0.00406829] 0.9950219426969817\n",
      "[0.98832121 0.00833306 0.0016148 ] 0.9982690701499974\n"
     ]
    },
    {
     "name": "stderr",
     "output_type": "stream",
     "text": [
      "\n",
      "1494it [02:21, 10.45it/s]\u001b[A\n"
     ]
    },
    {
     "name": "stdout",
     "output_type": "stream",
     "text": [
      "[0.98573246 0.00967135 0.00222356] 0.9976273757843055\n",
      "[0.98926756 0.00747649 0.00158959] 0.9983336430179541\n",
      "[0.98362834 0.01094776 0.00251224] 0.9970883476754702\n"
     ]
    },
    {
     "name": "stderr",
     "output_type": "stream",
     "text": [
      "1496it [02:21, 10.44it/s]\u001b[A\n",
      "1498it [02:21, 10.56it/s]\u001b[A"
     ]
    },
    {
     "name": "stdout",
     "output_type": "stream",
     "text": [
      "[0.99097396 0.00649651 0.00120396] 0.9986744321739928\n",
      "[0.98731134 0.00855732 0.00192088] 0.9977895330609299\n"
     ]
    },
    {
     "name": "stderr",
     "output_type": "stream",
     "text": [
      "\n",
      "1500it [02:21, 10.32it/s]\u001b[A"
     ]
    },
    {
     "name": "stdout",
     "output_type": "stream",
     "text": [
      "[0.98420581 0.01038552 0.00255303] 0.9971443576537923\n",
      "[0.98788548 0.0080036  0.00197605] 0.9978651251272767\n",
      "[0.98862273 0.00770256 0.00180805] 0.9981333383812051\n"
     ]
    },
    {
     "name": "stderr",
     "output_type": "stream",
     "text": [
      "\n",
      "1502it [02:22, 10.19it/s]\u001b[A\n"
     ]
    },
    {
     "name": "stdout",
     "output_type": "stream",
     "text": [
      "[0.97615319 0.01602898 0.00369277] 0.9958749331541021\n",
      "[0.98868387 0.00833613 0.00154303] 0.9985630277135724\n",
      "[0.98411386 0.01123697 0.00228158] 0.9976323989157503\n"
     ]
    },
    {
     "name": "stderr",
     "output_type": "stream",
     "text": [
      "1504it [02:22, 10.50it/s]\u001b[A\n",
      "1506it [02:22, 10.36it/s]\u001b[A"
     ]
    },
    {
     "name": "stdout",
     "output_type": "stream",
     "text": [
      "[0.97866648 0.01521037 0.00329101] 0.9971678573882132\n",
      "[0.98184519 0.01314574 0.00278466] 0.9977755947448619\n",
      "[0.98314066 0.01219005 0.00253561] 0.9978663285140285\n"
     ]
    },
    {
     "name": "stderr",
     "output_type": "stream",
     "text": [
      "\n",
      "1508it [02:22, 10.42it/s]\u001b[A\n"
     ]
    },
    {
     "name": "stdout",
     "output_type": "stream",
     "text": [
      "[0.9766218  0.01698451 0.00348631] 0.9970926238054616\n",
      "[0.97577884 0.01627292 0.00371115] 0.9957629065183844\n",
      "[0.9892812  0.00755378 0.00152683] 0.9983618055568918\n"
     ]
    },
    {
     "name": "stderr",
     "output_type": "stream",
     "text": [
      "1510it [02:22, 10.39it/s]\u001b[A\n",
      "1512it [02:23, 10.46it/s]\u001b[A"
     ]
    },
    {
     "name": "stdout",
     "output_type": "stream",
     "text": [
      "[0.98714059 0.0088673  0.00186327] 0.9978711610562494\n",
      "[0.98510356 0.01023833 0.00219349] 0.9975353829419173\n",
      "[0.98951188 0.00744451 0.00144734] 0.9984037357621597\n"
     ]
    },
    {
     "name": "stderr",
     "output_type": "stream",
     "text": [
      "\n",
      "1514it [02:23, 10.54it/s]\u001b[A\n"
     ]
    },
    {
     "name": "stdout",
     "output_type": "stream",
     "text": [
      "[0.98688441 0.00912614 0.00185125] 0.9978617940138673\n",
      "[0.97585208 0.01612978 0.00374847] 0.9957303258681489\n",
      "[0.99006814 0.00651216 0.00165599] 0.9982362885485323\n"
     ]
    },
    {
     "name": "stderr",
     "output_type": "stream",
     "text": [
      "1516it [02:23, 10.49it/s]\u001b[A\n",
      "1518it [02:23, 10.61it/s]\u001b[A"
     ]
    },
    {
     "name": "stdout",
     "output_type": "stream",
     "text": [
      "[0.99102771 0.00571197 0.00171314] 0.9984528210661069\n",
      "[0.99127818 0.00573348 0.00157951] 0.9985911692571099\n",
      "[0.98455563 0.01048899 0.00240181] 0.9974464316190984\n"
     ]
    },
    {
     "name": "stderr",
     "output_type": "stream",
     "text": [
      "\n",
      "1520it [02:23, 10.58it/s]\u001b[A"
     ]
    },
    {
     "name": "stdout",
     "output_type": "stream",
     "text": [
      "[0.98777185 0.00897109 0.00168983] 0.9984327695071114\n",
      "[0.97731953 0.01537151 0.00345536] 0.9961464099524232\n"
     ]
    },
    {
     "name": "stderr",
     "output_type": "stream",
     "text": [
      "\n",
      "1522it [02:24, 10.32it/s]\u001b[A\n"
     ]
    },
    {
     "name": "stdout",
     "output_type": "stream",
     "text": [
      "[0.98539445 0.01040328 0.00221085] 0.9980085820474246\n",
      "[0.98218611 0.01259851 0.0028103 ] 0.9975949196004578\n",
      "[0.98699534 0.00911414 0.00196159] 0.99807107103171\n"
     ]
    },
    {
     "name": "stderr",
     "output_type": "stream",
     "text": [
      "1524it [02:24, 10.43it/s]\u001b[A\n",
      "1526it [02:24, 10.55it/s]\u001b[A"
     ]
    },
    {
     "name": "stdout",
     "output_type": "stream",
     "text": [
      "[0.9877533  0.00844108 0.00188614] 0.998080516742704\n",
      "[0.98778337 0.00850815 0.00189326] 0.9981847794779268\n",
      "[0.98908637 0.00741906 0.00175358] 0.9982590036131447\n"
     ]
    },
    {
     "name": "stderr",
     "output_type": "stream",
     "text": [
      "\n",
      "1528it [02:24, 10.29it/s]\u001b[A\n"
     ]
    },
    {
     "name": "stdout",
     "output_type": "stream",
     "text": [
      "[0.98903941 0.00745228 0.00170322] 0.998194901603176\n",
      "[0.98665994 0.00938129 0.00204099] 0.9980822190576305\n",
      "[0.97770195 0.01532862 0.00331018] 0.996340748304396\n"
     ]
    },
    {
     "name": "stderr",
     "output_type": "stream",
     "text": [
      "1530it [02:24, 10.48it/s]\u001b[A\n",
      "1532it [02:25, 10.38it/s]\u001b[A"
     ]
    },
    {
     "name": "stdout",
     "output_type": "stream",
     "text": [
      "[0.98780849 0.00898525 0.00162474] 0.9984184748584078\n",
      "[0.98057754 0.01322098 0.00290099] 0.9966995169802252\n",
      "[0.98353651 0.01181856 0.00250426] 0.9978593348088004\n"
     ]
    },
    {
     "name": "stderr",
     "output_type": "stream",
     "text": [
      "\n",
      "1534it [02:25, 10.46it/s]\u001b[A\n"
     ]
    },
    {
     "name": "stdout",
     "output_type": "stream",
     "text": [
      "[0.98224268 0.01273157 0.00271089] 0.9976851352180066\n",
      "[0.96318634 0.02438724 0.00579716] 0.9933707419450813\n",
      "[0.98383836 0.011037   0.00235947] 0.9972348226949603\n"
     ]
    },
    {
     "name": "stderr",
     "output_type": "stream",
     "text": [
      "1536it [02:25, 10.44it/s]\u001b[A\n",
      "1538it [02:25, 10.56it/s]\u001b[A"
     ]
    },
    {
     "name": "stdout",
     "output_type": "stream",
     "text": [
      "[0.99148834 0.0061952  0.00112278] 0.9988063182341611\n",
      "[0.98117507 0.01251886 0.00290637] 0.9966002971936123\n",
      "[0.98595762 0.00954151 0.0021009 ] 0.9976000361626547\n"
     ]
    },
    {
     "name": "stderr",
     "output_type": "stream",
     "text": [
      "\n",
      "1540it [02:25, 10.30it/s]\u001b[A\n",
      "1542it [02:25, 10.56it/s]\u001b[A"
     ]
    },
    {
     "name": "stdout",
     "output_type": "stream",
     "text": [
      "[0.99051108 0.00656037 0.00139975] 0.9984711945530252\n",
      "[0.9902102  0.00679889 0.00143158] 0.9984406673863329\n",
      "[0.98406604 0.01072962 0.00246685] 0.997262503819185\n"
     ]
    },
    {
     "name": "stderr",
     "output_type": "stream",
     "text": [
      "\n",
      "1544it [02:26, 10.11it/s]\u001b[A"
     ]
    },
    {
     "name": "stdout",
     "output_type": "stream",
     "text": [
      "[0.98291535 0.01173764 0.0025442 ] 0.9971971779907199\n",
      "[0.98870244 0.00818681 0.00152631] 0.9984155605684913\n",
      "[0.98257546 0.01206074 0.00255528] 0.9971914840302427\n"
     ]
    },
    {
     "name": "stderr",
     "output_type": "stream",
     "text": [
      "\n",
      "1546it [02:26, 10.25it/s]\u001b[A\n"
     ]
    },
    {
     "name": "stdout",
     "output_type": "stream",
     "text": [
      "[0.98066655 0.01315637 0.00289795] 0.9967208625226021\n",
      "[0.98928556 0.00771148 0.00151135] 0.9985083836258323\n",
      "[0.97915825 0.01406227 0.00316247] 0.9963829828357329\n"
     ]
    },
    {
     "name": "stderr",
     "output_type": "stream",
     "text": [
      "1548it [02:26, 10.52it/s]\u001b[A\n",
      "1550it [02:26, 10.04it/s]\u001b[A"
     ]
    },
    {
     "name": "stdout",
     "output_type": "stream",
     "text": [
      "[0.99151579 0.0062831  0.00112103] 0.9989199266990483\n",
      "[0.98797999 0.00852349 0.00169928] 0.9982027595439443\n",
      "[0.98419439 0.01057386 0.00239256] 0.9971608118843321\n"
     ]
    },
    {
     "name": "stderr",
     "output_type": "stream",
     "text": [
      "\n",
      "1552it [02:26, 10.28it/s]\u001b[A\n",
      "1554it [02:27, 10.51it/s]\u001b[A"
     ]
    },
    {
     "name": "stdout",
     "output_type": "stream",
     "text": [
      "[0.99214362 0.0057165  0.00105189] 0.9989120051956397\n",
      "[0.9728063  0.01790023 0.00427538] 0.9949819038792828\n",
      "[0.97683834 0.01545872 0.00361408] 0.9959111412154908\n"
     ]
    },
    {
     "name": "stderr",
     "output_type": "stream",
     "text": [
      "\n",
      "1556it [02:27, 10.40it/s]\u001b[A"
     ]
    },
    {
     "name": "stdout",
     "output_type": "stream",
     "text": [
      "[0.99141677 0.00616971 0.00122871] 0.9988151846403618\n",
      "[0.98795027 0.00825622 0.00183019] 0.9980366781289544\n",
      "[0.97844816 0.01443929 0.00338428] 0.9962717352148922\n"
     ]
    },
    {
     "name": "stderr",
     "output_type": "stream",
     "text": [
      "\n",
      "1558it [02:27, 10.20it/s]\u001b[A\n",
      "1560it [02:27, 10.49it/s]\u001b[A"
     ]
    },
    {
     "name": "stdout",
     "output_type": "stream",
     "text": [
      "[0.98939385 0.00757724 0.00155437] 0.998525457706253\n",
      "[0.98428889 0.01088943 0.00235024] 0.9975285567960833\n",
      "[0.97874811 0.0153214  0.00336974] 0.9974392540855339\n"
     ]
    },
    {
     "name": "stderr",
     "output_type": "stream",
     "text": [
      "\n",
      "1562it [02:27, 10.34it/s]\u001b[A"
     ]
    },
    {
     "name": "stdout",
     "output_type": "stream",
     "text": [
      "[0.97970576 0.01487469 0.00310627] 0.9976867181487851\n",
      "[0.983464   0.01213533 0.00243055] 0.9980298786227465\n",
      "[0.98031836 0.01419937 0.00302532] 0.9975430455913403\n"
     ]
    },
    {
     "name": "stderr",
     "output_type": "stream",
     "text": [
      "\n",
      "1564it [02:28, 10.42it/s]\u001b[A\n"
     ]
    },
    {
     "name": "stdout",
     "output_type": "stream",
     "text": [
      "[0.98139232 0.01346854 0.00286807] 0.9977289360429056\n",
      "[0.98101112 0.01386667 0.00292249] 0.9978002891403027\n",
      "[0.96296786 0.02541725 0.00577554] 0.9941606511034606\n"
     ]
    },
    {
     "name": "stderr",
     "output_type": "stream",
     "text": [
      "1566it [02:28, 10.39it/s]\u001b[A\n",
      "1568it [02:28, 10.52it/s]\u001b[A"
     ]
    },
    {
     "name": "stdout",
     "output_type": "stream",
     "text": [
      "[0.98755511 0.00891208 0.00174987] 0.9982170603182061\n",
      "[0.98877452 0.00800922 0.00157161] 0.9983553556835695\n",
      "[0.98409803 0.01056858 0.00254179] 0.9972083937302049\n"
     ]
    },
    {
     "name": "stderr",
     "output_type": "stream",
     "text": [
      "\n",
      "1570it [02:28, 10.52it/s]\u001b[A\n"
     ]
    },
    {
     "name": "stdout",
     "output_type": "stream",
     "text": [
      "[0.98695439 0.00903714 0.00223613] 0.9982276665199017\n",
      "[0.98482016 0.01073773 0.00233216] 0.9978900503864926\n",
      "[0.98089778 0.01371506 0.00288483] 0.9974976744478629\n"
     ]
    },
    {
     "name": "stderr",
     "output_type": "stream",
     "text": [
      "1572it [02:28, 10.41it/s]\u001b[A\n",
      "1574it [02:29, 10.50it/s]\u001b[A"
     ]
    },
    {
     "name": "stdout",
     "output_type": "stream",
     "text": [
      "[0.98338629 0.01223816 0.00238532] 0.9980097695108261\n",
      "[0.98883488 0.00756223 0.00175884] 0.9981559503880557\n",
      "[0.98552539 0.00980404 0.0022051 ] 0.9975345249387317\n"
     ]
    },
    {
     "name": "stderr",
     "output_type": "stream",
     "text": [
      "\n",
      "1576it [02:29, 10.64it/s]\u001b[A\n"
     ]
    },
    {
     "name": "stdout",
     "output_type": "stream",
     "text": [
      "[0.99015792 0.0070595  0.00134117] 0.9985585921862288\n",
      "[0.98705611 0.00918901 0.00181168] 0.9980567919964961\n",
      "[0.979165   0.01404105 0.00322672] 0.996432767932543\n"
     ]
    },
    {
     "name": "stderr",
     "output_type": "stream",
     "text": [
      "1578it [02:29, 10.53it/s]\u001b[A\n",
      "1580it [02:29, 10.40it/s]\u001b[A"
     ]
    },
    {
     "name": "stdout",
     "output_type": "stream",
     "text": [
      "[0.98714188 0.00907818 0.00202434] 0.9982443930674064\n",
      "[0.98678953 0.00951731 0.00204045] 0.9983472906073726\n",
      "[0.98461598 0.01091461 0.00238771] 0.9979182941872871\n"
     ]
    },
    {
     "name": "stderr",
     "output_type": "stream",
     "text": [
      "\n",
      "1582it [02:29, 10.44it/s]\u001b[A"
     ]
    },
    {
     "name": "stdout",
     "output_type": "stream",
     "text": [
      "[0.98011658 0.01406426 0.00311156] 0.9972923985274907\n",
      "[0.98651189 0.00930066 0.00202971] 0.9978422503772083\n",
      "[0.99122441 0.00619919 0.00125062] 0.9986742180003128\n"
     ]
    },
    {
     "name": "stderr",
     "output_type": "stream",
     "text": [
      "\n",
      "1584it [02:30, 10.36it/s]\u001b[A\n",
      "1586it [02:30, 10.55it/s]\u001b[A"
     ]
    },
    {
     "name": "stdout",
     "output_type": "stream",
     "text": [
      "[0.98557324 0.00967054 0.00222297] 0.9974667539626988\n",
      "[0.97964526 0.01378843 0.00317177] 0.9966054621814516\n",
      "[0.9796661  0.01507722 0.00295808] 0.9977014014029995\n"
     ]
    },
    {
     "name": "stderr",
     "output_type": "stream",
     "text": [
      "\n",
      "1588it [02:30, 10.57it/s]\u001b[A\n"
     ]
    },
    {
     "name": "stdout",
     "output_type": "stream",
     "text": [
      "[0.98451528 0.01110329 0.00227154] 0.9978901088956272\n",
      "[0.98436539 0.01097236 0.00238136] 0.9977191156971437\n",
      "[0.9838656  0.01144478 0.00243662] 0.9977470019462626\n"
     ]
    },
    {
     "name": "stderr",
     "output_type": "stream",
     "text": [
      "1590it [02:30, 10.49it/s]\u001b[A\n",
      "1592it [02:30, 10.60it/s]\u001b[A"
     ]
    },
    {
     "name": "stdout",
     "output_type": "stream",
     "text": [
      "[0.98462691 0.01083241 0.00246511] 0.9979244278889892\n",
      "[0.98790123 0.00835653 0.00179938] 0.998057137636905\n"
     ]
    },
    {
     "name": "stderr",
     "output_type": "stream",
     "text": [
      "\n",
      "1594it [02:30, 10.60it/s]\u001b[A"
     ]
    },
    {
     "name": "stdout",
     "output_type": "stream",
     "text": [
      "[0.99139451 0.00626216 0.00117274] 0.9988294108342791\n",
      "[0.97469335 0.01685001 0.00393483] 0.9954781936730501\n",
      "[0.9771571  0.01692439 0.00330579] 0.9973872767410236\n"
     ]
    },
    {
     "name": "stderr",
     "output_type": "stream",
     "text": [
      "\n",
      "1596it [02:31, 10.40it/s]\u001b[A\n"
     ]
    },
    {
     "name": "stdout",
     "output_type": "stream",
     "text": [
      "[0.97700052 0.0165763  0.00342982] 0.9970066463279648\n",
      "[0.98012885 0.01450365 0.00294576] 0.9975782581229773\n",
      "[0.98527901 0.01057306 0.00214086] 0.9979929314336772\n"
     ]
    },
    {
     "name": "stderr",
     "output_type": "stream",
     "text": [
      "1598it [02:31, 10.39it/s]\u001b[A\n",
      "1600it [02:31, 10.52it/s]\u001b[A"
     ]
    },
    {
     "name": "stdout",
     "output_type": "stream",
     "text": [
      "[0.98245545 0.0117609  0.00269264] 0.9969089972675117\n",
      "[0.99016106 0.00669943 0.00145728] 0.9983177718083814\n",
      "[0.98778811 0.00818733 0.00190903] 0.9978844728828817\n"
     ]
    },
    {
     "name": "stderr",
     "output_type": "stream",
     "text": [
      "\n",
      "1602it [02:31, 10.54it/s]\u001b[A"
     ]
    },
    {
     "name": "stdout",
     "output_type": "stream",
     "text": [
      "[0.98739674 0.0083302  0.00203211] 0.997759046483926\n",
      "[0.98406342 0.01134177 0.00244971] 0.9978548953469822\n"
     ]
    },
    {
     "name": "stderr",
     "output_type": "stream",
     "text": [
      "\n",
      "1604it [02:31, 10.24it/s]\u001b[A\n"
     ]
    },
    {
     "name": "stdout",
     "output_type": "stream",
     "text": [
      "[0.97927694 0.01471367 0.00325323] 0.997243840560416\n",
      "[0.98598809 0.00991526 0.00226955] 0.9981729014713556\n",
      "[0.98766802 0.0085687  0.00201686] 0.9982535787185376\n"
     ]
    },
    {
     "name": "stderr",
     "output_type": "stream",
     "text": [
      "1606it [02:32, 10.31it/s]\u001b[A\n",
      "1608it [02:32, 10.31it/s]\u001b[A"
     ]
    },
    {
     "name": "stdout",
     "output_type": "stream",
     "text": [
      "[0.98442383 0.01063746 0.00241017] 0.9974714665921447\n",
      "[0.98800124 0.00882725 0.00167163] 0.9985001226681207\n",
      "[0.97576871 0.01648064 0.00367897] 0.9959283226388047\n"
     ]
    },
    {
     "name": "stderr",
     "output_type": "stream",
     "text": [
      "\n",
      "1610it [02:32, 10.38it/s]\u001b[A\n",
      "1612it [02:32, 10.63it/s]\u001b[A"
     ]
    },
    {
     "name": "stdout",
     "output_type": "stream",
     "text": [
      "[0.99331565 0.00457262 0.00112021] 0.9990084786667988\n",
      "[0.98719789 0.00843453 0.00207169] 0.9977040989087681\n",
      "[0.98667746 0.00893379 0.00209643] 0.9977076737436826\n"
     ]
    },
    {
     "name": "stderr",
     "output_type": "stream",
     "text": [
      "\n",
      "1614it [02:32, 10.62it/s]\u001b[A"
     ]
    },
    {
     "name": "stdout",
     "output_type": "stream",
     "text": [
      "[0.99288495 0.00508791 0.00101064] 0.9989835000528968\n",
      "[0.98828718 0.00844106 0.00159618] 0.9983244183913723\n",
      "[0.9841646  0.01095628 0.00233363] 0.997454509054108\n"
     ]
    },
    {
     "name": "stderr",
     "output_type": "stream",
     "text": [
      "\n",
      "1616it [02:33, 10.38it/s]\u001b[A"
     ]
    },
    {
     "name": "stdout",
     "output_type": "stream",
     "text": [
      "[0.98735785 0.00885732 0.00180316] 0.9980183254389371\n",
      "[0.98804292 0.00833889 0.0017836 ] 0.9981654050385417\n",
      "[0.97853965 0.01463871 0.00333332] 0.9965116813425867\n"
     ]
    },
    {
     "name": "stderr",
     "output_type": "stream",
     "text": [
      "\n",
      "1618it [02:33, 10.15it/s]\u001b[A\n",
      "1620it [02:33, 10.37it/s]\u001b[A"
     ]
    },
    {
     "name": "stdout",
     "output_type": "stream",
     "text": [
      "[0.97764721 0.01637091 0.00325964] 0.9972777712298749\n",
      "[0.96829447 0.02355319 0.00479241] 0.9966400651554274\n",
      "[0.96818306 0.02323485 0.00482973] 0.9962476387077038\n"
     ]
    },
    {
     "name": "stderr",
     "output_type": "stream",
     "text": [
      "\n",
      "1622it [02:33, 10.41it/s]\u001b[A\n"
     ]
    },
    {
     "name": "stdout",
     "output_type": "stream",
     "text": [
      "[0.98246963 0.0119453  0.00257778] 0.996992709979891\n",
      "[0.99133202 0.0064343  0.00111958] 0.9988858983720809\n",
      "[0.96224176 0.02482392 0.00589669] 0.9929623730553071\n"
     ]
    },
    {
     "name": "stderr",
     "output_type": "stream",
     "text": [
      "1624it [02:33, 10.40it/s]\u001b[A\n",
      "1626it [02:34, 10.42it/s]\u001b[A"
     ]
    },
    {
     "name": "stdout",
     "output_type": "stream",
     "text": [
      "[0.98072046 0.01374482 0.00293185] 0.9973971317541578\n",
      "[0.98370186 0.01178888 0.00253439] 0.9980251255685072\n",
      "[0.98386503 0.0115084  0.00244753] 0.9978209579574882\n"
     ]
    },
    {
     "name": "stderr",
     "output_type": "stream",
     "text": [
      "\n",
      "1628it [02:34, 10.57it/s]\u001b[A\n"
     ]
    },
    {
     "name": "stdout",
     "output_type": "stream",
     "text": [
      "[0.98525663 0.01055168 0.00207833] 0.9978866439106384\n",
      "[0.98720246 0.00938379 0.00176375] 0.9983499952295938\n",
      "[0.97189534 0.01888552 0.00433348] 0.9951143364764822\n"
     ]
    },
    {
     "name": "stderr",
     "output_type": "stream",
     "text": [
      "1630it [02:34, 10.78it/s]\u001b[A\n",
      "1632it [02:34, 10.55it/s]\u001b[A"
     ]
    },
    {
     "name": "stdout",
     "output_type": "stream",
     "text": [
      "[0.98167262 0.01311368 0.00278232] 0.9975686207815005\n",
      "[0.9812729  0.01362354 0.00284146] 0.9977379013905322\n",
      "[0.97996191 0.01379071 0.00303582] 0.996788444280967\n"
     ]
    },
    {
     "name": "stderr",
     "output_type": "stream",
     "text": [
      "\n",
      "1634it [02:34, 10.54it/s]\u001b[A\n",
      "1636it [02:34, 10.72it/s]\u001b[A"
     ]
    },
    {
     "name": "stdout",
     "output_type": "stream",
     "text": [
      "[0.99057602 0.00703324 0.00127328] 0.9988825380686419\n",
      "[0.98136335 0.01274744 0.00283878] 0.9969495627111509\n",
      "[0.979248   0.01506443 0.0031792 ] 0.9974916282846479\n"
     ]
    },
    {
     "name": "stderr",
     "output_type": "stream",
     "text": [
      "\n",
      "1638it [02:35, 10.51it/s]\u001b[A"
     ]
    },
    {
     "name": "stdout",
     "output_type": "stream",
     "text": [
      "[0.98016384 0.01448057 0.00306493] 0.9977093433825612\n",
      "[0.98096503 0.0139178  0.00294204] 0.9978248688079604\n",
      "[0.98570393 0.00958332 0.00219309] 0.9974803409101081\n"
     ]
    },
    {
     "name": "stderr",
     "output_type": "stream",
     "text": [
      "\n",
      "1640it [02:35, 10.54it/s]\u001b[A\n",
      "1642it [02:35, 10.75it/s]\u001b[A"
     ]
    },
    {
     "name": "stdout",
     "output_type": "stream",
     "text": [
      "[9.92843405e-01 5.15765163e-03 9.90952557e-04] 0.9989920087138227\n",
      "[0.97484836 0.01660379 0.00392157] 0.9953737220720525\n",
      "[0.97425483 0.01817947 0.00392863] 0.9963629222661144\n"
     ]
    },
    {
     "name": "stderr",
     "output_type": "stream",
     "text": [
      "\n",
      "1644it [02:35, 10.52it/s]\u001b[A"
     ]
    },
    {
     "name": "stdout",
     "output_type": "stream",
     "text": [
      "[0.98090971 0.01398252 0.00283626] 0.9977284915323656\n",
      "[0.97888529 0.0157308  0.00300145] 0.997617539808739\n",
      "[0.96743184 0.02163986 0.00506041] 0.9941321056138475\n"
     ]
    },
    {
     "name": "stderr",
     "output_type": "stream",
     "text": [
      "\n",
      "1646it [02:35, 10.53it/s]\u001b[A\n"
     ]
    },
    {
     "name": "stdout",
     "output_type": "stream",
     "text": [
      "[0.99038986 0.00687815 0.00136039] 0.9986284016285485\n",
      "[0.98610349 0.00958974 0.00206681] 0.9977600401215239\n",
      "[0.97617867 0.01601276 0.00368893] 0.9958803579834284\n"
     ]
    },
    {
     "name": "stderr",
     "output_type": "stream",
     "text": [
      "1648it [02:36, 10.67it/s]\u001b[A\n",
      "1650it [02:36, 10.53it/s]\u001b[A"
     ]
    },
    {
     "name": "stdout",
     "output_type": "stream",
     "text": [
      "[0.99082285 0.00660459 0.00132513] 0.9987525751073942\n",
      "[0.98548522 0.00989321 0.00220996] 0.9975883899453738\n",
      "[0.9701272  0.02174441 0.00455257] 0.9964241813825574\n"
     ]
    },
    {
     "name": "stderr",
     "output_type": "stream",
     "text": [
      "\n",
      "1652it [02:36, 10.81it/s]\u001b[A\n"
     ]
    },
    {
     "name": "stdout",
     "output_type": "stream",
     "text": [
      "[0.97115847 0.02125059 0.00433237] 0.9967414280117071\n",
      "[0.95707159 0.02917477 0.00660258] 0.9928489307417643\n",
      "[0.98723533 0.00914365 0.0017794 ] 0.9981583777013948\n"
     ]
    },
    {
     "name": "stderr",
     "output_type": "stream",
     "text": [
      "1654it [02:36, 10.68it/s]\u001b[A\n",
      "1656it [02:36, 10.36it/s]\u001b[A"
     ]
    },
    {
     "name": "stdout",
     "output_type": "stream",
     "text": [
      "[0.98684076 0.00939921 0.00186785] 0.9981078181256667\n",
      "[0.97750755 0.01517707 0.00353645] 0.996221070028017\n",
      "[0.98171393 0.01359479 0.00253009] 0.9978388145092921\n"
     ]
    },
    {
     "name": "stderr",
     "output_type": "stream",
     "text": [
      "\n",
      "1658it [02:37, 10.49it/s]\u001b[A\n",
      "1660it [02:37, 10.75it/s]\u001b[A"
     ]
    },
    {
     "name": "stdout",
     "output_type": "stream",
     "text": [
      "[0.98512728 0.01081399 0.00217966] 0.9981209241597694\n",
      "[0.98408284 0.01096774 0.00233884] 0.9973894181149006\n",
      "[0.98702838 0.00912444 0.00186136] 0.9980141688948174\n"
     ]
    },
    {
     "name": "stderr",
     "output_type": "stream",
     "text": [
      "\n",
      "1662it [02:37, 10.52it/s]\u001b[A"
     ]
    },
    {
     "name": "stdout",
     "output_type": "stream",
     "text": [
      "[0.9870689  0.00881345 0.00196807] 0.9978504162136576\n",
      "[0.98996534 0.0069416  0.00150614] 0.998413079563411\n",
      "[0.99069902 0.00643616 0.00139909] 0.9985342665077813\n"
     ]
    },
    {
     "name": "stderr",
     "output_type": "stream",
     "text": [
      "\n",
      "1664it [02:37, 10.51it/s]\u001b[A\n",
      "1666it [02:37, 10.75it/s]\u001b[A"
     ]
    },
    {
     "name": "stdout",
     "output_type": "stream",
     "text": [
      "[0.98767572 0.00847847 0.00185188] 0.998006079964858\n",
      "[0.98784086 0.00856555 0.00184695] 0.9982533577353832\n",
      "[0.98284353 0.01164048 0.00262839] 0.9971124109928521\n"
     ]
    },
    {
     "name": "stderr",
     "output_type": "stream",
     "text": [
      "\n",
      "1668it [02:37, 10.53it/s]\u001b[A"
     ]
    },
    {
     "name": "stdout",
     "output_type": "stream",
     "text": [
      "[0.98784338 0.00871002 0.00199715] 0.9985505462394836\n",
      "[0.98750786 0.00889341 0.00192299] 0.998324269747367\n"
     ]
    },
    {
     "name": "stderr",
     "output_type": "stream",
     "text": [
      "\n",
      "1670it [02:38, 10.54it/s]\u001b[A"
     ]
    },
    {
     "name": "stdout",
     "output_type": "stream",
     "text": [
      "[0.98828249 0.00774976 0.00184409] 0.9978763355809342\n",
      "[9.94374045e-01 3.92883081e-03 7.99800916e-04] 0.9991026767033244\n",
      "[0.99051317 0.00636166 0.0014372 ] 0.9983120273470275\n"
     ]
    },
    {
     "name": "stderr",
     "output_type": "stream",
     "text": [
      "\n",
      "1672it [02:38, 10.09it/s]\u001b[A\n",
      "1674it [02:38, 10.43it/s]\u001b[A"
     ]
    },
    {
     "name": "stdout",
     "output_type": "stream",
     "text": [
      "[0.98761488 0.00849036 0.00197612] 0.9980813614896145\n",
      "[0.9863444  0.00941293 0.00218519] 0.9979425254681363\n",
      "[0.98844019 0.00807312 0.00189175] 0.9984050627221281\n"
     ]
    },
    {
     "name": "stderr",
     "output_type": "stream",
     "text": [
      "\n",
      "1676it [02:38, 10.30it/s]\u001b[A"
     ]
    },
    {
     "name": "stdout",
     "output_type": "stream",
     "text": [
      "[0.98742559 0.00869381 0.00193505] 0.9980544441047045\n",
      "[0.98760539 0.00893627 0.00184473] 0.9983863867254263\n"
     ]
    },
    {
     "name": "stderr",
     "output_type": "stream",
     "text": [
      "\n",
      "1678it [02:38, 10.39it/s]\u001b[A"
     ]
    },
    {
     "name": "stdout",
     "output_type": "stream",
     "text": [
      "[0.98674585 0.00951435 0.00201416] 0.9982743568594578\n",
      "[0.98568438 0.01021784 0.00218382] 0.9980860432730495\n",
      "[0.98215489 0.0130166  0.00265096] 0.997822451285665\n"
     ]
    },
    {
     "name": "stderr",
     "output_type": "stream",
     "text": [
      "\n",
      "1680it [02:39, 10.25it/s]\u001b[A\n",
      "1682it [02:39, 10.55it/s]\u001b[A"
     ]
    },
    {
     "name": "stdout",
     "output_type": "stream",
     "text": [
      "[0.97978806 0.0133926  0.00309292] 0.9962735814845548\n",
      "[9.93095993e-01 5.08108940e-03 7.72502082e-04] 0.9989495847454348\n",
      "[0.99213542 0.00546584 0.00115902] 0.9987602800975481\n"
     ]
    },
    {
     "name": "stderr",
     "output_type": "stream",
     "text": [
      "\n",
      "1684it [02:39, 10.38it/s]\u001b[A"
     ]
    },
    {
     "name": "stdout",
     "output_type": "stream",
     "text": [
      "[0.98811177 0.00874375 0.00140407] 0.9982595895994585\n",
      "[0.98147134 0.01363766 0.00250174] 0.9976107438564278\n",
      "[0.97999885 0.01525987 0.0026104 ] 0.9978691246100186\n"
     ]
    },
    {
     "name": "stderr",
     "output_type": "stream",
     "text": [
      "\n",
      "1686it [02:39, 10.18it/s]\u001b[A\n"
     ]
    },
    {
     "name": "stdout",
     "output_type": "stream",
     "text": [
      "[0.97700876 0.01741388 0.0031558 ] 0.9975784495133622\n",
      "[0.97340261 0.02020495 0.00359598] 0.9972035412373581\n",
      "[0.97770776 0.01656096 0.00301999] 0.9972887055825203\n"
     ]
    },
    {
     "name": "stderr",
     "output_type": "stream",
     "text": [
      "1688it [02:39, 10.48it/s]\u001b[A\n",
      "1690it [02:40, 10.51it/s]\u001b[A"
     ]
    },
    {
     "name": "stdout",
     "output_type": "stream",
     "text": [
      "[0.98180971 0.01361753 0.00239465] 0.9978218809928759\n",
      "[0.98273842 0.0129122  0.00227918] 0.9979297943983348\n",
      "[0.9769227  0.01715968 0.00314875] 0.9972311397279541\n"
     ]
    },
    {
     "name": "stderr",
     "output_type": "stream",
     "text": [
      "\n",
      "1692it [02:40, 10.59it/s]\u001b[A\n"
     ]
    },
    {
     "name": "stdout",
     "output_type": "stream",
     "text": [
      "[0.97329168 0.01963455 0.00374686] 0.996673077209908\n",
      "[0.9761087  0.01743637 0.00342848] 0.9969735473706571\n",
      "[0.98512143 0.01117123 0.00202397] 0.998316628135043\n"
     ]
    },
    {
     "name": "stderr",
     "output_type": "stream",
     "text": [
      "1694it [02:40, 10.53it/s]\u001b[A\n",
      "1696it [02:40, 10.62it/s]\u001b[A"
     ]
    },
    {
     "name": "stdout",
     "output_type": "stream",
     "text": [
      "[0.9831832  0.01237675 0.00230518] 0.9978651308243423\n",
      "[0.97654592 0.01704254 0.00333182] 0.9969202734090842\n",
      "[0.97767299 0.01705962 0.00290796] 0.9976405651365433\n"
     ]
    },
    {
     "name": "stderr",
     "output_type": "stream",
     "text": [
      "\n",
      "1698it [02:40, 10.59it/s]\u001b[A\n"
     ]
    },
    {
     "name": "stdout",
     "output_type": "stream",
     "text": [
      "[0.97649986 0.01750359 0.00318132] 0.9971847777521896\n",
      "[0.97645707 0.0170355  0.00332286] 0.9968154217056199\n",
      "[0.97971448 0.01520272 0.00277565] 0.9976928423902088\n"
     ]
    },
    {
     "name": "stderr",
     "output_type": "stream",
     "text": [
      "1700it [02:41, 10.70it/s]\u001b[A\n",
      "1702it [02:41, 10.58it/s]\u001b[A"
     ]
    },
    {
     "name": "stdout",
     "output_type": "stream",
     "text": [
      "[0.98102772 0.0144485  0.0024772 ] 0.9979534240087047\n",
      "[0.97532897 0.01882446 0.0031875 ] 0.9973409225048837\n",
      "[0.9743493  0.01914184 0.00337207] 0.9968632139082276\n"
     ]
    },
    {
     "name": "stderr",
     "output_type": "stream",
     "text": [
      "\n",
      "1704it [02:41, 10.32it/s]\u001b[A\n"
     ]
    },
    {
     "name": "stdout",
     "output_type": "stream",
     "text": [
      "[0.97647453 0.01805391 0.00294508] 0.9974735131313277\n",
      "[0.97305964 0.0202386  0.00353449] 0.9968327322821474\n",
      "[0.97712772 0.01781249 0.00291477] 0.9978549800949538\n"
     ]
    },
    {
     "name": "stderr",
     "output_type": "stream",
     "text": [
      "1706it [02:41, 10.32it/s]\u001b[A\n",
      "1708it [02:41, 10.49it/s]\u001b[A"
     ]
    },
    {
     "name": "stdout",
     "output_type": "stream",
     "text": [
      "[0.97305534 0.02034376 0.00358163] 0.9969807331868246\n",
      "[0.97862375 0.01596397 0.00292972] 0.9975174423898159\n",
      "[0.97786382 0.01630968 0.00314554] 0.9973190456560503\n"
     ]
    },
    {
     "name": "stderr",
     "output_type": "stream",
     "text": [
      "\n",
      "1710it [02:42, 10.48it/s]\u001b[A\n"
     ]
    },
    {
     "name": "stdout",
     "output_type": "stream",
     "text": [
      "[0.98048816 0.01438407 0.00275479] 0.9976270217283543\n",
      "[0.98141462 0.01407118 0.00246505] 0.9979508489085073\n",
      "[0.98271608 0.01281266 0.00238552] 0.9979142627576579\n"
     ]
    },
    {
     "name": "stderr",
     "output_type": "stream",
     "text": [
      "1712it [02:42, 10.48it/s]\u001b[A\n",
      "1714it [02:42, 10.59it/s]\u001b[A"
     ]
    },
    {
     "name": "stdout",
     "output_type": "stream",
     "text": [
      "[0.98491882 0.01112977 0.00213452] 0.9981831123222449\n",
      "[0.98225956 0.01291973 0.00251624] 0.9976955340889428\n",
      "[0.97985037 0.01497563 0.00279145] 0.9976174442872775\n"
     ]
    },
    {
     "name": "stderr",
     "output_type": "stream",
     "text": [
      "\n",
      "1716it [02:42, 10.52it/s]\u001b[A\n"
     ]
    },
    {
     "name": "stdout",
     "output_type": "stream",
     "text": [
      "[0.98036596 0.01468362 0.0026891 ] 0.9977386814893385\n",
      "[0.97993669 0.0151849  0.00261134] 0.9977329354705284\n",
      "[0.9748866  0.01829833 0.00346432] 0.9966492465651883\n"
     ]
    },
    {
     "name": "stderr",
     "output_type": "stream",
     "text": [
      "1718it [02:42, 10.53it/s]\u001b[A\n",
      "1720it [02:42, 10.57it/s]\u001b[A"
     ]
    },
    {
     "name": "stdout",
     "output_type": "stream",
     "text": [
      "[0.98045517 0.01478649 0.00264342] 0.9978850830298064\n",
      "[0.97828839 0.01610023 0.00304786] 0.9974364788940772\n",
      "[0.97347846 0.01935646 0.00383168] 0.9966666057809379\n"
     ]
    },
    {
     "name": "stderr",
     "output_type": "stream",
     "text": [
      "\n",
      "1722it [02:43, 10.62it/s]\u001b[A\n"
     ]
    },
    {
     "name": "stdout",
     "output_type": "stream",
     "text": [
      "[0.96942342 0.02211076 0.00447226] 0.9960064464688487\n",
      "[0.97742313 0.01749911 0.00286922] 0.9977914609803309\n",
      "[0.97881138 0.01590764 0.00271574] 0.9974347547572123\n"
     ]
    },
    {
     "name": "stderr",
     "output_type": "stream",
     "text": [
      "1724it [02:43, 10.53it/s]\u001b[A\n",
      "1726it [02:43, 10.37it/s]\u001b[A"
     ]
    },
    {
     "name": "stdout",
     "output_type": "stream",
     "text": [
      "[0.98157155 0.01346297 0.00249119] 0.9975257042479599\n",
      "[0.98173049 0.01341088 0.00249634] 0.9976377054310798\n",
      "[0.97798306 0.01636096 0.00292754] 0.9972715569912262\n"
     ]
    },
    {
     "name": "stderr",
     "output_type": "stream",
     "text": [
      "\n",
      "1728it [02:43, 10.42it/s]\u001b[A\n"
     ]
    },
    {
     "name": "stdout",
     "output_type": "stream",
     "text": [
      "[0.97374185 0.01982282 0.00349037] 0.9970550378324285\n",
      "[0.97453076 0.01958456 0.00329915] 0.9974144624012354\n",
      "[0.97418811 0.01937908 0.00355148] 0.9971186639580364\n"
     ]
    },
    {
     "name": "stderr",
     "output_type": "stream",
     "text": [
      "1730it [02:43, 10.39it/s]\u001b[A\n",
      "1732it [02:44, 10.46it/s]\u001b[A"
     ]
    },
    {
     "name": "stdout",
     "output_type": "stream",
     "text": [
      "[0.97594719 0.01807573 0.00337169] 0.9973946102307725\n",
      "[0.97853001 0.01655134 0.00280693] 0.9978882738011422\n",
      "[0.97742952 0.01771421 0.0028031 ] 0.997946836304974\n"
     ]
    },
    {
     "name": "stderr",
     "output_type": "stream",
     "text": [
      "\n",
      "1734it [02:44, 10.30it/s]\u001b[A\n"
     ]
    },
    {
     "name": "stdout",
     "output_type": "stream",
     "text": [
      "[0.97412859 0.01986214 0.00336203] 0.9973527563007603\n",
      "[0.97261076 0.02087988 0.00365771] 0.9971483487031049\n",
      "[0.96847466 0.02367905 0.00415365] 0.996307361953258\n"
     ]
    },
    {
     "name": "stderr",
     "output_type": "stream",
     "text": [
      "1736it [02:44, 10.32it/s]\u001b[A\n",
      "1738it [02:44, 10.23it/s]\u001b[A"
     ]
    },
    {
     "name": "stdout",
     "output_type": "stream",
     "text": [
      "[0.97186509 0.02149527 0.00366773] 0.9970280823624971\n",
      "[0.97444658 0.01921906 0.00340284] 0.9970684824453754\n",
      "[0.9790089  0.01673568 0.00244501] 0.9981896029685412\n"
     ]
    },
    {
     "name": "stderr",
     "output_type": "stream",
     "text": [
      "\n",
      "1740it [02:44, 10.27it/s]\u001b[A\n"
     ]
    },
    {
     "name": "stdout",
     "output_type": "stream",
     "text": [
      "[0.97537137 0.01851754 0.00327388] 0.9971627882169408\n",
      "[0.98141239 0.01380726 0.00250325] 0.9977228968847668\n",
      "[0.98163293 0.01354119 0.00255735] 0.9977314698857958\n"
     ]
    },
    {
     "name": "stderr",
     "output_type": "stream",
     "text": [
      "1742it [02:45, 10.25it/s]\u001b[A\n",
      "1744it [02:45, 10.26it/s]\u001b[A"
     ]
    },
    {
     "name": "stdout",
     "output_type": "stream",
     "text": [
      "[0.98404211 0.0120876  0.00198642] 0.9981161307518829\n",
      "[0.98201145 0.01332092 0.00253405] 0.9978664199482818\n",
      "[0.97809893 0.01672586 0.00285334] 0.9976781217715025\n"
     ]
    },
    {
     "name": "stderr",
     "output_type": "stream",
     "text": [
      "\n",
      "1746it [02:45, 10.31it/s]\u001b[A"
     ]
    },
    {
     "name": "stdout",
     "output_type": "stream",
     "text": [
      "[0.9764227  0.01785721 0.00306175] 0.9973416642062276\n",
      "[0.98062921 0.01511945 0.00237508] 0.998123732323424\n"
     ]
    },
    {
     "name": "stderr",
     "output_type": "stream",
     "text": [
      "\n",
      "1748it [02:45, 10.05it/s]\u001b[A\n"
     ]
    },
    {
     "name": "stdout",
     "output_type": "stream",
     "text": [
      "[0.97820544 0.01500731 0.00313866] 0.9963514102293863\n",
      "[9.90920378e-01 7.06610162e-03 9.23631283e-04] 0.9989101113449086\n",
      "[0.9887799  0.0083206  0.00143858] 0.998539082274621\n"
     ]
    },
    {
     "name": "stderr",
     "output_type": "stream",
     "text": [
      "1750it [02:45, 10.32it/s]\u001b[A\n",
      "1752it [02:46, 10.14it/s]\u001b[A"
     ]
    },
    {
     "name": "stdout",
     "output_type": "stream",
     "text": [
      "[0.98555425 0.01089178 0.00171997] 0.9981659962185492\n",
      "[0.97722217 0.01712721 0.00298599] 0.9973353761325765\n"
     ]
    },
    {
     "name": "stderr",
     "output_type": "stream",
     "text": [
      "\n",
      "1754it [02:46, 10.11it/s]\u001b[A"
     ]
    },
    {
     "name": "stdout",
     "output_type": "stream",
     "text": [
      "[0.9748608  0.01941785 0.00310357] 0.9973822286615854\n",
      "[0.9760917  0.01841655 0.00292904] 0.9974372907097969\n",
      "[0.9784827  0.01713158 0.00243512] 0.9980494051975043\n"
     ]
    },
    {
     "name": "stderr",
     "output_type": "stream",
     "text": [
      "\n",
      "1756it [02:46, 10.29it/s]\u001b[A\n"
     ]
    },
    {
     "name": "stdout",
     "output_type": "stream",
     "text": [
      "[0.9704058  0.02174482 0.00395636] 0.9961069882149521\n",
      "[0.96983955 0.02232108 0.00410235] 0.9962629849072678\n",
      "[0.97533791 0.01892975 0.0033036 ] 0.9975712643487238\n"
     ]
    },
    {
     "name": "stderr",
     "output_type": "stream",
     "text": [
      "1758it [02:46, 10.32it/s]\u001b[A\n",
      "1760it [02:46, 10.24it/s]\u001b[A"
     ]
    },
    {
     "name": "stdout",
     "output_type": "stream",
     "text": [
      "[0.97083208 0.02205908 0.00387266] 0.9967638149253357\n",
      "[0.97456515 0.01901391 0.00355432] 0.9971333844188847\n"
     ]
    },
    {
     "name": "stderr",
     "output_type": "stream",
     "text": [
      "\n",
      "1762it [02:47, 10.28it/s]\u001b[A"
     ]
    },
    {
     "name": "stdout",
     "output_type": "stream",
     "text": [
      "[0.97622138 0.01798207 0.00317866] 0.9973821069250605\n",
      "[0.97131032 0.02181097 0.00375522] 0.9968765075158659\n",
      "[0.97745066 0.01759473 0.0027531 ] 0.9977984924001507\n"
     ]
    },
    {
     "name": "stderr",
     "output_type": "stream",
     "text": [
      "\n",
      "1764it [02:47, 10.23it/s]\u001b[A\n"
     ]
    },
    {
     "name": "stdout",
     "output_type": "stream",
     "text": [
      "[0.97893345 0.01679731 0.00249936] 0.9982301243159711\n",
      "[0.97279157 0.02078599 0.00353124] 0.997108794825425\n",
      "[0.97343601 0.01989515 0.00349793] 0.9968290884718907\n"
     ]
    },
    {
     "name": "stderr",
     "output_type": "stream",
     "text": [
      "1766it [02:47, 10.26it/s]\u001b[A\n",
      "1768it [02:47, 10.20it/s]\u001b[A"
     ]
    },
    {
     "name": "stdout",
     "output_type": "stream",
     "text": [
      "[0.98087923 0.0151484  0.00223637] 0.9982639949539571\n",
      "[0.97383979 0.01938575 0.00343208] 0.9966576240470661\n"
     ]
    },
    {
     "name": "stderr",
     "output_type": "stream",
     "text": [
      "\n",
      "1770it [02:47, 10.05it/s]\u001b[A"
     ]
    },
    {
     "name": "stdout",
     "output_type": "stream",
     "text": [
      "[0.96724238 0.0244584  0.00437069] 0.9960714681969156\n",
      "[0.9704766  0.02303996 0.00378258] 0.9972991396984239\n"
     ]
    },
    {
     "name": "stderr",
     "output_type": "stream",
     "text": [
      "\n",
      "1772it [02:48,  9.99it/s]\u001b[A"
     ]
    },
    {
     "name": "stdout",
     "output_type": "stream",
     "text": [
      "[0.96884983 0.02303028 0.00460556] 0.9964856686159383\n",
      "[0.97254797 0.02027909 0.00391246] 0.9967395145968078\n"
     ]
    },
    {
     "name": "stderr",
     "output_type": "stream",
     "text": [
      "\n",
      "1773it [02:48,  9.95it/s]\u001b[A\n"
     ]
    },
    {
     "name": "stdout",
     "output_type": "stream",
     "text": [
      "[0.97386166 0.02007982 0.00347149] 0.9974129681488764\n",
      "[0.97090215 0.02223493 0.00387276] 0.9970098484978984\n",
      "[0.97267878 0.02075427 0.00375188] 0.997184929661343\n"
     ]
    },
    {
     "name": "stderr",
     "output_type": "stream",
     "text": [
      "1775it [02:48, 10.15it/s]\u001b[A\n",
      "1777it [02:48, 10.09it/s]\u001b[A"
     ]
    },
    {
     "name": "stdout",
     "output_type": "stream",
     "text": [
      "[0.97389186 0.02029286 0.00326615] 0.9974508690616516\n",
      "[0.97413089 0.02021641 0.00312895] 0.9974762504164267\n",
      "[0.97111767 0.02140183 0.00399398] 0.9965134754657533\n"
     ]
    },
    {
     "name": "stderr",
     "output_type": "stream",
     "text": [
      "\n",
      "1779it [02:48, 10.23it/s]\u001b[A\n"
     ]
    },
    {
     "name": "stdout",
     "output_type": "stream",
     "text": [
      "[0.9742151  0.01907318 0.00366265] 0.996950931504727\n",
      "[0.97685259 0.01737922 0.00307862] 0.9973104276982366\n",
      "[0.97767806 0.01674405 0.00297895] 0.9974010514014297\n"
     ]
    },
    {
     "name": "stderr",
     "output_type": "stream",
     "text": [
      "1781it [02:48, 10.40it/s]\u001b[A\n",
      "1783it [02:49, 10.34it/s]\u001b[A"
     ]
    },
    {
     "name": "stdout",
     "output_type": "stream",
     "text": [
      "[0.97818067 0.01652331 0.00286466] 0.9975686328493222\n",
      "[0.98164476 0.01384288 0.00242446] 0.997912110974917\n",
      "[0.98146643 0.01385671 0.00252185] 0.9978449926383711\n"
     ]
    },
    {
     "name": "stderr",
     "output_type": "stream",
     "text": [
      "\n",
      "1785it [02:49, 10.47it/s]\u001b[A\n"
     ]
    },
    {
     "name": "stdout",
     "output_type": "stream",
     "text": [
      "[0.97840571 0.01621487 0.00280439] 0.9974249683300506\n",
      "[0.98002696 0.01572677 0.0024501 ] 0.9982038274909891\n",
      "[0.97798723 0.01713698 0.00266033] 0.9977845446777761\n"
     ]
    },
    {
     "name": "stderr",
     "output_type": "stream",
     "text": [
      "1787it [02:49, 10.45it/s]\u001b[A\n",
      "1789it [02:49, 10.56it/s]\u001b[A"
     ]
    },
    {
     "name": "stdout",
     "output_type": "stream",
     "text": [
      "[0.98134642 0.01377172 0.00252399] 0.9976421369348522\n",
      "[0.97870069 0.01546389 0.00291634] 0.9970809224025972\n",
      "[0.98443533 0.01076561 0.0023245 ] 0.9975254456996562\n"
     ]
    }
   ],
   "source": [
    "# Crea un objeto tqdm para rastrear el progreso\n",
    "pbar = tqdm(total=len(filenames))\n",
    "\n",
    "# Itera los lotes\n",
    "for batch_data in batched_dataset:\n",
    "    paths = batch_data['path'].numpy()\n",
    "    labels = batch_data['label'].numpy()\n",
    "    \n",
    "    # Cargar los scaleograms desde los archivos .npy\n",
    "    batch_xs = []\n",
    "    for path in paths:\n",
    "        spectrogram = np.load(path.decode('utf-8'))\n",
    "        batch_xs.append(spectrogram)  # Corregir el nombre de la variable aquí\n",
    "    \n",
    "    # Convierte batch_x en un arreglo NumPy\n",
    "    batch_xs = np.array(batch_xs)\n",
    "\n",
    "    for (batch_x, label) in zip(batch_xs, labels):\n",
    "\n",
    "        amm = batch_x.shape[0] * batch_x.shape[1] * batch_x.shape[2]\n",
    "    \n",
    "        x_flat = batch_x.reshape(amm, -1).squeeze()\n",
    "        (batch_x.shape[0], batch_x.shape[1], batch_x.shape[2]), x_flat.shape\n",
    "    \n",
    "        multiplier = 1\n",
    "    \n",
    "        while 244 * 244 * 3 * multiplier < amm:\n",
    "            multiplier += 1\n",
    "    \n",
    "        # Creo un array de ceros de 244*244*3*multiplier, mas grande que mi input\n",
    "        x_extended = np.zeros((244 * 244 * 3 * multiplier))\n",
    "    \n",
    "        # Relleno el array de ceros con mi input, me quedan ceros de relleno\n",
    "        x_extended[:amm] = x_flat\n",
    "    \n",
    "        # Reshapeo\n",
    "        x_big_2d = x_extended.reshape(244 * 244, 3 * multiplier)\n",
    "        x_big_2d.shape\n",
    "    \n",
    "        pca = PCA(\n",
    "            n_components=3,\n",
    "        )\n",
    "    \n",
    "        pca.fit(x_big_2d)\n",
    "    \n",
    "        x_big_2d_reduced = pca.transform(x_big_2d)\n",
    "    \n",
    "        x_big_3d_reduced = x_big_2d_reduced.reshape(3, 244, 244)\n",
    "        \n",
    "        # Agrega los scaleograms y labels a X_list e y_list\n",
    "        X_list.append(x_big_3d_reduced)\n",
    "        y_list.append(label)\n",
    "    \n",
    "        print(pca.explained_variance_ratio_, np.sum(pca.explained_variance_ratio_))\n",
    "    \n",
    "    # Actualiza la barra de progreso\n",
    "    pbar.update(len(paths))  # Actualiza la barra de progreso según la cantidad de archivos en el lote\n",
    "\n",
    "# Convierte X_list e y_list en arreglos NumPy\n",
    "X = np.concatenate(X_list, axis=0)\n",
    "y = np.array(y_list)\n",
    "\n",
    "# Cierra la barra de progreso\n",
    "# pbar.close()\n"
   ]
  },
  {
   "cell_type": "code",
   "execution_count": 34,
   "id": "64500daf-a296-462c-b5ca-0b42e1fca74a",
   "metadata": {},
   "outputs": [
    {
     "data": {
      "text/plain": [
       "((14, 88320), (14, 14))"
      ]
     },
     "execution_count": 34,
     "metadata": {},
     "output_type": "execute_result"
    }
   ],
   "source": [
    "'''variance_to_keep = 0.95  # Me quedo con el 95% de la varianza\n",
    "n_components = 14\n",
    "pca = PCA(n_components=n_components)\n",
    "\n",
    "data_reduced = pca.fit_transform(data_1d)\n",
    "data_1d.shape, data_reduced.shape'''"
   ]
  },
  {
   "cell_type": "code",
   "execution_count": 4,
   "id": "b294652f",
   "metadata": {},
   "outputs": [
    {
     "name": "stderr",
     "output_type": "stream",
     "text": [
      "12488it [05:03, 34.58it/s]                                                                                             "
     ]
    },
    {
     "ename": "MemoryError",
     "evalue": "Unable to allocate 9.43 MiB for an array with shape (2, 1236480) and data type float32",
     "output_type": "error",
     "traceback": [
      "\u001b[1;31m---------------------------------------------------------------------------\u001b[0m",
      "\u001b[1;31mMemoryError\u001b[0m                               Traceback (most recent call last)",
      "Cell \u001b[1;32mIn[4], line 32\u001b[0m\n\u001b[0;32m     29\u001b[0m min_val \u001b[38;5;241m=\u001b[39m np\u001b[38;5;241m.\u001b[39mmin(batch_X)\n\u001b[0;32m     30\u001b[0m max_val \u001b[38;5;241m=\u001b[39m np\u001b[38;5;241m.\u001b[39mmax(batch_X)\n\u001b[1;32m---> 32\u001b[0m batch_X \u001b[38;5;241m=\u001b[39m \u001b[38;5;241m-\u001b[39m\u001b[38;5;241m1\u001b[39m \u001b[38;5;241m+\u001b[39m \u001b[38;5;241;43m2\u001b[39;49m\u001b[43m \u001b[49m\u001b[38;5;241;43m*\u001b[39;49m\u001b[43m \u001b[49m\u001b[43m(\u001b[49m\u001b[43mbatch_X\u001b[49m\u001b[43m \u001b[49m\u001b[38;5;241;43m-\u001b[39;49m\u001b[43m \u001b[49m\u001b[43mmin_val\u001b[49m\u001b[43m)\u001b[49m \u001b[38;5;241m/\u001b[39m (max_val \u001b[38;5;241m-\u001b[39m min_val)\n\u001b[0;32m     34\u001b[0m \u001b[38;5;250m\u001b[39m\u001b[38;5;124;03m'''variance_to_keep = 0.95  # Me quedo con el 95% de la varianza\u001b[39;00m\n\u001b[0;32m     35\u001b[0m \n\u001b[0;32m     36\u001b[0m \u001b[38;5;124;03mpca = PCA()\u001b[39;00m\n\u001b[1;32m   (...)\u001b[0m\n\u001b[0;32m     46\u001b[0m \u001b[38;5;124;03melse:\u001b[39;00m\n\u001b[0;32m     47\u001b[0m \u001b[38;5;124;03m    batch_X = batch_X[:, :n_components_to_keep]'''\u001b[39;00m\n\u001b[0;32m     49\u001b[0m \u001b[38;5;66;03m# Agrega los scaleograms y labels a X_list e y_list\u001b[39;00m\n",
      "\u001b[1;31mMemoryError\u001b[0m: Unable to allocate 9.43 MiB for an array with shape (2, 1236480) and data type float32"
     ]
    }
   ],
   "source": [
    "'''VIEJO BUENO\n",
    "# Crea un objeto tqdm para rastrear el progreso\n",
    "pbar = tqdm(total=len(filenames))\n",
    "\n",
    "# Itera los lotes\n",
    "for batch_data in batched_dataset:\n",
    "    paths = batch_data['path'].numpy()\n",
    "    labels = batch_data['label'].numpy()\n",
    "    \n",
    "    # Cargar los scaleograms desde los archivos .npy\n",
    "    batch_X = []\n",
    "    for path in paths:\n",
    "        spectrogram = np.load(path.decode('utf-8'))\n",
    "        batch_X.append(spectrogram)\n",
    "    \n",
    "    # Convierte batch_X en un arreglo NumPy\n",
    "    batch_X = np.array(batch_X)\n",
    "    \n",
    "    batch_X = batch_X.reshape((batch_X.shape[0], -1))  # Aplanar los datos\n",
    "    \n",
    "    # NORMALIZA X en rango [-1, 1] para que el cero quede en el centro\n",
    "    min_val = np.min(batch_X)\n",
    "    max_val = np.max(batch_X)\n",
    "\n",
    "    batch_X = -1 + 2 * (batch_X - min_val) / (max_val - min_val)\n",
    "    \n",
    "    variance_to_keep = 0.95  # Me quedo con el 95% de la varianza\n",
    "    n_components = 3\n",
    "    pca = PCA(n_components=n_components)\n",
    "    batch_X = pca.fit_transform(batch_X)  # Aplica PCA para los datos escalados\n",
    "    \n",
    "\n",
    "    # Asegúrate de que todos los lotes tengan la misma cantidad de componentes principales\n",
    "    n_components_to_keep = min(max_components, batch_X.shape[1])\n",
    "    if batch_X.shape[1] < max_components:\n",
    "        # Rellena con ceros las columnas faltantes si es necesario\n",
    "        zeros_to_add = max_components - batch_X.shape[1]\n",
    "        zeros = np.zeros((batch_X.shape[0], zeros_to_add))\n",
    "        batch_X = np.hstack((batch_X, zeros))\n",
    "    else:\n",
    "        batch_X = batch_X[:, :n_components_to_keep]\n",
    "\n",
    "    # Agrega los scaleograms y labels a X_list e y_list\n",
    "    X_list.append(batch_X)\n",
    "    y_list.extend(labels)\n",
    "\n",
    "    # Actualiza la barra de progreso\n",
    "    pbar.update(len(paths))  # Actualiza la barra de progreso según la cantidad de archivos en el lote\n",
    "\n",
    "# Convierte X_list e y_list en arreglos NumPy\n",
    "X = np.concatenate(X_list, axis=0)\n",
    "y = np.array(y_list)\n",
    "\n",
    "# Cierra la barra de progreso\n",
    "pbar.close()'''"
   ]
  },
  {
   "cell_type": "code",
   "execution_count": 31,
   "id": "afd8d00d",
   "metadata": {},
   "outputs": [
    {
     "name": "stderr",
     "output_type": "stream",
     "text": [
      "\n",
      "1790it [03:06, 10.56it/s]\u001b[A"
     ]
    }
   ],
   "source": [
    "#LOS GUARDO EN MI COMPUTADORA\n",
    "#np.save('X.npy', X) está guardada normalizada en rango [0, 1], habría que cambiar eso\n",
    "np.save('X_10.npy', X)\n",
    "np.save('y_10.npy', y)"
   ]
  },
  {
   "cell_type": "code",
   "execution_count": 6,
   "id": "2ec6cf30",
   "metadata": {},
   "outputs": [
    {
     "data": {
      "text/plain": [
       "(29588, 1000)"
      ]
     },
     "execution_count": 6,
     "metadata": {},
     "output_type": "execute_result"
    }
   ],
   "source": [
    "X_shape = X.shape\n",
    "shape_0 = X_shape[0]\n",
    "X_shape"
   ]
  },
  {
   "cell_type": "code",
   "execution_count": 7,
   "id": "7f01d633",
   "metadata": {},
   "outputs": [],
   "source": [
    "# Aplanar tus datos\n",
    "X = X.reshape(shape_0, -1)"
   ]
  },
  {
   "cell_type": "code",
   "execution_count": 8,
   "id": "e04607dd",
   "metadata": {},
   "outputs": [],
   "source": [
    "#NORMALIZO X en rango [-1, 1] para que el cero quede en el centro\n",
    "min_val = np.min(X)\n",
    "max_val = np.max(X)\n",
    "\n",
    "X = -1 + 2 * (X - min_val) / (max_val - min_val)\n",
    "\n",
    "#X = (X - X.min()) / (X.max() - X.min()) [0, 1]"
   ]
  },
  {
   "cell_type": "code",
   "execution_count": 9,
   "id": "b37cbb17",
   "metadata": {},
   "outputs": [
    {
     "data": {
      "text/plain": [
       "(29588, 1000)"
      ]
     },
     "execution_count": 9,
     "metadata": {},
     "output_type": "execute_result"
    }
   ],
   "source": [
    "X.shape"
   ]
  },
  {
   "cell_type": "code",
   "execution_count": 10,
   "id": "a49216ff",
   "metadata": {},
   "outputs": [
    {
     "data": {
      "text/plain": [
       "\"from sklearn.decomposition import PCA\\n\\nvariance_to_keep = 0.95  #me quedo con el 95% de la varianza, esto es flexible (mientras más porcentaje, mayor va  quedar la dimensionalidad de mi X)\\n\\npca = PCA()\\nX = pca.fit_transform(X)  #aplico pca para los datos escalados\\n\\n#Encuentro el número mínimo de componentes principales para alcanzar la varianza deseada\\ncumulative_variance_ratio = np.cumsum(pca.explained_variance_ratio_)\\n#('n_components_to_keep' contendrá el número mínimo de componentes principales necesarios para explicar al menos el 95% de la varianza en los datos.)\\nn_components_to_keep = np.argmax(cumulative_variance_ratio >= variance_to_keep) + 1 #chona me dijo que me deberían quedar por ejemplo 1000 atributos\\n\\n#Selecciono la cant de componentes principales que me salió\\nX = X[:, :n_components_to_keep]\""
      ]
     },
     "execution_count": 10,
     "metadata": {},
     "output_type": "execute_result"
    }
   ],
   "source": [
    "'''from sklearn.decomposition import PCA\n",
    "\n",
    "variance_to_keep = 0.95  #me quedo con el 95% de la varianza, esto es flexible (mientras más porcentaje, mayor va  quedar la dimensionalidad de mi X)\n",
    "\n",
    "pca = PCA()\n",
    "X = pca.fit_transform(X)  #aplico pca para los datos escalados\n",
    "\n",
    "#Encuentro el número mínimo de componentes principales para alcanzar la varianza deseada\n",
    "cumulative_variance_ratio = np.cumsum(pca.explained_variance_ratio_)\n",
    "#('n_components_to_keep' contendrá el número mínimo de componentes principales necesarios para explicar al menos el 95% de la varianza en los datos.)\n",
    "n_components_to_keep = np.argmax(cumulative_variance_ratio >= variance_to_keep) + 1 #chona me dijo que me deberían quedar por ejemplo 1000 atributos\n",
    "\n",
    "#Selecciono la cant de componentes principales que me salió\n",
    "X = X[:, :n_components_to_keep]'''"
   ]
  },
  {
   "cell_type": "code",
   "execution_count": 11,
   "id": "eded711e",
   "metadata": {},
   "outputs": [
    {
     "data": {
      "text/plain": [
       "'print(\"Me quedé con \" + str(n_components_to_keep) + \" componentes principales\")\\nX.shape'"
      ]
     },
     "execution_count": 11,
     "metadata": {},
     "output_type": "execute_result"
    }
   ],
   "source": [
    "'''print(\"Me quedé con \" + str(n_components_to_keep) + \" componentes principales\")\n",
    "X.shape'''"
   ]
  },
  {
   "cell_type": "code",
   "execution_count": 12,
   "id": "41ceaef4",
   "metadata": {},
   "outputs": [
    {
     "data": {
      "text/plain": [
       "'print(\"Varianza explicada por cada componente principal:\", pca.explained_variance_ratio_)'"
      ]
     },
     "execution_count": 12,
     "metadata": {},
     "output_type": "execute_result"
    }
   ],
   "source": [
    "'''print(\"Varianza explicada por cada componente principal:\", pca.explained_variance_ratio_)'''"
   ]
  },
  {
   "cell_type": "code",
   "execution_count": null,
   "id": "543c46a4",
   "metadata": {},
   "outputs": [],
   "source": [
    "#no se si lo que hice está bien, chona me dijo que usara PaCMAP pero no lo entiendo, y acá encontre que con sklearn medio que se puede hacer asi que :)"
   ]
  },
  {
   "cell_type": "code",
   "execution_count": null,
   "id": "d392e12a",
   "metadata": {},
   "outputs": [],
   "source": [
    "#hago una función?"
   ]
  }
 ],
 "metadata": {
  "kernelspec": {
   "display_name": "Python 3 (ipykernel)",
   "language": "python",
   "name": "python3"
  },
  "language_info": {
   "codemirror_mode": {
    "name": "ipython",
    "version": 3
   },
   "file_extension": ".py",
   "mimetype": "text/x-python",
   "name": "python",
   "nbconvert_exporter": "python",
   "pygments_lexer": "ipython3",
   "version": "3.11.5"
  }
 },
 "nbformat": 4,
 "nbformat_minor": 5
}
