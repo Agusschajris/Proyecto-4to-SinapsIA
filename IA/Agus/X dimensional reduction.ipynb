{
 "cells": [
  {
   "cell_type": "code",
   "execution_count": 24,
   "id": "b0b9ef6e",
   "metadata": {},
   "outputs": [],
   "source": [
    "import pandas as pd\n",
    "import glob\n",
    "import ssqueezepy #para convertir la señal en imagen\n",
    "from ssqueezepy import cwt\n",
    "from ssqueezepy.visuals import plot, imshow\n",
    "import os\n",
    "import mne #eeg analysis library\n",
    "import scipy.io\n",
    "#import torch.nn as nn\n",
    "#import torch\n",
    "import numpy as np\n",
    "import re\n",
    "from sklearn.model_selection import train_test_split\n",
    "import tensorflow as tf\n",
    "from tensorflow.keras import layers, models"
   ]
  },
  {
   "cell_type": "code",
   "execution_count": 25,
   "id": "68cc6129",
   "metadata": {},
   "outputs": [],
   "source": [
    "import numpy as np\n",
    "from sklearn.preprocessing import StandardScaler"
   ]
  },
  {
   "cell_type": "code",
   "execution_count": 26,
   "id": "5088eab2",
   "metadata": {},
   "outputs": [],
   "source": [
    "#ACAAAAAAAAAAAAAAAAAAAAAAAAAAAAAAAAAAAAAAAAAAAAAAAAAAAAAAAAAAAAAAAAAAAAAAAAAAA\n",
    "#PRUEBO CON MENOS DATOS\n",
    "#ACA SUBO LOS ARCHIVOS DE TFRECORD\n",
    "TFrecord_directory = 'C:\\\\Users\\\\47575909\\\\Desktop\\\\tfrecord_data_prueba' \n",
    "\n",
    "#lista de archivos TFRecord en la carpeta\n",
    "filenames = [os.path.join(TFrecord_directory, f) for f in os.listdir(TFrecord_directory) if f.endswith('.tfrecord')]\n",
    "\n",
    "#Hago un dataset de TensorFlow a partir de los archivos TFRecord\n",
    "dataset = tf.data.TFRecordDataset(filenames)\n",
    "\n",
    "#función para parsear los datos de TFRecord\n",
    "def parse_tfrecord_fn(example):\n",
    "    feature_description = {\n",
    "        'grpno': tf.io.FixedLenFeature([], tf.int64),\n",
    "        'label': tf.io.FixedLenFeature([], tf.int64),\n",
    "        'path': tf.io.FixedLenFeature([], tf.string),\n",
    "    }\n",
    "    example = tf.io.parse_single_example(example, feature_description)\n",
    "    return example\n",
    "\n",
    "parsed_dataset = dataset.map(parse_tfrecord_fn)\n",
    "\n",
    "#batching para argar los datos en lotes\n",
    "batch_size = 16  #puedo cambiar el tamaño (en la PC del colegio el máximo es 16, pero capáz que le tengo que poner menos)\n",
    "batched_dataset = parsed_dataset.batch(batch_size)"
   ]
  },
  {
   "cell_type": "code",
   "execution_count": 27,
   "id": "0e5a3ff6",
   "metadata": {},
   "outputs": [
    {
     "name": "stdout",
     "output_type": "stream",
     "text": [
      "Ya se separó todo!\n",
      "Salió todo bien, tranquina :))\n"
     ]
    }
   ],
   "source": [
    "#SEPARO EN X E Y\n",
    "X = []\n",
    "y = []\n",
    "\n",
    "#itero los lotes\n",
    "for batch_data in batched_dataset:\n",
    "    paths = batch_data['path'].numpy()\n",
    "    labels = batch_data['label'].numpy()\n",
    "    \n",
    "    #cargo los scaleograms desde los archivos .npy\n",
    "    batch_X = []\n",
    "    for path in paths:\n",
    "        spectrogram = np.load(path.decode('utf-8'))\n",
    "        batch_X.append(spectrogram)\n",
    "    \n",
    "    #agrego los scaleograms y labels a las listas X y y\n",
    "    X.extend(batch_X)\n",
    "    y.extend(labels)\n",
    "\n",
    "#convierto X e y a formato .npy\n",
    "X = np.array(X)\n",
    "y = np.array(y)\n",
    "\n",
    "print('Ya se separó todo!')\n",
    "print('Salió todo bien, tranquina :))')"
   ]
  },
  {
   "cell_type": "code",
   "execution_count": 28,
   "id": "57796bdc",
   "metadata": {},
   "outputs": [
    {
     "data": {
      "text/plain": [
       "(1538, 14, 230, 384)"
      ]
     },
     "execution_count": 28,
     "metadata": {},
     "output_type": "execute_result"
    }
   ],
   "source": [
    "X_shape = X.shape\n",
    "shape_0 = X_shape[0]\n",
    "X_shape"
   ]
  },
  {
   "cell_type": "code",
   "execution_count": 29,
   "id": "f40e9502",
   "metadata": {},
   "outputs": [],
   "source": [
    "# Aplanar tus datos\n",
    "X = X.reshape(shape_0, -1)"
   ]
  },
  {
   "cell_type": "code",
   "execution_count": 30,
   "id": "56f3d06f",
   "metadata": {},
   "outputs": [],
   "source": [
    "#NORMALIZO X en rango [-1, 1] para que el cero quede en el centro\n",
    "min_val = np.min(X)\n",
    "max_val = np.max(X)\n",
    "\n",
    "X = -1 + 2 * (X - min_val) / (max_val - min_val)\n",
    "\n",
    "#X = (X - X.min()) / (X.max() - X.min()) [0, 1]"
   ]
  },
  {
   "cell_type": "code",
   "execution_count": 31,
   "id": "e56a0a6d",
   "metadata": {},
   "outputs": [
    {
     "data": {
      "text/plain": [
       "(1538, 1236480)"
      ]
     },
     "execution_count": 31,
     "metadata": {},
     "output_type": "execute_result"
    }
   ],
   "source": [
    "X.shape"
   ]
  },
  {
   "cell_type": "code",
   "execution_count": 32,
   "id": "68459228",
   "metadata": {},
   "outputs": [],
   "source": [
    "from sklearn.decomposition import PCA\n",
    "\n",
    "variance_to_keep = 0.95  #me quedo con el 95% de la varianza, esto es flexible (mientras más porcentaje, mayor va  quedar la dimensionalidad de mi X)\n",
    "\n",
    "pca = PCA()\n",
    "X = pca.fit_transform(X)  #aplico pca para los datos escalados\n",
    "\n",
    "#Encuentro el número mínimo de componentes principales para alcanzar la varianza deseada\n",
    "cumulative_variance_ratio = np.cumsum(pca.explained_variance_ratio_)\n",
    "#('n_components_to_keep' contendrá el número mínimo de componentes principales necesarios para explicar al menos el 95% de la varianza en los datos.)\n",
    "n_components_to_keep = np.argmax(cumulative_variance_ratio >= variance_to_keep) + 1 #chona me dijo que me deberían quedar por ejemplo 1000 atributos\n",
    "\n",
    "#Selecciono la cant de componentes principales que me salió\n",
    "X = X[:, :n_components_to_keep]"
   ]
  },
  {
   "cell_type": "code",
   "execution_count": 33,
   "id": "d09a5a6b",
   "metadata": {},
   "outputs": [
    {
     "name": "stdout",
     "output_type": "stream",
     "text": [
      "Me quedé con 40 componentes principales\n"
     ]
    },
    {
     "data": {
      "text/plain": [
       "(1538, 40)"
      ]
     },
     "execution_count": 33,
     "metadata": {},
     "output_type": "execute_result"
    }
   ],
   "source": [
    "print(\"Me quedé con \" + str(n_components_to_keep) + \" componentes principales\")\n",
    "X.shape"
   ]
  },
  {
   "cell_type": "code",
   "execution_count": 34,
   "id": "39f301f2",
   "metadata": {},
   "outputs": [
    {
     "name": "stdout",
     "output_type": "stream",
     "text": [
      "Varianza explicada por cada componente principal: [5.2851593e-01 4.7641795e-02 4.0811993e-02 ... 9.2444623e-08 9.0034405e-08\n",
      " 3.7670622e-09]\n"
     ]
    }
   ],
   "source": [
    "print(\"Varianza explicada por cada componente principal:\", pca.explained_variance_ratio_)"
   ]
  },
  {
   "cell_type": "code",
   "execution_count": 35,
   "id": "8ecbc027",
   "metadata": {},
   "outputs": [],
   "source": [
    "#LOS GUARDO EN MI COMPUTADORA\n",
    "#np.save('X.npy', X) está guardada normalizada en rango [0, 1], habría que cambiar eso\n",
    "np.save('X_1_PCA.npy', X) #esto es para probar\n",
    "np.save('y_1.npy', y)"
   ]
  },
  {
   "cell_type": "code",
   "execution_count": 36,
   "id": "8d64a726",
   "metadata": {},
   "outputs": [],
   "source": [
    "#no se si lo que hice está bien, chona me dijo que usara PaCMAP pero no lo entiendo, y acá encontre que con sklearn medio que se puede hacer asi que :)"
   ]
  },
  {
   "cell_type": "code",
   "execution_count": null,
   "id": "627bb368",
   "metadata": {},
   "outputs": [],
   "source": [
    "def hacer_dataset_final ():\n",
    "    for i in "
   ]
  }
 ],
 "metadata": {
  "kernelspec": {
   "display_name": "Python 3",
   "language": "python",
   "name": "python3"
  },
  "language_info": {
   "codemirror_mode": {
    "name": "ipython",
    "version": 3
   },
   "file_extension": ".py",
   "mimetype": "text/x-python",
   "name": "python",
   "nbconvert_exporter": "python",
   "pygments_lexer": "ipython3",
   "version": "3.6.5"
  }
 },
 "nbformat": 4,
 "nbformat_minor": 5
}
